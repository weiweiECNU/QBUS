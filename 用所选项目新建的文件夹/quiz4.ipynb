{
 "cells": [
  {
   "cell_type": "code",
   "execution_count": 1,
   "metadata": {
    "ExecuteTime": {
     "end_time": "2019-10-23T14:59:06.106625Z",
     "start_time": "2019-10-23T14:59:05.281600Z"
    }
   },
   "outputs": [],
   "source": [
    "import pandas as pd\n",
    "import numpy as np\n"
   ]
  },
  {
   "cell_type": "code",
   "execution_count": 2,
   "metadata": {
    "ExecuteTime": {
     "end_time": "2019-10-23T14:59:06.702755Z",
     "start_time": "2019-10-23T14:59:06.111762Z"
    }
   },
   "outputs": [],
   "source": [
    "data = pd.read_excel(\"data.xlsx\")\n",
    "sigmas = pd.read_excel(\"sigma.xlsx\")\n",
    "#pd.read_csv('test.csv', index_col=0)\n",
    "P_temp = pd.read_excel(\"P.xlsx\")\n",
    "xm = pd.read_excel(\"xm.xlsx\")\n",
    "omigas = pd.read_excel(\"omiga.xlsx\")\n",
    "cap = pd.read_csv(\"Dow_Mkt_Caps (1).csv\")\n",
    "returns = pd.read_csv(\"Dow_Returns.csv\")\n"
   ]
  },
  {
   "cell_type": "code",
   "execution_count": 4,
   "metadata": {
    "ExecuteTime": {
     "end_time": "2019-10-23T14:59:18.901450Z",
     "start_time": "2019-10-23T14:59:18.866521Z"
    }
   },
   "outputs": [
    {
     "ename": "KeyError",
     "evalue": "'q'",
     "output_type": "error",
     "traceback": [
      "\u001b[0;31m---------------------------------------------------------------------------\u001b[0m",
      "\u001b[0;31mKeyError\u001b[0m                                  Traceback (most recent call last)",
      "\u001b[0;32m<ipython-input-4-784e9ea535ba>\u001b[0m in \u001b[0;36m<module>\u001b[0;34m\u001b[0m\n\u001b[1;32m      2\u001b[0m \u001b[0mq\u001b[0m \u001b[0;34m=\u001b[0m \u001b[0mP_temp\u001b[0m\u001b[0;34m[\u001b[0m\u001b[0;34m\"q\"\u001b[0m\u001b[0;34m]\u001b[0m\u001b[0;34m\u001b[0m\u001b[0;34m\u001b[0m\u001b[0m\n\u001b[1;32m      3\u001b[0m \u001b[0mP\u001b[0m \u001b[0;34m=\u001b[0m \u001b[0mP_temp\u001b[0m\u001b[0;34m.\u001b[0m\u001b[0miloc\u001b[0m\u001b[0;34m[\u001b[0m\u001b[0;34m:\u001b[0m\u001b[0;34m,\u001b[0m\u001b[0;36m1\u001b[0m\u001b[0;34m:\u001b[0m\u001b[0;34m-\u001b[0m\u001b[0;36m1\u001b[0m\u001b[0;34m]\u001b[0m\u001b[0;34m\u001b[0m\u001b[0;34m\u001b[0m\u001b[0m\n\u001b[0;32m----> 4\u001b[0;31m \u001b[0mxm\u001b[0m \u001b[0;34m=\u001b[0m \u001b[0mxm\u001b[0m\u001b[0;34m[\u001b[0m\u001b[0;34m\"q\"\u001b[0m\u001b[0;34m]\u001b[0m\u001b[0;34m\u001b[0m\u001b[0;34m\u001b[0m\u001b[0m\n\u001b[0m\u001b[1;32m      5\u001b[0m \u001b[0mo\u001b[0m \u001b[0;34m=\u001b[0m \u001b[0momigas\u001b[0m\u001b[0;34m.\u001b[0m\u001b[0miloc\u001b[0m\u001b[0;34m[\u001b[0m\u001b[0;34m:\u001b[0m\u001b[0;34m,\u001b[0m\u001b[0;36m1\u001b[0m\u001b[0;34m:\u001b[0m\u001b[0;34m]\u001b[0m\u001b[0;34m\u001b[0m\u001b[0;34m\u001b[0m\u001b[0m\n",
      "\u001b[0;32m//anaconda3/lib/python3.7/site-packages/pandas/core/series.py\u001b[0m in \u001b[0;36m__getitem__\u001b[0;34m(self, key)\u001b[0m\n\u001b[1;32m    866\u001b[0m         \u001b[0mkey\u001b[0m \u001b[0;34m=\u001b[0m \u001b[0mcom\u001b[0m\u001b[0;34m.\u001b[0m\u001b[0mapply_if_callable\u001b[0m\u001b[0;34m(\u001b[0m\u001b[0mkey\u001b[0m\u001b[0;34m,\u001b[0m \u001b[0mself\u001b[0m\u001b[0;34m)\u001b[0m\u001b[0;34m\u001b[0m\u001b[0;34m\u001b[0m\u001b[0m\n\u001b[1;32m    867\u001b[0m         \u001b[0;32mtry\u001b[0m\u001b[0;34m:\u001b[0m\u001b[0;34m\u001b[0m\u001b[0;34m\u001b[0m\u001b[0m\n\u001b[0;32m--> 868\u001b[0;31m             \u001b[0mresult\u001b[0m \u001b[0;34m=\u001b[0m \u001b[0mself\u001b[0m\u001b[0;34m.\u001b[0m\u001b[0mindex\u001b[0m\u001b[0;34m.\u001b[0m\u001b[0mget_value\u001b[0m\u001b[0;34m(\u001b[0m\u001b[0mself\u001b[0m\u001b[0;34m,\u001b[0m \u001b[0mkey\u001b[0m\u001b[0;34m)\u001b[0m\u001b[0;34m\u001b[0m\u001b[0;34m\u001b[0m\u001b[0m\n\u001b[0m\u001b[1;32m    869\u001b[0m \u001b[0;34m\u001b[0m\u001b[0m\n\u001b[1;32m    870\u001b[0m             \u001b[0;32mif\u001b[0m \u001b[0;32mnot\u001b[0m \u001b[0mis_scalar\u001b[0m\u001b[0;34m(\u001b[0m\u001b[0mresult\u001b[0m\u001b[0;34m)\u001b[0m\u001b[0;34m:\u001b[0m\u001b[0;34m\u001b[0m\u001b[0;34m\u001b[0m\u001b[0m\n",
      "\u001b[0;32m//anaconda3/lib/python3.7/site-packages/pandas/core/indexes/base.py\u001b[0m in \u001b[0;36mget_value\u001b[0;34m(self, series, key)\u001b[0m\n\u001b[1;32m   4373\u001b[0m         \u001b[0;32mtry\u001b[0m\u001b[0;34m:\u001b[0m\u001b[0;34m\u001b[0m\u001b[0;34m\u001b[0m\u001b[0m\n\u001b[1;32m   4374\u001b[0m             return self._engine.get_value(s, k,\n\u001b[0;32m-> 4375\u001b[0;31m                                           tz=getattr(series.dtype, 'tz', None))\n\u001b[0m\u001b[1;32m   4376\u001b[0m         \u001b[0;32mexcept\u001b[0m \u001b[0mKeyError\u001b[0m \u001b[0;32mas\u001b[0m \u001b[0me1\u001b[0m\u001b[0;34m:\u001b[0m\u001b[0;34m\u001b[0m\u001b[0;34m\u001b[0m\u001b[0m\n\u001b[1;32m   4377\u001b[0m             \u001b[0;32mif\u001b[0m \u001b[0mlen\u001b[0m\u001b[0;34m(\u001b[0m\u001b[0mself\u001b[0m\u001b[0;34m)\u001b[0m \u001b[0;34m>\u001b[0m \u001b[0;36m0\u001b[0m \u001b[0;32mand\u001b[0m \u001b[0;34m(\u001b[0m\u001b[0mself\u001b[0m\u001b[0;34m.\u001b[0m\u001b[0mholds_integer\u001b[0m\u001b[0;34m(\u001b[0m\u001b[0;34m)\u001b[0m \u001b[0;32mor\u001b[0m \u001b[0mself\u001b[0m\u001b[0;34m.\u001b[0m\u001b[0mis_boolean\u001b[0m\u001b[0;34m(\u001b[0m\u001b[0;34m)\u001b[0m\u001b[0;34m)\u001b[0m\u001b[0;34m:\u001b[0m\u001b[0;34m\u001b[0m\u001b[0;34m\u001b[0m\u001b[0m\n",
      "\u001b[0;32mpandas/_libs/index.pyx\u001b[0m in \u001b[0;36mpandas._libs.index.IndexEngine.get_value\u001b[0;34m()\u001b[0m\n",
      "\u001b[0;32mpandas/_libs/index.pyx\u001b[0m in \u001b[0;36mpandas._libs.index.IndexEngine.get_value\u001b[0;34m()\u001b[0m\n",
      "\u001b[0;32mpandas/_libs/index.pyx\u001b[0m in \u001b[0;36mpandas._libs.index.IndexEngine.get_loc\u001b[0;34m()\u001b[0m\n",
      "\u001b[0;32mpandas/_libs/index_class_helper.pxi\u001b[0m in \u001b[0;36mpandas._libs.index.Int64Engine._check_type\u001b[0;34m()\u001b[0m\n",
      "\u001b[0;31mKeyError\u001b[0m: 'q'"
     ]
    }
   ],
   "source": [
    "sigma = sigmas.iloc[:,1:]\n",
    "q = P_temp[\"q\"]\n",
    "P = P_temp.iloc[:,1:-1]\n",
    "xm = xm[\"q\"]\n",
    "o = omigas.iloc[:,1:]"
   ]
  },
  {
   "cell_type": "code",
   "execution_count": null,
   "metadata": {
    "ExecuteTime": {
     "end_time": "2019-10-23T14:59:06.955444Z",
     "start_time": "2019-10-23T14:59:05.261Z"
    }
   },
   "outputs": [],
   "source": [
    "omigas"
   ]
  },
  {
   "cell_type": "code",
   "execution_count": null,
   "metadata": {
    "ExecuteTime": {
     "end_time": "2019-10-23T14:59:06.960483Z",
     "start_time": "2019-10-23T14:59:05.263Z"
    }
   },
   "outputs": [],
   "source": [
    "caps = cap.iloc[:,1:]"
   ]
  },
  {
   "cell_type": "code",
   "execution_count": null,
   "metadata": {
    "ExecuteTime": {
     "end_time": "2019-10-23T14:59:06.962710Z",
     "start_time": "2019-10-23T14:59:05.264Z"
    }
   },
   "outputs": [],
   "source": [
    "caps['Row_sum'] = caps.apply(lambda x: x.sum(), axis=1)"
   ]
  },
  {
   "cell_type": "code",
   "execution_count": null,
   "metadata": {
    "ExecuteTime": {
     "end_time": "2019-10-23T14:59:06.965207Z",
     "start_time": "2019-10-23T14:59:05.266Z"
    }
   },
   "outputs": [],
   "source": [
    "weight = caps.apply(lambda x: x/x.sum(), axis=1)"
   ]
  },
  {
   "cell_type": "code",
   "execution_count": null,
   "metadata": {
    "ExecuteTime": {
     "end_time": "2019-10-23T14:59:06.970883Z",
     "start_time": "2019-10-23T14:59:05.267Z"
    }
   },
   "outputs": [],
   "source": [
    "weight.shape"
   ]
  },
  {
   "cell_type": "code",
   "execution_count": null,
   "metadata": {
    "ExecuteTime": {
     "end_time": "2019-10-23T14:59:06.972751Z",
     "start_time": "2019-10-23T14:59:05.268Z"
    }
   },
   "outputs": [],
   "source": [
    "return_s = returns.iloc[:,1:]\n",
    "return_s"
   ]
  },
  {
   "cell_type": "code",
   "execution_count": null,
   "metadata": {
    "ExecuteTime": {
     "end_time": "2019-10-23T14:59:06.974924Z",
     "start_time": "2019-10-23T14:59:05.270Z"
    }
   },
   "outputs": [],
   "source": [
    "rf = data.iloc[:,-1]\n",
    " "
   ]
  },
  {
   "cell_type": "code",
   "execution_count": null,
   "metadata": {
    "ExecuteTime": {
     "end_time": "2019-10-23T14:59:06.981187Z",
     "start_time": "2019-10-23T14:59:05.271Z"
    }
   },
   "outputs": [],
   "source": [
    "# a = np.array([[1,2],[2,4],[3,5],[4,6]])\n",
    "# b = np.array([[0.1,0.9],[0.2,0.8],[0.3,0.7],[0.4,0.6]])"
   ]
  },
  {
   "cell_type": "code",
   "execution_count": null,
   "metadata": {
    "ExecuteTime": {
     "end_time": "2019-10-23T14:59:06.989084Z",
     "start_time": "2019-10-23T14:59:05.272Z"
    }
   },
   "outputs": [],
   "source": [
    "# a.dot(b.T)[:,0]"
   ]
  },
  {
   "cell_type": "code",
   "execution_count": null,
   "metadata": {
    "ExecuteTime": {
     "end_time": "2019-10-23T14:59:06.999670Z",
     "start_time": "2019-10-23T14:59:05.274Z"
    }
   },
   "outputs": [],
   "source": [
    "market_return =  np.dot(return_s, weight.T)[:,0]"
   ]
  },
  {
   "cell_type": "code",
   "execution_count": null,
   "metadata": {
    "ExecuteTime": {
     "end_time": "2019-10-23T14:59:07.014497Z",
     "start_time": "2019-10-23T14:59:05.275Z"
    }
   },
   "outputs": [],
   "source": [
    "# 会变\n",
    "# indics = [0:252]\n",
    "x = data.iloc[:252,1:-1]"
   ]
  },
  {
   "cell_type": "code",
   "execution_count": null,
   "metadata": {
    "ExecuteTime": {
     "end_time": "2019-10-23T14:59:07.020286Z",
     "start_time": "2019-10-23T14:59:05.277Z"
    }
   },
   "outputs": [],
   "source": [
    "beta = return_s.apply(lambda x: x-rf/(market_return-rf))\n"
   ]
  },
  {
   "cell_type": "code",
   "execution_count": null,
   "metadata": {
    "ExecuteTime": {
     "end_time": "2019-10-23T14:59:07.032624Z",
     "start_time": "2019-10-23T14:59:05.279Z"
    }
   },
   "outputs": [],
   "source": [
    "vol = np.std(market_return,ddof=1)"
   ]
  },
  {
   "cell_type": "code",
   "execution_count": null,
   "metadata": {
    "ExecuteTime": {
     "end_time": "2019-10-23T14:59:07.037954Z",
     "start_time": "2019-10-23T14:59:05.280Z"
    }
   },
   "outputs": [],
   "source": [
    "P = np.eye(30)"
   ]
  },
  {
   "cell_type": "code",
   "execution_count": null,
   "metadata": {
    "ExecuteTime": {
     "end_time": "2019-10-23T14:59:07.042863Z",
     "start_time": "2019-10-23T14:59:05.282Z"
    }
   },
   "outputs": [],
   "source": [
    "omiga = P - np.dot((beta[:252] * vol).T, beta[:252])\n",
    "diagonal = np.diag_indices(omiga.shape[0])\n",
    "omiga = np.diag(omiga[diagonal])"
   ]
  },
  {
   "cell_type": "code",
   "execution_count": null,
   "metadata": {
    "ExecuteTime": {
     "end_time": "2019-10-23T14:59:07.045425Z",
     "start_time": "2019-10-23T14:59:05.283Z"
    }
   },
   "outputs": [],
   "source": [
    "sigma = np.cov(x.T)"
   ]
  },
  {
   "cell_type": "code",
   "execution_count": null,
   "metadata": {
    "ExecuteTime": {
     "end_time": "2019-10-23T14:59:07.047834Z",
     "start_time": "2019-10-23T14:59:05.285Z"
    }
   },
   "outputs": [],
   "source": [
    "omiga"
   ]
  },
  {
   "cell_type": "code",
   "execution_count": null,
   "metadata": {
    "ExecuteTime": {
     "end_time": "2019-10-23T14:53:34.039268Z",
     "start_time": "2019-10-23T14:53:34.032313Z"
    }
   },
   "outputs": [],
   "source": []
  },
  {
   "cell_type": "code",
   "execution_count": null,
   "metadata": {
    "ExecuteTime": {
     "end_time": "2019-10-23T14:59:07.069291Z",
     "start_time": "2019-10-23T14:59:05.288Z"
    }
   },
   "outputs": [],
   "source": [
    "np.trace(P - np.dot((beta[:252] * vol).T, beta[:252]))"
   ]
  },
  {
   "cell_type": "code",
   "execution_count": null,
   "metadata": {
    "ExecuteTime": {
     "end_time": "2019-10-23T14:59:07.076921Z",
     "start_time": "2019-10-23T14:59:05.291Z"
    }
   },
   "outputs": [],
   "source": [
    "np.dot(np.dot(P, sigma), P.T)/c"
   ]
  },
  {
   "cell_type": "code",
   "execution_count": null,
   "metadata": {
    "ExecuteTime": {
     "end_time": "2019-10-23T14:59:07.079439Z",
     "start_time": "2019-10-23T14:59:05.293Z"
    }
   },
   "outputs": [],
   "source": [
    "def func_expect(sigma, P, q, xm, o):\n",
    "    \"\"\"\n",
    "    Calculate the expect.\n",
    "    Attributes:\n",
    "        sigma: array\n",
    "        P: array\n",
    "        q: array\n",
    "        xm: array\n",
    "\n",
    "\n",
    "    Return:\n",
    "        expect: float\n",
    "\n",
    "    \"\"\"\n",
    "    \n",
    "    c = 0.95\n",
    "    t = 0.01\n",
    "    Am = 3\n",
    "    #o = np.dot(np.dot(P, sigma), P.T)/c\n",
    "\n",
    "    Pi = np.dot(Am * sigma, xm)\n",
    "\n",
    "    left = np.linalg.inv(np.linalg.inv(t*sigma) +\n",
    "                         np.dot(np.dot(P.T, np.linalg.inv(o)), P))\n",
    "    right = np.dot(np.linalg.inv(t*sigma), Pi) + \\\n",
    "        np.dot(np.dot(P.T, np.linalg.inv(o)), q).reshape(-1,1)\n",
    "    \n",
    "    r = np.dot(left, right)\n",
    "    active_portfolio = 1/3 * np.dot(np.linalg.inv(sigma),r)\n",
    "    return active_portfolio"
   ]
  },
  {
   "cell_type": "code",
   "execution_count": null,
   "metadata": {
    "ExecuteTime": {
     "end_time": "2019-10-23T14:59:07.080928Z",
     "start_time": "2019-10-23T14:59:05.296Z"
    }
   },
   "outputs": [],
   "source": [
    "func_expect(sigma, P, q, xm, o)"
   ]
  }
 ],
 "metadata": {
  "hide_input": false,
  "kernelspec": {
   "display_name": "Python 3",
   "language": "python",
   "name": "python3"
  },
  "language_info": {
   "codemirror_mode": {
    "name": "ipython",
    "version": 3
   },
   "file_extension": ".py",
   "mimetype": "text/x-python",
   "name": "python",
   "nbconvert_exporter": "python",
   "pygments_lexer": "ipython3",
   "version": "3.7.3"
  },
  "toc": {
   "base_numbering": 1,
   "nav_menu": {},
   "number_sections": true,
   "sideBar": true,
   "skip_h1_title": false,
   "title_cell": "Table of Contents",
   "title_sidebar": "Contents",
   "toc_cell": false,
   "toc_position": {},
   "toc_section_display": true,
   "toc_window_display": false
  },
  "varInspector": {
   "cols": {
    "lenName": 16,
    "lenType": 16,
    "lenVar": 40
   },
   "kernels_config": {
    "python": {
     "delete_cmd_postfix": "",
     "delete_cmd_prefix": "del ",
     "library": "var_list.py",
     "varRefreshCmd": "print(var_dic_list())"
    },
    "r": {
     "delete_cmd_postfix": ") ",
     "delete_cmd_prefix": "rm(",
     "library": "var_list.r",
     "varRefreshCmd": "cat(var_dic_list()) "
    }
   },
   "types_to_exclude": [
    "module",
    "function",
    "builtin_function_or_method",
    "instance",
    "_Feature"
   ],
   "window_display": true
  }
 },
 "nbformat": 4,
 "nbformat_minor": 2
}
