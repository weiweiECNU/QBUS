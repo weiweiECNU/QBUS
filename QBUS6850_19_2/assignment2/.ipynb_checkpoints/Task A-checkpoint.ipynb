{
 "cells": [
  {
   "cell_type": "markdown",
   "metadata": {},
   "source": [
    "# Assignment 2 Task A"
   ]
  },
  {
   "cell_type": "code",
   "execution_count": 1,
   "metadata": {
    "ExecuteTime": {
     "end_time": "2019-10-16T08:21:26.594596Z",
     "start_time": "2019-10-16T08:21:25.366018Z"
    }
   },
   "outputs": [],
   "source": [
    "import numpy as np\n",
    "import pandas as pd\n",
    "import matplotlib.pyplot as plt\n",
    "from sklearn import ensemble\n",
    "from sklearn.model_selection import train_test_split\n",
    "from sklearn.model_selection import GridSearchCV\n",
    "from sklearn.metrics import classification_report\n",
    "from sklearn.metrics import confusion_matrix\n",
    "import warnings\n",
    "import time\n",
    "\n",
    "from sklearn.feature_extraction.text import TfidfVectorizer\n"
   ]
  },
  {
   "cell_type": "code",
   "execution_count": 2,
   "metadata": {
    "ExecuteTime": {
     "end_time": "2019-10-16T08:21:26.623560Z",
     "start_time": "2019-10-16T08:21:26.599176Z"
    }
   },
   "outputs": [
    {
     "data": {
      "text/html": [
       "<div>\n",
       "<style scoped>\n",
       "    .dataframe tbody tr th:only-of-type {\n",
       "        vertical-align: middle;\n",
       "    }\n",
       "\n",
       "    .dataframe tbody tr th {\n",
       "        vertical-align: top;\n",
       "    }\n",
       "\n",
       "    .dataframe thead th {\n",
       "        text-align: right;\n",
       "    }\n",
       "</style>\n",
       "<table border=\"1\" class=\"dataframe\">\n",
       "  <thead>\n",
       "    <tr style=\"text-align: right;\">\n",
       "      <th></th>\n",
       "      <th>CONTENT</th>\n",
       "      <th>CLASS</th>\n",
       "    </tr>\n",
       "  </thead>\n",
       "  <tbody>\n",
       "    <tr>\n",
       "      <th>0</th>\n",
       "      <td>Since when has Katy Perry had her own YouTube ...</td>\n",
       "      <td>0</td>\n",
       "    </tr>\n",
       "    <tr>\n",
       "      <th>1</th>\n",
       "      <td>Sub my channel!﻿</td>\n",
       "      <td>1</td>\n",
       "    </tr>\n",
       "    <tr>\n",
       "      <th>2</th>\n",
       "      <td>ILove shakira ﻿</td>\n",
       "      <td>0</td>\n",
       "    </tr>\n",
       "    <tr>\n",
       "      <th>3</th>\n",
       "      <td>How did THIS Video in all of YouTube get this ...</td>\n",
       "      <td>0</td>\n",
       "    </tr>\n",
       "    <tr>\n",
       "      <th>4</th>\n",
       "      <td>Katy Perry - Roar (Official): http://youtu.be/...</td>\n",
       "      <td>0</td>\n",
       "    </tr>\n",
       "    <tr>\n",
       "      <th>5</th>\n",
       "      <td>Where did she find all that make up in a freak...</td>\n",
       "      <td>0</td>\n",
       "    </tr>\n",
       "    <tr>\n",
       "      <th>6</th>\n",
       "      <td>Check out this video on YouTube:﻿</td>\n",
       "      <td>1</td>\n",
       "    </tr>\n",
       "    <tr>\n",
       "      <th>7</th>\n",
       "      <td>Why dafuq is a Korean song so big in the USA. ...</td>\n",
       "      <td>0</td>\n",
       "    </tr>\n",
       "    <tr>\n",
       "      <th>8</th>\n",
       "      <td>5 years soon!﻿</td>\n",
       "      <td>0</td>\n",
       "    </tr>\n",
       "    <tr>\n",
       "      <th>9</th>\n",
       "      <td>this video is great .....!!! I love this.........</td>\n",
       "      <td>0</td>\n",
       "    </tr>\n",
       "    <tr>\n",
       "      <th>10</th>\n",
       "      <td>fave song﻿</td>\n",
       "      <td>0</td>\n",
       "    </tr>\n",
       "    <tr>\n",
       "      <th>11</th>\n",
       "      <td>epic﻿</td>\n",
       "      <td>0</td>\n",
       "    </tr>\n",
       "    <tr>\n",
       "      <th>12</th>\n",
       "      <td>I'm only checking the views﻿</td>\n",
       "      <td>0</td>\n",
       "    </tr>\n",
       "    <tr>\n",
       "      <th>13</th>\n",
       "      <td>awesome﻿</td>\n",
       "      <td>0</td>\n",
       "    </tr>\n",
       "    <tr>\n",
       "      <th>14</th>\n",
       "      <td>5 years ago damn ﻿</td>\n",
       "      <td>0</td>\n",
       "    </tr>\n",
       "    <tr>\n",
       "      <th>15</th>\n",
       "      <td>selfie alert﻿</td>\n",
       "      <td>0</td>\n",
       "    </tr>\n",
       "    <tr>\n",
       "      <th>16</th>\n",
       "      <td>subscribe to my pagee please.</td>\n",
       "      <td>1</td>\n",
       "    </tr>\n",
       "    <tr>\n",
       "      <th>17</th>\n",
       "      <td>Party rock due and duel﻿</td>\n",
       "      <td>0</td>\n",
       "    </tr>\n",
       "    <tr>\n",
       "      <th>18</th>\n",
       "      <td>OMG that looks just like a piece of the mirror...</td>\n",
       "      <td>0</td>\n",
       "    </tr>\n",
       "    <tr>\n",
       "      <th>19</th>\n",
       "      <td>please subscribe i am a new youtuber and need ...</td>\n",
       "      <td>1</td>\n",
       "    </tr>\n",
       "    <tr>\n",
       "      <th>20</th>\n",
       "      <td>very good song:)﻿</td>\n",
       "      <td>0</td>\n",
       "    </tr>\n",
       "    <tr>\n",
       "      <th>21</th>\n",
       "      <td>I am now going to voyage to the first comment....</td>\n",
       "      <td>0</td>\n",
       "    </tr>\n",
       "    <tr>\n",
       "      <th>22</th>\n",
       "      <td>I found out this song now﻿</td>\n",
       "      <td>0</td>\n",
       "    </tr>\n",
       "    <tr>\n",
       "      <th>23</th>\n",
       "      <td>I love this song and expect the World Cup .﻿</td>\n",
       "      <td>0</td>\n",
       "    </tr>\n",
       "    <tr>\n",
       "      <th>24</th>\n",
       "      <td>OMG I LOVE YOU KATY PARRY YOUR SONGS ROCK!!!!!...</td>\n",
       "      <td>0</td>\n",
       "    </tr>\n",
       "    <tr>\n",
       "      <th>25</th>\n",
       "      <td>how does this video have 2,127,322,484 views i...</td>\n",
       "      <td>0</td>\n",
       "    </tr>\n",
       "    <tr>\n",
       "      <th>26</th>\n",
       "      <td>Its funny because I listen to rock and death m...</td>\n",
       "      <td>0</td>\n",
       "    </tr>\n",
       "    <tr>\n",
       "      <th>27</th>\n",
       "      <td>Οh my god ... Roar is the most liked video at ...</td>\n",
       "      <td>0</td>\n",
       "    </tr>\n",
       "    <tr>\n",
       "      <th>28</th>\n",
       "      <td>wow</td>\n",
       "      <td>0</td>\n",
       "    </tr>\n",
       "    <tr>\n",
       "      <th>29</th>\n",
       "      <td>Fuck you Eminem﻿</td>\n",
       "      <td>0</td>\n",
       "    </tr>\n",
       "    <tr>\n",
       "      <th>...</th>\n",
       "      <td>...</td>\n",
       "      <td>...</td>\n",
       "    </tr>\n",
       "    <tr>\n",
       "      <th>1145</th>\n",
       "      <td>Like this in 2015! :D﻿</td>\n",
       "      <td>0</td>\n",
       "    </tr>\n",
       "    <tr>\n",
       "      <th>1146</th>\n",
       "      <td>Love this video and the song of course﻿</td>\n",
       "      <td>0</td>\n",
       "    </tr>\n",
       "    <tr>\n",
       "      <th>1147</th>\n",
       "      <td>Shakira</td>\n",
       "      <td>0</td>\n",
       "    </tr>\n",
       "    <tr>\n",
       "      <th>1148</th>\n",
       "      <td>Who is watching in 2015 like﻿</td>\n",
       "      <td>0</td>\n",
       "    </tr>\n",
       "    <tr>\n",
       "      <th>1149</th>\n",
       "      <td>This is so stupid. If you Roared at a Lion in ...</td>\n",
       "      <td>0</td>\n",
       "    </tr>\n",
       "    <tr>\n",
       "      <th>1150</th>\n",
       "      <td>https://www.indiegogo.com/projects/cleaning-th...</td>\n",
       "      <td>1</td>\n",
       "    </tr>\n",
       "    <tr>\n",
       "      <th>1151</th>\n",
       "      <td>Wow I love it ﻿</td>\n",
       "      <td>0</td>\n",
       "    </tr>\n",
       "    <tr>\n",
       "      <th>1152</th>\n",
       "      <td>this song is fu cking awesom!!!!!!!﻿</td>\n",
       "      <td>0</td>\n",
       "    </tr>\n",
       "    <tr>\n",
       "      <th>1153</th>\n",
       "      <td>I remember when everyone was obsessed with Gan...</td>\n",
       "      <td>0</td>\n",
       "    </tr>\n",
       "    <tr>\n",
       "      <th>1154</th>\n",
       "      <td>You are the music hero😍😎﻿</td>\n",
       "      <td>0</td>\n",
       "    </tr>\n",
       "    <tr>\n",
       "      <th>1155</th>\n",
       "      <td>Hi, nice song Shakira! (Sorry for bad Brazilian)﻿</td>\n",
       "      <td>0</td>\n",
       "    </tr>\n",
       "    <tr>\n",
       "      <th>1156</th>\n",
       "      <td>Love this song so much! One of my faves! Xxx﻿</td>\n",
       "      <td>0</td>\n",
       "    </tr>\n",
       "    <tr>\n",
       "      <th>1157</th>\n",
       "      <td>Check out my music niggas﻿</td>\n",
       "      <td>1</td>\n",
       "    </tr>\n",
       "    <tr>\n",
       "      <th>1158</th>\n",
       "      <td>tension⤴︎⤴︎﻿</td>\n",
       "      <td>0</td>\n",
       "    </tr>\n",
       "    <tr>\n",
       "      <th>1159</th>\n",
       "      <td>2015 but Im still listening to this!﻿</td>\n",
       "      <td>0</td>\n",
       "    </tr>\n",
       "    <tr>\n",
       "      <th>1160</th>\n",
       "      <td>Shakira :-*</td>\n",
       "      <td>0</td>\n",
       "    </tr>\n",
       "    <tr>\n",
       "      <th>1161</th>\n",
       "      <td>Check out this playlist on YouTube:👿👳👳👳👳👳﻿</td>\n",
       "      <td>1</td>\n",
       "    </tr>\n",
       "    <tr>\n",
       "      <th>1162</th>\n",
       "      <td>Love your songs&lt;br /&gt;Supper cool&lt;br /&gt;﻿</td>\n",
       "      <td>0</td>\n",
       "    </tr>\n",
       "    <tr>\n",
       "      <th>1163</th>\n",
       "      <td>Love you shkira﻿</td>\n",
       "      <td>0</td>\n",
       "    </tr>\n",
       "    <tr>\n",
       "      <th>1164</th>\n",
       "      <td>I love you</td>\n",
       "      <td>0</td>\n",
       "    </tr>\n",
       "    <tr>\n",
       "      <th>1165</th>\n",
       "      <td>WAT DA FUCK THIS THE MOST VIEWED VIDEO IN YOUT...</td>\n",
       "      <td>0</td>\n",
       "    </tr>\n",
       "    <tr>\n",
       "      <th>1166</th>\n",
       "      <td>I love this song because we sing it at Camp al...</td>\n",
       "      <td>0</td>\n",
       "    </tr>\n",
       "    <tr>\n",
       "      <th>1167</th>\n",
       "      <td>To help shakira become the first female to hit...</td>\n",
       "      <td>0</td>\n",
       "    </tr>\n",
       "    <tr>\n",
       "      <th>1168</th>\n",
       "      <td>Boooobs﻿</td>\n",
       "      <td>0</td>\n",
       "    </tr>\n",
       "    <tr>\n",
       "      <th>1169</th>\n",
       "      <td>Katy Perry is part of me Katy Perry is my fire...</td>\n",
       "      <td>0</td>\n",
       "    </tr>\n",
       "    <tr>\n",
       "      <th>1170</th>\n",
       "      <td>Ching Ching ling long ding ring yaaaaaa Ganga ...</td>\n",
       "      <td>0</td>\n",
       "    </tr>\n",
       "    <tr>\n",
       "      <th>1171</th>\n",
       "      <td>Is that girl is Megan fox ﻿</td>\n",
       "      <td>0</td>\n",
       "    </tr>\n",
       "    <tr>\n",
       "      <th>1172</th>\n",
       "      <td>shakira is the best!</td>\n",
       "      <td>0</td>\n",
       "    </tr>\n",
       "    <tr>\n",
       "      <th>1173</th>\n",
       "      <td>I loved this song when I was in my teenage yea...</td>\n",
       "      <td>0</td>\n",
       "    </tr>\n",
       "    <tr>\n",
       "      <th>1174</th>\n",
       "      <td>LOL this shit never gets old﻿</td>\n",
       "      <td>0</td>\n",
       "    </tr>\n",
       "  </tbody>\n",
       "</table>\n",
       "<p>1175 rows × 2 columns</p>\n",
       "</div>"
      ],
      "text/plain": [
       "                                                CONTENT  CLASS\n",
       "0     Since when has Katy Perry had her own YouTube ...      0\n",
       "1                                      Sub my channel!﻿      1\n",
       "2                                       ILove shakira ﻿      0\n",
       "3     How did THIS Video in all of YouTube get this ...      0\n",
       "4     Katy Perry - Roar (Official): http://youtu.be/...      0\n",
       "5     Where did she find all that make up in a freak...      0\n",
       "6                     Check out this video on YouTube:﻿      1\n",
       "7     Why dafuq is a Korean song so big in the USA. ...      0\n",
       "8                                        5 years soon!﻿      0\n",
       "9     this video is great .....!!! I love this.........      0\n",
       "10                                           fave song﻿      0\n",
       "11                                                epic﻿      0\n",
       "12                         I'm only checking the views﻿      0\n",
       "13                                             awesome﻿      0\n",
       "14                                   5 years ago damn ﻿      0\n",
       "15                                        selfie alert﻿      0\n",
       "16                        subscribe to my pagee please.      1\n",
       "17                             Party rock due and duel﻿      0\n",
       "18    OMG that looks just like a piece of the mirror...      0\n",
       "19    please subscribe i am a new youtuber and need ...      1\n",
       "20                                    very good song:)﻿      0\n",
       "21    I am now going to voyage to the first comment....      0\n",
       "22                           I found out this song now﻿      0\n",
       "23         I love this song and expect the World Cup .﻿      0\n",
       "24    OMG I LOVE YOU KATY PARRY YOUR SONGS ROCK!!!!!...      0\n",
       "25    how does this video have 2,127,322,484 views i...      0\n",
       "26    Its funny because I listen to rock and death m...      0\n",
       "27    Οh my god ... Roar is the most liked video at ...      0\n",
       "28                                                  wow      0\n",
       "29                                     Fuck you Eminem﻿      0\n",
       "...                                                 ...    ...\n",
       "1145                             Like this in 2015! :D﻿      0\n",
       "1146            Love this video and the song of course﻿      0\n",
       "1147                                            Shakira      0\n",
       "1148                      Who is watching in 2015 like﻿      0\n",
       "1149  This is so stupid. If you Roared at a Lion in ...      0\n",
       "1150  https://www.indiegogo.com/projects/cleaning-th...      1\n",
       "1151                                    Wow I love it ﻿      0\n",
       "1152               this song is fu cking awesom!!!!!!!﻿      0\n",
       "1153  I remember when everyone was obsessed with Gan...      0\n",
       "1154                          You are the music hero😍😎﻿      0\n",
       "1155  Hi, nice song Shakira! (Sorry for bad Brazilian)﻿      0\n",
       "1156      Love this song so much! One of my faves! Xxx﻿      0\n",
       "1157                         Check out my music niggas﻿      1\n",
       "1158                                       tension⤴︎⤴︎﻿      0\n",
       "1159              2015 but Im still listening to this!﻿      0\n",
       "1160                                        Shakira :-*      0\n",
       "1161         Check out this playlist on YouTube:👿👳👳👳👳👳﻿      1\n",
       "1162            Love your songs<br />Supper cool<br />﻿      0\n",
       "1163                                   Love you shkira﻿      0\n",
       "1164                                         I love you      0\n",
       "1165  WAT DA FUCK THIS THE MOST VIEWED VIDEO IN YOUT...      0\n",
       "1166  I love this song because we sing it at Camp al...      0\n",
       "1167  To help shakira become the first female to hit...      0\n",
       "1168                                           Boooobs﻿      0\n",
       "1169  Katy Perry is part of me Katy Perry is my fire...      0\n",
       "1170  Ching Ching ling long ding ring yaaaaaa Ganga ...      0\n",
       "1171                        Is that girl is Megan fox ﻿      0\n",
       "1172                               shakira is the best!      0\n",
       "1173  I loved this song when I was in my teenage yea...      0\n",
       "1174                      LOL this shit never gets old﻿      0\n",
       "\n",
       "[1175 rows x 2 columns]"
      ]
     },
     "execution_count": 2,
     "metadata": {},
     "output_type": "execute_result"
    }
   ],
   "source": [
    "comment = pd.read_csv(\"User_Comments.csv\")\n",
    "comment"
   ]
  },
  {
   "cell_type": "code",
   "execution_count": 3,
   "metadata": {
    "ExecuteTime": {
     "end_time": "2019-10-16T08:21:26.635738Z",
     "start_time": "2019-10-16T08:21:26.628780Z"
    }
   },
   "outputs": [],
   "source": [
    "X = comment[\"CONTENT\"]\n",
    "y = comment['CLASS']\n",
    "\n",
    "X_train, X_test, y_train, y_test = train_test_split(X, y, random_state=0)"
   ]
  },
  {
   "cell_type": "markdown",
   "metadata": {},
   "source": [
    "## TFIDF "
   ]
  },
  {
   "cell_type": "code",
   "execution_count": 4,
   "metadata": {
    "ExecuteTime": {
     "end_time": "2019-10-16T08:21:26.693148Z",
     "start_time": "2019-10-16T08:21:26.640059Z"
    }
   },
   "outputs": [],
   "source": [
    "tfidf_vectorizer = TfidfVectorizer(analyzer='word', ngram_range=(1, 3), min_df=3, max_df=0.67, stop_words='english')\n",
    "\n",
    "tfidf = tfidf_vectorizer.fit_transform(X_train)"
   ]
  },
  {
   "cell_type": "code",
   "execution_count": 5,
   "metadata": {
    "ExecuteTime": {
     "end_time": "2019-10-16T08:21:26.717842Z",
     "start_time": "2019-10-16T08:21:26.695117Z"
    }
   },
   "outputs": [
    {
     "data": {
      "text/plain": [
       "['000',\n",
       " '000 000',\n",
       " '000 000 views',\n",
       " '000 views',\n",
       " '100',\n",
       " '15',\n",
       " '20',\n",
       " '2011',\n",
       " '2014',\n",
       " '2015',\n",
       " '25',\n",
       " '39',\n",
       " '39 watching',\n",
       " '9bzkp7q19f0',\n",
       " 'absolutely',\n",
       " 'actually',\n",
       " 'adf',\n",
       " 'adf ly',\n",
       " 'africa',\n",
       " 'african',\n",
       " 'ago',\n",
       " 'amazing',\n",
       " 'american',\n",
       " 'amp',\n",
       " 'animals',\n",
       " 'appreciate',\n",
       " 'artist',\n",
       " 'ass',\n",
       " 'attention',\n",
       " 'awesome',\n",
       " 'baby',\n",
       " 'bad',\n",
       " 'beautiful',\n",
       " 'beautiful song',\n",
       " 'believe',\n",
       " 'bennett',\n",
       " 'best',\n",
       " 'best song',\n",
       " 'best songs',\n",
       " 'best world',\n",
       " 'best world cup',\n",
       " 'better',\n",
       " 'big',\n",
       " 'big fan',\n",
       " 'billion',\n",
       " 'billion views',\n",
       " 'bit',\n",
       " 'black',\n",
       " 'boy',\n",
       " 'br',\n",
       " 'br br',\n",
       " 'br br br',\n",
       " 'br href',\n",
       " 'br href http',\n",
       " 'buy',\n",
       " 'called',\n",
       " 'came',\n",
       " 'came check',\n",
       " 'cevxzvsjlk8',\n",
       " 'champion',\n",
       " 'chance',\n",
       " 'change',\n",
       " 'channel',\n",
       " 'channel br',\n",
       " 'charlie',\n",
       " 'charlie lost',\n",
       " 'check',\n",
       " 'check channel',\n",
       " 'check new',\n",
       " 'check playlist',\n",
       " 'check playlist youtube',\n",
       " 'check video',\n",
       " 'check video youtube',\n",
       " 'check views',\n",
       " 'checking',\n",
       " 'checking views',\n",
       " 'com',\n",
       " 'com projects',\n",
       " 'com ref',\n",
       " 'com watch',\n",
       " 'come',\n",
       " 'coming',\n",
       " 'comment',\n",
       " 'comments',\n",
       " 'completely',\n",
       " 'cool',\n",
       " 'cover',\n",
       " 'crazy',\n",
       " 'cup',\n",
       " 'cup song',\n",
       " 'cute',\n",
       " 'da',\n",
       " 'dance',\n",
       " 'day',\n",
       " 'dick',\n",
       " 'did',\n",
       " 'didn',\n",
       " 'didn 39',\n",
       " 'dislike',\n",
       " 'does',\n",
       " 'doesn',\n",
       " 'doing',\n",
       " 'don',\n",
       " 'don 39',\n",
       " 'dont',\n",
       " 'dream',\n",
       " 'earth',\n",
       " 'elephant',\n",
       " 'eminem',\n",
       " 'end',\n",
       " 'enjoy',\n",
       " 'epic',\n",
       " 'everybody',\n",
       " 'everyday',\n",
       " 'everyday 39',\n",
       " 'face',\n",
       " 'facebook',\n",
       " 'facebook com',\n",
       " 'family',\n",
       " 'fan',\n",
       " 'fans',\n",
       " 'fantastic',\n",
       " 'favorite',\n",
       " 'favorite song',\n",
       " 'feel',\n",
       " 'female',\n",
       " 'follow',\n",
       " 'fox',\n",
       " 'free',\n",
       " 'friend',\n",
       " 'fuck',\n",
       " 'fucking',\n",
       " 'funny',\n",
       " 'gangnam',\n",
       " 'gangnam style',\n",
       " 'gangnam style 강남스타일',\n",
       " 'gets',\n",
       " 'gets old',\n",
       " 'getting',\n",
       " 'gift',\n",
       " 'girl',\n",
       " 'girls',\n",
       " 'gives',\n",
       " 'god',\n",
       " 'gofundme',\n",
       " 'gofundme com',\n",
       " 'going',\n",
       " 'gonna',\n",
       " 'good',\n",
       " 'good song',\n",
       " 'google',\n",
       " 'google com',\n",
       " 'got',\n",
       " 'great',\n",
       " 'great song',\n",
       " 'gt',\n",
       " 'guy',\n",
       " 'guys',\n",
       " 'guys check',\n",
       " 'hackfbaccountlive',\n",
       " 'hackfbaccountlive com',\n",
       " 'hackfbaccountlive com ref',\n",
       " 'hahahahah',\n",
       " 'hair',\n",
       " 'happy',\n",
       " 'hate',\n",
       " 'head',\n",
       " 'hear',\n",
       " 'heard',\n",
       " 'hello',\n",
       " 'help',\n",
       " 'hey',\n",
       " 'hey guys',\n",
       " 'hi',\n",
       " 'hit',\n",
       " 'holy',\n",
       " 'home',\n",
       " 'hope',\n",
       " 'hot',\n",
       " 'href',\n",
       " 'href http',\n",
       " 'href http www',\n",
       " 'href https',\n",
       " 'http',\n",
       " 'http hackfbaccountlive',\n",
       " 'http hackfbaccountlive com',\n",
       " 'http shhort',\n",
       " 'http shhort com',\n",
       " 'http www',\n",
       " 'http youtu',\n",
       " 'http youtu 9bzkp7q19f0',\n",
       " 'http youtu cevxzvsjlk8',\n",
       " 'https',\n",
       " 'https plus',\n",
       " 'https plus google',\n",
       " 'https www',\n",
       " 'https www facebook',\n",
       " 'https www indiegogo',\n",
       " 'im',\n",
       " 'indiegogo',\n",
       " 'indiegogo com',\n",
       " 'indiegogo com projects',\n",
       " 'insane',\n",
       " 'isn',\n",
       " 'itunes',\n",
       " 'job',\n",
       " 'jungle',\n",
       " 'just',\n",
       " 'just like',\n",
       " 'katty',\n",
       " 'katy',\n",
       " 'katy perry',\n",
       " 'katy perry roar',\n",
       " 'know',\n",
       " 'knows',\n",
       " 'korean',\n",
       " 'kq6zr6kcpj8',\n",
       " 'later',\n",
       " 'let',\n",
       " 'lets',\n",
       " 'lie',\n",
       " 'life',\n",
       " 'like',\n",
       " 'like comment',\n",
       " 'like katy',\n",
       " 'like katy perry',\n",
       " 'like song',\n",
       " 'liked',\n",
       " 'likes',\n",
       " 'listen',\n",
       " 'listening',\n",
       " 'little',\n",
       " 'live',\n",
       " 'll',\n",
       " 'lmfao',\n",
       " 'lol',\n",
       " 'look',\n",
       " 'looks',\n",
       " 'lost',\n",
       " 'lot',\n",
       " 'love',\n",
       " 'love katy',\n",
       " 'love katy perry',\n",
       " 'love shakira',\n",
       " 'love song',\n",
       " 'love song makes',\n",
       " 'love songs',\n",
       " 'loved',\n",
       " 'loves',\n",
       " 'loving',\n",
       " 'lt',\n",
       " 'ly',\n",
       " 'lyrics',\n",
       " 'make',\n",
       " 'make money',\n",
       " 'make music',\n",
       " 'makes',\n",
       " 'makeup',\n",
       " 'man',\n",
       " 'maybe',\n",
       " 'mean',\n",
       " 'megan',\n",
       " 'megan fox',\n",
       " 'meh',\n",
       " 'memories',\n",
       " 'message',\n",
       " 'million',\n",
       " 'million people',\n",
       " 'million views',\n",
       " 'millions',\n",
       " 'mind',\n",
       " 'miss',\n",
       " 'money',\n",
       " 'music',\n",
       " 'music video',\n",
       " 'need',\n",
       " 'needed',\n",
       " 'new',\n",
       " 'nice',\n",
       " 'nice song',\n",
       " 'official',\n",
       " 'official http',\n",
       " 'official http youtu',\n",
       " 'oh',\n",
       " 'old',\n",
       " 'old love',\n",
       " 'omg',\n",
       " 'original',\n",
       " 'page',\n",
       " 'party',\n",
       " 'party rock',\n",
       " 'people',\n",
       " 'people world',\n",
       " 'perfect',\n",
       " 'perry',\n",
       " 'perry roar',\n",
       " 'perry roar official',\n",
       " 'person',\n",
       " 'php',\n",
       " 'piece',\n",
       " 'play',\n",
       " 'playlist',\n",
       " 'playlist youtube',\n",
       " 'plus',\n",
       " 'plus google',\n",
       " 'plus google com',\n",
       " 'pop',\n",
       " 'popular',\n",
       " 'pray',\n",
       " 'pretty',\n",
       " 'projects',\n",
       " 'psy',\n",
       " 'psy gangnam',\n",
       " 'psy gangnam style',\n",
       " 'quite',\n",
       " 'quot',\n",
       " 'rap',\n",
       " 'rapper',\n",
       " 'reach',\n",
       " 'reach billion',\n",
       " 'read',\n",
       " 'reading',\n",
       " 'real',\n",
       " 'real music',\n",
       " 'really',\n",
       " 'ref',\n",
       " 'remember',\n",
       " 'right',\n",
       " 'rihanna',\n",
       " 'roar',\n",
       " 'roar official',\n",
       " 'roar official http',\n",
       " 'robot',\n",
       " 'rock',\n",
       " 'rocks',\n",
       " 'sad',\n",
       " 'saw',\n",
       " 'say',\n",
       " 'saying',\n",
       " 'school',\n",
       " 'search',\n",
       " 'seriously',\n",
       " 'sexy',\n",
       " 'shakira',\n",
       " 'share',\n",
       " 'shhort',\n",
       " 'shhort com',\n",
       " 'shirt',\n",
       " 'shit',\n",
       " 'shuffle',\n",
       " 'shufflin',\n",
       " 'shuffling',\n",
       " 'singer',\n",
       " 'site',\n",
       " 'sites',\n",
       " 'skills',\n",
       " 'smile',\n",
       " 'soccer',\n",
       " 'song',\n",
       " 'song br',\n",
       " 'song just',\n",
       " 'song like',\n",
       " 'song makes',\n",
       " 'song old',\n",
       " 'song video',\n",
       " 'songs',\n",
       " 'soon',\n",
       " 'sorry',\n",
       " 'sounds',\n",
       " 'spam',\n",
       " 'stand',\n",
       " 'started',\n",
       " 'stop',\n",
       " 'stupid',\n",
       " 'style',\n",
       " 'style 강남스타일',\n",
       " 'style 강남스타일 http',\n",
       " 'subscribe',\n",
       " 'subscribe channel',\n",
       " 'subscribers',\n",
       " 'successful',\n",
       " 'suck',\n",
       " 'super',\n",
       " 'support',\n",
       " 'sure',\n",
       " 'team',\n",
       " 'tell',\n",
       " 'thank',\n",
       " 'thanks',\n",
       " 'thing',\n",
       " 'think',\n",
       " 'thumbs',\n",
       " 'tiger',\n",
       " 'time',\n",
       " 'times',\n",
       " 'today',\n",
       " 'tv',\n",
       " 'twitter',\n",
       " 'understand',\n",
       " 'ur',\n",
       " 've',\n",
       " 'video',\n",
       " 'video awesome',\n",
       " 'video billion',\n",
       " 'video billion views',\n",
       " 'video youtube',\n",
       " 'videos',\n",
       " 'viewed',\n",
       " 'viewed video',\n",
       " 'views',\n",
       " 'views million',\n",
       " 'visit',\n",
       " 'voice',\n",
       " 'vote',\n",
       " 'waka',\n",
       " 'waka waka',\n",
       " 'wanna',\n",
       " 'want',\n",
       " 'wanted',\n",
       " 'watch',\n",
       " 'watched',\n",
       " 'watching',\n",
       " 'watching 2015',\n",
       " 'way',\n",
       " 'website',\n",
       " 'weird',\n",
       " 'white',\n",
       " 'wish',\n",
       " 'women',\n",
       " 'world',\n",
       " 'world cup',\n",
       " 'world cup song',\n",
       " 'wow',\n",
       " 'wrong',\n",
       " 'www',\n",
       " 'www facebook',\n",
       " 'www facebook com',\n",
       " 'www indiegogo',\n",
       " 'www indiegogo com',\n",
       " 'www youtube',\n",
       " 'www youtube com',\n",
       " 'xd',\n",
       " 'yeah',\n",
       " 'year',\n",
       " 'years',\n",
       " 'years ago',\n",
       " 'years old',\n",
       " 'youtu',\n",
       " 'youtu 9bzkp7q19f0',\n",
       " 'youtu cevxzvsjlk8',\n",
       " 'youtube',\n",
       " 'youtube br',\n",
       " 'youtube com',\n",
       " 'youtube com watch',\n",
       " 'youtuber',\n",
       " '강남스타일',\n",
       " '강남스타일 http',\n",
       " '강남스타일 http youtu']"
      ]
     },
     "execution_count": 5,
     "metadata": {},
     "output_type": "execute_result"
    }
   ],
   "source": [
    "tfidf_vectorizer.get_feature_names()"
   ]
  },
  {
   "cell_type": "markdown",
   "metadata": {
    "ExecuteTime": {
     "end_time": "2019-10-15T08:07:53.344772Z",
     "start_time": "2019-10-15T08:07:53.340820Z"
    }
   },
   "source": [
    "## Random Forest"
   ]
  },
  {
   "cell_type": "code",
   "execution_count": 6,
   "metadata": {
    "ExecuteTime": {
     "end_time": "2019-10-16T08:21:54.810186Z",
     "start_time": "2019-10-16T08:21:26.720443Z"
    }
   },
   "outputs": [
    {
     "name": "stdout",
     "output_type": "stream",
     "text": [
      "Running....\n",
      "Training time: 28.0828s\n"
     ]
    }
   ],
   "source": [
    "parameters = {'n_estimators': np.arange(1, 200, 5),\n",
    "#               'max_depth': np.arange(1, 40, 2),\n",
    "#               \"max_features\": np.arange(0.2, 0.5, 0.1),\n",
    "             }\n",
    "\n",
    "\n",
    "rf = ensemble.RandomForestClassifier(class_weight='balanced')\n",
    "clf_cv = GridSearchCV(rf, parameters, cv=5, return_train_score=True)\n",
    "\n",
    "print(\"Running....\")\n",
    "tic = time.time()\n",
    "clf_cv.fit(tfidf, y_train)\n",
    "\n",
    "toc = time.time()\n",
    "print(\"Training time: {0:.4f}s\".format(toc - tic))"
   ]
  },
  {
   "cell_type": "code",
   "execution_count": 7,
   "metadata": {
    "ExecuteTime": {
     "end_time": "2019-10-16T08:21:54.819932Z",
     "start_time": "2019-10-16T08:21:54.813713Z"
    }
   },
   "outputs": [
    {
     "name": "stdout",
     "output_type": "stream",
     "text": [
      "RandomForestClassifier(bootstrap=True, class_weight='balanced',\n",
      "                       criterion='gini', max_depth=None, max_features='auto',\n",
      "                       max_leaf_nodes=None, min_impurity_decrease=0.0,\n",
      "                       min_impurity_split=None, min_samples_leaf=1,\n",
      "                       min_samples_split=2, min_weight_fraction_leaf=0.0,\n",
      "                       n_estimators=151, n_jobs=None, oob_score=False,\n",
      "                       random_state=None, verbose=0, warm_start=False)\n"
     ]
    }
   ],
   "source": [
    "clf = clf_cv.best_estimator_\n",
    "print(clf)"
   ]
  },
  {
   "cell_type": "code",
   "execution_count": 8,
   "metadata": {
    "ExecuteTime": {
     "end_time": "2019-10-16T08:21:55.069897Z",
     "start_time": "2019-10-16T08:21:54.822383Z"
    }
   },
   "outputs": [
    {
     "data": {
      "text/plain": [
       "RandomForestClassifier(bootstrap=True, class_weight='balanced',\n",
       "                       criterion='gini', max_depth=None, max_features='auto',\n",
       "                       max_leaf_nodes=None, min_impurity_decrease=0.0,\n",
       "                       min_impurity_split=None, min_samples_leaf=1,\n",
       "                       min_samples_split=2, min_weight_fraction_leaf=0.0,\n",
       "                       n_estimators=151, n_jobs=None, oob_score=False,\n",
       "                       random_state=None, verbose=0, warm_start=False)"
      ]
     },
     "execution_count": 8,
     "metadata": {},
     "output_type": "execute_result"
    }
   ],
   "source": [
    "clf = ensemble.RandomForestClassifier(class_weight='balanced', n_estimators=clf.n_estimators)\n",
    "clf.fit(tfidf, y_train)"
   ]
  },
  {
   "cell_type": "code",
   "execution_count": 9,
   "metadata": {
    "ExecuteTime": {
     "end_time": "2019-10-16T08:21:55.121368Z",
     "start_time": "2019-10-16T08:21:55.071772Z"
    }
   },
   "outputs": [
    {
     "name": "stdout",
     "output_type": "stream",
     "text": [
      "              precision    recall  f1-score   support\n",
      "\n",
      "           0       0.97      1.00      0.98       239\n",
      "           1       1.00      0.85      0.92        55\n",
      "\n",
      "    accuracy                           0.97       294\n",
      "   macro avg       0.98      0.93      0.95       294\n",
      "weighted avg       0.97      0.97      0.97       294\n",
      "\n",
      "[[239   0]\n",
      " [  8  47]]\n"
     ]
    }
   ],
   "source": [
    "y_pred = clf.predict(tfidf_vectorizer.transform(X_test))\n",
    "\n",
    "print(classification_report(y_test, y_pred))\n",
    "print(confusion_matrix(y_test, y_pred))"
   ]
  },
  {
   "cell_type": "markdown",
   "metadata": {},
   "source": [
    "## \"mean_test_score\" and \"mean_train_score\" "
   ]
  },
  {
   "cell_type": "code",
   "execution_count": 10,
   "metadata": {
    "ExecuteTime": {
     "end_time": "2019-10-16T08:21:55.130603Z",
     "start_time": "2019-10-16T08:21:55.124586Z"
    }
   },
   "outputs": [],
   "source": [
    "# parameters = {'n_estimators': np.arange(1, 200, 5), }\n",
    "\n",
    "# rf = ensemble.RandomForestClassifier(\n",
    "#     class_weight=clf.class_weight, max_depth=clf.max_depth, max_features=clf.max_features)\n",
    "# clf_cv = GridSearchCV(rf, parameters, cv=5, return_train_score=True)\n",
    "\n",
    "# clf_cv.fit(tfidf, y_train)\n",
    "# clf = clf_cv.best_estimator_"
   ]
  },
  {
   "cell_type": "code",
   "execution_count": 11,
   "metadata": {
    "ExecuteTime": {
     "end_time": "2019-10-16T08:21:55.142724Z",
     "start_time": "2019-10-16T08:21:55.136133Z"
    }
   },
   "outputs": [
    {
     "data": {
      "text/plain": [
       "RandomForestClassifier(bootstrap=True, class_weight='balanced',\n",
       "                       criterion='gini', max_depth=None, max_features='auto',\n",
       "                       max_leaf_nodes=None, min_impurity_decrease=0.0,\n",
       "                       min_impurity_split=None, min_samples_leaf=1,\n",
       "                       min_samples_split=2, min_weight_fraction_leaf=0.0,\n",
       "                       n_estimators=151, n_jobs=None, oob_score=False,\n",
       "                       random_state=None, verbose=0, warm_start=False)"
      ]
     },
     "execution_count": 11,
     "metadata": {},
     "output_type": "execute_result"
    }
   ],
   "source": [
    "clf"
   ]
  },
  {
   "cell_type": "code",
   "execution_count": 12,
   "metadata": {
    "ExecuteTime": {
     "end_time": "2019-10-16T08:21:55.464910Z",
     "start_time": "2019-10-16T08:21:55.144077Z"
    },
    "hide_input": false
   },
   "outputs": [
    {
     "data": {
      "text/plain": [
       "Text(0.5, 1.0, 'Mean_test_score/Mean_train_scores vs Number of Trees')"
      ]
     },
     "execution_count": 12,
     "metadata": {},
     "output_type": "execute_result"
    },
    {
     "data": {
      "image/png": "[encoded data removed]",
      "text/plain": [
       "<Figure size 432x288 with 1 Axes>"
      ]
     },
     "metadata": {
      "needs_background": "light"
     },
     "output_type": "display_data"
    }
   ],
   "source": [
    "mean_test_scores = clf_cv.cv_results_['mean_test_score']\n",
    "mean_train_scores = clf_cv.cv_results_['mean_train_score']\n",
    "\n",
    "plt.figure()\n",
    "plt.plot(np.arange(1, 200, 5), mean_test_scores, label=\"mean_test_score\")\n",
    "plt.plot(np.arange(1, 200, 5), mean_train_scores, label=\"mean_train_score\")\n",
    "plt.xlabel(\"Number of Trees\")\n",
    "plt.ylabel(\"Mean_test_score\")\n",
    "plt.legend()\n",
    "plt.title(\"Mean_test_score/Mean_train_scores vs Number of Trees\")"
   ]
  },
  {
   "cell_type": "markdown",
   "metadata": {},
   "source": [
    "## Depths of the trees"
   ]
  },
  {
   "cell_type": "code",
   "execution_count": 13,
   "metadata": {
    "ExecuteTime": {
     "end_time": "2019-10-16T08:21:55.667563Z",
     "start_time": "2019-10-16T08:21:55.466385Z"
    }
   },
   "outputs": [
    {
     "data": {
      "text/plain": [
       "Text(0.5, 1.0, 'The depths of the trees')"
      ]
     },
     "execution_count": 13,
     "metadata": {},
     "output_type": "execute_result"
    },
    {
     "data": {
      "image/png": "[encoded data removed]",
      "text/plain": [
       "<Figure size 432x288 with 1 Axes>"
      ]
     },
     "metadata": {
      "needs_background": "light"
     },
     "output_type": "display_data"
    }
   ],
   "source": [
    "depths = [estimator.tree_.max_depth for estimator in clf.estimators_]\n",
    "plt.figure()\n",
    "plt.hist(depths)\n",
    "plt.xlabel(\"Depth\")\n",
    "plt.ylabel(\"Number\")\n",
    "plt.title(\"The depths of the trees\")"
   ]
  },
  {
   "cell_type": "code",
   "execution_count": 15,
   "metadata": {
    "ExecuteTime": {
     "end_time": "2019-10-16T08:21:55.683587Z",
     "start_time": "2019-10-16T08:21:55.679033Z"
    }
   },
   "outputs": [],
   "source": [
    "# import sklearn \n",
    "# help(sklearn.tree._tree.Tree)"
   ]
  },
  {
   "cell_type": "markdown",
   "metadata": {},
   "source": [
    "## Top 10 most important text features"
   ]
  },
  {
   "cell_type": "code",
   "execution_count": 16,
   "metadata": {
    "ExecuteTime": {
     "end_time": "2019-10-16T08:21:55.768274Z",
     "start_time": "2019-10-16T08:21:55.685618Z"
    }
   },
   "outputs": [],
   "source": [
    "names = tfidf_vectorizer.get_feature_names()\n",
    "\n",
    "\n",
    "importances = sorted(clf.feature_importances_, reverse=True)[:10]\n",
    "\n",
    "\n",
    "importances = list(map(lambda x: round(x, 4), importances))\n",
    "\n",
    "# indices = [i for i, x in enumerate(clf.feature_importances_) if x in importances]\n",
    "\n",
    "\n",
    "# importances = np.sort(clf.feature_importances_, reverse=True)[::-1][:10]\n",
    "indices = np.argsort(clf.feature_importances_)[::-1][:10]\n",
    "\n",
    "# sorted(zip(map(lambda x: round(x, 4), importances), [names[index] for index in indices]), reverse=True)"
   ]
  },
  {
   "cell_type": "code",
   "execution_count": 17,
   "metadata": {
    "ExecuteTime": {
     "end_time": "2019-10-16T08:21:55.781781Z",
     "start_time": "2019-10-16T08:21:55.772207Z"
    }
   },
   "outputs": [
    {
     "data": {
      "text/html": [
       "<div>\n",
       "<style scoped>\n",
       "    .dataframe tbody tr th:only-of-type {\n",
       "        vertical-align: middle;\n",
       "    }\n",
       "\n",
       "    .dataframe tbody tr th {\n",
       "        vertical-align: top;\n",
       "    }\n",
       "\n",
       "    .dataframe thead th {\n",
       "        text-align: right;\n",
       "    }\n",
       "</style>\n",
       "<table border=\"1\" class=\"dataframe\">\n",
       "  <thead>\n",
       "    <tr style=\"text-align: right;\">\n",
       "      <th></th>\n",
       "      <th>Importance</th>\n",
       "    </tr>\n",
       "  </thead>\n",
       "  <tbody>\n",
       "    <tr>\n",
       "      <th>check</th>\n",
       "      <td>0.1016</td>\n",
       "    </tr>\n",
       "    <tr>\n",
       "      <th>subscribe</th>\n",
       "      <td>0.0837</td>\n",
       "    </tr>\n",
       "    <tr>\n",
       "      <th>com</th>\n",
       "      <td>0.0542</td>\n",
       "    </tr>\n",
       "    <tr>\n",
       "      <th>http</th>\n",
       "      <td>0.0481</td>\n",
       "    </tr>\n",
       "    <tr>\n",
       "      <th>channel</th>\n",
       "      <td>0.0362</td>\n",
       "    </tr>\n",
       "    <tr>\n",
       "      <th>subscribers</th>\n",
       "      <td>0.0282</td>\n",
       "    </tr>\n",
       "    <tr>\n",
       "      <th>youtube</th>\n",
       "      <td>0.0273</td>\n",
       "    </tr>\n",
       "    <tr>\n",
       "      <th>www</th>\n",
       "      <td>0.0263</td>\n",
       "    </tr>\n",
       "    <tr>\n",
       "      <th>song</th>\n",
       "      <td>0.0219</td>\n",
       "    </tr>\n",
       "    <tr>\n",
       "      <th>thank</th>\n",
       "      <td>0.0218</td>\n",
       "    </tr>\n",
       "  </tbody>\n",
       "</table>\n",
       "</div>"
      ],
      "text/plain": [
       "             Importance\n",
       "check            0.1016\n",
       "subscribe        0.0837\n",
       "com              0.0542\n",
       "http             0.0481\n",
       "channel          0.0362\n",
       "subscribers      0.0282\n",
       "youtube          0.0273\n",
       "www              0.0263\n",
       "song             0.0219\n",
       "thank            0.0218"
      ]
     },
     "execution_count": 17,
     "metadata": {},
     "output_type": "execute_result"
    }
   ],
   "source": [
    "fe = pd.DataFrame({\"Importance\" : importances}, index=[names[index] for index in indices] )\n",
    "fe"
   ]
  },
  {
   "cell_type": "code",
   "execution_count": 18,
   "metadata": {
    "ExecuteTime": {
     "end_time": "2019-10-16T08:21:55.959291Z",
     "start_time": "2019-10-16T08:21:55.783657Z"
    }
   },
   "outputs": [
    {
     "data": {
      "text/plain": [
       "Text(0.5, 0, 'Importance')"
      ]
     },
     "execution_count": 18,
     "metadata": {},
     "output_type": "execute_result"
    },
    {
     "data": {
      "image/png": "[encoded data removed]",
      "text/plain": [
       "<Figure size 432x288 with 1 Axes>"
      ]
     },
     "metadata": {
      "needs_background": "light"
     },
     "output_type": "display_data"
    }
   ],
   "source": [
    "plt.title(\"Top 10 Most Important Text Features\")\n",
    "plt.barh(range(10), importances[::-1])\n",
    "plt.yticks(range(10), [names[index] for index in indices[::-1]])\n",
    "plt.xlabel(\"Importance\")\n"
   ]
  },
  {
   "cell_type": "code",
   "execution_count": 19,
   "metadata": {
    "ExecuteTime": {
     "end_time": "2019-10-16T08:21:56.547039Z",
     "start_time": "2019-10-16T08:21:55.961838Z"
    }
   },
   "outputs": [
    {
     "data": {
      "image/png": "[encoded data removed]",
      "text/plain": [
       "<Figure size 648x432 with 1 Axes>"
      ]
     },
     "metadata": {
      "needs_background": "light"
     },
     "output_type": "display_data"
    }
   ],
   "source": [
    "# from statlearning import plot_feature_importance\n",
    "\n",
    "# plot_feature_importance(clf, names)\n",
    "# plt.show()"
   ]
  }
 ],
 "metadata": {
  "hide_input": false,
  "kernelspec": {
   "display_name": "Python 3",
   "language": "python",
   "name": "python3"
  },
  "language_info": {
   "codemirror_mode": {
    "name": "ipython",
    "version": 3
   },
   "file_extension": ".py",
   "mimetype": "text/x-python",
   "name": "python",
   "nbconvert_exporter": "python",
   "pygments_lexer": "ipython3",
   "version": "3.7.3"
  },
  "toc": {
   "base_numbering": 1,
   "nav_menu": {},
   "number_sections": true,
   "sideBar": true,
   "skip_h1_title": false,
   "title_cell": "Table of Contents",
   "title_sidebar": "Contents",
   "toc_cell": false,
   "toc_position": {},
   "toc_section_display": true,
   "toc_window_display": true
  },
  "varInspector": {
   "cols": {
    "lenName": 16,
    "lenType": 16,
    "lenVar": 40
   },
   "kernels_config": {
    "python": {
     "delete_cmd_postfix": "",
     "delete_cmd_prefix": "del ",
     "library": "var_list.py",
     "varRefreshCmd": "print(var_dic_list())"
    },
    "r": {
     "delete_cmd_postfix": ") ",
     "delete_cmd_prefix": "rm(",
     "library": "var_list.r",
     "varRefreshCmd": "cat(var_dic_list()) "
    }
   },
   "types_to_exclude": [
    "module",
    "function",
    "builtin_function_or_method",
    "instance",
    "_Feature"
   ],
   "window_display": true
  }
 },
 "nbformat": 4,
 "nbformat_minor": 2
}
