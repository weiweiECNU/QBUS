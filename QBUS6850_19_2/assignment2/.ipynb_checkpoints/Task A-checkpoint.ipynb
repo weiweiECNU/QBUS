{
 "cells": [
  {
   "cell_type": "markdown",
   "metadata": {},
   "source": [
    "# Assignment 2 Task A"
   ]
  },
  {
   "cell_type": "code",
   "execution_count": 1,
   "metadata": {
    "ExecuteTime": {
     "end_time": "2019-10-16T00:26:58.943205Z",
     "start_time": "2019-10-16T00:26:57.005572Z"
    }
   },
   "outputs": [],
   "source": [
    "import numpy as np\n",
    "import pandas as pd\n",
    "import matplotlib.pyplot as plt\n",
    "from sklearn import ensemble\n",
    "from sklearn.model_selection import train_test_split\n",
    "from sklearn.model_selection import GridSearchCV\n",
    "from sklearn.metrics import classification_report\n",
    "from sklearn.metrics import confusion_matrix\n",
    "import warnings\n",
    "import time\n",
    "\n",
    "from sklearn.feature_extraction.text import TfidfVectorizer\n"
   ]
  },
  {
   "cell_type": "code",
   "execution_count": 2,
   "metadata": {
    "ExecuteTime": {
     "end_time": "2019-10-16T00:26:58.971579Z",
     "start_time": "2019-10-16T00:26:58.946017Z"
    }
   },
   "outputs": [
    {
     "data": {
      "text/html": [
       "<div>\n",
       "<style scoped>\n",
       "    .dataframe tbody tr th:only-of-type {\n",
       "        vertical-align: middle;\n",
       "    }\n",
       "\n",
       "    .dataframe tbody tr th {\n",
       "        vertical-align: top;\n",
       "    }\n",
       "\n",
       "    .dataframe thead th {\n",
       "        text-align: right;\n",
       "    }\n",
       "</style>\n",
       "<table border=\"1\" class=\"dataframe\">\n",
       "  <thead>\n",
       "    <tr style=\"text-align: right;\">\n",
       "      <th></th>\n",
       "      <th>CONTENT</th>\n",
       "      <th>CLASS</th>\n",
       "    </tr>\n",
       "  </thead>\n",
       "  <tbody>\n",
       "    <tr>\n",
       "      <th>0</th>\n",
       "      <td>Since when has Katy Perry had her own YouTube ...</td>\n",
       "      <td>0</td>\n",
       "    </tr>\n",
       "    <tr>\n",
       "      <th>1</th>\n",
       "      <td>Sub my channel!﻿</td>\n",
       "      <td>1</td>\n",
       "    </tr>\n",
       "    <tr>\n",
       "      <th>2</th>\n",
       "      <td>ILove shakira ﻿</td>\n",
       "      <td>0</td>\n",
       "    </tr>\n",
       "    <tr>\n",
       "      <th>3</th>\n",
       "      <td>How did THIS Video in all of YouTube get this ...</td>\n",
       "      <td>0</td>\n",
       "    </tr>\n",
       "    <tr>\n",
       "      <th>4</th>\n",
       "      <td>Katy Perry - Roar (Official): http://youtu.be/...</td>\n",
       "      <td>0</td>\n",
       "    </tr>\n",
       "    <tr>\n",
       "      <th>5</th>\n",
       "      <td>Where did she find all that make up in a freak...</td>\n",
       "      <td>0</td>\n",
       "    </tr>\n",
       "    <tr>\n",
       "      <th>6</th>\n",
       "      <td>Check out this video on YouTube:﻿</td>\n",
       "      <td>1</td>\n",
       "    </tr>\n",
       "    <tr>\n",
       "      <th>7</th>\n",
       "      <td>Why dafuq is a Korean song so big in the USA. ...</td>\n",
       "      <td>0</td>\n",
       "    </tr>\n",
       "    <tr>\n",
       "      <th>8</th>\n",
       "      <td>5 years soon!﻿</td>\n",
       "      <td>0</td>\n",
       "    </tr>\n",
       "    <tr>\n",
       "      <th>9</th>\n",
       "      <td>this video is great .....!!! I love this.........</td>\n",
       "      <td>0</td>\n",
       "    </tr>\n",
       "    <tr>\n",
       "      <th>10</th>\n",
       "      <td>fave song﻿</td>\n",
       "      <td>0</td>\n",
       "    </tr>\n",
       "    <tr>\n",
       "      <th>11</th>\n",
       "      <td>epic﻿</td>\n",
       "      <td>0</td>\n",
       "    </tr>\n",
       "    <tr>\n",
       "      <th>12</th>\n",
       "      <td>I'm only checking the views﻿</td>\n",
       "      <td>0</td>\n",
       "    </tr>\n",
       "    <tr>\n",
       "      <th>13</th>\n",
       "      <td>awesome﻿</td>\n",
       "      <td>0</td>\n",
       "    </tr>\n",
       "    <tr>\n",
       "      <th>14</th>\n",
       "      <td>5 years ago damn ﻿</td>\n",
       "      <td>0</td>\n",
       "    </tr>\n",
       "    <tr>\n",
       "      <th>15</th>\n",
       "      <td>selfie alert﻿</td>\n",
       "      <td>0</td>\n",
       "    </tr>\n",
       "    <tr>\n",
       "      <th>16</th>\n",
       "      <td>subscribe to my pagee please.</td>\n",
       "      <td>1</td>\n",
       "    </tr>\n",
       "    <tr>\n",
       "      <th>17</th>\n",
       "      <td>Party rock due and duel﻿</td>\n",
       "      <td>0</td>\n",
       "    </tr>\n",
       "    <tr>\n",
       "      <th>18</th>\n",
       "      <td>OMG that looks just like a piece of the mirror...</td>\n",
       "      <td>0</td>\n",
       "    </tr>\n",
       "    <tr>\n",
       "      <th>19</th>\n",
       "      <td>please subscribe i am a new youtuber and need ...</td>\n",
       "      <td>1</td>\n",
       "    </tr>\n",
       "    <tr>\n",
       "      <th>20</th>\n",
       "      <td>very good song:)﻿</td>\n",
       "      <td>0</td>\n",
       "    </tr>\n",
       "    <tr>\n",
       "      <th>21</th>\n",
       "      <td>I am now going to voyage to the first comment....</td>\n",
       "      <td>0</td>\n",
       "    </tr>\n",
       "    <tr>\n",
       "      <th>22</th>\n",
       "      <td>I found out this song now﻿</td>\n",
       "      <td>0</td>\n",
       "    </tr>\n",
       "    <tr>\n",
       "      <th>23</th>\n",
       "      <td>I love this song and expect the World Cup .﻿</td>\n",
       "      <td>0</td>\n",
       "    </tr>\n",
       "    <tr>\n",
       "      <th>24</th>\n",
       "      <td>OMG I LOVE YOU KATY PARRY YOUR SONGS ROCK!!!!!...</td>\n",
       "      <td>0</td>\n",
       "    </tr>\n",
       "    <tr>\n",
       "      <th>25</th>\n",
       "      <td>how does this video have 2,127,322,484 views i...</td>\n",
       "      <td>0</td>\n",
       "    </tr>\n",
       "    <tr>\n",
       "      <th>26</th>\n",
       "      <td>Its funny because I listen to rock and death m...</td>\n",
       "      <td>0</td>\n",
       "    </tr>\n",
       "    <tr>\n",
       "      <th>27</th>\n",
       "      <td>Οh my god ... Roar is the most liked video at ...</td>\n",
       "      <td>0</td>\n",
       "    </tr>\n",
       "    <tr>\n",
       "      <th>28</th>\n",
       "      <td>wow</td>\n",
       "      <td>0</td>\n",
       "    </tr>\n",
       "    <tr>\n",
       "      <th>29</th>\n",
       "      <td>Fuck you Eminem﻿</td>\n",
       "      <td>0</td>\n",
       "    </tr>\n",
       "    <tr>\n",
       "      <th>...</th>\n",
       "      <td>...</td>\n",
       "      <td>...</td>\n",
       "    </tr>\n",
       "    <tr>\n",
       "      <th>1145</th>\n",
       "      <td>Like this in 2015! :D﻿</td>\n",
       "      <td>0</td>\n",
       "    </tr>\n",
       "    <tr>\n",
       "      <th>1146</th>\n",
       "      <td>Love this video and the song of course﻿</td>\n",
       "      <td>0</td>\n",
       "    </tr>\n",
       "    <tr>\n",
       "      <th>1147</th>\n",
       "      <td>Shakira</td>\n",
       "      <td>0</td>\n",
       "    </tr>\n",
       "    <tr>\n",
       "      <th>1148</th>\n",
       "      <td>Who is watching in 2015 like﻿</td>\n",
       "      <td>0</td>\n",
       "    </tr>\n",
       "    <tr>\n",
       "      <th>1149</th>\n",
       "      <td>This is so stupid. If you Roared at a Lion in ...</td>\n",
       "      <td>0</td>\n",
       "    </tr>\n",
       "    <tr>\n",
       "      <th>1150</th>\n",
       "      <td>https://www.indiegogo.com/projects/cleaning-th...</td>\n",
       "      <td>1</td>\n",
       "    </tr>\n",
       "    <tr>\n",
       "      <th>1151</th>\n",
       "      <td>Wow I love it ﻿</td>\n",
       "      <td>0</td>\n",
       "    </tr>\n",
       "    <tr>\n",
       "      <th>1152</th>\n",
       "      <td>this song is fu cking awesom!!!!!!!﻿</td>\n",
       "      <td>0</td>\n",
       "    </tr>\n",
       "    <tr>\n",
       "      <th>1153</th>\n",
       "      <td>I remember when everyone was obsessed with Gan...</td>\n",
       "      <td>0</td>\n",
       "    </tr>\n",
       "    <tr>\n",
       "      <th>1154</th>\n",
       "      <td>You are the music hero😍😎﻿</td>\n",
       "      <td>0</td>\n",
       "    </tr>\n",
       "    <tr>\n",
       "      <th>1155</th>\n",
       "      <td>Hi, nice song Shakira! (Sorry for bad Brazilian)﻿</td>\n",
       "      <td>0</td>\n",
       "    </tr>\n",
       "    <tr>\n",
       "      <th>1156</th>\n",
       "      <td>Love this song so much! One of my faves! Xxx﻿</td>\n",
       "      <td>0</td>\n",
       "    </tr>\n",
       "    <tr>\n",
       "      <th>1157</th>\n",
       "      <td>Check out my music niggas﻿</td>\n",
       "      <td>1</td>\n",
       "    </tr>\n",
       "    <tr>\n",
       "      <th>1158</th>\n",
       "      <td>tension⤴︎⤴︎﻿</td>\n",
       "      <td>0</td>\n",
       "    </tr>\n",
       "    <tr>\n",
       "      <th>1159</th>\n",
       "      <td>2015 but Im still listening to this!﻿</td>\n",
       "      <td>0</td>\n",
       "    </tr>\n",
       "    <tr>\n",
       "      <th>1160</th>\n",
       "      <td>Shakira :-*</td>\n",
       "      <td>0</td>\n",
       "    </tr>\n",
       "    <tr>\n",
       "      <th>1161</th>\n",
       "      <td>Check out this playlist on YouTube:👿👳👳👳👳👳﻿</td>\n",
       "      <td>1</td>\n",
       "    </tr>\n",
       "    <tr>\n",
       "      <th>1162</th>\n",
       "      <td>Love your songs&lt;br /&gt;Supper cool&lt;br /&gt;﻿</td>\n",
       "      <td>0</td>\n",
       "    </tr>\n",
       "    <tr>\n",
       "      <th>1163</th>\n",
       "      <td>Love you shkira﻿</td>\n",
       "      <td>0</td>\n",
       "    </tr>\n",
       "    <tr>\n",
       "      <th>1164</th>\n",
       "      <td>I love you</td>\n",
       "      <td>0</td>\n",
       "    </tr>\n",
       "    <tr>\n",
       "      <th>1165</th>\n",
       "      <td>WAT DA FUCK THIS THE MOST VIEWED VIDEO IN YOUT...</td>\n",
       "      <td>0</td>\n",
       "    </tr>\n",
       "    <tr>\n",
       "      <th>1166</th>\n",
       "      <td>I love this song because we sing it at Camp al...</td>\n",
       "      <td>0</td>\n",
       "    </tr>\n",
       "    <tr>\n",
       "      <th>1167</th>\n",
       "      <td>To help shakira become the first female to hit...</td>\n",
       "      <td>0</td>\n",
       "    </tr>\n",
       "    <tr>\n",
       "      <th>1168</th>\n",
       "      <td>Boooobs﻿</td>\n",
       "      <td>0</td>\n",
       "    </tr>\n",
       "    <tr>\n",
       "      <th>1169</th>\n",
       "      <td>Katy Perry is part of me Katy Perry is my fire...</td>\n",
       "      <td>0</td>\n",
       "    </tr>\n",
       "    <tr>\n",
       "      <th>1170</th>\n",
       "      <td>Ching Ching ling long ding ring yaaaaaa Ganga ...</td>\n",
       "      <td>0</td>\n",
       "    </tr>\n",
       "    <tr>\n",
       "      <th>1171</th>\n",
       "      <td>Is that girl is Megan fox ﻿</td>\n",
       "      <td>0</td>\n",
       "    </tr>\n",
       "    <tr>\n",
       "      <th>1172</th>\n",
       "      <td>shakira is the best!</td>\n",
       "      <td>0</td>\n",
       "    </tr>\n",
       "    <tr>\n",
       "      <th>1173</th>\n",
       "      <td>I loved this song when I was in my teenage yea...</td>\n",
       "      <td>0</td>\n",
       "    </tr>\n",
       "    <tr>\n",
       "      <th>1174</th>\n",
       "      <td>LOL this shit never gets old﻿</td>\n",
       "      <td>0</td>\n",
       "    </tr>\n",
       "  </tbody>\n",
       "</table>\n",
       "<p>1175 rows × 2 columns</p>\n",
       "</div>"
      ],
      "text/plain": [
       "                                                CONTENT  CLASS\n",
       "0     Since when has Katy Perry had her own YouTube ...      0\n",
       "1                                      Sub my channel!﻿      1\n",
       "2                                       ILove shakira ﻿      0\n",
       "3     How did THIS Video in all of YouTube get this ...      0\n",
       "4     Katy Perry - Roar (Official): http://youtu.be/...      0\n",
       "5     Where did she find all that make up in a freak...      0\n",
       "6                     Check out this video on YouTube:﻿      1\n",
       "7     Why dafuq is a Korean song so big in the USA. ...      0\n",
       "8                                        5 years soon!﻿      0\n",
       "9     this video is great .....!!! I love this.........      0\n",
       "10                                           fave song﻿      0\n",
       "11                                                epic﻿      0\n",
       "12                         I'm only checking the views﻿      0\n",
       "13                                             awesome﻿      0\n",
       "14                                   5 years ago damn ﻿      0\n",
       "15                                        selfie alert﻿      0\n",
       "16                        subscribe to my pagee please.      1\n",
       "17                             Party rock due and duel﻿      0\n",
       "18    OMG that looks just like a piece of the mirror...      0\n",
       "19    please subscribe i am a new youtuber and need ...      1\n",
       "20                                    very good song:)﻿      0\n",
       "21    I am now going to voyage to the first comment....      0\n",
       "22                           I found out this song now﻿      0\n",
       "23         I love this song and expect the World Cup .﻿      0\n",
       "24    OMG I LOVE YOU KATY PARRY YOUR SONGS ROCK!!!!!...      0\n",
       "25    how does this video have 2,127,322,484 views i...      0\n",
       "26    Its funny because I listen to rock and death m...      0\n",
       "27    Οh my god ... Roar is the most liked video at ...      0\n",
       "28                                                  wow      0\n",
       "29                                     Fuck you Eminem﻿      0\n",
       "...                                                 ...    ...\n",
       "1145                             Like this in 2015! :D﻿      0\n",
       "1146            Love this video and the song of course﻿      0\n",
       "1147                                            Shakira      0\n",
       "1148                      Who is watching in 2015 like﻿      0\n",
       "1149  This is so stupid. If you Roared at a Lion in ...      0\n",
       "1150  https://www.indiegogo.com/projects/cleaning-th...      1\n",
       "1151                                    Wow I love it ﻿      0\n",
       "1152               this song is fu cking awesom!!!!!!!﻿      0\n",
       "1153  I remember when everyone was obsessed with Gan...      0\n",
       "1154                          You are the music hero😍😎﻿      0\n",
       "1155  Hi, nice song Shakira! (Sorry for bad Brazilian)﻿      0\n",
       "1156      Love this song so much! One of my faves! Xxx﻿      0\n",
       "1157                         Check out my music niggas﻿      1\n",
       "1158                                       tension⤴︎⤴︎﻿      0\n",
       "1159              2015 but Im still listening to this!﻿      0\n",
       "1160                                        Shakira :-*      0\n",
       "1161         Check out this playlist on YouTube:👿👳👳👳👳👳﻿      1\n",
       "1162            Love your songs<br />Supper cool<br />﻿      0\n",
       "1163                                   Love you shkira﻿      0\n",
       "1164                                         I love you      0\n",
       "1165  WAT DA FUCK THIS THE MOST VIEWED VIDEO IN YOUT...      0\n",
       "1166  I love this song because we sing it at Camp al...      0\n",
       "1167  To help shakira become the first female to hit...      0\n",
       "1168                                           Boooobs﻿      0\n",
       "1169  Katy Perry is part of me Katy Perry is my fire...      0\n",
       "1170  Ching Ching ling long ding ring yaaaaaa Ganga ...      0\n",
       "1171                        Is that girl is Megan fox ﻿      0\n",
       "1172                               shakira is the best!      0\n",
       "1173  I loved this song when I was in my teenage yea...      0\n",
       "1174                      LOL this shit never gets old﻿      0\n",
       "\n",
       "[1175 rows x 2 columns]"
      ]
     },
     "execution_count": 2,
     "metadata": {},
     "output_type": "execute_result"
    }
   ],
   "source": [
    "comment = pd.read_csv(\"User_Comments.csv\")\n",
    "comment"
   ]
  },
  {
   "cell_type": "code",
   "execution_count": 3,
   "metadata": {
    "ExecuteTime": {
     "end_time": "2019-10-16T00:26:58.979600Z",
     "start_time": "2019-10-16T00:26:58.974030Z"
    }
   },
   "outputs": [],
   "source": [
    "X = comment[\"CONTENT\"]\n",
    "y = comment['CLASS']\n",
    "\n",
    "X_train, X_test, y_train, y_test = train_test_split(X, y, random_state=0)"
   ]
  },
  {
   "cell_type": "markdown",
   "metadata": {},
   "source": [
    "## TFIDF "
   ]
  },
  {
   "cell_type": "code",
   "execution_count": 4,
   "metadata": {
    "ExecuteTime": {
     "end_time": "2019-10-16T00:26:59.050461Z",
     "start_time": "2019-10-16T00:26:58.981542Z"
    }
   },
   "outputs": [],
   "source": [
    "tfidf_vectorizer = TfidfVectorizer(analyzer='word', ngram_range=(\n",
    "    1, 3), min_df=3, max_df=0.67, stop_words='english')\n",
    "tfidf = tfidf_vectorizer.fit_transform(X_train)"
   ]
  },
  {
   "cell_type": "code",
   "execution_count": 5,
   "metadata": {
    "ExecuteTime": {
     "end_time": "2019-10-16T00:26:59.057250Z",
     "start_time": "2019-10-16T00:26:59.054628Z"
    }
   },
   "outputs": [],
   "source": [
    "# tfidf_vectorizer.get_feature_names()"
   ]
  },
  {
   "cell_type": "markdown",
   "metadata": {
    "ExecuteTime": {
     "end_time": "2019-10-15T08:07:53.344772Z",
     "start_time": "2019-10-15T08:07:53.340820Z"
    }
   },
   "source": [
    "## Random Forest"
   ]
  },
  {
   "cell_type": "code",
   "execution_count": 6,
   "metadata": {
    "ExecuteTime": {
     "end_time": "2019-10-16T00:27:20.737220Z",
     "start_time": "2019-10-16T00:26:59.059600Z"
    }
   },
   "outputs": [
    {
     "name": "stdout",
     "output_type": "stream",
     "text": [
      "Running....\n",
      "Training time: 21.6699s\n"
     ]
    }
   ],
   "source": [
    "parameters = {'n_estimators': np.arange(1, 200, 5),\n",
    "#               'max_depth': np.arange(1, 40, 2),\n",
    "#               \"max_features\": np.arange(0.2, 0.5, 0.1),\n",
    "             }\n",
    "\n",
    "\n",
    "rf = ensemble.RandomForestClassifier(class_weight='balanced')\n",
    "clf_cv = GridSearchCV(rf, parameters, cv=5)\n",
    "\n",
    "print(\"Running....\")\n",
    "tic = time.time()\n",
    "clf_cv.fit(tfidf, y_train)\n",
    "\n",
    "toc = time.time()\n",
    "print(\"Training time: {0:.4f}s\".format(toc - tic))"
   ]
  },
  {
   "cell_type": "code",
   "execution_count": 7,
   "metadata": {
    "ExecuteTime": {
     "end_time": "2019-10-16T00:27:20.747382Z",
     "start_time": "2019-10-16T00:27:20.740868Z"
    }
   },
   "outputs": [
    {
     "name": "stdout",
     "output_type": "stream",
     "text": [
      "RandomForestClassifier(bootstrap=True, class_weight='balanced',\n",
      "                       criterion='gini', max_depth=None, max_features='auto',\n",
      "                       max_leaf_nodes=None, min_impurity_decrease=0.0,\n",
      "                       min_impurity_split=None, min_samples_leaf=1,\n",
      "                       min_samples_split=2, min_weight_fraction_leaf=0.0,\n",
      "                       n_estimators=51, n_jobs=None, oob_score=False,\n",
      "                       random_state=None, verbose=0, warm_start=False)\n"
     ]
    }
   ],
   "source": [
    "clf = clf_cv.best_estimator_\n",
    "print(clf)"
   ]
  },
  {
   "cell_type": "code",
   "execution_count": 8,
   "metadata": {
    "ExecuteTime": {
     "end_time": "2019-10-16T00:27:20.790564Z",
     "start_time": "2019-10-16T00:27:20.749670Z"
    }
   },
   "outputs": [
    {
     "name": "stdout",
     "output_type": "stream",
     "text": [
      "              precision    recall  f1-score   support\n",
      "\n",
      "           0       0.97      1.00      0.99       239\n",
      "           1       1.00      0.87      0.93        55\n",
      "\n",
      "    accuracy                           0.98       294\n",
      "   macro avg       0.99      0.94      0.96       294\n",
      "weighted avg       0.98      0.98      0.98       294\n",
      "\n",
      "[[239   0]\n",
      " [  7  48]]\n"
     ]
    }
   ],
   "source": [
    "y_pred = clf.predict(tfidf_vectorizer.transform(X_test))\n",
    "\n",
    "print(classification_report(y_test, y_pred))\n",
    "print(confusion_matrix(y_test, y_pred))"
   ]
  },
  {
   "cell_type": "markdown",
   "metadata": {},
   "source": [
    "## \"mean_test_score\" and \"mean_train_score\" "
   ]
  },
  {
   "cell_type": "code",
   "execution_count": 9,
   "metadata": {
    "ExecuteTime": {
     "end_time": "2019-10-16T00:27:46.829394Z",
     "start_time": "2019-10-16T00:27:20.795173Z"
    }
   },
   "outputs": [],
   "source": [
    "parameters = {'n_estimators': np.arange(1, 200, 5), }\n",
    "\n",
    "rf = ensemble.RandomForestClassifier(\n",
    "    class_weight=clf.class_weight, max_depth=clf.max_depth, max_features=clf.max_features)\n",
    "clf_cv = GridSearchCV(rf, parameters, cv=5, return_train_score=True)\n",
    "\n",
    "clf_cv.fit(tfidf, y_train)\n",
    "clf = clf_cv.best_estimator_"
   ]
  },
  {
   "cell_type": "code",
   "execution_count": 10,
   "metadata": {
    "ExecuteTime": {
     "end_time": "2019-10-16T00:27:47.071856Z",
     "start_time": "2019-10-16T00:27:46.832163Z"
    },
    "hide_input": false
   },
   "outputs": [
    {
     "data": {
      "text/plain": [
       "Text(0.5, 1.0, 'Mean_test_score/Mean_train_scores vs Number of Trees')"
      ]
     },
     "execution_count": 10,
     "metadata": {},
     "output_type": "execute_result"
    },
    {
     "data": {
      "image/png": "[encoded data removed]",
      "text/plain": [
       "<Figure size 432x288 with 1 Axes>"
      ]
     },
     "metadata": {
      "needs_background": "light"
     },
     "output_type": "display_data"
    }
   ],
   "source": [
    "mean_test_scores = clf_cv.cv_results_['mean_test_score']\n",
    "mean_train_scores = clf_cv.cv_results_['mean_train_score']\n",
    "\n",
    "plt.figure()\n",
    "plt.plot(np.arange(1, 200, 5), mean_test_scores, label=\"mean_test_score\")\n",
    "plt.plot(np.arange(1, 200, 5), mean_train_scores, label=\"mean_train_score\")\n",
    "plt.xlabel(\"Number of Trees\")\n",
    "plt.ylabel(\"Mean_test_score\")\n",
    "plt.legend()\n",
    "plt.title(\"Mean_test_score/Mean_train_scores vs Number of Trees\")"
   ]
  },
  {
   "cell_type": "markdown",
   "metadata": {},
   "source": [
    "## Depths of the trees"
   ]
  },
  {
   "cell_type": "code",
   "execution_count": 11,
   "metadata": {
    "ExecuteTime": {
     "end_time": "2019-10-16T00:27:47.254728Z",
     "start_time": "2019-10-16T00:27:47.073680Z"
    }
   },
   "outputs": [
    {
     "data": {
      "text/plain": [
       "Text(0.5, 1.0, 'The depths of the trees')"
      ]
     },
     "execution_count": 11,
     "metadata": {},
     "output_type": "execute_result"
    },
    {
     "data": {
      "image/png": "[encoded data removed]",
      "text/plain": [
       "<Figure size 432x288 with 1 Axes>"
      ]
     },
     "metadata": {
      "needs_background": "light"
     },
     "output_type": "display_data"
    }
   ],
   "source": [
    "depths = [estimator.tree_.max_depth for estimator in clf.estimators_]\n",
    "plt.figure()\n",
    "plt.hist(depths)\n",
    "plt.xlabel(\"Depth\")\n",
    "plt.ylabel(\"Number\")\n",
    "plt.title(\"The depths of the trees\")"
   ]
  },
  {
   "cell_type": "code",
   "execution_count": 12,
   "metadata": {
    "ExecuteTime": {
     "end_time": "2019-10-16T00:27:47.260386Z",
     "start_time": "2019-10-16T00:27:47.256439Z"
    }
   },
   "outputs": [],
   "source": [
    "# import sklearn \n",
    "# help(sklearn.tree._tree.Tree)"
   ]
  },
  {
   "cell_type": "markdown",
   "metadata": {},
   "source": [
    "## Top 10 most important text features"
   ]
  },
  {
   "cell_type": "code",
   "execution_count": 16,
   "metadata": {
    "ExecuteTime": {
     "end_time": "2019-10-16T00:28:47.171894Z",
     "start_time": "2019-10-16T00:28:47.158570Z"
    }
   },
   "outputs": [],
   "source": [
    "names = tfidf_vectorizer.get_feature_names()\n",
    "importances = sorted(clf.feature_importances_, reverse=True)[:10]\n",
    "importances = list(map(lambda x: round(x, 4), importances))\n",
    "\n",
    "# indices = [i for i, x in enumerate(clf.feature_importances_) if x in importances]\n",
    "\n",
    "\n",
    "# importances = np.sort(clf.feature_importances_, reverse=True)[::-1][:10]\n",
    "indices = np.argsort(clf.feature_importances_)[::-1][:10]\n",
    "\n",
    "# sorted(zip(map(lambda x: round(x, 4), importances), [names[index] for index in indices]), reverse=True)"
   ]
  },
  {
   "cell_type": "code",
   "execution_count": 18,
   "metadata": {
    "ExecuteTime": {
     "end_time": "2019-10-16T00:28:51.012454Z",
     "start_time": "2019-10-16T00:28:51.001675Z"
    }
   },
   "outputs": [
    {
     "data": {
      "text/html": [
       "<div>\n",
       "<style scoped>\n",
       "    .dataframe tbody tr th:only-of-type {\n",
       "        vertical-align: middle;\n",
       "    }\n",
       "\n",
       "    .dataframe tbody tr th {\n",
       "        vertical-align: top;\n",
       "    }\n",
       "\n",
       "    .dataframe thead th {\n",
       "        text-align: right;\n",
       "    }\n",
       "</style>\n",
       "<table border=\"1\" class=\"dataframe\">\n",
       "  <thead>\n",
       "    <tr style=\"text-align: right;\">\n",
       "      <th></th>\n",
       "      <th>Importance</th>\n",
       "    </tr>\n",
       "  </thead>\n",
       "  <tbody>\n",
       "    <tr>\n",
       "      <th>check</th>\n",
       "      <td>0.1115</td>\n",
       "    </tr>\n",
       "    <tr>\n",
       "      <th>subscribe</th>\n",
       "      <td>0.0882</td>\n",
       "    </tr>\n",
       "    <tr>\n",
       "      <th>com</th>\n",
       "      <td>0.0498</td>\n",
       "    </tr>\n",
       "    <tr>\n",
       "      <th>http</th>\n",
       "      <td>0.0431</td>\n",
       "    </tr>\n",
       "    <tr>\n",
       "      <th>www</th>\n",
       "      <td>0.0392</td>\n",
       "    </tr>\n",
       "    <tr>\n",
       "      <th>channel</th>\n",
       "      <td>0.0367</td>\n",
       "    </tr>\n",
       "    <tr>\n",
       "      <th>check video</th>\n",
       "      <td>0.0264</td>\n",
       "    </tr>\n",
       "    <tr>\n",
       "      <th>thank</th>\n",
       "      <td>0.0253</td>\n",
       "    </tr>\n",
       "    <tr>\n",
       "      <th>youtube</th>\n",
       "      <td>0.0236</td>\n",
       "    </tr>\n",
       "    <tr>\n",
       "      <th>song</th>\n",
       "      <td>0.0234</td>\n",
       "    </tr>\n",
       "  </tbody>\n",
       "</table>\n",
       "</div>"
      ],
      "text/plain": [
       "             Importance\n",
       "check            0.1115\n",
       "subscribe        0.0882\n",
       "com              0.0498\n",
       "http             0.0431\n",
       "www              0.0392\n",
       "channel          0.0367\n",
       "check video      0.0264\n",
       "thank            0.0253\n",
       "youtube          0.0236\n",
       "song             0.0234"
      ]
     },
     "execution_count": 18,
     "metadata": {},
     "output_type": "execute_result"
    }
   ],
   "source": [
    "fe = pd.DataFrame({\"Importance\" : importances}, index=[names[index] for index in indices] )\n",
    "fe"
   ]
  },
  {
   "cell_type": "code",
   "execution_count": 21,
   "metadata": {
    "ExecuteTime": {
     "end_time": "2019-10-16T00:29:19.394305Z",
     "start_time": "2019-10-16T00:29:19.229350Z"
    }
   },
   "outputs": [
    {
     "data": {
      "text/plain": [
       "Text(0.5, 0, 'Importance')"
      ]
     },
     "execution_count": 21,
     "metadata": {},
     "output_type": "execute_result"
    },
    {
     "data": {
      "image/png": "[encoded data removed]",
      "text/plain": [
       "<Figure size 432x288 with 1 Axes>"
      ]
     },
     "metadata": {
      "needs_background": "light"
     },
     "output_type": "display_data"
    }
   ],
   "source": [
    "plt.title(\"Top 10 Most Important Text Features\")\n",
    "plt.barh(range(10), importances[::-1])\n",
    "plt.yticks(range(10), [names[index] for index in indices[::-1]])\n",
    "plt.xlabel(\"Importance\")\n"
   ]
  },
  {
   "cell_type": "code",
   "execution_count": 20,
   "metadata": {
    "ExecuteTime": {
     "end_time": "2019-10-16T00:29:17.089320Z",
     "start_time": "2019-10-16T00:29:16.884811Z"
    }
   },
   "outputs": [
    {
     "data": {
      "image/png": "[encoded data removed]",
      "text/plain": [
       "<Figure size 648x432 with 1 Axes>"
      ]
     },
     "metadata": {
      "needs_background": "light"
     },
     "output_type": "display_data"
    }
   ],
   "source": [
    "from statlearning import plot_feature_importance\n",
    "\n",
    "plot_feature_importance(clf, names)\n",
    "plt.show()"
   ]
  }
 ],
 "metadata": {
  "hide_input": false,
  "kernelspec": {
   "display_name": "Python 3",
   "language": "python",
   "name": "python3"
  },
  "language_info": {
   "codemirror_mode": {
    "name": "ipython",
    "version": 3
   },
   "file_extension": ".py",
   "mimetype": "text/x-python",
   "name": "python",
   "nbconvert_exporter": "python",
   "pygments_lexer": "ipython3",
   "version": "3.7.3"
  },
  "toc": {
   "base_numbering": 1,
   "nav_menu": {},
   "number_sections": true,
   "sideBar": true,
   "skip_h1_title": false,
   "title_cell": "Table of Contents",
   "title_sidebar": "Contents",
   "toc_cell": false,
   "toc_position": {},
   "toc_section_display": true,
   "toc_window_display": true
  },
  "varInspector": {
   "cols": {
    "lenName": 16,
    "lenType": 16,
    "lenVar": 40
   },
   "kernels_config": {
    "python": {
     "delete_cmd_postfix": "",
     "delete_cmd_prefix": "del ",
     "library": "var_list.py",
     "varRefreshCmd": "print(var_dic_list())"
    },
    "r": {
     "delete_cmd_postfix": ") ",
     "delete_cmd_prefix": "rm(",
     "library": "var_list.r",
     "varRefreshCmd": "cat(var_dic_list()) "
    }
   },
   "types_to_exclude": [
    "module",
    "function",
    "builtin_function_or_method",
    "instance",
    "_Feature"
   ],
   "window_display": true
  }
 },
 "nbformat": 4,
 "nbformat_minor": 2
}
