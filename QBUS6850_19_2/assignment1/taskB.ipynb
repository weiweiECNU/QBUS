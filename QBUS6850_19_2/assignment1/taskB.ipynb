{
 "cells": [
  {
   "cell_type": "code",
   "execution_count": 1,
   "metadata": {},
   "outputs": [],
   "source": [
    "import numpy as np\n",
    "import pandas as pd\n",
    "import matplotlib.pyplot as plt\n",
    "import datetime"
   ]
  },
  {
   "cell_type": "code",
   "execution_count": 2,
   "metadata": {},
   "outputs": [],
   "source": [
    "table = pd.read_excel(\"Loans_Data_2019.xlsx\")\n",
    "\n",
    "# 处理时间列，使用匿名函数，转化时间段具体有多少天，float类型\n",
    "extract_day = lambda x: x.total_seconds()/86400\n",
    "table[\"earliest_cr_line\"] = (table[\"earliest_cr_line\"] - pd.Timestamp('1900-01-01')).apply(extract_day)\n",
    "\n",
    "table = pd.get_dummies(table, drop_first = True)"
   ]
  },
  {
   "cell_type": "code",
   "execution_count": 3,
   "metadata": {},
   "outputs": [
    {
     "data": {
      "text/html": [
       "<div>\n",
       "<style scoped>\n",
       "    .dataframe tbody tr th:only-of-type {\n",
       "        vertical-align: middle;\n",
       "    }\n",
       "\n",
       "    .dataframe tbody tr th {\n",
       "        vertical-align: top;\n",
       "    }\n",
       "\n",
       "    .dataframe thead th {\n",
       "        text-align: right;\n",
       "    }\n",
       "</style>\n",
       "<table border=\"1\" class=\"dataframe\">\n",
       "  <thead>\n",
       "    <tr style=\"text-align: right;\">\n",
       "      <th></th>\n",
       "      <th>loan_amnt</th>\n",
       "      <th>funded_amnt</th>\n",
       "      <th>funded_amnt_inv</th>\n",
       "      <th>int_rate</th>\n",
       "      <th>installment</th>\n",
       "      <th>annual_inc</th>\n",
       "      <th>dti</th>\n",
       "      <th>earliest_cr_line</th>\n",
       "      <th>inq_last_6mths</th>\n",
       "      <th>total_pymnt</th>\n",
       "      <th>...</th>\n",
       "      <th>addr_state_SD</th>\n",
       "      <th>addr_state_TX</th>\n",
       "      <th>addr_state_UT</th>\n",
       "      <th>addr_state_VA</th>\n",
       "      <th>addr_state_VT</th>\n",
       "      <th>addr_state_WA</th>\n",
       "      <th>addr_state_WI</th>\n",
       "      <th>addr_state_WV</th>\n",
       "      <th>addr_state_WY</th>\n",
       "      <th>debt_settlement_flag_Y</th>\n",
       "    </tr>\n",
       "  </thead>\n",
       "  <tbody>\n",
       "    <tr>\n",
       "      <th>median</th>\n",
       "      <td>1.110000e+04</td>\n",
       "      <td>1.100000e+04</td>\n",
       "      <td>1.050000e+04</td>\n",
       "      <td>0.126900</td>\n",
       "      <td>337.750000</td>\n",
       "      <td>5.500000e+04</td>\n",
       "      <td>14.650000</td>\n",
       "      <td>3.652400e+04</td>\n",
       "      <td>1.000000</td>\n",
       "      <td>1.126448e+04</td>\n",
       "      <td>...</td>\n",
       "      <td>0.000000</td>\n",
       "      <td>0.000000</td>\n",
       "      <td>0.000000</td>\n",
       "      <td>0.000000</td>\n",
       "      <td>0.000000</td>\n",
       "      <td>0.000000</td>\n",
       "      <td>0.000000</td>\n",
       "      <td>0.000000</td>\n",
       "      <td>0.000000</td>\n",
       "      <td>0.000000</td>\n",
       "    </tr>\n",
       "    <tr>\n",
       "      <th>mad</th>\n",
       "      <td>6.287526e+03</td>\n",
       "      <td>5.863599e+03</td>\n",
       "      <td>5.683625e+03</td>\n",
       "      <td>0.031739</td>\n",
       "      <td>161.918331</td>\n",
       "      <td>2.591979e+04</td>\n",
       "      <td>5.389035</td>\n",
       "      <td>1.797403e+03</td>\n",
       "      <td>0.870107</td>\n",
       "      <td>6.852506e+03</td>\n",
       "      <td>...</td>\n",
       "      <td>0.003534</td>\n",
       "      <td>0.134601</td>\n",
       "      <td>0.003534</td>\n",
       "      <td>0.068290</td>\n",
       "      <td>0.003534</td>\n",
       "      <td>0.048330</td>\n",
       "      <td>0.027918</td>\n",
       "      <td>0.014059</td>\n",
       "      <td>0.003534</td>\n",
       "      <td>0.405983</td>\n",
       "    </tr>\n",
       "    <tr>\n",
       "      <th>var</th>\n",
       "      <td>6.156593e+07</td>\n",
       "      <td>5.380770e+07</td>\n",
       "      <td>5.133576e+07</td>\n",
       "      <td>0.001525</td>\n",
       "      <td>43659.980202</td>\n",
       "      <td>1.371539e+09</td>\n",
       "      <td>41.065026</td>\n",
       "      <td>5.451436e+06</td>\n",
       "      <td>1.799567</td>\n",
       "      <td>7.644012e+07</td>\n",
       "      <td>...</td>\n",
       "      <td>0.001770</td>\n",
       "      <td>0.067420</td>\n",
       "      <td>0.001770</td>\n",
       "      <td>0.034206</td>\n",
       "      <td>0.001770</td>\n",
       "      <td>0.024208</td>\n",
       "      <td>0.013984</td>\n",
       "      <td>0.007042</td>\n",
       "      <td>0.001770</td>\n",
       "      <td>0.203352</td>\n",
       "    </tr>\n",
       "    <tr>\n",
       "      <th>std</th>\n",
       "      <td>7.846396e+03</td>\n",
       "      <td>7.335373e+03</td>\n",
       "      <td>7.164898e+03</td>\n",
       "      <td>0.039057</td>\n",
       "      <td>208.949707</td>\n",
       "      <td>3.703429e+04</td>\n",
       "      <td>6.408200</td>\n",
       "      <td>2.334831e+03</td>\n",
       "      <td>1.341479</td>\n",
       "      <td>8.743004e+03</td>\n",
       "      <td>...</td>\n",
       "      <td>0.042070</td>\n",
       "      <td>0.259653</td>\n",
       "      <td>0.042070</td>\n",
       "      <td>0.184948</td>\n",
       "      <td>0.042070</td>\n",
       "      <td>0.155588</td>\n",
       "      <td>0.118252</td>\n",
       "      <td>0.083917</td>\n",
       "      <td>0.042070</td>\n",
       "      <td>0.450945</td>\n",
       "    </tr>\n",
       "    <tr>\n",
       "      <th>skew</th>\n",
       "      <td>9.334163e-01</td>\n",
       "      <td>9.105076e-01</td>\n",
       "      <td>9.109400e-01</td>\n",
       "      <td>0.113222</td>\n",
       "      <td>1.015040</td>\n",
       "      <td>2.273726e+00</td>\n",
       "      <td>-0.050117</td>\n",
       "      <td>-1.178478e+00</td>\n",
       "      <td>3.629295</td>\n",
       "      <td>1.075425e+00</td>\n",
       "      <td>...</td>\n",
       "      <td>23.769729</td>\n",
       "      <td>3.304037</td>\n",
       "      <td>23.769729</td>\n",
       "      <td>5.041984</td>\n",
       "      <td>23.769729</td>\n",
       "      <td>6.130415</td>\n",
       "      <td>8.246224</td>\n",
       "      <td>11.789602</td>\n",
       "      <td>23.769729</td>\n",
       "      <td>0.965015</td>\n",
       "    </tr>\n",
       "    <tr>\n",
       "      <th>kurt</th>\n",
       "      <td>3.622301e-01</td>\n",
       "      <td>4.674896e-01</td>\n",
       "      <td>6.190286e-01</td>\n",
       "      <td>-0.569589</td>\n",
       "      <td>1.252632</td>\n",
       "      <td>8.016694e+00</td>\n",
       "      <td>-0.769692</td>\n",
       "      <td>1.730053e+00</td>\n",
       "      <td>25.537629</td>\n",
       "      <td>1.022997e+00</td>\n",
       "      <td>...</td>\n",
       "      <td>565.000000</td>\n",
       "      <td>8.948326</td>\n",
       "      <td>565.000000</td>\n",
       "      <td>23.504790</td>\n",
       "      <td>565.000000</td>\n",
       "      <td>35.708373</td>\n",
       "      <td>66.234660</td>\n",
       "      <td>137.481369</td>\n",
       "      <td>565.000000</td>\n",
       "      <td>-1.072556</td>\n",
       "    </tr>\n",
       "  </tbody>\n",
       "</table>\n",
       "<p>6 rows × 486 columns</p>\n",
       "</div>"
      ],
      "text/plain": [
       "           loan_amnt   funded_amnt  funded_amnt_inv  int_rate   installment  \\\n",
       "median  1.110000e+04  1.100000e+04     1.050000e+04  0.126900    337.750000   \n",
       "mad     6.287526e+03  5.863599e+03     5.683625e+03  0.031739    161.918331   \n",
       "var     6.156593e+07  5.380770e+07     5.133576e+07  0.001525  43659.980202   \n",
       "std     7.846396e+03  7.335373e+03     7.164898e+03  0.039057    208.949707   \n",
       "skew    9.334163e-01  9.105076e-01     9.109400e-01  0.113222      1.015040   \n",
       "kurt    3.622301e-01  4.674896e-01     6.190286e-01 -0.569589      1.252632   \n",
       "\n",
       "          annual_inc        dti  earliest_cr_line  inq_last_6mths  \\\n",
       "median  5.500000e+04  14.650000      3.652400e+04        1.000000   \n",
       "mad     2.591979e+04   5.389035      1.797403e+03        0.870107   \n",
       "var     1.371539e+09  41.065026      5.451436e+06        1.799567   \n",
       "std     3.703429e+04   6.408200      2.334831e+03        1.341479   \n",
       "skew    2.273726e+00  -0.050117     -1.178478e+00        3.629295   \n",
       "kurt    8.016694e+00  -0.769692      1.730053e+00       25.537629   \n",
       "\n",
       "         total_pymnt  ...  addr_state_SD  addr_state_TX  addr_state_UT  \\\n",
       "median  1.126448e+04  ...       0.000000       0.000000       0.000000   \n",
       "mad     6.852506e+03  ...       0.003534       0.134601       0.003534   \n",
       "var     7.644012e+07  ...       0.001770       0.067420       0.001770   \n",
       "std     8.743004e+03  ...       0.042070       0.259653       0.042070   \n",
       "skew    1.075425e+00  ...      23.769729       3.304037      23.769729   \n",
       "kurt    1.022997e+00  ...     565.000000       8.948326     565.000000   \n",
       "\n",
       "        addr_state_VA  addr_state_VT  addr_state_WA  addr_state_WI  \\\n",
       "median       0.000000       0.000000       0.000000       0.000000   \n",
       "mad          0.068290       0.003534       0.048330       0.027918   \n",
       "var          0.034206       0.001770       0.024208       0.013984   \n",
       "std          0.184948       0.042070       0.155588       0.118252   \n",
       "skew         5.041984      23.769729       6.130415       8.246224   \n",
       "kurt        23.504790     565.000000      35.708373      66.234660   \n",
       "\n",
       "        addr_state_WV  addr_state_WY  debt_settlement_flag_Y  \n",
       "median       0.000000       0.000000                0.000000  \n",
       "mad          0.014059       0.003534                0.405983  \n",
       "var          0.007042       0.001770                0.203352  \n",
       "std          0.083917       0.042070                0.450945  \n",
       "skew        11.789602      23.769729                0.965015  \n",
       "kurt       137.481369     565.000000               -1.072556  \n",
       "\n",
       "[6 rows x 486 columns]"
      ]
     },
     "execution_count": 3,
     "metadata": {},
     "output_type": "execute_result"
    }
   ],
   "source": [
    "def get_status(x):\n",
    "    \n",
    "    return pd.DataFrame([x.median(), x.mad(), x.var(), x.std(), x.skew(), x.kurt()],\n",
    "                        index=['median','mad','var','std','skew','kurt'])\n",
    "\n",
    "\n",
    "get_status(table)"
   ]
  },
  {
   "cell_type": "code",
   "execution_count": 4,
   "metadata": {},
   "outputs": [
    {
     "data": {
      "text/plain": [
       "loan_status_Fully Paid    0.753027\n",
       "term_ 60 months           0.323152\n",
       "total_rec_int             0.245000\n",
       "Name: debt_settlement_flag_Y, dtype: float64"
      ]
     },
     "execution_count": 4,
     "metadata": {},
     "output_type": "execute_result"
    }
   ],
   "source": [
    "corr = table.corr()\n",
    "relevant_features = abs(corr['debt_settlement_flag_Y']).sort_values(ascending=False)[1:4]\n",
    "relevant_features"
   ]
  },
  {
   "cell_type": "markdown",
   "metadata": {},
   "source": [
    "# 2"
   ]
  },
  {
   "cell_type": "code",
   "execution_count": 5,
   "metadata": {},
   "outputs": [],
   "source": [
    "add_intercept = lambda x: np.column_stack((x, np.ones(len(x))))\n",
    "\n",
    "def sigmoid(x):\n",
    "    return 1.0 / (1 + np.exp(-x))\n",
    "\n",
    "\n",
    "def loss_logsit(x, t, beta):\n",
    "    \n",
    "    X_add_one = add_intercept(x)\n",
    "    model_0 = sigmoid(np.dot(X_add_one, beta))\n",
    "    loss_temp = t * np.log(model_0) + (1 - t) * np.log(1 - model_0) \n",
    "    return  -(np.sum(loss_temp) / len(x))\n",
    "\n",
    "def myLogisticGD(X, t, beta, alpha, numIterations):\n",
    "    \n",
    "    X_add_one = add_intercept(X)\n",
    "    for i in range(0,numIterations):\n",
    "        h = sigmoid(np.dot(X_add_one, beta))\n",
    "        loss = h - t \n",
    "        \n",
    "        cost = loss_logsit(X, t, beta)\n",
    "        loss_total[i] = cost\n",
    "        \n",
    "        gradient = np.dot(X_add_one.transpose(), loss) / len(X)\n",
    "        beta = beta - alpha * gradient\n",
    "        beta_total[i,:]= beta.transpose()\n",
    "    return beta\n",
    "\n",
    "\n",
    "def show_loss_and_beta(loss_total,alpha):\n",
    "    \n",
    "    fig1 = plt.figure()\n",
    "    plt.plot(loss_total, label = \"Loss fucntion\")\n",
    "#     plt.plot(beta_total[:,0], label = \"Beta0\")\n",
    "#     plt.plot(beta_total[:,1], label = \"Beta1\")\n",
    "#     plt.plot(beta_total[:,2], label = \"Beta2\")\n",
    "#     plt.plot(beta_total[:,3], label = \"Beta3\")\n",
    "#     plt.plot(beta_total[:,4], label = \"Beta4\")\n",
    "    plt.legend(loc=\"upper right\")\n",
    "    plt.xlabel(\"Number of iteration\")\n",
    "    title = \"Alpha: \" + str(alpha)\n",
    "    plt.title(title)\n",
    "    plt.show()"
   ]
  },
  {
   "cell_type": "code",
   "execution_count": 6,
   "metadata": {},
   "outputs": [],
   "source": [
    "from sklearn import preprocessing\n",
    "\n",
    "loans_data = pd.read_excel(\"Loans_Data_2019.xlsx\")\n",
    "features = ['loan_amnt', 'annual_inc', 'int_rate', 'installment']\n",
    "\n",
    "scale = lambda x: preprocessing.scale(x)\n",
    "X_loans = scale(loans_data[features])\n",
    "t_loans = pd.get_dummies(loans_data['debt_settlement_flag'],drop_first=True).iloc[:,0]"
   ]
  },
  {
   "cell_type": "code",
   "execution_count": 7,
   "metadata": {},
   "outputs": [],
   "source": [
    "init_beta = [0.0] * (len(features) + 1)\n",
    "numIterations = 4000\n",
    "loss_total= np.zeros((numIterations,1))\n",
    "beta_total= np.zeros((numIterations,5))"
   ]
  },
  {
   "cell_type": "code",
   "execution_count": null,
   "metadata": {
    "scrolled": false
   },
   "outputs": [
    {
     "data": {
      "image/png": "[encoded data removed]",
      "text/plain": [
       "<Figure size 432x288 with 1 Axes>"
      ]
     },
     "metadata": {
      "needs_background": "light"
     },
     "output_type": "display_data"
    },
    {
     "data": {
      "image/png": "[encoded data removed]",
      "text/plain": [
       "<Figure size 432x288 with 1 Axes>"
      ]
     },
     "metadata": {
      "needs_background": "light"
     },
     "output_type": "display_data"
    }
   ],
   "source": [
    "alphas = [0.0001, 0.0003, 0.001, 0.003, 0.01, 0.03, 0.1, 0.3]\n",
    "\n",
    "for alpha in alphas:\n",
    "    myLogisticGD(X_loans,t_loans,init_beta,alpha,numIterations)\n",
    "#     print(beta)\n",
    "    show_loss_and_beta(loss_total,alpha)"
   ]
  },
  {
   "cell_type": "markdown",
   "metadata": {},
   "source": [
    "# 3"
   ]
  },
  {
   "cell_type": "code",
   "execution_count": null,
   "metadata": {},
   "outputs": [],
   "source": [
    "from sklearn.model_selection import train_test_split\n",
    "from sklearn.linear_model import LogisticRegression\n",
    "\n",
    "features = ['loan_status_Fully Paid','term_ 60 months','total_rec_int']\n",
    "\n",
    "X = table[features]\n",
    "y = table['debt_settlement_flag_Y']\n",
    "\n",
    "X_train, X_test, y_train, y_test = train_test_split(X, y, test_size=0.2, random_state=0)\n",
    "clf = LogisticRegression(random_state=0, fit_intercept=True)\n",
    "clf.fit(X_train,y_train)\n",
    "y_estimate = clf.predict(X_test)"
   ]
  },
  {
   "cell_type": "code",
   "execution_count": null,
   "metadata": {},
   "outputs": [],
   "source": [
    "clf.intercept_"
   ]
  },
  {
   "cell_type": "code",
   "execution_count": null,
   "metadata": {},
   "outputs": [],
   "source": [
    "clf.coef_"
   ]
  },
  {
   "cell_type": "code",
   "execution_count": null,
   "metadata": {},
   "outputs": [],
   "source": [
    "beta = np.append(clf.coef_, clf.intercept_)\n",
    "loss_logsit(X_test, y_log_test, beta)"
   ]
  }
 ],
 "metadata": {
  "kernelspec": {
   "display_name": "Python 3",
   "language": "python",
   "name": "python3"
  },
  "language_info": {
   "codemirror_mode": {
    "name": "ipython",
    "version": 3
   },
   "file_extension": ".py",
   "mimetype": "text/x-python",
   "name": "python",
   "nbconvert_exporter": "python",
   "pygments_lexer": "ipython3",
   "version": "3.7.3"
  }
 },
 "nbformat": 4,
 "nbformat_minor": 2
}
