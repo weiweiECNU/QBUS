{
 "cells": [
  {
   "cell_type": "markdown",
   "metadata": {},
   "source": [
    "# 1\n"
   ]
  },
  {
   "cell_type": "code",
   "execution_count": 1,
   "metadata": {},
   "outputs": [],
   "source": [
    "import numpy as np\n",
    "import pandas as pd\n",
    "import matplotlib.pyplot as plt"
   ]
  },
  {
   "cell_type": "code",
   "execution_count": 2,
   "metadata": {},
   "outputs": [],
   "source": [
    "target = \"quality\"\n",
    "table = pd.read_csv(\"Wine_2019.csv\")"
   ]
  },
  {
   "cell_type": "code",
   "execution_count": 3,
   "metadata": {},
   "outputs": [
    {
     "data": {
      "text/plain": [
       "quality                 1.000000\n",
       "fixed acidity           0.469078\n",
       "free sulfur dioxide     0.462151\n",
       "pH                      0.355839\n",
       "alcohol                 0.290262\n",
       "density                 0.225504\n",
       "volatile acidity        0.213460\n",
       "sulphates               0.176389\n",
       "total sulfur dioxide    0.061752\n",
       "chlorides               0.053384\n",
       "residual sugar          0.023050\n",
       "critric acid            0.003186\n",
       "Name: quality, dtype: float64"
      ]
     },
     "execution_count": 3,
     "metadata": {},
     "output_type": "execute_result"
    }
   ],
   "source": [
    "corr = table.corr()\n",
    "relevant_features = abs(corr[target]).sort_values(ascending=False)\n",
    "relevant_features"
   ]
  },
  {
   "cell_type": "code",
   "execution_count": 4,
   "metadata": {},
   "outputs": [
    {
     "data": {
      "text/plain": [
       "(array([1.000e+00, 2.000e+00, 8.500e+01, 9.300e+02, 1.944e+03, 9.480e+02,\n",
       "        9.000e+01]),\n",
       " array([2.        , 2.85714286, 3.71428571, 4.57142857, 5.42857143,\n",
       "        6.28571429, 7.14285714, 8.        ]),\n",
       " <a list of 7 Patch objects>)"
      ]
     },
     "execution_count": 4,
     "metadata": {},
     "output_type": "execute_result"
    },
    {
     "data": {
      "image/png": "[encoded data removed]",
      "text/plain": [
       "<Figure size 432x288 with 1 Axes>"
      ]
     },
     "metadata": {
      "needs_background": "light"
     },
     "output_type": "display_data"
    }
   ],
   "source": [
    "x = np.arange(2, 9, 1)\n",
    "y = table[target]\n",
    "plt.hist(y, bins=7)"
   ]
  },
  {
   "cell_type": "code",
   "execution_count": 5,
   "metadata": {},
   "outputs": [
    {
     "data": {
      "text/html": [
       "<div>\n",
       "<style scoped>\n",
       "    .dataframe tbody tr th:only-of-type {\n",
       "        vertical-align: middle;\n",
       "    }\n",
       "\n",
       "    .dataframe tbody tr th {\n",
       "        vertical-align: top;\n",
       "    }\n",
       "\n",
       "    .dataframe thead th {\n",
       "        text-align: right;\n",
       "    }\n",
       "</style>\n",
       "<table border=\"1\" class=\"dataframe\">\n",
       "  <thead>\n",
       "    <tr style=\"text-align: right;\">\n",
       "      <th></th>\n",
       "      <th>fixed acidity</th>\n",
       "      <th>free sulfur dioxide</th>\n",
       "    </tr>\n",
       "  </thead>\n",
       "  <tbody>\n",
       "    <tr>\n",
       "      <th>median</th>\n",
       "      <td>9.169170</td>\n",
       "      <td>146.932329</td>\n",
       "    </tr>\n",
       "    <tr>\n",
       "      <th>mad</th>\n",
       "      <td>2.982667</td>\n",
       "      <td>71.434851</td>\n",
       "    </tr>\n",
       "    <tr>\n",
       "      <th>var</th>\n",
       "      <td>11.911030</td>\n",
       "      <td>6820.010017</td>\n",
       "    </tr>\n",
       "    <tr>\n",
       "      <th>std</th>\n",
       "      <td>3.451236</td>\n",
       "      <td>82.583352</td>\n",
       "    </tr>\n",
       "    <tr>\n",
       "      <th>skew</th>\n",
       "      <td>-0.026944</td>\n",
       "      <td>-0.003721</td>\n",
       "    </tr>\n",
       "    <tr>\n",
       "      <th>kurt</th>\n",
       "      <td>-1.189955</td>\n",
       "      <td>-1.199022</td>\n",
       "    </tr>\n",
       "  </tbody>\n",
       "</table>\n",
       "</div>"
      ],
      "text/plain": [
       "        fixed acidity  free sulfur dioxide\n",
       "median       9.169170           146.932329\n",
       "mad          2.982667            71.434851\n",
       "var         11.911030          6820.010017\n",
       "std          3.451236            82.583352\n",
       "skew        -0.026944            -0.003721\n",
       "kurt        -1.189955            -1.199022"
      ]
     },
     "execution_count": 5,
     "metadata": {},
     "output_type": "execute_result"
    }
   ],
   "source": [
    "def get_status(x) : \n",
    "    return pd.DataFrame([x.median(),x.mad(),x.var(),x.std(),x.skew(),x.kurt()],\n",
    "                        index=['median','mad','var','std','skew','kurt'])\n",
    "\n",
    "get_status(table[[\"fixed acidity\",\"free sulfur dioxide\"]])"
   ]
  },
  {
   "cell_type": "markdown",
   "metadata": {},
   "source": [
    "# 2"
   ]
  },
  {
   "cell_type": "code",
   "execution_count": 6,
   "metadata": {},
   "outputs": [],
   "source": [
    "def choose_features(filename, features, target):\n",
    "    \"\"\"\n",
    "    \n",
    "    \"\"\"\n",
    "    table = pd.read_csv(filename)\n",
    "#     features.append(target)\n",
    "    return table[features + [target]]"
   ]
  },
  {
   "cell_type": "code",
   "execution_count": 7,
   "metadata": {},
   "outputs": [],
   "source": [
    "features = [\"density\", \"residual sugar\", \"volatile acidity\"]\n",
    "\n",
    "table = choose_features(\"Wine_2019.csv\", features, target)"
   ]
  },
  {
   "cell_type": "code",
   "execution_count": 8,
   "metadata": {},
   "outputs": [],
   "source": [
    "def Gradient_Descent_Algo(x, y, beta, alpha, m, NUM_ITERATION):\n",
    "    xTrans = x.transpose()\n",
    "    for i in range(0, NUM_ITERATION):\n",
    "        loss_temp = np.dot(x, beta) - y\n",
    "        loss = np.sum(np.square(loss_temp)) / (2 * m)\n",
    "        loss_total[i]= loss\n",
    "        # check iteration by\n",
    "        # print(\"Iteration: {0} | Loss fucntion: {1}\".format(i, loss))\n",
    "        gradient = np.dot(xTrans, loss_temp) / m\n",
    "        beta = beta - alpha * gradient\n",
    "        beta_total[i,:]= beta.transpose()\n",
    "        \n",
    "    return beta"
   ]
  },
  {
   "cell_type": "code",
   "execution_count": 9,
   "metadata": {},
   "outputs": [],
   "source": [
    "def print_loss_iteration(alpha):\n",
    "    plt.figure()\n",
    "    plt.plot(loss_total, label = \"Loss function\")\n",
    "    plt.plot(beta_total[:,0], label = \"Beta0\")\n",
    "    plt.plot(beta_total[:,1], label = \"Beta1\")\n",
    "    plt.plot(beta_total[:,2], label = \"Beta2\")\n",
    "    plt.legend(loc=\"upper right\")\n",
    "    plt.xlabel(\"Number of iteration\")\n",
    "    \n",
    "    items = [\"Alpha: \", str(alpha), \" Loss function vs Iteration\"]\n",
    "    title = ''.join(items)\n",
    "    plt.title(title)"
   ]
  },
  {
   "cell_type": "code",
   "execution_count": 10,
   "metadata": {},
   "outputs": [],
   "source": [
    "# def table_2_array(table, features, target):\n",
    "#     \"\"\"\n",
    "#     \"\"\"\n",
    "#     return np.array(table[features]), np.array(table[target]).reshape((-1,1))"
   ]
  },
  {
   "cell_type": "code",
   "execution_count": 11,
   "metadata": {},
   "outputs": [
    {
     "data": {
      "image/png": "[encoded data removed]",
      "text/plain": [
       "<Figure size 432x288 with 1 Axes>"
      ]
     },
     "metadata": {
      "needs_background": "light"
     },
     "output_type": "display_data"
    },
    {
     "data": {
      "image/png": "[encoded data removed]",
      "text/plain": [
       "<Figure size 432x288 with 1 Axes>"
      ]
     },
     "metadata": {
      "needs_background": "light"
     },
     "output_type": "display_data"
    },
    {
     "data": {
      "image/png": "[encoded data removed]",
      "text/plain": [
       "<Figure size 432x288 with 1 Axes>"
      ]
     },
     "metadata": {
      "needs_background": "light"
     },
     "output_type": "display_data"
    },
    {
     "data": {
      "image/png": "[encoded data removed]",
      "text/plain": [
       "<Figure size 432x288 with 1 Axes>"
      ]
     },
     "metadata": {
      "needs_background": "light"
     },
     "output_type": "display_data"
    },
    {
     "data": {
      "image/png": "[encoded data removed]",
      "text/plain": [
       "<Figure size 432x288 with 1 Axes>"
      ]
     },
     "metadata": {
      "needs_background": "light"
     },
     "output_type": "display_data"
    }
   ],
   "source": [
    "X, y = np.array(table[features]), np.array(table[target]).reshape((-1,1))\n",
    "\n",
    "alphas = [0.0001, 0.0003, 0.001, 0.003, 0.01]\n",
    "\n",
    "NUM_ITERATION = 100000\n",
    "loss_total= np.zeros((NUM_ITERATION,1))\n",
    "beta_total= np.zeros((NUM_ITERATION,3))\n",
    "beta_initial = np.reshape(np.zeros(3),(3, 1))\n",
    "\n",
    "for alpha in alphas:\n",
    "    beta = Gradient_Descent_Algo(X, y, beta_initial, alpha, len(X), NUM_ITERATION)\n",
    "    print_loss_iteration(alpha)\n"
   ]
  },
  {
   "cell_type": "markdown",
   "metadata": {},
   "source": [
    "# 3"
   ]
  },
  {
   "cell_type": "code",
   "execution_count": 12,
   "metadata": {},
   "outputs": [],
   "source": [
    "from sklearn.model_selection import train_test_split\n",
    "# features = [\"fixed acidity\", \"volatile acidity\", \"critric acid\", \"residual sugar\", \"chlorides\", \"free sulfur dioxide\"\n",
    "#            , \"total sulfur dioxide\", \"density\", \"pH\", \"sulphates\", \"alcohol\"]\n",
    "\n",
    "table = pd.read_csv(\"Wine_2019.csv\")\n",
    "X = table.iloc[:,:-1]\n",
    "y = table.iloc[:,-1]\n",
    "X_train, X_test, y_train, y_test = train_test_split(X, y, test_size=0.2, random_state=0)\n"
   ]
  },
  {
   "cell_type": "code",
   "execution_count": 13,
   "metadata": {},
   "outputs": [],
   "source": [
    "# def add_intercept(x):\n",
    "#     \"\"\"\n",
    "#     \"\"\"\n",
    "#     x = np.column_stack((np.ones(len(x)), x))"
   ]
  },
  {
   "cell_type": "code",
   "execution_count": 14,
   "metadata": {},
   "outputs": [],
   "source": [
    "# def lr_result(X_train, y_train, intercept):\n",
    "#     \"\"\"\n",
    "#     \"\"\"\n",
    "    \n",
    "#     lr = LinearRegression(fit_intercept = intercept)\n",
    "#     lr.fit(centred_X_train, centred_y_train)\n",
    "\n",
    "#     print(\"The coefficients of regression: \\n \", lr.coef_)\n",
    "#     print(\"The intercept of regression: \\n\", lr.intercept_)\n",
    "    \n",
    "#     return lr"
   ]
  },
  {
   "cell_type": "code",
   "execution_count": 15,
   "metadata": {},
   "outputs": [],
   "source": [
    "# lr_intercept = lr_result(X_train, y_train, True)\n",
    "# lr_no_intercept = lr_result(X_train, y_train, False)\n",
    "\n",
    "# lr_intercept"
   ]
  },
  {
   "cell_type": "code",
   "execution_count": 16,
   "metadata": {},
   "outputs": [
    {
     "data": {
      "text/plain": [
       "LinearRegression(copy_X=True, fit_intercept=False, n_jobs=None, normalize=False)"
      ]
     },
     "execution_count": 16,
     "metadata": {},
     "output_type": "execute_result"
    }
   ],
   "source": [
    "from sklearn.linear_model import LinearRegression\n",
    "\n",
    "lr_intercept = LinearRegression(fit_intercept = True)\n",
    "lr_intercept.fit(X_train, y_train)\n",
    "\n",
    "lr_no_intercept = LinearRegression(fit_intercept = False)\n",
    "lr_no_intercept.fit(X_train, y_train)"
   ]
  },
  {
   "cell_type": "code",
   "execution_count": 17,
   "metadata": {},
   "outputs": [],
   "source": [
    "def get_loss(x_test, y_test, intercept, coef):\n",
    "    \"\"\"\n",
    "    \"\"\"\n",
    "    \n",
    "    X_test_add_intercept = np.column_stack((x_test, np.ones(len(x_test))))\n",
    "    coef_add_intercept = np.append(coef, intercept)\n",
    "    \n",
    "    model_0 = np.dot(X_test_add_intercept, coef_add_intercept)\n",
    "    loss_temp = model_0 - y_test\n",
    "    return np.sum(np.square(loss_temp)) / (2 * (len(X_test)))"
   ]
  },
  {
   "cell_type": "code",
   "execution_count": 18,
   "metadata": {},
   "outputs": [
    {
     "name": "stdout",
     "output_type": "stream",
     "text": [
      "The loss of regression with intercept:  0.04359632717193719\n",
      "The loss of regression without intercept:  0.09889271550501949\n"
     ]
    }
   ],
   "source": [
    "print(\"The loss of regression with intercept: \",get_loss(X_test,y_test,lr_intercept.intercept_,lr_intercept.coef_))\n",
    "print(\"The loss of regression without intercept: \",get_loss(X_test,y_test,lr_no_intercept.intercept_,lr_no_intercept.coef_))"
   ]
  },
  {
   "cell_type": "markdown",
   "metadata": {},
   "source": [
    "# 4"
   ]
  },
  {
   "cell_type": "code",
   "execution_count": 19,
   "metadata": {},
   "outputs": [],
   "source": [
    "centred = lambda x: x-x.mean()\n",
    "centred_y_train = centred(y_train)\n",
    "centred_X_train = centred(X_train)"
   ]
  },
  {
   "cell_type": "code",
   "execution_count": 20,
   "metadata": {},
   "outputs": [
    {
     "name": "stdout",
     "output_type": "stream",
     "text": [
      "The coefficients of regression with centred data: \n",
      "  [ 1.05823626e-01 -1.82220918e+00 -1.32563254e-02  9.70940426e-02\n",
      " -6.60454061e-01  4.44903216e-03 -3.41427575e-04 -1.94164044e+02\n",
      "  8.43092566e-01  6.29424065e-01  1.40861048e-01]\n",
      "The intercept of regression with centred data: \n",
      " 6.282239153774318e-13\n"
     ]
    }
   ],
   "source": [
    "lr_centred = LinearRegression()\n",
    "lr_centred.fit(centred_X_train, centred_y_train)\n",
    "\n",
    "print(\"The coefficients of regression with centred data: \\n \", lr_centred.coef_)\n",
    "print(\"The intercept of regression with centred data: \\n\", lr_centred.intercept_)\n"
   ]
  },
  {
   "cell_type": "code",
   "execution_count": 21,
   "metadata": {},
   "outputs": [],
   "source": [
    "centred_X_test = centred(X_test)\n",
    "centred_y_test = centred(y_test)"
   ]
  },
  {
   "cell_type": "code",
   "execution_count": 22,
   "metadata": {},
   "outputs": [
    {
     "name": "stdout",
     "output_type": "stream",
     "text": [
      "The loss of regression with centred data:  0.04359017151947683\n"
     ]
    }
   ],
   "source": [
    "print(\"The loss of regression with centred data: \",get_loss(centred_X_test, centred_y_test, lr_centred.intercept_, lr_centred.coef_))\n",
    "\n"
   ]
  },
  {
   "cell_type": "markdown",
   "metadata": {},
   "source": [
    "# 5"
   ]
  },
  {
   "cell_type": "code",
   "execution_count": 23,
   "metadata": {},
   "outputs": [],
   "source": [
    "bad_wine  = table[table['quality'] <= 6].sample(n=400, random_state=0)\n",
    "good_wine  = table[table['quality'] >= 6].sample(n=400, random_state=0)\n",
    "\n",
    "wine = pd.concat([good_wine,bad_wine])"
   ]
  },
  {
   "cell_type": "code",
   "execution_count": 24,
   "metadata": {},
   "outputs": [
    {
     "name": "stdout",
     "output_type": "stream",
     "text": [
      "LASSO Lambda: 0.02459743823688252\n"
     ]
    }
   ],
   "source": [
    "from sklearn.linear_model import LassoCV\n",
    "\n",
    "X = wine.iloc[:,:-1]\n",
    "y = wine.iloc[:,-1]\n",
    "X_train, X_test, y_train, y_test = train_test_split(X, y, test_size=0.2, random_state=0)\n",
    "\n",
    "lascv = LassoCV(cv=5, random_state=0)\n",
    "lascv.fit(X_train, y_train)\n",
    "\n",
    "print(\"LASSO Lambda: {0}\".format(lascv.alpha_))\n"
   ]
  },
  {
   "cell_type": "code",
   "execution_count": 25,
   "metadata": {},
   "outputs": [],
   "source": [
    "X = table.iloc[:,:-1]\n",
    "y = table.iloc[:,-1]\n",
    "X_train, X_test, y_train, y_test = train_test_split(X, y, test_size=0.2, random_state=0)"
   ]
  },
  {
   "cell_type": "code",
   "execution_count": 26,
   "metadata": {},
   "outputs": [
    {
     "data": {
      "text/plain": [
       "Lasso(alpha=0.02459743823688252, copy_X=True, fit_intercept=True, max_iter=1000,\n",
       "      normalize=False, positive=False, precompute=False, random_state=None,\n",
       "      selection='cyclic', tol=0.0001, warm_start=False)"
      ]
     },
     "execution_count": 26,
     "metadata": {},
     "output_type": "execute_result"
    }
   ],
   "source": [
    "from sklearn.linear_model import Lasso\n",
    "clf = Lasso(alpha=lascv.alpha_)\n",
    "clf.fit(X_train, y_train)\n"
   ]
  },
  {
   "cell_type": "code",
   "execution_count": 27,
   "metadata": {},
   "outputs": [
    {
     "name": "stdout",
     "output_type": "stream",
     "text": [
      "The coefficients of regression with centred data: \n",
      "  [ 1.02640387e-01 -0.00000000e+00  0.00000000e+00  0.00000000e+00\n",
      " -0.00000000e+00  4.39373505e-03 -4.06470956e-04 -0.00000000e+00\n",
      "  6.57957986e-01  1.79953120e-01  1.27537490e-01]\n",
      "The intercept of regression with centred data: \n",
      " 0.8389884384600421\n"
     ]
    }
   ],
   "source": [
    "print(\"The coefficients of regression with centred data: \\n \", clf.coef_)\n",
    "print(\"The intercept of regression with centred data: \\n\", clf.intercept_)\n"
   ]
  },
  {
   "cell_type": "code",
   "execution_count": 28,
   "metadata": {},
   "outputs": [
    {
     "name": "stdout",
     "output_type": "stream",
     "text": [
      "The loss of regression with lasso:  0.13047548009378707\n"
     ]
    }
   ],
   "source": [
    "print(\"The loss of regression with lasso: \", get_loss(X_test,y_test, clf.intercept_, clf.coef_))"
   ]
  }
 ],
 "metadata": {
  "kernelspec": {
   "display_name": "Python 3",
   "language": "python",
   "name": "python3"
  },
  "language_info": {
   "codemirror_mode": {
    "name": "ipython",
    "version": 3
   },
   "file_extension": ".py",
   "mimetype": "text/x-python",
   "name": "python",
   "nbconvert_exporter": "python",
   "pygments_lexer": "ipython3",
   "version": "3.7.3"
  }
 },
 "nbformat": 4,
 "nbformat_minor": 2
}
