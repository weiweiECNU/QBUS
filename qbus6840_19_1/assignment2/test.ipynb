{
 "cells": [
  {
   "cell_type": "code",
   "execution_count": 2,
   "metadata": {},
   "outputs": [],
   "source": [
    "import numpy as np\n",
    "import pandas as pd\n",
    "import matplotlib.pyplot as plt\n",
    "\n",
    "\n",
    "date_parser = lambda dates: pd.datetime.strptime(dates, \"%Y-%m-%d\") \n",
    "\n",
    "data_daily  = pd.read_csv(\"ASX200Daily.csv\",parse_dates = [\"Date\"], index_col = 'Date', date_parser = date_parser) \n",
    "\n",
    "data_monthly = pd.read_csv(\"ASX200Monthly.csv\",parse_dates = [\"Date\"], index_col = 'Date', date_parser = date_parser)"
   ]
  },
  {
   "cell_type": "code",
   "execution_count": 4,
   "metadata": {},
   "outputs": [],
   "source": [
    "close_daily = data_daily[\"Close\"]\n",
    "close_monthly = data_monthly[\"Close\"]\n"
   ]
  },
  {
   "cell_type": "code",
   "execution_count": null,
   "metadata": {},
   "outputs": [],
   "source": [
    "\n",
    "\n",
    "\n"
   ]
  }
 ],
 "metadata": {
  "kernelspec": {
   "display_name": "Python 3",
   "language": "python",
   "name": "python3"
  },
  "language_info": {
   "codemirror_mode": {
    "name": "ipython",
    "version": 3
   },
   "file_extension": ".py",
   "mimetype": "text/x-python",
   "name": "python",
   "nbconvert_exporter": "python",
   "pygments_lexer": "ipython3",
   "version": "3.6.8"
  }
 },
 "nbformat": 4,
 "nbformat_minor": 2
}
