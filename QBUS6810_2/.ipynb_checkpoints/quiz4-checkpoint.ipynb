{
 "cells": [
  {
   "cell_type": "code",
   "execution_count": 5,
   "metadata": {
    "ExecuteTime": {
     "end_time": "2019-10-23T10:19:15.233643Z",
     "start_time": "2019-10-23T10:19:14.575055Z"
    }
   },
   "outputs": [],
   "source": [
    "import pandas as pd\n",
    "import numpy as np\n"
   ]
  },
  {
   "cell_type": "code",
   "execution_count": 7,
   "metadata": {
    "ExecuteTime": {
     "end_time": "2019-10-23T10:19:29.205790Z",
     "start_time": "2019-10-23T10:19:29.146116Z"
    }
   },
   "outputs": [],
   "source": [
    "data = pd.read_excel('train.xls')\n",
    "# test = pd.read_csv('test.csv', index_col=0)\n"
   ]
  },
  {
   "cell_type": "code",
   "execution_count": 8,
   "metadata": {
    "ExecuteTime": {
     "end_time": "2019-10-23T11:05:39.422577Z",
     "start_time": "2019-10-23T11:05:39.417152Z"
    }
   },
   "outputs": [],
   "source": [
    "def func_expect(sigma, P, q, xm):\n",
    "    \"\"\"\n",
    "    Calculate the expect.\n",
    "    Attributes:\n",
    "        sigma: array\n",
    "        P: array\n",
    "        q: array\n",
    "        xm: array\n",
    "\n",
    "\n",
    "    Return:\n",
    "        expect: float\n",
    "\n",
    "    \"\"\"\n",
    "    o = np.dot(np.dot(P, sigma), P.T)/c\n",
    "    t = 0.01\n",
    "    Am = 3\n",
    "    Pi = np.dot(Am * sigma, xm)\n",
    "\n",
    "    left = np.linalg.inv(np.linalg.inv(t*sigma) +\n",
    "                         np.dot(np.dot(P.T, np.linalg.inv(o)), P))\n",
    "    right = np.dot(np.linalg.inv(t*sigma), Pi) + \\\n",
    "        np.dot(np.dot(P.T, np.linalg.inv(o)), q)\n",
    "\n",
    "    return np.dot(left, right)"
   ]
  },
  {
   "cell_type": "code",
   "execution_count": null,
   "metadata": {},
   "outputs": [],
   "source": []
  }
 ],
 "metadata": {
  "hide_input": false,
  "kernelspec": {
   "display_name": "Python 3",
   "language": "python",
   "name": "python3"
  },
  "language_info": {
   "codemirror_mode": {
    "name": "ipython",
    "version": 3
   },
   "file_extension": ".py",
   "mimetype": "text/x-python",
   "name": "python",
   "nbconvert_exporter": "python",
   "pygments_lexer": "ipython3",
   "version": "3.7.3"
  },
  "toc": {
   "base_numbering": 1,
   "nav_menu": {},
   "number_sections": true,
   "sideBar": true,
   "skip_h1_title": false,
   "title_cell": "Table of Contents",
   "title_sidebar": "Contents",
   "toc_cell": false,
   "toc_position": {},
   "toc_section_display": true,
   "toc_window_display": false
  },
  "varInspector": {
   "cols": {
    "lenName": 16,
    "lenType": 16,
    "lenVar": 40
   },
   "kernels_config": {
    "python": {
     "delete_cmd_postfix": "",
     "delete_cmd_prefix": "del ",
     "library": "var_list.py",
     "varRefreshCmd": "print(var_dic_list())"
    },
    "r": {
     "delete_cmd_postfix": ") ",
     "delete_cmd_prefix": "rm(",
     "library": "var_list.r",
     "varRefreshCmd": "cat(var_dic_list()) "
    }
   },
   "types_to_exclude": [
    "module",
    "function",
    "builtin_function_or_method",
    "instance",
    "_Feature"
   ],
   "window_display": true
  }
 },
 "nbformat": 4,
 "nbformat_minor": 2
}
