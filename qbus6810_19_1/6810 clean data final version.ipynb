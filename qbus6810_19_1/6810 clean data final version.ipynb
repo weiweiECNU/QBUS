{
 "cells": [
  {
   "cell_type": "markdown",
   "metadata": {},
   "source": [
    "# First part for import the raw data and deal with null value"
   ]
  },
  {
   "cell_type": "code",
   "execution_count": 1,
   "metadata": {},
   "outputs": [],
   "source": [
    "import pandas as pd\n",
    "import numpy as np\n",
    "import seaborn as sns\n",
    "import matplotlib.pyplot as plt\n",
    "import warnings\n",
    "warnings.filterwarnings('ignore')"
   ]
  },
  {
   "cell_type": "code",
   "execution_count": 2,
   "metadata": {},
   "outputs": [
    {
     "data": {
      "text/plain": [
       "(570, 29)"
      ]
     },
     "execution_count": 2,
     "metadata": {},
     "output_type": "execute_result"
    }
   ],
   "source": [
    "# import the csv file of train set and test set into Python\n",
    "train_set = pd.read_csv(\"train.csv\")\n",
    "test_set = pd.read_csv(\"test.csv\")\n",
    "test_set.shape"
   ]
  },
  {
   "cell_type": "code",
   "execution_count": 3,
   "metadata": {},
   "outputs": [
    {
     "data": {
      "text/html": [
       "<div>\n",
       "<style scoped>\n",
       "    .dataframe tbody tr th:only-of-type {\n",
       "        vertical-align: middle;\n",
       "    }\n",
       "\n",
       "    .dataframe tbody tr th {\n",
       "        vertical-align: top;\n",
       "    }\n",
       "\n",
       "    .dataframe thead th {\n",
       "        text-align: right;\n",
       "    }\n",
       "</style>\n",
       "<table border=\"1\" class=\"dataframe\">\n",
       "  <thead>\n",
       "    <tr style=\"text-align: right;\">\n",
       "      <th></th>\n",
       "      <th>Id</th>\n",
       "      <th>price</th>\n",
       "      <th>host_is_superhost</th>\n",
       "      <th>host_total_listings_count</th>\n",
       "      <th>host_identity_verified</th>\n",
       "      <th>latitude</th>\n",
       "      <th>longitude</th>\n",
       "      <th>property_type</th>\n",
       "      <th>room_type</th>\n",
       "      <th>accommodates</th>\n",
       "      <th>...</th>\n",
       "      <th>review_scores_accuracy</th>\n",
       "      <th>review_scores_cleanliness</th>\n",
       "      <th>review_scores_checkin</th>\n",
       "      <th>review_scores_communication</th>\n",
       "      <th>review_scores_location</th>\n",
       "      <th>review_scores_value</th>\n",
       "      <th>instant_bookable</th>\n",
       "      <th>is_business_travel_ready</th>\n",
       "      <th>cancellation_policy</th>\n",
       "      <th>reviews_per_month</th>\n",
       "    </tr>\n",
       "  </thead>\n",
       "  <tbody>\n",
       "    <tr>\n",
       "      <th>0</th>\n",
       "      <td>570</td>\n",
       "      <td>110</td>\n",
       "      <td>f</td>\n",
       "      <td>1</td>\n",
       "      <td>t</td>\n",
       "      <td>-33.744684</td>\n",
       "      <td>151.287888</td>\n",
       "      <td>Apartment</td>\n",
       "      <td>Entire home/apt</td>\n",
       "      <td>4</td>\n",
       "      <td>...</td>\n",
       "      <td>8.0</td>\n",
       "      <td>6.0</td>\n",
       "      <td>10.0</td>\n",
       "      <td>10.0</td>\n",
       "      <td>8.0</td>\n",
       "      <td>8.0</td>\n",
       "      <td>f</td>\n",
       "      <td>f</td>\n",
       "      <td>flexible</td>\n",
       "      <td>0.04</td>\n",
       "    </tr>\n",
       "    <tr>\n",
       "      <th>1</th>\n",
       "      <td>571</td>\n",
       "      <td>99</td>\n",
       "      <td>t</td>\n",
       "      <td>1</td>\n",
       "      <td>f</td>\n",
       "      <td>-33.793117</td>\n",
       "      <td>151.286795</td>\n",
       "      <td>Apartment</td>\n",
       "      <td>Private room</td>\n",
       "      <td>2</td>\n",
       "      <td>...</td>\n",
       "      <td>10.0</td>\n",
       "      <td>10.0</td>\n",
       "      <td>10.0</td>\n",
       "      <td>10.0</td>\n",
       "      <td>10.0</td>\n",
       "      <td>10.0</td>\n",
       "      <td>f</td>\n",
       "      <td>f</td>\n",
       "      <td>flexible</td>\n",
       "      <td>0.80</td>\n",
       "    </tr>\n",
       "    <tr>\n",
       "      <th>2</th>\n",
       "      <td>572</td>\n",
       "      <td>70</td>\n",
       "      <td>f</td>\n",
       "      <td>1</td>\n",
       "      <td>f</td>\n",
       "      <td>-33.718033</td>\n",
       "      <td>151.298931</td>\n",
       "      <td>Apartment</td>\n",
       "      <td>Entire home/apt</td>\n",
       "      <td>4</td>\n",
       "      <td>...</td>\n",
       "      <td>10.0</td>\n",
       "      <td>10.0</td>\n",
       "      <td>10.0</td>\n",
       "      <td>10.0</td>\n",
       "      <td>10.0</td>\n",
       "      <td>10.0</td>\n",
       "      <td>f</td>\n",
       "      <td>f</td>\n",
       "      <td>strict</td>\n",
       "      <td>0.09</td>\n",
       "    </tr>\n",
       "    <tr>\n",
       "      <th>3</th>\n",
       "      <td>573</td>\n",
       "      <td>157</td>\n",
       "      <td>f</td>\n",
       "      <td>1</td>\n",
       "      <td>t</td>\n",
       "      <td>-33.802581</td>\n",
       "      <td>151.287691</td>\n",
       "      <td>Apartment</td>\n",
       "      <td>Entire home/apt</td>\n",
       "      <td>3</td>\n",
       "      <td>...</td>\n",
       "      <td>9.0</td>\n",
       "      <td>8.0</td>\n",
       "      <td>10.0</td>\n",
       "      <td>9.0</td>\n",
       "      <td>8.0</td>\n",
       "      <td>9.0</td>\n",
       "      <td>f</td>\n",
       "      <td>f</td>\n",
       "      <td>strict</td>\n",
       "      <td>0.13</td>\n",
       "    </tr>\n",
       "    <tr>\n",
       "      <th>4</th>\n",
       "      <td>574</td>\n",
       "      <td>120</td>\n",
       "      <td>f</td>\n",
       "      <td>1</td>\n",
       "      <td>f</td>\n",
       "      <td>-33.757136</td>\n",
       "      <td>151.291337</td>\n",
       "      <td>Apartment</td>\n",
       "      <td>Entire home/apt</td>\n",
       "      <td>4</td>\n",
       "      <td>...</td>\n",
       "      <td>NaN</td>\n",
       "      <td>NaN</td>\n",
       "      <td>NaN</td>\n",
       "      <td>NaN</td>\n",
       "      <td>NaN</td>\n",
       "      <td>NaN</td>\n",
       "      <td>f</td>\n",
       "      <td>f</td>\n",
       "      <td>moderate</td>\n",
       "      <td>NaN</td>\n",
       "    </tr>\n",
       "  </tbody>\n",
       "</table>\n",
       "<p>5 rows × 30 columns</p>\n",
       "</div>"
      ],
      "text/plain": [
       "    Id  price host_is_superhost  host_total_listings_count  \\\n",
       "0  570    110                 f                          1   \n",
       "1  571     99                 t                          1   \n",
       "2  572     70                 f                          1   \n",
       "3  573    157                 f                          1   \n",
       "4  574    120                 f                          1   \n",
       "\n",
       "  host_identity_verified   latitude   longitude property_type  \\\n",
       "0                      t -33.744684  151.287888     Apartment   \n",
       "1                      f -33.793117  151.286795     Apartment   \n",
       "2                      f -33.718033  151.298931     Apartment   \n",
       "3                      t -33.802581  151.287691     Apartment   \n",
       "4                      f -33.757136  151.291337     Apartment   \n",
       "\n",
       "         room_type  accommodates        ...          review_scores_accuracy  \\\n",
       "0  Entire home/apt             4        ...                             8.0   \n",
       "1     Private room             2        ...                            10.0   \n",
       "2  Entire home/apt             4        ...                            10.0   \n",
       "3  Entire home/apt             3        ...                             9.0   \n",
       "4  Entire home/apt             4        ...                             NaN   \n",
       "\n",
       "   review_scores_cleanliness  review_scores_checkin  \\\n",
       "0                        6.0                   10.0   \n",
       "1                       10.0                   10.0   \n",
       "2                       10.0                   10.0   \n",
       "3                        8.0                   10.0   \n",
       "4                        NaN                    NaN   \n",
       "\n",
       "   review_scores_communication  review_scores_location  review_scores_value  \\\n",
       "0                         10.0                     8.0                  8.0   \n",
       "1                         10.0                    10.0                 10.0   \n",
       "2                         10.0                    10.0                 10.0   \n",
       "3                          9.0                     8.0                  9.0   \n",
       "4                          NaN                     NaN                  NaN   \n",
       "\n",
       "   instant_bookable  is_business_travel_ready  cancellation_policy  \\\n",
       "0                 f                         f             flexible   \n",
       "1                 f                         f             flexible   \n",
       "2                 f                         f               strict   \n",
       "3                 f                         f               strict   \n",
       "4                 f                         f             moderate   \n",
       "\n",
       "   reviews_per_month  \n",
       "0               0.04  \n",
       "1               0.80  \n",
       "2               0.09  \n",
       "3               0.13  \n",
       "4                NaN  \n",
       "\n",
       "[5 rows x 30 columns]"
      ]
     },
     "execution_count": 3,
     "metadata": {},
     "output_type": "execute_result"
    }
   ],
   "source": [
    "# get the detail of train set\n",
    "train_set.head()"
   ]
  },
  {
   "cell_type": "code",
   "execution_count": 4,
   "metadata": {
    "scrolled": true
   },
   "outputs": [
    {
     "data": {
      "text/html": [
       "<div>\n",
       "<style scoped>\n",
       "    .dataframe tbody tr th:only-of-type {\n",
       "        vertical-align: middle;\n",
       "    }\n",
       "\n",
       "    .dataframe tbody tr th {\n",
       "        vertical-align: top;\n",
       "    }\n",
       "\n",
       "    .dataframe thead th {\n",
       "        text-align: right;\n",
       "    }\n",
       "</style>\n",
       "<table border=\"1\" class=\"dataframe\">\n",
       "  <thead>\n",
       "    <tr style=\"text-align: right;\">\n",
       "      <th></th>\n",
       "      <th>Id</th>\n",
       "      <th>host_is_superhost</th>\n",
       "      <th>host_total_listings_count</th>\n",
       "      <th>host_identity_verified</th>\n",
       "      <th>latitude</th>\n",
       "      <th>longitude</th>\n",
       "      <th>property_type</th>\n",
       "      <th>room_type</th>\n",
       "      <th>accommodates</th>\n",
       "      <th>bathrooms</th>\n",
       "      <th>...</th>\n",
       "      <th>review_scores_accuracy</th>\n",
       "      <th>review_scores_cleanliness</th>\n",
       "      <th>review_scores_checkin</th>\n",
       "      <th>review_scores_communication</th>\n",
       "      <th>review_scores_location</th>\n",
       "      <th>review_scores_value</th>\n",
       "      <th>instant_bookable</th>\n",
       "      <th>is_business_travel_ready</th>\n",
       "      <th>cancellation_policy</th>\n",
       "      <th>reviews_per_month</th>\n",
       "    </tr>\n",
       "  </thead>\n",
       "  <tbody>\n",
       "    <tr>\n",
       "      <th>0</th>\n",
       "      <td>0</td>\n",
       "      <td>f</td>\n",
       "      <td>3</td>\n",
       "      <td>t</td>\n",
       "      <td>-33.791096</td>\n",
       "      <td>151.287506</td>\n",
       "      <td>Apartment</td>\n",
       "      <td>Private room</td>\n",
       "      <td>2</td>\n",
       "      <td>1.0</td>\n",
       "      <td>...</td>\n",
       "      <td>NaN</td>\n",
       "      <td>NaN</td>\n",
       "      <td>NaN</td>\n",
       "      <td>NaN</td>\n",
       "      <td>NaN</td>\n",
       "      <td>NaN</td>\n",
       "      <td>t</td>\n",
       "      <td>f</td>\n",
       "      <td>moderate</td>\n",
       "      <td>0.07</td>\n",
       "    </tr>\n",
       "    <tr>\n",
       "      <th>1</th>\n",
       "      <td>1</td>\n",
       "      <td>f</td>\n",
       "      <td>1</td>\n",
       "      <td>t</td>\n",
       "      <td>-33.807959</td>\n",
       "      <td>151.282741</td>\n",
       "      <td>Apartment</td>\n",
       "      <td>Entire home/apt</td>\n",
       "      <td>2</td>\n",
       "      <td>1.0</td>\n",
       "      <td>...</td>\n",
       "      <td>7.0</td>\n",
       "      <td>5.0</td>\n",
       "      <td>8.0</td>\n",
       "      <td>7.0</td>\n",
       "      <td>10.0</td>\n",
       "      <td>7.0</td>\n",
       "      <td>f</td>\n",
       "      <td>f</td>\n",
       "      <td>strict</td>\n",
       "      <td>0.05</td>\n",
       "    </tr>\n",
       "    <tr>\n",
       "      <th>2</th>\n",
       "      <td>2</td>\n",
       "      <td>f</td>\n",
       "      <td>1</td>\n",
       "      <td>f</td>\n",
       "      <td>-33.740862</td>\n",
       "      <td>151.281386</td>\n",
       "      <td>House</td>\n",
       "      <td>Private room</td>\n",
       "      <td>2</td>\n",
       "      <td>1.5</td>\n",
       "      <td>...</td>\n",
       "      <td>NaN</td>\n",
       "      <td>NaN</td>\n",
       "      <td>NaN</td>\n",
       "      <td>NaN</td>\n",
       "      <td>NaN</td>\n",
       "      <td>NaN</td>\n",
       "      <td>f</td>\n",
       "      <td>f</td>\n",
       "      <td>strict</td>\n",
       "      <td>0.04</td>\n",
       "    </tr>\n",
       "    <tr>\n",
       "      <th>3</th>\n",
       "      <td>3</td>\n",
       "      <td>f</td>\n",
       "      <td>1</td>\n",
       "      <td>f</td>\n",
       "      <td>-33.787578</td>\n",
       "      <td>151.283982</td>\n",
       "      <td>Apartment</td>\n",
       "      <td>Private room</td>\n",
       "      <td>2</td>\n",
       "      <td>1.0</td>\n",
       "      <td>...</td>\n",
       "      <td>NaN</td>\n",
       "      <td>NaN</td>\n",
       "      <td>NaN</td>\n",
       "      <td>NaN</td>\n",
       "      <td>NaN</td>\n",
       "      <td>NaN</td>\n",
       "      <td>f</td>\n",
       "      <td>f</td>\n",
       "      <td>flexible</td>\n",
       "      <td>NaN</td>\n",
       "    </tr>\n",
       "    <tr>\n",
       "      <th>4</th>\n",
       "      <td>4</td>\n",
       "      <td>f</td>\n",
       "      <td>1</td>\n",
       "      <td>t</td>\n",
       "      <td>-33.754447</td>\n",
       "      <td>151.267175</td>\n",
       "      <td>Apartment</td>\n",
       "      <td>Entire home/apt</td>\n",
       "      <td>6</td>\n",
       "      <td>1.0</td>\n",
       "      <td>...</td>\n",
       "      <td>10.0</td>\n",
       "      <td>10.0</td>\n",
       "      <td>10.0</td>\n",
       "      <td>10.0</td>\n",
       "      <td>10.0</td>\n",
       "      <td>10.0</td>\n",
       "      <td>f</td>\n",
       "      <td>f</td>\n",
       "      <td>moderate</td>\n",
       "      <td>1.00</td>\n",
       "    </tr>\n",
       "  </tbody>\n",
       "</table>\n",
       "<p>5 rows × 29 columns</p>\n",
       "</div>"
      ],
      "text/plain": [
       "   Id host_is_superhost  host_total_listings_count host_identity_verified  \\\n",
       "0   0                 f                          3                      t   \n",
       "1   1                 f                          1                      t   \n",
       "2   2                 f                          1                      f   \n",
       "3   3                 f                          1                      f   \n",
       "4   4                 f                          1                      t   \n",
       "\n",
       "    latitude   longitude property_type        room_type  accommodates  \\\n",
       "0 -33.791096  151.287506     Apartment     Private room             2   \n",
       "1 -33.807959  151.282741     Apartment  Entire home/apt             2   \n",
       "2 -33.740862  151.281386         House     Private room             2   \n",
       "3 -33.787578  151.283982     Apartment     Private room             2   \n",
       "4 -33.754447  151.267175     Apartment  Entire home/apt             6   \n",
       "\n",
       "   bathrooms        ...          review_scores_accuracy  \\\n",
       "0        1.0        ...                             NaN   \n",
       "1        1.0        ...                             7.0   \n",
       "2        1.5        ...                             NaN   \n",
       "3        1.0        ...                             NaN   \n",
       "4        1.0        ...                            10.0   \n",
       "\n",
       "   review_scores_cleanliness  review_scores_checkin  \\\n",
       "0                        NaN                    NaN   \n",
       "1                        5.0                    8.0   \n",
       "2                        NaN                    NaN   \n",
       "3                        NaN                    NaN   \n",
       "4                       10.0                   10.0   \n",
       "\n",
       "   review_scores_communication  review_scores_location  review_scores_value  \\\n",
       "0                          NaN                     NaN                  NaN   \n",
       "1                          7.0                    10.0                  7.0   \n",
       "2                          NaN                     NaN                  NaN   \n",
       "3                          NaN                     NaN                  NaN   \n",
       "4                         10.0                    10.0                 10.0   \n",
       "\n",
       "   instant_bookable  is_business_travel_ready  cancellation_policy  \\\n",
       "0                 t                         f             moderate   \n",
       "1                 f                         f               strict   \n",
       "2                 f                         f               strict   \n",
       "3                 f                         f             flexible   \n",
       "4                 f                         f             moderate   \n",
       "\n",
       "   reviews_per_month  \n",
       "0               0.07  \n",
       "1               0.05  \n",
       "2               0.04  \n",
       "3                NaN  \n",
       "4               1.00  \n",
       "\n",
       "[5 rows x 29 columns]"
      ]
     },
     "execution_count": 4,
     "metadata": {},
     "output_type": "execute_result"
    }
   ],
   "source": [
    "# get the detail of test set\n",
    "test_set.head()"
   ]
  },
  {
   "cell_type": "code",
   "execution_count": 5,
   "metadata": {},
   "outputs": [
    {
     "name": "stdout",
     "output_type": "stream",
     "text": [
      "Index(['Id', 'price', 'host_is_superhost', 'host_total_listings_count',\n",
      "       'host_identity_verified', 'latitude', 'longitude', 'property_type',\n",
      "       'room_type', 'accommodates', 'bathrooms', 'bedrooms', 'beds',\n",
      "       'security_deposit', 'cleaning_fee', 'extra_people', 'minimum_nights',\n",
      "       'maximum_nights', 'number_of_reviews', 'review_scores_rating',\n",
      "       'review_scores_accuracy', 'review_scores_cleanliness',\n",
      "       'review_scores_checkin', 'review_scores_communication',\n",
      "       'review_scores_location', 'review_scores_value', 'instant_bookable',\n",
      "       'is_business_travel_ready', 'cancellation_policy', 'reviews_per_month'],\n",
      "      dtype='object')\n"
     ]
    }
   ],
   "source": [
    "print(train_set.columns)"
   ]
  },
  {
   "cell_type": "code",
   "execution_count": 6,
   "metadata": {
    "scrolled": true
   },
   "outputs": [
    {
     "data": {
      "text/plain": [
       "Id                               0\n",
       "price                            0\n",
       "host_is_superhost                0\n",
       "host_total_listings_count        0\n",
       "host_identity_verified           0\n",
       "latitude                         0\n",
       "longitude                        0\n",
       "property_type                    0\n",
       "room_type                        0\n",
       "accommodates                     0\n",
       "bathrooms                        0\n",
       "bedrooms                         0\n",
       "beds                             0\n",
       "security_deposit               160\n",
       "cleaning_fee                   119\n",
       "extra_people                     0\n",
       "minimum_nights                   0\n",
       "maximum_nights                   0\n",
       "number_of_reviews                0\n",
       "review_scores_rating           128\n",
       "review_scores_accuracy         129\n",
       "review_scores_cleanliness      128\n",
       "review_scores_checkin          129\n",
       "review_scores_communication    128\n",
       "review_scores_location         129\n",
       "review_scores_value            129\n",
       "instant_bookable                 0\n",
       "is_business_travel_ready         0\n",
       "cancellation_policy              0\n",
       "reviews_per_month              120\n",
       "dtype: int64"
      ]
     },
     "execution_count": 6,
     "metadata": {},
     "output_type": "execute_result"
    }
   ],
   "source": [
    "train_set.isnull().sum()"
   ]
  },
  {
   "cell_type": "code",
   "execution_count": 7,
   "metadata": {},
   "outputs": [
    {
     "data": {
      "text/plain": [
       "Id                               0\n",
       "host_is_superhost                0\n",
       "host_total_listings_count        0\n",
       "host_identity_verified           0\n",
       "latitude                         0\n",
       "longitude                        0\n",
       "property_type                    0\n",
       "room_type                        0\n",
       "accommodates                     0\n",
       "bathrooms                        2\n",
       "bedrooms                         0\n",
       "beds                             0\n",
       "security_deposit               256\n",
       "cleaning_fee                   194\n",
       "extra_people                     0\n",
       "minimum_nights                   0\n",
       "maximum_nights                   0\n",
       "number_of_reviews                0\n",
       "review_scores_rating           173\n",
       "review_scores_accuracy         175\n",
       "review_scores_cleanliness      175\n",
       "review_scores_checkin          176\n",
       "review_scores_communication    176\n",
       "review_scores_location         176\n",
       "review_scores_value            176\n",
       "instant_bookable                 0\n",
       "is_business_travel_ready         0\n",
       "cancellation_policy              0\n",
       "reviews_per_month              163\n",
       "dtype: int64"
      ]
     },
     "execution_count": 7,
     "metadata": {},
     "output_type": "execute_result"
    }
   ],
   "source": [
    "test_set.isnull().sum()"
   ]
  },
  {
   "cell_type": "code",
   "execution_count": 8,
   "metadata": {},
   "outputs": [
    {
     "name": "stdout",
     "output_type": "stream",
     "text": [
      "<class 'pandas.core.frame.DataFrame'>\n",
      "RangeIndex: 383 entries, 0 to 382\n",
      "Data columns (total 30 columns):\n",
      "Id                             383 non-null int64\n",
      "price                          383 non-null int64\n",
      "host_is_superhost              383 non-null object\n",
      "host_total_listings_count      383 non-null int64\n",
      "host_identity_verified         383 non-null object\n",
      "latitude                       383 non-null float64\n",
      "longitude                      383 non-null float64\n",
      "property_type                  383 non-null object\n",
      "room_type                      383 non-null object\n",
      "accommodates                   383 non-null int64\n",
      "bathrooms                      383 non-null float64\n",
      "bedrooms                       383 non-null int64\n",
      "beds                           383 non-null int64\n",
      "security_deposit               223 non-null float64\n",
      "cleaning_fee                   264 non-null float64\n",
      "extra_people                   383 non-null int64\n",
      "minimum_nights                 383 non-null int64\n",
      "maximum_nights                 383 non-null int64\n",
      "number_of_reviews              383 non-null int64\n",
      "review_scores_rating           255 non-null float64\n",
      "review_scores_accuracy         254 non-null float64\n",
      "review_scores_cleanliness      255 non-null float64\n",
      "review_scores_checkin          254 non-null float64\n",
      "review_scores_communication    255 non-null float64\n",
      "review_scores_location         254 non-null float64\n",
      "review_scores_value            254 non-null float64\n",
      "instant_bookable               383 non-null object\n",
      "is_business_travel_ready       383 non-null object\n",
      "cancellation_policy            383 non-null object\n",
      "reviews_per_month              263 non-null float64\n",
      "dtypes: float64(13), int64(10), object(7)\n",
      "memory usage: 89.8+ KB\n"
     ]
    }
   ],
   "source": [
    "train_set.info()"
   ]
  },
  {
   "cell_type": "code",
   "execution_count": 9,
   "metadata": {
    "scrolled": false
   },
   "outputs": [
    {
     "name": "stdout",
     "output_type": "stream",
     "text": [
      "<class 'pandas.core.frame.DataFrame'>\n",
      "RangeIndex: 570 entries, 0 to 569\n",
      "Data columns (total 29 columns):\n",
      "Id                             570 non-null int64\n",
      "host_is_superhost              570 non-null object\n",
      "host_total_listings_count      570 non-null int64\n",
      "host_identity_verified         570 non-null object\n",
      "latitude                       570 non-null float64\n",
      "longitude                      570 non-null float64\n",
      "property_type                  570 non-null object\n",
      "room_type                      570 non-null object\n",
      "accommodates                   570 non-null int64\n",
      "bathrooms                      568 non-null float64\n",
      "bedrooms                       570 non-null int64\n",
      "beds                           570 non-null int64\n",
      "security_deposit               314 non-null float64\n",
      "cleaning_fee                   376 non-null float64\n",
      "extra_people                   570 non-null int64\n",
      "minimum_nights                 570 non-null int64\n",
      "maximum_nights                 570 non-null int64\n",
      "number_of_reviews              570 non-null int64\n",
      "review_scores_rating           397 non-null float64\n",
      "review_scores_accuracy         395 non-null float64\n",
      "review_scores_cleanliness      395 non-null float64\n",
      "review_scores_checkin          394 non-null float64\n",
      "review_scores_communication    394 non-null float64\n",
      "review_scores_location         394 non-null float64\n",
      "review_scores_value            394 non-null float64\n",
      "instant_bookable               570 non-null object\n",
      "is_business_travel_ready       570 non-null object\n",
      "cancellation_policy            570 non-null object\n",
      "reviews_per_month              407 non-null float64\n",
      "dtypes: float64(13), int64(9), object(7)\n",
      "memory usage: 129.2+ KB\n"
     ]
    }
   ],
   "source": [
    "test_set.info()"
   ]
  },
  {
   "cell_type": "code",
   "execution_count": 10,
   "metadata": {},
   "outputs": [],
   "source": [
    "# define the null value in security_deposit, cleaning_fee and reviews_per_month with 0\n",
    "col_1 = ['security_deposit','cleaning_fee','number_of_reviews','reviews_per_month']\n",
    "# fill the value in train set\n",
    "train_set[col_1] = train_set[col_1].fillna(0)\n",
    "# fill the value in test set\n",
    "test_set[col_1] = test_set[col_1].fillna(0)"
   ]
  },
  {
   "cell_type": "code",
   "execution_count": 11,
   "metadata": {},
   "outputs": [],
   "source": [
    "# define the null value in true false columns with false\n",
    "col_2 = ['host_is_superhost', 'host_identity_verified', 'instant_bookable', 'is_business_travel_ready']\n",
    "# fill the value in train set\n",
    "train_set[col_2] = train_set[col_2].fillna(\"f\")\n",
    "# fill the value in test set\n",
    "test_set[col_2] = test_set[col_2].fillna(\"f\")"
   ]
  },
  {
   "cell_type": "code",
   "execution_count": 12,
   "metadata": {},
   "outputs": [],
   "source": [
    "# change the null value in key column to mean\n",
    "col_3 = ['latitude','longitude','accommodates', 'bathrooms','bedrooms','beds','minimum_nights',\n",
    "      'maximum_nights']\n",
    "# fill the value in train set\n",
    "train_set[col_3] = train_set[col_3].fillna(train_set[col_3].mean())\n",
    "# fill the value in test set\n",
    "test_set[col_3] = test_set[col_3].fillna(test_set[col_3].mean())"
   ]
  },
  {
   "cell_type": "code",
   "execution_count": 13,
   "metadata": {},
   "outputs": [],
   "source": [
    "# define the null value that use mode in host_total_listing_count and extra_people\n",
    "# train set and test set for host_total_listing_count\n",
    "train_set.host_total_listings_count = train_set.host_total_listings_count.fillna(train_set.host_total_listings_count.mode()[0])\n",
    "test_set.host_total_listings_count = test_set.host_total_listings_count.fillna(test_set.host_total_listings_count.mode()[0])\n",
    "# train set and test set for extra_people\n",
    "train_set.extra_people = train_set.extra_people.fillna(train_set.extra_people.mode()[0])\n",
    "test_set.extra_people = test_set.extra_people.fillna(test_set.extra_people.mode()[0])"
   ]
  },
  {
   "cell_type": "code",
   "execution_count": 14,
   "metadata": {},
   "outputs": [],
   "source": [
    "# define the null value use a new category\n",
    "train_set.cancellation_policy = train_set.cancellation_policy.fillna(\"None\")\n",
    "test_set.cancellation_policy = test_set.cancellation_policy.fillna(\"None\")"
   ]
  },
  {
   "cell_type": "code",
   "execution_count": 15,
   "metadata": {},
   "outputs": [],
   "source": [
    "# for the review part, we also decide to use de midpoint of range for rate\n",
    "train_set.review_scores_rating = train_set.review_scores_rating.fillna(50)\n",
    "test_set.review_scores_rating = test_set.review_scores_rating.fillna(50)\n",
    "col_4 = ['review_scores_accuracy', 'review_scores_cleanliness',\n",
    "       'review_scores_checkin', 'review_scores_communication',\n",
    "       'review_scores_location', 'review_scores_value']\n",
    "train_set[col_4] = train_set[col_4].fillna(5)\n",
    "test_set[col_4] = test_set[col_4].fillna(5)"
   ]
  },
  {
   "cell_type": "code",
   "execution_count": 16,
   "metadata": {},
   "outputs": [],
   "source": [
    "# change the null value in categories column to others\n",
    "col_5 = ['property_type','room_type']\n",
    "# fill the value in train set\n",
    "train_set[col_5] = train_set[col_5].fillna(\"Others\")\n",
    "# fill the value in test set\n",
    "test_set[col_5] = test_set[col_5].fillna(\"Others\")"
   ]
  },
  {
   "cell_type": "markdown",
   "metadata": {},
   "source": [
    "# EDA"
   ]
  },
  {
   "cell_type": "code",
   "execution_count": 17,
   "metadata": {},
   "outputs": [
    {
     "name": "stdout",
     "output_type": "stream",
     "text": [
      "(383, 30)\n"
     ]
    }
   ],
   "source": [
    "print(train_set.shape)"
   ]
  },
  {
   "cell_type": "code",
   "execution_count": 18,
   "metadata": {},
   "outputs": [
    {
     "name": "stdout",
     "output_type": "stream",
     "text": [
      "(570, 29)\n"
     ]
    }
   ],
   "source": [
    "print(test_set.shape)"
   ]
  },
  {
   "cell_type": "code",
   "execution_count": 19,
   "metadata": {},
   "outputs": [
    {
     "data": {
      "text/html": [
       "<div>\n",
       "<style scoped>\n",
       "    .dataframe tbody tr th:only-of-type {\n",
       "        vertical-align: middle;\n",
       "    }\n",
       "\n",
       "    .dataframe tbody tr th {\n",
       "        vertical-align: top;\n",
       "    }\n",
       "\n",
       "    .dataframe thead th {\n",
       "        text-align: right;\n",
       "    }\n",
       "</style>\n",
       "<table border=\"1\" class=\"dataframe\">\n",
       "  <thead>\n",
       "    <tr style=\"text-align: right;\">\n",
       "      <th></th>\n",
       "      <th>Id</th>\n",
       "      <th>price</th>\n",
       "      <th>host_total_listings_count</th>\n",
       "      <th>latitude</th>\n",
       "      <th>longitude</th>\n",
       "      <th>accommodates</th>\n",
       "      <th>bathrooms</th>\n",
       "      <th>bedrooms</th>\n",
       "      <th>beds</th>\n",
       "      <th>security_deposit</th>\n",
       "      <th>...</th>\n",
       "      <th>maximum_nights</th>\n",
       "      <th>number_of_reviews</th>\n",
       "      <th>review_scores_rating</th>\n",
       "      <th>review_scores_accuracy</th>\n",
       "      <th>review_scores_cleanliness</th>\n",
       "      <th>review_scores_checkin</th>\n",
       "      <th>review_scores_communication</th>\n",
       "      <th>review_scores_location</th>\n",
       "      <th>review_scores_value</th>\n",
       "      <th>reviews_per_month</th>\n",
       "    </tr>\n",
       "  </thead>\n",
       "  <tbody>\n",
       "    <tr>\n",
       "      <th>count</th>\n",
       "      <td>383.0000</td>\n",
       "      <td>383.0000</td>\n",
       "      <td>383.0000</td>\n",
       "      <td>383.0000</td>\n",
       "      <td>383.0000</td>\n",
       "      <td>383.0000</td>\n",
       "      <td>383.0000</td>\n",
       "      <td>383.0000</td>\n",
       "      <td>383.0000</td>\n",
       "      <td>383.0000</td>\n",
       "      <td>...</td>\n",
       "      <td>383.0000</td>\n",
       "      <td>383.0000</td>\n",
       "      <td>383.000</td>\n",
       "      <td>383.0000</td>\n",
       "      <td>383.0000</td>\n",
       "      <td>383.0000</td>\n",
       "      <td>383.0000</td>\n",
       "      <td>383.0000</td>\n",
       "      <td>383.0000</td>\n",
       "      <td>383.0000</td>\n",
       "    </tr>\n",
       "    <tr>\n",
       "      <th>mean</th>\n",
       "      <td>761.0000</td>\n",
       "      <td>187.9530</td>\n",
       "      <td>4.9687</td>\n",
       "      <td>-33.7497</td>\n",
       "      <td>151.2860</td>\n",
       "      <td>3.8590</td>\n",
       "      <td>1.3381</td>\n",
       "      <td>1.8538</td>\n",
       "      <td>2.2977</td>\n",
       "      <td>289.2219</td>\n",
       "      <td>...</td>\n",
       "      <td>601.0131</td>\n",
       "      <td>7.4778</td>\n",
       "      <td>79.282</td>\n",
       "      <td>7.9791</td>\n",
       "      <td>7.8198</td>\n",
       "      <td>8.1880</td>\n",
       "      <td>8.2272</td>\n",
       "      <td>8.1227</td>\n",
       "      <td>7.8407</td>\n",
       "      <td>0.6510</td>\n",
       "    </tr>\n",
       "    <tr>\n",
       "      <th>std</th>\n",
       "      <td>110.7068</td>\n",
       "      <td>101.0892</td>\n",
       "      <td>23.1298</td>\n",
       "      <td>0.0595</td>\n",
       "      <td>0.0216</td>\n",
       "      <td>2.6959</td>\n",
       "      <td>0.5866</td>\n",
       "      <td>1.0332</td>\n",
       "      <td>1.4418</td>\n",
       "      <td>494.3615</td>\n",
       "      <td>...</td>\n",
       "      <td>543.6690</td>\n",
       "      <td>14.8502</td>\n",
       "      <td>21.924</td>\n",
       "      <td>2.2639</td>\n",
       "      <td>2.2574</td>\n",
       "      <td>2.3247</td>\n",
       "      <td>2.3240</td>\n",
       "      <td>2.3025</td>\n",
       "      <td>2.2074</td>\n",
       "      <td>1.0111</td>\n",
       "    </tr>\n",
       "    <tr>\n",
       "      <th>min</th>\n",
       "      <td>570.0000</td>\n",
       "      <td>39.0000</td>\n",
       "      <td>1.0000</td>\n",
       "      <td>-33.8069</td>\n",
       "      <td>151.2019</td>\n",
       "      <td>1.0000</td>\n",
       "      <td>0.0000</td>\n",
       "      <td>0.0000</td>\n",
       "      <td>0.0000</td>\n",
       "      <td>0.0000</td>\n",
       "      <td>...</td>\n",
       "      <td>2.0000</td>\n",
       "      <td>0.0000</td>\n",
       "      <td>40.000</td>\n",
       "      <td>4.0000</td>\n",
       "      <td>2.0000</td>\n",
       "      <td>5.0000</td>\n",
       "      <td>5.0000</td>\n",
       "      <td>5.0000</td>\n",
       "      <td>4.0000</td>\n",
       "      <td>0.0000</td>\n",
       "    </tr>\n",
       "    <tr>\n",
       "      <th>25%</th>\n",
       "      <td>665.5000</td>\n",
       "      <td>100.0000</td>\n",
       "      <td>1.0000</td>\n",
       "      <td>-33.7956</td>\n",
       "      <td>151.2782</td>\n",
       "      <td>2.0000</td>\n",
       "      <td>1.0000</td>\n",
       "      <td>1.0000</td>\n",
       "      <td>1.0000</td>\n",
       "      <td>0.0000</td>\n",
       "      <td>...</td>\n",
       "      <td>28.0000</td>\n",
       "      <td>0.0000</td>\n",
       "      <td>50.000</td>\n",
       "      <td>5.0000</td>\n",
       "      <td>5.0000</td>\n",
       "      <td>5.0000</td>\n",
       "      <td>5.0000</td>\n",
       "      <td>5.0000</td>\n",
       "      <td>5.0000</td>\n",
       "      <td>0.0000</td>\n",
       "    </tr>\n",
       "    <tr>\n",
       "      <th>50%</th>\n",
       "      <td>761.0000</td>\n",
       "      <td>165.0000</td>\n",
       "      <td>1.0000</td>\n",
       "      <td>-33.7760</td>\n",
       "      <td>151.2865</td>\n",
       "      <td>4.0000</td>\n",
       "      <td>1.0000</td>\n",
       "      <td>2.0000</td>\n",
       "      <td>2.0000</td>\n",
       "      <td>127.0000</td>\n",
       "      <td>...</td>\n",
       "      <td>1125.0000</td>\n",
       "      <td>2.0000</td>\n",
       "      <td>91.000</td>\n",
       "      <td>9.0000</td>\n",
       "      <td>9.0000</td>\n",
       "      <td>10.0000</td>\n",
       "      <td>10.0000</td>\n",
       "      <td>10.0000</td>\n",
       "      <td>9.0000</td>\n",
       "      <td>0.1900</td>\n",
       "    </tr>\n",
       "    <tr>\n",
       "      <th>75%</th>\n",
       "      <td>856.5000</td>\n",
       "      <td>250.0000</td>\n",
       "      <td>2.0000</td>\n",
       "      <td>-33.7247</td>\n",
       "      <td>151.2936</td>\n",
       "      <td>5.0000</td>\n",
       "      <td>1.5000</td>\n",
       "      <td>2.0000</td>\n",
       "      <td>3.0000</td>\n",
       "      <td>500.0000</td>\n",
       "      <td>...</td>\n",
       "      <td>1125.0000</td>\n",
       "      <td>8.0000</td>\n",
       "      <td>100.000</td>\n",
       "      <td>10.0000</td>\n",
       "      <td>10.0000</td>\n",
       "      <td>10.0000</td>\n",
       "      <td>10.0000</td>\n",
       "      <td>10.0000</td>\n",
       "      <td>10.0000</td>\n",
       "      <td>0.8300</td>\n",
       "    </tr>\n",
       "    <tr>\n",
       "      <th>max</th>\n",
       "      <td>952.0000</td>\n",
       "      <td>435.0000</td>\n",
       "      <td>198.0000</td>\n",
       "      <td>-33.5893</td>\n",
       "      <td>151.3387</td>\n",
       "      <td>40.0000</td>\n",
       "      <td>4.5000</td>\n",
       "      <td>5.0000</td>\n",
       "      <td>11.0000</td>\n",
       "      <td>4000.0000</td>\n",
       "      <td>...</td>\n",
       "      <td>1126.0000</td>\n",
       "      <td>96.0000</td>\n",
       "      <td>100.000</td>\n",
       "      <td>10.0000</td>\n",
       "      <td>10.0000</td>\n",
       "      <td>10.0000</td>\n",
       "      <td>10.0000</td>\n",
       "      <td>10.0000</td>\n",
       "      <td>10.0000</td>\n",
       "      <td>5.5900</td>\n",
       "    </tr>\n",
       "  </tbody>\n",
       "</table>\n",
       "<p>8 rows × 23 columns</p>\n",
       "</div>"
      ],
      "text/plain": [
       "             Id     price  host_total_listings_count  latitude  longitude  \\\n",
       "count  383.0000  383.0000                   383.0000  383.0000   383.0000   \n",
       "mean   761.0000  187.9530                     4.9687  -33.7497   151.2860   \n",
       "std    110.7068  101.0892                    23.1298    0.0595     0.0216   \n",
       "min    570.0000   39.0000                     1.0000  -33.8069   151.2019   \n",
       "25%    665.5000  100.0000                     1.0000  -33.7956   151.2782   \n",
       "50%    761.0000  165.0000                     1.0000  -33.7760   151.2865   \n",
       "75%    856.5000  250.0000                     2.0000  -33.7247   151.2936   \n",
       "max    952.0000  435.0000                   198.0000  -33.5893   151.3387   \n",
       "\n",
       "       accommodates  bathrooms  bedrooms      beds  security_deposit  \\\n",
       "count      383.0000   383.0000  383.0000  383.0000          383.0000   \n",
       "mean         3.8590     1.3381    1.8538    2.2977          289.2219   \n",
       "std          2.6959     0.5866    1.0332    1.4418          494.3615   \n",
       "min          1.0000     0.0000    0.0000    0.0000            0.0000   \n",
       "25%          2.0000     1.0000    1.0000    1.0000            0.0000   \n",
       "50%          4.0000     1.0000    2.0000    2.0000          127.0000   \n",
       "75%          5.0000     1.5000    2.0000    3.0000          500.0000   \n",
       "max         40.0000     4.5000    5.0000   11.0000         4000.0000   \n",
       "\n",
       "             ...          maximum_nights  number_of_reviews  \\\n",
       "count        ...                383.0000           383.0000   \n",
       "mean         ...                601.0131             7.4778   \n",
       "std          ...                543.6690            14.8502   \n",
       "min          ...                  2.0000             0.0000   \n",
       "25%          ...                 28.0000             0.0000   \n",
       "50%          ...               1125.0000             2.0000   \n",
       "75%          ...               1125.0000             8.0000   \n",
       "max          ...               1126.0000            96.0000   \n",
       "\n",
       "       review_scores_rating  review_scores_accuracy  \\\n",
       "count               383.000                383.0000   \n",
       "mean                 79.282                  7.9791   \n",
       "std                  21.924                  2.2639   \n",
       "min                  40.000                  4.0000   \n",
       "25%                  50.000                  5.0000   \n",
       "50%                  91.000                  9.0000   \n",
       "75%                 100.000                 10.0000   \n",
       "max                 100.000                 10.0000   \n",
       "\n",
       "       review_scores_cleanliness  review_scores_checkin  \\\n",
       "count                   383.0000               383.0000   \n",
       "mean                      7.8198                 8.1880   \n",
       "std                       2.2574                 2.3247   \n",
       "min                       2.0000                 5.0000   \n",
       "25%                       5.0000                 5.0000   \n",
       "50%                       9.0000                10.0000   \n",
       "75%                      10.0000                10.0000   \n",
       "max                      10.0000                10.0000   \n",
       "\n",
       "       review_scores_communication  review_scores_location  \\\n",
       "count                     383.0000                383.0000   \n",
       "mean                        8.2272                  8.1227   \n",
       "std                         2.3240                  2.3025   \n",
       "min                         5.0000                  5.0000   \n",
       "25%                         5.0000                  5.0000   \n",
       "50%                        10.0000                 10.0000   \n",
       "75%                        10.0000                 10.0000   \n",
       "max                        10.0000                 10.0000   \n",
       "\n",
       "       review_scores_value  reviews_per_month  \n",
       "count             383.0000           383.0000  \n",
       "mean                7.8407             0.6510  \n",
       "std                 2.2074             1.0111  \n",
       "min                 4.0000             0.0000  \n",
       "25%                 5.0000             0.0000  \n",
       "50%                 9.0000             0.1900  \n",
       "75%                10.0000             0.8300  \n",
       "max                10.0000             5.5900  \n",
       "\n",
       "[8 rows x 23 columns]"
      ]
     },
     "execution_count": 19,
     "metadata": {},
     "output_type": "execute_result"
    }
   ],
   "source": [
    "train_set.describe().round(4)"
   ]
  },
  {
   "cell_type": "code",
   "execution_count": 20,
   "metadata": {
    "scrolled": true
   },
   "outputs": [
    {
     "name": "stdout",
     "output_type": "stream",
     "text": [
      "Apartment          228\n",
      "House              119\n",
      "Townhouse           10\n",
      "Guesthouse           6\n",
      "Vacation home        4\n",
      "Bed & Breakfast      3\n",
      "Other                3\n",
      "Condominium          2\n",
      "Cabin                2\n",
      "Guest suite          2\n",
      "Villa                2\n",
      "Boutique hotel       1\n",
      "Bungalow             1\n",
      "Name: property_type, dtype: int64\n"
     ]
    }
   ],
   "source": [
    "print(train_set['property_type'].value_counts())"
   ]
  },
  {
   "cell_type": "code",
   "execution_count": 21,
   "metadata": {},
   "outputs": [
    {
     "name": "stdout",
     "output_type": "stream",
     "text": [
      "Apartment          350\n",
      "House              159\n",
      "Townhouse           12\n",
      "Bed & Breakfast     10\n",
      "Guesthouse           7\n",
      "Cabin                6\n",
      "Other                5\n",
      "Guest suite          4\n",
      "Bungalow             4\n",
      "Vacation home        3\n",
      "Villa                3\n",
      "Yurt                 1\n",
      "Boutique hotel       1\n",
      "Earth House          1\n",
      "Camper/RV            1\n",
      "Castle               1\n",
      "Condominium          1\n",
      "Loft                 1\n",
      "Name: property_type, dtype: int64\n"
     ]
    }
   ],
   "source": [
    "print(test_set['property_type'].value_counts())"
   ]
  },
  {
   "cell_type": "code",
   "execution_count": 22,
   "metadata": {
    "scrolled": true
   },
   "outputs": [
    {
     "name": "stdout",
     "output_type": "stream",
     "text": [
      "Entire home/apt    292\n",
      "Private room        90\n",
      "Shared room          1\n",
      "Name: room_type, dtype: int64\n"
     ]
    }
   ],
   "source": [
    "print(train_set['room_type'].value_counts())"
   ]
  },
  {
   "cell_type": "code",
   "execution_count": 23,
   "metadata": {},
   "outputs": [
    {
     "name": "stdout",
     "output_type": "stream",
     "text": [
      "Entire home/apt    408\n",
      "Private room       161\n",
      "Shared room          1\n",
      "Name: room_type, dtype: int64\n"
     ]
    }
   ],
   "source": [
    "print(test_set['room_type'].value_counts())"
   ]
  },
  {
   "cell_type": "code",
   "execution_count": 24,
   "metadata": {
    "scrolled": true
   },
   "outputs": [
    {
     "name": "stdout",
     "output_type": "stream",
     "text": [
      "strict      167\n",
      "flexible    123\n",
      "moderate     93\n",
      "Name: cancellation_policy, dtype: int64\n"
     ]
    }
   ],
   "source": [
    "print(train_set['cancellation_policy'].value_counts())"
   ]
  },
  {
   "cell_type": "code",
   "execution_count": 25,
   "metadata": {},
   "outputs": [
    {
     "name": "stdout",
     "output_type": "stream",
     "text": [
      "strict      244\n",
      "flexible    185\n",
      "moderate    141\n",
      "Name: cancellation_policy, dtype: int64\n"
     ]
    }
   ],
   "source": [
    "print(test_set['cancellation_policy'].value_counts())"
   ]
  },
  {
   "cell_type": "code",
   "execution_count": 26,
   "metadata": {},
   "outputs": [],
   "source": [
    "# define all x_variables compar to price\n",
    "x_variables = ['host_is_superhost', 'host_total_listings_count',\n",
    "       'host_identity_verified', 'latitude', 'longitude', 'property_type',\n",
    "       'room_type', 'accommodates', 'bathrooms', 'bedrooms', 'beds',\n",
    "       'security_deposit', 'cleaning_fee', 'extra_people', 'minimum_nights',\n",
    "       'maximum_nights', 'number_of_reviews', 'review_scores_rating',\n",
    "       'review_scores_accuracy', 'review_scores_cleanliness',\n",
    "       'review_scores_checkin', 'review_scores_communication',\n",
    "       'review_scores_location', 'review_scores_value', 'instant_bookable',\n",
    "       'is_business_travel_ready', 'cancellation_policy', 'reviews_per_month']"
   ]
  },
  {
   "cell_type": "code",
   "execution_count": 27,
   "metadata": {},
   "outputs": [
    {
     "data": {
      "text/plain": [
       "['host_is_superhost',\n",
       " 'host_total_listings_count',\n",
       " 'host_identity_verified',\n",
       " 'latitude',\n",
       " 'longitude',\n",
       " 'property_type',\n",
       " 'room_type',\n",
       " 'accommodates',\n",
       " 'bathrooms',\n",
       " 'bedrooms',\n",
       " 'beds',\n",
       " 'security_deposit',\n",
       " 'cleaning_fee',\n",
       " 'extra_people',\n",
       " 'minimum_nights',\n",
       " 'maximum_nights',\n",
       " 'number_of_reviews',\n",
       " 'review_scores_rating',\n",
       " 'review_scores_accuracy',\n",
       " 'review_scores_cleanliness',\n",
       " 'review_scores_checkin',\n",
       " 'review_scores_communication',\n",
       " 'review_scores_location',\n",
       " 'review_scores_value',\n",
       " 'instant_bookable',\n",
       " 'is_business_travel_ready',\n",
       " 'cancellation_policy',\n",
       " 'reviews_per_month']"
      ]
     },
     "execution_count": 27,
     "metadata": {},
     "output_type": "execute_result"
    }
   ],
   "source": [
    "x_variables"
   ]
  },
  {
   "cell_type": "code",
   "execution_count": 28,
   "metadata": {
    "scrolled": true
   },
   "outputs": [
    {
     "data": {
      "image/png": "[encoded data removed]",
      "text/plain": [
       "<Figure size 720x180 with 4 Axes>"
      ]
     },
     "metadata": {},
     "output_type": "display_data"
    },
    {
     "data": {
      "image/png": "[encoded data removed]",
      "text/plain": [
       "<Figure size 720x180 with 4 Axes>"
      ]
     },
     "metadata": {},
     "output_type": "display_data"
    },
    {
     "data": {
      "image/png": "[encoded data removed]",
      "text/plain": [
       "<Figure size 720x180 with 4 Axes>"
      ]
     },
     "metadata": {},
     "output_type": "display_data"
    },
    {
     "data": {
      "image/png": "[encoded data removed]",
      "text/plain": [
       "<Figure size 720x180 with 4 Axes>"
      ]
     },
     "metadata": {},
     "output_type": "display_data"
    },
    {
     "data": {
      "image/png": "[encoded data removed]",
      "text/plain": [
       "<Figure size 720x180 with 4 Axes>"
      ]
     },
     "metadata": {},
     "output_type": "display_data"
    },
    {
     "data": {
      "image/png": "[encoded data removed]",
      "text/plain": [
       "<Figure size 720x180 with 4 Axes>"
      ]
     },
     "metadata": {},
     "output_type": "display_data"
    },
    {
     "data": {
      "image/png": "[encoded data removed]",
      "text/plain": [
       "<Figure size 720x180 with 4 Axes>"
      ]
     },
     "metadata": {},
     "output_type": "display_data"
    }
   ],
   "source": [
    "# print pairplot use price as y_variable\n",
    "for i in range (0, len(x_variables), 4):\n",
    "    pairplot = sns.pairplot(train_set, x_vars = x_variables[i:i+4], y_vars = ['price'])"
   ]
  },
  {
   "cell_type": "raw",
   "metadata": {},
   "source": [
    "train_set.hist(figsize=(20, 20), bins=20, xlabelsize=10, ylabelsize=10)"
   ]
  },
  {
   "cell_type": "code",
   "execution_count": 29,
   "metadata": {},
   "outputs": [
    {
     "name": "stdout",
     "output_type": "stream",
     "text": [
      "price                          1.000000\n",
      "bedrooms                       0.591848\n",
      "beds                           0.554612\n",
      "cleaning_fee                   0.538123\n",
      "accommodates                   0.506680\n",
      "bathrooms                      0.497826\n",
      "security_deposit               0.347728\n",
      "latitude                       0.211835\n",
      "host_total_listings_count      0.171969\n",
      "longitude                      0.151654\n",
      "maximum_nights                 0.071766\n",
      "Id                             0.067265\n",
      "minimum_nights                 0.026589\n",
      "review_scores_location         0.012081\n",
      "extra_people                   0.006524\n",
      "review_scores_checkin          0.004972\n",
      "review_scores_communication   -0.001080\n",
      "review_scores_accuracy        -0.003287\n",
      "review_scores_rating          -0.010767\n",
      "review_scores_cleanliness     -0.031883\n",
      "review_scores_value           -0.046808\n",
      "reviews_per_month             -0.057126\n",
      "number_of_reviews             -0.109430\n",
      "Name: price, dtype: float64\n"
     ]
    }
   ],
   "source": [
    "# print correlation\n",
    "correlation = train_set.corr()\n",
    "print (correlation.price.sort_values(ascending = False))"
   ]
  },
  {
   "cell_type": "code",
   "execution_count": 30,
   "metadata": {},
   "outputs": [
    {
     "data": {
      "image/png": "[encoded data removed]",
      "text/plain": [
       "<Figure size 864x720 with 2 Axes>"
      ]
     },
     "metadata": {},
     "output_type": "display_data"
    }
   ],
   "source": [
    "# plot heatmap\n",
    "plt.figure(figsize=(12, 10))\n",
    "heatmap = sns.heatmap(correlation,vmin = -1, vmax = 1)"
   ]
  },
  {
   "cell_type": "markdown",
   "metadata": {},
   "source": [
    "# Feature Engineering"
   ]
  },
  {
   "cell_type": "code",
   "execution_count": 31,
   "metadata": {},
   "outputs": [],
   "source": [
    "# use 0 and 1 to replace true and false feature for train set\n",
    "train_set = train_set.replace({'host_is_superhost':{'t': 1 ,'f':0}})\n",
    "train_set = train_set.replace({'is_business_travel_ready':{'t': 1 ,'f':0}})\n",
    "train_set = train_set.replace({'host_identity_verified':{'t': 1 ,'f':0}})\n",
    "train_set = train_set.replace({'instant_bookable':{'t': 1 ,'f':0}})"
   ]
  },
  {
   "cell_type": "code",
   "execution_count": 32,
   "metadata": {},
   "outputs": [],
   "source": [
    "# use 0 and 1 to replace true and false feature for test set\n",
    "test_set = test_set.replace({'host_is_superhost':{'t': 1 ,'f':0}})\n",
    "test_set = test_set.replace({'is_business_travel_ready':{'t': 1 ,'f':0}})\n",
    "test_set = test_set.replace({'host_identity_verified':{'t': 1 ,'f':0}})\n",
    "test_set = test_set.replace({'instant_bookable':{'t': 1 ,'f':0}})"
   ]
  },
  {
   "cell_type": "code",
   "execution_count": 33,
   "metadata": {},
   "outputs": [],
   "source": [
    "# replace other category data in train set\n",
    "train_set = train_set.replace({'room_type': {'Entire home/apt':1, 'Private room':2, 'Shared room' : 3}})\n",
    "train_set = train_set.replace({'cancellation_policy':  {'strict' : 1, 'moderate': 2, 'flexible' :3 }}) "
   ]
  },
  {
   "cell_type": "code",
   "execution_count": 34,
   "metadata": {},
   "outputs": [],
   "source": [
    "# replace other category data in test set\n",
    "test_set = test_set.replace({'room_type': {'Entire home/apt':1, 'Private room':2, 'Shared room' : 3}})\n",
    "test_set = test_set.replace({'cancellation_policy':  {'strict' : 1, 'moderate': 2, 'flexible' :3 }}) "
   ]
  },
  {
   "cell_type": "code",
   "execution_count": 35,
   "metadata": {},
   "outputs": [
    {
     "data": {
      "text/html": [
       "<div>\n",
       "<style scoped>\n",
       "    .dataframe tbody tr th:only-of-type {\n",
       "        vertical-align: middle;\n",
       "    }\n",
       "\n",
       "    .dataframe tbody tr th {\n",
       "        vertical-align: top;\n",
       "    }\n",
       "\n",
       "    .dataframe thead th {\n",
       "        text-align: right;\n",
       "    }\n",
       "</style>\n",
       "<table border=\"1\" class=\"dataframe\">\n",
       "  <thead>\n",
       "    <tr style=\"text-align: right;\">\n",
       "      <th></th>\n",
       "      <th>Id</th>\n",
       "      <th>price</th>\n",
       "      <th>host_is_superhost</th>\n",
       "      <th>host_total_listings_count</th>\n",
       "      <th>host_identity_verified</th>\n",
       "      <th>latitude</th>\n",
       "      <th>longitude</th>\n",
       "      <th>property_type</th>\n",
       "      <th>room_type</th>\n",
       "      <th>accommodates</th>\n",
       "      <th>...</th>\n",
       "      <th>review_scores_accuracy</th>\n",
       "      <th>review_scores_cleanliness</th>\n",
       "      <th>review_scores_checkin</th>\n",
       "      <th>review_scores_communication</th>\n",
       "      <th>review_scores_location</th>\n",
       "      <th>review_scores_value</th>\n",
       "      <th>instant_bookable</th>\n",
       "      <th>is_business_travel_ready</th>\n",
       "      <th>cancellation_policy</th>\n",
       "      <th>reviews_per_month</th>\n",
       "    </tr>\n",
       "  </thead>\n",
       "  <tbody>\n",
       "    <tr>\n",
       "      <th>0</th>\n",
       "      <td>570</td>\n",
       "      <td>110</td>\n",
       "      <td>0</td>\n",
       "      <td>1</td>\n",
       "      <td>1</td>\n",
       "      <td>-33.744684</td>\n",
       "      <td>151.287888</td>\n",
       "      <td>Apartment</td>\n",
       "      <td>1</td>\n",
       "      <td>4</td>\n",
       "      <td>...</td>\n",
       "      <td>8.0</td>\n",
       "      <td>6.0</td>\n",
       "      <td>10.0</td>\n",
       "      <td>10.0</td>\n",
       "      <td>8.0</td>\n",
       "      <td>8.0</td>\n",
       "      <td>0</td>\n",
       "      <td>0</td>\n",
       "      <td>3</td>\n",
       "      <td>0.04</td>\n",
       "    </tr>\n",
       "    <tr>\n",
       "      <th>1</th>\n",
       "      <td>571</td>\n",
       "      <td>99</td>\n",
       "      <td>1</td>\n",
       "      <td>1</td>\n",
       "      <td>0</td>\n",
       "      <td>-33.793117</td>\n",
       "      <td>151.286795</td>\n",
       "      <td>Apartment</td>\n",
       "      <td>2</td>\n",
       "      <td>2</td>\n",
       "      <td>...</td>\n",
       "      <td>10.0</td>\n",
       "      <td>10.0</td>\n",
       "      <td>10.0</td>\n",
       "      <td>10.0</td>\n",
       "      <td>10.0</td>\n",
       "      <td>10.0</td>\n",
       "      <td>0</td>\n",
       "      <td>0</td>\n",
       "      <td>3</td>\n",
       "      <td>0.80</td>\n",
       "    </tr>\n",
       "    <tr>\n",
       "      <th>2</th>\n",
       "      <td>572</td>\n",
       "      <td>70</td>\n",
       "      <td>0</td>\n",
       "      <td>1</td>\n",
       "      <td>0</td>\n",
       "      <td>-33.718033</td>\n",
       "      <td>151.298931</td>\n",
       "      <td>Apartment</td>\n",
       "      <td>1</td>\n",
       "      <td>4</td>\n",
       "      <td>...</td>\n",
       "      <td>10.0</td>\n",
       "      <td>10.0</td>\n",
       "      <td>10.0</td>\n",
       "      <td>10.0</td>\n",
       "      <td>10.0</td>\n",
       "      <td>10.0</td>\n",
       "      <td>0</td>\n",
       "      <td>0</td>\n",
       "      <td>1</td>\n",
       "      <td>0.09</td>\n",
       "    </tr>\n",
       "    <tr>\n",
       "      <th>3</th>\n",
       "      <td>573</td>\n",
       "      <td>157</td>\n",
       "      <td>0</td>\n",
       "      <td>1</td>\n",
       "      <td>1</td>\n",
       "      <td>-33.802581</td>\n",
       "      <td>151.287691</td>\n",
       "      <td>Apartment</td>\n",
       "      <td>1</td>\n",
       "      <td>3</td>\n",
       "      <td>...</td>\n",
       "      <td>9.0</td>\n",
       "      <td>8.0</td>\n",
       "      <td>10.0</td>\n",
       "      <td>9.0</td>\n",
       "      <td>8.0</td>\n",
       "      <td>9.0</td>\n",
       "      <td>0</td>\n",
       "      <td>0</td>\n",
       "      <td>1</td>\n",
       "      <td>0.13</td>\n",
       "    </tr>\n",
       "    <tr>\n",
       "      <th>4</th>\n",
       "      <td>574</td>\n",
       "      <td>120</td>\n",
       "      <td>0</td>\n",
       "      <td>1</td>\n",
       "      <td>0</td>\n",
       "      <td>-33.757136</td>\n",
       "      <td>151.291337</td>\n",
       "      <td>Apartment</td>\n",
       "      <td>1</td>\n",
       "      <td>4</td>\n",
       "      <td>...</td>\n",
       "      <td>5.0</td>\n",
       "      <td>5.0</td>\n",
       "      <td>5.0</td>\n",
       "      <td>5.0</td>\n",
       "      <td>5.0</td>\n",
       "      <td>5.0</td>\n",
       "      <td>0</td>\n",
       "      <td>0</td>\n",
       "      <td>2</td>\n",
       "      <td>0.00</td>\n",
       "    </tr>\n",
       "  </tbody>\n",
       "</table>\n",
       "<p>5 rows × 30 columns</p>\n",
       "</div>"
      ],
      "text/plain": [
       "    Id  price  host_is_superhost  host_total_listings_count  \\\n",
       "0  570    110                  0                          1   \n",
       "1  571     99                  1                          1   \n",
       "2  572     70                  0                          1   \n",
       "3  573    157                  0                          1   \n",
       "4  574    120                  0                          1   \n",
       "\n",
       "   host_identity_verified   latitude   longitude property_type  room_type  \\\n",
       "0                       1 -33.744684  151.287888     Apartment          1   \n",
       "1                       0 -33.793117  151.286795     Apartment          2   \n",
       "2                       0 -33.718033  151.298931     Apartment          1   \n",
       "3                       1 -33.802581  151.287691     Apartment          1   \n",
       "4                       0 -33.757136  151.291337     Apartment          1   \n",
       "\n",
       "   accommodates        ...          review_scores_accuracy  \\\n",
       "0             4        ...                             8.0   \n",
       "1             2        ...                            10.0   \n",
       "2             4        ...                            10.0   \n",
       "3             3        ...                             9.0   \n",
       "4             4        ...                             5.0   \n",
       "\n",
       "   review_scores_cleanliness  review_scores_checkin  \\\n",
       "0                        6.0                   10.0   \n",
       "1                       10.0                   10.0   \n",
       "2                       10.0                   10.0   \n",
       "3                        8.0                   10.0   \n",
       "4                        5.0                    5.0   \n",
       "\n",
       "   review_scores_communication  review_scores_location  review_scores_value  \\\n",
       "0                         10.0                     8.0                  8.0   \n",
       "1                         10.0                    10.0                 10.0   \n",
       "2                         10.0                    10.0                 10.0   \n",
       "3                          9.0                     8.0                  9.0   \n",
       "4                          5.0                     5.0                  5.0   \n",
       "\n",
       "   instant_bookable  is_business_travel_ready  cancellation_policy  \\\n",
       "0                 0                         0                    3   \n",
       "1                 0                         0                    3   \n",
       "2                 0                         0                    1   \n",
       "3                 0                         0                    1   \n",
       "4                 0                         0                    2   \n",
       "\n",
       "   reviews_per_month  \n",
       "0               0.04  \n",
       "1               0.80  \n",
       "2               0.09  \n",
       "3               0.13  \n",
       "4               0.00  \n",
       "\n",
       "[5 rows x 30 columns]"
      ]
     },
     "execution_count": 35,
     "metadata": {},
     "output_type": "execute_result"
    }
   ],
   "source": [
    "train_set.head()"
   ]
  },
  {
   "cell_type": "code",
   "execution_count": 36,
   "metadata": {},
   "outputs": [
    {
     "data": {
      "text/plain": [
       "(570, 29)"
      ]
     },
     "execution_count": 36,
     "metadata": {},
     "output_type": "execute_result"
    }
   ],
   "source": [
    "test_set.shape"
   ]
  },
  {
   "cell_type": "code",
   "execution_count": 37,
   "metadata": {},
   "outputs": [],
   "source": [
    "# combine the test set and train set together for dummy\n",
    "all_data = pd.concat((train_set.loc[:,'host_is_superhost':'reviews_per_month'],\n",
    "                      test_set.loc[:,'host_is_superhost':'reviews_per_month']))"
   ]
  },
  {
   "cell_type": "code",
   "execution_count": 38,
   "metadata": {},
   "outputs": [
    {
     "data": {
      "text/plain": [
       "(953, 45)"
      ]
     },
     "execution_count": 38,
     "metadata": {},
     "output_type": "execute_result"
    }
   ],
   "source": [
    "# get dummy for property type\n",
    "all_data = pd.get_dummies(all_data)\n",
    "all_data.shape"
   ]
  },
  {
   "cell_type": "code",
   "execution_count": 39,
   "metadata": {},
   "outputs": [
    {
     "data": {
      "text/plain": [
       "(383, 45)"
      ]
     },
     "execution_count": 39,
     "metadata": {},
     "output_type": "execute_result"
    }
   ],
   "source": [
    "train_x = all_data[:train_set.shape[0]]\n",
    "train_x.shape"
   ]
  },
  {
   "cell_type": "code",
   "execution_count": 40,
   "metadata": {},
   "outputs": [
    {
     "data": {
      "text/plain": [
       "(570, 45)"
      ]
     },
     "execution_count": 40,
     "metadata": {},
     "output_type": "execute_result"
    }
   ],
   "source": [
    "test_x = all_data[train_set.shape[0]:]\n",
    "test_x.shape"
   ]
  },
  {
   "cell_type": "markdown",
   "metadata": {},
   "source": [
    "# Model "
   ]
  },
  {
   "cell_type": "code",
   "execution_count": 41,
   "metadata": {},
   "outputs": [],
   "source": [
    "from sklearn.model_selection import train_test_split\n",
    "from sklearn.model_selection import GridSearchCV, RandomizedSearchCV\n",
    "from sklearn.metrics import mean_squared_error, r2_score,  mean_absolute_error\n",
    "\n",
    "from sklearn.pipeline import Pipeline\n",
    "from sklearn.preprocessing import StandardScaler\n",
    "\n",
    "from sklearn.linear_model import LinearRegression, LassoCV, RidgeCV, ElasticNetCV\n",
    "from sklearn.tree import DecisionTreeRegressor\n",
    "from sklearn.ensemble import RandomForestRegressor, BaggingRegressor\n",
    "import xgboost as xgb\n",
    "from mlxtend.regressor import StackingCVRegressor\n",
    "from sklearn.ensemble import GradientBoostingRegressor"
   ]
  },
  {
   "cell_type": "code",
   "execution_count": 42,
   "metadata": {},
   "outputs": [],
   "source": [
    "# Set train_y as depedent variable of training set\n",
    "train_y = train_set['price'] \n",
    "# Set predictors\n",
    "predictors=list(train_x.columns)\n",
    "# Split training est as a new training set and validation set\n",
    "X_train, X_validation, y_train, y_validation = train_test_split(train_x, train_y, test_size = 0.33, random_state = 42)"
   ]
  },
  {
   "cell_type": "markdown",
   "metadata": {},
   "source": [
    "# Ridge Regression"
   ]
  },
  {
   "cell_type": "code",
   "execution_count": 43,
   "metadata": {},
   "outputs": [
    {
     "data": {
      "text/plain": [
       "Pipeline(memory=None,\n",
       "     steps=[('scaler', StandardScaler(copy=True, with_mean=True, with_std=True)), ('estimator', RidgeCV(alphas=[3.0517578125e-05, 3.505549179068098e-05, 4.026818575356734e-05, 4.625599873383782e-05, 5.313418965430448e-05, 6.103515625e-05, 7.011098358136196e-05, 8.053637150713468e-05, 9.251199746767564e-0...cv=5, fit_intercept=True, gcv_mode=None, normalize=False, scoring=None,\n",
       "    store_cv_values=False))])"
      ]
     },
     "execution_count": 43,
     "metadata": {},
     "output_type": "execute_result"
    }
   ],
   "source": [
    "alphas = list(np.logspace(-15, 15, 151, base=2))\n",
    "\n",
    "# Set ridge pipeline\n",
    "ridge = Pipeline((\n",
    "    ('scaler', StandardScaler()),\n",
    "    ('estimator', RidgeCV(alphas=alphas, cv=5)),\n",
    "))\n",
    "\n",
    "# Use the new training set to train the model\n",
    "ridge.fit(X_train, y_train)"
   ]
  },
  {
   "cell_type": "code",
   "execution_count": 44,
   "metadata": {},
   "outputs": [
    {
     "data": {
      "image/png": "[encoded data removed]",
      "text/plain": [
       "<Figure size 432x288 with 1 Axes>"
      ]
     },
     "metadata": {},
     "output_type": "display_data"
    }
   ],
   "source": [
    "# Get the coefficients plot\n",
    "from statlearning import plot_coefficients\n",
    "plot_coefficients(ridge._final_estimator, predictors)\n",
    "plt.show()"
   ]
  },
  {
   "cell_type": "code",
   "execution_count": 45,
   "metadata": {},
   "outputs": [
    {
     "name": "stdout",
     "output_type": "stream",
     "text": [
      "73.48515480957457\n"
     ]
    }
   ],
   "source": [
    "# Use validation set to test the prediction ability\n",
    "y_validation_ridge_pred = ridge.predict(X_validation)\n",
    "RMSE_ridge = np.sqrt(mean_squared_error(y_validation, y_validation_ridge_pred))\n",
    "print(RMSE_ridge)"
   ]
  },
  {
   "cell_type": "markdown",
   "metadata": {},
   "source": [
    "# Lasso"
   ]
  },
  {
   "cell_type": "code",
   "execution_count": 46,
   "metadata": {},
   "outputs": [
    {
     "data": {
      "text/plain": [
       "Pipeline(memory=None,\n",
       "     steps=[('scaler', StandardScaler(copy=True, with_mean=True, with_std=True)), ('estimator', LassoCV(alphas=None, copy_X=True, cv=5, eps=0.001, fit_intercept=True,\n",
       "    max_iter=1000, n_alphas=100, n_jobs=1, normalize=False, positive=False,\n",
       "    precompute='auto', random_state=None, selection='cyclic', tol=0.0001,\n",
       "    verbose=False))])"
      ]
     },
     "execution_count": 46,
     "metadata": {},
     "output_type": "execute_result"
    }
   ],
   "source": [
    "lasso = Pipeline([\n",
    "    ('scaler', StandardScaler()),\n",
    "    ('estimator', LassoCV(cv=5)),\n",
    "])\n",
    "# Use the new training set to train the model\n",
    "lasso.fit(X_train, y_train)"
   ]
  },
  {
   "cell_type": "code",
   "execution_count": 47,
   "metadata": {},
   "outputs": [
    {
     "name": "stdout",
     "output_type": "stream",
     "text": [
      "75.22060184760427\n"
     ]
    }
   ],
   "source": [
    "# Use validation set to test the prediction ability\n",
    "y_validation_lasso_pred = lasso.predict(X_validation)\n",
    "Lasso_ols = np.sqrt(mean_squared_error(y_validation, y_validation_lasso_pred))\n",
    "print(Lasso_ols)"
   ]
  },
  {
   "cell_type": "code",
   "execution_count": 48,
   "metadata": {},
   "outputs": [
    {
     "data": {
      "image/png": "[encoded data removed]",
      "text/plain": [
       "<Figure size 432x288 with 1 Axes>"
      ]
     },
     "metadata": {},
     "output_type": "display_data"
    }
   ],
   "source": [
    "# Get the coefficients plot\n",
    "from statlearning import plot_coefficients\n",
    "\n",
    "plot_coefficients(lasso._final_estimator, predictors)\n",
    "plt.show()"
   ]
  },
  {
   "cell_type": "markdown",
   "metadata": {},
   "source": [
    "# Elastic Net"
   ]
  },
  {
   "cell_type": "code",
   "execution_count": 49,
   "metadata": {},
   "outputs": [
    {
     "data": {
      "text/plain": [
       "Pipeline(memory=None,\n",
       "     steps=[('scaler', StandardScaler(copy=True, with_mean=True, with_std=True)), ('estimator', ElasticNetCV(alphas=None, copy_X=True, cv=5, eps=0.001, fit_intercept=True,\n",
       "       l1_ratio=[0.01, 0.1, 0.2, 0.3, 0.4, 0.5, 0.6, 0.7, 0.8, 0.9, 0.99],\n",
       "       max_iter=1000, n_alphas=200, n_jobs=1, normalize=False,\n",
       "       positive=False, precompute='auto', random_state=None,\n",
       "       selection='cyclic', tol=0.0001, verbose=0))])"
      ]
     },
     "execution_count": 49,
     "metadata": {},
     "output_type": "execute_result"
    }
   ],
   "source": [
    "# Build Elastic Net model\n",
    "enet = Pipeline([\n",
    "    ('scaler', StandardScaler()),\n",
    "    ('estimator', ElasticNetCV(l1_ratio=[0.01,0.1,0.2,0.3,0.4,0.5,0.6,0.7,0.8,0.9, 0.99], cv=5, n_alphas=200)),\n",
    "])\n",
    "# Use the new training set to train the model\n",
    "enet.fit(train_x, train_y)"
   ]
  },
  {
   "cell_type": "code",
   "execution_count": 50,
   "metadata": {},
   "outputs": [
    {
     "name": "stdout",
     "output_type": "stream",
     "text": [
      "68.14195974957106\n"
     ]
    }
   ],
   "source": [
    "# Use validation set to test the prediction ability\n",
    "y_validation_enet_pred = enet.predict(X_validation)\n",
    "enet_ols = np.sqrt(mean_squared_error(y_validation, y_validation_enet_pred))\n",
    "print(enet_ols)"
   ]
  },
  {
   "cell_type": "code",
   "execution_count": 51,
   "metadata": {},
   "outputs": [
    {
     "data": {
      "image/png": "[encoded data removed]",
      "text/plain": [
       "<Figure size 432x288 with 1 Axes>"
      ]
     },
     "metadata": {},
     "output_type": "display_data"
    }
   ],
   "source": [
    "# Get the coefficients plot\n",
    "\n",
    "predictors=list(X_train.columns.values[:45])\n",
    "\n",
    "plot_coefficients(enet._final_estimator, predictors)\n",
    "plt.show()"
   ]
  },
  {
   "cell_type": "markdown",
   "metadata": {},
   "source": [
    "# Boosting"
   ]
  },
  {
   "cell_type": "code",
   "execution_count": 52,
   "metadata": {},
   "outputs": [
    {
     "name": "stdout",
     "output_type": "stream",
     "text": [
      "Best parameters found by randomised search: {'subsample': 0.8, 'n_estimators': 1000, 'max_depth': 2, 'learning_rate': 0.01} \n",
      "\n",
      "CPU times: user 753 ms, sys: 50.8 ms, total: 804 ms\n",
      "Wall time: 24.1 s\n"
     ]
    }
   ],
   "source": [
    "%%time\n",
    "\n",
    "model = GradientBoostingRegressor()\n",
    "\n",
    "tuning_parameters = {\n",
    "    'learning_rate': [0.01, 0.05, 0.1],\n",
    "    'n_estimators' : [250, 500, 750, 1000, 1500],\n",
    "    'max_depth' : [2 ,3, 4],\n",
    "    'subsample' : [0.6, 0.8, 1.0]\n",
    "}\n",
    "\n",
    "# Using GridSearchCV would be too slow. Increase the number of iterations to explore more hyperparameter combinations.\n",
    "gb = RandomizedSearchCV(model, tuning_parameters, n_iter = 20, cv = 10, return_train_score=False, n_jobs=4)\n",
    "gb.fit(X_train, y_train)\n",
    "\n",
    "print('Best parameters found by randomised search:', gb.best_params_, '\\n')"
   ]
  },
  {
   "cell_type": "code",
   "execution_count": 53,
   "metadata": {},
   "outputs": [
    {
     "ename": "NameError",
     "evalue": "name 'gb_search' is not defined",
     "output_type": "error",
     "traceback": [
      "\u001b[0;31m---------------------------------------------------------------------------\u001b[0m",
      "\u001b[0;31mNameError\u001b[0m                                 Traceback (most recent call last)",
      "\u001b[0;32m<ipython-input-53-512937e7e1f1>\u001b[0m in \u001b[0;36m<module>\u001b[0;34m()\u001b[0m\n\u001b[1;32m      1\u001b[0m \u001b[0;31m# Use validation set to test the prediction ability\u001b[0m\u001b[0;34m\u001b[0m\u001b[0;34m\u001b[0m\u001b[0m\n\u001b[0;32m----> 2\u001b[0;31m \u001b[0my_validation_gb_pred\u001b[0m\u001b[0;34m=\u001b[0m \u001b[0mgb_search\u001b[0m\u001b[0;34m.\u001b[0m\u001b[0mpredict\u001b[0m\u001b[0;34m(\u001b[0m\u001b[0mX_validation\u001b[0m\u001b[0;34m)\u001b[0m\u001b[0;34m\u001b[0m\u001b[0m\n\u001b[0m\u001b[1;32m      3\u001b[0m \u001b[0;34m\u001b[0m\u001b[0m\n\u001b[1;32m      4\u001b[0m \u001b[0mgb_rmse\u001b[0m \u001b[0;34m=\u001b[0m \u001b[0mnp\u001b[0m\u001b[0;34m.\u001b[0m\u001b[0msqrt\u001b[0m\u001b[0;34m(\u001b[0m\u001b[0mmean_squared_error\u001b[0m\u001b[0;34m(\u001b[0m\u001b[0my_validation\u001b[0m\u001b[0;34m,\u001b[0m \u001b[0my_validation_gb_pred\u001b[0m\u001b[0;34m)\u001b[0m\u001b[0;34m)\u001b[0m\u001b[0;34m\u001b[0m\u001b[0m\n\u001b[1;32m      5\u001b[0m \u001b[0mprint\u001b[0m\u001b[0;34m(\u001b[0m\u001b[0mgb_rmse\u001b[0m\u001b[0;34m)\u001b[0m\u001b[0;34m\u001b[0m\u001b[0m\n",
      "\u001b[0;31mNameError\u001b[0m: name 'gb_search' is not defined"
     ]
    }
   ],
   "source": [
    "# Use validation set to test the prediction ability\n",
    "y_validation_gb_pred= gb_search.predict(X_validation)\n",
    "\n",
    "gb_rmse = np.sqrt(mean_squared_error(y_validation, y_validation_gb_pred))\n",
    "print(gb_rmse)"
   ]
  },
  {
   "cell_type": "markdown",
   "metadata": {},
   "source": [
    "# Xgboots"
   ]
  },
  {
   "cell_type": "code",
   "execution_count": null,
   "metadata": {},
   "outputs": [],
   "source": [
    "%%time\n",
    "# Build Xgboots model\n",
    "model = xgb.XGBRegressor()\n",
    "\n",
    "\n",
    "tuning_parameters = {\n",
    "    'learning_rate': [0.01, 0.03, 0.05, 0.1],\n",
    "    'n_estimators' : [250, 500, 750, 1000, 1500],\n",
    "    'max_depth' : [2, 3, 4, 5, 6, 7],\n",
    "    'subsample' : [0.6, 0.8, 1.0],\n",
    "}\n",
    "\n",
    "gb_search = RandomizedSearchCV(model, tuning_parameters, n_iter = 16, cv = 20, return_train_score=False, n_jobs=-1,\n",
    "                              random_state = 20)\n",
    "\n",
    "# Use the new training set to train the model\n",
    "gb_search.fit(X_train, y_train)\n",
    "\n",
    "xbst = gb_search.best_estimator_\n",
    "\n",
    "print('Best parameters found by randomised search:', gb_search.best_params_, '\\n')"
   ]
  },
  {
   "cell_type": "code",
   "execution_count": null,
   "metadata": {},
   "outputs": [],
   "source": [
    "# Use validation set to test the prediction ability\n",
    "y_validation_xbst_pred= gb_search.predict(X_validation)\n",
    "\n",
    "xbst_rmse = np.sqrt(mean_squared_error(y_validation, y_validation_xbst_pred))\n",
    "print(xbst_rmse)"
   ]
  },
  {
   "cell_type": "code",
   "execution_count": null,
   "metadata": {},
   "outputs": [],
   "source": [
    "# Get the coefficients plot\n",
    "from statlearning import plot_feature_importance\n",
    "\n",
    "predictors=list(X_train.columns.values[:45])\n",
    "\n",
    "plot_feature_importance(xbst, labels=predictors)\n",
    "plt.show()"
   ]
  },
  {
   "cell_type": "markdown",
   "metadata": {},
   "source": [
    "# Stacking"
   ]
  },
  {
   "cell_type": "code",
   "execution_count": null,
   "metadata": {},
   "outputs": [],
   "source": [
    "%%time\n",
    "# Build stacking model\n",
    "models = [lasso, ridge, enet, gb, gb_search]\n",
    "\n",
    "stack = StackingCVRegressor(models, meta_regressor = LinearRegression(), cv=20)\n",
    "# Use the new training set to train the model\n",
    "stack.fit(X_train.values, y_train.ravel())"
   ]
  },
  {
   "cell_type": "code",
   "execution_count": null,
   "metadata": {},
   "outputs": [],
   "source": [
    "# Use validation set to test the prediction ability\n",
    "y_validation_stacking_pred= stack.predict(X_validation.values)\n",
    "stacking_rmse = np.sqrt(mean_squared_error(y_validation, y_validation_stacking_pred))\n",
    "print(stacking_rmse)"
   ]
  },
  {
   "cell_type": "markdown",
   "metadata": {},
   "source": [
    "# Model Analysis"
   ]
  },
  {
   "cell_type": "code",
   "execution_count": null,
   "metadata": {},
   "outputs": [],
   "source": [
    "# Use the residual plot and prediction plot to help us to visualize the prediction ability intuitively\n",
    "columns=['Test RMSE', 'Test R2']\n",
    "rows=['Lasso', 'Ridge', 'Elastic Net','Boosting', 'XGBoost', 'Stack']\n",
    "results=pd.DataFrame(0.0, columns=columns, index=rows) \n",
    "\n",
    "methods=[lasso, ridge, enet,gb, gb_search, stack]\n",
    "\n",
    "for i, method in enumerate(methods):\n",
    "    \n",
    "    if method != stack:\n",
    "        y_pred=method.predict(X_validation)        \n",
    "    else:\n",
    "        y_pred=method.predict(X_validation.values)\n",
    "        \n",
    "    results.iloc[i,0] = np.sqrt(mean_squared_error(y_validation, y_pred))\n",
    "    results.iloc[i,1] = r2_score(y_validation, y_pred)\n",
    "    plt.scatter(y_pred, y_pred - y_validation, c = \"orange\", label = \"Validation data\")\n",
    "    plt.title(rows[i]+\" regression\")\n",
    "    plt.xlabel(\"Prediction\")\n",
    "    plt.ylabel(\"Residuals\")\n",
    "    plt.legend(loc = \"upper left\")\n",
    "    plt.hlines(y = 0, xmin = 100, xmax = 600, color = \"black\")\n",
    "    plt.show()\n",
    "    \n",
    "    plt.scatter(y_pred, y_validation, c = \"green\", marker = \"s\", label = \"Validation data\")\n",
    "    plt.title(rows[i]+\" regression prediction\")\n",
    "    plt.xlabel(\"Predicted values\")\n",
    "    plt.ylabel(\"Real values\")\n",
    "    plt.legend(loc = \"upper left\")\n",
    "    plt.plot([50, 350], [50, 400], c = \"black\")\n",
    "    plt.show()"
   ]
  },
  {
   "cell_type": "code",
   "execution_count": null,
   "metadata": {},
   "outputs": [],
   "source": [
    "results.round(3)"
   ]
  },
  {
   "cell_type": "markdown",
   "metadata": {},
   "source": [
    "# Use real test set to make prediction"
   ]
  },
  {
   "cell_type": "markdown",
   "metadata": {},
   "source": [
    "# ridge"
   ]
  },
  {
   "cell_type": "code",
   "execution_count": null,
   "metadata": {},
   "outputs": [],
   "source": [
    "# Use the aggregated training set(training set + validation set) to train the model\n",
    "ridge.fit(train_x, train_y)"
   ]
  },
  {
   "cell_type": "code",
   "execution_count": null,
   "metadata": {},
   "outputs": [],
   "source": [
    "# Use the real test set to predict and export to csv file\n",
    "ridge_final_pred = ridge.predict(test_x)\n",
    "out_put_ridge = {'Id': test_set['Id'], 'Price': ridge_final_pred.round(0)}\n",
    "out_put_ridge = pd.DataFrame(out_put_ridge)\n",
    "out_put_ridge.to_csv('ridge.csv',index=False,columns=['Id','Price'])"
   ]
  },
  {
   "cell_type": "markdown",
   "metadata": {},
   "source": [
    "# Lasso"
   ]
  },
  {
   "cell_type": "code",
   "execution_count": null,
   "metadata": {},
   "outputs": [],
   "source": [
    "# Use the aggregated training set(training set + validation set) to train the model\n",
    "lasso.fit(train_x, train_y)"
   ]
  },
  {
   "cell_type": "code",
   "execution_count": null,
   "metadata": {},
   "outputs": [],
   "source": [
    "# Use the real test set to predict and export to csv file\n",
    "lasso_final_pred = lasso.predict(test_x)\n",
    "out_put = {'Id': test_set['Id'], 'Price': lasso_final_pred.round(0)}\n",
    "out_put = pd.DataFrame(out_put)\n",
    "out_put.to_csv('lasso.csv',index=False,columns=['Id','Price'])"
   ]
  },
  {
   "cell_type": "markdown",
   "metadata": {},
   "source": [
    "# Elastic Net"
   ]
  },
  {
   "cell_type": "code",
   "execution_count": null,
   "metadata": {},
   "outputs": [],
   "source": [
    "# Use the aggregated training set(training set + validation set) to train the model\n",
    "enet.fit(train_x, train_y)"
   ]
  },
  {
   "cell_type": "code",
   "execution_count": null,
   "metadata": {},
   "outputs": [],
   "source": [
    "# Use the real test set to predict and export to csv file\n",
    "enet_final_pred = enet.predict(test_x)\n",
    "out_put_enet = {'Id': test_set['Id'], 'Price': enet_final_pred.round(0)}\n",
    "out_put_enet = pd.DataFrame(out_put_enet)\n",
    "out_put_enet.to_csv('enet.csv',index=False,columns=['Id','Price'])"
   ]
  },
  {
   "cell_type": "markdown",
   "metadata": {},
   "source": [
    "# Boosting"
   ]
  },
  {
   "cell_type": "code",
   "execution_count": null,
   "metadata": {},
   "outputs": [],
   "source": [
    "# Use the aggregated training set(training set + validation set) to train the model\n",
    "gb.fit(train_x, train_y)"
   ]
  },
  {
   "cell_type": "code",
   "execution_count": null,
   "metadata": {},
   "outputs": [],
   "source": [
    "gb_final_pred = gb.predict(test_x)\n",
    "out_put_gb = {'Id': test_set['Id'], 'Price': gb_final_pred}\n",
    "out_put_gb = pd.DataFrame(out_put_gb)\n",
    "out_put_gb.to_csv('Boosting.csv',index=False,columns=['Id','Price'])"
   ]
  },
  {
   "cell_type": "markdown",
   "metadata": {},
   "source": [
    "# Xgboots"
   ]
  },
  {
   "cell_type": "code",
   "execution_count": null,
   "metadata": {},
   "outputs": [],
   "source": [
    "# Use the aggregated training set(training set + validation set) to train the model\n",
    "gb_search.fit(train_x, train_y)"
   ]
  },
  {
   "cell_type": "code",
   "execution_count": null,
   "metadata": {},
   "outputs": [],
   "source": [
    "# Use the real test set to predict and export to csv file\n",
    "Xgboots_final_pred = gb_search.predict(test_x)\n",
    "out_put_Xgboots = {'Id': test_set['Id'], 'Price': Xgboots_final_pred.round(0)}\n",
    "out_put_Xgboots = pd.DataFrame(out_put_Xgboots)\n",
    "out_put_Xgboots.to_csv('Xgboots.csv',index=False,columns=['Id','Price'])"
   ]
  },
  {
   "cell_type": "markdown",
   "metadata": {},
   "source": [
    "# Stacking"
   ]
  },
  {
   "cell_type": "code",
   "execution_count": null,
   "metadata": {},
   "outputs": [],
   "source": [
    "# Use the aggregated training set(training set + validation set) to train the model\n",
    "stack.fit(train_x.values, train_y.ravel())"
   ]
  },
  {
   "cell_type": "code",
   "execution_count": null,
   "metadata": {},
   "outputs": [],
   "source": [
    "# Use the real test set to predict and export to csv file\n",
    "y_final_pred= stack.predict(test_x.values)\n",
    "\n",
    "submission = pd.DataFrame(np.c_[test_x.index, y_final_pred.round(0)], columns=['Id', 'price'])\n",
    "submission['Id'] = submission['Id'].astype(int)\n",
    "submission.to_csv('stacking.csv',  index=False)"
   ]
  },
  {
   "cell_type": "markdown",
   "metadata": {},
   "source": [
    "# end"
   ]
  }
 ],
 "metadata": {
  "kernelspec": {
   "display_name": "Python 3",
   "language": "python",
   "name": "python3"
  },
  "language_info": {
   "codemirror_mode": {
    "name": "ipython",
    "version": 3
   },
   "file_extension": ".py",
   "mimetype": "text/x-python",
   "name": "python",
   "nbconvert_exporter": "python",
   "pygments_lexer": "ipython3",
   "version": "3.6.8"
  }
 },
 "nbformat": 4,
 "nbformat_minor": 2
}
