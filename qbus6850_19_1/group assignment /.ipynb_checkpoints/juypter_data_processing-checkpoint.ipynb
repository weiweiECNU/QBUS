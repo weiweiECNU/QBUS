{
 "cells": [
  {
   "cell_type": "code",
   "execution_count": 1,
   "metadata": {},
   "outputs": [
    {
     "name": "stdout",
     "output_type": "stream",
     "text": [
      "Lot Frontage : 253\n",
      "Mas Vnr Type : 14\n",
      "Mas Vnr Area : 14\n",
      "Bsmt Exposure : 2\n",
      "Electrical : 1\n",
      "Bsmt Full Bath : 1\n",
      "Bsmt Half Bath : 1\n",
      "Garage Yr Blt : 89\n",
      "Garage Finish : 1\n",
      "Garage Cars : 1\n",
      "Garage Area : 1\n",
      "Garage Qual : 1\n",
      "Garage Cond : 1\n"
     ]
    }
   ],
   "source": [
    "import pandas as pd\n",
    "import numpy as np\n",
    "train_df = pd.read_csv(\"train.csv\", keep_default_na=False,na_values=[''])\n",
    "train_df.head()\n",
    "\n",
    "#%%\n",
    "df_indexes = train_df.columns\n",
    "null_number = train_df.isnull().sum()\n",
    "for i in range(len(null_number)):\n",
    "    if(null_number[i]!=0):\n",
    "        print(df_indexes[i]+\" : \"+str(null_number[i]))"
   ]
  },
  {
   "cell_type": "code",
   "execution_count": 2,
   "metadata": {},
   "outputs": [
    {
     "name": "stdout",
     "output_type": "stream",
     "text": [
      "nan numebr BEFORE transformation: 253\n",
      "nan numebr AFTER transformation: 0\n"
     ]
    }
   ],
   "source": [
    "#%% Transform LotFrontage (252 nan) --- Linear feet of street connected to property\n",
    "# taking average\n",
    "lf=train_df['Lot Frontage']\n",
    "# count nan numbers first\n",
    "print('nan numebr BEFORE transformation:',lf.isnull().sum())\n",
    "fill_value_lf=lf.mean()\n",
    "lf=lf.fillna(fill_value_lf)\n",
    "# after scaling, check nan value number again\n",
    "print('nan numebr AFTER transformation:',lf.isnull().sum())"
   ]
  },
  {
   "cell_type": "code",
   "execution_count": 3,
   "metadata": {},
   "outputs": [
    {
     "name": "stdout",
     "output_type": "stream",
     "text": [
      "nan numebr BEFORE transformation: 14\n",
      "nan numebr AFTER transformation: 0\n"
     ]
    }
   ],
   "source": [
    "#%% Transform Mas Vnr Type : 14  MasVnrType: Masonry veneer type\n",
    "# choosing the mode, as there are 840 none, and 8 nan\n",
    "MVT=train_df['Mas Vnr Type']\n",
    "print('nan numebr BEFORE transformation:',MVT.isnull().sum())\n",
    "fill_value_MVT=\"None\"\n",
    "MVT=MVT.fillna(fill_value_MVT)\n",
    "# after scaling, check nan value number again\n",
    "print('nan numebr AFTER transformation:',MVT.isnull().sum())"
   ]
  },
  {
   "cell_type": "code",
   "execution_count": 4,
   "metadata": {},
   "outputs": [
    {
     "name": "stdout",
     "output_type": "stream",
     "text": [
      "nan numebr BEFORE transformation: 14\n",
      "nan number AFTER transformation: 0\n"
     ]
    }
   ],
   "source": [
    "#%% Mas Vnr Area : 14  -- Masonry veneer area in square feet\n",
    "# choosing mean\n",
    "MVA=train_df['Mas Vnr Area']\n",
    "print('nan numebr BEFORE transformation:',MVA.isnull().sum())\n",
    "fill_value_MVA=MVA.mean()\n",
    "MVA=MVA.fillna(fill_value_MVA)\n",
    "print('nan number AFTER transformation:', MVA.isnull().sum())"
   ]
  },
  {
   "cell_type": "code",
   "execution_count": 5,
   "metadata": {},
   "outputs": [
    {
     "name": "stdout",
     "output_type": "stream",
     "text": [
      "nan numebr BEFORE transformation: 89\n",
      "nan number AFTER transformation: 0\n"
     ]
    }
   ],
   "source": [
    "#%% Garage Yr Blt : 89 --Year garage was built\n",
    "# choosing mean\n",
    "GYB=train_df['Garage Yr Blt']\n",
    "print('nan numebr BEFORE transformation:',GYB.isnull().sum())\n",
    "fill_value_GYB=GYB.mean()\n",
    "GYB=GYB.fillna(fill_value_GYB)\n",
    "print('nan number AFTER transformation:', GYB.isnull().sum())"
   ]
  },
  {
   "cell_type": "code",
   "execution_count": 6,
   "metadata": {},
   "outputs": [
    {
     "name": "stdout",
     "output_type": "stream",
     "text": [
      "nan numebr BEFORE transformation: 2\n",
      "nan number AFTER transformation: 0\n"
     ]
    }
   ],
   "source": [
    "#%% Bsmt Exposure : 2 \n",
    "# choosing mode\n",
    "BE=train_df['Bsmt Exposure']\n",
    "print('nan numebr BEFORE transformation:',BE.isnull().sum())\n",
    "BE.value_counts()\n",
    "fill_value_BE='No'\n",
    "BE=BE.fillna(fill_value_BE)\n",
    "print('nan number AFTER transformation:', BE.isnull().sum())\n"
   ]
  },
  {
   "cell_type": "code",
   "execution_count": 7,
   "metadata": {},
   "outputs": [
    {
     "name": "stdout",
     "output_type": "stream",
     "text": [
      "(1395, 80)\n"
     ]
    }
   ],
   "source": [
    "#%% drop the rest nan value and the first column 'Train_ID'\n",
    "preprocessed_train_df=train_df.copy()\n",
    "preprocessed_train_df['Lot Frontage']=lf\n",
    "preprocessed_train_df['Mas Vnr Type']=MVT\n",
    "preprocessed_train_df['Mas Vnr Area']=MVA\n",
    "preprocessed_train_df['Garage Yr Blt']=GYB\n",
    "preprocessed_train_df['Bsmt Exposure']=BE\n",
    "preprocessed_train_df=preprocessed_train_df.dropna(how='any')\n",
    "preprocessed_train_df=preprocessed_train_df.drop(['Train_ID'], axis=1)\n",
    "print(preprocessed_train_df.shape)"
   ]
  },
  {
   "cell_type": "code",
   "execution_count": 8,
   "metadata": {},
   "outputs": [
    {
     "data": {
      "text/plain": [
       "<Figure size 2000x1000 with 0 Axes>"
      ]
     },
     "metadata": {},
     "output_type": "display_data"
    },
    {
     "data": {
      "text/plain": [
       "<Figure size 480x480 with 1 Axes>"
      ]
     },
     "metadata": {},
     "output_type": "display_data"
    }
   ],
   "source": [
    "#%% EDA\n",
    "# check correlation\n",
    "corr=preprocessed_train_df.corr()\n",
    "\n",
    "import matplotlib.pyplot as plt\n",
    "plt.figure(figsize=(20,10))\n",
    "plt.matshow(preprocessed_train_df.corr())\n",
    "plt.show()"
   ]
  },
  {
   "cell_type": "code",
   "execution_count": 9,
   "metadata": {},
   "outputs": [
    {
     "data": {
      "image/png": "[encoded data removed]",
      "text/plain": [
       "<Figure size 720x432 with 1 Axes>"
      ]
     },
     "metadata": {
      "needs_background": "light"
     },
     "output_type": "display_data"
    }
   ],
   "source": [
    "# check target distribution\n",
    "y_train=preprocessed_train_df['SalePrice']\n",
    "plt.figure(figsize=(10,6))\n",
    "plt.hist(y_train,rwidth=0.95)\n",
    "plt.title('Sale Price distribution')\n",
    "plt.show()"
   ]
  },
  {
   "cell_type": "code",
   "execution_count": 10,
   "metadata": {},
   "outputs": [
    {
     "data": {
      "image/png": "[encoded data removed]",
      "text/plain": [
       "<Figure size 720x504 with 1 Axes>"
      ]
     },
     "metadata": {
      "needs_background": "light"
     },
     "output_type": "display_data"
    }
   ],
   "source": [
    "# check relationship between Overall Qual and SalePrice, corr=0.8018\n",
    "OQ=preprocessed_train_df['Overall Qual']\n",
    "plt.figure(figsize=(10,7))\n",
    "plt.scatter(OQ,y_train)\n",
    "plt.xlabel('Overall Quality')\n",
    "plt.ylabel('Sale Price')\n",
    "plt.show()"
   ]
  },
  {
   "cell_type": "code",
   "execution_count": 11,
   "metadata": {},
   "outputs": [
    {
     "data": {
      "text/plain": [
       "Text(0, 0.5, 'Sale Price')"
      ]
     },
     "execution_count": 11,
     "metadata": {},
     "output_type": "execute_result"
    },
    {
     "data": {
      "image/png": "[encoded data removed]",
      "text/plain": [
       "<Figure size 720x360 with 2 Axes>"
      ]
     },
     "metadata": {
      "needs_background": "light"
     },
     "output_type": "display_data"
    }
   ],
   "source": [
    "# check relationship between garage cars/garage area with saleprice corr=0.64/0.63\n",
    "GC=preprocessed_train_df['Garage Cars']\n",
    "GA=preprocessed_train_df['Garage Area']\n",
    "\n",
    "plt.figure(figsize=(10,5))\n",
    "plt.subplot(1,2,1)\n",
    "plt.scatter(GC,y_train)\n",
    "plt.xlabel('Garage Cars')\n",
    "plt.ylabel('Sale Price')\n",
    "plt.subplot(1,2,2)\n",
    "plt.scatter(GA,y_train)\n",
    "plt.xlabel('Garage Area')\n",
    "plt.ylabel('Sale Price')"
   ]
  },
  {
   "cell_type": "code",
   "execution_count": 12,
   "metadata": {},
   "outputs": [],
   "source": [
    "#%% Ordinal data transform ———————— ALL transformation start at 1\n",
    "\n",
    "preprocessed_train_df['Exter Qual'].value_counts()\n",
    "preprocessed_train_df['Exter Qual'] = preprocessed_train_df['Exter Qual'].map({ \n",
    "                     \"Fa\":0, \"TA\":1, \"Gd\":2, \"Ex\":3})"
   ]
  },
  {
   "cell_type": "code",
   "execution_count": 13,
   "metadata": {},
   "outputs": [],
   "source": [
    "preprocessed_train_df['Exter Cond'].value_counts()\n",
    "preprocessed_train_df['Exter Cond'] = preprocessed_train_df['Exter Cond'].map({ \n",
    "                     \"Po\":0, \"Fa\":1, \"TA\":2, \"Gd\":3, \"Ex\":4})"
   ]
  },
  {
   "cell_type": "code",
   "execution_count": 14,
   "metadata": {},
   "outputs": [],
   "source": [
    "preprocessed_train_df['Bsmt Qual'].value_counts()\n",
    "preprocessed_train_df['Bsmt Qual'] = preprocessed_train_df['Bsmt Qual'].map({ \n",
    "                     \"NA\":0, \"Po\":1, \"Fa\":2, \"TA\":3, \"Gd\":4, \"Ex\":5})"
   ]
  },
  {
   "cell_type": "code",
   "execution_count": 15,
   "metadata": {},
   "outputs": [],
   "source": [
    "preprocessed_train_df['Bsmt Exposure'].value_counts()\n",
    "preprocessed_train_df['Bsmt Exposure'] = preprocessed_train_df['Bsmt Exposure'].map({ \n",
    "                     \"NA\":0, \"No\":1, \"Mn\":2, \"Av\":3, \"Gd\":4})"
   ]
  },
  {
   "cell_type": "code",
   "execution_count": 16,
   "metadata": {},
   "outputs": [],
   "source": [
    "preprocessed_train_df['Bsmt Cond'].value_counts()\n",
    "preprocessed_train_df['Bsmt Cond'] = preprocessed_train_df['Bsmt Cond'].map({ \n",
    "                     \"NA\":0, \"No\":1, \"Fa\":2, \"TA\":3, \"Gd\":4,\"Ex\":5})"
   ]
  },
  {
   "cell_type": "code",
   "execution_count": 17,
   "metadata": {},
   "outputs": [],
   "source": [
    "preprocessed_train_df['BsmtFin Type 1'].value_counts()\n",
    "preprocessed_train_df['BsmtFin Type 1'] = preprocessed_train_df['BsmtFin Type 1'].map({ \n",
    "                     \"NA\":0, \"Unf\":1, \"LwQ\":2, \"Rec\":3, \"BLQ\":4,\"ALQ\":5,\"GLQ\":6})"
   ]
  },
  {
   "cell_type": "code",
   "execution_count": 18,
   "metadata": {},
   "outputs": [
    {
     "data": {
      "text/plain": [
       "1    1195\n",
       "3      55\n",
       "2      42\n",
       "0      37\n",
       "4      28\n",
       "5      24\n",
       "6      14\n",
       "Name: BsmtFin Type 2, dtype: int64"
      ]
     },
     "execution_count": 18,
     "metadata": {},
     "output_type": "execute_result"
    }
   ],
   "source": [
    "preprocessed_train_df['BsmtFin Type 2'].value_counts()\n",
    "preprocessed_train_df['BsmtFin Type 2'] = preprocessed_train_df['BsmtFin Type 2'].map({ \n",
    "                     \"NA\":0, \"Unf\":1, \"LwQ\":2, \"Rec\":3, \"BLQ\":4,\"ALQ\":5,\"GLQ\":6})\n",
    "preprocessed_train_df['BsmtFin Type 2'].value_counts()"
   ]
  },
  {
   "cell_type": "code",
   "execution_count": 19,
   "metadata": {},
   "outputs": [
    {
     "data": {
      "text/plain": [
       "0    1388\n",
       "3       3\n",
       "2       2\n",
       "1       2\n",
       "Name: Pool QC, dtype: int64"
      ]
     },
     "execution_count": 19,
     "metadata": {},
     "output_type": "execute_result"
    }
   ],
   "source": [
    "preprocessed_train_df['Pool QC'].value_counts()\n",
    "preprocessed_train_df['Pool QC'] = preprocessed_train_df['Pool QC'].map({ \n",
    "                     \"NA\":0, \"TA\":1, \"Gd\":2, \"Ex\":3})\n",
    "preprocessed_train_df['Pool QC'].value_counts()"
   ]
  },
  {
   "cell_type": "code",
   "execution_count": 20,
   "metadata": {},
   "outputs": [
    {
     "data": {
      "text/plain": [
       "0    1120\n",
       "3     157\n",
       "4      58\n",
       "2      53\n",
       "1       7\n",
       "Name: Fence, dtype: int64"
      ]
     },
     "execution_count": 20,
     "metadata": {},
     "output_type": "execute_result"
    }
   ],
   "source": [
    "preprocessed_train_df['Fence'].value_counts()\n",
    "preprocessed_train_df['Fence'] = preprocessed_train_df['Fence'].map({ \n",
    "                     \"NA\":0, \"MnWw\":1, \"GdWo\":2, \"MnPrv\":3,\"GdPrv\":4})\n",
    "preprocessed_train_df['Fence'].value_counts()"
   ]
  },
  {
   "cell_type": "code",
   "execution_count": 21,
   "metadata": {},
   "outputs": [
    {
     "data": {
      "text/plain": [
       "1    708\n",
       "2    544\n",
       "3    101\n",
       "0     42\n",
       "Name: Kitchen Qual, dtype: int64"
      ]
     },
     "execution_count": 21,
     "metadata": {},
     "output_type": "execute_result"
    }
   ],
   "source": [
    "preprocessed_train_df['Kitchen Qual'].value_counts()\n",
    "preprocessed_train_df['Kitchen Qual'] = preprocessed_train_df['Kitchen Qual'].map({ \n",
    "                     \"Fa\":0, \"TA\":1, \"Gd\":2, \"Ex\":3})\n",
    "preprocessed_train_df['Kitchen Qual'].value_counts()"
   ]
  },
  {
   "cell_type": "code",
   "execution_count": 22,
   "metadata": {},
   "outputs": [
    {
     "data": {
      "text/plain": [
       "0.0    684\n",
       "4.0    338\n",
       "3.0    287\n",
       "2.0     41\n",
       "5.0     22\n",
       "Name: Fireplace Qu, dtype: int64"
      ]
     },
     "execution_count": 22,
     "metadata": {},
     "output_type": "execute_result"
    }
   ],
   "source": [
    "preprocessed_train_df['Fireplace Qu'].value_counts()\n",
    "preprocessed_train_df['Fireplace Qu'] = preprocessed_train_df['Fireplace Qu'].map({ \n",
    "                     \"NA\":0, \"No\":1, \"Fa\":2, \"TA\":3, \"Gd\":4,\"Ex\":5})\n",
    "preprocessed_train_df['Fireplace Qu'].value_counts()"
   ]
  },
  {
   "cell_type": "code",
   "execution_count": 23,
   "metadata": {},
   "outputs": [
    {
     "data": {
      "text/plain": [
       "3.0    1233\n",
       "0.0      88\n",
       "2.0      56\n",
       "4.0      14\n",
       "5.0       2\n",
       "Name: Garage Qual, dtype: int64"
      ]
     },
     "execution_count": 23,
     "metadata": {},
     "output_type": "execute_result"
    }
   ],
   "source": [
    "preprocessed_train_df['Garage Qual'].value_counts()\n",
    "preprocessed_train_df['Garage Qual'] = preprocessed_train_df['Garage Qual'].map({ \n",
    "                     \"NA\":0, \"No\":1, \"Fa\":2, \"TA\":3, \"Gd\":4,\"Ex\":5})\n",
    "preprocessed_train_df['Garage Qual'].value_counts()"
   ]
  },
  {
   "cell_type": "code",
   "execution_count": 24,
   "metadata": {},
   "outputs": [
    {
     "data": {
      "text/plain": [
       "3.0    1254\n",
       "0.0      88\n",
       "2.0      38\n",
       "4.0       7\n",
       "5.0       3\n",
       "Name: Garage Cond, dtype: int64"
      ]
     },
     "execution_count": 24,
     "metadata": {},
     "output_type": "execute_result"
    }
   ],
   "source": [
    "preprocessed_train_df['Garage Cond'].value_counts()\n",
    "preprocessed_train_df['Garage Cond'] = preprocessed_train_df['Garage Cond'].map({ \n",
    "                     \"NA\":0, \"No\":1, \"Fa\":2, \"TA\":3, \"Gd\":4,\"Ex\":5})\n",
    "preprocessed_train_df['Garage Cond'].value_counts()"
   ]
  },
  {
   "cell_type": "code",
   "execution_count": 25,
   "metadata": {},
   "outputs": [
    {
     "data": {
      "text/plain": [
       "4    713\n",
       "2    422\n",
       "3    212\n",
       "1     45\n",
       "0      3\n",
       "Name: Heating QC, dtype: int64"
      ]
     },
     "execution_count": 25,
     "metadata": {},
     "output_type": "execute_result"
    }
   ],
   "source": [
    "preprocessed_train_df['Heating QC'].value_counts()\n",
    "preprocessed_train_df['Heating QC'] = preprocessed_train_df['Heating QC'].map({ \n",
    "                     \"Po\":0, \"Fa\":1, \"TA\":2, \"Gd\":3,\"Ex\":4})\n",
    "preprocessed_train_df['Heating QC'].value_counts()"
   ]
  },
  {
   "cell_type": "code",
   "execution_count": 26,
   "metadata": {},
   "outputs": [
    {
     "data": {
      "text/plain": [
       "1    567\n",
       "2    383\n",
       "3    357\n",
       "0     88\n",
       "Name: Garage Finish, dtype: int64"
      ]
     },
     "execution_count": 26,
     "metadata": {},
     "output_type": "execute_result"
    }
   ],
   "source": [
    "preprocessed_train_df['Garage Finish'].value_counts()\n",
    "preprocessed_train_df['Garage Finish'] = preprocessed_train_df['Garage Finish'].map({ \n",
    "                     \"NA\":0, \"Unf\":1, \"RFn\":2, \"Fin\":3})\n",
    "preprocessed_train_df['Garage Finish'].value_counts()"
   ]
  },
  {
   "cell_type": "code",
   "execution_count": 27,
   "metadata": {},
   "outputs": [
    {
     "data": {
      "text/html": [
       "<div>\n",
       "<style scoped>\n",
       "    .dataframe tbody tr th:only-of-type {\n",
       "        vertical-align: middle;\n",
       "    }\n",
       "\n",
       "    .dataframe tbody tr th {\n",
       "        vertical-align: top;\n",
       "    }\n",
       "\n",
       "    .dataframe thead th {\n",
       "        text-align: right;\n",
       "    }\n",
       "</style>\n",
       "<table border=\"1\" class=\"dataframe\">\n",
       "  <thead>\n",
       "    <tr style=\"text-align: right;\">\n",
       "      <th></th>\n",
       "      <th>Test_ID</th>\n",
       "      <th>MS SubClass</th>\n",
       "      <th>MS Zoning</th>\n",
       "      <th>Lot Frontage</th>\n",
       "      <th>Lot Area</th>\n",
       "      <th>Street</th>\n",
       "      <th>Alley</th>\n",
       "      <th>Lot Shape</th>\n",
       "      <th>Land Contour</th>\n",
       "      <th>Utilities</th>\n",
       "      <th>...</th>\n",
       "      <th>Screen Porch</th>\n",
       "      <th>Pool Area</th>\n",
       "      <th>Pool QC</th>\n",
       "      <th>Fence</th>\n",
       "      <th>Misc Feature</th>\n",
       "      <th>Misc Val</th>\n",
       "      <th>Mo Sold</th>\n",
       "      <th>Yr Sold</th>\n",
       "      <th>Sale Type</th>\n",
       "      <th>Sale Condition</th>\n",
       "    </tr>\n",
       "  </thead>\n",
       "  <tbody>\n",
       "    <tr>\n",
       "      <th>0</th>\n",
       "      <td>1</td>\n",
       "      <td>90</td>\n",
       "      <td>RH</td>\n",
       "      <td>82.0</td>\n",
       "      <td>6270</td>\n",
       "      <td>Pave</td>\n",
       "      <td>NA</td>\n",
       "      <td>Reg</td>\n",
       "      <td>HLS</td>\n",
       "      <td>AllPub</td>\n",
       "      <td>...</td>\n",
       "      <td>0</td>\n",
       "      <td>0</td>\n",
       "      <td>NA</td>\n",
       "      <td>NA</td>\n",
       "      <td>NA</td>\n",
       "      <td>0</td>\n",
       "      <td>8</td>\n",
       "      <td>2007</td>\n",
       "      <td>WD</td>\n",
       "      <td>Normal</td>\n",
       "    </tr>\n",
       "    <tr>\n",
       "      <th>1</th>\n",
       "      <td>2</td>\n",
       "      <td>30</td>\n",
       "      <td>RL</td>\n",
       "      <td>85.0</td>\n",
       "      <td>10625</td>\n",
       "      <td>Pave</td>\n",
       "      <td>NA</td>\n",
       "      <td>Reg</td>\n",
       "      <td>Lvl</td>\n",
       "      <td>AllPub</td>\n",
       "      <td>...</td>\n",
       "      <td>0</td>\n",
       "      <td>0</td>\n",
       "      <td>NA</td>\n",
       "      <td>NA</td>\n",
       "      <td>Shed</td>\n",
       "      <td>400</td>\n",
       "      <td>5</td>\n",
       "      <td>2010</td>\n",
       "      <td>COD</td>\n",
       "      <td>Abnorml</td>\n",
       "    </tr>\n",
       "    <tr>\n",
       "      <th>2</th>\n",
       "      <td>3</td>\n",
       "      <td>20</td>\n",
       "      <td>RL</td>\n",
       "      <td>129.0</td>\n",
       "      <td>16770</td>\n",
       "      <td>Pave</td>\n",
       "      <td>NA</td>\n",
       "      <td>Reg</td>\n",
       "      <td>Lvl</td>\n",
       "      <td>AllPub</td>\n",
       "      <td>...</td>\n",
       "      <td>0</td>\n",
       "      <td>0</td>\n",
       "      <td>NA</td>\n",
       "      <td>NA</td>\n",
       "      <td>NA</td>\n",
       "      <td>0</td>\n",
       "      <td>9</td>\n",
       "      <td>2009</td>\n",
       "      <td>WD</td>\n",
       "      <td>Normal</td>\n",
       "    </tr>\n",
       "    <tr>\n",
       "      <th>3</th>\n",
       "      <td>4</td>\n",
       "      <td>30</td>\n",
       "      <td>RM</td>\n",
       "      <td>60.0</td>\n",
       "      <td>10800</td>\n",
       "      <td>Pave</td>\n",
       "      <td>Grvl</td>\n",
       "      <td>Reg</td>\n",
       "      <td>Lvl</td>\n",
       "      <td>AllPub</td>\n",
       "      <td>...</td>\n",
       "      <td>0</td>\n",
       "      <td>0</td>\n",
       "      <td>NA</td>\n",
       "      <td>NA</td>\n",
       "      <td>Shed</td>\n",
       "      <td>450</td>\n",
       "      <td>8</td>\n",
       "      <td>2007</td>\n",
       "      <td>WD</td>\n",
       "      <td>Normal</td>\n",
       "    </tr>\n",
       "    <tr>\n",
       "      <th>4</th>\n",
       "      <td>5</td>\n",
       "      <td>60</td>\n",
       "      <td>RL</td>\n",
       "      <td>NaN</td>\n",
       "      <td>29959</td>\n",
       "      <td>Pave</td>\n",
       "      <td>NA</td>\n",
       "      <td>IR2</td>\n",
       "      <td>Lvl</td>\n",
       "      <td>AllPub</td>\n",
       "      <td>...</td>\n",
       "      <td>0</td>\n",
       "      <td>0</td>\n",
       "      <td>NA</td>\n",
       "      <td>NA</td>\n",
       "      <td>NA</td>\n",
       "      <td>0</td>\n",
       "      <td>1</td>\n",
       "      <td>2009</td>\n",
       "      <td>WD</td>\n",
       "      <td>Normal</td>\n",
       "    </tr>\n",
       "  </tbody>\n",
       "</table>\n",
       "<p>5 rows × 80 columns</p>\n",
       "</div>"
      ],
      "text/plain": [
       "   Test_ID  MS SubClass MS Zoning  Lot Frontage  Lot Area Street Alley  \\\n",
       "0        1           90        RH          82.0      6270   Pave    NA   \n",
       "1        2           30        RL          85.0     10625   Pave    NA   \n",
       "2        3           20        RL         129.0     16770   Pave    NA   \n",
       "3        4           30        RM          60.0     10800   Pave  Grvl   \n",
       "4        5           60        RL           NaN     29959   Pave    NA   \n",
       "\n",
       "  Lot Shape Land Contour Utilities  ... Screen Porch Pool Area Pool QC Fence  \\\n",
       "0       Reg          HLS    AllPub  ...            0         0      NA    NA   \n",
       "1       Reg          Lvl    AllPub  ...            0         0      NA    NA   \n",
       "2       Reg          Lvl    AllPub  ...            0         0      NA    NA   \n",
       "3       Reg          Lvl    AllPub  ...            0         0      NA    NA   \n",
       "4       IR2          Lvl    AllPub  ...            0         0      NA    NA   \n",
       "\n",
       "  Misc Feature Misc Val Mo Sold  Yr Sold  Sale Type  Sale Condition  \n",
       "0           NA        0       8     2007        WD           Normal  \n",
       "1         Shed      400       5     2010        COD         Abnorml  \n",
       "2           NA        0       9     2009        WD           Normal  \n",
       "3         Shed      450       8     2007        WD           Normal  \n",
       "4           NA        0       1     2009        WD           Normal  \n",
       "\n",
       "[5 rows x 80 columns]"
      ]
     },
     "execution_count": 27,
     "metadata": {},
     "output_type": "execute_result"
    }
   ],
   "source": [
    "#%% Import test data\n",
    "test_df = pd.read_csv(\"test.csv\", keep_default_na=False,na_values=[''])\n",
    "test_df.head()"
   ]
  },
  {
   "cell_type": "code",
   "execution_count": 28,
   "metadata": {},
   "outputs": [
    {
     "name": "stdout",
     "output_type": "stream",
     "text": [
      "Lot Frontage : 217\n",
      "Mas Vnr Type : 8\n",
      "Mas Vnr Area : 8\n",
      "Bsmt Qual : 1\n",
      "Bsmt Cond : 1\n",
      "Bsmt Exposure : 2\n",
      "BsmtFin Type 1 : 1\n",
      "BsmtFin SF 1 : 1\n",
      "BsmtFin Type 2 : 2\n",
      "BsmtFin SF 2 : 1\n",
      "Bsmt Unf SF : 1\n",
      "Total Bsmt SF : 1\n",
      "Bsmt Full Bath : 1\n",
      "Bsmt Half Bath : 1\n",
      "Garage Yr Blt : 65\n",
      "Garage Finish : 1\n"
     ]
    }
   ],
   "source": [
    "df_indexes = test_df.columns\n",
    "null_number = test_df.isnull().sum()\n",
    "for i in range(len(null_number)):\n",
    "    if(null_number[i]!=0):\n",
    "        print(df_indexes[i]+\" : \"+str(null_number[i]))"
   ]
  },
  {
   "cell_type": "code",
   "execution_count": 29,
   "metadata": {},
   "outputs": [
    {
     "name": "stdout",
     "output_type": "stream",
     "text": [
      "nan numebr BEFORE transformation: 253\n",
      "nan numebr AFTER transformation: 0\n"
     ]
    }
   ],
   "source": [
    "#%% Transform LotFrontage (252 nan) --- Linear feet of street connected to property\n",
    "# taking TRAIN average\n",
    "lf_test=train_df['Lot Frontage']\n",
    "# count nan numbers first\n",
    "print('nan numebr BEFORE transformation:',lf_test.isnull().sum())\n",
    "# fill_value_lf is the filling value we took in training sample\n",
    "lf_test=lf_test.fillna(fill_value_lf)\n",
    "# after scaling, check nan value number again\n",
    "print('nan numebr AFTER transformation:',lf_test.isnull().sum())"
   ]
  },
  {
   "cell_type": "code",
   "execution_count": 30,
   "metadata": {},
   "outputs": [
    {
     "name": "stdout",
     "output_type": "stream",
     "text": [
      "nan numebr BEFORE transformation: 14\n",
      "nan numebr AFTER transformation: 0\n"
     ]
    }
   ],
   "source": [
    "#%%\n",
    "# transform Mas Vnr Type\n",
    "MVT_test=train_df['Mas Vnr Type']\n",
    "print('nan numebr BEFORE transformation:',MVT_test.isnull().sum())\n",
    "MVT_test=MVT_test.fillna(fill_value_MVT)\n",
    "print('nan numebr AFTER transformation:',MVT_test.isnull().sum())"
   ]
  },
  {
   "cell_type": "code",
   "execution_count": 31,
   "metadata": {},
   "outputs": [
    {
     "name": "stdout",
     "output_type": "stream",
     "text": [
      "nan numebr BEFORE transformation: 14\n",
      "nan numebr AFTER transformation: 0\n"
     ]
    }
   ],
   "source": [
    "#%%\n",
    "MVA_test=train_df['Mas Vnr Area']\n",
    "print('nan numebr BEFORE transformation:',MVA_test.isnull().sum())\n",
    "MVA_test=MVA_test.fillna(fill_value_MVA)\n",
    "print('nan numebr AFTER transformation:',MVA_test.isnull().sum())"
   ]
  },
  {
   "cell_type": "code",
   "execution_count": 32,
   "metadata": {},
   "outputs": [
    {
     "name": "stdout",
     "output_type": "stream",
     "text": [
      "nan numebr BEFORE transformation: 2\n",
      "nan numebr AFTER transformation: 0\n"
     ]
    }
   ],
   "source": [
    "#%%\n",
    "BE_test=train_df['Bsmt Exposure']\n",
    "print('nan numebr BEFORE transformation:',BE_test.isnull().sum())\n",
    "BE_test=BE_test.fillna(fill_value_BE)\n",
    "print('nan numebr AFTER transformation:',BE_test.isnull().sum())\n"
   ]
  },
  {
   "cell_type": "code",
   "execution_count": 33,
   "metadata": {},
   "outputs": [
    {
     "name": "stdout",
     "output_type": "stream",
     "text": [
      "nan numebr BEFORE transformation: 89\n",
      "nan numebr AFTER transformation: 0\n"
     ]
    }
   ],
   "source": [
    "#%%\n",
    "GYB_test=train_df['Garage Yr Blt']\n",
    "print('nan numebr BEFORE transformation:',GYB_test.isnull().sum())\n",
    "GYB_test=GYB_test.fillna(fill_value_GYB)\n",
    "print('nan numebr AFTER transformation:',GYB_test.isnull().sum())"
   ]
  },
  {
   "cell_type": "code",
   "execution_count": 34,
   "metadata": {},
   "outputs": [
    {
     "name": "stdout",
     "output_type": "stream",
     "text": [
      "nan numebr AFTER transformation: 0\n"
     ]
    }
   ],
   "source": [
    "#%%\n",
    "train_df['Bsmt Qual'].value_counts()\n",
    "BQ_test=test_df['Bsmt Qual']\n",
    "BQ_test=BQ_test.fillna('TA')\n",
    "print('nan numebr AFTER transformation:',BQ_test.isnull().sum())"
   ]
  },
  {
   "cell_type": "code",
   "execution_count": 35,
   "metadata": {},
   "outputs": [
    {
     "name": "stdout",
     "output_type": "stream",
     "text": [
      "nan numebr AFTER transformation: 0\n"
     ]
    }
   ],
   "source": [
    "#%%\n",
    "train_df['Bsmt Cond'].value_counts()\n",
    "BC_test=test_df['Bsmt Cond']\n",
    "BC_test=BC_test.fillna('TA')\n",
    "print('nan numebr AFTER transformation:',BC_test.isnull().sum())"
   ]
  },
  {
   "cell_type": "code",
   "execution_count": 36,
   "metadata": {},
   "outputs": [
    {
     "name": "stdout",
     "output_type": "stream",
     "text": [
      "nan numebr AFTER transformation: 0\n"
     ]
    }
   ],
   "source": [
    "#%% BsmtFin Type 1\n",
    "train_df['BsmtFin Type 1'].value_counts()\n",
    "BT1_test=test_df['BsmtFin Type 1']\n",
    "BT1_test=BT1_test.fillna('GLQ')\n",
    "print('nan numebr AFTER transformation:',BT1_test.isnull().sum())"
   ]
  },
  {
   "cell_type": "code",
   "execution_count": 37,
   "metadata": {},
   "outputs": [
    {
     "name": "stdout",
     "output_type": "stream",
     "text": [
      "nan numebr AFTER transformation: 0\n"
     ]
    }
   ],
   "source": [
    "#%% BsmtFin Type 2\n",
    "train_df['BsmtFin Type 2'].value_counts()\n",
    "BT2_test=test_df['BsmtFin Type 1']\n",
    "BT2_test=BT2_test.fillna('Unf')\n",
    "print('nan numebr AFTER transformation:',BT2_test.isnull().sum())"
   ]
  },
  {
   "cell_type": "code",
   "execution_count": 38,
   "metadata": {},
   "outputs": [
    {
     "name": "stdout",
     "output_type": "stream",
     "text": [
      "nan numebr AFTER transformation: 0\n"
     ]
    }
   ],
   "source": [
    "#%% Total Bsmt SF\n",
    "fill_value_BSF=round(train_df['Total Bsmt SF'].mean())\n",
    "BSF_test=test_df['Total Bsmt SF']\n",
    "BSF_test=BSF_test.fillna(fill_value_BSF)\n",
    "print('nan numebr AFTER transformation:',BSF_test.isnull().sum())"
   ]
  },
  {
   "cell_type": "code",
   "execution_count": 39,
   "metadata": {},
   "outputs": [
    {
     "name": "stdout",
     "output_type": "stream",
     "text": [
      "nan numebr AFTER transformation: 0\n"
     ]
    }
   ],
   "source": [
    "#%% BsmtFin SF 1\n",
    "fill_value_BFSF1=round(train_df['BsmtFin SF 1'].mean())\n",
    "BFSF1_test=test_df['BsmtFin SF 1']\n",
    "BFSF1_test=BFSF1_test.fillna(fill_value_BFSF1)\n",
    "print('nan numebr AFTER transformation:',BFSF1_test.isnull().sum())"
   ]
  },
  {
   "cell_type": "code",
   "execution_count": 40,
   "metadata": {},
   "outputs": [
    {
     "name": "stdout",
     "output_type": "stream",
     "text": [
      "nan numebr AFTER transformation: 0\n"
     ]
    }
   ],
   "source": [
    "#%% BsmtFin SF 2 \n",
    "fill_value_BFSF2=round(train_df['BsmtFin SF 2'].mean())\n",
    "BFSF2_test=test_df['BsmtFin SF 2']\n",
    "BFSF2_test=BFSF2_test.fillna(fill_value_BFSF2)\n",
    "print('nan numebr AFTER transformation:',BFSF2_test.isnull().sum())"
   ]
  },
  {
   "cell_type": "code",
   "execution_count": 41,
   "metadata": {},
   "outputs": [
    {
     "name": "stdout",
     "output_type": "stream",
     "text": [
      "nan numebr AFTER transformation: 0\n"
     ]
    }
   ],
   "source": [
    "#%% Bsmt Unf SF\n",
    "fill_value_BUSF=round(train_df['Bsmt Unf SF'].mean())\n",
    "BUSF_test=test_df['Bsmt Unf SF']\n",
    "BUSF_test=BUSF_test.fillna(fill_value_BUSF)\n",
    "print('nan numebr AFTER transformation:',BUSF_test.isnull().sum())"
   ]
  },
  {
   "cell_type": "code",
   "execution_count": 42,
   "metadata": {},
   "outputs": [
    {
     "name": "stdout",
     "output_type": "stream",
     "text": [
      "nan numebr AFTER transformation: 0\n"
     ]
    }
   ],
   "source": [
    "#%% Bsmt Full Bath \n",
    "BFB_test=test_df['Bsmt Full Bath']\n",
    "BFB_test=BFB_test.fillna(0.0)\n",
    "print('nan numebr AFTER transformation:',BFB_test.isnull().sum())"
   ]
  },
  {
   "cell_type": "code",
   "execution_count": 43,
   "metadata": {},
   "outputs": [
    {
     "name": "stdout",
     "output_type": "stream",
     "text": [
      "nan numebr AFTER transformation: 0\n"
     ]
    }
   ],
   "source": [
    "#%% Bsmt Half Bath\n",
    "BHB_test=test_df['Bsmt Half Bath']\n",
    "BHB_test=BHB_test.fillna(0.0)\n",
    "print('nan numebr AFTER transformation:',BHB_test.isnull().sum())"
   ]
  },
  {
   "cell_type": "code",
   "execution_count": 44,
   "metadata": {},
   "outputs": [
    {
     "name": "stdout",
     "output_type": "stream",
     "text": [
      "nan numebr AFTER transformation: 0\n"
     ]
    }
   ],
   "source": [
    "#%% Garage Finish\n",
    "fill_value_GF=\"Unf\"\n",
    "GF_test=test_df['Garage Finish']\n",
    "GF_test=GF_test.fillna(fill_value_GF)\n",
    "print('nan numebr AFTER transformation:',GF_test.isnull().sum())"
   ]
  },
  {
   "cell_type": "code",
   "execution_count": 45,
   "metadata": {},
   "outputs": [
    {
     "name": "stdout",
     "output_type": "stream",
     "text": [
      "(1382, 79)\n"
     ]
    }
   ],
   "source": [
    "#%% replace all processed data into original test set\n",
    "preprocessed_test_df=test_df.copy()\n",
    "preprocessed_test_df['Lot Frontage']=lf_test\n",
    "preprocessed_test_df['Mas Vnr Type']=MVT_test\n",
    "preprocessed_test_df['Mas Vnr Area']=MVA_test\n",
    "preprocessed_test_df['Garage Yr Blt']=GYB_test\n",
    "preprocessed_test_df['Bsmt Exposure']=BE_test\n",
    "preprocessed_test_df['Bsmt Qual']=BQ_test\n",
    "preprocessed_test_df['Bsmt Cond']=BC_test\n",
    "preprocessed_test_df['BsmtFin Type 1']= BT1_test\n",
    "preprocessed_test_df['BsmtFin SF 1']=BFSF1_test\n",
    "preprocessed_test_df['BsmtFin Type 2']=BT2_test\n",
    "preprocessed_test_df['BsmtFin SF 2']=BFSF2_test\n",
    "preprocessed_test_df['Bsmt Unf SF']=BUSF_test\n",
    "preprocessed_test_df['Total Bsmt SF']=BSF_test\n",
    "preprocessed_test_df['Bsmt Full Bath']=BFB_test\n",
    "preprocessed_test_df['Bsmt Half Bath']=BHB_test\n",
    "preprocessed_test_df['Garage Finish']=GF_test\n",
    "preprocessed_test_df=preprocessed_test_df.drop(['Test_ID'], axis=1)\n",
    "print(preprocessed_test_df.shape)"
   ]
  },
  {
   "cell_type": "code",
   "execution_count": 46,
   "metadata": {},
   "outputs": [
    {
     "data": {
      "text/plain": [
       "1    589\n",
       "2    388\n",
       "3    341\n",
       "0     64\n",
       "Name: Garage Finish, dtype: int64"
      ]
     },
     "execution_count": 46,
     "metadata": {},
     "output_type": "execute_result"
    }
   ],
   "source": [
    "#%% Ordinal data transform ———————— ALL transformation start at 1\n",
    "\n",
    "preprocessed_test_df['Exter Qual'].value_counts()\n",
    "preprocessed_test_df['Exter Qual'] = preprocessed_test_df['Exter Qual'].map({ \n",
    "                     \"Fa\":0, \"TA\":1, \"Gd\":2, \"Ex\":3})\n",
    "\n",
    "preprocessed_test_df['Exter Cond'].value_counts()\n",
    "preprocessed_test_df['Exter Cond'] = preprocessed_train_df['Exter Cond'].map({ \n",
    "                     \"Po\":0, \"Fa\":1, \"TA\":2, \"Gd\":3, \"Ex\":4})\n",
    "\n",
    "preprocessed_test_df['Bsmt Qual'].value_counts()\n",
    "preprocessed_test_df['Bsmt Qual'] = preprocessed_test_df['Bsmt Qual'].map({ \n",
    "                     \"NA\":0, \"Po\":1, \"Fa\":2, \"TA\":3, \"Gd\":4, \"Ex\":5})\n",
    "\n",
    "preprocessed_test_df['Bsmt Exposure'].value_counts()\n",
    "preprocessed_test_df['Bsmt Exposure'] = preprocessed_test_df['Bsmt Exposure'].map({ \n",
    "                     \"NA\":0, \"No\":1, \"Mn\":2, \"Av\":3, \"Gd\":4})\n",
    "\n",
    "preprocessed_test_df['Bsmt Cond'].value_counts()\n",
    "preprocessed_test_df['Bsmt Cond'] = preprocessed_test_df['Bsmt Cond'].map({ \n",
    "                     \"NA\":0, \"No\":1, \"Fa\":2, \"TA\":3, \"Gd\":4,\"Ex\":5})\n",
    "\n",
    "preprocessed_test_df['BsmtFin Type 1'].value_counts()\n",
    "preprocessed_test_df['BsmtFin Type 1'] = preprocessed_test_df['BsmtFin Type 1'].map({ \n",
    "                     \"NA\":0, \"Unf\":1, \"LwQ\":2, \"Rec\":3, \"BLQ\":4,\"ALQ\":5,\"GLQ\":6})\n",
    "\n",
    "preprocessed_test_df['BsmtFin Type 2'].value_counts()\n",
    "preprocessed_test_df['BsmtFin Type 2'] = preprocessed_test_df['BsmtFin Type 2'].map({ \n",
    "                     \"NA\":0, \"Unf\":1, \"LwQ\":2, \"Rec\":3, \"BLQ\":4,\"ALQ\":5,\"GLQ\":6})\n",
    "preprocessed_test_df['BsmtFin Type 2'].value_counts()\n",
    "\n",
    "preprocessed_test_df['Pool QC'].value_counts()\n",
    "preprocessed_test_df['Pool QC'] = preprocessed_test_df['Pool QC'].map({ \n",
    "                     \"NA\":0, \"TA\":1, \"Gd\":2, \"Ex\":3})\n",
    "preprocessed_test_df['Pool QC'].value_counts()\n",
    "\n",
    "preprocessed_test_df['Fence'].value_counts()\n",
    "preprocessed_test_df['Fence'] = preprocessed_test_df['Fence'].map({ \n",
    "                     \"NA\":0, \"MnWw\":1, \"GdWo\":2, \"MnPrv\":3,\"GdPrv\":4})\n",
    "preprocessed_test_df['Fence'].value_counts()\n",
    "\n",
    "preprocessed_test_df['Kitchen Qual'].value_counts()\n",
    "preprocessed_test_df['Kitchen Qual'] = preprocessed_test_df['Kitchen Qual'].map({ \n",
    "                     \"Fa\":0, \"TA\":1, \"Gd\":2, \"Ex\":3})\n",
    "preprocessed_test_df['Kitchen Qual'].value_counts()\n",
    "\n",
    "preprocessed_test_df['Fireplace Qu'].value_counts()\n",
    "preprocessed_test_df['Fireplace Qu'] = preprocessed_test_df['Fireplace Qu'].map({ \n",
    "                     \"NA\":0, \"No\":1, \"Fa\":2, \"TA\":3, \"Gd\":4,\"Ex\":5})\n",
    "preprocessed_test_df['Fireplace Qu'].value_counts()\n",
    "\n",
    "preprocessed_test_df['Garage Qual'].value_counts()\n",
    "preprocessed_test_df['Garage Qual'] = preprocessed_test_df['Garage Qual'].map({ \n",
    "                     \"NA\":0, \"No\":1, \"Fa\":2, \"TA\":3, \"Gd\":4,\"Ex\":5})\n",
    "preprocessed_test_df['Garage Qual'].value_counts()\n",
    "\n",
    "preprocessed_test_df['Garage Cond'].value_counts()\n",
    "preprocessed_test_df['Garage Cond'] = preprocessed_test_df['Garage Cond'].map({ \n",
    "                     \"NA\":0, \"No\":1, \"Fa\":2, \"TA\":3, \"Gd\":4,\"Ex\":5})\n",
    "preprocessed_test_df['Garage Cond'].value_counts()\n",
    "\n",
    "preprocessed_test_df['Heating QC'].value_counts()\n",
    "preprocessed_test_df['Heating QC'] = preprocessed_test_df['Heating QC'].map({ \n",
    "                     \"Po\":0, \"Fa\":1, \"TA\":2, \"Gd\":3,\"Ex\":4})\n",
    "preprocessed_test_df['Heating QC'].value_counts()\n",
    "\n",
    "preprocessed_test_df['Garage Finish'].value_counts()\n",
    "preprocessed_test_df['Garage Finish'] = preprocessed_test_df['Garage Finish'].map({ \n",
    "                     \"NA\":0, \"Unf\":1, \"RFn\":2, \"Fin\":3})\n",
    "preprocessed_test_df['Garage Finish'].value_counts()"
   ]
  },
  {
   "cell_type": "code",
   "execution_count": 47,
   "metadata": {},
   "outputs": [],
   "source": [
    "# save preprocess data into two new csv files\n",
    "preprocessed_train_df.to_csv('new_train.csv')\n",
    "preprocessed_test_df.to_csv('new_test.csv')"
   ]
  },
  {
   "cell_type": "markdown",
   "metadata": {},
   "source": [
    "# 第二次从这里开始run"
   ]
  },
  {
   "cell_type": "code",
   "execution_count": 48,
   "metadata": {},
   "outputs": [],
   "source": [
    "# import new data set\n",
    "new_train=pd.read_csv('new_train.csv')\n",
    "new_test=pd.read_csv('new_test.csv')\n",
    "\n",
    "# transforma all data into dummy variables\n",
    "train_dummy_ready=new_train.iloc[:,1:-1]\n",
    "y = new_train.iloc[:,-1].values\n",
    "test_dummy_ready=new_test"
   ]
  },
  {
   "cell_type": "code",
   "execution_count": 49,
   "metadata": {},
   "outputs": [],
   "source": [
    "from sklearn.feature_extraction import DictVectorizer\n",
    "dict_vec = DictVectorizer()\n",
    "X_train_dummy= dict_vec.fit_transform(train_dummy_ready.to_dict(orient='records')).toarray()\n",
    "X_test_dummy=dict_vec.transform(test_dummy_ready.to_dict(orient='records')).toarray()"
   ]
  },
  {
   "cell_type": "code",
   "execution_count": 50,
   "metadata": {},
   "outputs": [],
   "source": [
    "# the X train set is    X_train_dummy\n",
    "# the X teset set is    X_test_dummy\n",
    "# the y train set is    y"
   ]
  },
  {
   "cell_type": "code",
   "execution_count": 51,
   "metadata": {},
   "outputs": [
    {
     "data": {
      "text/plain": [
       "['1st Flr SF',\n",
       " '2nd Flr SF',\n",
       " '3Ssn Porch',\n",
       " 'Alley',\n",
       " 'Alley=Grvl',\n",
       " 'Alley=Pave',\n",
       " 'Bedroom AbvGr',\n",
       " 'Bldg Type=1Fam',\n",
       " 'Bldg Type=2fmCon',\n",
       " 'Bldg Type=Duplex',\n",
       " 'Bldg Type=Twnhs',\n",
       " 'Bldg Type=TwnhsE',\n",
       " 'Bsmt Cond',\n",
       " 'Bsmt Exposure',\n",
       " 'Bsmt Full Bath',\n",
       " 'Bsmt Half Bath',\n",
       " 'Bsmt Qual',\n",
       " 'Bsmt Unf SF',\n",
       " 'BsmtFin SF 1',\n",
       " 'BsmtFin SF 2',\n",
       " 'BsmtFin Type 1',\n",
       " 'BsmtFin Type 2',\n",
       " 'Central Air=N',\n",
       " 'Central Air=Y',\n",
       " 'Condition 1=Artery',\n",
       " 'Condition 1=Feedr',\n",
       " 'Condition 1=Norm',\n",
       " 'Condition 1=PosA',\n",
       " 'Condition 1=PosN',\n",
       " 'Condition 1=RRAe',\n",
       " 'Condition 1=RRAn',\n",
       " 'Condition 1=RRNe',\n",
       " 'Condition 1=RRNn',\n",
       " 'Condition 2=Artery',\n",
       " 'Condition 2=Feedr',\n",
       " 'Condition 2=Norm',\n",
       " 'Condition 2=PosA',\n",
       " 'Condition 2=PosN',\n",
       " 'Condition 2=RRNn',\n",
       " 'Electrical=FuseA',\n",
       " 'Electrical=FuseF',\n",
       " 'Electrical=FuseP',\n",
       " 'Electrical=SBrkr',\n",
       " 'Enclosed Porch',\n",
       " 'Exter Cond',\n",
       " 'Exter Qual',\n",
       " 'Exterior 1st=AsbShng',\n",
       " 'Exterior 1st=AsphShn',\n",
       " 'Exterior 1st=BrkComm',\n",
       " 'Exterior 1st=BrkFace',\n",
       " 'Exterior 1st=CBlock',\n",
       " 'Exterior 1st=CemntBd',\n",
       " 'Exterior 1st=HdBoard',\n",
       " 'Exterior 1st=MetalSd',\n",
       " 'Exterior 1st=Plywood',\n",
       " 'Exterior 1st=PreCast',\n",
       " 'Exterior 1st=Stone',\n",
       " 'Exterior 1st=Stucco',\n",
       " 'Exterior 1st=VinylSd',\n",
       " 'Exterior 1st=Wd Sdng',\n",
       " 'Exterior 1st=WdShing',\n",
       " 'Exterior 2nd=AsbShng',\n",
       " 'Exterior 2nd=AsphShn',\n",
       " 'Exterior 2nd=Brk Cmn',\n",
       " 'Exterior 2nd=BrkFace',\n",
       " 'Exterior 2nd=CBlock',\n",
       " 'Exterior 2nd=CmentBd',\n",
       " 'Exterior 2nd=HdBoard',\n",
       " 'Exterior 2nd=ImStucc',\n",
       " 'Exterior 2nd=MetalSd',\n",
       " 'Exterior 2nd=Plywood',\n",
       " 'Exterior 2nd=PreCast',\n",
       " 'Exterior 2nd=Stone',\n",
       " 'Exterior 2nd=Stucco',\n",
       " 'Exterior 2nd=VinylSd',\n",
       " 'Exterior 2nd=Wd Sdng',\n",
       " 'Exterior 2nd=Wd Shng',\n",
       " 'Fence',\n",
       " 'Fireplace Qu',\n",
       " 'Fireplaces',\n",
       " 'Foundation=BrkTil',\n",
       " 'Foundation=CBlock',\n",
       " 'Foundation=PConc',\n",
       " 'Foundation=Slab',\n",
       " 'Foundation=Stone',\n",
       " 'Foundation=Wood',\n",
       " 'Full Bath',\n",
       " 'Functional=Maj1',\n",
       " 'Functional=Maj2',\n",
       " 'Functional=Min1',\n",
       " 'Functional=Min2',\n",
       " 'Functional=Mod',\n",
       " 'Functional=Sal',\n",
       " 'Functional=Sev',\n",
       " 'Functional=Typ',\n",
       " 'Garage Area',\n",
       " 'Garage Cars',\n",
       " 'Garage Cond',\n",
       " 'Garage Finish',\n",
       " 'Garage Qual',\n",
       " 'Garage Type',\n",
       " 'Garage Type=2Types',\n",
       " 'Garage Type=Attchd',\n",
       " 'Garage Type=Basment',\n",
       " 'Garage Type=BuiltIn',\n",
       " 'Garage Type=CarPort',\n",
       " 'Garage Type=Detchd',\n",
       " 'Garage Yr Blt',\n",
       " 'Gr Liv Area',\n",
       " 'Half Bath',\n",
       " 'Heating QC',\n",
       " 'Heating=Floor',\n",
       " 'Heating=GasA',\n",
       " 'Heating=GasW',\n",
       " 'Heating=Grav',\n",
       " 'Heating=OthW',\n",
       " 'Heating=Wall',\n",
       " 'House Style=1.5Fin',\n",
       " 'House Style=1.5Unf',\n",
       " 'House Style=1Story',\n",
       " 'House Style=2.5Fin',\n",
       " 'House Style=2.5Unf',\n",
       " 'House Style=2Story',\n",
       " 'House Style=SFoyer',\n",
       " 'House Style=SLvl',\n",
       " 'Kitchen AbvGr',\n",
       " 'Kitchen Qual',\n",
       " 'Land Contour=Bnk',\n",
       " 'Land Contour=HLS',\n",
       " 'Land Contour=Low',\n",
       " 'Land Contour=Lvl',\n",
       " 'Land Slope=Gtl',\n",
       " 'Land Slope=Mod',\n",
       " 'Land Slope=Sev',\n",
       " 'Lot Area',\n",
       " 'Lot Config=Corner',\n",
       " 'Lot Config=CulDSac',\n",
       " 'Lot Config=FR2',\n",
       " 'Lot Config=FR3',\n",
       " 'Lot Config=Inside',\n",
       " 'Lot Frontage',\n",
       " 'Lot Shape=IR1',\n",
       " 'Lot Shape=IR2',\n",
       " 'Lot Shape=IR3',\n",
       " 'Lot Shape=Reg',\n",
       " 'Low Qual Fin SF',\n",
       " 'MS SubClass',\n",
       " 'MS Zoning=A (agr)',\n",
       " 'MS Zoning=C (all)',\n",
       " 'MS Zoning=FV',\n",
       " 'MS Zoning=I (all)',\n",
       " 'MS Zoning=RH',\n",
       " 'MS Zoning=RL',\n",
       " 'MS Zoning=RL ',\n",
       " 'MS Zoning=RM',\n",
       " 'Mas Vnr Area',\n",
       " 'Mas Vnr Type=BrkCmn',\n",
       " 'Mas Vnr Type=BrkFace',\n",
       " 'Mas Vnr Type=None',\n",
       " 'Mas Vnr Type=Stone',\n",
       " 'Misc Feature',\n",
       " 'Misc Feature=Gar2',\n",
       " 'Misc Feature=Othr',\n",
       " 'Misc Feature=Shed',\n",
       " 'Misc Val',\n",
       " 'Mo Sold',\n",
       " 'Neighborhood=Blmngtn',\n",
       " 'Neighborhood=Blueste',\n",
       " 'Neighborhood=BrDale',\n",
       " 'Neighborhood=BrkSide',\n",
       " 'Neighborhood=ClearCr',\n",
       " 'Neighborhood=CollgCr',\n",
       " 'Neighborhood=Crawfor',\n",
       " 'Neighborhood=Edwards',\n",
       " 'Neighborhood=Gilbert',\n",
       " 'Neighborhood=Greens',\n",
       " 'Neighborhood=GrnHill',\n",
       " 'Neighborhood=IDOTRR',\n",
       " 'Neighborhood=MeadowV',\n",
       " 'Neighborhood=Mitchel',\n",
       " 'Neighborhood=NAmes',\n",
       " 'Neighborhood=NPkVill',\n",
       " 'Neighborhood=NWAmes',\n",
       " 'Neighborhood=NoRidge',\n",
       " 'Neighborhood=NridgHt',\n",
       " 'Neighborhood=OldTown',\n",
       " 'Neighborhood=SWISU',\n",
       " 'Neighborhood=Sawyer',\n",
       " 'Neighborhood=SawyerW',\n",
       " 'Neighborhood=Somerst',\n",
       " 'Neighborhood=StoneBr',\n",
       " 'Neighborhood=Timber',\n",
       " 'Neighborhood=Veenker',\n",
       " 'Open Porch SF',\n",
       " 'Overall Cond',\n",
       " 'Overall Qual',\n",
       " 'Paved Drive=N',\n",
       " 'Paved Drive=P',\n",
       " 'Paved Drive=Y',\n",
       " 'Pool Area',\n",
       " 'Pool QC',\n",
       " 'Roof Matl=ClyTile',\n",
       " 'Roof Matl=CompShg',\n",
       " 'Roof Matl=Membran',\n",
       " 'Roof Matl=Roll',\n",
       " 'Roof Matl=Tar&Grv',\n",
       " 'Roof Matl=WdShake',\n",
       " 'Roof Matl=WdShngl',\n",
       " 'Roof Style=Flat',\n",
       " 'Roof Style=Gable',\n",
       " 'Roof Style=Gambrel',\n",
       " 'Roof Style=Hip',\n",
       " 'Roof Style=Mansard',\n",
       " 'Roof Style=Shed',\n",
       " 'Sale Condition=Abnorml',\n",
       " 'Sale Condition=AdjLand',\n",
       " 'Sale Condition=Alloca',\n",
       " 'Sale Condition=Family',\n",
       " 'Sale Condition=Normal',\n",
       " 'Sale Condition=Partial',\n",
       " 'Sale Type=COD',\n",
       " 'Sale Type=CWD',\n",
       " 'Sale Type=Con',\n",
       " 'Sale Type=ConLD',\n",
       " 'Sale Type=ConLI',\n",
       " 'Sale Type=ConLw',\n",
       " 'Sale Type=New',\n",
       " 'Sale Type=Oth',\n",
       " 'Sale Type=WD ',\n",
       " 'Screen Porch',\n",
       " 'Street=Grvl',\n",
       " 'Street=Pave',\n",
       " 'TotRms AbvGrd',\n",
       " 'Total Bsmt SF',\n",
       " 'Utilities=AllPub',\n",
       " 'Utilities=NoSewr',\n",
       " 'Wood Deck SF',\n",
       " 'Year Built',\n",
       " 'Year Remod/Add',\n",
       " 'Yr Sold']"
      ]
     },
     "execution_count": 51,
     "metadata": {},
     "output_type": "execute_result"
    }
   ],
   "source": [
    "wordlist=dict_vec.get_feature_names()\n",
    "wordlist"
   ]
  },
  {
   "cell_type": "code",
   "execution_count": 52,
   "metadata": {},
   "outputs": [],
   "source": [
    "from sklearn.model_selection import train_test_split"
   ]
  },
  {
   "cell_type": "code",
   "execution_count": 53,
   "metadata": {},
   "outputs": [
    {
     "name": "stdout",
     "output_type": "stream",
     "text": [
      "[[1118.    0.    0. ... 1977. 1977. 2008.]\n",
      " [2259.    0.    0. ... 1953. 1953. 2007.]\n",
      " [4692.  950.    0. ... 2008. 2008. 2008.]\n",
      " ...\n",
      " [ 480.    0.    0. ... 1949. 1950. 2006.]\n",
      " [ 934.    0.    0. ... 1964. 1964. 2006.]\n",
      " [1440.    0.    0. ... 1981. 1981. 2007.]]\n"
     ]
    }
   ],
   "source": [
    "print(X_train_dummy)\n",
    "\n"
   ]
  },
  {
   "cell_type": "code",
   "execution_count": 54,
   "metadata": {},
   "outputs": [
    {
     "name": "stdout",
     "output_type": "stream",
     "text": [
      "[171000 217000 160000 ...  35311 132000 182900]\n"
     ]
    }
   ],
   "source": [
    "print(y)"
   ]
  },
  {
   "cell_type": "code",
   "execution_count": 55,
   "metadata": {},
   "outputs": [
    {
     "ename": "NameError",
     "evalue": "name 'x' is not defined",
     "output_type": "error",
     "traceback": [
      "\u001b[0;31m---------------------------------------------------------------------------\u001b[0m",
      "\u001b[0;31mNameError\u001b[0m                                 Traceback (most recent call last)",
      "\u001b[0;32m<ipython-input-55-a3a171d299c5>\u001b[0m in \u001b[0;36m<module>\u001b[0;34m\u001b[0m\n\u001b[0;32m----> 1\u001b[0;31m \u001b[0mx_train11\u001b[0m\u001b[0;34m,\u001b[0m \u001b[0mx_test11\u001b[0m\u001b[0;34m,\u001b[0m \u001b[0my_train11\u001b[0m\u001b[0;34m,\u001b[0m \u001b[0my_test11\u001b[0m \u001b[0;34m=\u001b[0m \u001b[0mtrain_test_split\u001b[0m\u001b[0;34m(\u001b[0m\u001b[0mx\u001b[0m\u001b[0;34m,\u001b[0m \u001b[0my\u001b[0m\u001b[0;34m,\u001b[0m\u001b[0mtest_size\u001b[0m\u001b[0;34m=\u001b[0m\u001b[0;36m0.2\u001b[0m\u001b[0;34m,\u001b[0m\u001b[0mrandom_state\u001b[0m\u001b[0;34m=\u001b[0m\u001b[0;36m0\u001b[0m\u001b[0;34m)\u001b[0m\u001b[0;34m\u001b[0m\u001b[0;34m\u001b[0m\u001b[0m\n\u001b[0m",
      "\u001b[0;31mNameError\u001b[0m: name 'x' is not defined"
     ]
    }
   ],
   "source": [
    "x_train11, x_test11, y_train11, y_test11 = train_test_split(x, y,test_size=0.2,random_state=0)"
   ]
  },
  {
   "cell_type": "code",
   "execution_count": null,
   "metadata": {},
   "outputs": [],
   "source": []
  },
  {
   "cell_type": "code",
   "execution_count": null,
   "metadata": {},
   "outputs": [],
   "source": [
    "from sklearn.preprocessing import StandardScaler\n",
    "sc_X = StandardScaler()\n",
    "X_train = sc_X.fit_transform(x_train11)"
   ]
  },
  {
   "cell_type": "code",
   "execution_count": null,
   "metadata": {},
   "outputs": [],
   "source": [
    "from sklearn.preprocessing import StandardScaler\n",
    "sc_X = StandardScaler()\n",
    "X_train = sc_X.fit_transform(x_train11)\n",
    "X_test = sc_X.fit_transform(dummies_test)\n",
    "\n",
    "y_train = NBA_train[\"SALARY\"]\n",
    "y_test = NBA_test_target[\"SALARY\"]\n",
    "\n"
   ]
  },
  {
   "cell_type": "code",
   "execution_count": null,
   "metadata": {},
   "outputs": [],
   "source": [
    "from sklearn.linear_model import LassoCV\n",
    "from sklearn.metrics import mean_squared_error\n",
    "from sklearn.metrics import r2_score"
   ]
  },
  {
   "cell_type": "code",
   "execution_count": null,
   "metadata": {},
   "outputs": [],
   "source": [
    "alpha_range = 10.**np.arange(-2,3)\n",
    "lascv = LassoCV(normalize=True,alphas=alpha_range,cv = 5)\n",
    "lascv.fit(x_train11, y_train11)\n",
    "preds_lassocv = lascv.predict(x_test11)\n",
    "print(\"LASSO RMSE: {0}\".format(np.sqrt(mean_squared_error(y_test11, preds_lassocv))))\n",
    "print(\"LASSO Lambda: {0}\".format(lascv.alpha_))\n",
    "print(\"R_2: {0}\".format(r2_score(y_test11,preds_lassocv)))"
   ]
  },
  {
   "cell_type": "code",
   "execution_count": null,
   "metadata": {},
   "outputs": [],
   "source": []
  },
  {
   "cell_type": "code",
   "execution_count": null,
   "metadata": {},
   "outputs": [],
   "source": [
    "#"
   ]
  },
  {
   "cell_type": "code",
   "execution_count": null,
   "metadata": {},
   "outputs": [],
   "source": [
    "from sklearn.preprocessing import StandardScaler\n",
    "sc_X = StandardScaler()\n",
    "X_train = sc_X.fit_transform(dummies_train)\n",
    "X_test = sc_X.fit_transform(dummies_test)\n",
    "\n",
    "y_train = NBA_train[\"SALARY\"]\n",
    "y_test = NBA_test_target[\"SALARY\"]\n",
    "\n"
   ]
  },
  {
   "cell_type": "code",
   "execution_count": null,
   "metadata": {},
   "outputs": [],
   "source": [
    "from sklearn.linear_model import LassoCV\n",
    "from sklearn.metrics import mean_squared_error\n",
    "from sklearn.metrics import r2_score"
   ]
  },
  {
   "cell_type": "code",
   "execution_count": null,
   "metadata": {},
   "outputs": [],
   "source": [
    "#model 1  lasso\n",
    "alpha_range = 10.**np.arange(-2,3)\n",
    "lascv = LassoCV(normalize=True,alphas=alpha_range,cv = 5)\n",
    "lascv.fit(X_train, y_train)\n",
    "preds_lassocv = lascv.predict(X_test)\n",
    "print(\"LASSO RMSE: {0}\".format(np.sqrt(mean_squared_error(y_test, preds_lassocv))))\n",
    "print(\"LASSO Lambda: {0}\".format(lascv.alpha_))\n",
    "print(\"R_2: {0}\".format(r2_score(y_test,preds_lassocv)))"
   ]
  },
  {
   "cell_type": "code",
   "execution_count": null,
   "metadata": {},
   "outputs": [],
   "source": []
  },
  {
   "cell_type": "code",
   "execution_count": null,
   "metadata": {},
   "outputs": [],
   "source": []
  }
 ],
 "metadata": {
  "kernelspec": {
   "display_name": "Python 3",
   "language": "python",
   "name": "python3"
  },
  "language_info": {
   "codemirror_mode": {
    "name": "ipython",
    "version": 3
   },
   "file_extension": ".py",
   "mimetype": "text/x-python",
   "name": "python",
   "nbconvert_exporter": "python",
   "pygments_lexer": "ipython3",
   "version": "3.6.8"
  }
 },
 "nbformat": 4,
 "nbformat_minor": 2
}
