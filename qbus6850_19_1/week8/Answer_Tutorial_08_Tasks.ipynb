{
 "cells": [
  {
   "cell_type": "code",
   "execution_count": 1,
   "metadata": {},
   "outputs": [
    {
     "data": {
      "text/html": [
       "<div>\n",
       "<style>\n",
       "    .dataframe thead tr:only-child th {\n",
       "        text-align: right;\n",
       "    }\n",
       "\n",
       "    .dataframe thead th {\n",
       "        text-align: left;\n",
       "    }\n",
       "\n",
       "    .dataframe tbody tr th {\n",
       "        vertical-align: top;\n",
       "    }\n",
       "</style>\n",
       "<table border=\"1\" class=\"dataframe\">\n",
       "  <thead>\n",
       "    <tr style=\"text-align: right;\">\n",
       "      <th></th>\n",
       "      <th>amount</th>\n",
       "      <th>hour1</th>\n",
       "      <th>state1</th>\n",
       "      <th>zip1</th>\n",
       "      <th>field1</th>\n",
       "      <th>domain1</th>\n",
       "      <th>field2</th>\n",
       "      <th>hour2</th>\n",
       "      <th>flag1</th>\n",
       "      <th>total</th>\n",
       "      <th>field3</th>\n",
       "      <th>field4</th>\n",
       "      <th>field5</th>\n",
       "      <th>indicator1</th>\n",
       "      <th>indicator2</th>\n",
       "      <th>flag2</th>\n",
       "      <th>flag3</th>\n",
       "      <th>flag4</th>\n",
       "      <th>flag5</th>\n",
       "    </tr>\n",
       "  </thead>\n",
       "  <tbody>\n",
       "    <tr>\n",
       "      <th>0</th>\n",
       "      <td>12.95</td>\n",
       "      <td>0</td>\n",
       "      <td>CA</td>\n",
       "      <td>925</td>\n",
       "      <td>3</td>\n",
       "      <td>AOL.COM</td>\n",
       "      <td>1</td>\n",
       "      <td>0</td>\n",
       "      <td>1</td>\n",
       "      <td>12.95</td>\n",
       "      <td>-4276</td>\n",
       "      <td>7</td>\n",
       "      <td>0</td>\n",
       "      <td>1</td>\n",
       "      <td>0</td>\n",
       "      <td>1</td>\n",
       "      <td>1</td>\n",
       "      <td>0</td>\n",
       "      <td>1</td>\n",
       "    </tr>\n",
       "    <tr>\n",
       "      <th>1</th>\n",
       "      <td>11.01</td>\n",
       "      <td>0</td>\n",
       "      <td>CA</td>\n",
       "      <td>925</td>\n",
       "      <td>3</td>\n",
       "      <td>AOL.COM</td>\n",
       "      <td>1</td>\n",
       "      <td>0</td>\n",
       "      <td>1</td>\n",
       "      <td>11.01</td>\n",
       "      <td>-4276</td>\n",
       "      <td>7</td>\n",
       "      <td>0</td>\n",
       "      <td>1</td>\n",
       "      <td>0</td>\n",
       "      <td>1</td>\n",
       "      <td>1</td>\n",
       "      <td>0</td>\n",
       "      <td>1</td>\n",
       "    </tr>\n",
       "    <tr>\n",
       "      <th>2</th>\n",
       "      <td>38.85</td>\n",
       "      <td>0</td>\n",
       "      <td>CA</td>\n",
       "      <td>928</td>\n",
       "      <td>3</td>\n",
       "      <td>HOTMAIL.COM</td>\n",
       "      <td>1</td>\n",
       "      <td>0</td>\n",
       "      <td>0</td>\n",
       "      <td>38.85</td>\n",
       "      <td>2602</td>\n",
       "      <td>21</td>\n",
       "      <td>1</td>\n",
       "      <td>0</td>\n",
       "      <td>0</td>\n",
       "      <td>0</td>\n",
       "      <td>0</td>\n",
       "      <td>0</td>\n",
       "      <td>1</td>\n",
       "    </tr>\n",
       "    <tr>\n",
       "      <th>3</th>\n",
       "      <td>25.90</td>\n",
       "      <td>0</td>\n",
       "      <td>NJ</td>\n",
       "      <td>77</td>\n",
       "      <td>0</td>\n",
       "      <td>AOL.COM</td>\n",
       "      <td>1</td>\n",
       "      <td>0</td>\n",
       "      <td>0</td>\n",
       "      <td>25.90</td>\n",
       "      <td>4139</td>\n",
       "      <td>6</td>\n",
       "      <td>0</td>\n",
       "      <td>0</td>\n",
       "      <td>0</td>\n",
       "      <td>1</td>\n",
       "      <td>1</td>\n",
       "      <td>0</td>\n",
       "      <td>1</td>\n",
       "    </tr>\n",
       "    <tr>\n",
       "      <th>4</th>\n",
       "      <td>12.95</td>\n",
       "      <td>0</td>\n",
       "      <td>CA</td>\n",
       "      <td>945</td>\n",
       "      <td>3</td>\n",
       "      <td>YAHOO.COM</td>\n",
       "      <td>0</td>\n",
       "      <td>0</td>\n",
       "      <td>1</td>\n",
       "      <td>12.95</td>\n",
       "      <td>3826</td>\n",
       "      <td>9</td>\n",
       "      <td>1</td>\n",
       "      <td>0</td>\n",
       "      <td>0</td>\n",
       "      <td>1</td>\n",
       "      <td>0</td>\n",
       "      <td>0</td>\n",
       "      <td>1</td>\n",
       "    </tr>\n",
       "  </tbody>\n",
       "</table>\n",
       "</div>"
      ],
      "text/plain": [
       "   amount  hour1 state1  zip1  field1      domain1  field2  hour2  flag1  \\\n",
       "0   12.95      0     CA   925       3      AOL.COM       1      0      1   \n",
       "1   11.01      0     CA   925       3      AOL.COM       1      0      1   \n",
       "2   38.85      0     CA   928       3  HOTMAIL.COM       1      0      0   \n",
       "3   25.90      0     NJ    77       0      AOL.COM       1      0      0   \n",
       "4   12.95      0     CA   945       3    YAHOO.COM       0      0      1   \n",
       "\n",
       "   total  field3  field4  field5  indicator1  indicator2  flag2  flag3  flag4  \\\n",
       "0  12.95   -4276       7       0           1           0      1      1      0   \n",
       "1  11.01   -4276       7       0           1           0      1      1      0   \n",
       "2  38.85    2602      21       1           0           0      0      0      0   \n",
       "3  25.90    4139       6       0           0           0      1      1      0   \n",
       "4  12.95    3826       9       1           0           0      1      0      0   \n",
       "\n",
       "   flag5  \n",
       "0      1  \n",
       "1      1  \n",
       "2      1  \n",
       "3      1  \n",
       "4      1  "
      ]
     },
     "execution_count": 1,
     "metadata": {},
     "output_type": "execute_result"
    }
   ],
   "source": [
    "import numpy as np\n",
    "import pandas as pd\n",
    "from sklearn import ensemble\n",
    "from sklearn.model_selection import train_test_split\n",
    "from sklearn.model_selection import GridSearchCV\n",
    "from sklearn.metrics import classification_report\n",
    "from sklearn.metrics import confusion_matrix\n",
    "import time\n",
    "\n",
    "fico_input = pd.read_csv(\"UCSD_FICO_09/DataminingContest2009.Task1.Train.Inputs\")\n",
    "\n",
    "fico_input.head()"
   ]
  },
  {
   "cell_type": "code",
   "execution_count": 2,
   "metadata": {},
   "outputs": [
    {
     "data": {
      "text/plain": [
       "amount           88\n",
       "hour1            24\n",
       "state1           53\n",
       "zip1            899\n",
       "field1            5\n",
       "domain1        9809\n",
       "field2            2\n",
       "hour2            24\n",
       "flag1             2\n",
       "total            88\n",
       "field3        15786\n",
       "field4           38\n",
       "field5           26\n",
       "indicator1        2\n",
       "indicator2        2\n",
       "flag2             2\n",
       "flag3             2\n",
       "flag4             2\n",
       "flag5            36\n",
       "dtype: int64"
      ]
     },
     "execution_count": 2,
     "metadata": {},
     "output_type": "execute_result"
    }
   ],
   "source": [
    "# fico_input = pd.get_dummies(fico_input, drop_first=True)\n",
    "\n",
    "fico_input.apply(pd.Series.nunique)"
   ]
  },
  {
   "cell_type": "code",
   "execution_count": 3,
   "metadata": {
    "collapsed": true
   },
   "outputs": [],
   "source": [
    "fico_input = fico_input.drop(['state1', 'total'], axis = 1)\n",
    "fico_input = pd.get_dummies(fico_input, drop_first = True)\n",
    "# fico_input.head()"
   ]
  },
  {
   "cell_type": "code",
   "execution_count": 4,
   "metadata": {},
   "outputs": [
    {
     "name": "stdout",
     "output_type": "stream",
     "text": [
      "(94682, 9824)\n"
     ]
    }
   ],
   "source": [
    "print(fico_input.shape)"
   ]
  },
  {
   "cell_type": "code",
   "execution_count": 5,
   "metadata": {},
   "outputs": [
    {
     "data": {
      "text/html": [
       "<div>\n",
       "<style>\n",
       "    .dataframe thead tr:only-child th {\n",
       "        text-align: right;\n",
       "    }\n",
       "\n",
       "    .dataframe thead th {\n",
       "        text-align: left;\n",
       "    }\n",
       "\n",
       "    .dataframe tbody tr th {\n",
       "        vertical-align: top;\n",
       "    }\n",
       "</style>\n",
       "<table border=\"1\" class=\"dataframe\">\n",
       "  <thead>\n",
       "    <tr style=\"text-align: right;\">\n",
       "      <th></th>\n",
       "      <th>0</th>\n",
       "    </tr>\n",
       "  </thead>\n",
       "  <tbody>\n",
       "    <tr>\n",
       "      <th>0</th>\n",
       "      <td>0</td>\n",
       "    </tr>\n",
       "    <tr>\n",
       "      <th>1</th>\n",
       "      <td>0</td>\n",
       "    </tr>\n",
       "    <tr>\n",
       "      <th>2</th>\n",
       "      <td>0</td>\n",
       "    </tr>\n",
       "    <tr>\n",
       "      <th>3</th>\n",
       "      <td>0</td>\n",
       "    </tr>\n",
       "    <tr>\n",
       "      <th>4</th>\n",
       "      <td>0</td>\n",
       "    </tr>\n",
       "  </tbody>\n",
       "</table>\n",
       "</div>"
      ],
      "text/plain": [
       "   0\n",
       "0  0\n",
       "1  0\n",
       "2  0\n",
       "3  0\n",
       "4  0"
      ]
     },
     "execution_count": 5,
     "metadata": {},
     "output_type": "execute_result"
    }
   ],
   "source": [
    "fico_target = pd.read_csv(\"UCSD_FICO_09/DataminingContest2009.Task1.Train.Targets\",header=None)\n",
    "\n",
    "fico_target.head()"
   ]
  },
  {
   "cell_type": "code",
   "execution_count": 6,
   "metadata": {},
   "outputs": [
    {
     "name": "stdout",
     "output_type": "stream",
     "text": [
      "Percent of default records in training set: 2.21%\n"
     ]
    }
   ],
   "source": [
    "prop_default = np.sum(fico_target.values) / len(fico_target) * 100\n",
    "\n",
    "print(\"Percent of default records in training set: {0:.2f}%\".format(prop_default))"
   ]
  },
  {
   "cell_type": "code",
   "execution_count": 7,
   "metadata": {
    "collapsed": true
   },
   "outputs": [],
   "source": [
    "X_train, X_test, y_train, y_test = train_test_split(fico_input, fico_target.iloc[:,0], random_state=0)"
   ]
  },
  {
   "cell_type": "code",
   "execution_count": 8,
   "metadata": {},
   "outputs": [
    {
     "name": "stdout",
     "output_type": "stream",
     "text": [
      "Running....\n",
      "Training time: 684.1935658454895s\n"
     ]
    }
   ],
   "source": [
    "# approx_weights = np.round(len(X_train) / (2 * np.bincount(y_train)))\n",
    "\n",
    "# weights1 = np.arange(approx_weights[0]-0.5, approx_weights[0]+0.5, .1)\n",
    "# weights2 = np.arange(approx_weights[1]-0.5, approx_weights[1]+0.5, .1)\n",
    "\n",
    "# weights1_all, weights2_all = np.meshgrid(weights1, weights2)\n",
    "\n",
    "# weights1_all = weights1_all.ravel()\n",
    "# weights2_all = weights2_all.ravel()\n",
    "\n",
    "# weight_dict_list = []\n",
    "# for i in range(len(weights1_all)):\n",
    "#     weight_dict_list.append({0: weights1_all[i], 1: weights2_all[i]})\n",
    "\n",
    "# param_grid = {'n_estimators': [int(a) for a in np.linspace(50, 100, 2)],\n",
    "#               'max_depth': np.linspace(1,3,3),\n",
    "#                 'class_weight': weight_dict_list}\n",
    "\n",
    "param_grid = {'n_estimators': [int(a) for a in np.linspace(50, 100, 2)],\n",
    "              'max_depth': np.linspace(1,3,3),\n",
    "                'class_weight': ['balanced']}\n",
    "\n",
    "clf_cv = GridSearchCV(ensemble.RandomForestClassifier(), param_grid)\n",
    "\n",
    "print(\"Running....\")\n",
    "tic = time.time()\n",
    "clf_cv.fit(X_train, y_train)\n",
    "\n",
    "toc = time.time()\n",
    "print(\"Training time: {0}s\".format(toc - tic))"
   ]
  },
  {
   "cell_type": "code",
   "execution_count": 9,
   "metadata": {},
   "outputs": [
    {
     "name": "stdout",
     "output_type": "stream",
     "text": [
      "RandomForestClassifier(bootstrap=True, class_weight={0: 1.0, 1: 22.5},\n",
      "            criterion='gini', max_depth=1.0, max_features='auto',\n",
      "            max_leaf_nodes=None, min_impurity_split=1e-07,\n",
      "            min_samples_leaf=1, min_samples_split=2,\n",
      "            min_weight_fraction_leaf=0.0, n_estimators=50, n_jobs=1,\n",
      "            oob_score=False, random_state=None, verbose=0,\n",
      "            warm_start=False)\n",
      "             precision    recall  f1-score   support\n",
      "\n",
      "          0       0.98      1.00      0.99     23141\n",
      "          1       0.00      0.00      0.00       530\n",
      "\n",
      "avg / total       0.96      0.98      0.97     23671\n",
      "\n",
      "[[23141     0]\n",
      " [  530     0]]\n"
     ]
    },
    {
     "name": "stderr",
     "output_type": "stream",
     "text": [
      "/Users/steve/anaconda/lib/python3.6/site-packages/sklearn/metrics/classification.py:1113: UndefinedMetricWarning: Precision and F-score are ill-defined and being set to 0.0 in labels with no predicted samples.\n",
      "  'precision', 'predicted', average, warn_for)\n"
     ]
    }
   ],
   "source": [
    "clf = clf_cv.best_estimator_\n",
    "print(clf)\n",
    "\n",
    "y_pred = clf.predict(X_test)\n",
    "\n",
    "print(classification_report(y_test, y_pred))\n",
    "print(confusion_matrix(y_test, y_pred))"
   ]
  },
  {
   "cell_type": "code",
   "execution_count": 10,
   "metadata": {},
   "outputs": [
    {
     "data": {
      "text/plain": [
       "[{0: 0.5, 1: 22.5}, {0: 1.0, 1: 22.5}, {0: 0.5, 1: 23.0}, {0: 1.0, 1: 23.0}]"
      ]
     },
     "execution_count": 10,
     "metadata": {},
     "output_type": "execute_result"
    }
   ],
   "source": [
    "weight_dict_list"
   ]
  }
 ],
 "metadata": {
  "kernelspec": {
   "display_name": "Python 2",
   "language": "python",
   "name": "python2"
  },
  "language_info": {
   "codemirror_mode": {
    "name": "ipython",
    "version": 2
   },
   "file_extension": ".py",
   "mimetype": "text/x-python",
   "name": "python",
   "nbconvert_exporter": "python",
   "pygments_lexer": "ipython2",
   "version": "2.7.13"
  }
 },
 "nbformat": 4,
 "nbformat_minor": 2
}
