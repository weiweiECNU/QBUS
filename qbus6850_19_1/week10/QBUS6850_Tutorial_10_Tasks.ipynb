{
 "cells": [
  {
   "cell_type": "markdown",
   "metadata": {},
   "source": [
    "<center><h1>QBUS6850 - Machine Learning for Business</h1></center>\n",
    "\n",
    "# Tutorial 11\n",
    "\n",
    "## Task 1 - Regression Network\n",
    "\n",
    "Using the antique clock dataset (auction.txt), build a regression neural network to predict sales price from the number of bidders and age of the clock. You should:\n",
    "- Load the data\n",
    "- Apply feature scaling\n",
    "- Define your model in keras\n",
    "- Train the model\n",
    "\n",
    "Compare the network weights with those from a normal linear regression.\n",
    "\n",
    "## Task 2 - Classification Network\n",
    "\n",
    "Using the loan default dataset (Default.csv), build a classification neural network to classify customers into default and non-default classes. You should:\n",
    "- Load the data\n",
    "- Apply feature Scaling\n",
    "- Train/Test Split\n",
    "- Define your model in keras, you may start with a single dense hidden layer with 8 neurons and RELU activation\n",
    "- Use cross validation to optimise class weights (we have an imbalanced dataset)\n",
    "- Evaluate performance on test set"
   ]
  },
  {
   "cell_type": "code",
   "execution_count": null,
   "metadata": {
    "collapsed": true
   },
   "outputs": [],
   "source": []
  }
 ],
 "metadata": {
  "kernelspec": {
   "display_name": "Python 2",
   "language": "python",
   "name": "python2"
  },
  "language_info": {
   "codemirror_mode": {
    "name": "ipython",
    "version": 2
   },
   "file_extension": ".py",
   "mimetype": "text/x-python",
   "name": "python",
   "nbconvert_exporter": "python",
   "pygments_lexer": "ipython2",
   "version": "2.7.13"
  }
 },
 "nbformat": 4,
 "nbformat_minor": 2
}
