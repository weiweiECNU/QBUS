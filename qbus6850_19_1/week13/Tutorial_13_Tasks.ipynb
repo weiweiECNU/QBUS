{
 "cells": [
  {
   "cell_type": "markdown",
   "metadata": {},
   "source": [
    "<center><h1>QBUS6850 - Machine Learning for Business</h1></center>\n",
    "\n",
    "# Tutorial 13\n",
    "\n",
    "## Task 1 - Comparing Reccomendation Algorithms\n",
    "\n",
    "Your task is to use Surprise to compare two reccomendation algorithms on the MovieLens dataset.\n",
    "\n",
    "You should:\n",
    "- Train/Test Split\n",
    "- Select two methods from the Surprise library. One method can be a baseline method.\n",
    "- Optimise parameters of your chosen methods using grid search\n",
    "- Compare test accuracy"
   ]
  }
 ],
 "metadata": {
  "kernelspec": {
   "display_name": "Python 2",
   "language": "python",
   "name": "python2"
  },
  "language_info": {
   "codemirror_mode": {
    "name": "ipython",
    "version": 2
   },
   "file_extension": ".py",
   "mimetype": "text/x-python",
   "name": "python",
   "nbconvert_exporter": "python",
   "pygments_lexer": "ipython2",
   "version": "2.7.13"
  }
 },
 "nbformat": 4,
 "nbformat_minor": 2
}
