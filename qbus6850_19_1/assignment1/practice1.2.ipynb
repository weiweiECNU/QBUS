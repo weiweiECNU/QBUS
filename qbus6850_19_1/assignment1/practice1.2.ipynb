{
 "cells": [
  {
   "cell_type": "code",
   "execution_count": 1,
   "metadata": {},
   "outputs": [],
   "source": [
    "import pandas as pd\n",
    "import numpy as np\n",
    "from sklearn.linear_model import LinearRegression, RidgeCV\n",
    "from sklearn.model_selection import train_test_split\n",
    "from sklearn.metrics import mean_squared_error\n",
    "from sklearn.linear_model import LassoCV, ElasticNetCV\n",
    "import seaborn as sns\n",
    "import matplotlib.pyplot as plt\n",
    "from scipy import stats\n",
    "from scipy.stats import kurtosis\n"
   ]
  },
  {
   "cell_type": "code",
   "execution_count": 2,
   "metadata": {},
   "outputs": [
    {
     "data": {
      "text/html": [
       "<div>\n",
       "<style scoped>\n",
       "    .dataframe tbody tr th:only-of-type {\n",
       "        vertical-align: middle;\n",
       "    }\n",
       "\n",
       "    .dataframe tbody tr th {\n",
       "        vertical-align: top;\n",
       "    }\n",
       "\n",
       "    .dataframe thead th {\n",
       "        text-align: right;\n",
       "    }\n",
       "</style>\n",
       "<table border=\"1\" class=\"dataframe\">\n",
       "  <thead>\n",
       "    <tr style=\"text-align: right;\">\n",
       "      <th></th>\n",
       "      <th>fixed acidity</th>\n",
       "      <th>volatile acidity</th>\n",
       "      <th>critric acid</th>\n",
       "      <th>residual sugar</th>\n",
       "      <th>chlorides</th>\n",
       "      <th>free sulfur dioxide</th>\n",
       "      <th>total sulfur dioxide</th>\n",
       "      <th>density</th>\n",
       "      <th>pH</th>\n",
       "      <th>sulphates</th>\n",
       "      <th>alcohol</th>\n",
       "      <th>quality</th>\n",
       "    </tr>\n",
       "  </thead>\n",
       "  <tbody>\n",
       "    <tr>\n",
       "      <th>0</th>\n",
       "      <td>14.597442</td>\n",
       "      <td>0.27</td>\n",
       "      <td>0.722678</td>\n",
       "      <td>20.7</td>\n",
       "      <td>0.255607</td>\n",
       "      <td>137.728720</td>\n",
       "      <td>53.053366</td>\n",
       "      <td>1.0010</td>\n",
       "      <td>3.128677</td>\n",
       "      <td>0.471783</td>\n",
       "      <td>11.309539</td>\n",
       "      <td>6.0</td>\n",
       "    </tr>\n",
       "    <tr>\n",
       "      <th>1</th>\n",
       "      <td>8.288791</td>\n",
       "      <td>0.30</td>\n",
       "      <td>1.749025</td>\n",
       "      <td>1.6</td>\n",
       "      <td>0.128959</td>\n",
       "      <td>86.111551</td>\n",
       "      <td>64.933772</td>\n",
       "      <td>0.9940</td>\n",
       "      <td>3.691148</td>\n",
       "      <td>0.923397</td>\n",
       "      <td>8.126983</td>\n",
       "      <td>5.0</td>\n",
       "    </tr>\n",
       "    <tr>\n",
       "      <th>2</th>\n",
       "      <td>3.089898</td>\n",
       "      <td>0.28</td>\n",
       "      <td>0.837108</td>\n",
       "      <td>6.9</td>\n",
       "      <td>0.306241</td>\n",
       "      <td>8.266643</td>\n",
       "      <td>26.102900</td>\n",
       "      <td>0.9951</td>\n",
       "      <td>3.549499</td>\n",
       "      <td>1.016564</td>\n",
       "      <td>11.247490</td>\n",
       "      <td>5.0</td>\n",
       "    </tr>\n",
       "    <tr>\n",
       "      <th>3</th>\n",
       "      <td>13.931712</td>\n",
       "      <td>0.23</td>\n",
       "      <td>0.241370</td>\n",
       "      <td>8.5</td>\n",
       "      <td>0.266436</td>\n",
       "      <td>212.246505</td>\n",
       "      <td>16.764493</td>\n",
       "      <td>0.9956</td>\n",
       "      <td>2.867154</td>\n",
       "      <td>0.507882</td>\n",
       "      <td>11.104247</td>\n",
       "      <td>6.0</td>\n",
       "    </tr>\n",
       "    <tr>\n",
       "      <th>4</th>\n",
       "      <td>14.271228</td>\n",
       "      <td>0.23</td>\n",
       "      <td>0.717399</td>\n",
       "      <td>8.5</td>\n",
       "      <td>0.320200</td>\n",
       "      <td>109.031626</td>\n",
       "      <td>424.269899</td>\n",
       "      <td>0.9956</td>\n",
       "      <td>2.865725</td>\n",
       "      <td>0.883249</td>\n",
       "      <td>8.062316</td>\n",
       "      <td>6.0</td>\n",
       "    </tr>\n",
       "  </tbody>\n",
       "</table>\n",
       "</div>"
      ],
      "text/plain": [
       "   fixed acidity  volatile acidity  critric acid  residual sugar  chlorides  \\\n",
       "0      14.597442              0.27      0.722678            20.7   0.255607   \n",
       "1       8.288791              0.30      1.749025             1.6   0.128959   \n",
       "2       3.089898              0.28      0.837108             6.9   0.306241   \n",
       "3      13.931712              0.23      0.241370             8.5   0.266436   \n",
       "4      14.271228              0.23      0.717399             8.5   0.320200   \n",
       "\n",
       "   free sulfur dioxide  total sulfur dioxide  density        pH  sulphates  \\\n",
       "0           137.728720             53.053366   1.0010  3.128677   0.471783   \n",
       "1            86.111551             64.933772   0.9940  3.691148   0.923397   \n",
       "2             8.266643             26.102900   0.9951  3.549499   1.016564   \n",
       "3           212.246505             16.764493   0.9956  2.867154   0.507882   \n",
       "4           109.031626            424.269899   0.9956  2.865725   0.883249   \n",
       "\n",
       "     alcohol  quality  \n",
       "0  11.309539      6.0  \n",
       "1   8.126983      5.0  \n",
       "2  11.247490      5.0  \n",
       "3  11.104247      6.0  \n",
       "4   8.062316      6.0  "
      ]
     },
     "execution_count": 2,
     "metadata": {},
     "output_type": "execute_result"
    }
   ],
   "source": [
    "wine = pd.read_csv('Wine_New.csv')\n",
    "wine.head()"
   ]
  },
  {
   "cell_type": "code",
   "execution_count": 3,
   "metadata": {},
   "outputs": [
    {
     "data": {
      "text/html": [
       "<div>\n",
       "<style scoped>\n",
       "    .dataframe tbody tr th:only-of-type {\n",
       "        vertical-align: middle;\n",
       "    }\n",
       "\n",
       "    .dataframe tbody tr th {\n",
       "        vertical-align: top;\n",
       "    }\n",
       "\n",
       "    .dataframe thead th {\n",
       "        text-align: right;\n",
       "    }\n",
       "</style>\n",
       "<table border=\"1\" class=\"dataframe\">\n",
       "  <thead>\n",
       "    <tr style=\"text-align: right;\">\n",
       "      <th></th>\n",
       "      <th>fixed acidity</th>\n",
       "      <th>volatile acidity</th>\n",
       "      <th>critric acid</th>\n",
       "      <th>residual sugar</th>\n",
       "      <th>chlorides</th>\n",
       "      <th>free sulfur dioxide</th>\n",
       "      <th>total sulfur dioxide</th>\n",
       "      <th>density</th>\n",
       "      <th>pH</th>\n",
       "      <th>sulphates</th>\n",
       "      <th>alcohol</th>\n",
       "      <th>quality</th>\n",
       "    </tr>\n",
       "  </thead>\n",
       "  <tbody>\n",
       "    <tr>\n",
       "      <th>1</th>\n",
       "      <td>8.288791</td>\n",
       "      <td>0.30</td>\n",
       "      <td>1.749025</td>\n",
       "      <td>1.6</td>\n",
       "      <td>0.128959</td>\n",
       "      <td>86.111551</td>\n",
       "      <td>64.933772</td>\n",
       "      <td>0.9940</td>\n",
       "      <td>3.691148</td>\n",
       "      <td>0.923397</td>\n",
       "      <td>8.126983</td>\n",
       "      <td>5.0</td>\n",
       "    </tr>\n",
       "    <tr>\n",
       "      <th>2</th>\n",
       "      <td>3.089898</td>\n",
       "      <td>0.28</td>\n",
       "      <td>0.837108</td>\n",
       "      <td>6.9</td>\n",
       "      <td>0.306241</td>\n",
       "      <td>8.266643</td>\n",
       "      <td>26.102900</td>\n",
       "      <td>0.9951</td>\n",
       "      <td>3.549499</td>\n",
       "      <td>1.016564</td>\n",
       "      <td>11.247490</td>\n",
       "      <td>5.0</td>\n",
       "    </tr>\n",
       "    <tr>\n",
       "      <th>7</th>\n",
       "      <td>4.007259</td>\n",
       "      <td>0.27</td>\n",
       "      <td>0.114301</td>\n",
       "      <td>20.7</td>\n",
       "      <td>0.311429</td>\n",
       "      <td>47.942185</td>\n",
       "      <td>347.504463</td>\n",
       "      <td>1.0010</td>\n",
       "      <td>3.069059</td>\n",
       "      <td>1.001918</td>\n",
       "      <td>11.736427</td>\n",
       "      <td>5.0</td>\n",
       "    </tr>\n",
       "    <tr>\n",
       "      <th>8</th>\n",
       "      <td>12.197771</td>\n",
       "      <td>0.30</td>\n",
       "      <td>1.353443</td>\n",
       "      <td>1.6</td>\n",
       "      <td>0.131701</td>\n",
       "      <td>133.452682</td>\n",
       "      <td>344.047374</td>\n",
       "      <td>0.9940</td>\n",
       "      <td>2.962240</td>\n",
       "      <td>0.245577</td>\n",
       "      <td>11.865377</td>\n",
       "      <td>5.0</td>\n",
       "    </tr>\n",
       "    <tr>\n",
       "      <th>9</th>\n",
       "      <td>5.841717</td>\n",
       "      <td>0.22</td>\n",
       "      <td>0.192240</td>\n",
       "      <td>1.5</td>\n",
       "      <td>0.257865</td>\n",
       "      <td>182.925867</td>\n",
       "      <td>230.706425</td>\n",
       "      <td>0.9938</td>\n",
       "      <td>3.342903</td>\n",
       "      <td>0.851317</td>\n",
       "      <td>8.137473</td>\n",
       "      <td>5.0</td>\n",
       "    </tr>\n",
       "  </tbody>\n",
       "</table>\n",
       "</div>"
      ],
      "text/plain": [
       "   fixed acidity  volatile acidity  critric acid  residual sugar  chlorides  \\\n",
       "1       8.288791              0.30      1.749025             1.6   0.128959   \n",
       "2       3.089898              0.28      0.837108             6.9   0.306241   \n",
       "7       4.007259              0.27      0.114301            20.7   0.311429   \n",
       "8      12.197771              0.30      1.353443             1.6   0.131701   \n",
       "9       5.841717              0.22      0.192240             1.5   0.257865   \n",
       "\n",
       "   free sulfur dioxide  total sulfur dioxide  density        pH  sulphates  \\\n",
       "1            86.111551             64.933772   0.9940  3.691148   0.923397   \n",
       "2             8.266643             26.102900   0.9951  3.549499   1.016564   \n",
       "7            47.942185            347.504463   1.0010  3.069059   1.001918   \n",
       "8           133.452682            344.047374   0.9940  2.962240   0.245577   \n",
       "9           182.925867            230.706425   0.9938  3.342903   0.851317   \n",
       "\n",
       "     alcohol  quality  \n",
       "1   8.126983      5.0  \n",
       "2  11.247490      5.0  \n",
       "7  11.736427      5.0  \n",
       "8  11.865377      5.0  \n",
       "9   8.137473      5.0  "
      ]
     },
     "execution_count": 3,
     "metadata": {},
     "output_type": "execute_result"
    }
   ],
   "source": [
    "wine_poor =wine[(wine['quality']<6)]\n",
    "wine_poor.head()\n"
   ]
  },
  {
   "cell_type": "code",
   "execution_count": 4,
   "metadata": {},
   "outputs": [
    {
     "data": {
      "text/plain": [
       "fixed acidity           1018\n",
       "volatile acidity        1018\n",
       "critric acid            1018\n",
       "residual sugar          1018\n",
       "chlorides               1018\n",
       "free sulfur dioxide     1018\n",
       "total sulfur dioxide    1018\n",
       "density                 1018\n",
       "pH                      1018\n",
       "sulphates               1018\n",
       "alcohol                 1018\n",
       "quality                 1018\n",
       "dtype: int64"
      ]
     },
     "execution_count": 4,
     "metadata": {},
     "output_type": "execute_result"
    }
   ],
   "source": [
    "wine_poor.count()"
   ]
  },
  {
   "cell_type": "code",
   "execution_count": 5,
   "metadata": {},
   "outputs": [
    {
     "data": {
      "text/plain": [
       "count    1018.000000\n",
       "mean        4.909627\n",
       "std         0.303512\n",
       "min         2.000000\n",
       "25%         5.000000\n",
       "50%         5.000000\n",
       "75%         5.000000\n",
       "max         5.000000\n",
       "Name: quality, dtype: float64"
      ]
     },
     "execution_count": 5,
     "metadata": {},
     "output_type": "execute_result"
    }
   ],
   "source": [
    "wine_poor['quality'].describe()"
   ]
  },
  {
   "cell_type": "code",
   "execution_count": 6,
   "metadata": {},
   "outputs": [],
   "source": [
    "density=wine['density']\n",
    "residual_sugar=wine['residual sugar']\n",
    "volatile_acidity=wine['volatile acidity']\n",
    "quality=wine['quality']"
   ]
  },
  {
   "cell_type": "code",
   "execution_count": 7,
   "metadata": {},
   "outputs": [
    {
     "data": {
      "text/html": [
       "<div>\n",
       "<style scoped>\n",
       "    .dataframe tbody tr th:only-of-type {\n",
       "        vertical-align: middle;\n",
       "    }\n",
       "\n",
       "    .dataframe tbody tr th {\n",
       "        vertical-align: top;\n",
       "    }\n",
       "\n",
       "    .dataframe thead th {\n",
       "        text-align: right;\n",
       "    }\n",
       "</style>\n",
       "<table border=\"1\" class=\"dataframe\">\n",
       "  <thead>\n",
       "    <tr style=\"text-align: right;\">\n",
       "      <th></th>\n",
       "      <th>quality</th>\n",
       "      <th>density</th>\n",
       "      <th>residual sugar</th>\n",
       "      <th>volatile acidity</th>\n",
       "    </tr>\n",
       "  </thead>\n",
       "  <tbody>\n",
       "    <tr>\n",
       "      <th>0</th>\n",
       "      <td>6.0</td>\n",
       "      <td>1.0010</td>\n",
       "      <td>20.7</td>\n",
       "      <td>0.27</td>\n",
       "    </tr>\n",
       "    <tr>\n",
       "      <th>1</th>\n",
       "      <td>5.0</td>\n",
       "      <td>0.9940</td>\n",
       "      <td>1.6</td>\n",
       "      <td>0.30</td>\n",
       "    </tr>\n",
       "    <tr>\n",
       "      <th>2</th>\n",
       "      <td>5.0</td>\n",
       "      <td>0.9951</td>\n",
       "      <td>6.9</td>\n",
       "      <td>0.28</td>\n",
       "    </tr>\n",
       "    <tr>\n",
       "      <th>3</th>\n",
       "      <td>6.0</td>\n",
       "      <td>0.9956</td>\n",
       "      <td>8.5</td>\n",
       "      <td>0.23</td>\n",
       "    </tr>\n",
       "    <tr>\n",
       "      <th>4</th>\n",
       "      <td>6.0</td>\n",
       "      <td>0.9956</td>\n",
       "      <td>8.5</td>\n",
       "      <td>0.23</td>\n",
       "    </tr>\n",
       "  </tbody>\n",
       "</table>\n",
       "</div>"
      ],
      "text/plain": [
       "   quality  density  residual sugar  volatile acidity\n",
       "0      6.0   1.0010            20.7              0.27\n",
       "1      5.0   0.9940             1.6              0.30\n",
       "2      5.0   0.9951             6.9              0.28\n",
       "3      6.0   0.9956             8.5              0.23\n",
       "4      6.0   0.9956             8.5              0.23"
      ]
     },
     "execution_count": 7,
     "metadata": {},
     "output_type": "execute_result"
    }
   ],
   "source": [
    "wine1=wine[['quality','density','residual sugar','volatile acidity']]\n",
    "wine1.head()"
   ]
  },
  {
   "cell_type": "code",
   "execution_count": 8,
   "metadata": {},
   "outputs": [
    {
     "data": {
      "text/html": [
       "<div>\n",
       "<style scoped>\n",
       "    .dataframe tbody tr th:only-of-type {\n",
       "        vertical-align: middle;\n",
       "    }\n",
       "\n",
       "    .dataframe tbody tr th {\n",
       "        vertical-align: top;\n",
       "    }\n",
       "\n",
       "    .dataframe thead th {\n",
       "        text-align: right;\n",
       "    }\n",
       "</style>\n",
       "<table border=\"1\" class=\"dataframe\">\n",
       "  <thead>\n",
       "    <tr style=\"text-align: right;\">\n",
       "      <th></th>\n",
       "      <th>quality</th>\n",
       "      <th>density</th>\n",
       "      <th>residual sugar</th>\n",
       "      <th>volatile acidity</th>\n",
       "    </tr>\n",
       "  </thead>\n",
       "  <tbody>\n",
       "    <tr>\n",
       "      <th>quality</th>\n",
       "      <td>1.000000</td>\n",
       "      <td>-0.225504</td>\n",
       "      <td>-0.023050</td>\n",
       "      <td>-0.213460</td>\n",
       "    </tr>\n",
       "    <tr>\n",
       "      <th>density</th>\n",
       "      <td>-0.225504</td>\n",
       "      <td>1.000000</td>\n",
       "      <td>0.839781</td>\n",
       "      <td>0.062720</td>\n",
       "    </tr>\n",
       "    <tr>\n",
       "      <th>residual sugar</th>\n",
       "      <td>-0.023050</td>\n",
       "      <td>0.839781</td>\n",
       "      <td>1.000000</td>\n",
       "      <td>0.092867</td>\n",
       "    </tr>\n",
       "    <tr>\n",
       "      <th>volatile acidity</th>\n",
       "      <td>-0.213460</td>\n",
       "      <td>0.062720</td>\n",
       "      <td>0.092867</td>\n",
       "      <td>1.000000</td>\n",
       "    </tr>\n",
       "  </tbody>\n",
       "</table>\n",
       "</div>"
      ],
      "text/plain": [
       "                   quality   density  residual sugar  volatile acidity\n",
       "quality           1.000000 -0.225504       -0.023050         -0.213460\n",
       "density          -0.225504  1.000000        0.839781          0.062720\n",
       "residual sugar   -0.023050  0.839781        1.000000          0.092867\n",
       "volatile acidity -0.213460  0.062720        0.092867          1.000000"
      ]
     },
     "execution_count": 8,
     "metadata": {},
     "output_type": "execute_result"
    }
   ],
   "source": [
    "wine1.corr()"
   ]
  },
  {
   "cell_type": "code",
   "execution_count": 9,
   "metadata": {},
   "outputs": [
    {
     "data": {
      "text/plain": [
       "0    20.7\n",
       "1     1.6\n",
       "2     6.9\n",
       "3     8.5\n",
       "4     8.5\n",
       "Name: residual sugar, dtype: float64"
      ]
     },
     "execution_count": 9,
     "metadata": {},
     "output_type": "execute_result"
    }
   ],
   "source": [
    "residual_sugar.head()\n",
    "\n"
   ]
  },
  {
   "cell_type": "code",
   "execution_count": 10,
   "metadata": {},
   "outputs": [
    {
     "data": {
      "text/plain": [
       "0    0.27\n",
       "1    0.30\n",
       "2    0.28\n",
       "3    0.23\n",
       "4    0.23\n",
       "Name: volatile acidity, dtype: float64"
      ]
     },
     "execution_count": 10,
     "metadata": {},
     "output_type": "execute_result"
    }
   ],
   "source": [
    "volatile_acidity.head()"
   ]
  },
  {
   "cell_type": "code",
   "execution_count": 11,
   "metadata": {},
   "outputs": [
    {
     "data": {
      "text/html": [
       "<div>\n",
       "<style scoped>\n",
       "    .dataframe tbody tr th:only-of-type {\n",
       "        vertical-align: middle;\n",
       "    }\n",
       "\n",
       "    .dataframe tbody tr th {\n",
       "        vertical-align: top;\n",
       "    }\n",
       "\n",
       "    .dataframe thead th {\n",
       "        text-align: right;\n",
       "    }\n",
       "</style>\n",
       "<table border=\"1\" class=\"dataframe\">\n",
       "  <thead>\n",
       "    <tr style=\"text-align: right;\">\n",
       "      <th></th>\n",
       "      <th>fixed acidity</th>\n",
       "      <th>volatile acidity</th>\n",
       "      <th>critric acid</th>\n",
       "      <th>residual sugar</th>\n",
       "      <th>chlorides</th>\n",
       "      <th>free sulfur dioxide</th>\n",
       "      <th>total sulfur dioxide</th>\n",
       "      <th>density</th>\n",
       "      <th>pH</th>\n",
       "      <th>sulphates</th>\n",
       "      <th>alcohol</th>\n",
       "      <th>quality</th>\n",
       "    </tr>\n",
       "  </thead>\n",
       "  <tbody>\n",
       "    <tr>\n",
       "      <th>fixed acidity</th>\n",
       "      <td>1.000000</td>\n",
       "      <td>-0.000507</td>\n",
       "      <td>-0.005350</td>\n",
       "      <td>-0.000353</td>\n",
       "      <td>0.008160</td>\n",
       "      <td>0.028897</td>\n",
       "      <td>-0.022439</td>\n",
       "      <td>0.001055</td>\n",
       "      <td>-0.002756</td>\n",
       "      <td>-0.008172</td>\n",
       "      <td>0.013041</td>\n",
       "      <td>0.469078</td>\n",
       "    </tr>\n",
       "    <tr>\n",
       "      <th>volatile acidity</th>\n",
       "      <td>-0.000507</td>\n",
       "      <td>1.000000</td>\n",
       "      <td>-0.009634</td>\n",
       "      <td>0.092867</td>\n",
       "      <td>0.003054</td>\n",
       "      <td>0.012155</td>\n",
       "      <td>0.022878</td>\n",
       "      <td>0.062720</td>\n",
       "      <td>-0.012604</td>\n",
       "      <td>0.003202</td>\n",
       "      <td>-0.002991</td>\n",
       "      <td>-0.213460</td>\n",
       "    </tr>\n",
       "    <tr>\n",
       "      <th>critric acid</th>\n",
       "      <td>-0.005350</td>\n",
       "      <td>-0.009634</td>\n",
       "      <td>1.000000</td>\n",
       "      <td>-0.013108</td>\n",
       "      <td>0.013268</td>\n",
       "      <td>0.018540</td>\n",
       "      <td>-0.003182</td>\n",
       "      <td>-0.016051</td>\n",
       "      <td>0.041180</td>\n",
       "      <td>-0.002692</td>\n",
       "      <td>-0.027137</td>\n",
       "      <td>0.003186</td>\n",
       "    </tr>\n",
       "    <tr>\n",
       "      <th>residual sugar</th>\n",
       "      <td>-0.000353</td>\n",
       "      <td>0.092867</td>\n",
       "      <td>-0.013108</td>\n",
       "      <td>1.000000</td>\n",
       "      <td>-0.003475</td>\n",
       "      <td>-0.028105</td>\n",
       "      <td>-0.003072</td>\n",
       "      <td>0.839781</td>\n",
       "      <td>0.009022</td>\n",
       "      <td>0.011107</td>\n",
       "      <td>-0.003176</td>\n",
       "      <td>-0.023050</td>\n",
       "    </tr>\n",
       "    <tr>\n",
       "      <th>chlorides</th>\n",
       "      <td>0.008160</td>\n",
       "      <td>0.003054</td>\n",
       "      <td>0.013268</td>\n",
       "      <td>-0.003475</td>\n",
       "      <td>1.000000</td>\n",
       "      <td>0.014025</td>\n",
       "      <td>-0.006618</td>\n",
       "      <td>-0.020391</td>\n",
       "      <td>-0.008223</td>\n",
       "      <td>0.010086</td>\n",
       "      <td>0.014409</td>\n",
       "      <td>-0.053384</td>\n",
       "    </tr>\n",
       "    <tr>\n",
       "      <th>free sulfur dioxide</th>\n",
       "      <td>0.028897</td>\n",
       "      <td>0.012155</td>\n",
       "      <td>0.018540</td>\n",
       "      <td>-0.028105</td>\n",
       "      <td>0.014025</td>\n",
       "      <td>1.000000</td>\n",
       "      <td>0.014553</td>\n",
       "      <td>-0.022882</td>\n",
       "      <td>0.015549</td>\n",
       "      <td>-0.011700</td>\n",
       "      <td>-0.015964</td>\n",
       "      <td>0.462151</td>\n",
       "    </tr>\n",
       "    <tr>\n",
       "      <th>total sulfur dioxide</th>\n",
       "      <td>-0.022439</td>\n",
       "      <td>0.022878</td>\n",
       "      <td>-0.003182</td>\n",
       "      <td>-0.003072</td>\n",
       "      <td>-0.006618</td>\n",
       "      <td>0.014553</td>\n",
       "      <td>1.000000</td>\n",
       "      <td>-0.004695</td>\n",
       "      <td>-0.005970</td>\n",
       "      <td>0.006921</td>\n",
       "      <td>0.002192</td>\n",
       "      <td>-0.061752</td>\n",
       "    </tr>\n",
       "    <tr>\n",
       "      <th>density</th>\n",
       "      <td>0.001055</td>\n",
       "      <td>0.062720</td>\n",
       "      <td>-0.016051</td>\n",
       "      <td>0.839781</td>\n",
       "      <td>-0.020391</td>\n",
       "      <td>-0.022882</td>\n",
       "      <td>-0.004695</td>\n",
       "      <td>1.000000</td>\n",
       "      <td>-0.004419</td>\n",
       "      <td>0.021988</td>\n",
       "      <td>0.002265</td>\n",
       "      <td>-0.225504</td>\n",
       "    </tr>\n",
       "    <tr>\n",
       "      <th>pH</th>\n",
       "      <td>-0.002756</td>\n",
       "      <td>-0.012604</td>\n",
       "      <td>0.041180</td>\n",
       "      <td>0.009022</td>\n",
       "      <td>-0.008223</td>\n",
       "      <td>0.015549</td>\n",
       "      <td>-0.005970</td>\n",
       "      <td>-0.004419</td>\n",
       "      <td>1.000000</td>\n",
       "      <td>0.008990</td>\n",
       "      <td>-0.016355</td>\n",
       "      <td>0.355839</td>\n",
       "    </tr>\n",
       "    <tr>\n",
       "      <th>sulphates</th>\n",
       "      <td>-0.008172</td>\n",
       "      <td>0.003202</td>\n",
       "      <td>-0.002692</td>\n",
       "      <td>0.011107</td>\n",
       "      <td>0.010086</td>\n",
       "      <td>-0.011700</td>\n",
       "      <td>0.006921</td>\n",
       "      <td>0.021988</td>\n",
       "      <td>0.008990</td>\n",
       "      <td>1.000000</td>\n",
       "      <td>0.002504</td>\n",
       "      <td>0.176389</td>\n",
       "    </tr>\n",
       "    <tr>\n",
       "      <th>alcohol</th>\n",
       "      <td>0.013041</td>\n",
       "      <td>-0.002991</td>\n",
       "      <td>-0.027137</td>\n",
       "      <td>-0.003176</td>\n",
       "      <td>0.014409</td>\n",
       "      <td>-0.015964</td>\n",
       "      <td>0.002192</td>\n",
       "      <td>0.002265</td>\n",
       "      <td>-0.016355</td>\n",
       "      <td>0.002504</td>\n",
       "      <td>1.000000</td>\n",
       "      <td>0.290262</td>\n",
       "    </tr>\n",
       "    <tr>\n",
       "      <th>quality</th>\n",
       "      <td>0.469078</td>\n",
       "      <td>-0.213460</td>\n",
       "      <td>0.003186</td>\n",
       "      <td>-0.023050</td>\n",
       "      <td>-0.053384</td>\n",
       "      <td>0.462151</td>\n",
       "      <td>-0.061752</td>\n",
       "      <td>-0.225504</td>\n",
       "      <td>0.355839</td>\n",
       "      <td>0.176389</td>\n",
       "      <td>0.290262</td>\n",
       "      <td>1.000000</td>\n",
       "    </tr>\n",
       "  </tbody>\n",
       "</table>\n",
       "</div>"
      ],
      "text/plain": [
       "                      fixed acidity  volatile acidity  critric acid  \\\n",
       "fixed acidity              1.000000         -0.000507     -0.005350   \n",
       "volatile acidity          -0.000507          1.000000     -0.009634   \n",
       "critric acid              -0.005350         -0.009634      1.000000   \n",
       "residual sugar            -0.000353          0.092867     -0.013108   \n",
       "chlorides                  0.008160          0.003054      0.013268   \n",
       "free sulfur dioxide        0.028897          0.012155      0.018540   \n",
       "total sulfur dioxide      -0.022439          0.022878     -0.003182   \n",
       "density                    0.001055          0.062720     -0.016051   \n",
       "pH                        -0.002756         -0.012604      0.041180   \n",
       "sulphates                 -0.008172          0.003202     -0.002692   \n",
       "alcohol                    0.013041         -0.002991     -0.027137   \n",
       "quality                    0.469078         -0.213460      0.003186   \n",
       "\n",
       "                      residual sugar  chlorides  free sulfur dioxide  \\\n",
       "fixed acidity              -0.000353   0.008160             0.028897   \n",
       "volatile acidity            0.092867   0.003054             0.012155   \n",
       "critric acid               -0.013108   0.013268             0.018540   \n",
       "residual sugar              1.000000  -0.003475            -0.028105   \n",
       "chlorides                  -0.003475   1.000000             0.014025   \n",
       "free sulfur dioxide        -0.028105   0.014025             1.000000   \n",
       "total sulfur dioxide       -0.003072  -0.006618             0.014553   \n",
       "density                     0.839781  -0.020391            -0.022882   \n",
       "pH                          0.009022  -0.008223             0.015549   \n",
       "sulphates                   0.011107   0.010086            -0.011700   \n",
       "alcohol                    -0.003176   0.014409            -0.015964   \n",
       "quality                    -0.023050  -0.053384             0.462151   \n",
       "\n",
       "                      total sulfur dioxide   density        pH  sulphates  \\\n",
       "fixed acidity                    -0.022439  0.001055 -0.002756  -0.008172   \n",
       "volatile acidity                  0.022878  0.062720 -0.012604   0.003202   \n",
       "critric acid                     -0.003182 -0.016051  0.041180  -0.002692   \n",
       "residual sugar                   -0.003072  0.839781  0.009022   0.011107   \n",
       "chlorides                        -0.006618 -0.020391 -0.008223   0.010086   \n",
       "free sulfur dioxide               0.014553 -0.022882  0.015549  -0.011700   \n",
       "total sulfur dioxide              1.000000 -0.004695 -0.005970   0.006921   \n",
       "density                          -0.004695  1.000000 -0.004419   0.021988   \n",
       "pH                               -0.005970 -0.004419  1.000000   0.008990   \n",
       "sulphates                         0.006921  0.021988  0.008990   1.000000   \n",
       "alcohol                           0.002192  0.002265 -0.016355   0.002504   \n",
       "quality                          -0.061752 -0.225504  0.355839   0.176389   \n",
       "\n",
       "                       alcohol   quality  \n",
       "fixed acidity         0.013041  0.469078  \n",
       "volatile acidity     -0.002991 -0.213460  \n",
       "critric acid         -0.027137  0.003186  \n",
       "residual sugar       -0.003176 -0.023050  \n",
       "chlorides             0.014409 -0.053384  \n",
       "free sulfur dioxide  -0.015964  0.462151  \n",
       "total sulfur dioxide  0.002192 -0.061752  \n",
       "density               0.002265 -0.225504  \n",
       "pH                   -0.016355  0.355839  \n",
       "sulphates             0.002504  0.176389  \n",
       "alcohol               1.000000  0.290262  \n",
       "quality               0.290262  1.000000  "
      ]
     },
     "execution_count": 11,
     "metadata": {},
     "output_type": "execute_result"
    }
   ],
   "source": [
    "wine.corr()"
   ]
  },
  {
   "cell_type": "code",
   "execution_count": 12,
   "metadata": {},
   "outputs": [
    {
     "data": {
      "text/plain": [
       "0.8397811198409381"
      ]
     },
     "execution_count": 12,
     "metadata": {},
     "output_type": "execute_result"
    }
   ],
   "source": [
    "density.corr(residual_sugar,)"
   ]
  },
  {
   "cell_type": "code",
   "execution_count": 13,
   "metadata": {},
   "outputs": [
    {
     "data": {
      "text/plain": [
       "0.06271995565002475"
      ]
     },
     "execution_count": 13,
     "metadata": {},
     "output_type": "execute_result"
    }
   ],
   "source": [
    "density.corr(volatile_acidity,)"
   ]
  },
  {
   "cell_type": "code",
   "execution_count": 14,
   "metadata": {},
   "outputs": [
    {
     "data": {
      "text/plain": [
       "0.09286723742146968"
      ]
     },
     "execution_count": 14,
     "metadata": {},
     "output_type": "execute_result"
    }
   ],
   "source": [
    "volatile_acidity.corr(residual_sugar)"
   ]
  },
  {
   "cell_type": "code",
   "execution_count": 15,
   "metadata": {},
   "outputs": [],
   "source": [
    "X = wine.iloc[:, :-1] # x features\n",
    "y = wine.iloc[:, -1] # y responses value\n",
    " "
   ]
  },
  {
   "cell_type": "code",
   "execution_count": 16,
   "metadata": {},
   "outputs": [],
   "source": [
    "X_train, X_test, y_train, y_test = train_test_split(X, y,test_size=0.2,random_state=0)\n",
    "\n",
    " "
   ]
  },
  {
   "cell_type": "code",
   "execution_count": 17,
   "metadata": {},
   "outputs": [
    {
     "name": "stdout",
     "output_type": "stream",
     "text": [
      "OLS: 0.04408878343551022\n"
     ]
    }
   ],
   "source": [
    "# with intercept\n",
    "lr_obj = LinearRegression()\n",
    "lr_obj.fit(X_train, y_train)\n",
    "preds_ols = lr_obj.predict(X_test)\n",
    "print(\"OLS: {0}\".format(mean_squared_error(y_test, preds_ols)/2))"
   ]
  },
  {
   "cell_type": "code",
   "execution_count": 18,
   "metadata": {},
   "outputs": [
    {
     "name": "stdout",
     "output_type": "stream",
     "text": [
      "191.72795102466608\n",
      "[ 1.06178984e-01 -1.81652548e+00 -1.13278471e-02  9.60281440e-02\n",
      " -6.92019660e-01  4.45600635e-03 -3.61260704e-04 -1.93013454e+02\n",
      "  8.26661990e-01  6.23347316e-01  1.39425673e-01]\n"
     ]
    }
   ],
   "source": [
    "print(lr_obj.intercept_)\n",
    "print(lr_obj.coef_)"
   ]
  },
  {
   "cell_type": "code",
   "execution_count": null,
   "metadata": {},
   "outputs": [],
   "source": []
  },
  {
   "cell_type": "code",
   "execution_count": null,
   "metadata": {},
   "outputs": [],
   "source": []
  },
  {
   "cell_type": "code",
   "execution_count": 19,
   "metadata": {},
   "outputs": [
    {
     "name": "stdout",
     "output_type": "stream",
     "text": [
      "OLS: 0.0938192131663866\n"
     ]
    }
   ],
   "source": [
    "#without intercept\n",
    "lrr_obj = LinearRegression(fit_intercept=False, normalize=False, copy_X=True, n_jobs=None)\n",
    "lrr_obj.fit(X_train, y_train)\n",
    "preds_ols = lrr_obj.predict(X_test)\n",
    "print(\"OLS: {0}\".format(mean_squared_error(y_test, preds_ols)/2))\n"
   ]
  },
  {
   "cell_type": "code",
   "execution_count": 20,
   "metadata": {},
   "outputs": [
    {
     "name": "stdout",
     "output_type": "stream",
     "text": [
      "0.0\n",
      "[ 1.07009433e-01 -1.74336964e+00 -3.94527416e-03  1.50591828e-04\n",
      " -5.42979277e-01  4.47821549e-03 -3.16203898e-04  2.88867109e-01\n",
      "  8.63977548e-01  5.92103646e-01  1.37807260e-01]\n"
     ]
    }
   ],
   "source": [
    "print(lrr_obj.intercept_)\n",
    "# For other beta\n",
    "print(lrr_obj.coef_)"
   ]
  },
  {
   "cell_type": "code",
   "execution_count": 21,
   "metadata": {},
   "outputs": [],
   "source": [
    "#q3 "
   ]
  },
  {
   "cell_type": "code",
   "execution_count": null,
   "metadata": {},
   "outputs": [],
   "source": []
  },
  {
   "cell_type": "code",
   "execution_count": 22,
   "metadata": {},
   "outputs": [
    {
     "data": {
      "text/plain": [
       "6.0071875"
      ]
     },
     "execution_count": 22,
     "metadata": {},
     "output_type": "execute_result"
    }
   ],
   "source": [
    "y_train.mean()"
   ]
  },
  {
   "cell_type": "code",
   "execution_count": 23,
   "metadata": {},
   "outputs": [
    {
     "data": {
      "text/plain": [
       "count    3200.000000\n",
       "mean        6.007187\n",
       "std         0.812307\n",
       "min         2.000000\n",
       "25%         5.000000\n",
       "50%         6.000000\n",
       "75%         7.000000\n",
       "max         8.000000\n",
       "Name: quality, dtype: float64"
      ]
     },
     "execution_count": 23,
     "metadata": {},
     "output_type": "execute_result"
    }
   ],
   "source": [
    "y_train.describe()"
   ]
  },
  {
   "cell_type": "code",
   "execution_count": null,
   "metadata": {},
   "outputs": [],
   "source": []
  },
  {
   "cell_type": "code",
   "execution_count": 24,
   "metadata": {},
   "outputs": [],
   "source": [
    "ycenter_train=y_train-y_train.mean()\n"
   ]
  },
  {
   "cell_type": "code",
   "execution_count": 25,
   "metadata": {},
   "outputs": [],
   "source": [
    "x_new1=X_train['fixed acidity']-X_train['fixed acidity'].mean()\n"
   ]
  },
  {
   "cell_type": "code",
   "execution_count": 26,
   "metadata": {},
   "outputs": [],
   "source": [
    "x_new2=X_train['volatile acidity']-X_train['volatile acidity'].mean()"
   ]
  },
  {
   "cell_type": "code",
   "execution_count": 27,
   "metadata": {},
   "outputs": [],
   "source": [
    "x_new3=X_train['critric acid']-X_train['critric acid'].mean()"
   ]
  },
  {
   "cell_type": "code",
   "execution_count": 28,
   "metadata": {},
   "outputs": [],
   "source": [
    "x_new4=X_train['residual sugar']-X_train['residual sugar'].mean()"
   ]
  },
  {
   "cell_type": "code",
   "execution_count": 29,
   "metadata": {},
   "outputs": [],
   "source": [
    "x_new5=X_train['chlorides']-X_train['chlorides'].mean()"
   ]
  },
  {
   "cell_type": "code",
   "execution_count": 30,
   "metadata": {},
   "outputs": [],
   "source": [
    "x_new6=X_train['free sulfur dioxide']-X_train['free sulfur dioxide'].mean()"
   ]
  },
  {
   "cell_type": "code",
   "execution_count": 31,
   "metadata": {},
   "outputs": [],
   "source": [
    "x_new7=X_train['total sulfur dioxide']-X_train['total sulfur dioxide'].mean()"
   ]
  },
  {
   "cell_type": "code",
   "execution_count": 32,
   "metadata": {},
   "outputs": [],
   "source": [
    "x_new8=X_train['density']-X_train['density'].mean()"
   ]
  },
  {
   "cell_type": "code",
   "execution_count": 33,
   "metadata": {},
   "outputs": [],
   "source": [
    "x_new9=X_train['pH']-X_train['pH'].mean()"
   ]
  },
  {
   "cell_type": "code",
   "execution_count": 34,
   "metadata": {},
   "outputs": [],
   "source": [
    "x_new10=X_train['sulphates']-X_train['sulphates'].mean()"
   ]
  },
  {
   "cell_type": "code",
   "execution_count": 35,
   "metadata": {},
   "outputs": [],
   "source": [
    "x_new11=X_train['alcohol']-X_train['alcohol'].mean()"
   ]
  },
  {
   "cell_type": "code",
   "execution_count": 36,
   "metadata": {},
   "outputs": [],
   "source": [
    "xcenter_train=pd.DataFrame([x_new1,x_new2,x_new3,x_new4,x_new5,x_new6,x_new7,x_new8,x_new9,x_new10,x_new11]).T\n"
   ]
  },
  {
   "cell_type": "code",
   "execution_count": null,
   "metadata": {},
   "outputs": [],
   "source": []
  },
  {
   "cell_type": "code",
   "execution_count": 37,
   "metadata": {},
   "outputs": [],
   "source": [
    "x_testnew1=X_test['fixed acidity']-X_test['fixed acidity'].mean()"
   ]
  },
  {
   "cell_type": "code",
   "execution_count": 38,
   "metadata": {},
   "outputs": [],
   "source": [
    "x_testnew2=X_test['volatile acidity']-X_test['volatile acidity'].mean()"
   ]
  },
  {
   "cell_type": "code",
   "execution_count": 39,
   "metadata": {},
   "outputs": [],
   "source": [
    "x_testnew3=X_test['critric acid']-X_test['critric acid'].mean()"
   ]
  },
  {
   "cell_type": "code",
   "execution_count": 40,
   "metadata": {},
   "outputs": [],
   "source": [
    "x_testnew4=X_test['residual sugar']-X_test['residual sugar'].mean()  "
   ]
  },
  {
   "cell_type": "code",
   "execution_count": 41,
   "metadata": {},
   "outputs": [],
   "source": [
    "x_testnew5=X_test['chlorides']-X_test['chlorides'].mean()"
   ]
  },
  {
   "cell_type": "code",
   "execution_count": 42,
   "metadata": {},
   "outputs": [],
   "source": [
    "x_testnew6=X_test['free sulfur dioxide']-X_test['free sulfur dioxide'].mean() "
   ]
  },
  {
   "cell_type": "code",
   "execution_count": 43,
   "metadata": {},
   "outputs": [],
   "source": [
    "x_testnew7=X_test['total sulfur dioxide']-X_test['total sulfur dioxide'].mean()"
   ]
  },
  {
   "cell_type": "code",
   "execution_count": 44,
   "metadata": {},
   "outputs": [],
   "source": [
    "x_testnew8=X_test['density']-X_test['density'].mean()"
   ]
  },
  {
   "cell_type": "code",
   "execution_count": 45,
   "metadata": {},
   "outputs": [],
   "source": [
    "x_testnew9=X_test['pH']-X_test['pH'].mean()"
   ]
  },
  {
   "cell_type": "code",
   "execution_count": 46,
   "metadata": {},
   "outputs": [],
   "source": [
    "x_testnew10=X_test['sulphates']-X_test['sulphates'].mean()"
   ]
  },
  {
   "cell_type": "code",
   "execution_count": 47,
   "metadata": {},
   "outputs": [],
   "source": [
    "x_testnew11=X_test['alcohol']-X_test['alcohol'].mean()"
   ]
  },
  {
   "cell_type": "code",
   "execution_count": 48,
   "metadata": {},
   "outputs": [],
   "source": [
    "xcenter_test=pd.DataFrame([x_testnew1,x_testnew2,x_testnew3,x_testnew4,x_testnew5,\n",
    "                          x_testnew6,x_testnew7,x_testnew8,x_testnew9,x_testnew10,x_testnew11]).T"
   ]
  },
  {
   "cell_type": "code",
   "execution_count": 49,
   "metadata": {},
   "outputs": [],
   "source": [
    "y_testnew=y_test-y_test.mean()\n"
   ]
  },
  {
   "cell_type": "code",
   "execution_count": 50,
   "metadata": {},
   "outputs": [
    {
     "name": "stdout",
     "output_type": "stream",
     "text": [
      "OLS: 0.04408760013659672\n"
     ]
    }
   ],
   "source": [
    "lrr3_obj = LinearRegression()\n",
    "lrr3_obj.fit(xcenter_train, ycenter_train)\n",
    "preds_ols = lrr3_obj.predict(xcenter_test)\n",
    "print(\"OLS: {0}\".format(mean_squared_error(y_testnew, preds_ols)/2))\n",
    "\n"
   ]
  },
  {
   "cell_type": "code",
   "execution_count": null,
   "metadata": {},
   "outputs": [],
   "source": []
  },
  {
   "cell_type": "code",
   "execution_count": 51,
   "metadata": {},
   "outputs": [
    {
     "name": "stdout",
     "output_type": "stream",
     "text": [
      "8.701195627973102e-13\n",
      "[ 1.06178984e-01 -1.81652548e+00 -1.13278471e-02  9.60281440e-02\n",
      " -6.92019660e-01  4.45600635e-03 -3.61260704e-04 -1.93013454e+02\n",
      "  8.26661990e-01  6.23347316e-01  1.39425673e-01]\n"
     ]
    }
   ],
   "source": [
    "#with intercept\n",
    "print(lrr3_obj.intercept_)\n",
    "# For other beta\n",
    "print(lrr3_obj.coef_)"
   ]
  },
  {
   "cell_type": "code",
   "execution_count": 52,
   "metadata": {},
   "outputs": [],
   "source": [
    "# #without intercept(没用)\n",
    "# lrr32_obj = LinearRegression(fit_intercept=False, normalize=False, copy_X=True, n_jobs=None)\n",
    "# lrr32_obj.fit(xcenter_train, ycenter_train)\n",
    "# preds_ols = lrr32_obj.predict(xcenter_test)\n",
    "# print(\"OLS: {0}\".format(mean_squared_error(y_testnew, preds_ols)/2))\n",
    "\n"
   ]
  },
  {
   "cell_type": "code",
   "execution_count": 53,
   "metadata": {},
   "outputs": [],
   "source": [
    "#with intercept\n",
    "# print(lrr32_obj.intercept_)\n",
    "# # For other beta\n",
    "# print(lrr32_obj.coef_)"
   ]
  },
  {
   "cell_type": "code",
   "execution_count": 54,
   "metadata": {},
   "outputs": [],
   "source": [
    "#Q4(1)"
   ]
  },
  {
   "cell_type": "code",
   "execution_count": 55,
   "metadata": {},
   "outputs": [
    {
     "data": {
      "text/html": [
       "<div>\n",
       "<style scoped>\n",
       "    .dataframe tbody tr th:only-of-type {\n",
       "        vertical-align: middle;\n",
       "    }\n",
       "\n",
       "    .dataframe tbody tr th {\n",
       "        vertical-align: top;\n",
       "    }\n",
       "\n",
       "    .dataframe thead th {\n",
       "        text-align: right;\n",
       "    }\n",
       "</style>\n",
       "<table border=\"1\" class=\"dataframe\">\n",
       "  <thead>\n",
       "    <tr style=\"text-align: right;\">\n",
       "      <th></th>\n",
       "      <th>fixed acidity</th>\n",
       "      <th>volatile acidity</th>\n",
       "      <th>critric acid</th>\n",
       "      <th>residual sugar</th>\n",
       "      <th>chlorides</th>\n",
       "      <th>free sulfur dioxide</th>\n",
       "      <th>total sulfur dioxide</th>\n",
       "      <th>density</th>\n",
       "      <th>pH</th>\n",
       "      <th>sulphates</th>\n",
       "      <th>alcohol</th>\n",
       "      <th>quality</th>\n",
       "    </tr>\n",
       "  </thead>\n",
       "  <tbody>\n",
       "    <tr>\n",
       "      <th>1683</th>\n",
       "      <td>3.126106</td>\n",
       "      <td>0.25</td>\n",
       "      <td>0.467807</td>\n",
       "      <td>14.4</td>\n",
       "      <td>0.100180</td>\n",
       "      <td>47.163696</td>\n",
       "      <td>56.945707</td>\n",
       "      <td>0.99860</td>\n",
       "      <td>3.068051</td>\n",
       "      <td>1.021860</td>\n",
       "      <td>13.246068</td>\n",
       "      <td>5.0</td>\n",
       "    </tr>\n",
       "    <tr>\n",
       "      <th>2170</th>\n",
       "      <td>3.894873</td>\n",
       "      <td>0.19</td>\n",
       "      <td>0.412399</td>\n",
       "      <td>12.8</td>\n",
       "      <td>0.077457</td>\n",
       "      <td>29.217110</td>\n",
       "      <td>278.019507</td>\n",
       "      <td>0.99860</td>\n",
       "      <td>3.449873</td>\n",
       "      <td>0.615338</td>\n",
       "      <td>13.203304</td>\n",
       "      <td>5.0</td>\n",
       "    </tr>\n",
       "    <tr>\n",
       "      <th>875</th>\n",
       "      <td>3.379725</td>\n",
       "      <td>0.21</td>\n",
       "      <td>1.504676</td>\n",
       "      <td>2.2</td>\n",
       "      <td>0.330457</td>\n",
       "      <td>8.185828</td>\n",
       "      <td>219.387711</td>\n",
       "      <td>0.99300</td>\n",
       "      <td>3.788070</td>\n",
       "      <td>0.936848</td>\n",
       "      <td>8.310725</td>\n",
       "      <td>5.0</td>\n",
       "    </tr>\n",
       "    <tr>\n",
       "      <th>2643</th>\n",
       "      <td>3.103476</td>\n",
       "      <td>0.33</td>\n",
       "      <td>0.034377</td>\n",
       "      <td>5.2</td>\n",
       "      <td>0.241864</td>\n",
       "      <td>30.300393</td>\n",
       "      <td>328.126821</td>\n",
       "      <td>0.99527</td>\n",
       "      <td>2.982601</td>\n",
       "      <td>0.439957</td>\n",
       "      <td>13.577000</td>\n",
       "      <td>4.0</td>\n",
       "    </tr>\n",
       "    <tr>\n",
       "      <th>68</th>\n",
       "      <td>12.808128</td>\n",
       "      <td>0.23</td>\n",
       "      <td>0.706059</td>\n",
       "      <td>2.1</td>\n",
       "      <td>0.291294</td>\n",
       "      <td>43.704137</td>\n",
       "      <td>93.034501</td>\n",
       "      <td>0.99260</td>\n",
       "      <td>2.848031</td>\n",
       "      <td>0.259820</td>\n",
       "      <td>11.667792</td>\n",
       "      <td>5.0</td>\n",
       "    </tr>\n",
       "  </tbody>\n",
       "</table>\n",
       "</div>"
      ],
      "text/plain": [
       "      fixed acidity  volatile acidity  critric acid  residual sugar  \\\n",
       "1683       3.126106              0.25      0.467807            14.4   \n",
       "2170       3.894873              0.19      0.412399            12.8   \n",
       "875        3.379725              0.21      1.504676             2.2   \n",
       "2643       3.103476              0.33      0.034377             5.2   \n",
       "68        12.808128              0.23      0.706059             2.1   \n",
       "\n",
       "      chlorides  free sulfur dioxide  total sulfur dioxide  density        pH  \\\n",
       "1683   0.100180            47.163696             56.945707  0.99860  3.068051   \n",
       "2170   0.077457            29.217110            278.019507  0.99860  3.449873   \n",
       "875    0.330457             8.185828            219.387711  0.99300  3.788070   \n",
       "2643   0.241864            30.300393            328.126821  0.99527  2.982601   \n",
       "68     0.291294            43.704137             93.034501  0.99260  2.848031   \n",
       "\n",
       "      sulphates    alcohol  quality  \n",
       "1683   1.021860  13.246068      5.0  \n",
       "2170   0.615338  13.203304      5.0  \n",
       "875    0.936848   8.310725      5.0  \n",
       "2643   0.439957  13.577000      4.0  \n",
       "68     0.259820  11.667792      5.0  "
      ]
     },
     "execution_count": 55,
     "metadata": {},
     "output_type": "execute_result"
    }
   ],
   "source": [
    "wine_poor =wine[(wine['quality']<6)].sample(n=200, random_state=0)\n",
    "wine_poor.head()\n",
    "\n"
   ]
  },
  {
   "cell_type": "code",
   "execution_count": 56,
   "metadata": {},
   "outputs": [
    {
     "data": {
      "text/html": [
       "<div>\n",
       "<style scoped>\n",
       "    .dataframe tbody tr th:only-of-type {\n",
       "        vertical-align: middle;\n",
       "    }\n",
       "\n",
       "    .dataframe tbody tr th {\n",
       "        vertical-align: top;\n",
       "    }\n",
       "\n",
       "    .dataframe thead th {\n",
       "        text-align: right;\n",
       "    }\n",
       "</style>\n",
       "<table border=\"1\" class=\"dataframe\">\n",
       "  <thead>\n",
       "    <tr style=\"text-align: right;\">\n",
       "      <th></th>\n",
       "      <th>fixed acidity</th>\n",
       "      <th>volatile acidity</th>\n",
       "      <th>critric acid</th>\n",
       "      <th>residual sugar</th>\n",
       "      <th>chlorides</th>\n",
       "      <th>free sulfur dioxide</th>\n",
       "      <th>total sulfur dioxide</th>\n",
       "      <th>density</th>\n",
       "      <th>pH</th>\n",
       "      <th>sulphates</th>\n",
       "      <th>alcohol</th>\n",
       "      <th>quality</th>\n",
       "    </tr>\n",
       "  </thead>\n",
       "  <tbody>\n",
       "    <tr>\n",
       "      <th>440</th>\n",
       "      <td>12.596189</td>\n",
       "      <td>0.22</td>\n",
       "      <td>1.649097</td>\n",
       "      <td>1.6</td>\n",
       "      <td>0.280095</td>\n",
       "      <td>97.216994</td>\n",
       "      <td>225.231025</td>\n",
       "      <td>0.99130</td>\n",
       "      <td>3.601343</td>\n",
       "      <td>0.449338</td>\n",
       "      <td>14.018333</td>\n",
       "      <td>7.0</td>\n",
       "    </tr>\n",
       "    <tr>\n",
       "      <th>3252</th>\n",
       "      <td>10.738063</td>\n",
       "      <td>0.26</td>\n",
       "      <td>0.533391</td>\n",
       "      <td>5.5</td>\n",
       "      <td>0.154494</td>\n",
       "      <td>83.497748</td>\n",
       "      <td>92.159496</td>\n",
       "      <td>0.99082</td>\n",
       "      <td>2.962823</td>\n",
       "      <td>0.674119</td>\n",
       "      <td>10.051296</td>\n",
       "      <td>6.0</td>\n",
       "    </tr>\n",
       "    <tr>\n",
       "      <th>3488</th>\n",
       "      <td>13.355930</td>\n",
       "      <td>0.20</td>\n",
       "      <td>0.351990</td>\n",
       "      <td>1.4</td>\n",
       "      <td>0.004891</td>\n",
       "      <td>127.989063</td>\n",
       "      <td>355.969589</td>\n",
       "      <td>0.99088</td>\n",
       "      <td>3.564018</td>\n",
       "      <td>0.594325</td>\n",
       "      <td>10.393825</td>\n",
       "      <td>7.0</td>\n",
       "    </tr>\n",
       "    <tr>\n",
       "      <th>1246</th>\n",
       "      <td>13.128423</td>\n",
       "      <td>0.20</td>\n",
       "      <td>1.523367</td>\n",
       "      <td>5.2</td>\n",
       "      <td>0.035838</td>\n",
       "      <td>150.559414</td>\n",
       "      <td>260.664700</td>\n",
       "      <td>0.99530</td>\n",
       "      <td>3.398588</td>\n",
       "      <td>0.558451</td>\n",
       "      <td>9.576683</td>\n",
       "      <td>6.0</td>\n",
       "    </tr>\n",
       "    <tr>\n",
       "      <th>1802</th>\n",
       "      <td>8.352261</td>\n",
       "      <td>0.23</td>\n",
       "      <td>0.434546</td>\n",
       "      <td>15.4</td>\n",
       "      <td>0.047682</td>\n",
       "      <td>42.040804</td>\n",
       "      <td>68.106984</td>\n",
       "      <td>0.99840</td>\n",
       "      <td>3.580832</td>\n",
       "      <td>0.794874</td>\n",
       "      <td>12.416746</td>\n",
       "      <td>6.0</td>\n",
       "    </tr>\n",
       "  </tbody>\n",
       "</table>\n",
       "</div>"
      ],
      "text/plain": [
       "      fixed acidity  volatile acidity  critric acid  residual sugar  \\\n",
       "440       12.596189              0.22      1.649097             1.6   \n",
       "3252      10.738063              0.26      0.533391             5.5   \n",
       "3488      13.355930              0.20      0.351990             1.4   \n",
       "1246      13.128423              0.20      1.523367             5.2   \n",
       "1802       8.352261              0.23      0.434546            15.4   \n",
       "\n",
       "      chlorides  free sulfur dioxide  total sulfur dioxide  density        pH  \\\n",
       "440    0.280095            97.216994            225.231025  0.99130  3.601343   \n",
       "3252   0.154494            83.497748             92.159496  0.99082  2.962823   \n",
       "3488   0.004891           127.989063            355.969589  0.99088  3.564018   \n",
       "1246   0.035838           150.559414            260.664700  0.99530  3.398588   \n",
       "1802   0.047682            42.040804             68.106984  0.99840  3.580832   \n",
       "\n",
       "      sulphates    alcohol  quality  \n",
       "440    0.449338  14.018333      7.0  \n",
       "3252   0.674119  10.051296      6.0  \n",
       "3488   0.594325  10.393825      7.0  \n",
       "1246   0.558451   9.576683      6.0  \n",
       "1802   0.794874  12.416746      6.0  "
      ]
     },
     "execution_count": 56,
     "metadata": {},
     "output_type": "execute_result"
    }
   ],
   "source": [
    "wine_good=wine[(wine['quality']>=6)].sample(n=200,random_state=0)\n",
    "wine_good.head()\n"
   ]
  },
  {
   "cell_type": "code",
   "execution_count": 57,
   "metadata": {
    "scrolled": true
   },
   "outputs": [
    {
     "data": {
      "text/html": [
       "<div>\n",
       "<style scoped>\n",
       "    .dataframe tbody tr th:only-of-type {\n",
       "        vertical-align: middle;\n",
       "    }\n",
       "\n",
       "    .dataframe tbody tr th {\n",
       "        vertical-align: top;\n",
       "    }\n",
       "\n",
       "    .dataframe thead th {\n",
       "        text-align: right;\n",
       "    }\n",
       "</style>\n",
       "<table border=\"1\" class=\"dataframe\">\n",
       "  <thead>\n",
       "    <tr style=\"text-align: right;\">\n",
       "      <th></th>\n",
       "      <th>fixed acidity</th>\n",
       "      <th>volatile acidity</th>\n",
       "      <th>critric acid</th>\n",
       "      <th>residual sugar</th>\n",
       "      <th>chlorides</th>\n",
       "      <th>free sulfur dioxide</th>\n",
       "      <th>total sulfur dioxide</th>\n",
       "      <th>density</th>\n",
       "      <th>pH</th>\n",
       "      <th>sulphates</th>\n",
       "      <th>alcohol</th>\n",
       "      <th>quality</th>\n",
       "    </tr>\n",
       "  </thead>\n",
       "  <tbody>\n",
       "    <tr>\n",
       "      <th>440</th>\n",
       "      <td>12.596189</td>\n",
       "      <td>0.22</td>\n",
       "      <td>1.649097</td>\n",
       "      <td>1.6</td>\n",
       "      <td>0.280095</td>\n",
       "      <td>97.216994</td>\n",
       "      <td>225.231025</td>\n",
       "      <td>0.99130</td>\n",
       "      <td>3.601343</td>\n",
       "      <td>0.449338</td>\n",
       "      <td>14.018333</td>\n",
       "      <td>7.0</td>\n",
       "    </tr>\n",
       "    <tr>\n",
       "      <th>3252</th>\n",
       "      <td>10.738063</td>\n",
       "      <td>0.26</td>\n",
       "      <td>0.533391</td>\n",
       "      <td>5.5</td>\n",
       "      <td>0.154494</td>\n",
       "      <td>83.497748</td>\n",
       "      <td>92.159496</td>\n",
       "      <td>0.99082</td>\n",
       "      <td>2.962823</td>\n",
       "      <td>0.674119</td>\n",
       "      <td>10.051296</td>\n",
       "      <td>6.0</td>\n",
       "    </tr>\n",
       "    <tr>\n",
       "      <th>3488</th>\n",
       "      <td>13.355930</td>\n",
       "      <td>0.20</td>\n",
       "      <td>0.351990</td>\n",
       "      <td>1.4</td>\n",
       "      <td>0.004891</td>\n",
       "      <td>127.989063</td>\n",
       "      <td>355.969589</td>\n",
       "      <td>0.99088</td>\n",
       "      <td>3.564018</td>\n",
       "      <td>0.594325</td>\n",
       "      <td>10.393825</td>\n",
       "      <td>7.0</td>\n",
       "    </tr>\n",
       "    <tr>\n",
       "      <th>1246</th>\n",
       "      <td>13.128423</td>\n",
       "      <td>0.20</td>\n",
       "      <td>1.523367</td>\n",
       "      <td>5.2</td>\n",
       "      <td>0.035838</td>\n",
       "      <td>150.559414</td>\n",
       "      <td>260.664700</td>\n",
       "      <td>0.99530</td>\n",
       "      <td>3.398588</td>\n",
       "      <td>0.558451</td>\n",
       "      <td>9.576683</td>\n",
       "      <td>6.0</td>\n",
       "    </tr>\n",
       "    <tr>\n",
       "      <th>1802</th>\n",
       "      <td>8.352261</td>\n",
       "      <td>0.23</td>\n",
       "      <td>0.434546</td>\n",
       "      <td>15.4</td>\n",
       "      <td>0.047682</td>\n",
       "      <td>42.040804</td>\n",
       "      <td>68.106984</td>\n",
       "      <td>0.99840</td>\n",
       "      <td>3.580832</td>\n",
       "      <td>0.794874</td>\n",
       "      <td>12.416746</td>\n",
       "      <td>6.0</td>\n",
       "    </tr>\n",
       "  </tbody>\n",
       "</table>\n",
       "</div>"
      ],
      "text/plain": [
       "      fixed acidity  volatile acidity  critric acid  residual sugar  \\\n",
       "440       12.596189              0.22      1.649097             1.6   \n",
       "3252      10.738063              0.26      0.533391             5.5   \n",
       "3488      13.355930              0.20      0.351990             1.4   \n",
       "1246      13.128423              0.20      1.523367             5.2   \n",
       "1802       8.352261              0.23      0.434546            15.4   \n",
       "\n",
       "      chlorides  free sulfur dioxide  total sulfur dioxide  density        pH  \\\n",
       "440    0.280095            97.216994            225.231025  0.99130  3.601343   \n",
       "3252   0.154494            83.497748             92.159496  0.99082  2.962823   \n",
       "3488   0.004891           127.989063            355.969589  0.99088  3.564018   \n",
       "1246   0.035838           150.559414            260.664700  0.99530  3.398588   \n",
       "1802   0.047682            42.040804             68.106984  0.99840  3.580832   \n",
       "\n",
       "      sulphates    alcohol  quality  \n",
       "440    0.449338  14.018333      7.0  \n",
       "3252   0.674119  10.051296      6.0  \n",
       "3488   0.594325  10.393825      7.0  \n",
       "1246   0.558451   9.576683      6.0  \n",
       "1802   0.794874  12.416746      6.0  "
      ]
     },
     "execution_count": 57,
     "metadata": {},
     "output_type": "execute_result"
    }
   ],
   "source": [
    "wine_new=pd.concat([wine_good, wine_poor])\n",
    "wine_new.head()"
   ]
  },
  {
   "cell_type": "code",
   "execution_count": 58,
   "metadata": {},
   "outputs": [],
   "source": [
    "#Q4(2)"
   ]
  },
  {
   "cell_type": "code",
   "execution_count": 59,
   "metadata": {},
   "outputs": [],
   "source": [
    "x = wine_new.iloc[:, :-1] # x features\n",
    "y = wine_new.iloc[:, -1] \n",
    "X_latrain, X_latest, y_latrain, y_latest = train_test_split(x,y,test_size=0.2, random_state=0,)\n"
   ]
  },
  {
   "cell_type": "code",
   "execution_count": 60,
   "metadata": {},
   "outputs": [],
   "source": [
    "x_nnew1=X_latrain['fixed acidity']-X_latrain['fixed acidity'].mean();\n",
    "x_nnew2=X_latrain['volatile acidity']-X_latrain['volatile acidity'].mean();\n",
    "x_nnew3=X_latrain['critric acid']-X_latrain['critric acid'].mean();\n",
    "x_nnew4=X_latrain['residual sugar']-X_latrain['residual sugar'].mean();\n",
    "x_nnew5=X_latrain['chlorides']-X_latrain['chlorides'].mean();\n",
    "x_nnew6=X_latrain['free sulfur dioxide']-X_latrain['free sulfur dioxide'].mean();\n",
    "x_nnew7=X_latrain['total sulfur dioxide']-X_latrain['total sulfur dioxide'].mean();\n",
    "x_nnew8=X_latrain['density']-X_latrain['density'].mean();\n",
    "x_nnew9=X_latrain['pH']-X_latrain['pH'].mean();\n",
    "x_nnew10=X_latrain['sulphates']-X_latrain['sulphates'].mean();\n",
    "x_nnew11=X_latrain['alcohol']-X_latrain['alcohol'].mean();\n",
    "X_latrain=pd.DataFrame([x_nnew1,x_nnew2,x_nnew3,x_nnew4,x_nnew5,x_nnew6,x_nnew7,x_nnew8,x_nnew9,x_nnew10,x_nnew11]).T"
   ]
  },
  {
   "cell_type": "code",
   "execution_count": 61,
   "metadata": {},
   "outputs": [],
   "source": [
    "x_testnnew1=X_latest['fixed acidity']-X_test['fixed acidity'].mean();\n",
    "x_testnnew2=X_latest['volatile acidity']-X_test['volatile acidity'].mean();\n",
    "x_testnnew3=X_latest['critric acid']-X_test['critric acid'].mean();\n",
    "x_testnnew4=X_latest['residual sugar']-X_test['residual sugar'].mean();  \n",
    "x_testnnew5=X_latest['chlorides']-X_test['chlorides'].mean();\n",
    "x_testnnew6=X_latest['free sulfur dioxide']-X_test['free sulfur dioxide'].mean();\n",
    "x_testnnew7=X_latest['total sulfur dioxide']-X_test['total sulfur dioxide'].mean();\n",
    "x_testnnew8=X_latest['density']-X_test['density'].mean();\n",
    "x_testnnew9=X_latest['pH']-X_test['pH'].mean();\n",
    "x_testnnew10=X_latest['sulphates']-X_test['sulphates'].mean();\n",
    "x_testnnew11=X_latest['alcohol']-X_test['alcohol'].mean();\n",
    "X_latest=pd.DataFrame([x_testnnew1,x_testnnew2,x_testnnew3,x_testnnew4,x_testnnew5,\n",
    "                          x_testnnew6,x_testnnew7,x_testnnew8,x_testnnew9,x_testnnew10,x_testnnew11]).T"
   ]
  },
  {
   "cell_type": "code",
   "execution_count": 62,
   "metadata": {},
   "outputs": [],
   "source": [
    "y_latrain=y_latrain-y_latrain.mean()"
   ]
  },
  {
   "cell_type": "code",
   "execution_count": null,
   "metadata": {},
   "outputs": [],
   "source": []
  },
  {
   "cell_type": "code",
   "execution_count": 63,
   "metadata": {},
   "outputs": [],
   "source": [
    "y_latest=y_latest-y_latest.mean()"
   ]
  },
  {
   "cell_type": "code",
   "execution_count": null,
   "metadata": {},
   "outputs": [],
   "source": []
  },
  {
   "cell_type": "code",
   "execution_count": 64,
   "metadata": {},
   "outputs": [],
   "source": [
    "#alpha lamda /2n"
   ]
  },
  {
   "cell_type": "code",
   "execution_count": 65,
   "metadata": {},
   "outputs": [
    {
     "name": "stdout",
     "output_type": "stream",
     "text": [
      "LASSO: 0.19752397827799578\n",
      "LASSO Lambda: 0.01\n"
     ]
    },
    {
     "name": "stderr",
     "output_type": "stream",
     "text": [
      "/Users/apple/anaconda3/lib/python3.6/site-packages/sklearn/model_selection/_split.py:2053: FutureWarning: You should specify a value for 'cv' instead of relying on the default value. The default value will change from 3 to 5 in version 0.22.\n",
      "  warnings.warn(CV_WARNING, FutureWarning)\n"
     ]
    }
   ],
   "source": [
    "alpha_range=10.**np.arange(-2,3)\n",
    "lascv = LassoCV(normalize=True,alphas=alpha_range)\n",
    "lascv.fit(X_latrain, y_latrain)\n",
    "preds_lassocv = lascv.predict(X_latest)\n",
    "print(\"LASSO: {0}\".format(mean_squared_error(y_latest, preds_lassocv)/2))\n",
    "print(\"LASSO Lambda: {0}\".format(lascv.alpha_))"
   ]
  },
  {
   "cell_type": "code",
   "execution_count": 66,
   "metadata": {},
   "outputs": [
    {
     "name": "stdout",
     "output_type": "stream",
     "text": [
      "LASSO: 0.14554109225552975\n",
      "LASSO Lambda: 0.03781501842857406\n"
     ]
    },
    {
     "name": "stderr",
     "output_type": "stream",
     "text": [
      "/Users/apple/anaconda3/lib/python3.6/site-packages/sklearn/model_selection/_split.py:2053: FutureWarning: You should specify a value for 'cv' instead of relying on the default value. The default value will change from 3 to 5 in version 0.22.\n",
      "  warnings.warn(CV_WARNING, FutureWarning)\n"
     ]
    }
   ],
   "source": [
    "lascv = LassoCV()\n",
    "lascv.fit(X_latrain, y_latrain)\n",
    "preds_lassocv = lascv.predict(X_latest)\n",
    "print(\"LASSO: {0}\".format(mean_squared_error(y_latest, preds_lassocv)/2))\n",
    "print(\"LASSO Lambda: {0}\".format(lascv.alpha_))"
   ]
  },
  {
   "cell_type": "code",
   "execution_count": 67,
   "metadata": {},
   "outputs": [],
   "source": [
    "#taskB Q1"
   ]
  },
  {
   "cell_type": "code",
   "execution_count": 68,
   "metadata": {},
   "outputs": [
    {
     "data": {
      "text/html": [
       "<div>\n",
       "<style scoped>\n",
       "    .dataframe tbody tr th:only-of-type {\n",
       "        vertical-align: middle;\n",
       "    }\n",
       "\n",
       "    .dataframe tbody tr th {\n",
       "        vertical-align: top;\n",
       "    }\n",
       "\n",
       "    .dataframe thead th {\n",
       "        text-align: right;\n",
       "    }\n",
       "</style>\n",
       "<table border=\"1\" class=\"dataframe\">\n",
       "  <thead>\n",
       "    <tr style=\"text-align: right;\">\n",
       "      <th></th>\n",
       "      <th>loan_amnt</th>\n",
       "      <th>funded_amnt</th>\n",
       "      <th>funded_amnt_inv</th>\n",
       "      <th>term</th>\n",
       "      <th>int_rate</th>\n",
       "      <th>installment</th>\n",
       "      <th>grade</th>\n",
       "      <th>sub_grade</th>\n",
       "      <th>emp_length</th>\n",
       "      <th>home_ownership</th>\n",
       "      <th>...</th>\n",
       "      <th>title</th>\n",
       "      <th>addr_state</th>\n",
       "      <th>dti</th>\n",
       "      <th>earliest_cr_line</th>\n",
       "      <th>inq_last_6mths</th>\n",
       "      <th>total_pymnt</th>\n",
       "      <th>total_pymnt_inv</th>\n",
       "      <th>total_rec_prncp</th>\n",
       "      <th>total_rec_int</th>\n",
       "      <th>debt_settlement_flag</th>\n",
       "    </tr>\n",
       "  </thead>\n",
       "  <tbody>\n",
       "    <tr>\n",
       "      <th>0</th>\n",
       "      <td>12000</td>\n",
       "      <td>12000</td>\n",
       "      <td>12000.00000</td>\n",
       "      <td>36 months</td>\n",
       "      <td>0.1242</td>\n",
       "      <td>400.99</td>\n",
       "      <td>B</td>\n",
       "      <td>B4</td>\n",
       "      <td>5 years</td>\n",
       "      <td>RENT</td>\n",
       "      <td>...</td>\n",
       "      <td>payoff</td>\n",
       "      <td>NJ</td>\n",
       "      <td>22.49</td>\n",
       "      <td>2003-09-01</td>\n",
       "      <td>0</td>\n",
       "      <td>14435.349990</td>\n",
       "      <td>14435.35</td>\n",
       "      <td>12000.00</td>\n",
       "      <td>2435.35</td>\n",
       "      <td>N</td>\n",
       "    </tr>\n",
       "    <tr>\n",
       "      <th>1</th>\n",
       "      <td>8000</td>\n",
       "      <td>8000</td>\n",
       "      <td>8000.00000</td>\n",
       "      <td>60 months</td>\n",
       "      <td>0.1521</td>\n",
       "      <td>191.21</td>\n",
       "      <td>D</td>\n",
       "      <td>D2</td>\n",
       "      <td>5 years</td>\n",
       "      <td>RENT</td>\n",
       "      <td>...</td>\n",
       "      <td>Ratha's loan</td>\n",
       "      <td>PA</td>\n",
       "      <td>21.43</td>\n",
       "      <td>1998-12-01</td>\n",
       "      <td>0</td>\n",
       "      <td>9061.140000</td>\n",
       "      <td>9061.14</td>\n",
       "      <td>5704.48</td>\n",
       "      <td>3356.66</td>\n",
       "      <td>Y</td>\n",
       "    </tr>\n",
       "    <tr>\n",
       "      <th>2</th>\n",
       "      <td>7000</td>\n",
       "      <td>7000</td>\n",
       "      <td>7000.00000</td>\n",
       "      <td>36 months</td>\n",
       "      <td>0.1065</td>\n",
       "      <td>228.02</td>\n",
       "      <td>B</td>\n",
       "      <td>B2</td>\n",
       "      <td>&lt; 1 year</td>\n",
       "      <td>RENT</td>\n",
       "      <td>...</td>\n",
       "      <td>Loan 12142011</td>\n",
       "      <td>CA</td>\n",
       "      <td>7.38</td>\n",
       "      <td>2004-04-01</td>\n",
       "      <td>0</td>\n",
       "      <td>8208.410003</td>\n",
       "      <td>8208.41</td>\n",
       "      <td>7000.00</td>\n",
       "      <td>1208.41</td>\n",
       "      <td>N</td>\n",
       "    </tr>\n",
       "    <tr>\n",
       "      <th>3</th>\n",
       "      <td>21600</td>\n",
       "      <td>21600</td>\n",
       "      <td>20498.26578</td>\n",
       "      <td>60 months</td>\n",
       "      <td>0.1942</td>\n",
       "      <td>565.32</td>\n",
       "      <td>E</td>\n",
       "      <td>E3</td>\n",
       "      <td>8 years</td>\n",
       "      <td>MORTGAGE</td>\n",
       "      <td>...</td>\n",
       "      <td>5 Years to Financial Freedom</td>\n",
       "      <td>GA</td>\n",
       "      <td>16.74</td>\n",
       "      <td>1990-12-01</td>\n",
       "      <td>0</td>\n",
       "      <td>27586.781410</td>\n",
       "      <td>24859.66</td>\n",
       "      <td>21600.00</td>\n",
       "      <td>5986.78</td>\n",
       "      <td>N</td>\n",
       "    </tr>\n",
       "    <tr>\n",
       "      <th>4</th>\n",
       "      <td>33425</td>\n",
       "      <td>20675</td>\n",
       "      <td>19010.82122</td>\n",
       "      <td>60 months</td>\n",
       "      <td>0.1349</td>\n",
       "      <td>475.63</td>\n",
       "      <td>C</td>\n",
       "      <td>C1</td>\n",
       "      <td>2 years</td>\n",
       "      <td>MORTGAGE</td>\n",
       "      <td>...</td>\n",
       "      <td>Debt Consolidation Loan</td>\n",
       "      <td>NY</td>\n",
       "      <td>25.71</td>\n",
       "      <td>1978-07-01</td>\n",
       "      <td>3</td>\n",
       "      <td>19893.950000</td>\n",
       "      <td>16765.31</td>\n",
       "      <td>13371.26</td>\n",
       "      <td>6512.03</td>\n",
       "      <td>Y</td>\n",
       "    </tr>\n",
       "  </tbody>\n",
       "</table>\n",
       "<p>5 rows × 25 columns</p>\n",
       "</div>"
      ],
      "text/plain": [
       "   loan_amnt  funded_amnt  funded_amnt_inv        term  int_rate  installment  \\\n",
       "0      12000        12000      12000.00000   36 months    0.1242       400.99   \n",
       "1       8000         8000       8000.00000   60 months    0.1521       191.21   \n",
       "2       7000         7000       7000.00000   36 months    0.1065       228.02   \n",
       "3      21600        21600      20498.26578   60 months    0.1942       565.32   \n",
       "4      33425        20675      19010.82122   60 months    0.1349       475.63   \n",
       "\n",
       "  grade sub_grade emp_length home_ownership  ...  \\\n",
       "0     B        B4    5 years           RENT  ...   \n",
       "1     D        D2    5 years           RENT  ...   \n",
       "2     B        B2   < 1 year           RENT  ...   \n",
       "3     E        E3    8 years       MORTGAGE  ...   \n",
       "4     C        C1    2 years       MORTGAGE  ...   \n",
       "\n",
       "                          title addr_state    dti earliest_cr_line  \\\n",
       "0                        payoff         NJ  22.49       2003-09-01   \n",
       "1                  Ratha's loan         PA  21.43       1998-12-01   \n",
       "2                 Loan 12142011         CA   7.38       2004-04-01   \n",
       "3  5 Years to Financial Freedom         GA  16.74       1990-12-01   \n",
       "4       Debt Consolidation Loan         NY  25.71       1978-07-01   \n",
       "\n",
       "  inq_last_6mths   total_pymnt total_pymnt_inv  total_rec_prncp total_rec_int  \\\n",
       "0              0  14435.349990        14435.35         12000.00       2435.35   \n",
       "1              0   9061.140000         9061.14          5704.48       3356.66   \n",
       "2              0   8208.410003         8208.41          7000.00       1208.41   \n",
       "3              0  27586.781410        24859.66         21600.00       5986.78   \n",
       "4              3  19893.950000        16765.31         13371.26       6512.03   \n",
       "\n",
       "   debt_settlement_flag  \n",
       "0                     N  \n",
       "1                     Y  \n",
       "2                     N  \n",
       "3                     N  \n",
       "4                     Y  \n",
       "\n",
       "[5 rows x 25 columns]"
      ]
     },
     "execution_count": 68,
     "metadata": {},
     "output_type": "execute_result"
    }
   ],
   "source": [
    "loans = pd.read_excel('Loans_Data_New.xlsx')\n",
    "loans.head()"
   ]
  },
  {
   "cell_type": "code",
   "execution_count": 69,
   "metadata": {},
   "outputs": [
    {
     "data": {
      "text/html": [
       "<div>\n",
       "<style scoped>\n",
       "    .dataframe tbody tr th:only-of-type {\n",
       "        vertical-align: middle;\n",
       "    }\n",
       "\n",
       "    .dataframe tbody tr th {\n",
       "        vertical-align: top;\n",
       "    }\n",
       "\n",
       "    .dataframe thead th {\n",
       "        text-align: right;\n",
       "    }\n",
       "</style>\n",
       "<table border=\"1\" class=\"dataframe\">\n",
       "  <thead>\n",
       "    <tr style=\"text-align: right;\">\n",
       "      <th></th>\n",
       "      <th>LoanStatNew</th>\n",
       "      <th>Description</th>\n",
       "    </tr>\n",
       "  </thead>\n",
       "  <tbody>\n",
       "    <tr>\n",
       "      <th>0</th>\n",
       "      <td>acc_now_delinq</td>\n",
       "      <td>The number of accounts on which the borrower i...</td>\n",
       "    </tr>\n",
       "    <tr>\n",
       "      <th>1</th>\n",
       "      <td>acc_open_past_24mths</td>\n",
       "      <td>Number of trades opened in past 24 months.</td>\n",
       "    </tr>\n",
       "    <tr>\n",
       "      <th>2</th>\n",
       "      <td>addr_state</td>\n",
       "      <td>The state provided by the borrower in the loan...</td>\n",
       "    </tr>\n",
       "    <tr>\n",
       "      <th>3</th>\n",
       "      <td>all_util</td>\n",
       "      <td>Balance to credit limit on all trades</td>\n",
       "    </tr>\n",
       "    <tr>\n",
       "      <th>4</th>\n",
       "      <td>annual_inc</td>\n",
       "      <td>The self-reported annual income provided by th...</td>\n",
       "    </tr>\n",
       "  </tbody>\n",
       "</table>\n",
       "</div>"
      ],
      "text/plain": [
       "            LoanStatNew                                        Description\n",
       "0        acc_now_delinq  The number of accounts on which the borrower i...\n",
       "1  acc_open_past_24mths         Number of trades opened in past 24 months.\n",
       "2            addr_state  The state provided by the borrower in the loan...\n",
       "3              all_util              Balance to credit limit on all trades\n",
       "4            annual_inc  The self-reported annual income provided by th..."
      ]
     },
     "execution_count": 69,
     "metadata": {},
     "output_type": "execute_result"
    }
   ],
   "source": [
    "LCD=pd.read_excel('LCDataDictionary.xlsx')\n",
    "LCD.head()"
   ]
  },
  {
   "cell_type": "code",
   "execution_count": 70,
   "metadata": {},
   "outputs": [
    {
     "data": {
      "text/plain": [
       "loan_amnt                0\n",
       "funded_amnt              0\n",
       "funded_amnt_inv          0\n",
       "term                     0\n",
       "int_rate                 0\n",
       "installment              0\n",
       "grade                    0\n",
       "sub_grade                0\n",
       "emp_length              14\n",
       "home_ownership           0\n",
       "annual_inc               0\n",
       "verification_status      0\n",
       "loan_status              0\n",
       "pymnt_plan               0\n",
       "purpose                  0\n",
       "title                    0\n",
       "addr_state               0\n",
       "dti                      0\n",
       "earliest_cr_line         0\n",
       "inq_last_6mths           0\n",
       "total_pymnt              0\n",
       "total_pymnt_inv          0\n",
       "total_rec_prncp          0\n",
       "total_rec_int            0\n",
       "debt_settlement_flag     0\n",
       "dtype: int64"
      ]
     },
     "execution_count": 70,
     "metadata": {},
     "output_type": "execute_result"
    }
   ],
   "source": [
    "loans.isnull().sum()"
   ]
  },
  {
   "cell_type": "code",
   "execution_count": 71,
   "metadata": {},
   "outputs": [
    {
     "data": {
      "text/html": [
       "<div>\n",
       "<style scoped>\n",
       "    .dataframe tbody tr th:only-of-type {\n",
       "        vertical-align: middle;\n",
       "    }\n",
       "\n",
       "    .dataframe tbody tr th {\n",
       "        vertical-align: top;\n",
       "    }\n",
       "\n",
       "    .dataframe thead th {\n",
       "        text-align: right;\n",
       "    }\n",
       "</style>\n",
       "<table border=\"1\" class=\"dataframe\">\n",
       "  <thead>\n",
       "    <tr style=\"text-align: right;\">\n",
       "      <th></th>\n",
       "      <th>loan_amnt</th>\n",
       "      <th>funded_amnt</th>\n",
       "      <th>funded_amnt_inv</th>\n",
       "      <th>int_rate</th>\n",
       "      <th>installment</th>\n",
       "      <th>annual_inc</th>\n",
       "      <th>dti</th>\n",
       "      <th>earliest_cr_line</th>\n",
       "      <th>inq_last_6mths</th>\n",
       "      <th>total_pymnt</th>\n",
       "      <th>...</th>\n",
       "      <th>addr_state_SD</th>\n",
       "      <th>addr_state_TX</th>\n",
       "      <th>addr_state_UT</th>\n",
       "      <th>addr_state_VA</th>\n",
       "      <th>addr_state_VT</th>\n",
       "      <th>addr_state_WA</th>\n",
       "      <th>addr_state_WI</th>\n",
       "      <th>addr_state_WV</th>\n",
       "      <th>addr_state_WY</th>\n",
       "      <th>debt_settlement_flag_Y</th>\n",
       "    </tr>\n",
       "  </thead>\n",
       "  <tbody>\n",
       "    <tr>\n",
       "      <th>0</th>\n",
       "      <td>12000</td>\n",
       "      <td>12000</td>\n",
       "      <td>12000.00000</td>\n",
       "      <td>0.1242</td>\n",
       "      <td>400.99</td>\n",
       "      <td>50700.0</td>\n",
       "      <td>22.49</td>\n",
       "      <td>2003-09-01</td>\n",
       "      <td>0</td>\n",
       "      <td>14435.349990</td>\n",
       "      <td>...</td>\n",
       "      <td>0</td>\n",
       "      <td>0</td>\n",
       "      <td>0</td>\n",
       "      <td>0</td>\n",
       "      <td>0</td>\n",
       "      <td>0</td>\n",
       "      <td>0</td>\n",
       "      <td>0</td>\n",
       "      <td>0</td>\n",
       "      <td>0</td>\n",
       "    </tr>\n",
       "    <tr>\n",
       "      <th>1</th>\n",
       "      <td>8000</td>\n",
       "      <td>8000</td>\n",
       "      <td>8000.00000</td>\n",
       "      <td>0.1521</td>\n",
       "      <td>191.21</td>\n",
       "      <td>29000.0</td>\n",
       "      <td>21.43</td>\n",
       "      <td>1998-12-01</td>\n",
       "      <td>0</td>\n",
       "      <td>9061.140000</td>\n",
       "      <td>...</td>\n",
       "      <td>0</td>\n",
       "      <td>0</td>\n",
       "      <td>0</td>\n",
       "      <td>0</td>\n",
       "      <td>0</td>\n",
       "      <td>0</td>\n",
       "      <td>0</td>\n",
       "      <td>0</td>\n",
       "      <td>0</td>\n",
       "      <td>1</td>\n",
       "    </tr>\n",
       "    <tr>\n",
       "      <th>2</th>\n",
       "      <td>7000</td>\n",
       "      <td>7000</td>\n",
       "      <td>7000.00000</td>\n",
       "      <td>0.1065</td>\n",
       "      <td>228.02</td>\n",
       "      <td>40000.0</td>\n",
       "      <td>7.38</td>\n",
       "      <td>2004-04-01</td>\n",
       "      <td>0</td>\n",
       "      <td>8208.410003</td>\n",
       "      <td>...</td>\n",
       "      <td>0</td>\n",
       "      <td>0</td>\n",
       "      <td>0</td>\n",
       "      <td>0</td>\n",
       "      <td>0</td>\n",
       "      <td>0</td>\n",
       "      <td>0</td>\n",
       "      <td>0</td>\n",
       "      <td>0</td>\n",
       "      <td>0</td>\n",
       "    </tr>\n",
       "    <tr>\n",
       "      <th>3</th>\n",
       "      <td>21600</td>\n",
       "      <td>21600</td>\n",
       "      <td>20498.26578</td>\n",
       "      <td>0.1942</td>\n",
       "      <td>565.32</td>\n",
       "      <td>60000.0</td>\n",
       "      <td>16.74</td>\n",
       "      <td>1990-12-01</td>\n",
       "      <td>0</td>\n",
       "      <td>27586.781410</td>\n",
       "      <td>...</td>\n",
       "      <td>0</td>\n",
       "      <td>0</td>\n",
       "      <td>0</td>\n",
       "      <td>0</td>\n",
       "      <td>0</td>\n",
       "      <td>0</td>\n",
       "      <td>0</td>\n",
       "      <td>0</td>\n",
       "      <td>0</td>\n",
       "      <td>0</td>\n",
       "    </tr>\n",
       "    <tr>\n",
       "      <th>4</th>\n",
       "      <td>33425</td>\n",
       "      <td>20675</td>\n",
       "      <td>19010.82122</td>\n",
       "      <td>0.1349</td>\n",
       "      <td>475.63</td>\n",
       "      <td>75000.0</td>\n",
       "      <td>25.71</td>\n",
       "      <td>1978-07-01</td>\n",
       "      <td>3</td>\n",
       "      <td>19893.950000</td>\n",
       "      <td>...</td>\n",
       "      <td>0</td>\n",
       "      <td>0</td>\n",
       "      <td>0</td>\n",
       "      <td>0</td>\n",
       "      <td>0</td>\n",
       "      <td>0</td>\n",
       "      <td>0</td>\n",
       "      <td>0</td>\n",
       "      <td>0</td>\n",
       "      <td>1</td>\n",
       "    </tr>\n",
       "  </tbody>\n",
       "</table>\n",
       "<p>5 rows × 486 columns</p>\n",
       "</div>"
      ],
      "text/plain": [
       "   loan_amnt  funded_amnt  funded_amnt_inv  int_rate  installment  annual_inc  \\\n",
       "0      12000        12000      12000.00000    0.1242       400.99     50700.0   \n",
       "1       8000         8000       8000.00000    0.1521       191.21     29000.0   \n",
       "2       7000         7000       7000.00000    0.1065       228.02     40000.0   \n",
       "3      21600        21600      20498.26578    0.1942       565.32     60000.0   \n",
       "4      33425        20675      19010.82122    0.1349       475.63     75000.0   \n",
       "\n",
       "     dti earliest_cr_line  inq_last_6mths   total_pymnt  ...  addr_state_SD  \\\n",
       "0  22.49       2003-09-01               0  14435.349990  ...              0   \n",
       "1  21.43       1998-12-01               0   9061.140000  ...              0   \n",
       "2   7.38       2004-04-01               0   8208.410003  ...              0   \n",
       "3  16.74       1990-12-01               0  27586.781410  ...              0   \n",
       "4  25.71       1978-07-01               3  19893.950000  ...              0   \n",
       "\n",
       "   addr_state_TX  addr_state_UT  addr_state_VA  addr_state_VT  addr_state_WA  \\\n",
       "0              0              0              0              0              0   \n",
       "1              0              0              0              0              0   \n",
       "2              0              0              0              0              0   \n",
       "3              0              0              0              0              0   \n",
       "4              0              0              0              0              0   \n",
       "\n",
       "   addr_state_WI  addr_state_WV  addr_state_WY  debt_settlement_flag_Y  \n",
       "0              0              0              0                       0  \n",
       "1              0              0              0                       1  \n",
       "2              0              0              0                       0  \n",
       "3              0              0              0                       0  \n",
       "4              0              0              0                       1  \n",
       "\n",
       "[5 rows x 486 columns]"
      ]
     },
     "execution_count": 71,
     "metadata": {},
     "output_type": "execute_result"
    }
   ],
   "source": [
    "dummies_loans = pd.get_dummies(loans,drop_first = True)\n",
    "dummies_loans.head()\n",
    "\n",
    "\n"
   ]
  },
  {
   "cell_type": "code",
   "execution_count": 72,
   "metadata": {},
   "outputs": [
    {
     "data": {
      "text/html": [
       "<div>\n",
       "<style scoped>\n",
       "    .dataframe tbody tr th:only-of-type {\n",
       "        vertical-align: middle;\n",
       "    }\n",
       "\n",
       "    .dataframe tbody tr th {\n",
       "        vertical-align: top;\n",
       "    }\n",
       "\n",
       "    .dataframe thead th {\n",
       "        text-align: right;\n",
       "    }\n",
       "</style>\n",
       "<table border=\"1\" class=\"dataframe\">\n",
       "  <thead>\n",
       "    <tr style=\"text-align: right;\">\n",
       "      <th></th>\n",
       "      <th>loan_amnt</th>\n",
       "      <th>funded_amnt</th>\n",
       "      <th>funded_amnt_inv</th>\n",
       "      <th>int_rate</th>\n",
       "      <th>installment</th>\n",
       "      <th>annual_inc</th>\n",
       "      <th>dti</th>\n",
       "      <th>inq_last_6mths</th>\n",
       "      <th>total_pymnt</th>\n",
       "      <th>total_pymnt_inv</th>\n",
       "      <th>...</th>\n",
       "      <th>addr_state_SD</th>\n",
       "      <th>addr_state_TX</th>\n",
       "      <th>addr_state_UT</th>\n",
       "      <th>addr_state_VA</th>\n",
       "      <th>addr_state_VT</th>\n",
       "      <th>addr_state_WA</th>\n",
       "      <th>addr_state_WI</th>\n",
       "      <th>addr_state_WV</th>\n",
       "      <th>addr_state_WY</th>\n",
       "      <th>debt_settlement_flag_Y</th>\n",
       "    </tr>\n",
       "  </thead>\n",
       "  <tbody>\n",
       "    <tr>\n",
       "      <th>count</th>\n",
       "      <td>565.000000</td>\n",
       "      <td>565.000000</td>\n",
       "      <td>565.000000</td>\n",
       "      <td>565.000000</td>\n",
       "      <td>565.000000</td>\n",
       "      <td>565.000000</td>\n",
       "      <td>565.000000</td>\n",
       "      <td>565.000000</td>\n",
       "      <td>565.000000</td>\n",
       "      <td>565.000000</td>\n",
       "      <td>...</td>\n",
       "      <td>565.00000</td>\n",
       "      <td>565.000000</td>\n",
       "      <td>565.00000</td>\n",
       "      <td>565.000000</td>\n",
       "      <td>565.00000</td>\n",
       "      <td>565.000000</td>\n",
       "      <td>565.000000</td>\n",
       "      <td>565.000000</td>\n",
       "      <td>565.00000</td>\n",
       "      <td>565.000000</td>\n",
       "    </tr>\n",
       "    <tr>\n",
       "      <th>mean</th>\n",
       "      <td>13039.469027</td>\n",
       "      <td>12623.362832</td>\n",
       "      <td>12263.498532</td>\n",
       "      <td>0.132404</td>\n",
       "      <td>372.314867</td>\n",
       "      <td>63990.414425</td>\n",
       "      <td>14.521009</td>\n",
       "      <td>0.991150</td>\n",
       "      <td>13233.126934</td>\n",
       "      <td>12839.506124</td>\n",
       "      <td>...</td>\n",
       "      <td>0.00177</td>\n",
       "      <td>0.072566</td>\n",
       "      <td>0.00177</td>\n",
       "      <td>0.035398</td>\n",
       "      <td>0.00177</td>\n",
       "      <td>0.024779</td>\n",
       "      <td>0.014159</td>\n",
       "      <td>0.007080</td>\n",
       "      <td>0.00177</td>\n",
       "      <td>0.283186</td>\n",
       "    </tr>\n",
       "    <tr>\n",
       "      <th>std</th>\n",
       "      <td>7846.395883</td>\n",
       "      <td>7335.373208</td>\n",
       "      <td>7164.897656</td>\n",
       "      <td>0.039057</td>\n",
       "      <td>208.949707</td>\n",
       "      <td>37034.292456</td>\n",
       "      <td>6.408200</td>\n",
       "      <td>1.341479</td>\n",
       "      <td>8743.003971</td>\n",
       "      <td>8539.098131</td>\n",
       "      <td>...</td>\n",
       "      <td>0.04207</td>\n",
       "      <td>0.259653</td>\n",
       "      <td>0.04207</td>\n",
       "      <td>0.184948</td>\n",
       "      <td>0.04207</td>\n",
       "      <td>0.155588</td>\n",
       "      <td>0.118252</td>\n",
       "      <td>0.083917</td>\n",
       "      <td>0.04207</td>\n",
       "      <td>0.450945</td>\n",
       "    </tr>\n",
       "    <tr>\n",
       "      <th>min</th>\n",
       "      <td>1000.000000</td>\n",
       "      <td>1000.000000</td>\n",
       "      <td>0.000000</td>\n",
       "      <td>0.057900</td>\n",
       "      <td>35.310000</td>\n",
       "      <td>12000.000000</td>\n",
       "      <td>0.370000</td>\n",
       "      <td>0.000000</td>\n",
       "      <td>0.000000</td>\n",
       "      <td>0.000000</td>\n",
       "      <td>...</td>\n",
       "      <td>0.00000</td>\n",
       "      <td>0.000000</td>\n",
       "      <td>0.00000</td>\n",
       "      <td>0.000000</td>\n",
       "      <td>0.00000</td>\n",
       "      <td>0.000000</td>\n",
       "      <td>0.000000</td>\n",
       "      <td>0.000000</td>\n",
       "      <td>0.00000</td>\n",
       "      <td>0.000000</td>\n",
       "    </tr>\n",
       "    <tr>\n",
       "      <th>25%</th>\n",
       "      <td>7200.000000</td>\n",
       "      <td>7200.000000</td>\n",
       "      <td>7000.000000</td>\n",
       "      <td>0.106500</td>\n",
       "      <td>215.690000</td>\n",
       "      <td>40000.000000</td>\n",
       "      <td>9.860000</td>\n",
       "      <td>0.000000</td>\n",
       "      <td>6858.700001</td>\n",
       "      <td>6461.140000</td>\n",
       "      <td>...</td>\n",
       "      <td>0.00000</td>\n",
       "      <td>0.000000</td>\n",
       "      <td>0.00000</td>\n",
       "      <td>0.000000</td>\n",
       "      <td>0.00000</td>\n",
       "      <td>0.000000</td>\n",
       "      <td>0.000000</td>\n",
       "      <td>0.000000</td>\n",
       "      <td>0.00000</td>\n",
       "      <td>0.000000</td>\n",
       "    </tr>\n",
       "    <tr>\n",
       "      <th>50%</th>\n",
       "      <td>11100.000000</td>\n",
       "      <td>11000.000000</td>\n",
       "      <td>10500.000000</td>\n",
       "      <td>0.126900</td>\n",
       "      <td>337.750000</td>\n",
       "      <td>55000.000000</td>\n",
       "      <td>14.650000</td>\n",
       "      <td>1.000000</td>\n",
       "      <td>11264.480000</td>\n",
       "      <td>11123.650000</td>\n",
       "      <td>...</td>\n",
       "      <td>0.00000</td>\n",
       "      <td>0.000000</td>\n",
       "      <td>0.00000</td>\n",
       "      <td>0.000000</td>\n",
       "      <td>0.00000</td>\n",
       "      <td>0.000000</td>\n",
       "      <td>0.000000</td>\n",
       "      <td>0.000000</td>\n",
       "      <td>0.00000</td>\n",
       "      <td>0.000000</td>\n",
       "    </tr>\n",
       "    <tr>\n",
       "      <th>75%</th>\n",
       "      <td>18000.000000</td>\n",
       "      <td>17000.000000</td>\n",
       "      <td>16060.110690</td>\n",
       "      <td>0.162900</td>\n",
       "      <td>474.190000</td>\n",
       "      <td>78000.000000</td>\n",
       "      <td>19.740000</td>\n",
       "      <td>2.000000</td>\n",
       "      <td>17402.239990</td>\n",
       "      <td>16917.780000</td>\n",
       "      <td>...</td>\n",
       "      <td>0.00000</td>\n",
       "      <td>0.000000</td>\n",
       "      <td>0.00000</td>\n",
       "      <td>0.000000</td>\n",
       "      <td>0.00000</td>\n",
       "      <td>0.000000</td>\n",
       "      <td>0.000000</td>\n",
       "      <td>0.000000</td>\n",
       "      <td>0.00000</td>\n",
       "      <td>1.000000</td>\n",
       "    </tr>\n",
       "    <tr>\n",
       "      <th>max</th>\n",
       "      <td>35000.000000</td>\n",
       "      <td>35000.000000</td>\n",
       "      <td>35000.000000</td>\n",
       "      <td>0.239100</td>\n",
       "      <td>1269.730000</td>\n",
       "      <td>290000.000000</td>\n",
       "      <td>29.850000</td>\n",
       "      <td>14.000000</td>\n",
       "      <td>48587.490000</td>\n",
       "      <td>48587.490000</td>\n",
       "      <td>...</td>\n",
       "      <td>1.00000</td>\n",
       "      <td>1.000000</td>\n",
       "      <td>1.00000</td>\n",
       "      <td>1.000000</td>\n",
       "      <td>1.00000</td>\n",
       "      <td>1.000000</td>\n",
       "      <td>1.000000</td>\n",
       "      <td>1.000000</td>\n",
       "      <td>1.00000</td>\n",
       "      <td>1.000000</td>\n",
       "    </tr>\n",
       "  </tbody>\n",
       "</table>\n",
       "<p>8 rows × 485 columns</p>\n",
       "</div>"
      ],
      "text/plain": [
       "          loan_amnt   funded_amnt  funded_amnt_inv    int_rate  installment  \\\n",
       "count    565.000000    565.000000       565.000000  565.000000   565.000000   \n",
       "mean   13039.469027  12623.362832     12263.498532    0.132404   372.314867   \n",
       "std     7846.395883   7335.373208      7164.897656    0.039057   208.949707   \n",
       "min     1000.000000   1000.000000         0.000000    0.057900    35.310000   \n",
       "25%     7200.000000   7200.000000      7000.000000    0.106500   215.690000   \n",
       "50%    11100.000000  11000.000000     10500.000000    0.126900   337.750000   \n",
       "75%    18000.000000  17000.000000     16060.110690    0.162900   474.190000   \n",
       "max    35000.000000  35000.000000     35000.000000    0.239100  1269.730000   \n",
       "\n",
       "          annual_inc         dti  inq_last_6mths   total_pymnt  \\\n",
       "count     565.000000  565.000000      565.000000    565.000000   \n",
       "mean    63990.414425   14.521009        0.991150  13233.126934   \n",
       "std     37034.292456    6.408200        1.341479   8743.003971   \n",
       "min     12000.000000    0.370000        0.000000      0.000000   \n",
       "25%     40000.000000    9.860000        0.000000   6858.700001   \n",
       "50%     55000.000000   14.650000        1.000000  11264.480000   \n",
       "75%     78000.000000   19.740000        2.000000  17402.239990   \n",
       "max    290000.000000   29.850000       14.000000  48587.490000   \n",
       "\n",
       "       total_pymnt_inv  ...  addr_state_SD  addr_state_TX  addr_state_UT  \\\n",
       "count       565.000000  ...      565.00000     565.000000      565.00000   \n",
       "mean      12839.506124  ...        0.00177       0.072566        0.00177   \n",
       "std        8539.098131  ...        0.04207       0.259653        0.04207   \n",
       "min           0.000000  ...        0.00000       0.000000        0.00000   \n",
       "25%        6461.140000  ...        0.00000       0.000000        0.00000   \n",
       "50%       11123.650000  ...        0.00000       0.000000        0.00000   \n",
       "75%       16917.780000  ...        0.00000       0.000000        0.00000   \n",
       "max       48587.490000  ...        1.00000       1.000000        1.00000   \n",
       "\n",
       "       addr_state_VA  addr_state_VT  addr_state_WA  addr_state_WI  \\\n",
       "count     565.000000      565.00000     565.000000     565.000000   \n",
       "mean        0.035398        0.00177       0.024779       0.014159   \n",
       "std         0.184948        0.04207       0.155588       0.118252   \n",
       "min         0.000000        0.00000       0.000000       0.000000   \n",
       "25%         0.000000        0.00000       0.000000       0.000000   \n",
       "50%         0.000000        0.00000       0.000000       0.000000   \n",
       "75%         0.000000        0.00000       0.000000       0.000000   \n",
       "max         1.000000        1.00000       1.000000       1.000000   \n",
       "\n",
       "       addr_state_WV  addr_state_WY  debt_settlement_flag_Y  \n",
       "count     565.000000      565.00000              565.000000  \n",
       "mean        0.007080        0.00177                0.283186  \n",
       "std         0.083917        0.04207                0.450945  \n",
       "min         0.000000        0.00000                0.000000  \n",
       "25%         0.000000        0.00000                0.000000  \n",
       "50%         0.000000        0.00000                0.000000  \n",
       "75%         0.000000        0.00000                1.000000  \n",
       "max         1.000000        1.00000                1.000000  \n",
       "\n",
       "[8 rows x 485 columns]"
      ]
     },
     "execution_count": 72,
     "metadata": {},
     "output_type": "execute_result"
    }
   ],
   "source": [
    "dummies_loans.describe()\n",
    "\n"
   ]
  },
  {
   "cell_type": "code",
   "execution_count": 75,
   "metadata": {},
   "outputs": [],
   "source": [
    "corr = dummies_loans.corr()\n"
   ]
  },
  {
   "cell_type": "code",
   "execution_count": 76,
   "metadata": {},
   "outputs": [
    {
     "data": {
      "text/plain": [
       "debt_settlement_flag_Y    1.000000\n",
       "term_ 60 months           0.323152\n",
       "total_rec_int             0.245000\n",
       "int_rate                  0.229406\n",
       "funded_amnt               0.221004\n",
       "Name: debt_settlement_flag_Y, dtype: float64"
      ]
     },
     "execution_count": 76,
     "metadata": {},
     "output_type": "execute_result"
    }
   ],
   "source": [
    "corr_postive = corr['debt_settlement_flag_Y'].sort_values(ascending=False)\n",
    "corr_postive.head()"
   ]
  },
  {
   "cell_type": "code",
   "execution_count": 77,
   "metadata": {
    "scrolled": true
   },
   "outputs": [
    {
     "data": {
      "text/plain": [
       "loan_status_Fully Paid   -0.753027\n",
       "grade_B                  -0.191640\n",
       "total_rec_prncp          -0.172162\n",
       "sub_grade_B1             -0.137013\n",
       "purpose_credit_card      -0.137011\n",
       "Name: debt_settlement_flag_Y, dtype: float64"
      ]
     },
     "execution_count": 77,
     "metadata": {},
     "output_type": "execute_result"
    }
   ],
   "source": [
    "corr_negative = corr['debt_settlement_flag_Y'].sort_values(ascending=True)\n",
    "corr_negative.head()\n"
   ]
  },
  {
   "cell_type": "code",
   "execution_count": 78,
   "metadata": {},
   "outputs": [
    {
     "data": {
      "text/plain": [
       "loan_amnt                   0.362230\n",
       "funded_amnt                 0.467490\n",
       "funded_amnt_inv             0.619029\n",
       "int_rate                   -0.569589\n",
       "installment                 1.252632\n",
       "annual_inc                  8.016694\n",
       "dti                        -0.769692\n",
       "inq_last_6mths             25.537629\n",
       "total_pymnt                 1.022997\n",
       "total_pymnt_inv             1.193511\n",
       "total_rec_prncp             1.169467\n",
       "total_rec_int               4.449549\n",
       "term_ 60 months            -1.498636\n",
       "grade_B                    -1.486422\n",
       "grade_C                     0.063277\n",
       "grade_D                     2.007753\n",
       "grade_E                     7.186047\n",
       "grade_F                    16.939140\n",
       "grade_G                    89.982334\n",
       "sub_grade_A2               30.622570\n",
       "sub_grade_A3               35.708373\n",
       "sub_grade_A4               14.677028\n",
       "sub_grade_A5               19.792979\n",
       "sub_grade_B1               12.840237\n",
       "sub_grade_B2               16.939140\n",
       "sub_grade_B3                8.006643\n",
       "sub_grade_B4                8.006643\n",
       "sub_grade_B5                8.948326\n",
       "sub_grade_C1               10.443135\n",
       "sub_grade_C2               18.762256\n",
       "                             ...    \n",
       "addr_state_KY             184.982232\n",
       "addr_state_LA              89.982334\n",
       "addr_state_MA              51.987547\n",
       "addr_state_MD              28.528759\n",
       "addr_state_MI              58.319389\n",
       "addr_state_MN             108.981581\n",
       "addr_state_MO              76.411970\n",
       "addr_state_MT             565.000000\n",
       "addr_state_NC              38.838543\n",
       "addr_state_NH             565.000000\n",
       "addr_state_NJ              16.129095\n",
       "addr_state_NM             279.985771\n",
       "addr_state_NV              89.982334\n",
       "addr_state_NY               6.030586\n",
       "addr_state_OH              28.528759\n",
       "addr_state_OK             565.000000\n",
       "addr_state_OR              51.987547\n",
       "addr_state_PA              20.917588\n",
       "addr_state_RI             137.481369\n",
       "addr_state_SC             279.985771\n",
       "addr_state_SD             565.000000\n",
       "addr_state_TX               8.948326\n",
       "addr_state_UT             565.000000\n",
       "addr_state_VA              23.504790\n",
       "addr_state_VT             565.000000\n",
       "addr_state_WA              35.708373\n",
       "addr_state_WI              66.234660\n",
       "addr_state_WV             137.481369\n",
       "addr_state_WY             565.000000\n",
       "debt_settlement_flag_Y     -1.072556\n",
       "Length: 485, dtype: float64"
      ]
     },
     "execution_count": 78,
     "metadata": {},
     "output_type": "execute_result"
    }
   ],
   "source": [
    "dummies_loans.kurtosis()\n"
   ]
  },
  {
   "cell_type": "code",
   "execution_count": 79,
   "metadata": {},
   "outputs": [
    {
     "data": {
      "text/plain": [
       "loan_amnt                  0.933416\n",
       "funded_amnt                0.910508\n",
       "funded_amnt_inv            0.910940\n",
       "int_rate                   0.113222\n",
       "installment                1.015040\n",
       "annual_inc                 2.273726\n",
       "dti                       -0.050117\n",
       "inq_last_6mths             3.629295\n",
       "total_pymnt                1.075425\n",
       "total_pymnt_inv            1.090009\n",
       "total_rec_prncp            1.033313\n",
       "total_rec_int              1.995897\n",
       "term_ 60 months            0.711816\n",
       "grade_B                    0.720314\n",
       "grade_C                    1.436338\n",
       "grade_D                    2.000164\n",
       "grade_E                    3.026652\n",
       "grade_F                    4.345019\n",
       "grade_G                    9.574123\n",
       "sub_grade_A2               5.702121\n",
       "sub_grade_A3               6.130415\n",
       "sub_grade_A4               4.077387\n",
       "sub_grade_A5               4.660786\n",
       "sub_grade_B1               3.846401\n",
       "sub_grade_B2               4.345019\n",
       "sub_grade_B3               3.158847\n",
       "sub_grade_B4               3.158847\n",
       "sub_grade_B5               3.304037\n",
       "sub_grade_C1               3.522241\n",
       "sub_grade_C2               4.549270\n",
       "                            ...    \n",
       "addr_state_KY             13.650181\n",
       "addr_state_LA              9.574123\n",
       "addr_state_MA              7.335089\n",
       "addr_state_MD              5.516139\n",
       "addr_state_MI              7.753255\n",
       "addr_state_MN             10.516455\n",
       "addr_state_MO              8.839768\n",
       "addr_state_MT             23.769729\n",
       "addr_state_NC              6.379739\n",
       "addr_state_NH             23.769729\n",
       "addr_state_NJ              4.251119\n",
       "addr_state_NM             16.762896\n",
       "addr_state_NV              9.574123\n",
       "addr_state_NY              2.830062\n",
       "addr_state_OH              5.516139\n",
       "addr_state_OK             23.769729\n",
       "addr_state_OR              7.335089\n",
       "addr_state_PA              4.779493\n",
       "addr_state_RI             11.789602\n",
       "addr_state_SC             16.762896\n",
       "addr_state_SD             23.769729\n",
       "addr_state_TX              3.304037\n",
       "addr_state_UT             23.769729\n",
       "addr_state_VA              5.041984\n",
       "addr_state_VT             23.769729\n",
       "addr_state_WA              6.130415\n",
       "addr_state_WI              8.246224\n",
       "addr_state_WV             11.789602\n",
       "addr_state_WY             23.769729\n",
       "debt_settlement_flag_Y     0.965015\n",
       "Length: 485, dtype: float64"
      ]
     },
     "execution_count": 79,
     "metadata": {},
     "output_type": "execute_result"
    }
   ],
   "source": [
    "dummies_loans.skew()"
   ]
  },
  {
   "cell_type": "code",
   "execution_count": 80,
   "metadata": {},
   "outputs": [
    {
     "data": {
      "text/plain": [
       "Text(0, 0.5, 'debt_settlement_flag_Y')"
      ]
     },
     "execution_count": 80,
     "metadata": {},
     "output_type": "execute_result"
    },
    {
     "data": {
      "image/png": "[encoded data removed]",
      "text/plain": [
       "<Figure size 432x288 with 1 Axes>"
      ]
     },
     "metadata": {
      "needs_background": "light"
     },
     "output_type": "display_data"
    }
   ],
   "source": [
    "sns.distplot(dummies_loans['total_rec_int'], hist=True, kde=False, \n",
    "             bins=int(180/5), color = 'blue',\n",
    "             hist_kws={'edgecolor':'black'})\n",
    "# Add labels\n",
    "plt.title('total_rec_int')\n",
    "plt.xlabel('total_rec_int')\n",
    "plt.ylabel('debt_settlement_flag_Y')"
   ]
  },
  {
   "cell_type": "code",
   "execution_count": null,
   "metadata": {},
   "outputs": [],
   "source": [
    "#q4(2)"
   ]
  },
  {
   "cell_type": "code",
   "execution_count": 81,
   "metadata": {},
   "outputs": [
    {
     "name": "stderr",
     "output_type": "stream",
     "text": [
      "/Users/apple/anaconda3/lib/python3.6/site-packages/ipykernel_launcher.py:9: RuntimeWarning: invalid value encountered in log\n",
      "  if __name__ == '__main__':\n"
     ]
    },
    {
     "ename": "NameError",
     "evalue": "name 'loss_total' is not defined",
     "output_type": "error",
     "traceback": [
      "\u001b[0;31m---------------------------------------------------------------------------\u001b[0m",
      "\u001b[0;31mNameError\u001b[0m                                 Traceback (most recent call last)",
      "\u001b[0;32m<ipython-input-81-30441074315a>\u001b[0m in \u001b[0;36m<module>\u001b[0;34m\u001b[0m\n\u001b[1;32m     18\u001b[0m \u001b[0minit_beta\u001b[0m \u001b[0;34m=\u001b[0m \u001b[0;34m[\u001b[0m\u001b[0;36m1\u001b[0m\u001b[0;34m,\u001b[0m\u001b[0;36m1\u001b[0m\u001b[0;34m,\u001b[0m\u001b[0;36m1\u001b[0m\u001b[0;34m]\u001b[0m\u001b[0;34m\u001b[0m\u001b[0;34m\u001b[0m\u001b[0m\n\u001b[1;32m     19\u001b[0m \u001b[0malpha\u001b[0m \u001b[0;34m=\u001b[0m \u001b[0;36m0.001\u001b[0m\u001b[0;34m\u001b[0m\u001b[0;34m\u001b[0m\u001b[0m\n\u001b[0;32m---> 20\u001b[0;31m \u001b[0mmyLogisticGD\u001b[0m\u001b[0;34m(\u001b[0m\u001b[0mX_loans\u001b[0m\u001b[0;34m,\u001b[0m\u001b[0my_loans\u001b[0m\u001b[0;34m,\u001b[0m\u001b[0minit_beta\u001b[0m\u001b[0;34m,\u001b[0m\u001b[0malpha\u001b[0m\u001b[0;34m,\u001b[0m\u001b[0mnumIterations\u001b[0m\u001b[0;34m)\u001b[0m\u001b[0;34m\u001b[0m\u001b[0;34m\u001b[0m\u001b[0m\n\u001b[0m\u001b[1;32m     21\u001b[0m \u001b[0;34m\u001b[0m\u001b[0m\n",
      "\u001b[0;32m<ipython-input-81-30441074315a>\u001b[0m in \u001b[0;36mmyLogisticGD\u001b[0;34m(x, y, beta, alpha, numIterations)\u001b[0m\n\u001b[1;32m      8\u001b[0m         \u001b[0mloss_temp\u001b[0m \u001b[0;34m=\u001b[0m \u001b[0mmodel_0\u001b[0m \u001b[0;34m-\u001b[0m \u001b[0my\u001b[0m\u001b[0;34m\u001b[0m\u001b[0;34m\u001b[0m\u001b[0m\n\u001b[1;32m      9\u001b[0m         \u001b[0mloss\u001b[0m \u001b[0;34m=\u001b[0m \u001b[0;34m-\u001b[0m\u001b[0;36m1\u001b[0m\u001b[0;34m/\u001b[0m\u001b[0mlen\u001b[0m\u001b[0;34m(\u001b[0m\u001b[0mx\u001b[0m\u001b[0;34m)\u001b[0m\u001b[0;34m*\u001b[0m\u001b[0mnp\u001b[0m\u001b[0;34m.\u001b[0m\u001b[0msum\u001b[0m\u001b[0;34m(\u001b[0m\u001b[0;34m(\u001b[0m\u001b[0my\u001b[0m\u001b[0;34m*\u001b[0m\u001b[0mnp\u001b[0m\u001b[0;34m.\u001b[0m\u001b[0mlog\u001b[0m\u001b[0;34m(\u001b[0m\u001b[0mmodel_0\u001b[0m\u001b[0;34m)\u001b[0m\u001b[0;34m+\u001b[0m\u001b[0;34m(\u001b[0m\u001b[0;36m1\u001b[0m\u001b[0;34m-\u001b[0m\u001b[0my\u001b[0m\u001b[0;34m)\u001b[0m\u001b[0;34m*\u001b[0m\u001b[0mnp\u001b[0m\u001b[0;34m.\u001b[0m\u001b[0mlog\u001b[0m\u001b[0;34m(\u001b[0m\u001b[0;36m1\u001b[0m\u001b[0;34m-\u001b[0m\u001b[0mmodel_0\u001b[0m\u001b[0;34m)\u001b[0m\u001b[0;34m)\u001b[0m\u001b[0;34m)\u001b[0m\u001b[0;34m\u001b[0m\u001b[0;34m\u001b[0m\u001b[0m\n\u001b[0;32m---> 10\u001b[0;31m         \u001b[0mloss_total\u001b[0m\u001b[0;34m[\u001b[0m\u001b[0mi\u001b[0m\u001b[0;34m]\u001b[0m\u001b[0;34m=\u001b[0m \u001b[0mloss\u001b[0m\u001b[0;34m\u001b[0m\u001b[0;34m\u001b[0m\u001b[0m\n\u001b[0m\u001b[1;32m     11\u001b[0m         \u001b[0mgradient\u001b[0m \u001b[0;34m=\u001b[0m \u001b[0mnp\u001b[0m\u001b[0;34m.\u001b[0m\u001b[0mdot\u001b[0m\u001b[0;34m(\u001b[0m\u001b[0mxTrans\u001b[0m\u001b[0;34m,\u001b[0m \u001b[0mloss_temp\u001b[0m\u001b[0;34m)\u001b[0m \u001b[0;34m/\u001b[0m\u001b[0mlen\u001b[0m\u001b[0;34m(\u001b[0m\u001b[0mx\u001b[0m\u001b[0;34m)\u001b[0m\u001b[0;34m\u001b[0m\u001b[0;34m\u001b[0m\u001b[0m\n\u001b[1;32m     12\u001b[0m         \u001b[0mbeta\u001b[0m \u001b[0;34m=\u001b[0m \u001b[0mbeta\u001b[0m \u001b[0;34m-\u001b[0m \u001b[0malpha\u001b[0m \u001b[0;34m*\u001b[0m \u001b[0mgradient\u001b[0m\u001b[0;34m\u001b[0m\u001b[0;34m\u001b[0m\u001b[0m\n",
      "\u001b[0;31mNameError\u001b[0m: name 'loss_total' is not defined"
     ]
    }
   ],
   "source": [
    "def sigmoid(x):\n",
    "    return 1/(1+exp(-x))\n",
    "\n",
    "def myLogisticGD(x, y, beta,alpha,numIterations):\n",
    "    \n",
    "    x_add_one=np.column_stack((x,np.ones(len(x))))\n",
    "    xTrans = x_add_one.transpose()\n",
    "    for i in range(0, numIterations):\n",
    "        model_0 = np.dot(x_add_one, beta)\n",
    "        loss_temp = model_0 - y\n",
    "        loss = -1/len(x)*np.sum((y*np.log(model_0)+(1-y)*np.log(1-model_0)))\n",
    "        loss_total[i]= loss\n",
    "        gradient = np.dot(xTrans, loss_temp) /len(x)\n",
    "        beta = beta - alpha * gradient\n",
    "        beta_total[i,:]=beta.transpose()\n",
    "    return beta\n",
    "    \n",
    "    \n",
    "X_loans = loans[['annual_inc','int_rate']]\n",
    "y_loans = pd.get_dummies(loans['debt_settlement_flag'],drop_first=True).iloc[:,0]\n",
    "numIterations = 5000\n",
    "init_beta = [1,1,1]\n",
    "alpha = 0.001\n",
    "\n",
    "loss_total= np.zeros((numIterations,1))\n",
    "beta_total= np.zeros((numIterations,3))\n",
    "\n",
    "myLogisticGD(X_loans,y_loans,init_beta,alpha,numIterations)\n",
    "\n"
   ]
  },
  {
   "cell_type": "code",
   "execution_count": null,
   "metadata": {},
   "outputs": [],
   "source": [
    "fig1 = plt.figure()\n",
    "plt.plot(loss_total, label = \"Loss fucntion\")\n",
    "plt.plot(beta_total[:,0], label = \"Beta0\")\n",
    "plt.plot(beta_total[:,1], label = \"Beta1\")\n",
    "plt.legend(loc=\"upper right\")\n",
    "plt.xlabel(\"Number of iteration\")\n"
   ]
  },
  {
   "cell_type": "code",
   "execution_count": null,
   "metadata": {},
   "outputs": [],
   "source": []
  },
  {
   "cell_type": "code",
   "execution_count": null,
   "metadata": {},
   "outputs": [],
   "source": [
    "#q3\n"
   ]
  },
  {
   "cell_type": "code",
   "execution_count": null,
   "metadata": {},
   "outputs": [],
   "source": []
  }
 ],
 "metadata": {
  "kernelspec": {
   "display_name": "Python 3",
   "language": "python",
   "name": "python3"
  },
  "language_info": {
   "codemirror_mode": {
    "name": "ipython",
    "version": 3
   },
   "file_extension": ".py",
   "mimetype": "text/x-python",
   "name": "python",
   "nbconvert_exporter": "python",
   "pygments_lexer": "ipython3",
   "version": "3.6.8"
  }
 },
 "nbformat": 4,
 "nbformat_minor": 2
}
