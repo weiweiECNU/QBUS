{
 "cells": [
  {
   "cell_type": "markdown",
   "metadata": {},
   "source": [
    "<center><h1>QBUS6850 - Machine Learning for Business</h1></center>\n",
    "\n",
    "# Tutorial 1 - Getting Started\n",
    "\n",
    "## Getting Started\n",
    "\n",
    "First open Anaconda Navigator then click the “Launch” button for Spyder\n",
    "\n",
    "<img width=400 src=\"img/navigator.png\">\n",
    "\n",
    "Spyder will open to the following screen\n",
    "\n",
    "<img width=400 src=\"img/spyder.png\">"
   ]
  },
  {
   "cell_type": "markdown",
   "metadata": {},
   "source": [
    "##Hello World\n",
    "\n",
    "Python is an interpreted language. This means each piece of code is executed directly without previously compiling the code to a machine-readable format.\n",
    "\n",
    "In other words, Python can be used interactively!\n",
    "\n",
    "In the Console at the Console at the bottom right of the Spyder you can type"
   ]
  },
  {
   "cell_type": "code",
   "execution_count": 1,
   "metadata": {},
   "outputs": [
    {
     "name": "stdout",
     "output_type": "stream",
     "text": [
      "Hello World!\n"
     ]
    }
   ],
   "source": [
    "print(\"Hello World!\")"
   ]
  },
  {
   "cell_type": "markdown",
   "metadata": {},
   "source": [
    "**TIP**: You can check the state of variables in your current workspace by using the “Variable Explorer” in Spyder in the top right window pane.\n",
    "\n",
    "You can define your own data types via Python’s “Class” mechanism, which we will cover later.\n",
    "\n",
    "##Python Scripts\n",
    "\n",
    "So far you’ve used the interactive console. The console is great for quick testing and checking variables but for more complex tasks it would be better to store your code so that you can use or run it later.\n",
    "\n",
    "Let’s create a Python script. A Python script is just a text file that contains Python code, which Python will read and execute line by line.\n",
    "\n",
    "In Spyder go to File > New File. This will create a new empty Python script in the Script Editor (left pane of Spyder).\n",
    "\n",
    "In the file add some Python code at the end. For example, the Hello World print function.\n",
    "\n",
    "Then click the green Run (play icon). The output will be displayed on the console. From now on we will work with Python Scripts.\n",
    "\n",
    "<img src=\"img/scripts.png\">"
   ]
  },
  {
   "cell_type": "markdown",
   "metadata": {
    "collapsed": true
   },
   "source": [
    "## Lists\n",
    "\n",
    "Lists are a way to store an ordered collection of variables or objects. Let’s create a list and store it in the variable my_list."
   ]
  },
  {
   "cell_type": "code",
   "execution_count": 12,
   "metadata": {},
   "outputs": [
    {
     "name": "stdout",
     "output_type": "stream",
     "text": [
      "[1, 2, 4, 8, 16]\n"
     ]
    }
   ],
   "source": [
    "my_list = [1, 2, 4, 8, 16]\n",
    "print(my_list)"
   ]
  },
  {
   "cell_type": "markdown",
   "metadata": {},
   "source": [
    "List items can be accessed by their index. Python uses zero-indexing which means the first item starts at 0.\n",
    "\n",
    "Print the value of the first item:"
   ]
  },
  {
   "cell_type": "code",
   "execution_count": 13,
   "metadata": {},
   "outputs": [
    {
     "name": "stdout",
     "output_type": "stream",
     "text": [
      "1\n"
     ]
    }
   ],
   "source": [
    "print(my_list[0])"
   ]
  },
  {
   "cell_type": "markdown",
   "metadata": {},
   "source": [
    "To add items to the list you can use the append function"
   ]
  },
  {
   "cell_type": "code",
   "execution_count": 14,
   "metadata": {
    "collapsed": true
   },
   "outputs": [],
   "source": [
    "my_list.append(32)"
   ]
  },
  {
   "cell_type": "markdown",
   "metadata": {},
   "source": [
    "To find out how many items are in the list use the len function"
   ]
  },
  {
   "cell_type": "code",
   "execution_count": 15,
   "metadata": {},
   "outputs": [
    {
     "name": "stdout",
     "output_type": "stream",
     "text": [
      "6\n"
     ]
    }
   ],
   "source": [
    "print(len(my_list))"
   ]
  },
  {
   "cell_type": "markdown",
   "metadata": {},
   "source": [
    "To create an empty list, you can use the list constructor function then append items later"
   ]
  },
  {
   "cell_type": "code",
   "execution_count": 16,
   "metadata": {},
   "outputs": [
    {
     "name": "stdout",
     "output_type": "stream",
     "text": [
      "[10, 12]\n"
     ]
    }
   ],
   "source": [
    "my_new_list = list()\n",
    "\n",
    "my_new_list.append(10)\n",
    "my_new_list.append(12)\n",
    "\n",
    "print(my_new_list)"
   ]
  },
  {
   "cell_type": "markdown",
   "metadata": {},
   "source": [
    "## User Input\n",
    "\n",
    "The code we have used so far always does the same thing. Useful real code acts on input data. One way to get this data is directly from the user.\n",
    "\n",
    "Let’s capture the user’s name and display a welcome message:"
   ]
  },
  {
   "cell_type": "code",
   "execution_count": null,
   "metadata": {
    "collapsed": true
   },
   "outputs": [],
   "source": [
    "# Python 3\n",
    "name = input(\"Enter your name:\")\n",
    "\n",
    "print(\"Welcome \" + name)"
   ]
  },
  {
   "cell_type": "markdown",
   "metadata": {},
   "source": [
    "The type of variable name is a string.\n",
    "\n",
    "### Python 2.7\n",
    "\n",
    "In Python 2.7 input returns an integer automatically. To read a string you will need to use raw_input like so"
   ]
  },
  {
   "cell_type": "code",
   "execution_count": null,
   "metadata": {
    "collapsed": true
   },
   "outputs": [],
   "source": [
    "# Python 2.7\n",
    "name = raw_input(\"Enter your name:\")\n",
    "\n",
    "print(\"Welcome \" + name)"
   ]
  },
  {
   "cell_type": "markdown",
   "metadata": {},
   "source": [
    "## Comments\n",
    "\n",
    "As your program gets more complicated you may want to add some notes to your code to help you remember what your code does or to explain to others who are using your code later.\n",
    "\n",
    "In Python everything to the right hand side of a # symbol is considered a comment and is ignored by Python. Try modifying your input code:"
   ]
  },
  {
   "cell_type": "code",
   "execution_count": null,
   "metadata": {
    "collapsed": true
   },
   "outputs": [],
   "source": [
    "# Capture the user name\n",
    "name = input(\"Enter a number:\")\n",
    "\n",
    "print(\"Welcome “ + name)"
   ]
  },
  {
   "cell_type": "markdown",
   "metadata": {},
   "source": [
    "**TIP**: Comments can also be used to quickly disable specific lines of code.\n",
    "\n",
    "Multi line comments can be created by wrapping your comment in a pair of triple quotation marks like so"
   ]
  },
  {
   "cell_type": "code",
   "execution_count": null,
   "metadata": {
    "collapsed": true
   },
   "outputs": [],
   "source": [
    "\"\"\"\n",
    "This is\n",
    "a\n",
    "multi line\n",
    "comment\n",
    "\"\"\" "
   ]
  },
  {
   "cell_type": "markdown",
   "metadata": {},
   "source": [
    "## Conditionals\n",
    "\n",
    "So far when we press Run the code has been executed line by line. But what about if we want to execute a different piece of code based on the current state or value of a variable?\n",
    "\n",
    "This is where the conditional statements if, elif and else come into play. These statements allow us to branch the execution path."
   ]
  },
  {
   "cell_type": "code",
   "execution_count": null,
   "metadata": {
    "collapsed": true
   },
   "outputs": [],
   "source": [
    "# Accept input, then convert input string to integer\n",
    "input_number = int(input(\"Enter a number:\"))\n",
    "\n",
    "if input_number > 3:\n",
    "    print(\"number is greater than 3\")\n",
    "elif input_number == 3:\n",
    "    print(\"number is equal to 3\")\n",
    "else:\n",
    "    print(\"number is less than 3\")"
   ]
  },
  {
   "cell_type": "markdown",
   "metadata": {},
   "source": [
    "**Tip**: The input function waits to the user to enter a string that ends in a return or new line character. The int function converts the input string to an integer.\n",
    "\n",
    "##Loops\n",
    "\n",
    "A fundamental component of computer programming is iteration. In other words the ability to do repeated tasks.\n",
    "\n",
    "In Python we do this using loops. There are two types of loops:\n",
    "•\tFor loop\n",
    "•\tWhile loop\n",
    "\n",
    "Let’s start with an example of the For loop by iterating over our list of numbers that we created earlier and printing their values"
   ]
  },
  {
   "cell_type": "code",
   "execution_count": null,
   "metadata": {
    "collapsed": true
   },
   "outputs": [],
   "source": [
    "for number in my_list:\n",
    "    print(number)"
   ]
  },
  {
   "cell_type": "markdown",
   "metadata": {},
   "source": [
    "You can also use list indexing to do the same thing. Try this"
   ]
  },
  {
   "cell_type": "code",
   "execution_count": null,
   "metadata": {
    "collapsed": true
   },
   "outputs": [],
   "source": [
    "for i in range(len(my_list)):\n",
    "    print(my_list[i])"
   ]
  },
  {
   "cell_type": "markdown",
   "metadata": {},
   "source": [
    "While loops are a little more complicated. They continue iterating until a conditional statement becomes false. Try the following"
   ]
  },
  {
   "cell_type": "code",
   "execution_count": null,
   "metadata": {
    "collapsed": true
   },
   "outputs": [],
   "source": [
    "count = 0\n",
    "while (count < len(my_list)):\n",
    "    print(my_list[count])\n",
    "    count = count + 1"
   ]
  },
  {
   "cell_type": "markdown",
   "metadata": {},
   "source": [
    "Tip: Be careful with loops (particularly while loops) as you may accidentally create an infinite loop which Python can’t escape from. You will need to quit Spyder to stop an infinite loop.\n",
    "\n",
    "## Functions\n",
    "\n",
    "Functions in Python (and other programming languages) are based on functions from mathematics. They encapsulate a piece of repeated functionality and they allow optional input and produce optional output.\n",
    "\n",
    "Functions are a great way to divide your code into reusable building blocks, which makes your code more readable and may save you time and effort.\n",
    "\n",
    "Try this example"
   ]
  },
  {
   "cell_type": "code",
   "execution_count": null,
   "metadata": {
    "collapsed": true
   },
   "outputs": [],
   "source": [
    "def add(a, b):\n",
    "    return a + b\n",
    "\n",
    "c = add(10, 5)\n",
    "print(c)"
   ]
  },
  {
   "cell_type": "markdown",
   "metadata": {},
   "source": [
    "The function called “add” has a two parameters which we called “a” and “b”. Inside the function Python will replace each occurrence of the parameters with the values that we specified.\n",
    "\n",
    "**TIP**: def keyword means “define”\n",
    "\n",
    "## String Formatting\n",
    "\n",
    "A common task you may encounter is outputting strings that are nicely formatted. You can use the format function of string objects to help you.\n",
    "\n",
    "The format function scans the input string for curly braces “{ }”. Each curly brace has a number. This number is an index into the parameter list of the format function. In this example {0} corresponds to “name” and {1} corresponds to age."
   ]
  },
  {
   "cell_type": "code",
   "execution_count": null,
   "metadata": {
    "collapsed": true
   },
   "outputs": [],
   "source": [
    "year = int(input(\"Enter your birth year: \"))\n",
    "\n",
    "age = 2017 - year\n",
    "\n",
    "fancy_string = \"Hi {0}, you are {1} years old\".format(name, age)\n",
    "\n",
    "print(fancy_string)"
   ]
  },
  {
   "cell_type": "markdown",
   "metadata": {},
   "source": [
    "**TIPS**:\n",
    "- The . (dot) syntax calls a function belonging to that object. In this example we are calling the “format” function belonging to the string object.\n",
    "- The format function replaces occurrences of numbered curly braces with corresponding parameter values.\n",
    "\n",
    "## Classes and Objects\n",
    "\n",
    "An object is a container that represents a “thing”. Inside the container there are:\n",
    "- Functions\n",
    "- Attributes\n",
    "\n",
    "Imagine we want to represent a person in our program. We might define a “person” class. People have attributes like age, height, weight, name etc. They also “do” things, in other words they have functionality. Some function examples might be: eat, sleep, walk and study.\n",
    "\n",
    "Lets look at a more practical example: a customer’s bank account. We need to keep track of the balance and which customer it belongs to. We also need to be able to withdraw and deposit money.\n"
   ]
  },
  {
   "cell_type": "code",
   "execution_count": null,
   "metadata": {
    "collapsed": true
   },
   "outputs": [],
   "source": [
    "class Customer(object):\n",
    "    #A bank customer\n",
    "    \n",
    "    def __init__(self, name, balance):\n",
    "        self.name = name\n",
    "        self.balance = balance\n",
    "    \n",
    "    def __str__(self):\n",
    "        return \"Account for {0}, balance of {1}\".format(self.name, self.balance)\n",
    "    \n",
    "    def widthdraw(self, amount):\n",
    "        self.balance = self.balance - amount\n",
    "        return self.balance\n",
    "    \n",
    "    def deposit(self, amount):\n",
    "        self.balance = self.balance + amount\n",
    "        return self.balance"
   ]
  },
  {
   "cell_type": "markdown",
   "metadata": {},
   "source": [
    "**TIP**: The functions that start and end with double underscores (\\__) are special functions in Python. The \\__init\\__ function (initialize) is called the class constructor. It gets called when you create the object. The \\__str\\__ function (string) is called when printing the object.\n",
    "\n",
    "Create an instance of the customer class by calling the constructor and specifying a name (use your own name) and starting balance"
   ]
  },
  {
   "cell_type": "code",
   "execution_count": null,
   "metadata": {
    "collapsed": true
   },
   "outputs": [],
   "source": [
    "new_customer = Customer(\"Steve\", 1000.00)"
   ]
  },
  {
   "cell_type": "markdown",
   "metadata": {},
   "source": [
    "You can then access the attributes of the object by using the dot notation. "
   ]
  },
  {
   "cell_type": "code",
   "execution_count": null,
   "metadata": {
    "collapsed": true
   },
   "outputs": [],
   "source": [
    "print(new_customer.balance)\n",
    "print(new_customer.name)"
   ]
  },
  {
   "cell_type": "markdown",
   "metadata": {},
   "source": [
    "We have also explicitly define the string function so you can try"
   ]
  },
  {
   "cell_type": "code",
   "execution_count": null,
   "metadata": {
    "collapsed": true
   },
   "outputs": [],
   "source": [
    "print(new_customer)"
   ]
  },
  {
   "cell_type": "markdown",
   "metadata": {},
   "source": [
    "Accessing the functions of an object is much the same"
   ]
  },
  {
   "cell_type": "code",
   "execution_count": null,
   "metadata": {
    "collapsed": true
   },
   "outputs": [],
   "source": [
    "new_customer.widthdraw(100)\n",
    "\n",
    "print(new_customer.balance)"
   ]
  },
  {
   "cell_type": "markdown",
   "metadata": {},
   "source": [
    "More info at https://docs.python.org/3/tutorial/classes.html"
   ]
  }
 ],
 "metadata": {
  "kernelspec": {
   "display_name": "Python 3",
   "language": "python",
   "name": "python3"
  },
  "language_info": {
   "codemirror_mode": {
    "name": "ipython",
    "version": 3
   },
   "file_extension": ".py",
   "mimetype": "text/x-python",
   "name": "python",
   "nbconvert_exporter": "python",
   "pygments_lexer": "ipython3",
   "version": "3.6.4"
  }
 },
 "nbformat": 4,
 "nbformat_minor": 2
}
