{
 "cells": [
  {
   "cell_type": "markdown",
   "metadata": {},
   "source": [
    "Load the data"
   ]
  },
  {
   "cell_type": "code",
   "execution_count": 4,
   "metadata": {},
   "outputs": [
    {
     "data": {
      "text/html": [
       "<div>\n",
       "<style>\n",
       "    .dataframe thead tr:only-child th {\n",
       "        text-align: right;\n",
       "    }\n",
       "\n",
       "    .dataframe thead th {\n",
       "        text-align: left;\n",
       "    }\n",
       "\n",
       "    .dataframe tbody tr th {\n",
       "        vertical-align: top;\n",
       "    }\n",
       "</style>\n",
       "<table border=\"1\" class=\"dataframe\">\n",
       "  <thead>\n",
       "    <tr style=\"text-align: right;\">\n",
       "      <th>stock</th>\n",
       "      <th>AA</th>\n",
       "      <th>AXP</th>\n",
       "      <th>BA</th>\n",
       "      <th>BAC</th>\n",
       "      <th>CAT</th>\n",
       "      <th>CSCO</th>\n",
       "      <th>CVX</th>\n",
       "      <th>DD</th>\n",
       "      <th>DIS</th>\n",
       "      <th>GE</th>\n",
       "      <th>...</th>\n",
       "      <th>MRK</th>\n",
       "      <th>MSFT</th>\n",
       "      <th>PFE</th>\n",
       "      <th>PG</th>\n",
       "      <th>T</th>\n",
       "      <th>TRV</th>\n",
       "      <th>UTX</th>\n",
       "      <th>VZ</th>\n",
       "      <th>WMT</th>\n",
       "      <th>XOM</th>\n",
       "    </tr>\n",
       "    <tr>\n",
       "      <th>date</th>\n",
       "      <th></th>\n",
       "      <th></th>\n",
       "      <th></th>\n",
       "      <th></th>\n",
       "      <th></th>\n",
       "      <th></th>\n",
       "      <th></th>\n",
       "      <th></th>\n",
       "      <th></th>\n",
       "      <th></th>\n",
       "      <th></th>\n",
       "      <th></th>\n",
       "      <th></th>\n",
       "      <th></th>\n",
       "      <th></th>\n",
       "      <th></th>\n",
       "      <th></th>\n",
       "      <th></th>\n",
       "      <th></th>\n",
       "      <th></th>\n",
       "      <th></th>\n",
       "    </tr>\n",
       "  </thead>\n",
       "  <tbody>\n",
       "    <tr>\n",
       "      <th>1/14/2011</th>\n",
       "      <td>15.97</td>\n",
       "      <td>46.25</td>\n",
       "      <td>70.07</td>\n",
       "      <td>15.25</td>\n",
       "      <td>94.01</td>\n",
       "      <td>21.21</td>\n",
       "      <td>92.83</td>\n",
       "      <td>49.80</td>\n",
       "      <td>39.29</td>\n",
       "      <td>18.82</td>\n",
       "      <td>...</td>\n",
       "      <td>34.23</td>\n",
       "      <td>28.30</td>\n",
       "      <td>18.34</td>\n",
       "      <td>65.53</td>\n",
       "      <td>28.43</td>\n",
       "      <td>54.63</td>\n",
       "      <td>79.08</td>\n",
       "      <td>35.46</td>\n",
       "      <td>54.81</td>\n",
       "      <td>77.84</td>\n",
       "    </tr>\n",
       "    <tr>\n",
       "      <th>1/21/2011</th>\n",
       "      <td>15.79</td>\n",
       "      <td>46.00</td>\n",
       "      <td>71.68</td>\n",
       "      <td>14.25</td>\n",
       "      <td>92.75</td>\n",
       "      <td>20.72</td>\n",
       "      <td>93.78</td>\n",
       "      <td>48.35</td>\n",
       "      <td>39.74</td>\n",
       "      <td>19.74</td>\n",
       "      <td>...</td>\n",
       "      <td>33.90</td>\n",
       "      <td>28.02</td>\n",
       "      <td>18.36</td>\n",
       "      <td>65.91</td>\n",
       "      <td>28.33</td>\n",
       "      <td>55.00</td>\n",
       "      <td>80.20</td>\n",
       "      <td>34.95</td>\n",
       "      <td>55.73</td>\n",
       "      <td>78.98</td>\n",
       "    </tr>\n",
       "    <tr>\n",
       "      <th>1/28/2011</th>\n",
       "      <td>16.13</td>\n",
       "      <td>43.86</td>\n",
       "      <td>69.23</td>\n",
       "      <td>13.60</td>\n",
       "      <td>95.68</td>\n",
       "      <td>20.93</td>\n",
       "      <td>93.37</td>\n",
       "      <td>50.29</td>\n",
       "      <td>38.85</td>\n",
       "      <td>20.20</td>\n",
       "      <td>...</td>\n",
       "      <td>33.07</td>\n",
       "      <td>27.75</td>\n",
       "      <td>18.15</td>\n",
       "      <td>64.20</td>\n",
       "      <td>27.49</td>\n",
       "      <td>55.81</td>\n",
       "      <td>81.43</td>\n",
       "      <td>35.63</td>\n",
       "      <td>56.70</td>\n",
       "      <td>78.99</td>\n",
       "    </tr>\n",
       "    <tr>\n",
       "      <th>1/7/2011</th>\n",
       "      <td>16.42</td>\n",
       "      <td>44.36</td>\n",
       "      <td>69.38</td>\n",
       "      <td>14.25</td>\n",
       "      <td>93.73</td>\n",
       "      <td>20.97</td>\n",
       "      <td>91.19</td>\n",
       "      <td>49.76</td>\n",
       "      <td>39.45</td>\n",
       "      <td>18.43</td>\n",
       "      <td>...</td>\n",
       "      <td>37.35</td>\n",
       "      <td>28.60</td>\n",
       "      <td>18.34</td>\n",
       "      <td>64.50</td>\n",
       "      <td>28.85</td>\n",
       "      <td>53.33</td>\n",
       "      <td>79.08</td>\n",
       "      <td>35.93</td>\n",
       "      <td>54.08</td>\n",
       "      <td>75.59</td>\n",
       "    </tr>\n",
       "    <tr>\n",
       "      <th>2/11/2011</th>\n",
       "      <td>17.37</td>\n",
       "      <td>46.75</td>\n",
       "      <td>72.14</td>\n",
       "      <td>14.77</td>\n",
       "      <td>103.54</td>\n",
       "      <td>18.70</td>\n",
       "      <td>96.45</td>\n",
       "      <td>54.58</td>\n",
       "      <td>43.41</td>\n",
       "      <td>21.33</td>\n",
       "      <td>...</td>\n",
       "      <td>33.07</td>\n",
       "      <td>27.25</td>\n",
       "      <td>18.83</td>\n",
       "      <td>64.73</td>\n",
       "      <td>28.47</td>\n",
       "      <td>58.99</td>\n",
       "      <td>85.20</td>\n",
       "      <td>36.39</td>\n",
       "      <td>55.69</td>\n",
       "      <td>82.82</td>\n",
       "    </tr>\n",
       "  </tbody>\n",
       "</table>\n",
       "<p>5 rows × 30 columns</p>\n",
       "</div>"
      ],
      "text/plain": [
       "stock         AA    AXP     BA    BAC     CAT   CSCO    CVX     DD    DIS  \\\n",
       "date                                                                        \n",
       "1/14/2011  15.97  46.25  70.07  15.25   94.01  21.21  92.83  49.80  39.29   \n",
       "1/21/2011  15.79  46.00  71.68  14.25   92.75  20.72  93.78  48.35  39.74   \n",
       "1/28/2011  16.13  43.86  69.23  13.60   95.68  20.93  93.37  50.29  38.85   \n",
       "1/7/2011   16.42  44.36  69.38  14.25   93.73  20.97  91.19  49.76  39.45   \n",
       "2/11/2011  17.37  46.75  72.14  14.77  103.54  18.70  96.45  54.58  43.41   \n",
       "\n",
       "stock         GE  ...      MRK   MSFT    PFE     PG      T    TRV    UTX  \\\n",
       "date              ...                                                      \n",
       "1/14/2011  18.82  ...    34.23  28.30  18.34  65.53  28.43  54.63  79.08   \n",
       "1/21/2011  19.74  ...    33.90  28.02  18.36  65.91  28.33  55.00  80.20   \n",
       "1/28/2011  20.20  ...    33.07  27.75  18.15  64.20  27.49  55.81  81.43   \n",
       "1/7/2011   18.43  ...    37.35  28.60  18.34  64.50  28.85  53.33  79.08   \n",
       "2/11/2011  21.33  ...    33.07  27.25  18.83  64.73  28.47  58.99  85.20   \n",
       "\n",
       "stock         VZ    WMT    XOM  \n",
       "date                            \n",
       "1/14/2011  35.46  54.81  77.84  \n",
       "1/21/2011  34.95  55.73  78.98  \n",
       "1/28/2011  35.63  56.70  78.99  \n",
       "1/7/2011   35.93  54.08  75.59  \n",
       "2/11/2011  36.39  55.69  82.82  \n",
       "\n",
       "[5 rows x 30 columns]"
      ]
     },
     "execution_count": 4,
     "metadata": {},
     "output_type": "execute_result"
    }
   ],
   "source": [
    "import numpy as np\n",
    "import pandas as pd\n",
    "import matplotlib.pyplot as plt\n",
    "\n",
    "from sklearn.decomposition import NMF\n",
    "\n",
    "from sklearn.cluster import KMeans\n",
    "\n",
    "from sklearn.metrics import r2_score\n",
    "\n",
    "import warnings\n",
    "warnings.simplefilter('ignore')\n",
    "\n",
    "np.random.seed(0)\n",
    "\n",
    "dow_jones = pd.read_csv(\"dow_jones_index.data\")\n",
    "\n",
    "V = dow_jones.pivot(index = \"stock\", columns = \"date\", values = \"close\")\n",
    "\n",
    "V = V.replace('[\\$,]', '', regex=True).astype(float)\n",
    "\n",
    "V = V.T\n",
    "V.head()"
   ]
  },
  {
   "cell_type": "markdown",
   "metadata": {},
   "source": [
    "Loop over values for the number of components/latent features.\n",
    "\n",
    "Inside the outer loop we repeat the experiment 30 or so times to get an average reading of the r2 score. NMF uses random initialisation so we can sometimes get odd results."
   ]
  },
  {
   "cell_type": "code",
   "execution_count": 5,
   "metadata": {},
   "outputs": [
    {
     "name": "stdout",
     "output_type": "stream",
     "text": [
      "Running...\n",
      "Done\n"
     ]
    }
   ],
   "source": [
    "k_range = [int(k) for k in np.linspace(1, 30, 30)]\n",
    "\n",
    "error_list = list()\n",
    "\n",
    "n_tests = 30\n",
    "\n",
    "print(\"Running...\")\n",
    "\n",
    "for i in k_range:\n",
    "\n",
    "    local_scores = list()\n",
    "    \n",
    "    for j in range(n_tests):\n",
    "    \n",
    "        model = NMF(n_components=i, init='random', max_iter=10000)\n",
    "    \n",
    "        W = model.fit_transform(V)\n",
    "    \n",
    "        H = model.components_\n",
    "        \n",
    "        reco = np.dot(W, H)\n",
    "        \n",
    "        error = r2_score(V, reco)\n",
    "        \n",
    "        local_scores.append(error)\n",
    "    \n",
    "    error_list.append(np.sum(local_scores)/n_tests)\n",
    "\n",
    "print(\"Done\")"
   ]
  },
  {
   "cell_type": "markdown",
   "metadata": {},
   "source": [
    "Plot the average r2 wrt to the number of latent features"
   ]
  },
  {
   "cell_type": "code",
   "execution_count": 6,
   "metadata": {},
   "outputs": [
    {
     "data": {
      "image/png": "[encoded data removed]",
      "text/plain": [
       "<matplotlib.figure.Figure at 0x10f4e19e8>"
      ]
     },
     "execution_count": 6,
     "metadata": {},
     "output_type": "execute_result"
    }
   ],
   "source": [
    "fig = plt.figure()\n",
    "plt.plot(error_list)\n",
    "fig"
   ]
  },
  {
   "cell_type": "markdown",
   "metadata": {},
   "source": [
    "Plot the difference of r2 (see where biggest changes in r2 are)"
   ]
  },
  {
   "cell_type": "code",
   "execution_count": 7,
   "metadata": {},
   "outputs": [
    {
     "data": {
      "image/png": "[encoded data removed]",
      "text/plain": [
       "<matplotlib.figure.Figure at 0x1129904e0>"
      ]
     },
     "execution_count": 7,
     "metadata": {},
     "output_type": "execute_result"
    }
   ],
   "source": [
    "d = np.diff(error_list)\n",
    "fig = plt.figure()\n",
    "plt.plot(d)\n",
    "fig"
   ]
  },
  {
   "cell_type": "markdown",
   "metadata": {},
   "source": [
    "Use the elbow method to pick the optimal number of components and then display the cluster assignment"
   ]
  },
  {
   "cell_type": "code",
   "execution_count": 8,
   "metadata": {},
   "outputs": [
    {
     "name": "stdout",
     "output_type": "stream",
     "text": [
      "Optimal Number of Components: 2\n",
      "Stock group 0: ['AA', 'AXP', 'BAC', 'CSCO', 'DD', 'DIS', 'GE', 'HD', 'HPQ', 'INTC', 'JNJ', 'JPM', 'KO', 'KRFT', 'MRK', 'MSFT', 'PFE', 'PG', 'T', 'TRV', 'VZ', 'WMT']\n",
      "Stock group 1: ['BA', 'CAT', 'CVX', 'IBM', 'MCD', 'MMM', 'UTX', 'XOM']\n"
     ]
    }
   ],
   "source": [
    "# Use elbow method\n",
    "best_k = k_range[np.argmax(d) + 1]\n",
    "\n",
    "model = NMF(n_components=best_k, init='random', max_iter=10000)\n",
    "W = model.fit_transform(V)\n",
    "H = model.components_\n",
    "\n",
    "print(\"Optimal Number of Components: {0}\".format(best_k))\n",
    "\n",
    "# kmeans treats row as training example, so transpose H\n",
    "kmeans = KMeans(n_clusters=best_k, random_state=0).fit(H.T)\n",
    "# generate clustering labels for each training example\n",
    "labels = kmeans.labels_\n",
    "\n",
    "groups = [list() for i in range(best_k)]\n",
    "\n",
    "for i in range(len(labels)):\n",
    "    g = labels[i]\n",
    "    groups[g].append(V.columns[i])\n",
    "\n",
    "for i in range(len(groups)):\n",
    "    print(\"Stock group {0}: \".format(i) + str(groups[i]))"
   ]
  },
  {
   "cell_type": "markdown",
   "metadata": {},
   "source": [
    "Use the min explained variance method"
   ]
  },
  {
   "cell_type": "code",
   "execution_count": 9,
   "metadata": {},
   "outputs": [
    {
     "name": "stdout",
     "output_type": "stream",
     "text": [
      "Optimal Number of Components: 9\n",
      "Stock group 0: ['BA', 'JNJ', 'MMM', 'WMT']\n",
      "Stock group 1: ['BAC', 'GE', 'HD', 'KRFT', 'MRK', 'PFE', 'T']\n",
      "Stock group 2: ['IBM']\n",
      "Stock group 3: ['CSCO', 'KO', 'MSFT']\n",
      "Stock group 4: ['XOM']\n",
      "Stock group 5: ['CAT', 'HPQ', 'JPM', 'VZ']\n",
      "Stock group 6: ['AA', 'AXP', 'DD', 'DIS', 'INTC', 'TRV']\n",
      "Stock group 7: ['CVX', 'UTX']\n",
      "Stock group 8: ['MCD', 'PG']\n"
     ]
    }
   ],
   "source": [
    "min_var = 0.95\n",
    "valid_k_inds = [i for i, v in enumerate(error_list) if v >= min_var]\n",
    "\n",
    "best_k = k_range[valid_k_inds[0]]\n",
    "\n",
    "model = NMF(n_components=best_k, init='random', max_iter=10000)\n",
    "W = model.fit_transform(V)\n",
    "H = model.components_\n",
    "\n",
    "print(\"Optimal Number of Components: {0}\".format(best_k))\n",
    "\n",
    "# kmeans treats row as training example, so transpose H\n",
    "kmeans = KMeans(n_clusters=best_k, random_state=0).fit(H.T)\n",
    "# generate clustering labels for each training example\n",
    "labels = kmeans.labels_\n",
    "\n",
    "groups = [list() for i in range(best_k)]\n",
    "\n",
    "for i in range(len(labels)):\n",
    "    g = labels[i]\n",
    "    groups[g].append(V.columns[i])\n",
    "\n",
    "for i in range(len(groups)):\n",
    "    print(\"Stock group {0}: \".format(i) + str(groups[i]))"
   ]
  },
  {
   "cell_type": "code",
   "execution_count": null,
   "metadata": {
    "collapsed": true
   },
   "outputs": [],
   "source": []
  }
 ],
 "metadata": {
  "kernelspec": {
   "display_name": "Python 2",
   "language": "python",
   "name": "python2"
  },
  "language_info": {
   "codemirror_mode": {
    "name": "ipython",
    "version": 2
   },
   "file_extension": ".py",
   "mimetype": "text/x-python",
   "name": "python",
   "nbconvert_exporter": "python",
   "pygments_lexer": "ipython2",
   "version": "2.7.13"
  }
 },
 "nbformat": 4,
 "nbformat_minor": 2
}
