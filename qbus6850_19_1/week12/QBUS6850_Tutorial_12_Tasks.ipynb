{
 "cells": [
  {
   "cell_type": "markdown",
   "metadata": {},
   "source": [
    "<center><h1>QBUS6850 - Machine Learning for Business</h1></center>\n",
    "\n",
    "# Tutorial 9 - Optimising Number of Basis Vectors\n",
    "\n",
    "Using the Dow Jones Industrial Average data (dow_jones_index.data), perform a market movement analysis and determine the optimal number of basis vectors to represent the data with.\n",
    "\n",
    "## Task 1 - Using SVD\n",
    "\n",
    "Use the SVD and the elbow method to find the optimal number of components.\n",
    "\n",
    "## Task 2 - Using $R^2$\n",
    "\n",
    "2. Loop over a range of component/latent vector sizes (try 1 - 30)\n",
    "3. Within each number of components fit a NMF model multiple times and calculate the R2 score for each fit\n",
    "4. Calculate the average R2 score for each number of components\n",
    "\n",
    "Then determine the optimal number of components by\n",
    "1. the elbow method\n",
    "2. finding the number of components at which the R2 > 0.95\n",
    "\n",
    "## Task 3 - Using Cross Validation\n",
    "\n",
    "Adapt your solution from Task 1 and use cross validation to estimate the optimal number of components.\n",
    "\n",
    "Inside your inner loop you will need to add a third loop to iterate over the cross validation fold.\n",
    "\n",
    "For each fold you need to estimate $\\mathbf W$ on the training set. Then calculate $\\mathbf H^*$ using linear regression on the validation set."
   ]
  },
  {
   "cell_type": "code",
   "execution_count": null,
   "metadata": {
    "collapsed": true
   },
   "outputs": [],
   "source": []
  }
 ],
 "metadata": {
  "kernelspec": {
   "display_name": "Python 2",
   "language": "python",
   "name": "python2"
  },
  "language_info": {
   "codemirror_mode": {
    "name": "ipython",
    "version": 2
   },
   "file_extension": ".py",
   "mimetype": "text/x-python",
   "name": "python",
   "nbconvert_exporter": "python",
   "pygments_lexer": "ipython2",
   "version": "2.7.13"
  }
 },
 "nbformat": 4,
 "nbformat_minor": 2
}
