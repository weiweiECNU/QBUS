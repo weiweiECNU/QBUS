{
 "cells": [
  {
   "cell_type": "markdown",
   "metadata": {},
   "source": [
    "<center><h1>QBUS6850 - Machine Learning for Business</h1></center>\n",
    "\n",
    "# Tutorial 12 - Matrix Factorisation\n",
    "\n",
    "## NMF (or NNMF)\n",
    "\n",
    "It is important to understand that NMF does not produce a unique solution or recover the original generative process exactly. This is because there exists a large number of basis vector and coefficent pairs that can reconstruct the data.\n",
    "\n",
    "Below I illustrate a synthetic situation to illustrate this point.\n",
    "\n",
    "However please keep in mind that you can influence the solution towards a unique solution. For example in spectral signal recovery we can apply temporal smoothness regularisation or sparsity on the coefficients. \n",
    "\n",
    "**Note**: in the lecture slides the data matrices $\\mathbf X$ or $\\mathbf V$ are assumed to have features as rows and observations as columns, as in Lee and Seung (1999), Gillis (2014). However in sklearn.decomposition. NMF the matrices are assumed to have observations as rows and features as columns. \n",
    "\n",
    "This actually does not matter and will not affect our interpretation. Python only knows the we have a input matrix and then does the NMF decomposition. We can define the meanings of rows and columns, and just use the output $\\mathbf W$ and $\\mathbf H$ from Python and use the interpretations in the lecture slides.\n",
    "\n",
    "More specifically, our interpretation:\n",
    "\n",
    "$\\mathbf V$: shape (n_features, n_samples). Data matrix to be decomposed\n",
    "\n",
    "$\\mathbf W$: shape (n_features, n_components)\n",
    "\n",
    "$\\mathbf H$: shape (n_components, n_samples)\n",
    "\n",
    "sklearn.decomposition.NMF:\n",
    "\n",
    "$\\mathbf X$: shape (n_samples, n_features). Data matrix to be decomposed\n",
    "\n",
    "$\\mathbf W$: shape (n_samples, n_components)\n",
    "\n",
    "$\\mathbf H$: shape (n_components, n_features)\n"
   ]
  },
  {
   "cell_type": "code",
   "execution_count": 1,
   "metadata": {
    "collapsed": true
   },
   "outputs": [],
   "source": [
    "import numpy as np\n",
    "import pandas as pd\n",
    "from sklearn.decomposition import NMF\n",
    "\n",
    "# 100 (features) x 200 (examples) = 100 x 5 by 5 x 200\n",
    "n_features= 100\n",
    "n_examples = 200\n",
    "r = 5\n",
    "\n",
    "# Low-rank basis (orthogonal columns)\n",
    "basis_w = np.dot(np.random.rand(n_features, r), np.random.rand(r, r))\n",
    "\n",
    "# Random coefficients\n",
    "coefs_h = np.random.rand(r, n_examples)\n",
    "# Note here V has rows as features and columns as examples,\n",
    "# This is consitent as Lecture notations, so we use the same W and H interpretations as in the lecture slides.\n",
    "V = np.dot(basis_w, coefs_h)\n",
    "\n",
    "model = NMF(n_components=r, init='random', random_state=0)"
   ]
  },
  {
   "cell_type": "markdown",
   "metadata": {},
   "source": [
    "Calling fit_transform will calculate the NMF decomposition and return the basis $\\mathbf W$."
   ]
  },
  {
   "cell_type": "code",
   "execution_count": 2,
   "metadata": {},
   "outputs": [
    {
     "name": "stdout",
     "output_type": "stream",
     "text": [
      "(100L, 5L)\n"
     ]
    }
   ],
   "source": [
    "W = model.fit_transform(V)\n",
    "\n",
    "print(W.shape)"
   ]
  },
  {
   "cell_type": "markdown",
   "metadata": {},
   "source": [
    "To obtain the coefficients $\\mathbf H$"
   ]
  },
  {
   "cell_type": "code",
   "execution_count": 3,
   "metadata": {},
   "outputs": [
    {
     "name": "stdout",
     "output_type": "stream",
     "text": [
      "(5L, 200L)\n"
     ]
    }
   ],
   "source": [
    "H = model.components_\n",
    "\n",
    "print(H.shape)"
   ]
  },
  {
   "cell_type": "markdown",
   "metadata": {},
   "source": [
    "Let's check how accurately we can reconstruct the original data.\n",
    "\n",
    "Increasing number of components will increase accuracy of reconstruction."
   ]
  },
  {
   "cell_type": "code",
   "execution_count": 4,
   "metadata": {},
   "outputs": [
    {
     "name": "stdout",
     "output_type": "stream",
     "text": [
      "0.0145070689741\n"
     ]
    }
   ],
   "source": [
    "reco = np.dot(W, H)\n",
    "\n",
    "diff = V - reco\n",
    "\n",
    "print(np.linalg.norm(diff) / np.linalg.norm(V))"
   ]
  },
  {
   "cell_type": "markdown",
   "metadata": {},
   "source": [
    "Then we can compare the true basis matrix and estimated basis matrix. Note that they are very different!"
   ]
  },
  {
   "cell_type": "code",
   "execution_count": 5,
   "metadata": {},
   "outputs": [
    {
     "data": {
      "text/html": [
       "<div>\n",
       "<style>\n",
       "    .dataframe thead tr:only-child th {\n",
       "        text-align: right;\n",
       "    }\n",
       "\n",
       "    .dataframe thead th {\n",
       "        text-align: left;\n",
       "    }\n",
       "\n",
       "    .dataframe tbody tr th {\n",
       "        vertical-align: top;\n",
       "    }\n",
       "</style>\n",
       "<table border=\"1\" class=\"dataframe\">\n",
       "  <thead>\n",
       "    <tr style=\"text-align: right;\">\n",
       "      <th></th>\n",
       "      <th>0</th>\n",
       "      <th>1</th>\n",
       "      <th>2</th>\n",
       "      <th>3</th>\n",
       "      <th>4</th>\n",
       "    </tr>\n",
       "  </thead>\n",
       "  <tbody>\n",
       "    <tr>\n",
       "      <th>0</th>\n",
       "      <td>1.995204</td>\n",
       "      <td>1.522131</td>\n",
       "      <td>0.994174</td>\n",
       "      <td>1.633033</td>\n",
       "      <td>1.182603</td>\n",
       "    </tr>\n",
       "    <tr>\n",
       "      <th>1</th>\n",
       "      <td>1.666269</td>\n",
       "      <td>1.214805</td>\n",
       "      <td>1.087798</td>\n",
       "      <td>1.287419</td>\n",
       "      <td>0.911327</td>\n",
       "    </tr>\n",
       "    <tr>\n",
       "      <th>2</th>\n",
       "      <td>1.094726</td>\n",
       "      <td>0.712140</td>\n",
       "      <td>0.841214</td>\n",
       "      <td>0.626191</td>\n",
       "      <td>0.398900</td>\n",
       "    </tr>\n",
       "    <tr>\n",
       "      <th>3</th>\n",
       "      <td>1.516873</td>\n",
       "      <td>1.236088</td>\n",
       "      <td>0.684810</td>\n",
       "      <td>1.313989</td>\n",
       "      <td>1.112113</td>\n",
       "    </tr>\n",
       "    <tr>\n",
       "      <th>4</th>\n",
       "      <td>2.052779</td>\n",
       "      <td>1.480544</td>\n",
       "      <td>1.153964</td>\n",
       "      <td>1.786859</td>\n",
       "      <td>0.880630</td>\n",
       "    </tr>\n",
       "  </tbody>\n",
       "</table>\n",
       "</div>"
      ],
      "text/plain": [
       "          0         1         2         3         4\n",
       "0  1.995204  1.522131  0.994174  1.633033  1.182603\n",
       "1  1.666269  1.214805  1.087798  1.287419  0.911327\n",
       "2  1.094726  0.712140  0.841214  0.626191  0.398900\n",
       "3  1.516873  1.236088  0.684810  1.313989  1.112113\n",
       "4  2.052779  1.480544  1.153964  1.786859  0.880630"
      ]
     },
     "execution_count": 5,
     "metadata": {},
     "output_type": "execute_result"
    }
   ],
   "source": [
    "pd.DataFrame(basis_w).head()"
   ]
  },
  {
   "cell_type": "markdown",
   "metadata": {},
   "source": [
    "Estimated basis matrix"
   ]
  },
  {
   "cell_type": "code",
   "execution_count": 6,
   "metadata": {},
   "outputs": [
    {
     "data": {
      "text/html": [
       "<div>\n",
       "<style>\n",
       "    .dataframe thead tr:only-child th {\n",
       "        text-align: right;\n",
       "    }\n",
       "\n",
       "    .dataframe thead th {\n",
       "        text-align: left;\n",
       "    }\n",
       "\n",
       "    .dataframe tbody tr th {\n",
       "        vertical-align: top;\n",
       "    }\n",
       "</style>\n",
       "<table border=\"1\" class=\"dataframe\">\n",
       "  <thead>\n",
       "    <tr style=\"text-align: right;\">\n",
       "      <th></th>\n",
       "      <th>0</th>\n",
       "      <th>1</th>\n",
       "      <th>2</th>\n",
       "      <th>3</th>\n",
       "      <th>4</th>\n",
       "    </tr>\n",
       "  </thead>\n",
       "  <tbody>\n",
       "    <tr>\n",
       "      <th>0</th>\n",
       "      <td>2.280222</td>\n",
       "      <td>1.571746</td>\n",
       "      <td>0.830152</td>\n",
       "      <td>0.182706</td>\n",
       "      <td>0.877273</td>\n",
       "    </tr>\n",
       "    <tr>\n",
       "      <th>1</th>\n",
       "      <td>1.505232</td>\n",
       "      <td>0.991041</td>\n",
       "      <td>0.750181</td>\n",
       "      <td>0.695102</td>\n",
       "      <td>0.756007</td>\n",
       "    </tr>\n",
       "    <tr>\n",
       "      <th>2</th>\n",
       "      <td>0.543697</td>\n",
       "      <td>0.248191</td>\n",
       "      <td>0.453040</td>\n",
       "      <td>0.923328</td>\n",
       "      <td>0.501885</td>\n",
       "    </tr>\n",
       "    <tr>\n",
       "      <th>3</th>\n",
       "      <td>1.916538</td>\n",
       "      <td>1.365104</td>\n",
       "      <td>0.704914</td>\n",
       "      <td>0.000000</td>\n",
       "      <td>0.648246</td>\n",
       "    </tr>\n",
       "    <tr>\n",
       "      <th>4</th>\n",
       "      <td>1.886373</td>\n",
       "      <td>1.197557</td>\n",
       "      <td>0.706303</td>\n",
       "      <td>0.770894</td>\n",
       "      <td>1.068180</td>\n",
       "    </tr>\n",
       "  </tbody>\n",
       "</table>\n",
       "</div>"
      ],
      "text/plain": [
       "          0         1         2         3         4\n",
       "0  2.280222  1.571746  0.830152  0.182706  0.877273\n",
       "1  1.505232  0.991041  0.750181  0.695102  0.756007\n",
       "2  0.543697  0.248191  0.453040  0.923328  0.501885\n",
       "3  1.916538  1.365104  0.704914  0.000000  0.648246\n",
       "4  1.886373  1.197557  0.706303  0.770894  1.068180"
      ]
     },
     "execution_count": 6,
     "metadata": {},
     "output_type": "execute_result"
    }
   ],
   "source": [
    "pd.DataFrame(W).head()"
   ]
  },
  {
   "cell_type": "markdown",
   "metadata": {},
   "source": [
    "## Market Movement Analysis\n",
    "\n",
    "One of the powerful applications of NNMF is clustering via the underlying generative process.\n",
    "\n",
    "This is in contrast to traditional clustering methods such as k-means. These traditional clustering methods rely on vector distance metrics. This usually leads to clustering of stocks that are of a similar price.\n",
    "\n",
    "However what we are usually more interested in is \"which stocks move together?\".\n",
    "\n",
    "By performing NNMF we can produce a set of basis vectors and coefficients. The basis vectors can be roughly interpreted as unknown factors that affect the stock price. The coefficients of each stock are then treated as a similarity. In other words if stocks have similar coefficient patterns then they will likely move together.\n",
    "\n",
    "So the process is to perform NNMF and then cluster stocks based on their coefficients.\n",
    "\n",
    "In this example we look at the 30 component stocks of the Dow Jones Industrial Average over 25 weeks."
   ]
  },
  {
   "cell_type": "markdown",
   "metadata": {},
   "source": [
    "### Note V transpose has rows as dates (features) and columns as stocks (examples)\n",
    "### Then V transpose is used for NMF algorithm"
   ]
  },
  {
   "cell_type": "code",
   "execution_count": 7,
   "metadata": {},
   "outputs": [
    {
     "data": {
      "text/html": [
       "<div>\n",
       "<style>\n",
       "    .dataframe thead tr:only-child th {\n",
       "        text-align: right;\n",
       "    }\n",
       "\n",
       "    .dataframe thead th {\n",
       "        text-align: left;\n",
       "    }\n",
       "\n",
       "    .dataframe tbody tr th {\n",
       "        vertical-align: top;\n",
       "    }\n",
       "</style>\n",
       "<table border=\"1\" class=\"dataframe\">\n",
       "  <thead>\n",
       "    <tr style=\"text-align: right;\">\n",
       "      <th>stock</th>\n",
       "      <th>AA</th>\n",
       "      <th>AXP</th>\n",
       "      <th>BA</th>\n",
       "      <th>BAC</th>\n",
       "      <th>CAT</th>\n",
       "      <th>CSCO</th>\n",
       "      <th>CVX</th>\n",
       "      <th>DD</th>\n",
       "      <th>DIS</th>\n",
       "      <th>GE</th>\n",
       "      <th>...</th>\n",
       "      <th>MRK</th>\n",
       "      <th>MSFT</th>\n",
       "      <th>PFE</th>\n",
       "      <th>PG</th>\n",
       "      <th>T</th>\n",
       "      <th>TRV</th>\n",
       "      <th>UTX</th>\n",
       "      <th>VZ</th>\n",
       "      <th>WMT</th>\n",
       "      <th>XOM</th>\n",
       "    </tr>\n",
       "    <tr>\n",
       "      <th>date</th>\n",
       "      <th></th>\n",
       "      <th></th>\n",
       "      <th></th>\n",
       "      <th></th>\n",
       "      <th></th>\n",
       "      <th></th>\n",
       "      <th></th>\n",
       "      <th></th>\n",
       "      <th></th>\n",
       "      <th></th>\n",
       "      <th></th>\n",
       "      <th></th>\n",
       "      <th></th>\n",
       "      <th></th>\n",
       "      <th></th>\n",
       "      <th></th>\n",
       "      <th></th>\n",
       "      <th></th>\n",
       "      <th></th>\n",
       "      <th></th>\n",
       "      <th></th>\n",
       "    </tr>\n",
       "  </thead>\n",
       "  <tbody>\n",
       "    <tr>\n",
       "      <th>1/14/2011</th>\n",
       "      <td>15.97</td>\n",
       "      <td>46.25</td>\n",
       "      <td>70.07</td>\n",
       "      <td>15.25</td>\n",
       "      <td>94.01</td>\n",
       "      <td>21.21</td>\n",
       "      <td>92.83</td>\n",
       "      <td>49.80</td>\n",
       "      <td>39.29</td>\n",
       "      <td>18.82</td>\n",
       "      <td>...</td>\n",
       "      <td>34.23</td>\n",
       "      <td>28.30</td>\n",
       "      <td>18.34</td>\n",
       "      <td>65.53</td>\n",
       "      <td>28.43</td>\n",
       "      <td>54.63</td>\n",
       "      <td>79.08</td>\n",
       "      <td>35.46</td>\n",
       "      <td>54.81</td>\n",
       "      <td>77.84</td>\n",
       "    </tr>\n",
       "    <tr>\n",
       "      <th>1/21/2011</th>\n",
       "      <td>15.79</td>\n",
       "      <td>46.00</td>\n",
       "      <td>71.68</td>\n",
       "      <td>14.25</td>\n",
       "      <td>92.75</td>\n",
       "      <td>20.72</td>\n",
       "      <td>93.78</td>\n",
       "      <td>48.35</td>\n",
       "      <td>39.74</td>\n",
       "      <td>19.74</td>\n",
       "      <td>...</td>\n",
       "      <td>33.90</td>\n",
       "      <td>28.02</td>\n",
       "      <td>18.36</td>\n",
       "      <td>65.91</td>\n",
       "      <td>28.33</td>\n",
       "      <td>55.00</td>\n",
       "      <td>80.20</td>\n",
       "      <td>34.95</td>\n",
       "      <td>55.73</td>\n",
       "      <td>78.98</td>\n",
       "    </tr>\n",
       "    <tr>\n",
       "      <th>1/28/2011</th>\n",
       "      <td>16.13</td>\n",
       "      <td>43.86</td>\n",
       "      <td>69.23</td>\n",
       "      <td>13.60</td>\n",
       "      <td>95.68</td>\n",
       "      <td>20.93</td>\n",
       "      <td>93.37</td>\n",
       "      <td>50.29</td>\n",
       "      <td>38.85</td>\n",
       "      <td>20.20</td>\n",
       "      <td>...</td>\n",
       "      <td>33.07</td>\n",
       "      <td>27.75</td>\n",
       "      <td>18.15</td>\n",
       "      <td>64.20</td>\n",
       "      <td>27.49</td>\n",
       "      <td>55.81</td>\n",
       "      <td>81.43</td>\n",
       "      <td>35.63</td>\n",
       "      <td>56.70</td>\n",
       "      <td>78.99</td>\n",
       "    </tr>\n",
       "    <tr>\n",
       "      <th>1/7/2011</th>\n",
       "      <td>16.42</td>\n",
       "      <td>44.36</td>\n",
       "      <td>69.38</td>\n",
       "      <td>14.25</td>\n",
       "      <td>93.73</td>\n",
       "      <td>20.97</td>\n",
       "      <td>91.19</td>\n",
       "      <td>49.76</td>\n",
       "      <td>39.45</td>\n",
       "      <td>18.43</td>\n",
       "      <td>...</td>\n",
       "      <td>37.35</td>\n",
       "      <td>28.60</td>\n",
       "      <td>18.34</td>\n",
       "      <td>64.50</td>\n",
       "      <td>28.85</td>\n",
       "      <td>53.33</td>\n",
       "      <td>79.08</td>\n",
       "      <td>35.93</td>\n",
       "      <td>54.08</td>\n",
       "      <td>75.59</td>\n",
       "    </tr>\n",
       "    <tr>\n",
       "      <th>2/11/2011</th>\n",
       "      <td>17.37</td>\n",
       "      <td>46.75</td>\n",
       "      <td>72.14</td>\n",
       "      <td>14.77</td>\n",
       "      <td>103.54</td>\n",
       "      <td>18.70</td>\n",
       "      <td>96.45</td>\n",
       "      <td>54.58</td>\n",
       "      <td>43.41</td>\n",
       "      <td>21.33</td>\n",
       "      <td>...</td>\n",
       "      <td>33.07</td>\n",
       "      <td>27.25</td>\n",
       "      <td>18.83</td>\n",
       "      <td>64.73</td>\n",
       "      <td>28.47</td>\n",
       "      <td>58.99</td>\n",
       "      <td>85.20</td>\n",
       "      <td>36.39</td>\n",
       "      <td>55.69</td>\n",
       "      <td>82.82</td>\n",
       "    </tr>\n",
       "  </tbody>\n",
       "</table>\n",
       "<p>5 rows × 30 columns</p>\n",
       "</div>"
      ],
      "text/plain": [
       "stock         AA    AXP     BA    BAC     CAT   CSCO    CVX     DD    DIS  \\\n",
       "date                                                                        \n",
       "1/14/2011  15.97  46.25  70.07  15.25   94.01  21.21  92.83  49.80  39.29   \n",
       "1/21/2011  15.79  46.00  71.68  14.25   92.75  20.72  93.78  48.35  39.74   \n",
       "1/28/2011  16.13  43.86  69.23  13.60   95.68  20.93  93.37  50.29  38.85   \n",
       "1/7/2011   16.42  44.36  69.38  14.25   93.73  20.97  91.19  49.76  39.45   \n",
       "2/11/2011  17.37  46.75  72.14  14.77  103.54  18.70  96.45  54.58  43.41   \n",
       "\n",
       "stock         GE  ...      MRK   MSFT    PFE     PG      T    TRV    UTX  \\\n",
       "date              ...                                                      \n",
       "1/14/2011  18.82  ...    34.23  28.30  18.34  65.53  28.43  54.63  79.08   \n",
       "1/21/2011  19.74  ...    33.90  28.02  18.36  65.91  28.33  55.00  80.20   \n",
       "1/28/2011  20.20  ...    33.07  27.75  18.15  64.20  27.49  55.81  81.43   \n",
       "1/7/2011   18.43  ...    37.35  28.60  18.34  64.50  28.85  53.33  79.08   \n",
       "2/11/2011  21.33  ...    33.07  27.25  18.83  64.73  28.47  58.99  85.20   \n",
       "\n",
       "stock         VZ    WMT    XOM  \n",
       "date                            \n",
       "1/14/2011  35.46  54.81  77.84  \n",
       "1/21/2011  34.95  55.73  78.98  \n",
       "1/28/2011  35.63  56.70  78.99  \n",
       "1/7/2011   35.93  54.08  75.59  \n",
       "2/11/2011  36.39  55.69  82.82  \n",
       "\n",
       "[5 rows x 30 columns]"
      ]
     },
     "execution_count": 7,
     "metadata": {},
     "output_type": "execute_result"
    }
   ],
   "source": [
    "from sklearn.cluster import KMeans\n",
    "\n",
    "np.random.seed(0)\n",
    "\n",
    "dow_jones = pd.read_csv(\"dow_jones_index.data\")\n",
    "\n",
    "V = dow_jones.pivot(index = \"stock\", columns = \"date\", values = \"close\")\n",
    "\n",
    "V = V.replace('[\\$,]', '', regex=True).astype(float)\n",
    "# V transpose has rows as dates (features) and columns as stocks (examples)\n",
    "V= V.T\n",
    "V.head()"
   ]
  },
  {
   "cell_type": "code",
   "execution_count": 8,
   "metadata": {},
   "outputs": [
    {
     "data": {
      "image/png": "[encoded data removed]",
      "text/plain": [
       "<matplotlib.figure.Figure at 0xbaa5ba8>"
      ]
     },
     "execution_count": 8,
     "metadata": {},
     "output_type": "execute_result"
    }
   ],
   "source": [
    "import matplotlib.pyplot as plt\n",
    "\n",
    "# Plot individual stock prices\n",
    "fig1 = plt.figure()\n",
    "\n",
    "plt.plot(V.values)\n",
    "fig1"
   ]
  },
  {
   "cell_type": "code",
   "execution_count": 9,
   "metadata": {
    "collapsed": true
   },
   "outputs": [],
   "source": [
    "model = NMF(n_components=5, init='random', random_state=0, max_iter=10000)"
   ]
  },
  {
   "cell_type": "code",
   "execution_count": 10,
   "metadata": {},
   "outputs": [
    {
     "name": "stdout",
     "output_type": "stream",
     "text": [
      "(25L, 5L)\n"
     ]
    }
   ],
   "source": [
    "W = model.fit_transform(V)\n",
    "\n",
    "print(W.shape)"
   ]
  },
  {
   "cell_type": "code",
   "execution_count": 11,
   "metadata": {},
   "outputs": [
    {
     "name": "stdout",
     "output_type": "stream",
     "text": [
      "(5L, 30L)\n"
     ]
    }
   ],
   "source": [
    "H = model.components_\n",
    "\n",
    "print(H.shape)"
   ]
  },
  {
   "cell_type": "markdown",
   "metadata": {},
   "source": [
    "Group stocks by their cluster assignment for interpretation.Or cluster stocks based on their coefficients."
   ]
  },
  {
   "cell_type": "code",
   "execution_count": 12,
   "metadata": {},
   "outputs": [
    {
     "name": "stdout",
     "output_type": "stream",
     "text": [
      "Stock group 0: ['AA', 'AXP', 'DD', 'DIS', 'GE', 'HD', 'INTC', 'KRFT', 'MRK', 'PFE', 'T', 'VZ', 'WMT']\n",
      "Stock group 1: ['CAT']\n",
      "Stock group 2: ['JNJ', 'KO', 'MCD', 'PG']\n",
      "Stock group 3: ['IBM']\n",
      "Stock group 4: ['BA', 'TRV', 'UTX']\n",
      "Stock group 5: ['BAC', 'CSCO', 'HPQ', 'JPM', 'MSFT']\n",
      "Stock group 6: ['CVX', 'MMM', 'XOM']\n"
     ]
    }
   ],
   "source": [
    "# kmeans treats row as training example, so transpose H\n",
    "kmeans = KMeans(n_clusters=7, random_state=0).fit(H.T)\n",
    "# generate clustering labels for each training example\n",
    "labels = kmeans.labels_\n",
    "\n",
    "groups = [list() for i in range(7)]\n",
    "\n",
    "for i in range(len(labels)):\n",
    "    g = labels[i]\n",
    "    groups[g].append(V.columns[i])\n",
    "\n",
    "for i in range(len(groups)):\n",
    "    print(\"Stock group {0}: \".format(i) + str(groups[i]))"
   ]
  },
  {
   "cell_type": "markdown",
   "metadata": {},
   "source": [
    "## Topic Modelling/Extraction\n",
    "\n",
    "Given a collection of documents we can use NMF to automatically find words (features) which are most relevant to each topic (basis vector).\n",
    "\n",
    "The number of topics is controlled by the number of basis vectors.\n",
    "\n",
    "In this example we will use the twenty newsgroup dataset to find 10 topics and the most important words in those topics."
   ]
  },
  {
   "cell_type": "code",
   "execution_count": 13,
   "metadata": {
    "collapsed": true
   },
   "outputs": [],
   "source": [
    "from sklearn.feature_extraction.text import TfidfVectorizer\n",
    "from sklearn.datasets import fetch_20newsgroups\n",
    "\n",
    "n_samples = 2000\n",
    "n_features = 1000\n",
    "n_components = 10\n",
    "\n",
    "dataset = fetch_20newsgroups(shuffle=True, random_state=1, remove=('headers', 'footers', 'quotes'))\n",
    "\n",
    "data_samples = dataset.data[:n_samples]"
   ]
  },
  {
   "cell_type": "markdown",
   "metadata": {},
   "source": [
    "Build a tfidf representation that removes stop words and filters out words that occur in 95% of documents"
   ]
  },
  {
   "cell_type": "markdown",
   "metadata": {},
   "source": [
    "### Still we transpose the data so that we have rows as features (1000) and columns as samples (2000)\n",
    "### Then tfidf transpose is used for NMF algorithm"
   ]
  },
  {
   "cell_type": "code",
   "execution_count": 14,
   "metadata": {},
   "outputs": [
    {
     "name": "stdout",
     "output_type": "stream",
     "text": [
      "(1000, 2000)\n"
     ]
    }
   ],
   "source": [
    "tfidf_vectorizer = TfidfVectorizer(max_df=0.95, min_df=2, max_features=n_features, stop_words='english')\n",
    "tfidf = tfidf_vectorizer.fit_transform(data_samples)\n",
    "\n",
    "# Transpose the data so that we have rows as features (1000) and columns as samples (2000)\n",
    "tfidf= tfidf.T\n",
    "print(tfidf.shape)"
   ]
  },
  {
   "cell_type": "markdown",
   "metadata": {},
   "source": [
    "Each column of $\\mathbf W$ represents one topic: 10 topics in total"
   ]
  },
  {
   "cell_type": "code",
   "execution_count": 15,
   "metadata": {},
   "outputs": [
    {
     "data": {
      "text/plain": [
       "(1000L, 10L)"
      ]
     },
     "execution_count": 15,
     "metadata": {},
     "output_type": "execute_result"
    }
   ],
   "source": [
    "nmf = NMF(n_components=n_components, init='random', random_state=0, max_iter=10000)\n",
    "W = nmf.fit_transform(tfidf)\n",
    "W.shape"
   ]
  },
  {
   "cell_type": "markdown",
   "metadata": {},
   "source": [
    "Display the top 15 words in each topic (10 topics in total)"
   ]
  },
  {
   "cell_type": "code",
   "execution_count": 16,
   "metadata": {},
   "outputs": [
    {
     "name": "stdout",
     "output_type": "stream",
     "text": [
      "Topic #0: just don like think ve got sure really good ll know way use look want\n",
      "Topic #1: edu soon com send university internet ftp mail mit information article pub cc address email\n",
      "Topic #2: drive drives hard card disk software floppy pc mac apple computer power scsi controller memory\n",
      "Topic #3: windows file dos using program use window files problem help os application running drivers version\n",
      "Topic #4: thanks know does mail advance hi info interested anybody email looking help appreciated card information\n",
      "Topic #5: people did time government law israel said say rights state right make let case evidence\n",
      "Topic #6: game team year games win play season players nhl runs toronto flyers division goal hockey\n",
      "Topic #7: key chip clipper keys encryption government use public phone secure enforcement nsa data doesn law\n",
      "Topic #8: god jesus bible faith does christian christians christ believe life heaven sin lord church religion\n",
      "Topic #9: car new 00 bike 10 price cars sale good power engine year space condition miles\n"
     ]
    }
   ],
   "source": [
    "def print_top_words(model, feature_names, n_top_words):\n",
    "    for topic_idx, topic in enumerate(W.T):\n",
    "        message = \"Topic #%d: \" % topic_idx\n",
    "        message += \" \".join([feature_names[i]\n",
    "                             for i in topic.argsort()[:-n_top_words - 1:-1]])\n",
    "        print(message)\n",
    "\n",
    "        \n",
    "n_top_words = 15\n",
    "\n",
    "tfidf_feature_names = tfidf_vectorizer.get_feature_names()\n",
    "print_top_words(nmf, tfidf_feature_names, n_top_words)"
   ]
  },
  {
   "cell_type": "markdown",
   "metadata": {
    "collapsed": true
   },
   "source": [
    "## Face Feature Extraction.\n",
    "\n",
    "This example is from the lecture. We can extract image features for applications such as compression and feature engineering."
   ]
  },
  {
   "cell_type": "markdown",
   "metadata": {},
   "source": [
    "### Still transpose the data so that we have rows as features (1850) and columns as samples (1288)"
   ]
  },
  {
   "cell_type": "code",
   "execution_count": 17,
   "metadata": {
    "collapsed": true
   },
   "outputs": [],
   "source": [
    "from sklearn.datasets import fetch_lfw_people\n",
    "\n",
    "lfw_people = fetch_lfw_people(min_faces_per_person=70, resize=0.4)\n",
    "\n",
    "# Images in the LFW dataset are 50*37 pixels in size.\n",
    "# Therefore 1850 features in total.\n",
    "# n_samples is the number of images\n",
    "\n",
    "n_samples, a, b = lfw_people.images.shape\n",
    "V = lfw_people.data\n",
    "# Transpose the data so that we have rows as features (1850) and columns as samples (1288)\n",
    "V= V.T"
   ]
  },
  {
   "cell_type": "markdown",
   "metadata": {},
   "source": [
    "Display an example face (1st face of the input). Note here each column represents one face image."
   ]
  },
  {
   "cell_type": "code",
   "execution_count": 18,
   "metadata": {},
   "outputs": [
    {
     "data": {
      "image/png": "[encoded data removed]",
      "text/plain": [
       "<matplotlib.figure.Figure at 0xf79e860>"
      ]
     },
     "execution_count": 18,
     "metadata": {},
     "output_type": "execute_result"
    }
   ],
   "source": [
    "fig = plt.figure()\n",
    "plt.imshow(V[:,1].reshape((a, b)), cmap=plt.cm.gray)\n",
    "fig"
   ]
  },
  {
   "cell_type": "markdown",
   "metadata": {},
   "source": [
    "Let's do a NNMF decomposition with 50 basis vectors"
   ]
  },
  {
   "cell_type": "code",
   "execution_count": 19,
   "metadata": {
    "collapsed": true
   },
   "outputs": [],
   "source": [
    "model = NMF(n_components=50, init='random', random_state=0)\n",
    "\n",
    "W = model.fit_transform(V)\n",
    "\n",
    "H = model.components_"
   ]
  },
  {
   "cell_type": "markdown",
   "metadata": {},
   "source": [
    "Visualise the basis vectors"
   ]
  },
  {
   "cell_type": "code",
   "execution_count": 20,
   "metadata": {},
   "outputs": [
    {
     "data": {
      "image/png": "[encoded data removed]",
      "text/plain": [
       "<matplotlib.figure.Figure at 0x1d1bb8d0>"
      ]
     },
     "execution_count": 20,
     "metadata": {},
     "output_type": "execute_result"
    }
   ],
   "source": [
    "fig, axarr = plt.subplots(5, 10, figsize=(8, 6))\n",
    "\n",
    "axarr_list = np.ravel(axarr)\n",
    "\n",
    "for i in range(50):\n",
    "    # each coolumn of W represent one basis vector\n",
    "    axarr_list[i].imshow(W[:,i].reshape((a, b)), cmap=plt.cm.gray)\n",
    "    axarr_list[i].axis('off')\n",
    "fig   "
   ]
  },
  {
   "cell_type": "markdown",
   "metadata": {},
   "source": [
    "Check the approximation $\\mathbf W$$\\mathbf H$  (1st face of the approximation)"
   ]
  },
  {
   "cell_type": "code",
   "execution_count": 21,
   "metadata": {},
   "outputs": [
    {
     "data": {
      "image/png": "[encoded data removed]",
      "text/plain": [
       "<matplotlib.figure.Figure at 0xc8c4b70>"
      ]
     },
     "execution_count": 21,
     "metadata": {},
     "output_type": "execute_result"
    }
   ],
   "source": [
    "V_Approx= np.dot(W, H)\n",
    "\n",
    "fig = plt.figure()\n",
    "plt.imshow(V_Approx[:, 1].reshape((a, b)), cmap=plt.cm.gray)\n",
    "fig"
   ]
  },
  {
   "cell_type": "markdown",
   "metadata": {},
   "source": [
    "## Singular Value Decomposition\n",
    "\n",
    "SVD is a central part of these algorithms and is often the bottleneck. Below we illustrate the various types of SVD and their pros/cons.\n",
    "\n",
    "There are four options:\n",
    "- Full SVD\n",
    "- Partial SVD (optional)\n",
    "- Sparse SVD (optional)\n",
    "- Approximate SVD (optional)"
   ]
  },
  {
   "cell_type": "code",
   "execution_count": 22,
   "metadata": {},
   "outputs": [
    {
     "name": "stdout",
     "output_type": "stream",
     "text": [
      "(1000L, 900L)\n",
      "5\n"
     ]
    }
   ],
   "source": [
    "import scipy.sparse.linalg as sparse\n",
    "import scipy as sp\n",
    "import numpy as np\n",
    "import time\n",
    "\n",
    "n = 1000\n",
    "m = 900\n",
    "r = 5\n",
    "A = np.dot(np.random.randn(n, r), np.random.randn(r, m))\n",
    "\n",
    "print(A.shape)\n",
    "print(np.linalg.matrix_rank(A))"
   ]
  },
  {
   "cell_type": "markdown",
   "metadata": {},
   "source": [
    "### Full SVD\n",
    "\n",
    "Full SVD decomposition generates full size matrices for U, S and V.\n",
    "\n",
    "Full SVD, has approximately $O(n^3)$ time complexity and does not scale well to large matrices or matrices with large rank."
   ]
  },
  {
   "cell_type": "code",
   "execution_count": 23,
   "metadata": {},
   "outputs": [
    {
     "name": "stdout",
     "output_type": "stream",
     "text": [
      "U: (1000L, 1000L)\n",
      "s: (900L,)\n",
      "V: (900L, 900L)\n",
      "Running time: 0.213000059128s. Error: 3.40299407408e-12\n"
     ]
    }
   ],
   "source": [
    "tic = time.time()\n",
    "\n",
    "U, s, V = sp.linalg.svd(A, full_matrices=True)\n",
    "\n",
    "toc = time.time()\n",
    "\n",
    "print(\"U: \" + str(U.shape))\n",
    "print(\"s: \" + str(s.shape))\n",
    "print(\"V: \" + str(V.shape))\n",
    "\n",
    "\n",
    "S = np.zeros((1000, 900))\n",
    "S[:900, :900] = np.diag(s)\n",
    "print(\"Running time: {0}s. Error: {1}\".format(toc - tic, np.linalg.norm(U.dot(S).dot(V) - A)))"
   ]
  },
  {
   "cell_type": "markdown",
   "metadata": {},
   "source": [
    "Impact of full_matrices parameter. When full_matrices=False, this is also called reduced SVD. Note the difference for the sizes of matrix $\\mathbf U$ between full_matrices=True and full_matrices=False."
   ]
  },
  {
   "cell_type": "code",
   "execution_count": 24,
   "metadata": {},
   "outputs": [
    {
     "name": "stdout",
     "output_type": "stream",
     "text": [
      "U: (1000L, 900L)\n",
      "S: (900L,)\n",
      "V: (900L, 900L)\n",
      "Running time: 0.25s. Error: 3.40299407408e-12\n"
     ]
    }
   ],
   "source": [
    "tic = time.time()\n",
    "\n",
    "U, S, V = sp.linalg.svd(A, full_matrices=False)\n",
    "\n",
    "toc = time.time()\n",
    "\n",
    "print(\"U: \" + str(U.shape))\n",
    "print(\"S: \" + str(S.shape))\n",
    "print(\"V: \" + str(V.shape))\n",
    "\n",
    "print(\"Running time: {0}s. Error: {1}\".format(toc - tic, np.linalg.norm(U.dot(np.diag(S)).dot(V) - A)))"
   ]
  },
  {
   "cell_type": "markdown",
   "metadata": {},
   "source": [
    "### Partial and Sparse SVD\n",
    "\n",
    "A partial SVD is performing an SVD on only the top $k$ singular values. Partial SVD is also known as truncated SVD or skinny SVD.\n",
    "\n",
    "A sparse SVD is performing an SVD on a sparse matrix.\n",
    "\n",
    "In scipy, the partial and sparse SVD function is shared. This function implements a different SVD solver that takes advantage of computing the SVD of a sparse input matrix OR computing a reduced number of singular values.\n",
    "\n",
    "Notice that computing a partial SVD is significantly quicker and the error is still relatively small."
   ]
  },
  {
   "cell_type": "code",
   "execution_count": 25,
   "metadata": {},
   "outputs": [
    {
     "name": "stdout",
     "output_type": "stream",
     "text": [
      "U: (1000L, 5L)\n",
      "S: (5L,)\n",
      "V: (5L, 900L)\n",
      "Running time: 0.029000043869s. Error: 2.01073009901e-12\n"
     ]
    }
   ],
   "source": [
    "tic = time.time()\n",
    "U, S, V = sparse.svds(A, k=r)\n",
    "toc = time.time()\n",
    "\n",
    "print(\"U: \" + str(U.shape))\n",
    "print(\"S: \" + str(S.shape))\n",
    "print(\"V: \" + str(V.shape))\n",
    "\n",
    "print(\"Running time: {0}s. Error: {1}\".format(toc - tic, np.linalg.norm(U.dot(np.diag(S)).dot(V) - A)))"
   ]
  },
  {
   "cell_type": "markdown",
   "metadata": {},
   "source": [
    "### Approximate SVD\n",
    "\n",
    "Approximate SVD is a technique that uses randomisation to quickly compute an approximate SVD result.\n",
    "\n",
    "More details are available here:\n",
    "- https://arxiv.org/pdf/0909.4061.pdf\n",
    "- https://amath.colorado.edu/faculty/martinss/Talks/2015_02_chicago.pdf\n",
    "\n",
    "Suffice to say that the approximate SVD scales nicely to huge matrices and results in a suprisingly accurate result. For massive scale machine learning it is the only solution."
   ]
  },
  {
   "cell_type": "code",
   "execution_count": 26,
   "metadata": {},
   "outputs": [
    {
     "name": "stdout",
     "output_type": "stream",
     "text": [
      "U: (1000L, 5L)\n",
      "S: (5L,)\n",
      "V: (5L, 900L)\n",
      "Running time: 0.0169999599457s. Error: 2.02448159717e-11\n"
     ]
    }
   ],
   "source": [
    "def random_svd(A, k):\n",
    "    omega = np.random.randn( A.shape[1], r )\n",
    "    Y = np.dot(A, omega)\n",
    "    Q = sp.linalg.orth(Y)\n",
    "    B = np.dot(np.transpose(Q), A)\n",
    "    Uhat, S, V = sp.linalg.svd(B, full_matrices=False)\n",
    "    U = np.dot(Q, Uhat)\n",
    "    \n",
    "    return U, S, V\n",
    "\n",
    "tic = time.time()\n",
    "[U, S, V] = random_svd(A, k=5)\n",
    "toc = time.time()\n",
    "\n",
    "print(\"U: \" + str(U.shape))\n",
    "print(\"S: \" + str(S.shape))\n",
    "print(\"V: \" + str(V.shape))\n",
    "\n",
    "print(\"Running time: {0}s. Error: {1}\".format(toc - tic, np.linalg.norm(U.dot(np.diag(S)).dot(V) - A)))"
   ]
  }
 ],
 "metadata": {
  "kernelspec": {
   "display_name": "Python 2",
   "language": "python",
   "name": "python2"
  },
  "language_info": {
   "codemirror_mode": {
    "name": "ipython",
    "version": 2
   },
   "file_extension": ".py",
   "mimetype": "text/x-python",
   "name": "python",
   "nbconvert_exporter": "python",
   "pygments_lexer": "ipython2",
   "version": "2.7.13"
  }
 },
 "nbformat": 4,
 "nbformat_minor": 2
}
