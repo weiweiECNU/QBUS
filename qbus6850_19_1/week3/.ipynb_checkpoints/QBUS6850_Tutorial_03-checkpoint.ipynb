{
 "cells": [
  {
   "cell_type": "markdown",
   "metadata": {},
   "source": [
    "# QBUS6850 - Machine Learning for Business\n",
    "## Tutorial 3 - Linear Regression 1 - Solution"
   ]
  },
  {
   "cell_type": "markdown",
   "metadata": {},
   "source": [
    "## Task 1 - Linear Regression Manually\n",
    "\n",
    "Use the following code to generate synthetic data"
   ]
  },
  {
   "cell_type": "code",
   "execution_count": 3,
   "metadata": {},
   "outputs": [
    {
     "name": "stdout",
     "output_type": "stream",
     "text": [
      "intercept (beta_0): 2.83\n",
      "beta_1: 76.18\n",
      "Predicted value at x = 1: 79.01\n"
     ]
    }
   ],
   "source": [
    "import numpy as np\n",
    "import matplotlib.pyplot as plt\n",
    "from sklearn.datasets.samples_generator import make_regression\n",
    "\n",
    "N = 20\n",
    "\n",
    "# Generate synthetic data\n",
    "x, y, true_coef = make_regression(n_samples = N, n_features = 1, noise=20, coef=True)\n",
    "\n",
    "# Scatter plot\n",
    "plt.figure()\n",
    "plt.scatter(x, y)\n",
    "\n",
    "X = np.column_stack((np.ones(N), x))\n",
    "\n",
    "# Convert X to a matrix\n",
    "X = np.asmatrix(X)\n",
    "\n",
    "# Estimate linear regression coefficients \n",
    "lin_betas = np.linalg.inv(X.T*X) * X.T * y.reshape(N,1)\n",
    "\n",
    "# beta_0\n",
    "lin_intercept = lin_betas[0,0]\n",
    "print(\"intercept (beta_0): {0:.2f}\".format(lin_intercept))\n",
    "\n",
    "# beta_1\n",
    "lin_beta = lin_betas[1,0]\n",
    "print(\"beta_1: {0:.2f}\".format(lin_beta))\n",
    "\n",
    "x_1 = 1\n",
    "\n",
    "prediction = lin_intercept + lin_beta * x_1\n",
    "\n",
    "print(\"Predicted value at x = {0}: {1:.2f}\".format(x_1, prediction))\n"
   ]
  },
  {
   "cell_type": "markdown",
   "metadata": {},
   "source": []
  },
  {
   "cell_type": "markdown",
   "metadata": {},
   "source": [
    "## Task 2 - Linear Regression And Prediction\n",
    "\n",
    "- Load the \"auction.txt\" dataset\n",
    "- Get some info of the data, such as minimum and maximum of Age and Price.\n",
    "- Check linear association between variables,  using corellation coefficients\n",
    "- Choose an appropriate variable to regress against price\n",
    "- Fit model\n",
    "- Predict the sale price of a clock that is 121 years old"
   ]
  },
  {
   "cell_type": "code",
   "execution_count": 4,
   "metadata": {
    "scrolled": true
   },
   "outputs": [
    {
     "name": "stdout",
     "output_type": "stream",
     "text": [
      "<class 'pandas.core.frame.DataFrame'>\n",
      "RangeIndex: 32 entries, 0 to 31\n",
      "Data columns (total 3 columns):\n",
      "Age        32 non-null int64\n",
      "Bidders    32 non-null int64\n",
      "Price      32 non-null int64\n",
      "dtypes: int64(3)\n",
      "memory usage: 848.0 bytes\n"
     ]
    },
    {
     "data": {
      "text/html": [
       "<div>\n",
       "<style>\n",
       "    .dataframe thead tr:only-child th {\n",
       "        text-align: right;\n",
       "    }\n",
       "\n",
       "    .dataframe thead th {\n",
       "        text-align: left;\n",
       "    }\n",
       "\n",
       "    .dataframe tbody tr th {\n",
       "        vertical-align: top;\n",
       "    }\n",
       "</style>\n",
       "<table border=\"1\" class=\"dataframe\">\n",
       "  <thead>\n",
       "    <tr style=\"text-align: right;\">\n",
       "      <th></th>\n",
       "      <th>Age</th>\n",
       "      <th>Bidders</th>\n",
       "      <th>Price</th>\n",
       "    </tr>\n",
       "  </thead>\n",
       "  <tbody>\n",
       "    <tr>\n",
       "      <th>count</th>\n",
       "      <td>32.000000</td>\n",
       "      <td>32.000000</td>\n",
       "      <td>32.000000</td>\n",
       "    </tr>\n",
       "    <tr>\n",
       "      <th>mean</th>\n",
       "      <td>144.937500</td>\n",
       "      <td>9.531250</td>\n",
       "      <td>1327.156250</td>\n",
       "    </tr>\n",
       "    <tr>\n",
       "      <th>std</th>\n",
       "      <td>27.395476</td>\n",
       "      <td>2.839632</td>\n",
       "      <td>393.134395</td>\n",
       "    </tr>\n",
       "    <tr>\n",
       "      <th>min</th>\n",
       "      <td>108.000000</td>\n",
       "      <td>5.000000</td>\n",
       "      <td>729.000000</td>\n",
       "    </tr>\n",
       "    <tr>\n",
       "      <th>25%</th>\n",
       "      <td>117.000000</td>\n",
       "      <td>7.000000</td>\n",
       "      <td>1053.000000</td>\n",
       "    </tr>\n",
       "    <tr>\n",
       "      <th>50%</th>\n",
       "      <td>140.000000</td>\n",
       "      <td>9.000000</td>\n",
       "      <td>1257.500000</td>\n",
       "    </tr>\n",
       "    <tr>\n",
       "      <th>75%</th>\n",
       "      <td>168.500000</td>\n",
       "      <td>11.250000</td>\n",
       "      <td>1560.750000</td>\n",
       "    </tr>\n",
       "    <tr>\n",
       "      <th>max</th>\n",
       "      <td>194.000000</td>\n",
       "      <td>15.000000</td>\n",
       "      <td>2131.000000</td>\n",
       "    </tr>\n",
       "  </tbody>\n",
       "</table>\n",
       "</div>"
      ],
      "text/plain": [
       "              Age    Bidders        Price\n",
       "count   32.000000  32.000000    32.000000\n",
       "mean   144.937500   9.531250  1327.156250\n",
       "std     27.395476   2.839632   393.134395\n",
       "min    108.000000   5.000000   729.000000\n",
       "25%    117.000000   7.000000  1053.000000\n",
       "50%    140.000000   9.000000  1257.500000\n",
       "75%    168.500000  11.250000  1560.750000\n",
       "max    194.000000  15.000000  2131.000000"
      ]
     },
     "execution_count": 4,
     "metadata": {},
     "output_type": "execute_result"
    }
   ],
   "source": [
    "import numpy as np\n",
    "import pandas as pd\n",
    "from sklearn.linear_model import LinearRegression\n",
    "\n",
    "# Load data\n",
    "clock_auction_df = pd.read_csv(\"auction.txt\", delimiter=\"\\t\")\n",
    "#Get some info of the data\n",
    "clock_auction_df.info()\n",
    "clock_auction_df.head()\n",
    "clock_auction_df.describe()"
   ]
  },
  {
   "cell_type": "markdown",
   "metadata": {},
   "source": [
    "###  Check linear association between variable\n"
   ]
  },
  {
   "cell_type": "code",
   "execution_count": 5,
   "metadata": {},
   "outputs": [
    {
     "data": {
      "text/html": [
       "<div>\n",
       "<style>\n",
       "    .dataframe thead tr:only-child th {\n",
       "        text-align: right;\n",
       "    }\n",
       "\n",
       "    .dataframe thead th {\n",
       "        text-align: left;\n",
       "    }\n",
       "\n",
       "    .dataframe tbody tr th {\n",
       "        vertical-align: top;\n",
       "    }\n",
       "</style>\n",
       "<table border=\"1\" class=\"dataframe\">\n",
       "  <thead>\n",
       "    <tr style=\"text-align: right;\">\n",
       "      <th></th>\n",
       "      <th>Age</th>\n",
       "      <th>Bidders</th>\n",
       "      <th>Price</th>\n",
       "    </tr>\n",
       "  </thead>\n",
       "  <tbody>\n",
       "    <tr>\n",
       "      <th>Age</th>\n",
       "      <td>1.000000</td>\n",
       "      <td>-0.253749</td>\n",
       "      <td>0.730233</td>\n",
       "    </tr>\n",
       "    <tr>\n",
       "      <th>Bidders</th>\n",
       "      <td>-0.253749</td>\n",
       "      <td>1.000000</td>\n",
       "      <td>0.394640</td>\n",
       "    </tr>\n",
       "    <tr>\n",
       "      <th>Price</th>\n",
       "      <td>0.730233</td>\n",
       "      <td>0.394640</td>\n",
       "      <td>1.000000</td>\n",
       "    </tr>\n",
       "  </tbody>\n",
       "</table>\n",
       "</div>"
      ],
      "text/plain": [
       "              Age   Bidders     Price\n",
       "Age      1.000000 -0.253749  0.730233\n",
       "Bidders -0.253749  1.000000  0.394640\n",
       "Price    0.730233  0.394640  1.000000"
      ]
     },
     "execution_count": 5,
     "metadata": {},
     "output_type": "execute_result"
    }
   ],
   "source": [
    "clock_auction_df.corr()\n"
   ]
  },
  {
   "cell_type": "markdown",
   "metadata": {},
   "source": [
    "Variable Age has stronger linear association with Price than Bidders. Fit a model Price ~ Age."
   ]
  },
  {
   "cell_type": "code",
   "execution_count": 6,
   "metadata": {
    "collapsed": true
   },
   "outputs": [],
   "source": [
    "\n",
    "x_data = np.reshape(clock_auction_df[\"Age\"].values, (len(clock_auction_df), 1))\n",
    "#x_data = np.reshape(clock_auction_df[\"Age\"], (len(clock_auction_df), 1)) doest not work for some Python version\n",
    "y_data = np.reshape(clock_auction_df[\"Price\"].values, (len(clock_auction_df), 1))\n",
    "\n",
    "\n"
   ]
  },
  {
   "cell_type": "code",
   "execution_count": 7,
   "metadata": {},
   "outputs": [
    {
     "name": "stdout",
     "output_type": "stream",
     "text": [
      "Estimated Sale Price: $1076.31\n"
     ]
    }
   ],
   "source": [
    "# Create the linear regression object\n",
    "lr_obj = LinearRegression()\n",
    "\n",
    "# Estiamte coefficients\n",
    "lr_obj.fit(x_data, y_data)\n",
    "\n",
    "\n",
    "# Predict the sale price of a 121 year old clock\n",
    "age = 121\n",
    "\n",
    "predicted_price = lr_obj.predict(age)\n",
    "\n",
    "print(\"Estimated Sale Price: ${0:.2f}\".format(predicted_price[0, 0]))"
   ]
  },
  {
   "cell_type": "markdown",
   "metadata": {},
   "source": [
    "## Task 3 - Linear Regression Gradient Descent Manually\n",
    "\n",
    "In this task, we will build our own Gradient Descent algorithm for linear regression.  This may serve an example for your assignment 1.\n",
    "\n",
    "Import package numpy and matplotlib.pyplot:"
   ]
  },
  {
   "cell_type": "code",
   "execution_count": 8,
   "metadata": {
    "collapsed": true
   },
   "outputs": [],
   "source": [
    "import numpy as np\n",
    "import matplotlib.pyplot as plt"
   ]
  },
  {
   "cell_type": "markdown",
   "metadata": {},
   "source": [
    "Build a gradient descent function, name it as \"Gradient_Descent_Algo\":"
   ]
  },
  {
   "cell_type": "code",
   "execution_count": 9,
   "metadata": {
    "collapsed": true
   },
   "outputs": [],
   "source": [
    "\"\"\"\n",
    "Build the gradient descent function\n",
    "\n",
    "\"\"\"\n",
    "# m denotes the number of training examples here, not the number of features\n",
    "def Gradient_Descent_Algo(x, y, beta, alpha, m, numIterations):\n",
    "    xTrans = x.transpose()\n",
    "    for i in range(0, numIterations):\n",
    "        # predicted values from the model\n",
    "        model_0 = np.dot(x, beta)\n",
    "        loss_temp = model_0 - y\n",
    "        # calculte the loss function\n",
    "        loss = np.sum(np.square(loss_temp)) / (2 * m)\n",
    "        # save all the loss function values at each step\n",
    "        loss_total[i]= loss\n",
    "        #You can check iteration by\n",
    "        #print(\"Iteration: {0} | Loss fucntion: {1}\".format(i, loss))\n",
    "        # calcualte the gradient using matrix representation\n",
    "        gradient = np.dot(xTrans, loss_temp) / m\n",
    "        # update the parameters simulteneously with learning rate alpha\n",
    "        beta = beta - alpha * gradient\n",
    "        # save all the estimated parametes at each step\n",
    "        beta_total[i,:]= beta.transpose()\n",
    "    return beta"
   ]
  },
  {
   "cell_type": "markdown",
   "metadata": {},
   "source": [
    "Generate synthetic data from a linear model \n",
    "\n",
    "$\\ \\ f(x,\\beta) = \\beta_0 + \\beta_1 x $, where $ \\  \\beta_0=4, \\ \\beta_1=1.5$,\n",
    "\n",
    "Add noise to true values\n",
    "\n",
    "$ \\ \\ t = f(x,\\beta) + \\epsilon \\ $,   where $ \\ \\epsilon \\ $ comes from a normal distribution with mean=0, standard deviation = 0.1\n",
    "\n",
    "Produce a scatter plot of $t$ against $x$."
   ]
  },
  {
   "cell_type": "code",
   "execution_count": 10,
   "metadata": {},
   "outputs": [
    {
     "data": {
      "text/plain": [
       "<matplotlib.collections.PathCollection at 0x116366c88>"
      ]
     },
     "execution_count": 10,
     "metadata": {},
     "output_type": "execute_result"
    }
   ],
   "source": [
    "# Initialise RNG to generate the same random numbers each time\n",
    "np.random.seed(0)\n",
    "\n",
    "m = 50 #number of training examples\n",
    "x = np.linspace(0.0, 1.0, m)\n",
    "\n",
    "# Function true coefficients/parameters\n",
    "beta0 = 4\n",
    "beta1 = 1.5\n",
    " \n",
    "# true values from linear model\n",
    "f = beta0 + beta1 * x\n",
    "# Add noisy\n",
    "sigma2 = 0.1\n",
    "y = f + np.random.normal(0, np.sqrt(sigma2), m)\n",
    "\n",
    "# reshape\n",
    "y = np.reshape(y, (len(y), 1))\n",
    "\n",
    "x_data_1 = np.reshape(x, (len(x), 1))\n",
    "x = np.column_stack((np.ones(len(x)), x_data_1))\n",
    "\n",
    "fig0 = plt.figure()\n",
    "plt.scatter(x[:,1],y)\n",
    "#fig0"
   ]
  },
  {
   "cell_type": "markdown",
   "metadata": {},
   "source": [
    "Fitting model by using function \"Gradient_Descent_Algo\", (set learning rate α=0.0005α=0.0005 stop iteration after 10,000 iterations)."
   ]
  },
  {
   "cell_type": "code",
   "execution_count": 11,
   "metadata": {},
   "outputs": [
    {
     "name": "stdout",
     "output_type": "stream",
     "text": [
      "[[ 4.2507743 ]\n",
      " [ 1.08504141]]\n"
     ]
    }
   ],
   "source": [
    "# using a specific number of iterations as stopping criteria\n",
    "numIterations= 100000\n",
    "# select the learning rate\n",
    "alpha = 0.0005\n",
    "loss_total= np.zeros((numIterations,1))\n",
    "beta_total= np.zeros((numIterations,2))\n",
    "# parameters starting values\n",
    "beta_initial = np.reshape(np.zeros(2),(2, 1))\n",
    "beta = Gradient_Descent_Algo(x, y, beta_initial, alpha, m, numIterations)\n",
    "print(beta)"
   ]
  },
  {
   "cell_type": "markdown",
   "metadata": {},
   "source": [
    " Plot loss function, $\\beta_0$ and $\\beta_1$  against the number of iterations, "
   ]
  },
  {
   "cell_type": "code",
   "execution_count": 13,
   "metadata": {},
   "outputs": [
    {
     "data": {
      "image/png": "[encoded data removed]",
      "text/plain": [
       "<matplotlib.figure.Figure at 0x11008b2b0>"
      ]
     },
     "metadata": {},
     "output_type": "display_data"
    },
    {
     "data": {
      "image/png": "[encoded data removed]",
      "text/plain": [
       "<matplotlib.figure.Figure at 0x11329e390>"
      ]
     },
     "metadata": {},
     "output_type": "display_data"
    },
    {
     "data": {
      "image/png": "[encoded data removed]",
      "text/plain": [
       "<matplotlib.figure.Figure at 0x1163190b8>"
      ]
     },
     "metadata": {},
     "output_type": "display_data"
    },
    {
     "data": {
      "image/png": "[encoded data removed]",
      "text/plain": [
       "<matplotlib.figure.Figure at 0x1162a70f0>"
      ]
     },
     "metadata": {},
     "output_type": "display_data"
    },
    {
     "data": {
      "image/png": "[encoded data removed]",
      "text/plain": [
       "<matplotlib.figure.Figure at 0x116d2ee48>"
      ]
     },
     "metadata": {},
     "output_type": "display_data"
    }
   ],
   "source": [
    "fig1 = plt.figure()\n",
    "plt.plot(loss_total, label = \"Loss fucntion\")\n",
    "plt.plot(beta_total[:,0], label = \"Beta0\")\n",
    "plt.plot(beta_total[:,1], label = \"Beta1\")\n",
    "plt.legend(loc=\"upper right\")\n",
    "plt.xlabel(\"Number of iteration\")\n",
    "plt.show()\n",
    "#fig1"
   ]
  },
  {
   "cell_type": "code",
   "execution_count": null,
   "metadata": {
    "collapsed": true
   },
   "outputs": [],
   "source": []
  }
 ],
 "metadata": {
  "kernelspec": {
   "display_name": "Python 3",
   "language": "python",
   "name": "python3"
  },
  "language_info": {
   "codemirror_mode": {
    "name": "ipython",
    "version": 3
   },
   "file_extension": ".py",
   "mimetype": "text/x-python",
   "name": "python",
   "nbconvert_exporter": "python",
   "pygments_lexer": "ipython3",
   "version": "3.6.5"
  },
  "latex_envs": {
   "LaTeX_envs_menu_present": true,
   "autoclose": false,
   "autocomplete": true,
   "bibliofile": "biblio.bib",
   "cite_by": "apalike",
   "current_citInitial": 1,
   "eqLabelWithNumbers": true,
   "eqNumInitial": 1,
   "hotkeys": {
    "equation": "Ctrl-E",
    "itemize": "Ctrl-I"
   },
   "labels_anchors": false,
   "latex_user_defs": false,
   "report_style_numbering": false,
   "user_envs_cfg": false
  },
  "varInspector": {
   "cols": {
    "lenName": 16,
    "lenType": 16,
    "lenVar": 40
   },
   "kernels_config": {
    "python": {
     "delete_cmd_postfix": "",
     "delete_cmd_prefix": "del ",
     "library": "var_list.py",
     "varRefreshCmd": "print(var_dic_list())"
    },
    "r": {
     "delete_cmd_postfix": ") ",
     "delete_cmd_prefix": "rm(",
     "library": "var_list.r",
     "varRefreshCmd": "cat(var_dic_list()) "
    }
   },
   "types_to_exclude": [
    "module",
    "function",
    "builtin_function_or_method",
    "instance",
    "_Feature"
   ],
   "window_display": false
  }
 },
 "nbformat": 4,
 "nbformat_minor": 2
}
