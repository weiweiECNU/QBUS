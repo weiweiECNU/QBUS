{
 "cells": [
  {
   "cell_type": "code",
   "execution_count": 1,
   "metadata": {},
   "outputs": [],
   "source": [
    "import pandas as pd\n",
    "from sklearn.feature_extraction.text import TfidfVectorizer\n",
    "from sklearn.feature_extraction.text import CountVectorizer\n",
    "from sklearn.feature_extraction.text import TfidfTransformer\n",
    "from sklearn.model_selection import train_test_split\n",
    "from sklearn.ensemble import RandomForestClassifier\n",
    "import numpy as np\n",
    "from mpl_toolkits.mplot3d import Axes3D \n",
    "\n",
    "from matplotlib import font_manager as fm \n",
    "from matplotlib import cm \n",
    "import matplotlib.pyplot as plt\n",
    "from sklearn.decomposition import PCA\n",
    "\n",
    "from sklearn.metrics import roc_curve\n",
    "from sklearn.metrics import roc_auc_score\n",
    "from sklearn.metrics import classification_report\n",
    "from sklearn.model_selection import GridSearchCV\n",
    "from sklearn.metrics import classification_report\n",
    "from sklearn.linear_model import LogisticRegression\n",
    "from sklearn.metrics import classification_report\n",
    "\n",
    "from scipy.sparse import hstack"
   ]
  },
  {
   "cell_type": "code",
   "execution_count": 2,
   "metadata": {},
   "outputs": [],
   "source": [
    "# get data, prepare to train ann validation split\n",
    "reviews=pd.read_csv(\"review_train.csv\")"
   ]
  },
  {
   "cell_type": "code",
   "execution_count": 3,
   "metadata": {},
   "outputs": [
    {
     "data": {
      "text/html": [
       "<div>\n",
       "<style scoped>\n",
       "    .dataframe tbody tr th:only-of-type {\n",
       "        vertical-align: middle;\n",
       "    }\n",
       "\n",
       "    .dataframe tbody tr th {\n",
       "        vertical-align: top;\n",
       "    }\n",
       "\n",
       "    .dataframe thead th {\n",
       "        text-align: right;\n",
       "    }\n",
       "</style>\n",
       "<table border=\"1\" class=\"dataframe\">\n",
       "  <thead>\n",
       "    <tr style=\"text-align: right;\">\n",
       "      <th></th>\n",
       "      <th>REVIEW_ID</th>\n",
       "      <th>LABEL</th>\n",
       "      <th>RATING</th>\n",
       "      <th>VERIFIED_PURCHASE</th>\n",
       "      <th>PRODUCT_CATEGORY</th>\n",
       "      <th>PRODUCT_ID</th>\n",
       "      <th>PRODUCT_TITLE</th>\n",
       "      <th>REVIEW_TITLE</th>\n",
       "      <th>REVIEW_TEXT</th>\n",
       "    </tr>\n",
       "  </thead>\n",
       "  <tbody>\n",
       "    <tr>\n",
       "      <th>0</th>\n",
       "      <td>17023</td>\n",
       "      <td>0</td>\n",
       "      <td>5.0</td>\n",
       "      <td>Y</td>\n",
       "      <td>Baby</td>\n",
       "      <td>B00EZM7A34</td>\n",
       "      <td>Bumkins Nixi Ciclo Silicone Teething Necklace,...</td>\n",
       "      <td>Great idea for Mom's with teething babies</td>\n",
       "      <td>Great idea for Mom's with teething babies. The...</td>\n",
       "    </tr>\n",
       "    <tr>\n",
       "      <th>1</th>\n",
       "      <td>3260</td>\n",
       "      <td>1</td>\n",
       "      <td>4.0</td>\n",
       "      <td>N</td>\n",
       "      <td>Home Entertainment</td>\n",
       "      <td>B000MXB33S</td>\n",
       "      <td>Toshiba SD-V295 Tunerless DVD VCR Combo Player</td>\n",
       "      <td>Great purchase for the price</td>\n",
       "      <td>We needed a new VCR and found this one with th...</td>\n",
       "    </tr>\n",
       "    <tr>\n",
       "      <th>2</th>\n",
       "      <td>3834</td>\n",
       "      <td>1</td>\n",
       "      <td>4.0</td>\n",
       "      <td>N</td>\n",
       "      <td>Musical Instruments</td>\n",
       "      <td>B00BR1IX8W</td>\n",
       "      <td>pBone PBONE2B Jiggs Mini Plastic Trombone for ...</td>\n",
       "      <td>the best trombone</td>\n",
       "      <td>my so love trombone and so i purchased this on...</td>\n",
       "    </tr>\n",
       "    <tr>\n",
       "      <th>3</th>\n",
       "      <td>3284</td>\n",
       "      <td>1</td>\n",
       "      <td>4.0</td>\n",
       "      <td>N</td>\n",
       "      <td>Home Entertainment</td>\n",
       "      <td>B001DZFYPW</td>\n",
       "      <td>Toshiba SD-V296 Tunerless DVD VCR Combo Player...</td>\n",
       "      <td>Works well</td>\n",
       "      <td>I picked up one of these recently, does what i...</td>\n",
       "    </tr>\n",
       "    <tr>\n",
       "      <th>4</th>\n",
       "      <td>15519</td>\n",
       "      <td>0</td>\n",
       "      <td>5.0</td>\n",
       "      <td>Y</td>\n",
       "      <td>Watches</td>\n",
       "      <td>B0088BN3LG</td>\n",
       "      <td>Bulova Men's 98B169 CAMPTON Two-Tone Bracelet ...</td>\n",
       "      <td>Excellent article!</td>\n",
       "      <td>Very elegant and sophisticated watch, I love t...</td>\n",
       "    </tr>\n",
       "  </tbody>\n",
       "</table>\n",
       "</div>"
      ],
      "text/plain": [
       "   REVIEW_ID  LABEL  RATING VERIFIED_PURCHASE     PRODUCT_CATEGORY  \\\n",
       "0      17023      0     5.0                 Y                 Baby   \n",
       "1       3260      1     4.0                 N   Home Entertainment   \n",
       "2       3834      1     4.0                 N  Musical Instruments   \n",
       "3       3284      1     4.0                 N   Home Entertainment   \n",
       "4      15519      0     5.0                 Y              Watches   \n",
       "\n",
       "   PRODUCT_ID                                      PRODUCT_TITLE  \\\n",
       "0  B00EZM7A34  Bumkins Nixi Ciclo Silicone Teething Necklace,...   \n",
       "1  B000MXB33S     Toshiba SD-V295 Tunerless DVD VCR Combo Player   \n",
       "2  B00BR1IX8W  pBone PBONE2B Jiggs Mini Plastic Trombone for ...   \n",
       "3  B001DZFYPW  Toshiba SD-V296 Tunerless DVD VCR Combo Player...   \n",
       "4  B0088BN3LG  Bulova Men's 98B169 CAMPTON Two-Tone Bracelet ...   \n",
       "\n",
       "                                REVIEW_TITLE  \\\n",
       "0  Great idea for Mom's with teething babies   \n",
       "1               Great purchase for the price   \n",
       "2                          the best trombone   \n",
       "3                                 Works well   \n",
       "4                         Excellent article!   \n",
       "\n",
       "                                         REVIEW_TEXT  \n",
       "0  Great idea for Mom's with teething babies. The...  \n",
       "1  We needed a new VCR and found this one with th...  \n",
       "2  my so love trombone and so i purchased this on...  \n",
       "3  I picked up one of these recently, does what i...  \n",
       "4  Very elegant and sophisticated watch, I love t...  "
      ]
     },
     "execution_count": 3,
     "metadata": {},
     "output_type": "execute_result"
    }
   ],
   "source": [
    "# features in dataset\n",
    "reviews.head()"
   ]
  },
  {
   "cell_type": "code",
   "execution_count": 4,
   "metadata": {},
   "outputs": [
    {
     "data": {
      "image/png": "[encoded data removed]",
      "text/plain": [
       "<Figure size 432x288 with 1 Axes>"
      ]
     },
     "metadata": {
      "needs_background": "light"
     },
     "output_type": "display_data"
    }
   ],
   "source": [
    "# verified purchase relation ship with 0,1 , fill N instead of NA\n",
    "plt.hist([reviews[reviews['LABEL']==0]['VERIFIED_PURCHASE'].fillna(\"N\"),reviews[reviews['LABEL']==1]['VERIFIED_PURCHASE'].fillna(\"N\")],label=[0,1])\n",
    "plt.legend()\n",
    "plt.show()"
   ]
  },
  {
   "cell_type": "code",
   "execution_count": 5,
   "metadata": {},
   "outputs": [
    {
     "data": {
      "text/plain": [
       "REVIEW_ID              0\n",
       "LABEL                  0\n",
       "RATING                94\n",
       "VERIFIED_PURCHASE    119\n",
       "PRODUCT_CATEGORY     113\n",
       "PRODUCT_ID           129\n",
       "PRODUCT_TITLE         99\n",
       "REVIEW_TITLE          96\n",
       "REVIEW_TEXT           93\n",
       "dtype: int64"
      ]
     },
     "execution_count": 5,
     "metadata": {},
     "output_type": "execute_result"
    }
   ],
   "source": [
    "reviews.isnull().sum()\n",
    "# why is null should be considered when writing report"
   ]
  },
  {
   "cell_type": "code",
   "execution_count": 6,
   "metadata": {},
   "outputs": [
    {
     "data": {
      "image/png": "[encoded data removed]",
      "text/plain": [
       "<Figure size 432x288 with 1 Axes>"
      ]
     },
     "metadata": {
      "needs_background": "light"
     },
     "output_type": "display_data"
    }
   ],
   "source": [
    "# histogram of the dataset, 0=fake revriews, 1=true reviews\n",
    "plt.hist(reviews['LABEL'])\n",
    "plt.show()\n",
    "# half fake half normal"
   ]
  },
  {
   "cell_type": "code",
   "execution_count": 7,
   "metadata": {},
   "outputs": [
    {
     "data": {
      "text/plain": [
       "30"
      ]
     },
     "execution_count": 7,
     "metadata": {},
     "output_type": "execute_result"
    }
   ],
   "source": [
    "# no. of categories\n",
    "reviews['PRODUCT_CATEGORY'].nunique()"
   ]
  },
  {
   "cell_type": "code",
   "execution_count": 8,
   "metadata": {},
   "outputs": [
    {
     "data": {
      "text/plain": [
       "array(['Baby', 'Home Entertainment', 'Musical Instruments', 'Watches',\n",
       "       'Health & Personal Care', 'Sports', 'Home Improvement',\n",
       "       'Automotive', 'Shoes', 'Grocery', 'Kitchen', 'Office Products',\n",
       "       'Home', 'PC', 'Toys', 'Video DVD', 'Apparel', 'Electronics',\n",
       "       'Tools', 'Video Games', 'Camera', 'Jewelry', 'Beauty', 'Luggage',\n",
       "       'Pet Products', 'Wireless', 'Books', 'Furniture', 'Outdoors',\n",
       "       'Lawn and Garden', nan], dtype=object)"
      ]
     },
     "execution_count": 8,
     "metadata": {},
     "output_type": "execute_result"
    }
   ],
   "source": [
    "# list category\n",
    "reviews['PRODUCT_CATEGORY'].unique()"
   ]
  },
  {
   "cell_type": "code",
   "execution_count": 9,
   "metadata": {},
   "outputs": [],
   "source": [
    "# data into groups by category \n",
    "reviews_grp=reviews.groupby('PRODUCT_CATEGORY')"
   ]
  },
  {
   "cell_type": "code",
   "execution_count": 10,
   "metadata": {},
   "outputs": [
    {
     "data": {
      "text/plain": [
       "PRODUCT_CATEGORY\n",
       "Apparel                   495\n",
       "Automotive                493\n",
       "Baby                      480\n",
       "Beauty                    471\n",
       "Books                     518\n",
       "Camera                    474\n",
       "Electronics               482\n",
       "Furniture                 500\n",
       "Grocery                   503\n",
       "Health & Personal Care    484\n",
       "Home                      476\n",
       "Home Entertainment        478\n",
       "Home Improvement          503\n",
       "Jewelry                   477\n",
       "Kitchen                   504\n",
       "Lawn and Garden           493\n",
       "Luggage                   504\n",
       "Musical Instruments       449\n",
       "Office Products           510\n",
       "Outdoors                  481\n",
       "PC                        509\n",
       "Pet Products              484\n",
       "Shoes                     468\n",
       "Sports                    459\n",
       "Tools                     486\n",
       "Toys                      488\n",
       "Video DVD                 481\n",
       "Video Games               483\n",
       "Watches                   488\n",
       "Wireless                  466\n",
       "Name: REVIEW_ID, dtype: int64"
      ]
     },
     "execution_count": 10,
     "metadata": {},
     "output_type": "execute_result"
    }
   ],
   "source": [
    "# how many reviews on each category\n",
    "reviews_grp.count()['REVIEW_ID']"
   ]
  },
  {
   "cell_type": "code",
   "execution_count": 11,
   "metadata": {},
   "outputs": [
    {
     "data": {
      "text/plain": [
       "PRODUCT_CATEGORY\n",
       "Apparel                   241\n",
       "Automotive                251\n",
       "Baby                      234\n",
       "Beauty                    232\n",
       "Books                     262\n",
       "Camera                    228\n",
       "Electronics               249\n",
       "Furniture                 241\n",
       "Grocery                   243\n",
       "Health & Personal Care    244\n",
       "Home                      232\n",
       "Home Entertainment        236\n",
       "Home Improvement          251\n",
       "Jewelry                   240\n",
       "Kitchen                   253\n",
       "Lawn and Garden           252\n",
       "Luggage                   260\n",
       "Musical Instruments       232\n",
       "Office Products           244\n",
       "Outdoors                  236\n",
       "PC                        251\n",
       "Pet Products              245\n",
       "Shoes                     227\n",
       "Sports                    234\n",
       "Tools                     250\n",
       "Toys                      243\n",
       "Video DVD                 240\n",
       "Video Games               241\n",
       "Watches                   233\n",
       "Wireless                  225\n",
       "Name: LABEL, dtype: int64"
      ]
     },
     "execution_count": 11,
     "metadata": {},
     "output_type": "execute_result"
    }
   ],
   "source": [
    "# No. of 0(fake reviews) in each category\n",
    "reviews_grp.sum()['LABEL']"
   ]
  },
  {
   "cell_type": "code",
   "execution_count": 12,
   "metadata": {},
   "outputs": [
    {
     "data": {
      "text/plain": [
       "PRODUCT_CATEGORY\n",
       "Apparel                   0.486869\n",
       "Automotive                0.509128\n",
       "Baby                      0.487500\n",
       "Beauty                    0.492569\n",
       "Books                     0.505792\n",
       "Camera                    0.481013\n",
       "Electronics               0.516598\n",
       "Furniture                 0.482000\n",
       "Grocery                   0.483101\n",
       "Health & Personal Care    0.504132\n",
       "Home                      0.487395\n",
       "Home Entertainment        0.493724\n",
       "Home Improvement          0.499006\n",
       "Jewelry                   0.503145\n",
       "Kitchen                   0.501984\n",
       "Lawn and Garden           0.511156\n",
       "Luggage                   0.515873\n",
       "Musical Instruments       0.516704\n",
       "Office Products           0.478431\n",
       "Outdoors                  0.490644\n",
       "PC                        0.493124\n",
       "Pet Products              0.506198\n",
       "Shoes                     0.485043\n",
       "Sports                    0.509804\n",
       "Tools                     0.514403\n",
       "Toys                      0.497951\n",
       "Video DVD                 0.498960\n",
       "Video Games               0.498965\n",
       "Watches                   0.477459\n",
       "Wireless                  0.482833\n",
       "Name: LABEL, dtype: float64"
      ]
     },
     "execution_count": 12,
     "metadata": {},
     "output_type": "execute_result"
    }
   ],
   "source": [
    "# persentage on label=1 \n",
    "reviews_grp.mean()['LABEL']\n",
    "# around 50%"
   ]
  },
  {
   "cell_type": "code",
   "execution_count": 13,
   "metadata": {},
   "outputs": [
    {
     "data": {
      "text/plain": [
       "Books                     262\n",
       "Luggage                   260\n",
       "Kitchen                   253\n",
       "Lawn and Garden           252\n",
       "Automotive                251\n",
       "Home Improvement          251\n",
       "PC                        251\n",
       "Tools                     250\n",
       "Electronics               249\n",
       "Pet Products              245\n",
       "Health & Personal Care    244\n",
       "Office Products           244\n",
       "Grocery                   243\n",
       "Toys                      243\n",
       "Video Games               241\n",
       "Apparel                   241\n",
       "Furniture                 241\n",
       "Jewelry                   240\n",
       "Video DVD                 240\n",
       "Home Entertainment        236\n",
       "Outdoors                  236\n",
       "Sports                    234\n",
       "Baby                      234\n",
       "Watches                   233\n",
       "Home                      232\n",
       "Musical Instruments       232\n",
       "Beauty                    232\n",
       "Camera                    228\n",
       "Shoes                     227\n",
       "Wireless                  225\n",
       "Name: PRODUCT_CATEGORY, dtype: int64"
      ]
     },
     "execution_count": 13,
     "metadata": {},
     "output_type": "execute_result"
    }
   ],
   "source": [
    "no_label1 = reviews[reviews['LABEL']==1]['PRODUCT_CATEGORY'].value_counts() \n",
    "no_label0 = reviews[reviews['LABEL']==0]['PRODUCT_CATEGORY'].value_counts()\n",
    "no_label1"
   ]
  },
  {
   "cell_type": "code",
   "execution_count": 14,
   "metadata": {},
   "outputs": [
    {
     "data": {
      "text/plain": [
       "Office Products           266\n",
       "Grocery                   260\n",
       "Furniture                 259\n",
       "PC                        258\n",
       "Books                     256\n",
       "Watches                   255\n",
       "Apparel                   254\n",
       "Home Improvement          252\n",
       "Kitchen                   251\n",
       "Baby                      246\n",
       "Camera                    246\n",
       "Toys                      245\n",
       "Outdoors                  245\n",
       "Home                      244\n",
       "Luggage                   244\n",
       "Video Games               242\n",
       "Automotive                242\n",
       "Home Entertainment        242\n",
       "Video DVD                 241\n",
       "Wireless                  241\n",
       "Lawn and Garden           241\n",
       "Shoes                     241\n",
       "Health & Personal Care    240\n",
       "Pet Products              239\n",
       "Beauty                    239\n",
       "Jewelry                   237\n",
       "Tools                     236\n",
       "Electronics               233\n",
       "Sports                    225\n",
       "Musical Instruments       217\n",
       "Name: PRODUCT_CATEGORY, dtype: int64"
      ]
     },
     "execution_count": 14,
     "metadata": {},
     "output_type": "execute_result"
    }
   ],
   "source": [
    "no_label0"
   ]
  },
  {
   "cell_type": "code",
   "execution_count": 15,
   "metadata": {},
   "outputs": [
    {
     "data": {
      "image/png": "[encoded data removed]",
      "text/plain": [
       "<Figure size 432x288 with 1 Axes>"
      ]
     },
     "metadata": {
      "needs_background": "light"
     },
     "output_type": "display_data"
    }
   ],
   "source": [
    "# plot 0,1 distribution under each category\n",
    "plt.bar(no_label1.index,no_label1.values, width=-0.3, align='edge', label=1)\n",
    "plt.bar(no_label0.index,no_label0.values, width=0.3,align='edge' ,label=0)\n",
    "\n",
    "plt.legend()\n",
    "plt.xticks(rotation=90)\n",
    "plt.show()\n",
    "# office products,grocery, furniture,apparel,watches, normal>fake\n",
    "# luggage,tools,musical instruments, electronics fake>nolmal"
   ]
  },
  {
   "cell_type": "code",
   "execution_count": 16,
   "metadata": {
    "scrolled": true
   },
   "outputs": [
    {
     "data": {
      "image/png": "[encoded data removed]",
      "text/plain": [
       "<Figure size 432x288 with 1 Axes>"
      ]
     },
     "metadata": {
      "needs_background": "light"
     },
     "output_type": "display_data"
    }
   ],
   "source": [
    "# we have 94 null in rating feature which need to be filled with 0\n",
    "# relationship with rating and reviews\n",
    "plt.hist([reviews[reviews['LABEL']==0]['RATING'].fillna(0),reviews[reviews['LABEL']==1]['RATING'].fillna(0)],label=[0,1],range = (0,5))\n",
    "plt.legend()\n",
    "plt.show()\n",
    "# nearly same distribution of 0,1 in ratings"
   ]
  },
  {
   "cell_type": "code",
   "execution_count": 17,
   "metadata": {},
   "outputs": [
    {
     "data": {
      "text/html": [
       "<div>\n",
       "<style scoped>\n",
       "    .dataframe tbody tr th:only-of-type {\n",
       "        vertical-align: middle;\n",
       "    }\n",
       "\n",
       "    .dataframe tbody tr th {\n",
       "        vertical-align: top;\n",
       "    }\n",
       "\n",
       "    .dataframe thead th {\n",
       "        text-align: right;\n",
       "    }\n",
       "</style>\n",
       "<table border=\"1\" class=\"dataframe\">\n",
       "  <thead>\n",
       "    <tr style=\"text-align: right;\">\n",
       "      <th></th>\n",
       "      <th>REVIEW_ID</th>\n",
       "      <th>LABEL</th>\n",
       "      <th>RATING</th>\n",
       "      <th>VERIFIED_PURCHASE</th>\n",
       "      <th>PRODUCT_CATEGORY</th>\n",
       "      <th>PRODUCT_ID</th>\n",
       "      <th>PRODUCT_TITLE</th>\n",
       "      <th>REVIEW_TITLE</th>\n",
       "      <th>REVIEW_TEXT</th>\n",
       "      <th>array_title</th>\n",
       "    </tr>\n",
       "  </thead>\n",
       "  <tbody>\n",
       "    <tr>\n",
       "      <th>0</th>\n",
       "      <td>17023</td>\n",
       "      <td>0</td>\n",
       "      <td>5.0</td>\n",
       "      <td>Y</td>\n",
       "      <td>Baby</td>\n",
       "      <td>B00EZM7A34</td>\n",
       "      <td>Bumkins Nixi Ciclo Silicone Teething Necklace,...</td>\n",
       "      <td>Great idea for Mom's with teething babies</td>\n",
       "      <td>Great idea for Mom's with teething babies. The...</td>\n",
       "      <td>[Bumkins, Nixi, Ciclo, Silicone, Teething, Nec...</td>\n",
       "    </tr>\n",
       "    <tr>\n",
       "      <th>1</th>\n",
       "      <td>3260</td>\n",
       "      <td>1</td>\n",
       "      <td>4.0</td>\n",
       "      <td>N</td>\n",
       "      <td>Home Entertainment</td>\n",
       "      <td>B000MXB33S</td>\n",
       "      <td>Toshiba SD-V295 Tunerless DVD VCR Combo Player</td>\n",
       "      <td>Great purchase for the price</td>\n",
       "      <td>We needed a new VCR and found this one with th...</td>\n",
       "      <td>[Toshiba, SD-V295, Tunerless, DVD, VCR, Combo,...</td>\n",
       "    </tr>\n",
       "    <tr>\n",
       "      <th>2</th>\n",
       "      <td>3834</td>\n",
       "      <td>1</td>\n",
       "      <td>4.0</td>\n",
       "      <td>N</td>\n",
       "      <td>Musical Instruments</td>\n",
       "      <td>B00BR1IX8W</td>\n",
       "      <td>pBone PBONE2B Jiggs Mini Plastic Trombone for ...</td>\n",
       "      <td>the best trombone</td>\n",
       "      <td>my so love trombone and so i purchased this on...</td>\n",
       "      <td>[pBone, PBONE2B, Jiggs, Mini, Plastic, Trombon...</td>\n",
       "    </tr>\n",
       "    <tr>\n",
       "      <th>3</th>\n",
       "      <td>3284</td>\n",
       "      <td>1</td>\n",
       "      <td>4.0</td>\n",
       "      <td>N</td>\n",
       "      <td>Home Entertainment</td>\n",
       "      <td>B001DZFYPW</td>\n",
       "      <td>Toshiba SD-V296 Tunerless DVD VCR Combo Player...</td>\n",
       "      <td>Works well</td>\n",
       "      <td>I picked up one of these recently, does what i...</td>\n",
       "      <td>[Toshiba, SD-V296, Tunerless, DVD, VCR, Combo,...</td>\n",
       "    </tr>\n",
       "    <tr>\n",
       "      <th>4</th>\n",
       "      <td>15519</td>\n",
       "      <td>0</td>\n",
       "      <td>5.0</td>\n",
       "      <td>Y</td>\n",
       "      <td>Watches</td>\n",
       "      <td>B0088BN3LG</td>\n",
       "      <td>Bulova Men's 98B169 CAMPTON Two-Tone Bracelet ...</td>\n",
       "      <td>Excellent article!</td>\n",
       "      <td>Very elegant and sophisticated watch, I love t...</td>\n",
       "      <td>[Bulova, Men's, 98B169, CAMPTON, Two-Tone, Bra...</td>\n",
       "    </tr>\n",
       "  </tbody>\n",
       "</table>\n",
       "</div>"
      ],
      "text/plain": [
       "   REVIEW_ID  LABEL  RATING VERIFIED_PURCHASE     PRODUCT_CATEGORY  \\\n",
       "0      17023      0     5.0                 Y                 Baby   \n",
       "1       3260      1     4.0                 N   Home Entertainment   \n",
       "2       3834      1     4.0                 N  Musical Instruments   \n",
       "3       3284      1     4.0                 N   Home Entertainment   \n",
       "4      15519      0     5.0                 Y              Watches   \n",
       "\n",
       "   PRODUCT_ID                                      PRODUCT_TITLE  \\\n",
       "0  B00EZM7A34  Bumkins Nixi Ciclo Silicone Teething Necklace,...   \n",
       "1  B000MXB33S     Toshiba SD-V295 Tunerless DVD VCR Combo Player   \n",
       "2  B00BR1IX8W  pBone PBONE2B Jiggs Mini Plastic Trombone for ...   \n",
       "3  B001DZFYPW  Toshiba SD-V296 Tunerless DVD VCR Combo Player...   \n",
       "4  B0088BN3LG  Bulova Men's 98B169 CAMPTON Two-Tone Bracelet ...   \n",
       "\n",
       "                                REVIEW_TITLE  \\\n",
       "0  Great idea for Mom's with teething babies   \n",
       "1               Great purchase for the price   \n",
       "2                          the best trombone   \n",
       "3                                 Works well   \n",
       "4                         Excellent article!   \n",
       "\n",
       "                                         REVIEW_TEXT  \\\n",
       "0  Great idea for Mom's with teething babies. The...   \n",
       "1  We needed a new VCR and found this one with th...   \n",
       "2  my so love trombone and so i purchased this on...   \n",
       "3  I picked up one of these recently, does what i...   \n",
       "4  Very elegant and sophisticated watch, I love t...   \n",
       "\n",
       "                                         array_title  \n",
       "0  [Bumkins, Nixi, Ciclo, Silicone, Teething, Nec...  \n",
       "1  [Toshiba, SD-V295, Tunerless, DVD, VCR, Combo,...  \n",
       "2  [pBone, PBONE2B, Jiggs, Mini, Plastic, Trombon...  \n",
       "3  [Toshiba, SD-V296, Tunerless, DVD, VCR, Combo,...  \n",
       "4  [Bulova, Men's, 98B169, CAMPTON, Two-Tone, Bra...  "
      ]
     },
     "execution_count": 17,
     "metadata": {},
     "output_type": "execute_result"
    }
   ],
   "source": [
    "# length of text product features\n",
    "reviews['array_title'] = reviews['PRODUCT_TITLE'].str.split(\" \")\n",
    "reviews.head()"
   ]
  },
  {
   "cell_type": "code",
   "execution_count": 18,
   "metadata": {
    "scrolled": true
   },
   "outputs": [
    {
     "data": {
      "text/html": [
       "<div>\n",
       "<style scoped>\n",
       "    .dataframe tbody tr th:only-of-type {\n",
       "        vertical-align: middle;\n",
       "    }\n",
       "\n",
       "    .dataframe tbody tr th {\n",
       "        vertical-align: top;\n",
       "    }\n",
       "\n",
       "    .dataframe thead th {\n",
       "        text-align: right;\n",
       "    }\n",
       "</style>\n",
       "<table border=\"1\" class=\"dataframe\">\n",
       "  <thead>\n",
       "    <tr style=\"text-align: right;\">\n",
       "      <th></th>\n",
       "      <th>REVIEW_ID</th>\n",
       "      <th>LABEL</th>\n",
       "      <th>RATING</th>\n",
       "      <th>VERIFIED_PURCHASE</th>\n",
       "      <th>PRODUCT_CATEGORY</th>\n",
       "      <th>PRODUCT_ID</th>\n",
       "      <th>PRODUCT_TITLE</th>\n",
       "      <th>REVIEW_TITLE</th>\n",
       "      <th>REVIEW_TEXT</th>\n",
       "      <th>array_title</th>\n",
       "      <th>length_title</th>\n",
       "    </tr>\n",
       "  </thead>\n",
       "  <tbody>\n",
       "    <tr>\n",
       "      <th>0</th>\n",
       "      <td>17023</td>\n",
       "      <td>0</td>\n",
       "      <td>5.0</td>\n",
       "      <td>Y</td>\n",
       "      <td>Baby</td>\n",
       "      <td>B00EZM7A34</td>\n",
       "      <td>Bumkins Nixi Ciclo Silicone Teething Necklace,...</td>\n",
       "      <td>Great idea for Mom's with teething babies</td>\n",
       "      <td>Great idea for Mom's with teething babies. The...</td>\n",
       "      <td>[Bumkins, Nixi, Ciclo, Silicone, Teething, Nec...</td>\n",
       "      <td>10.0</td>\n",
       "    </tr>\n",
       "    <tr>\n",
       "      <th>1</th>\n",
       "      <td>3260</td>\n",
       "      <td>1</td>\n",
       "      <td>4.0</td>\n",
       "      <td>N</td>\n",
       "      <td>Home Entertainment</td>\n",
       "      <td>B000MXB33S</td>\n",
       "      <td>Toshiba SD-V295 Tunerless DVD VCR Combo Player</td>\n",
       "      <td>Great purchase for the price</td>\n",
       "      <td>We needed a new VCR and found this one with th...</td>\n",
       "      <td>[Toshiba, SD-V295, Tunerless, DVD, VCR, Combo,...</td>\n",
       "      <td>7.0</td>\n",
       "    </tr>\n",
       "    <tr>\n",
       "      <th>2</th>\n",
       "      <td>3834</td>\n",
       "      <td>1</td>\n",
       "      <td>4.0</td>\n",
       "      <td>N</td>\n",
       "      <td>Musical Instruments</td>\n",
       "      <td>B00BR1IX8W</td>\n",
       "      <td>pBone PBONE2B Jiggs Mini Plastic Trombone for ...</td>\n",
       "      <td>the best trombone</td>\n",
       "      <td>my so love trombone and so i purchased this on...</td>\n",
       "      <td>[pBone, PBONE2B, Jiggs, Mini, Plastic, Trombon...</td>\n",
       "      <td>9.0</td>\n",
       "    </tr>\n",
       "    <tr>\n",
       "      <th>3</th>\n",
       "      <td>3284</td>\n",
       "      <td>1</td>\n",
       "      <td>4.0</td>\n",
       "      <td>N</td>\n",
       "      <td>Home Entertainment</td>\n",
       "      <td>B001DZFYPW</td>\n",
       "      <td>Toshiba SD-V296 Tunerless DVD VCR Combo Player...</td>\n",
       "      <td>Works well</td>\n",
       "      <td>I picked up one of these recently, does what i...</td>\n",
       "      <td>[Toshiba, SD-V296, Tunerless, DVD, VCR, Combo,...</td>\n",
       "      <td>8.0</td>\n",
       "    </tr>\n",
       "    <tr>\n",
       "      <th>4</th>\n",
       "      <td>15519</td>\n",
       "      <td>0</td>\n",
       "      <td>5.0</td>\n",
       "      <td>Y</td>\n",
       "      <td>Watches</td>\n",
       "      <td>B0088BN3LG</td>\n",
       "      <td>Bulova Men's 98B169 CAMPTON Two-Tone Bracelet ...</td>\n",
       "      <td>Excellent article!</td>\n",
       "      <td>Very elegant and sophisticated watch, I love t...</td>\n",
       "      <td>[Bulova, Men's, 98B169, CAMPTON, Two-Tone, Bra...</td>\n",
       "      <td>7.0</td>\n",
       "    </tr>\n",
       "  </tbody>\n",
       "</table>\n",
       "</div>"
      ],
      "text/plain": [
       "   REVIEW_ID  LABEL  RATING VERIFIED_PURCHASE     PRODUCT_CATEGORY  \\\n",
       "0      17023      0     5.0                 Y                 Baby   \n",
       "1       3260      1     4.0                 N   Home Entertainment   \n",
       "2       3834      1     4.0                 N  Musical Instruments   \n",
       "3       3284      1     4.0                 N   Home Entertainment   \n",
       "4      15519      0     5.0                 Y              Watches   \n",
       "\n",
       "   PRODUCT_ID                                      PRODUCT_TITLE  \\\n",
       "0  B00EZM7A34  Bumkins Nixi Ciclo Silicone Teething Necklace,...   \n",
       "1  B000MXB33S     Toshiba SD-V295 Tunerless DVD VCR Combo Player   \n",
       "2  B00BR1IX8W  pBone PBONE2B Jiggs Mini Plastic Trombone for ...   \n",
       "3  B001DZFYPW  Toshiba SD-V296 Tunerless DVD VCR Combo Player...   \n",
       "4  B0088BN3LG  Bulova Men's 98B169 CAMPTON Two-Tone Bracelet ...   \n",
       "\n",
       "                                REVIEW_TITLE  \\\n",
       "0  Great idea for Mom's with teething babies   \n",
       "1               Great purchase for the price   \n",
       "2                          the best trombone   \n",
       "3                                 Works well   \n",
       "4                         Excellent article!   \n",
       "\n",
       "                                         REVIEW_TEXT  \\\n",
       "0  Great idea for Mom's with teething babies. The...   \n",
       "1  We needed a new VCR and found this one with th...   \n",
       "2  my so love trombone and so i purchased this on...   \n",
       "3  I picked up one of these recently, does what i...   \n",
       "4  Very elegant and sophisticated watch, I love t...   \n",
       "\n",
       "                                         array_title  length_title  \n",
       "0  [Bumkins, Nixi, Ciclo, Silicone, Teething, Nec...          10.0  \n",
       "1  [Toshiba, SD-V295, Tunerless, DVD, VCR, Combo,...           7.0  \n",
       "2  [pBone, PBONE2B, Jiggs, Mini, Plastic, Trombon...           9.0  \n",
       "3  [Toshiba, SD-V296, Tunerless, DVD, VCR, Combo,...           8.0  \n",
       "4  [Bulova, Men's, 98B169, CAMPTON, Two-Tone, Bra...           7.0  "
      ]
     },
     "execution_count": 18,
     "metadata": {},
     "output_type": "execute_result"
    }
   ],
   "source": [
    "reviews['length_title'] = reviews['array_title'].str.len()\n",
    "reviews.head()"
   ]
  },
  {
   "cell_type": "code",
   "execution_count": 19,
   "metadata": {},
   "outputs": [
    {
     "data": {
      "text/plain": [
       "10.635186699373126"
      ]
     },
     "execution_count": 19,
     "metadata": {},
     "output_type": "execute_result"
    }
   ],
   "source": [
    "# fill na length in 0\n",
    "length_titlef0=reviews[reviews['LABEL']==0]['length_title'].mean()\n",
    "length_titlef0\n"
   ]
  },
  {
   "cell_type": "code",
   "execution_count": 20,
   "metadata": {},
   "outputs": [
    {
     "data": {
      "text/plain": [
       "13.822249759052733"
      ]
     },
     "execution_count": 20,
     "metadata": {},
     "output_type": "execute_result"
    }
   ],
   "source": [
    "# fill na length in 1\n",
    "length_titlef1=reviews[reviews['LABEL']==1]['length_title'].mean()\n",
    "length_titlef1"
   ]
  },
  {
   "cell_type": "code",
   "execution_count": 21,
   "metadata": {},
   "outputs": [],
   "source": [
    "#get length under 0,1 fill na with mean of length title \n",
    "length_title=reviews['length_title'].mean()\n",
    "length_title0 = reviews[reviews['LABEL']==0]['length_title'].fillna(length_titlef0)\n",
    "length_title1 = reviews[reviews['LABEL']==1]['length_title'].fillna(length_titlef1)\n"
   ]
  },
  {
   "cell_type": "code",
   "execution_count": 22,
   "metadata": {},
   "outputs": [
    {
     "data": {
      "image/png": "[encoded data removed]",
      "text/plain": [
       "<Figure size 432x288 with 1 Axes>"
      ]
     },
     "metadata": {
      "needs_background": "light"
     },
     "output_type": "display_data"
    }
   ],
   "source": [
    "plt.hist([length_title0,length_title1],label=[0,1])\n",
    "plt.legend()\n",
    "plt.show()"
   ]
  },
  {
   "cell_type": "code",
   "execution_count": 23,
   "metadata": {},
   "outputs": [
    {
     "data": {
      "text/html": [
       "<div>\n",
       "<style scoped>\n",
       "    .dataframe tbody tr th:only-of-type {\n",
       "        vertical-align: middle;\n",
       "    }\n",
       "\n",
       "    .dataframe tbody tr th {\n",
       "        vertical-align: top;\n",
       "    }\n",
       "\n",
       "    .dataframe thead th {\n",
       "        text-align: right;\n",
       "    }\n",
       "</style>\n",
       "<table border=\"1\" class=\"dataframe\">\n",
       "  <thead>\n",
       "    <tr style=\"text-align: right;\">\n",
       "      <th></th>\n",
       "      <th>REVIEW_ID</th>\n",
       "      <th>LABEL</th>\n",
       "      <th>RATING</th>\n",
       "      <th>VERIFIED_PURCHASE</th>\n",
       "      <th>PRODUCT_CATEGORY</th>\n",
       "      <th>PRODUCT_ID</th>\n",
       "      <th>PRODUCT_TITLE</th>\n",
       "      <th>REVIEW_TITLE</th>\n",
       "      <th>REVIEW_TEXT</th>\n",
       "      <th>array_title</th>\n",
       "      <th>length_title</th>\n",
       "      <th>array_reviewtitle</th>\n",
       "    </tr>\n",
       "  </thead>\n",
       "  <tbody>\n",
       "    <tr>\n",
       "      <th>0</th>\n",
       "      <td>17023</td>\n",
       "      <td>0</td>\n",
       "      <td>5.0</td>\n",
       "      <td>Y</td>\n",
       "      <td>Baby</td>\n",
       "      <td>B00EZM7A34</td>\n",
       "      <td>Bumkins Nixi Ciclo Silicone Teething Necklace,...</td>\n",
       "      <td>Great idea for Mom's with teething babies</td>\n",
       "      <td>Great idea for Mom's with teething babies. The...</td>\n",
       "      <td>[Bumkins, Nixi, Ciclo, Silicone, Teething, Nec...</td>\n",
       "      <td>10.0</td>\n",
       "      <td>[Great, idea, for, Mom's, with, teething, babies]</td>\n",
       "    </tr>\n",
       "    <tr>\n",
       "      <th>1</th>\n",
       "      <td>3260</td>\n",
       "      <td>1</td>\n",
       "      <td>4.0</td>\n",
       "      <td>N</td>\n",
       "      <td>Home Entertainment</td>\n",
       "      <td>B000MXB33S</td>\n",
       "      <td>Toshiba SD-V295 Tunerless DVD VCR Combo Player</td>\n",
       "      <td>Great purchase for the price</td>\n",
       "      <td>We needed a new VCR and found this one with th...</td>\n",
       "      <td>[Toshiba, SD-V295, Tunerless, DVD, VCR, Combo,...</td>\n",
       "      <td>7.0</td>\n",
       "      <td>[Great, purchase, for, the, price]</td>\n",
       "    </tr>\n",
       "    <tr>\n",
       "      <th>2</th>\n",
       "      <td>3834</td>\n",
       "      <td>1</td>\n",
       "      <td>4.0</td>\n",
       "      <td>N</td>\n",
       "      <td>Musical Instruments</td>\n",
       "      <td>B00BR1IX8W</td>\n",
       "      <td>pBone PBONE2B Jiggs Mini Plastic Trombone for ...</td>\n",
       "      <td>the best trombone</td>\n",
       "      <td>my so love trombone and so i purchased this on...</td>\n",
       "      <td>[pBone, PBONE2B, Jiggs, Mini, Plastic, Trombon...</td>\n",
       "      <td>9.0</td>\n",
       "      <td>[the, best, trombone]</td>\n",
       "    </tr>\n",
       "    <tr>\n",
       "      <th>3</th>\n",
       "      <td>3284</td>\n",
       "      <td>1</td>\n",
       "      <td>4.0</td>\n",
       "      <td>N</td>\n",
       "      <td>Home Entertainment</td>\n",
       "      <td>B001DZFYPW</td>\n",
       "      <td>Toshiba SD-V296 Tunerless DVD VCR Combo Player...</td>\n",
       "      <td>Works well</td>\n",
       "      <td>I picked up one of these recently, does what i...</td>\n",
       "      <td>[Toshiba, SD-V296, Tunerless, DVD, VCR, Combo,...</td>\n",
       "      <td>8.0</td>\n",
       "      <td>[Works, well]</td>\n",
       "    </tr>\n",
       "    <tr>\n",
       "      <th>4</th>\n",
       "      <td>15519</td>\n",
       "      <td>0</td>\n",
       "      <td>5.0</td>\n",
       "      <td>Y</td>\n",
       "      <td>Watches</td>\n",
       "      <td>B0088BN3LG</td>\n",
       "      <td>Bulova Men's 98B169 CAMPTON Two-Tone Bracelet ...</td>\n",
       "      <td>Excellent article!</td>\n",
       "      <td>Very elegant and sophisticated watch, I love t...</td>\n",
       "      <td>[Bulova, Men's, 98B169, CAMPTON, Two-Tone, Bra...</td>\n",
       "      <td>7.0</td>\n",
       "      <td>[Excellent, article!]</td>\n",
       "    </tr>\n",
       "  </tbody>\n",
       "</table>\n",
       "</div>"
      ],
      "text/plain": [
       "   REVIEW_ID  LABEL  RATING VERIFIED_PURCHASE     PRODUCT_CATEGORY  \\\n",
       "0      17023      0     5.0                 Y                 Baby   \n",
       "1       3260      1     4.0                 N   Home Entertainment   \n",
       "2       3834      1     4.0                 N  Musical Instruments   \n",
       "3       3284      1     4.0                 N   Home Entertainment   \n",
       "4      15519      0     5.0                 Y              Watches   \n",
       "\n",
       "   PRODUCT_ID                                      PRODUCT_TITLE  \\\n",
       "0  B00EZM7A34  Bumkins Nixi Ciclo Silicone Teething Necklace,...   \n",
       "1  B000MXB33S     Toshiba SD-V295 Tunerless DVD VCR Combo Player   \n",
       "2  B00BR1IX8W  pBone PBONE2B Jiggs Mini Plastic Trombone for ...   \n",
       "3  B001DZFYPW  Toshiba SD-V296 Tunerless DVD VCR Combo Player...   \n",
       "4  B0088BN3LG  Bulova Men's 98B169 CAMPTON Two-Tone Bracelet ...   \n",
       "\n",
       "                                REVIEW_TITLE  \\\n",
       "0  Great idea for Mom's with teething babies   \n",
       "1               Great purchase for the price   \n",
       "2                          the best trombone   \n",
       "3                                 Works well   \n",
       "4                         Excellent article!   \n",
       "\n",
       "                                         REVIEW_TEXT  \\\n",
       "0  Great idea for Mom's with teething babies. The...   \n",
       "1  We needed a new VCR and found this one with th...   \n",
       "2  my so love trombone and so i purchased this on...   \n",
       "3  I picked up one of these recently, does what i...   \n",
       "4  Very elegant and sophisticated watch, I love t...   \n",
       "\n",
       "                                         array_title  length_title  \\\n",
       "0  [Bumkins, Nixi, Ciclo, Silicone, Teething, Nec...          10.0   \n",
       "1  [Toshiba, SD-V295, Tunerless, DVD, VCR, Combo,...           7.0   \n",
       "2  [pBone, PBONE2B, Jiggs, Mini, Plastic, Trombon...           9.0   \n",
       "3  [Toshiba, SD-V296, Tunerless, DVD, VCR, Combo,...           8.0   \n",
       "4  [Bulova, Men's, 98B169, CAMPTON, Two-Tone, Bra...           7.0   \n",
       "\n",
       "                                   array_reviewtitle  \n",
       "0  [Great, idea, for, Mom's, with, teething, babies]  \n",
       "1                 [Great, purchase, for, the, price]  \n",
       "2                              [the, best, trombone]  \n",
       "3                                      [Works, well]  \n",
       "4                              [Excellent, article!]  "
      ]
     },
     "execution_count": 23,
     "metadata": {},
     "output_type": "execute_result"
    }
   ],
   "source": [
    "# length of  review title features\n",
    "reviews['array_reviewtitle'] = reviews['REVIEW_TITLE'].str.split(\" \")\n",
    "reviews.head()"
   ]
  },
  {
   "cell_type": "code",
   "execution_count": 24,
   "metadata": {},
   "outputs": [
    {
     "data": {
      "text/html": [
       "<div>\n",
       "<style scoped>\n",
       "    .dataframe tbody tr th:only-of-type {\n",
       "        vertical-align: middle;\n",
       "    }\n",
       "\n",
       "    .dataframe tbody tr th {\n",
       "        vertical-align: top;\n",
       "    }\n",
       "\n",
       "    .dataframe thead th {\n",
       "        text-align: right;\n",
       "    }\n",
       "</style>\n",
       "<table border=\"1\" class=\"dataframe\">\n",
       "  <thead>\n",
       "    <tr style=\"text-align: right;\">\n",
       "      <th></th>\n",
       "      <th>REVIEW_ID</th>\n",
       "      <th>LABEL</th>\n",
       "      <th>RATING</th>\n",
       "      <th>VERIFIED_PURCHASE</th>\n",
       "      <th>PRODUCT_CATEGORY</th>\n",
       "      <th>PRODUCT_ID</th>\n",
       "      <th>PRODUCT_TITLE</th>\n",
       "      <th>REVIEW_TITLE</th>\n",
       "      <th>REVIEW_TEXT</th>\n",
       "      <th>array_title</th>\n",
       "      <th>length_title</th>\n",
       "      <th>array_reviewtitle</th>\n",
       "      <th>length_reviewtitle</th>\n",
       "    </tr>\n",
       "  </thead>\n",
       "  <tbody>\n",
       "    <tr>\n",
       "      <th>0</th>\n",
       "      <td>17023</td>\n",
       "      <td>0</td>\n",
       "      <td>5.0</td>\n",
       "      <td>Y</td>\n",
       "      <td>Baby</td>\n",
       "      <td>B00EZM7A34</td>\n",
       "      <td>Bumkins Nixi Ciclo Silicone Teething Necklace,...</td>\n",
       "      <td>Great idea for Mom's with teething babies</td>\n",
       "      <td>Great idea for Mom's with teething babies. The...</td>\n",
       "      <td>[Bumkins, Nixi, Ciclo, Silicone, Teething, Nec...</td>\n",
       "      <td>10.0</td>\n",
       "      <td>[Great, idea, for, Mom's, with, teething, babies]</td>\n",
       "      <td>7.0</td>\n",
       "    </tr>\n",
       "    <tr>\n",
       "      <th>1</th>\n",
       "      <td>3260</td>\n",
       "      <td>1</td>\n",
       "      <td>4.0</td>\n",
       "      <td>N</td>\n",
       "      <td>Home Entertainment</td>\n",
       "      <td>B000MXB33S</td>\n",
       "      <td>Toshiba SD-V295 Tunerless DVD VCR Combo Player</td>\n",
       "      <td>Great purchase for the price</td>\n",
       "      <td>We needed a new VCR and found this one with th...</td>\n",
       "      <td>[Toshiba, SD-V295, Tunerless, DVD, VCR, Combo,...</td>\n",
       "      <td>7.0</td>\n",
       "      <td>[Great, purchase, for, the, price]</td>\n",
       "      <td>5.0</td>\n",
       "    </tr>\n",
       "    <tr>\n",
       "      <th>2</th>\n",
       "      <td>3834</td>\n",
       "      <td>1</td>\n",
       "      <td>4.0</td>\n",
       "      <td>N</td>\n",
       "      <td>Musical Instruments</td>\n",
       "      <td>B00BR1IX8W</td>\n",
       "      <td>pBone PBONE2B Jiggs Mini Plastic Trombone for ...</td>\n",
       "      <td>the best trombone</td>\n",
       "      <td>my so love trombone and so i purchased this on...</td>\n",
       "      <td>[pBone, PBONE2B, Jiggs, Mini, Plastic, Trombon...</td>\n",
       "      <td>9.0</td>\n",
       "      <td>[the, best, trombone]</td>\n",
       "      <td>3.0</td>\n",
       "    </tr>\n",
       "    <tr>\n",
       "      <th>3</th>\n",
       "      <td>3284</td>\n",
       "      <td>1</td>\n",
       "      <td>4.0</td>\n",
       "      <td>N</td>\n",
       "      <td>Home Entertainment</td>\n",
       "      <td>B001DZFYPW</td>\n",
       "      <td>Toshiba SD-V296 Tunerless DVD VCR Combo Player...</td>\n",
       "      <td>Works well</td>\n",
       "      <td>I picked up one of these recently, does what i...</td>\n",
       "      <td>[Toshiba, SD-V296, Tunerless, DVD, VCR, Combo,...</td>\n",
       "      <td>8.0</td>\n",
       "      <td>[Works, well]</td>\n",
       "      <td>2.0</td>\n",
       "    </tr>\n",
       "    <tr>\n",
       "      <th>4</th>\n",
       "      <td>15519</td>\n",
       "      <td>0</td>\n",
       "      <td>5.0</td>\n",
       "      <td>Y</td>\n",
       "      <td>Watches</td>\n",
       "      <td>B0088BN3LG</td>\n",
       "      <td>Bulova Men's 98B169 CAMPTON Two-Tone Bracelet ...</td>\n",
       "      <td>Excellent article!</td>\n",
       "      <td>Very elegant and sophisticated watch, I love t...</td>\n",
       "      <td>[Bulova, Men's, 98B169, CAMPTON, Two-Tone, Bra...</td>\n",
       "      <td>7.0</td>\n",
       "      <td>[Excellent, article!]</td>\n",
       "      <td>2.0</td>\n",
       "    </tr>\n",
       "  </tbody>\n",
       "</table>\n",
       "</div>"
      ],
      "text/plain": [
       "   REVIEW_ID  LABEL  RATING VERIFIED_PURCHASE     PRODUCT_CATEGORY  \\\n",
       "0      17023      0     5.0                 Y                 Baby   \n",
       "1       3260      1     4.0                 N   Home Entertainment   \n",
       "2       3834      1     4.0                 N  Musical Instruments   \n",
       "3       3284      1     4.0                 N   Home Entertainment   \n",
       "4      15519      0     5.0                 Y              Watches   \n",
       "\n",
       "   PRODUCT_ID                                      PRODUCT_TITLE  \\\n",
       "0  B00EZM7A34  Bumkins Nixi Ciclo Silicone Teething Necklace,...   \n",
       "1  B000MXB33S     Toshiba SD-V295 Tunerless DVD VCR Combo Player   \n",
       "2  B00BR1IX8W  pBone PBONE2B Jiggs Mini Plastic Trombone for ...   \n",
       "3  B001DZFYPW  Toshiba SD-V296 Tunerless DVD VCR Combo Player...   \n",
       "4  B0088BN3LG  Bulova Men's 98B169 CAMPTON Two-Tone Bracelet ...   \n",
       "\n",
       "                                REVIEW_TITLE  \\\n",
       "0  Great idea for Mom's with teething babies   \n",
       "1               Great purchase for the price   \n",
       "2                          the best trombone   \n",
       "3                                 Works well   \n",
       "4                         Excellent article!   \n",
       "\n",
       "                                         REVIEW_TEXT  \\\n",
       "0  Great idea for Mom's with teething babies. The...   \n",
       "1  We needed a new VCR and found this one with th...   \n",
       "2  my so love trombone and so i purchased this on...   \n",
       "3  I picked up one of these recently, does what i...   \n",
       "4  Very elegant and sophisticated watch, I love t...   \n",
       "\n",
       "                                         array_title  length_title  \\\n",
       "0  [Bumkins, Nixi, Ciclo, Silicone, Teething, Nec...          10.0   \n",
       "1  [Toshiba, SD-V295, Tunerless, DVD, VCR, Combo,...           7.0   \n",
       "2  [pBone, PBONE2B, Jiggs, Mini, Plastic, Trombon...           9.0   \n",
       "3  [Toshiba, SD-V296, Tunerless, DVD, VCR, Combo,...           8.0   \n",
       "4  [Bulova, Men's, 98B169, CAMPTON, Two-Tone, Bra...           7.0   \n",
       "\n",
       "                                   array_reviewtitle  length_reviewtitle  \n",
       "0  [Great, idea, for, Mom's, with, teething, babies]                 7.0  \n",
       "1                 [Great, purchase, for, the, price]                 5.0  \n",
       "2                              [the, best, trombone]                 3.0  \n",
       "3                                      [Works, well]                 2.0  \n",
       "4                              [Excellent, article!]                 2.0  "
      ]
     },
     "execution_count": 24,
     "metadata": {},
     "output_type": "execute_result"
    }
   ],
   "source": [
    "reviews['length_reviewtitle'] = reviews['array_reviewtitle'].str.len()\n",
    "reviews.head()"
   ]
  },
  {
   "cell_type": "code",
   "execution_count": 25,
   "metadata": {},
   "outputs": [
    {
     "data": {
      "text/plain": [
       "5.1421174546941"
      ]
     },
     "execution_count": 25,
     "metadata": {},
     "output_type": "execute_result"
    }
   ],
   "source": [
    "# fill na length in 0 review title\n",
    "length_reviewtitlef0=reviews[reviews['LABEL']==0]['length_reviewtitle'].mean()\n",
    "length_reviewtitlef0"
   ]
  },
  {
   "cell_type": "code",
   "execution_count": 26,
   "metadata": {},
   "outputs": [
    {
     "data": {
      "text/plain": [
       "4.402752924982794"
      ]
     },
     "execution_count": 26,
     "metadata": {},
     "output_type": "execute_result"
    }
   ],
   "source": [
    "# fill na length in 1 review title\n",
    "length_reviewtitlef1=reviews[reviews['LABEL']==1]['length_reviewtitle'].mean()\n",
    "length_reviewtitlef1"
   ]
  },
  {
   "cell_type": "code",
   "execution_count": 27,
   "metadata": {},
   "outputs": [],
   "source": [
    "#get length under 0,1 fill na with mean of length title \n",
    "length_reviewtitle=reviews['length_reviewtitle'].mean()\n",
    "length_reviewtitle0 = reviews[reviews['LABEL']==0]['length_reviewtitle'].fillna(length_reviewtitlef0)\n",
    "length_reviewtitle1 = reviews[reviews['LABEL']==1]['length_reviewtitle'].fillna(length_reviewtitlef1)\n"
   ]
  },
  {
   "cell_type": "code",
   "execution_count": 28,
   "metadata": {},
   "outputs": [
    {
     "data": {
      "image/png": "[encoded data removed]",
      "text/plain": [
       "<Figure size 432x288 with 1 Axes>"
      ]
     },
     "metadata": {
      "needs_background": "light"
     },
     "output_type": "display_data"
    }
   ],
   "source": [
    "plt.hist([length_reviewtitle0,length_reviewtitle1],label=[0,1])\n",
    "plt.legend()\n",
    "plt.show()"
   ]
  },
  {
   "cell_type": "code",
   "execution_count": 29,
   "metadata": {},
   "outputs": [
    {
     "data": {
      "text/html": [
       "<div>\n",
       "<style scoped>\n",
       "    .dataframe tbody tr th:only-of-type {\n",
       "        vertical-align: middle;\n",
       "    }\n",
       "\n",
       "    .dataframe tbody tr th {\n",
       "        vertical-align: top;\n",
       "    }\n",
       "\n",
       "    .dataframe thead th {\n",
       "        text-align: right;\n",
       "    }\n",
       "</style>\n",
       "<table border=\"1\" class=\"dataframe\">\n",
       "  <thead>\n",
       "    <tr style=\"text-align: right;\">\n",
       "      <th></th>\n",
       "      <th>REVIEW_ID</th>\n",
       "      <th>LABEL</th>\n",
       "      <th>RATING</th>\n",
       "      <th>VERIFIED_PURCHASE</th>\n",
       "      <th>PRODUCT_CATEGORY</th>\n",
       "      <th>PRODUCT_ID</th>\n",
       "      <th>PRODUCT_TITLE</th>\n",
       "      <th>REVIEW_TITLE</th>\n",
       "      <th>REVIEW_TEXT</th>\n",
       "      <th>array_title</th>\n",
       "      <th>length_title</th>\n",
       "      <th>array_reviewtitle</th>\n",
       "      <th>length_reviewtitle</th>\n",
       "      <th>array_text</th>\n",
       "    </tr>\n",
       "  </thead>\n",
       "  <tbody>\n",
       "    <tr>\n",
       "      <th>0</th>\n",
       "      <td>17023</td>\n",
       "      <td>0</td>\n",
       "      <td>5.0</td>\n",
       "      <td>Y</td>\n",
       "      <td>Baby</td>\n",
       "      <td>B00EZM7A34</td>\n",
       "      <td>Bumkins Nixi Ciclo Silicone Teething Necklace,...</td>\n",
       "      <td>Great idea for Mom's with teething babies</td>\n",
       "      <td>Great idea for Mom's with teething babies. The...</td>\n",
       "      <td>[Bumkins, Nixi, Ciclo, Silicone, Teething, Nec...</td>\n",
       "      <td>10.0</td>\n",
       "      <td>[Great, idea, for, Mom's, with, teething, babies]</td>\n",
       "      <td>7.0</td>\n",
       "      <td>[Great, idea, for, Mom's, with, teething, babi...</td>\n",
       "    </tr>\n",
       "    <tr>\n",
       "      <th>1</th>\n",
       "      <td>3260</td>\n",
       "      <td>1</td>\n",
       "      <td>4.0</td>\n",
       "      <td>N</td>\n",
       "      <td>Home Entertainment</td>\n",
       "      <td>B000MXB33S</td>\n",
       "      <td>Toshiba SD-V295 Tunerless DVD VCR Combo Player</td>\n",
       "      <td>Great purchase for the price</td>\n",
       "      <td>We needed a new VCR and found this one with th...</td>\n",
       "      <td>[Toshiba, SD-V295, Tunerless, DVD, VCR, Combo,...</td>\n",
       "      <td>7.0</td>\n",
       "      <td>[Great, purchase, for, the, price]</td>\n",
       "      <td>5.0</td>\n",
       "      <td>[We, needed, a, new, VCR, and, found, this, on...</td>\n",
       "    </tr>\n",
       "    <tr>\n",
       "      <th>2</th>\n",
       "      <td>3834</td>\n",
       "      <td>1</td>\n",
       "      <td>4.0</td>\n",
       "      <td>N</td>\n",
       "      <td>Musical Instruments</td>\n",
       "      <td>B00BR1IX8W</td>\n",
       "      <td>pBone PBONE2B Jiggs Mini Plastic Trombone for ...</td>\n",
       "      <td>the best trombone</td>\n",
       "      <td>my so love trombone and so i purchased this on...</td>\n",
       "      <td>[pBone, PBONE2B, Jiggs, Mini, Plastic, Trombon...</td>\n",
       "      <td>9.0</td>\n",
       "      <td>[the, best, trombone]</td>\n",
       "      <td>3.0</td>\n",
       "      <td>[my, so, love, trombone, and, so, i, purchased...</td>\n",
       "    </tr>\n",
       "    <tr>\n",
       "      <th>3</th>\n",
       "      <td>3284</td>\n",
       "      <td>1</td>\n",
       "      <td>4.0</td>\n",
       "      <td>N</td>\n",
       "      <td>Home Entertainment</td>\n",
       "      <td>B001DZFYPW</td>\n",
       "      <td>Toshiba SD-V296 Tunerless DVD VCR Combo Player...</td>\n",
       "      <td>Works well</td>\n",
       "      <td>I picked up one of these recently, does what i...</td>\n",
       "      <td>[Toshiba, SD-V296, Tunerless, DVD, VCR, Combo,...</td>\n",
       "      <td>8.0</td>\n",
       "      <td>[Works, well]</td>\n",
       "      <td>2.0</td>\n",
       "      <td>[I, picked, up, one, of, these, recently,, doe...</td>\n",
       "    </tr>\n",
       "    <tr>\n",
       "      <th>4</th>\n",
       "      <td>15519</td>\n",
       "      <td>0</td>\n",
       "      <td>5.0</td>\n",
       "      <td>Y</td>\n",
       "      <td>Watches</td>\n",
       "      <td>B0088BN3LG</td>\n",
       "      <td>Bulova Men's 98B169 CAMPTON Two-Tone Bracelet ...</td>\n",
       "      <td>Excellent article!</td>\n",
       "      <td>Very elegant and sophisticated watch, I love t...</td>\n",
       "      <td>[Bulova, Men's, 98B169, CAMPTON, Two-Tone, Bra...</td>\n",
       "      <td>7.0</td>\n",
       "      <td>[Excellent, article!]</td>\n",
       "      <td>2.0</td>\n",
       "      <td>[Very, elegant, and, sophisticated, watch,, I,...</td>\n",
       "    </tr>\n",
       "  </tbody>\n",
       "</table>\n",
       "</div>"
      ],
      "text/plain": [
       "   REVIEW_ID  LABEL  RATING VERIFIED_PURCHASE     PRODUCT_CATEGORY  \\\n",
       "0      17023      0     5.0                 Y                 Baby   \n",
       "1       3260      1     4.0                 N   Home Entertainment   \n",
       "2       3834      1     4.0                 N  Musical Instruments   \n",
       "3       3284      1     4.0                 N   Home Entertainment   \n",
       "4      15519      0     5.0                 Y              Watches   \n",
       "\n",
       "   PRODUCT_ID                                      PRODUCT_TITLE  \\\n",
       "0  B00EZM7A34  Bumkins Nixi Ciclo Silicone Teething Necklace,...   \n",
       "1  B000MXB33S     Toshiba SD-V295 Tunerless DVD VCR Combo Player   \n",
       "2  B00BR1IX8W  pBone PBONE2B Jiggs Mini Plastic Trombone for ...   \n",
       "3  B001DZFYPW  Toshiba SD-V296 Tunerless DVD VCR Combo Player...   \n",
       "4  B0088BN3LG  Bulova Men's 98B169 CAMPTON Two-Tone Bracelet ...   \n",
       "\n",
       "                                REVIEW_TITLE  \\\n",
       "0  Great idea for Mom's with teething babies   \n",
       "1               Great purchase for the price   \n",
       "2                          the best trombone   \n",
       "3                                 Works well   \n",
       "4                         Excellent article!   \n",
       "\n",
       "                                         REVIEW_TEXT  \\\n",
       "0  Great idea for Mom's with teething babies. The...   \n",
       "1  We needed a new VCR and found this one with th...   \n",
       "2  my so love trombone and so i purchased this on...   \n",
       "3  I picked up one of these recently, does what i...   \n",
       "4  Very elegant and sophisticated watch, I love t...   \n",
       "\n",
       "                                         array_title  length_title  \\\n",
       "0  [Bumkins, Nixi, Ciclo, Silicone, Teething, Nec...          10.0   \n",
       "1  [Toshiba, SD-V295, Tunerless, DVD, VCR, Combo,...           7.0   \n",
       "2  [pBone, PBONE2B, Jiggs, Mini, Plastic, Trombon...           9.0   \n",
       "3  [Toshiba, SD-V296, Tunerless, DVD, VCR, Combo,...           8.0   \n",
       "4  [Bulova, Men's, 98B169, CAMPTON, Two-Tone, Bra...           7.0   \n",
       "\n",
       "                                   array_reviewtitle  length_reviewtitle  \\\n",
       "0  [Great, idea, for, Mom's, with, teething, babies]                 7.0   \n",
       "1                 [Great, purchase, for, the, price]                 5.0   \n",
       "2                              [the, best, trombone]                 3.0   \n",
       "3                                      [Works, well]                 2.0   \n",
       "4                              [Excellent, article!]                 2.0   \n",
       "\n",
       "                                          array_text  \n",
       "0  [Great, idea, for, Mom's, with, teething, babi...  \n",
       "1  [We, needed, a, new, VCR, and, found, this, on...  \n",
       "2  [my, so, love, trombone, and, so, i, purchased...  \n",
       "3  [I, picked, up, one, of, these, recently,, doe...  \n",
       "4  [Very, elegant, and, sophisticated, watch,, I,...  "
      ]
     },
     "execution_count": 29,
     "metadata": {},
     "output_type": "execute_result"
    }
   ],
   "source": [
    "# length of  review text features\n",
    "reviews['array_text'] = reviews['REVIEW_TEXT'].str.split(\" \")\n",
    "reviews.head()"
   ]
  },
  {
   "cell_type": "code",
   "execution_count": 30,
   "metadata": {},
   "outputs": [
    {
     "data": {
      "text/html": [
       "<div>\n",
       "<style scoped>\n",
       "    .dataframe tbody tr th:only-of-type {\n",
       "        vertical-align: middle;\n",
       "    }\n",
       "\n",
       "    .dataframe tbody tr th {\n",
       "        vertical-align: top;\n",
       "    }\n",
       "\n",
       "    .dataframe thead th {\n",
       "        text-align: right;\n",
       "    }\n",
       "</style>\n",
       "<table border=\"1\" class=\"dataframe\">\n",
       "  <thead>\n",
       "    <tr style=\"text-align: right;\">\n",
       "      <th></th>\n",
       "      <th>REVIEW_ID</th>\n",
       "      <th>LABEL</th>\n",
       "      <th>RATING</th>\n",
       "      <th>VERIFIED_PURCHASE</th>\n",
       "      <th>PRODUCT_CATEGORY</th>\n",
       "      <th>PRODUCT_ID</th>\n",
       "      <th>PRODUCT_TITLE</th>\n",
       "      <th>REVIEW_TITLE</th>\n",
       "      <th>REVIEW_TEXT</th>\n",
       "      <th>array_title</th>\n",
       "      <th>length_title</th>\n",
       "      <th>array_reviewtitle</th>\n",
       "      <th>length_reviewtitle</th>\n",
       "      <th>array_text</th>\n",
       "      <th>length_text</th>\n",
       "    </tr>\n",
       "  </thead>\n",
       "  <tbody>\n",
       "    <tr>\n",
       "      <th>0</th>\n",
       "      <td>17023</td>\n",
       "      <td>0</td>\n",
       "      <td>5.0</td>\n",
       "      <td>Y</td>\n",
       "      <td>Baby</td>\n",
       "      <td>B00EZM7A34</td>\n",
       "      <td>Bumkins Nixi Ciclo Silicone Teething Necklace,...</td>\n",
       "      <td>Great idea for Mom's with teething babies</td>\n",
       "      <td>Great idea for Mom's with teething babies. The...</td>\n",
       "      <td>[Bumkins, Nixi, Ciclo, Silicone, Teething, Nec...</td>\n",
       "      <td>10.0</td>\n",
       "      <td>[Great, idea, for, Mom's, with, teething, babies]</td>\n",
       "      <td>7.0</td>\n",
       "      <td>[Great, idea, for, Mom's, with, teething, babi...</td>\n",
       "      <td>21.0</td>\n",
       "    </tr>\n",
       "    <tr>\n",
       "      <th>1</th>\n",
       "      <td>3260</td>\n",
       "      <td>1</td>\n",
       "      <td>4.0</td>\n",
       "      <td>N</td>\n",
       "      <td>Home Entertainment</td>\n",
       "      <td>B000MXB33S</td>\n",
       "      <td>Toshiba SD-V295 Tunerless DVD VCR Combo Player</td>\n",
       "      <td>Great purchase for the price</td>\n",
       "      <td>We needed a new VCR and found this one with th...</td>\n",
       "      <td>[Toshiba, SD-V295, Tunerless, DVD, VCR, Combo,...</td>\n",
       "      <td>7.0</td>\n",
       "      <td>[Great, purchase, for, the, price]</td>\n",
       "      <td>5.0</td>\n",
       "      <td>[We, needed, a, new, VCR, and, found, this, on...</td>\n",
       "      <td>47.0</td>\n",
       "    </tr>\n",
       "    <tr>\n",
       "      <th>2</th>\n",
       "      <td>3834</td>\n",
       "      <td>1</td>\n",
       "      <td>4.0</td>\n",
       "      <td>N</td>\n",
       "      <td>Musical Instruments</td>\n",
       "      <td>B00BR1IX8W</td>\n",
       "      <td>pBone PBONE2B Jiggs Mini Plastic Trombone for ...</td>\n",
       "      <td>the best trombone</td>\n",
       "      <td>my so love trombone and so i purchased this on...</td>\n",
       "      <td>[pBone, PBONE2B, Jiggs, Mini, Plastic, Trombon...</td>\n",
       "      <td>9.0</td>\n",
       "      <td>[the, best, trombone]</td>\n",
       "      <td>3.0</td>\n",
       "      <td>[my, so, love, trombone, and, so, i, purchased...</td>\n",
       "      <td>53.0</td>\n",
       "    </tr>\n",
       "    <tr>\n",
       "      <th>3</th>\n",
       "      <td>3284</td>\n",
       "      <td>1</td>\n",
       "      <td>4.0</td>\n",
       "      <td>N</td>\n",
       "      <td>Home Entertainment</td>\n",
       "      <td>B001DZFYPW</td>\n",
       "      <td>Toshiba SD-V296 Tunerless DVD VCR Combo Player...</td>\n",
       "      <td>Works well</td>\n",
       "      <td>I picked up one of these recently, does what i...</td>\n",
       "      <td>[Toshiba, SD-V296, Tunerless, DVD, VCR, Combo,...</td>\n",
       "      <td>8.0</td>\n",
       "      <td>[Works, well]</td>\n",
       "      <td>2.0</td>\n",
       "      <td>[I, picked, up, one, of, these, recently,, doe...</td>\n",
       "      <td>32.0</td>\n",
       "    </tr>\n",
       "    <tr>\n",
       "      <th>4</th>\n",
       "      <td>15519</td>\n",
       "      <td>0</td>\n",
       "      <td>5.0</td>\n",
       "      <td>Y</td>\n",
       "      <td>Watches</td>\n",
       "      <td>B0088BN3LG</td>\n",
       "      <td>Bulova Men's 98B169 CAMPTON Two-Tone Bracelet ...</td>\n",
       "      <td>Excellent article!</td>\n",
       "      <td>Very elegant and sophisticated watch, I love t...</td>\n",
       "      <td>[Bulova, Men's, 98B169, CAMPTON, Two-Tone, Bra...</td>\n",
       "      <td>7.0</td>\n",
       "      <td>[Excellent, article!]</td>\n",
       "      <td>2.0</td>\n",
       "      <td>[Very, elegant, and, sophisticated, watch,, I,...</td>\n",
       "      <td>21.0</td>\n",
       "    </tr>\n",
       "  </tbody>\n",
       "</table>\n",
       "</div>"
      ],
      "text/plain": [
       "   REVIEW_ID  LABEL  RATING VERIFIED_PURCHASE     PRODUCT_CATEGORY  \\\n",
       "0      17023      0     5.0                 Y                 Baby   \n",
       "1       3260      1     4.0                 N   Home Entertainment   \n",
       "2       3834      1     4.0                 N  Musical Instruments   \n",
       "3       3284      1     4.0                 N   Home Entertainment   \n",
       "4      15519      0     5.0                 Y              Watches   \n",
       "\n",
       "   PRODUCT_ID                                      PRODUCT_TITLE  \\\n",
       "0  B00EZM7A34  Bumkins Nixi Ciclo Silicone Teething Necklace,...   \n",
       "1  B000MXB33S     Toshiba SD-V295 Tunerless DVD VCR Combo Player   \n",
       "2  B00BR1IX8W  pBone PBONE2B Jiggs Mini Plastic Trombone for ...   \n",
       "3  B001DZFYPW  Toshiba SD-V296 Tunerless DVD VCR Combo Player...   \n",
       "4  B0088BN3LG  Bulova Men's 98B169 CAMPTON Two-Tone Bracelet ...   \n",
       "\n",
       "                                REVIEW_TITLE  \\\n",
       "0  Great idea for Mom's with teething babies   \n",
       "1               Great purchase for the price   \n",
       "2                          the best trombone   \n",
       "3                                 Works well   \n",
       "4                         Excellent article!   \n",
       "\n",
       "                                         REVIEW_TEXT  \\\n",
       "0  Great idea for Mom's with teething babies. The...   \n",
       "1  We needed a new VCR and found this one with th...   \n",
       "2  my so love trombone and so i purchased this on...   \n",
       "3  I picked up one of these recently, does what i...   \n",
       "4  Very elegant and sophisticated watch, I love t...   \n",
       "\n",
       "                                         array_title  length_title  \\\n",
       "0  [Bumkins, Nixi, Ciclo, Silicone, Teething, Nec...          10.0   \n",
       "1  [Toshiba, SD-V295, Tunerless, DVD, VCR, Combo,...           7.0   \n",
       "2  [pBone, PBONE2B, Jiggs, Mini, Plastic, Trombon...           9.0   \n",
       "3  [Toshiba, SD-V296, Tunerless, DVD, VCR, Combo,...           8.0   \n",
       "4  [Bulova, Men's, 98B169, CAMPTON, Two-Tone, Bra...           7.0   \n",
       "\n",
       "                                   array_reviewtitle  length_reviewtitle  \\\n",
       "0  [Great, idea, for, Mom's, with, teething, babies]                 7.0   \n",
       "1                 [Great, purchase, for, the, price]                 5.0   \n",
       "2                              [the, best, trombone]                 3.0   \n",
       "3                                      [Works, well]                 2.0   \n",
       "4                              [Excellent, article!]                 2.0   \n",
       "\n",
       "                                          array_text  length_text  \n",
       "0  [Great, idea, for, Mom's, with, teething, babi...         21.0  \n",
       "1  [We, needed, a, new, VCR, and, found, this, on...         47.0  \n",
       "2  [my, so, love, trombone, and, so, i, purchased...         53.0  \n",
       "3  [I, picked, up, one, of, these, recently,, doe...         32.0  \n",
       "4  [Very, elegant, and, sophisticated, watch,, I,...         21.0  "
      ]
     },
     "execution_count": 30,
     "metadata": {},
     "output_type": "execute_result"
    }
   ],
   "source": [
    "reviews['length_text'] = reviews['array_text'].str.len()\n",
    "reviews.head()"
   ]
  },
  {
   "cell_type": "code",
   "execution_count": 31,
   "metadata": {},
   "outputs": [
    {
     "data": {
      "text/plain": [
       "81.29395753946652"
      ]
     },
     "execution_count": 31,
     "metadata": {},
     "output_type": "execute_result"
    }
   ],
   "source": [
    "# fill na length in 0 review text\n",
    "length_textf0=reviews[reviews['LABEL']==0]['length_text'].mean()\n",
    "length_textf0"
   ]
  },
  {
   "cell_type": "code",
   "execution_count": 32,
   "metadata": {},
   "outputs": [
    {
     "data": {
      "text/plain": [
       "59.20471139275382"
      ]
     },
     "execution_count": 32,
     "metadata": {},
     "output_type": "execute_result"
    }
   ],
   "source": [
    "# fill na length in 1 review title\n",
    "length_textf1=reviews[reviews['LABEL']==1]['length_text'].mean()\n",
    "length_textf1"
   ]
  },
  {
   "cell_type": "code",
   "execution_count": 33,
   "metadata": {},
   "outputs": [],
   "source": [
    "#get length under 0,1 fill na with mean of length text \n",
    "length_text=reviews['length_text'].mean()\n",
    "length_text0 = reviews[reviews['LABEL']==0]['length_text'].fillna(length_textf0)\n",
    "length_text1 = reviews[reviews['LABEL']==1]['length_text'].fillna(length_textf1)\n"
   ]
  },
  {
   "cell_type": "code",
   "execution_count": 34,
   "metadata": {},
   "outputs": [
    {
     "data": {
      "image/png": "[encoded data removed]",
      "text/plain": [
       "<Figure size 432x288 with 1 Axes>"
      ]
     },
     "metadata": {
      "needs_background": "light"
     },
     "output_type": "display_data"
    }
   ],
   "source": [
    "plt.hist([length_text0,length_text1],label=[0,1])\n",
    "plt.legend()\n",
    "plt.show()"
   ]
  },
  {
   "cell_type": "code",
   "execution_count": 35,
   "metadata": {},
   "outputs": [
    {
     "data": {
      "text/html": [
       "<div>\n",
       "<style scoped>\n",
       "    .dataframe tbody tr th:only-of-type {\n",
       "        vertical-align: middle;\n",
       "    }\n",
       "\n",
       "    .dataframe tbody tr th {\n",
       "        vertical-align: top;\n",
       "    }\n",
       "\n",
       "    .dataframe thead th {\n",
       "        text-align: right;\n",
       "    }\n",
       "</style>\n",
       "<table border=\"1\" class=\"dataframe\">\n",
       "  <thead>\n",
       "    <tr style=\"text-align: right;\">\n",
       "      <th></th>\n",
       "      <th>REVIEW_ID</th>\n",
       "      <th>LABEL</th>\n",
       "      <th>RATING</th>\n",
       "      <th>VERIFIED_PURCHASE</th>\n",
       "      <th>PRODUCT_CATEGORY</th>\n",
       "      <th>PRODUCT_ID</th>\n",
       "      <th>PRODUCT_TITLE</th>\n",
       "      <th>REVIEW_TITLE</th>\n",
       "      <th>REVIEW_TEXT</th>\n",
       "      <th>array_title</th>\n",
       "      <th>length_title</th>\n",
       "      <th>array_reviewtitle</th>\n",
       "      <th>length_reviewtitle</th>\n",
       "      <th>array_text</th>\n",
       "      <th>length_text</th>\n",
       "      <th>cap1</th>\n",
       "      <th>cap2</th>\n",
       "      <th>cap3</th>\n",
       "    </tr>\n",
       "  </thead>\n",
       "  <tbody>\n",
       "    <tr>\n",
       "      <th>0</th>\n",
       "      <td>17023</td>\n",
       "      <td>0</td>\n",
       "      <td>5.0</td>\n",
       "      <td>Y</td>\n",
       "      <td>Baby</td>\n",
       "      <td>B00EZM7A34</td>\n",
       "      <td>Bumkins Nixi Ciclo Silicone Teething Necklace,...</td>\n",
       "      <td>Great idea for Mom's with teething babies</td>\n",
       "      <td>Great idea for Mom's with teething babies. The...</td>\n",
       "      <td>[Bumkins, Nixi, Ciclo, Silicone, Teething, Nec...</td>\n",
       "      <td>10.0</td>\n",
       "      <td>[Great, idea, for, Mom's, with, teething, babies]</td>\n",
       "      <td>7.0</td>\n",
       "      <td>[Great, idea, for, Mom's, with, teething, babi...</td>\n",
       "      <td>21.0</td>\n",
       "      <td>0.109756</td>\n",
       "      <td>0.048780</td>\n",
       "      <td>0.046296</td>\n",
       "    </tr>\n",
       "    <tr>\n",
       "      <th>1</th>\n",
       "      <td>3260</td>\n",
       "      <td>1</td>\n",
       "      <td>4.0</td>\n",
       "      <td>N</td>\n",
       "      <td>Home Entertainment</td>\n",
       "      <td>B000MXB33S</td>\n",
       "      <td>Toshiba SD-V295 Tunerless DVD VCR Combo Player</td>\n",
       "      <td>Great purchase for the price</td>\n",
       "      <td>We needed a new VCR and found this one with th...</td>\n",
       "      <td>[Toshiba, SD-V295, Tunerless, DVD, VCR, Combo,...</td>\n",
       "      <td>7.0</td>\n",
       "      <td>[Great, purchase, for, the, price]</td>\n",
       "      <td>5.0</td>\n",
       "      <td>[We, needed, a, new, VCR, and, found, this, on...</td>\n",
       "      <td>47.0</td>\n",
       "      <td>0.282609</td>\n",
       "      <td>0.035714</td>\n",
       "      <td>0.042857</td>\n",
       "    </tr>\n",
       "    <tr>\n",
       "      <th>2</th>\n",
       "      <td>3834</td>\n",
       "      <td>1</td>\n",
       "      <td>4.0</td>\n",
       "      <td>N</td>\n",
       "      <td>Musical Instruments</td>\n",
       "      <td>B00BR1IX8W</td>\n",
       "      <td>pBone PBONE2B Jiggs Mini Plastic Trombone for ...</td>\n",
       "      <td>the best trombone</td>\n",
       "      <td>my so love trombone and so i purchased this on...</td>\n",
       "      <td>[pBone, PBONE2B, Jiggs, Mini, Plastic, Trombon...</td>\n",
       "      <td>9.0</td>\n",
       "      <td>[the, best, trombone]</td>\n",
       "      <td>3.0</td>\n",
       "      <td>[my, so, love, trombone, and, so, i, purchased...</td>\n",
       "      <td>53.0</td>\n",
       "      <td>0.213115</td>\n",
       "      <td>0.000000</td>\n",
       "      <td>0.000000</td>\n",
       "    </tr>\n",
       "    <tr>\n",
       "      <th>3</th>\n",
       "      <td>3284</td>\n",
       "      <td>1</td>\n",
       "      <td>4.0</td>\n",
       "      <td>N</td>\n",
       "      <td>Home Entertainment</td>\n",
       "      <td>B001DZFYPW</td>\n",
       "      <td>Toshiba SD-V296 Tunerless DVD VCR Combo Player...</td>\n",
       "      <td>Works well</td>\n",
       "      <td>I picked up one of these recently, does what i...</td>\n",
       "      <td>[Toshiba, SD-V296, Tunerless, DVD, VCR, Combo,...</td>\n",
       "      <td>8.0</td>\n",
       "      <td>[Works, well]</td>\n",
       "      <td>2.0</td>\n",
       "      <td>[I, picked, up, one, of, these, recently,, doe...</td>\n",
       "      <td>32.0</td>\n",
       "      <td>0.229508</td>\n",
       "      <td>0.100000</td>\n",
       "      <td>0.069444</td>\n",
       "    </tr>\n",
       "    <tr>\n",
       "      <th>4</th>\n",
       "      <td>15519</td>\n",
       "      <td>0</td>\n",
       "      <td>5.0</td>\n",
       "      <td>Y</td>\n",
       "      <td>Watches</td>\n",
       "      <td>B0088BN3LG</td>\n",
       "      <td>Bulova Men's 98B169 CAMPTON Two-Tone Bracelet ...</td>\n",
       "      <td>Excellent article!</td>\n",
       "      <td>Very elegant and sophisticated watch, I love t...</td>\n",
       "      <td>[Bulova, Men's, 98B169, CAMPTON, Two-Tone, Bra...</td>\n",
       "      <td>7.0</td>\n",
       "      <td>[Excellent, article!]</td>\n",
       "      <td>2.0</td>\n",
       "      <td>[Very, elegant, and, sophisticated, watch,, I,...</td>\n",
       "      <td>21.0</td>\n",
       "      <td>0.274510</td>\n",
       "      <td>0.055556</td>\n",
       "      <td>0.022727</td>\n",
       "    </tr>\n",
       "  </tbody>\n",
       "</table>\n",
       "</div>"
      ],
      "text/plain": [
       "   REVIEW_ID  LABEL  RATING VERIFIED_PURCHASE     PRODUCT_CATEGORY  \\\n",
       "0      17023      0     5.0                 Y                 Baby   \n",
       "1       3260      1     4.0                 N   Home Entertainment   \n",
       "2       3834      1     4.0                 N  Musical Instruments   \n",
       "3       3284      1     4.0                 N   Home Entertainment   \n",
       "4      15519      0     5.0                 Y              Watches   \n",
       "\n",
       "   PRODUCT_ID                                      PRODUCT_TITLE  \\\n",
       "0  B00EZM7A34  Bumkins Nixi Ciclo Silicone Teething Necklace,...   \n",
       "1  B000MXB33S     Toshiba SD-V295 Tunerless DVD VCR Combo Player   \n",
       "2  B00BR1IX8W  pBone PBONE2B Jiggs Mini Plastic Trombone for ...   \n",
       "3  B001DZFYPW  Toshiba SD-V296 Tunerless DVD VCR Combo Player...   \n",
       "4  B0088BN3LG  Bulova Men's 98B169 CAMPTON Two-Tone Bracelet ...   \n",
       "\n",
       "                                REVIEW_TITLE  \\\n",
       "0  Great idea for Mom's with teething babies   \n",
       "1               Great purchase for the price   \n",
       "2                          the best trombone   \n",
       "3                                 Works well   \n",
       "4                         Excellent article!   \n",
       "\n",
       "                                         REVIEW_TEXT  \\\n",
       "0  Great idea for Mom's with teething babies. The...   \n",
       "1  We needed a new VCR and found this one with th...   \n",
       "2  my so love trombone and so i purchased this on...   \n",
       "3  I picked up one of these recently, does what i...   \n",
       "4  Very elegant and sophisticated watch, I love t...   \n",
       "\n",
       "                                         array_title  length_title  \\\n",
       "0  [Bumkins, Nixi, Ciclo, Silicone, Teething, Nec...          10.0   \n",
       "1  [Toshiba, SD-V295, Tunerless, DVD, VCR, Combo,...           7.0   \n",
       "2  [pBone, PBONE2B, Jiggs, Mini, Plastic, Trombon...           9.0   \n",
       "3  [Toshiba, SD-V296, Tunerless, DVD, VCR, Combo,...           8.0   \n",
       "4  [Bulova, Men's, 98B169, CAMPTON, Two-Tone, Bra...           7.0   \n",
       "\n",
       "                                   array_reviewtitle  length_reviewtitle  \\\n",
       "0  [Great, idea, for, Mom's, with, teething, babies]                 7.0   \n",
       "1                 [Great, purchase, for, the, price]                 5.0   \n",
       "2                              [the, best, trombone]                 3.0   \n",
       "3                                      [Works, well]                 2.0   \n",
       "4                              [Excellent, article!]                 2.0   \n",
       "\n",
       "                                          array_text  length_text      cap1  \\\n",
       "0  [Great, idea, for, Mom's, with, teething, babi...         21.0  0.109756   \n",
       "1  [We, needed, a, new, VCR, and, found, this, on...         47.0  0.282609   \n",
       "2  [my, so, love, trombone, and, so, i, purchased...         53.0  0.213115   \n",
       "3  [I, picked, up, one, of, these, recently,, doe...         32.0  0.229508   \n",
       "4  [Very, elegant, and, sophisticated, watch,, I,...         21.0  0.274510   \n",
       "\n",
       "       cap2      cap3  \n",
       "0  0.048780  0.046296  \n",
       "1  0.035714  0.042857  \n",
       "2  0.000000  0.000000  \n",
       "3  0.100000  0.069444  \n",
       "4  0.055556  0.022727  "
      ]
     },
     "execution_count": 35,
     "metadata": {},
     "output_type": "execute_result"
    }
   ],
   "source": [
    "# capital letters\n",
    "reviews['cap1'] = reviews['PRODUCT_TITLE'].str.count(r'[A-Z]')/reviews['PRODUCT_TITLE'].str.len()\n",
    "reviews['cap2'] = reviews['REVIEW_TITLE'].str.count(r'[A-Z]')/reviews['REVIEW_TITLE'].str.len()\n",
    "reviews['cap3'] = reviews['REVIEW_TEXT'].str.count(r'[A-Z]')/reviews['REVIEW_TEXT'].str.len()\n",
    "reviews.head()\n"
   ]
  },
  {
   "cell_type": "code",
   "execution_count": 36,
   "metadata": {},
   "outputs": [
    {
     "name": "stderr",
     "output_type": "stream",
     "text": [
      "/Users/apple/anaconda3/lib/python3.6/site-packages/numpy/lib/histograms.py:824: RuntimeWarning: invalid value encountered in greater_equal\n",
      "  keep = (tmp_a >= first_edge)\n",
      "/Users/apple/anaconda3/lib/python3.6/site-packages/numpy/lib/histograms.py:825: RuntimeWarning: invalid value encountered in less_equal\n",
      "  keep &= (tmp_a <= last_edge)\n"
     ]
    },
    {
     "data": {
      "image/png": "[encoded data removed]",
      "text/plain": [
       "<Figure size 432x288 with 1 Axes>"
      ]
     },
     "metadata": {
      "needs_background": "light"
     },
     "output_type": "display_data"
    }
   ],
   "source": [
    "# product title\n",
    "plt.hist([reviews[reviews['LABEL']==0]['cap1'],reviews[reviews['LABEL']==1]['cap1']],label=[0,1],range=(0,0.1))\n",
    "plt.legend()\n",
    "plt.show()"
   ]
  },
  {
   "cell_type": "code",
   "execution_count": 37,
   "metadata": {},
   "outputs": [
    {
     "data": {
      "image/png": "[encoded data removed]",
      "text/plain": [
       "<Figure size 432x288 with 1 Axes>"
      ]
     },
     "metadata": {
      "needs_background": "light"
     },
     "output_type": "display_data"
    }
   ],
   "source": [
    "# review title\n",
    "plt.hist([reviews[reviews['LABEL']==0]['cap2'],reviews[reviews['LABEL']==1]['cap2']],label=[0,1],range=(0,0.1))\n",
    "plt.legend()\n",
    "plt.show()"
   ]
  },
  {
   "cell_type": "code",
   "execution_count": 38,
   "metadata": {},
   "outputs": [
    {
     "data": {
      "image/png": "[encoded data removed]",
      "text/plain": [
       "<Figure size 432x288 with 1 Axes>"
      ]
     },
     "metadata": {
      "needs_background": "light"
     },
     "output_type": "display_data"
    }
   ],
   "source": [
    "# review text\n",
    "plt.hist([reviews[reviews['LABEL']==0]['cap3'],reviews[reviews['LABEL']==1]['cap3']],label=[0,1],range=(0,0.1))\n",
    "plt.legend()\n",
    "plt.show()"
   ]
  },
  {
   "cell_type": "code",
   "execution_count": 39,
   "metadata": {},
   "outputs": [
    {
     "data": {
      "text/html": [
       "<div>\n",
       "<style scoped>\n",
       "    .dataframe tbody tr th:only-of-type {\n",
       "        vertical-align: middle;\n",
       "    }\n",
       "\n",
       "    .dataframe tbody tr th {\n",
       "        vertical-align: top;\n",
       "    }\n",
       "\n",
       "    .dataframe thead th {\n",
       "        text-align: right;\n",
       "    }\n",
       "</style>\n",
       "<table border=\"1\" class=\"dataframe\">\n",
       "  <thead>\n",
       "    <tr style=\"text-align: right;\">\n",
       "      <th></th>\n",
       "      <th>REVIEW_ID</th>\n",
       "      <th>LABEL</th>\n",
       "      <th>RATING</th>\n",
       "      <th>length_title</th>\n",
       "      <th>length_reviewtitle</th>\n",
       "      <th>length_text</th>\n",
       "      <th>cap1</th>\n",
       "      <th>cap2</th>\n",
       "      <th>cap3</th>\n",
       "    </tr>\n",
       "  </thead>\n",
       "  <tbody>\n",
       "    <tr>\n",
       "      <th>REVIEW_ID</th>\n",
       "      <td>1.000000</td>\n",
       "      <td>-0.866366</td>\n",
       "      <td>0.139722</td>\n",
       "      <td>-0.163283</td>\n",
       "      <td>0.077983</td>\n",
       "      <td>0.063937</td>\n",
       "      <td>0.041802</td>\n",
       "      <td>0.040711</td>\n",
       "      <td>0.036182</td>\n",
       "    </tr>\n",
       "    <tr>\n",
       "      <th>LABEL</th>\n",
       "      <td>-0.866366</td>\n",
       "      <td>1.000000</td>\n",
       "      <td>-0.006494</td>\n",
       "      <td>0.193145</td>\n",
       "      <td>-0.099133</td>\n",
       "      <td>-0.125525</td>\n",
       "      <td>-0.031239</td>\n",
       "      <td>-0.048905</td>\n",
       "      <td>-0.029093</td>\n",
       "    </tr>\n",
       "    <tr>\n",
       "      <th>RATING</th>\n",
       "      <td>0.139722</td>\n",
       "      <td>-0.006494</td>\n",
       "      <td>1.000000</td>\n",
       "      <td>0.059812</td>\n",
       "      <td>-0.048366</td>\n",
       "      <td>-0.005910</td>\n",
       "      <td>-0.026709</td>\n",
       "      <td>-0.003085</td>\n",
       "      <td>-0.008383</td>\n",
       "    </tr>\n",
       "    <tr>\n",
       "      <th>length_title</th>\n",
       "      <td>-0.163283</td>\n",
       "      <td>0.193145</td>\n",
       "      <td>0.059812</td>\n",
       "      <td>1.000000</td>\n",
       "      <td>0.049805</td>\n",
       "      <td>-0.030580</td>\n",
       "      <td>-0.041175</td>\n",
       "      <td>-0.000369</td>\n",
       "      <td>-0.000294</td>\n",
       "    </tr>\n",
       "    <tr>\n",
       "      <th>length_reviewtitle</th>\n",
       "      <td>0.077983</td>\n",
       "      <td>-0.099133</td>\n",
       "      <td>-0.048366</td>\n",
       "      <td>0.049805</td>\n",
       "      <td>1.000000</td>\n",
       "      <td>0.186430</td>\n",
       "      <td>0.007254</td>\n",
       "      <td>-0.190188</td>\n",
       "      <td>0.005092</td>\n",
       "    </tr>\n",
       "    <tr>\n",
       "      <th>length_text</th>\n",
       "      <td>0.063937</td>\n",
       "      <td>-0.125525</td>\n",
       "      <td>-0.005910</td>\n",
       "      <td>-0.030580</td>\n",
       "      <td>0.186430</td>\n",
       "      <td>1.000000</td>\n",
       "      <td>0.020468</td>\n",
       "      <td>0.029450</td>\n",
       "      <td>0.004556</td>\n",
       "    </tr>\n",
       "    <tr>\n",
       "      <th>cap1</th>\n",
       "      <td>0.041802</td>\n",
       "      <td>-0.031239</td>\n",
       "      <td>-0.026709</td>\n",
       "      <td>-0.041175</td>\n",
       "      <td>0.007254</td>\n",
       "      <td>0.020468</td>\n",
       "      <td>1.000000</td>\n",
       "      <td>0.028061</td>\n",
       "      <td>0.050016</td>\n",
       "    </tr>\n",
       "    <tr>\n",
       "      <th>cap2</th>\n",
       "      <td>0.040711</td>\n",
       "      <td>-0.048905</td>\n",
       "      <td>-0.003085</td>\n",
       "      <td>-0.000369</td>\n",
       "      <td>-0.190188</td>\n",
       "      <td>0.029450</td>\n",
       "      <td>0.028061</td>\n",
       "      <td>1.000000</td>\n",
       "      <td>0.347967</td>\n",
       "    </tr>\n",
       "    <tr>\n",
       "      <th>cap3</th>\n",
       "      <td>0.036182</td>\n",
       "      <td>-0.029093</td>\n",
       "      <td>-0.008383</td>\n",
       "      <td>-0.000294</td>\n",
       "      <td>0.005092</td>\n",
       "      <td>0.004556</td>\n",
       "      <td>0.050016</td>\n",
       "      <td>0.347967</td>\n",
       "      <td>1.000000</td>\n",
       "    </tr>\n",
       "  </tbody>\n",
       "</table>\n",
       "</div>"
      ],
      "text/plain": [
       "                    REVIEW_ID     LABEL    RATING  length_title  \\\n",
       "REVIEW_ID            1.000000 -0.866366  0.139722     -0.163283   \n",
       "LABEL               -0.866366  1.000000 -0.006494      0.193145   \n",
       "RATING               0.139722 -0.006494  1.000000      0.059812   \n",
       "length_title        -0.163283  0.193145  0.059812      1.000000   \n",
       "length_reviewtitle   0.077983 -0.099133 -0.048366      0.049805   \n",
       "length_text          0.063937 -0.125525 -0.005910     -0.030580   \n",
       "cap1                 0.041802 -0.031239 -0.026709     -0.041175   \n",
       "cap2                 0.040711 -0.048905 -0.003085     -0.000369   \n",
       "cap3                 0.036182 -0.029093 -0.008383     -0.000294   \n",
       "\n",
       "                    length_reviewtitle  length_text      cap1      cap2  \\\n",
       "REVIEW_ID                     0.077983     0.063937  0.041802  0.040711   \n",
       "LABEL                        -0.099133    -0.125525 -0.031239 -0.048905   \n",
       "RATING                       -0.048366    -0.005910 -0.026709 -0.003085   \n",
       "length_title                  0.049805    -0.030580 -0.041175 -0.000369   \n",
       "length_reviewtitle            1.000000     0.186430  0.007254 -0.190188   \n",
       "length_text                   0.186430     1.000000  0.020468  0.029450   \n",
       "cap1                          0.007254     0.020468  1.000000  0.028061   \n",
       "cap2                         -0.190188     0.029450  0.028061  1.000000   \n",
       "cap3                          0.005092     0.004556  0.050016  0.347967   \n",
       "\n",
       "                        cap3  \n",
       "REVIEW_ID           0.036182  \n",
       "LABEL              -0.029093  \n",
       "RATING             -0.008383  \n",
       "length_title       -0.000294  \n",
       "length_reviewtitle  0.005092  \n",
       "length_text         0.004556  \n",
       "cap1                0.050016  \n",
       "cap2                0.347967  \n",
       "cap3                1.000000  "
      ]
     },
     "execution_count": 39,
     "metadata": {},
     "output_type": "execute_result"
    }
   ],
   "source": [
    "reviews.corr()"
   ]
  },
  {
   "cell_type": "code",
   "execution_count": 40,
   "metadata": {},
   "outputs": [
    {
     "data": {
      "text/html": [
       "<div>\n",
       "<style scoped>\n",
       "    .dataframe tbody tr th:only-of-type {\n",
       "        vertical-align: middle;\n",
       "    }\n",
       "\n",
       "    .dataframe tbody tr th {\n",
       "        vertical-align: top;\n",
       "    }\n",
       "\n",
       "    .dataframe thead th {\n",
       "        text-align: right;\n",
       "    }\n",
       "</style>\n",
       "<table border=\"1\" class=\"dataframe\">\n",
       "  <thead>\n",
       "    <tr style=\"text-align: right;\">\n",
       "      <th></th>\n",
       "      <th>RATING</th>\n",
       "      <th>VERIFIED_PURCHASE</th>\n",
       "      <th>length_title</th>\n",
       "      <th>length_reviewtitle</th>\n",
       "      <th>length_text</th>\n",
       "      <th>cap1</th>\n",
       "      <th>cap2</th>\n",
       "      <th>cap3</th>\n",
       "    </tr>\n",
       "  </thead>\n",
       "  <tbody>\n",
       "    <tr>\n",
       "      <th>0</th>\n",
       "      <td>5.0</td>\n",
       "      <td>Y</td>\n",
       "      <td>10.0</td>\n",
       "      <td>7.0</td>\n",
       "      <td>21.0</td>\n",
       "      <td>0.109756</td>\n",
       "      <td>0.048780</td>\n",
       "      <td>0.046296</td>\n",
       "    </tr>\n",
       "    <tr>\n",
       "      <th>1</th>\n",
       "      <td>4.0</td>\n",
       "      <td>N</td>\n",
       "      <td>7.0</td>\n",
       "      <td>5.0</td>\n",
       "      <td>47.0</td>\n",
       "      <td>0.282609</td>\n",
       "      <td>0.035714</td>\n",
       "      <td>0.042857</td>\n",
       "    </tr>\n",
       "    <tr>\n",
       "      <th>2</th>\n",
       "      <td>4.0</td>\n",
       "      <td>N</td>\n",
       "      <td>9.0</td>\n",
       "      <td>3.0</td>\n",
       "      <td>53.0</td>\n",
       "      <td>0.213115</td>\n",
       "      <td>0.000000</td>\n",
       "      <td>0.000000</td>\n",
       "    </tr>\n",
       "    <tr>\n",
       "      <th>3</th>\n",
       "      <td>4.0</td>\n",
       "      <td>N</td>\n",
       "      <td>8.0</td>\n",
       "      <td>2.0</td>\n",
       "      <td>32.0</td>\n",
       "      <td>0.229508</td>\n",
       "      <td>0.100000</td>\n",
       "      <td>0.069444</td>\n",
       "    </tr>\n",
       "    <tr>\n",
       "      <th>4</th>\n",
       "      <td>5.0</td>\n",
       "      <td>Y</td>\n",
       "      <td>7.0</td>\n",
       "      <td>2.0</td>\n",
       "      <td>21.0</td>\n",
       "      <td>0.274510</td>\n",
       "      <td>0.055556</td>\n",
       "      <td>0.022727</td>\n",
       "    </tr>\n",
       "  </tbody>\n",
       "</table>\n",
       "</div>"
      ],
      "text/plain": [
       "   RATING VERIFIED_PURCHASE  length_title  length_reviewtitle  length_text  \\\n",
       "0     5.0                 Y          10.0                 7.0         21.0   \n",
       "1     4.0                 N           7.0                 5.0         47.0   \n",
       "2     4.0                 N           9.0                 3.0         53.0   \n",
       "3     4.0                 N           8.0                 2.0         32.0   \n",
       "4     5.0                 Y           7.0                 2.0         21.0   \n",
       "\n",
       "       cap1      cap2      cap3  \n",
       "0  0.109756  0.048780  0.046296  \n",
       "1  0.282609  0.035714  0.042857  \n",
       "2  0.213115  0.000000  0.000000  \n",
       "3  0.229508  0.100000  0.069444  \n",
       "4  0.274510  0.055556  0.022727  "
      ]
     },
     "execution_count": 40,
     "metadata": {},
     "output_type": "execute_result"
    }
   ],
   "source": [
    "reviews_numerical = reviews[[\"RATING\",\"VERIFIED_PURCHASE\",\"length_title\",\"length_reviewtitle\",\"length_text\",\"cap1\",\"cap2\",\"cap3\"]]\n",
    "reviews_numerical.head()"
   ]
  },
  {
   "cell_type": "code",
   "execution_count": 41,
   "metadata": {},
   "outputs": [
    {
     "name": "stderr",
     "output_type": "stream",
     "text": [
      "/Users/apple/anaconda3/lib/python3.6/site-packages/ipykernel_launcher.py:2: SettingWithCopyWarning: \n",
      "A value is trying to be set on a copy of a slice from a DataFrame.\n",
      "Try using .loc[row_indexer,col_indexer] = value instead\n",
      "\n",
      "See the caveats in the documentation: http://pandas.pydata.org/pandas-docs/stable/indexing.html#indexing-view-versus-copy\n",
      "  \n",
      "/Users/apple/anaconda3/lib/python3.6/site-packages/ipykernel_launcher.py:3: SettingWithCopyWarning: \n",
      "A value is trying to be set on a copy of a slice from a DataFrame.\n",
      "Try using .loc[row_indexer,col_indexer] = value instead\n",
      "\n",
      "See the caveats in the documentation: http://pandas.pydata.org/pandas-docs/stable/indexing.html#indexing-view-versus-copy\n",
      "  This is separate from the ipykernel package so we can avoid doing imports until\n"
     ]
    },
    {
     "data": {
      "text/html": [
       "<div>\n",
       "<style scoped>\n",
       "    .dataframe tbody tr th:only-of-type {\n",
       "        vertical-align: middle;\n",
       "    }\n",
       "\n",
       "    .dataframe tbody tr th {\n",
       "        vertical-align: top;\n",
       "    }\n",
       "\n",
       "    .dataframe thead th {\n",
       "        text-align: right;\n",
       "    }\n",
       "</style>\n",
       "<table border=\"1\" class=\"dataframe\">\n",
       "  <thead>\n",
       "    <tr style=\"text-align: right;\">\n",
       "      <th></th>\n",
       "      <th>RATING</th>\n",
       "      <th>VERIFIED_PURCHASE</th>\n",
       "      <th>length_title</th>\n",
       "      <th>length_reviewtitle</th>\n",
       "      <th>length_text</th>\n",
       "      <th>cap1</th>\n",
       "      <th>cap2</th>\n",
       "      <th>cap3</th>\n",
       "    </tr>\n",
       "  </thead>\n",
       "  <tbody>\n",
       "    <tr>\n",
       "      <th>0</th>\n",
       "      <td>5.0</td>\n",
       "      <td>1.0</td>\n",
       "      <td>10.0</td>\n",
       "      <td>7.0</td>\n",
       "      <td>21.0</td>\n",
       "      <td>0.109756</td>\n",
       "      <td>0.048780</td>\n",
       "      <td>0.046296</td>\n",
       "    </tr>\n",
       "    <tr>\n",
       "      <th>1</th>\n",
       "      <td>4.0</td>\n",
       "      <td>0.0</td>\n",
       "      <td>7.0</td>\n",
       "      <td>5.0</td>\n",
       "      <td>47.0</td>\n",
       "      <td>0.282609</td>\n",
       "      <td>0.035714</td>\n",
       "      <td>0.042857</td>\n",
       "    </tr>\n",
       "    <tr>\n",
       "      <th>2</th>\n",
       "      <td>4.0</td>\n",
       "      <td>0.0</td>\n",
       "      <td>9.0</td>\n",
       "      <td>3.0</td>\n",
       "      <td>53.0</td>\n",
       "      <td>0.213115</td>\n",
       "      <td>0.000000</td>\n",
       "      <td>0.000000</td>\n",
       "    </tr>\n",
       "    <tr>\n",
       "      <th>3</th>\n",
       "      <td>4.0</td>\n",
       "      <td>0.0</td>\n",
       "      <td>8.0</td>\n",
       "      <td>2.0</td>\n",
       "      <td>32.0</td>\n",
       "      <td>0.229508</td>\n",
       "      <td>0.100000</td>\n",
       "      <td>0.069444</td>\n",
       "    </tr>\n",
       "    <tr>\n",
       "      <th>4</th>\n",
       "      <td>5.0</td>\n",
       "      <td>1.0</td>\n",
       "      <td>7.0</td>\n",
       "      <td>2.0</td>\n",
       "      <td>21.0</td>\n",
       "      <td>0.274510</td>\n",
       "      <td>0.055556</td>\n",
       "      <td>0.022727</td>\n",
       "    </tr>\n",
       "  </tbody>\n",
       "</table>\n",
       "</div>"
      ],
      "text/plain": [
       "   RATING  VERIFIED_PURCHASE  length_title  length_reviewtitle  length_text  \\\n",
       "0     5.0                1.0          10.0                 7.0         21.0   \n",
       "1     4.0                0.0           7.0                 5.0         47.0   \n",
       "2     4.0                0.0           9.0                 3.0         53.0   \n",
       "3     4.0                0.0           8.0                 2.0         32.0   \n",
       "4     5.0                1.0           7.0                 2.0         21.0   \n",
       "\n",
       "       cap1      cap2      cap3  \n",
       "0  0.109756  0.048780  0.046296  \n",
       "1  0.282609  0.035714  0.042857  \n",
       "2  0.213115  0.000000  0.000000  \n",
       "3  0.229508  0.100000  0.069444  \n",
       "4  0.274510  0.055556  0.022727  "
      ]
     },
     "execution_count": 41,
     "metadata": {},
     "output_type": "execute_result"
    }
   ],
   "source": [
    "#################\n",
    "reviews_numerical['VERIFIED_PURCHASE']=reviews_numerical['VERIFIED_PURCHASE'].replace({\"N\": 0, \"Y\": 1})\n",
    "reviews_numerical['VERIFIED_PURCHASE']=reviews_numerical['VERIFIED_PURCHASE'].fillna(0)\n",
    "reviews_numerical.head()"
   ]
  },
  {
   "cell_type": "code",
   "execution_count": 42,
   "metadata": {},
   "outputs": [
    {
     "data": {
      "text/plain": [
       "RATING                94\n",
       "VERIFIED_PURCHASE      0\n",
       "length_title          99\n",
       "length_reviewtitle    96\n",
       "length_text           93\n",
       "cap1                  99\n",
       "cap2                  96\n",
       "cap3                  93\n",
       "dtype: int64"
      ]
     },
     "execution_count": 42,
     "metadata": {},
     "output_type": "execute_result"
    }
   ],
   "source": [
    "reviews_numerical.isnull().sum()"
   ]
  },
  {
   "cell_type": "code",
   "execution_count": 43,
   "metadata": {},
   "outputs": [
    {
     "data": {
      "text/plain": [
       "RATING                94\n",
       "VERIFIED_PURCHASE      0\n",
       "length_title          99\n",
       "length_reviewtitle    96\n",
       "length_text           93\n",
       "cap1                  99\n",
       "cap2                  96\n",
       "cap3                  93\n",
       "dtype: int64"
      ]
     },
     "execution_count": 43,
     "metadata": {},
     "output_type": "execute_result"
    }
   ],
   "source": [
    "reviews_numerical['RATING'].fillna(0)\n",
    "reviews_numerical.isnull().sum()"
   ]
  },
  {
   "cell_type": "code",
   "execution_count": 44,
   "metadata": {},
   "outputs": [
    {
     "name": "stderr",
     "output_type": "stream",
     "text": [
      "/Users/apple/anaconda3/lib/python3.6/site-packages/ipykernel_launcher.py:2: SettingWithCopyWarning: \n",
      "A value is trying to be set on a copy of a slice from a DataFrame.\n",
      "Try using .loc[row_indexer,col_indexer] = value instead\n",
      "\n",
      "See the caveats in the documentation: http://pandas.pydata.org/pandas-docs/stable/indexing.html#indexing-view-versus-copy\n",
      "  \n",
      "/Users/apple/anaconda3/lib/python3.6/site-packages/ipykernel_launcher.py:3: SettingWithCopyWarning: \n",
      "A value is trying to be set on a copy of a slice from a DataFrame.\n",
      "Try using .loc[row_indexer,col_indexer] = value instead\n",
      "\n",
      "See the caveats in the documentation: http://pandas.pydata.org/pandas-docs/stable/indexing.html#indexing-view-versus-copy\n",
      "  This is separate from the ipykernel package so we can avoid doing imports until\n",
      "/Users/apple/anaconda3/lib/python3.6/site-packages/ipykernel_launcher.py:5: SettingWithCopyWarning: \n",
      "A value is trying to be set on a copy of a slice from a DataFrame.\n",
      "Try using .loc[row_indexer,col_indexer] = value instead\n",
      "\n",
      "See the caveats in the documentation: http://pandas.pydata.org/pandas-docs/stable/indexing.html#indexing-view-versus-copy\n",
      "  \"\"\"\n",
      "/Users/apple/anaconda3/lib/python3.6/site-packages/ipykernel_launcher.py:6: SettingWithCopyWarning: \n",
      "A value is trying to be set on a copy of a slice from a DataFrame.\n",
      "Try using .loc[row_indexer,col_indexer] = value instead\n",
      "\n",
      "See the caveats in the documentation: http://pandas.pydata.org/pandas-docs/stable/indexing.html#indexing-view-versus-copy\n",
      "  \n",
      "/Users/apple/anaconda3/lib/python3.6/site-packages/ipykernel_launcher.py:8: SettingWithCopyWarning: \n",
      "A value is trying to be set on a copy of a slice from a DataFrame.\n",
      "Try using .loc[row_indexer,col_indexer] = value instead\n",
      "\n",
      "See the caveats in the documentation: http://pandas.pydata.org/pandas-docs/stable/indexing.html#indexing-view-versus-copy\n",
      "  \n",
      "/Users/apple/anaconda3/lib/python3.6/site-packages/ipykernel_launcher.py:9: SettingWithCopyWarning: \n",
      "A value is trying to be set on a copy of a slice from a DataFrame.\n",
      "Try using .loc[row_indexer,col_indexer] = value instead\n",
      "\n",
      "See the caveats in the documentation: http://pandas.pydata.org/pandas-docs/stable/indexing.html#indexing-view-versus-copy\n",
      "  if __name__ == '__main__':\n",
      "/Users/apple/anaconda3/lib/python3.6/site-packages/ipykernel_launcher.py:11: SettingWithCopyWarning: \n",
      "A value is trying to be set on a copy of a slice from a DataFrame.\n",
      "Try using .loc[row_indexer,col_indexer] = value instead\n",
      "\n",
      "See the caveats in the documentation: http://pandas.pydata.org/pandas-docs/stable/indexing.html#indexing-view-versus-copy\n",
      "  # This is added back by InteractiveShellApp.init_path()\n",
      "/Users/apple/anaconda3/lib/python3.6/site-packages/ipykernel_launcher.py:12: SettingWithCopyWarning: \n",
      "A value is trying to be set on a copy of a slice from a DataFrame.\n",
      "Try using .loc[row_indexer,col_indexer] = value instead\n",
      "\n",
      "See the caveats in the documentation: http://pandas.pydata.org/pandas-docs/stable/indexing.html#indexing-view-versus-copy\n",
      "  if sys.path[0] == '':\n",
      "/Users/apple/anaconda3/lib/python3.6/site-packages/ipykernel_launcher.py:14: SettingWithCopyWarning: \n",
      "A value is trying to be set on a copy of a slice from a DataFrame.\n",
      "Try using .loc[row_indexer,col_indexer] = value instead\n",
      "\n",
      "See the caveats in the documentation: http://pandas.pydata.org/pandas-docs/stable/indexing.html#indexing-view-versus-copy\n",
      "  \n",
      "/Users/apple/anaconda3/lib/python3.6/site-packages/ipykernel_launcher.py:15: SettingWithCopyWarning: \n",
      "A value is trying to be set on a copy of a slice from a DataFrame.\n",
      "Try using .loc[row_indexer,col_indexer] = value instead\n",
      "\n",
      "See the caveats in the documentation: http://pandas.pydata.org/pandas-docs/stable/indexing.html#indexing-view-versus-copy\n",
      "  from ipykernel import kernelapp as app\n",
      "/Users/apple/anaconda3/lib/python3.6/site-packages/ipykernel_launcher.py:17: SettingWithCopyWarning: \n",
      "A value is trying to be set on a copy of a slice from a DataFrame.\n",
      "Try using .loc[row_indexer,col_indexer] = value instead\n",
      "\n",
      "See the caveats in the documentation: http://pandas.pydata.org/pandas-docs/stable/indexing.html#indexing-view-versus-copy\n",
      "/Users/apple/anaconda3/lib/python3.6/site-packages/ipykernel_launcher.py:18: SettingWithCopyWarning: \n",
      "A value is trying to be set on a copy of a slice from a DataFrame.\n",
      "Try using .loc[row_indexer,col_indexer] = value instead\n",
      "\n",
      "See the caveats in the documentation: http://pandas.pydata.org/pandas-docs/stable/indexing.html#indexing-view-versus-copy\n",
      "/Users/apple/anaconda3/lib/python3.6/site-packages/ipykernel_launcher.py:20: SettingWithCopyWarning: \n",
      "A value is trying to be set on a copy of a slice from a DataFrame.\n",
      "Try using .loc[row_indexer,col_indexer] = value instead\n",
      "\n",
      "See the caveats in the documentation: http://pandas.pydata.org/pandas-docs/stable/indexing.html#indexing-view-versus-copy\n",
      "/Users/apple/anaconda3/lib/python3.6/site-packages/ipykernel_launcher.py:21: SettingWithCopyWarning: \n",
      "A value is trying to be set on a copy of a slice from a DataFrame.\n",
      "Try using .loc[row_indexer,col_indexer] = value instead\n",
      "\n",
      "See the caveats in the documentation: http://pandas.pydata.org/pandas-docs/stable/indexing.html#indexing-view-versus-copy\n",
      "/Users/apple/anaconda3/lib/python3.6/site-packages/ipykernel_launcher.py:23: SettingWithCopyWarning: \n",
      "A value is trying to be set on a copy of a slice from a DataFrame.\n",
      "Try using .loc[row_indexer,col_indexer] = value instead\n",
      "\n",
      "See the caveats in the documentation: http://pandas.pydata.org/pandas-docs/stable/indexing.html#indexing-view-versus-copy\n",
      "/Users/apple/anaconda3/lib/python3.6/site-packages/ipykernel_launcher.py:24: SettingWithCopyWarning: \n",
      "A value is trying to be set on a copy of a slice from a DataFrame.\n",
      "Try using .loc[row_indexer,col_indexer] = value instead\n",
      "\n",
      "See the caveats in the documentation: http://pandas.pydata.org/pandas-docs/stable/indexing.html#indexing-view-versus-copy\n"
     ]
    },
    {
     "data": {
      "text/plain": [
       "RATING                0\n",
       "VERIFIED_PURCHASE     0\n",
       "length_title          0\n",
       "length_reviewtitle    0\n",
       "length_text           0\n",
       "cap1                  0\n",
       "cap2                  0\n",
       "cap3                  0\n",
       "dtype: int64"
      ]
     },
     "execution_count": 44,
     "metadata": {},
     "output_type": "execute_result"
    }
   ],
   "source": [
    "#fill none\n",
    "reviews_numerical['RATING']=reviews_numerical['RATING'].fillna(0)\n",
    "reviews_numerical['RATING']=reviews_numerical['RATING'].fillna(0)\n",
    "\n",
    "reviews_numerical['VERIFIED_PURCHASE']=reviews_numerical['VERIFIED_PURCHASE'].fillna(0)\n",
    "reviews_numerical['VERIFIED_PURCHASE']=reviews_numerical['VERIFIED_PURCHASE'].fillna(0)\n",
    "\n",
    "reviews_numerical['length_title']=reviews_numerical['length_title'].fillna(reviews_numerical[reviews['LABEL']==0]['length_title'].mean())\n",
    "reviews_numerical['length_title']=reviews_numerical['length_title'].fillna(reviews_numerical[reviews['LABEL']==1]['length_title'].mean())\n",
    "\n",
    "reviews_numerical['length_reviewtitle']=reviews_numerical['length_reviewtitle'].fillna(reviews_numerical[reviews['LABEL']==0]['length_reviewtitle'].mean())\n",
    "reviews_numerical['length_reviewtitle']=reviews_numerical['length_reviewtitle'].fillna(reviews_numerical[reviews['LABEL']==1]['length_reviewtitle'].mean())\n",
    "\n",
    "reviews_numerical['length_text']=reviews_numerical['length_text'].fillna(reviews_numerical[reviews['LABEL']==0]['length_text'].mean())\n",
    "reviews_numerical['length_text']=reviews_numerical['length_text'].fillna(reviews_numerical[reviews['LABEL']==1]['length_text'].mean())\n",
    "\n",
    "reviews_numerical['cap1']=reviews_numerical['cap1'].fillna(reviews_numerical[reviews['LABEL']==0]['cap1'].mean())\n",
    "reviews_numerical['cap1']=reviews_numerical['cap1'].fillna(reviews_numerical[reviews['LABEL']==1]['cap1'].mean())\n",
    "\n",
    "reviews_numerical['cap2']=reviews_numerical['cap2'].fillna(reviews_numerical[reviews['LABEL']==0]['cap2'].mean())\n",
    "reviews_numerical['cap2']=reviews_numerical['cap2'].fillna(reviews_numerical[reviews['LABEL']==1]['cap2'].mean())\n",
    "\n",
    "reviews_numerical['cap3']=reviews_numerical['cap3'].fillna(reviews_numerical[reviews['LABEL']==0]['cap3'].mean())\n",
    "reviews_numerical['cap3']=reviews_numerical['cap3'].fillna(reviews_numerical[reviews['LABEL']==1]['cap3'].mean())\n",
    "\n",
    "reviews_numerical.isnull().sum()"
   ]
  },
  {
   "cell_type": "code",
   "execution_count": 45,
   "metadata": {},
   "outputs": [],
   "source": [
    "# text features to get tfidf\n",
    "reviews_text = reviews.drop(columns=['REVIEW_ID', 'PRODUCT_ID','PRODUCT_CATEGORY','VERIFIED_PURCHASE','RATING','LABEL'])"
   ]
  },
  {
   "cell_type": "code",
   "execution_count": 46,
   "metadata": {
    "scrolled": false
   },
   "outputs": [],
   "source": [
    "# transform to string to get tfidf\n",
    "reviews_text = reviews_text.applymap(str)\n"
   ]
  },
  {
   "cell_type": "code",
   "execution_count": 47,
   "metadata": {},
   "outputs": [
    {
     "data": {
      "text/plain": [
       "TfidfVectorizer(analyzer='word', binary=False, decode_error='strict',\n",
       "        dtype=<class 'numpy.float64'>, encoding='utf-8', input='content',\n",
       "        lowercase=True, max_df=0.97, max_features=2000, min_df=2,\n",
       "        ngram_range=(1, 1), norm='l2', preprocessor=None, smooth_idf=True,\n",
       "        stop_words='english', strip_accents=None, sublinear_tf=False,\n",
       "        token_pattern='(?u)\\\\b\\\\w\\\\w+\\\\b', tokenizer=None, use_idf=True,\n",
       "        vocabulary=None)"
      ]
     },
     "execution_count": 47,
     "metadata": {},
     "output_type": "execute_result"
    }
   ],
   "source": [
    "# calculate tfidf values frequency\n",
    "TfidfV = TfidfVectorizer(stop_words = 'english',max_features=2000,min_df=2,max_df=0.97)\n",
    "TfidfV.fit(reviews_text['REVIEW_TITLE'])\n",
    "TfidfV.fit(reviews_text['REVIEW_TEXT'])\n",
    "TfidfV.fit(reviews_text['PRODUCT_TITLE'])\n",
    "\n"
   ]
  },
  {
   "cell_type": "code",
   "execution_count": 48,
   "metadata": {},
   "outputs": [],
   "source": [
    "# values after fitting\n",
    "X_train_tfidf_TITLE = TfidfV.transform(reviews_text['REVIEW_TITLE'])\n",
    "X_train_tfidf_TEXT = TfidfV.transform(reviews_text['REVIEW_TEXT'])\n",
    "X_train_tfidf_PROTITLE = TfidfV.transform(reviews_text['PRODUCT_TITLE'])\n"
   ]
  },
  {
   "cell_type": "code",
   "execution_count": 49,
   "metadata": {},
   "outputs": [],
   "source": [
    "bench_data = hstack((X_train_tfidf_TITLE,X_train_tfidf_TEXT,X_train_tfidf_PROTITLE))\n",
    "\n",
    "X_train, X_test, y_train, y_test = train_test_split(bench_data,reviews['LABEL'],test_size=0.2,random_state=0)\n",
    "\n",
    "\n",
    "X_train_array_new = X_train.toarray()\n"
   ]
  },
  {
   "cell_type": "code",
   "execution_count": null,
   "metadata": {},
   "outputs": [],
   "source": []
  },
  {
   "cell_type": "code",
   "execution_count": 50,
   "metadata": {},
   "outputs": [
    {
     "data": {
      "image/png": "[encoded data removed]",
      "text/plain": [
       "<Figure size 720x720 with 1 Axes>"
      ]
     },
     "metadata": {
      "needs_background": "light"
     },
     "output_type": "display_data"
    },
    {
     "data": {
      "text/plain": [
       "<mpl_toolkits.mplot3d.art3d.Path3DCollection at 0x1a2a2e9f60>"
      ]
     },
     "execution_count": 50,
     "metadata": {},
     "output_type": "execute_result"
    },
    {
     "data": {
      "image/png": "[encoded data removed]",
      "text/plain": [
       "<Figure size 720x720 with 1 Axes>"
      ]
     },
     "metadata": {
      "needs_background": "light"
     },
     "output_type": "display_data"
    }
   ],
   "source": [
    "#PCA \n",
    "\n",
    "pca = PCA(n_components=3)\n",
    "\n",
    "after_pca = pca.fit_transform(X_train_array_new)\n",
    "after_pca\n",
    "\n",
    "\n",
    "#2D plot\n",
    "plt.figure(figsize=(10,10))\n",
    "plt.scatter(after_pca[:, 0], after_pca[:, 1], s=20, c=y_train,cmap='rainbow')\n",
    "plt.show()\n",
    "\n",
    "\n",
    "#3D plot\n",
    "fig = plt.figure(figsize=(10,10))\n",
    "ax = Axes3D(fig)\n",
    "ax.scatter(after_pca[:, 0], after_pca[:, 1],after_pca[:, 2],s=25, c=y_train,cmap='rainbow')"
   ]
  },
  {
   "cell_type": "code",
   "execution_count": 51,
   "metadata": {},
   "outputs": [
    {
     "name": "stdout",
     "output_type": "stream",
     "text": [
      "              precision    recall  f1-score   support\n",
      "\n",
      "           0       0.65      0.66      0.65       370\n",
      "           1       0.65      0.64      0.64       365\n",
      "\n",
      "   micro avg       0.65      0.65      0.65       735\n",
      "   macro avg       0.65      0.65      0.65       735\n",
      "weighted avg       0.65      0.65      0.65       735\n",
      "\n"
     ]
    },
    {
     "name": "stderr",
     "output_type": "stream",
     "text": [
      "/Users/apple/anaconda3/lib/python3.6/site-packages/sklearn/linear_model/logistic.py:433: FutureWarning: Default solver will be changed to 'lbfgs' in 0.22. Specify a solver to silence this warning.\n",
      "  FutureWarning)\n"
     ]
    }
   ],
   "source": [
    "# test the benchmark model under logistic regression\n",
    "\n",
    "\n",
    "logreg = LogisticRegression()\n",
    "\n",
    "logreg.fit(X_train, y_train)\n",
    "\n",
    "y_pred = logreg.predict(X_test)\n",
    "\n",
    "print(classification_report(y_test,y_pred))"
   ]
  },
  {
   "cell_type": "code",
   "execution_count": 52,
   "metadata": {},
   "outputs": [
    {
     "name": "stderr",
     "output_type": "stream",
     "text": [
      "/Users/apple/anaconda3/lib/python3.6/site-packages/ipykernel_launcher.py:5: FutureWarning: Method .as_matrix will be removed in a future version. Use .values instead.\n",
      "  \"\"\"\n"
     ]
    },
    {
     "name": "stdout",
     "output_type": "stream",
     "text": [
      "              precision    recall  f1-score   support\n",
      "\n",
      "           0       0.65      0.67      0.66       370\n",
      "           1       0.65      0.62      0.64       365\n",
      "\n",
      "   micro avg       0.65      0.65      0.65       735\n",
      "   macro avg       0.65      0.65      0.65       735\n",
      "weighted avg       0.65      0.65      0.65       735\n",
      "\n"
     ]
    }
   ],
   "source": [
    "##improvement figure out if the category is effective\n",
    "\n",
    "category = reviews[[\"PRODUCT_CATEGORY\"]]\n",
    "category = pd.get_dummies(category,drop_first=True)\n",
    "category_matrix = category.as_matrix()\n",
    "\n",
    "improve_one = hstack((bench_data,category_matrix))\n",
    "X_train, X_test, y_train, y_test = train_test_split(improve_one,reviews['LABEL'],test_size=0.05,random_state=0)\n",
    "\n",
    "logreg = LogisticRegression()\n",
    "\n",
    "logreg.fit(X_train, y_train)\n",
    "\n",
    "y_pred = logreg.predict(X_test)\n",
    "\n",
    "print(classification_report(y_test,y_pred))\n",
    "\n",
    "\n"
   ]
  },
  {
   "cell_type": "code",
   "execution_count": 53,
   "metadata": {},
   "outputs": [
    {
     "name": "stderr",
     "output_type": "stream",
     "text": [
      "/Users/apple/anaconda3/lib/python3.6/site-packages/ipykernel_launcher.py:2: FutureWarning: Method .as_matrix will be removed in a future version. Use .values instead.\n",
      "  \n"
     ]
    },
    {
     "name": "stdout",
     "output_type": "stream",
     "text": [
      "              precision    recall  f1-score   support\n",
      "\n",
      "           0       0.66      0.68      0.67       370\n",
      "           1       0.67      0.65      0.66       365\n",
      "\n",
      "   micro avg       0.67      0.67      0.67       735\n",
      "   macro avg       0.67      0.67      0.67       735\n",
      "weighted avg       0.67      0.67      0.67       735\n",
      "\n"
     ]
    }
   ],
   "source": [
    "pro_title = reviews_numerical[['length_title']]\n",
    "pro_matrix = pro_title.as_matrix()\n",
    "\n",
    "improve_pro = hstack((bench_data,pro_matrix))\n",
    "X_train, X_test, y_train, y_test = train_test_split(improve_pro,reviews['LABEL'],test_size=0.05,random_state=0)\n",
    "\n",
    "logreg = LogisticRegression()\n",
    "\n",
    "logreg.fit(X_train, y_train)\n",
    "\n",
    "y_pred = logreg.predict(X_test)\n",
    "\n",
    "print(classification_report(y_test,y_pred))"
   ]
  },
  {
   "cell_type": "code",
   "execution_count": 54,
   "metadata": {
    "scrolled": true
   },
   "outputs": [
    {
     "name": "stderr",
     "output_type": "stream",
     "text": [
      "/Users/apple/anaconda3/lib/python3.6/site-packages/ipykernel_launcher.py:6: FutureWarning: Method .as_matrix will be removed in a future version. Use .values instead.\n",
      "  \n",
      "/Users/apple/anaconda3/lib/python3.6/site-packages/ipykernel_launcher.py:7: FutureWarning: Method .as_matrix will be removed in a future version. Use .values instead.\n",
      "  import sys\n"
     ]
    },
    {
     "name": "stdout",
     "output_type": "stream",
     "text": [
      "              precision    recall  f1-score   support\n",
      "\n",
      "           0       0.66      0.68      0.67       370\n",
      "           1       0.66      0.64      0.65       365\n",
      "\n",
      "   micro avg       0.66      0.66      0.66       735\n",
      "   macro avg       0.66      0.66      0.66       735\n",
      "weighted avg       0.66      0.66      0.66       735\n",
      "\n"
     ]
    }
   ],
   "source": [
    "##improvement to figure out if the length of the review title and review text useful\n",
    "\n",
    "length_factor=reviews_numerical[['length_reviewtitle','length_text']]\n",
    "capital_factor=reviews_numerical[['cap2','cap3']]\n",
    "\n",
    "length_matrix = length_factor.as_matrix()\n",
    "capital_matrix = capital_factor.as_matrix()\n",
    "\n",
    "improve_two = hstack((bench_data,length_matrix,capital_matrix))\n",
    "X_train, X_test, y_train, y_test = train_test_split(improve_two,reviews['LABEL'],test_size=0.05,random_state=0)\n",
    "\n",
    "logreg = LogisticRegression()\n",
    "\n",
    "logreg.fit(X_train, y_train)\n",
    "\n",
    "y_pred = logreg.predict(X_test)\n",
    "\n",
    "print(classification_report(y_test,y_pred))\n",
    "\n"
   ]
  },
  {
   "cell_type": "code",
   "execution_count": 55,
   "metadata": {},
   "outputs": [
    {
     "name": "stdout",
     "output_type": "stream",
     "text": [
      "              precision    recall  f1-score   support\n",
      "\n",
      "           0       0.65      0.68      0.66       370\n",
      "           1       0.66      0.64      0.65       365\n",
      "\n",
      "   micro avg       0.66      0.66      0.66       735\n",
      "   macro avg       0.66      0.66      0.66       735\n",
      "weighted avg       0.66      0.66      0.66       735\n",
      "\n"
     ]
    },
    {
     "name": "stderr",
     "output_type": "stream",
     "text": [
      "/Users/apple/anaconda3/lib/python3.6/site-packages/ipykernel_launcher.py:5: FutureWarning: Method .as_matrix will be removed in a future version. Use .values instead.\n",
      "  \"\"\"\n"
     ]
    }
   ],
   "source": [
    "\n",
    "## improvement figure out if the rating useful\n",
    "\n",
    "rating_factor = reviews_numerical[['RATING']]\n",
    "rating_matrix = rating_factor.as_matrix()\n",
    "\n",
    "improve_three = hstack((bench_data,rating_matrix))\n",
    "X_train, X_test, y_train, y_test = train_test_split(improve_three,reviews['LABEL'],test_size=0.05,random_state=0)\n",
    "\n",
    "logreg = LogisticRegression()\n",
    "\n",
    "logreg.fit(X_train, y_train)\n",
    "\n",
    "y_pred = logreg.predict(X_test)\n",
    "\n",
    "print(classification_report(y_test,y_pred))"
   ]
  },
  {
   "cell_type": "code",
   "execution_count": 56,
   "metadata": {},
   "outputs": [
    {
     "name": "stderr",
     "output_type": "stream",
     "text": [
      "/Users/apple/anaconda3/lib/python3.6/site-packages/ipykernel_launcher.py:2: FutureWarning: Method .as_matrix will be removed in a future version. Use .values instead.\n",
      "  \n"
     ]
    },
    {
     "name": "stdout",
     "output_type": "stream",
     "text": [
      "              precision    recall  f1-score   support\n",
      "\n",
      "           0       0.81      0.83      0.82      1459\n",
      "           1       0.83      0.81      0.82      1481\n",
      "\n",
      "   micro avg       0.82      0.82      0.82      2940\n",
      "   macro avg       0.82      0.82      0.82      2940\n",
      "weighted avg       0.82      0.82      0.82      2940\n",
      "\n"
     ]
    }
   ],
   "source": [
    "vpur_factor = reviews_numerical[['VERIFIED_PURCHASE']]\n",
    "vpur_matrix = vpur_factor.as_matrix()\n",
    "\n",
    "improve_four = hstack((bench_data,vpur_matrix))\n",
    "X_train, X_test, y_train, y_test = train_test_split(improve_four,reviews['LABEL'],test_size=0.2,random_state=0)\n",
    "\n",
    "logreg = LogisticRegression()\n",
    "\n",
    "logreg.fit(X_train, y_train)\n",
    "\n",
    "y_pred = logreg.predict(X_test)\n",
    "\n",
    "print(classification_report(y_test,y_pred))"
   ]
  },
  {
   "cell_type": "code",
   "execution_count": 57,
   "metadata": {},
   "outputs": [
    {
     "name": "stdout",
     "output_type": "stream",
     "text": [
      "              precision    recall  f1-score   support\n",
      "\n",
      "           0       0.85      0.87      0.86       370\n",
      "           1       0.86      0.84      0.85       365\n",
      "\n",
      "   micro avg       0.85      0.85      0.85       735\n",
      "   macro avg       0.85      0.85      0.85       735\n",
      "weighted avg       0.85      0.85      0.85       735\n",
      "\n"
     ]
    }
   ],
   "source": [
    "# final model \n",
    "\n",
    "improve_final = hstack((bench_data,vpur_matrix,rating_matrix,length_matrix,capital_matrix))\n",
    "\n",
    "\n",
    "X_train, X_test, y_train, y_test = train_test_split(improve_final,reviews['LABEL'],test_size=0.05,random_state=0)\n",
    "\n",
    "logreg = LogisticRegression()\n",
    "\n",
    "logreg.fit(X_train, y_train)\n",
    "\n",
    "y_pred = logreg.predict(X_test)\n",
    "\n",
    "print(classification_report(y_test,y_pred))"
   ]
  },
  {
   "cell_type": "code",
   "execution_count": 58,
   "metadata": {},
   "outputs": [
    {
     "data": {
      "text/plain": [
       "(14700, 6006)"
      ]
     },
     "execution_count": 58,
     "metadata": {},
     "output_type": "execute_result"
    }
   ],
   "source": [
    "improve_final.shape\n"
   ]
  },
  {
   "cell_type": "code",
   "execution_count": 59,
   "metadata": {
    "scrolled": true
   },
   "outputs": [
    {
     "name": "stderr",
     "output_type": "stream",
     "text": [
      "/Users/apple/anaconda3/lib/python3.6/site-packages/ipykernel_launcher.py:14: FutureWarning: Method .as_matrix will be removed in a future version. Use .values instead.\n",
      "  \n",
      "/Users/apple/anaconda3/lib/python3.6/site-packages/ipykernel_launcher.py:37: FutureWarning: Method .as_matrix will be removed in a future version. Use .values instead.\n",
      "/Users/apple/anaconda3/lib/python3.6/site-packages/ipykernel_launcher.py:43: SettingWithCopyWarning: \n",
      "A value is trying to be set on a copy of a slice from a DataFrame.\n",
      "Try using .loc[row_indexer,col_indexer] = value instead\n",
      "\n",
      "See the caveats in the documentation: http://pandas.pydata.org/pandas-docs/stable/indexing.html#indexing-view-versus-copy\n"
     ]
    }
   ],
   "source": [
    "#test\n",
    "dataset_test = pd.read_csv(\"review_test.csv\")\n",
    "\n",
    "#calculate the length and capital letter ratio\n",
    "dataset_test['length_title']=dataset_test['REVIEW_TITLE'].str.split(\" \").str.len()\n",
    "dataset_test['length_text']=dataset_test['REVIEW_TEXT'].str.split(\" \").str.len()\n",
    "dataset_test['Cap_title'] = dataset_test['REVIEW_TITLE'].str.count(r'[A-Z]')/dataset_test['REVIEW_TITLE'].str.len()\n",
    "dataset_test['Cap_text'] = dataset_test['REVIEW_TEXT'].str.count(r'[A-Z]')/dataset_test['REVIEW_TEXT'].str.len()\n",
    "\n",
    "# transfer verified purchase to 0,1\n",
    "dataset_test_number = dataset_test[[\"RATING\",\"VERIFIED_PURCHASE\"]]\n",
    "dataset_test_number= dataset_test_number.replace({\"N\": 0, \"Y\": 1})\n",
    "dataset_test_number = dataset_test_number.fillna(0)\n",
    "test_number_matrix=dataset_test_number.as_matrix()\n",
    "\n",
    "#fill the missing length and raito to mean\n",
    "dataset_test['Cap_title']=dataset_test['Cap_title'].fillna(dataset_test['Cap_title'].mean())\n",
    "dataset_test['Cap_text']=dataset_test['Cap_text'].fillna(dataset_test['Cap_text'].mean())\n",
    "dataset_test['length_title']=dataset_test['length_title'].fillna(dataset_test['length_title'].mean())\n",
    "dataset_test['length_text']=dataset_test['length_text'].fillna(dataset_test['length_text'].mean())\n",
    "\n",
    "\n",
    "#deal with the text data\n",
    "test_text_data = dataset_test.drop(columns=['REVIEW_ID', 'PRODUCT_ID','PRODUCT_CATEGORY','VERIFIED_PURCHASE','RATING'])\n",
    "test_text_data = test_text_data.applymap(str)\n",
    "TfidfV = TfidfVectorizer(stop_words = 'english',max_features=2000,min_df=2,max_df=0.97)\n",
    "TfidfV.fit(test_text_data['REVIEW_TITLE'])\n",
    "TfidfV.fit(test_text_data['REVIEW_TEXT'])\n",
    "TfidfV.fit(test_text_data['PRODUCT_TITLE'])\n",
    "\n",
    "X_test_tfidf_TITLE = TfidfV.transform(test_text_data['REVIEW_TITLE'])\n",
    "X_test_tfidf_TEXT = TfidfV.transform(test_text_data['REVIEW_TEXT'])\n",
    "X_test_tfidf_PROTITLE = TfidfV.transform(test_text_data['PRODUCT_TITLE'])\n",
    "\n",
    "\n",
    "test_numerical=dataset_test[[\"length_title\",\"length_text\",\"Cap_title\",\"Cap_text\"]]\n",
    "test_numerical_matrix=test_numerical.as_matrix()\n",
    "\n",
    "data_input=hstack((X_test_tfidf_TITLE,X_test_tfidf_TEXT,X_test_tfidf_PROTITLE,test_number_matrix,test_numerical_matrix))\n",
    "\n",
    "review_id = dataset_test[['REVIEW_ID']]\n",
    "pre_label = logreg.predict(data_input)\n",
    "review_id[\"pred_label\"] = pre_label\n",
    "\n",
    "review_id.to_csv('Group39_BUSS6002_Assignment2_Test_Results.csv',index=False)\n"
   ]
  }
 ],
 "metadata": {
  "kernelspec": {
   "display_name": "Python 3",
   "language": "python",
   "name": "python3"
  },
  "language_info": {
   "codemirror_mode": {
    "name": "ipython",
    "version": 3
   },
   "file_extension": ".py",
   "mimetype": "text/x-python",
   "name": "python",
   "nbconvert_exporter": "python",
   "pygments_lexer": "ipython3",
   "version": "3.6.8"
  }
 },
 "nbformat": 4,
 "nbformat_minor": 2
}
