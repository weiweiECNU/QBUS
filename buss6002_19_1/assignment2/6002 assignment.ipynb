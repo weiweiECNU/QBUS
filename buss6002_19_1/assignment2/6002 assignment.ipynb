{
 "cells": [
  {
   "cell_type": "code",
   "execution_count": 1,
   "metadata": {},
   "outputs": [
    {
     "name": "stderr",
     "output_type": "stream",
     "text": [
      "/Users/apple/anaconda3/lib/python3.6/site-packages/numpy/lib/histograms.py:824: RuntimeWarning: invalid value encountered in greater_equal\n",
      "  keep = (tmp_a >= first_edge)\n",
      "/Users/apple/anaconda3/lib/python3.6/site-packages/numpy/lib/histograms.py:825: RuntimeWarning: invalid value encountered in less_equal\n",
      "  keep &= (tmp_a <= last_edge)\n"
     ]
    },
    {
     "data": {
      "text/plain": [
       "<Figure size 640x480 with 1 Axes>"
      ]
     },
     "metadata": {},
     "output_type": "display_data"
    },
    {
     "data": {
      "text/plain": [
       "<Figure size 640x480 with 1 Axes>"
      ]
     },
     "metadata": {},
     "output_type": "display_data"
    }
   ],
   "source": [
    "import pandas as pd\n",
    "from sklearn.feature_extraction.text import TfidfVectorizer\n",
    "from sklearn.feature_extraction.text import CountVectorizer\n",
    "from sklearn.feature_extraction.text import TfidfTransformer\n",
    "from sklearn.model_selection import train_test_split\n",
    "from sklearn.ensemble import RandomForestClassifier\n",
    "import numpy as np\n",
    "from mpl_toolkits.mplot3d import Axes3D \n",
    "\n",
    "from matplotlib import font_manager as fm \n",
    "from matplotlib import cm \n",
    "import matplotlib.pyplot as plt\n",
    "from sklearn.decomposition import PCA\n",
    "\n",
    "from sklearn.metrics import roc_curve\n",
    "from sklearn.metrics import roc_auc_score\n",
    "from sklearn.metrics import classification_report\n",
    "from sklearn.model_selection import GridSearchCV\n",
    "from sklearn.metrics import classification_report\n",
    "from sklearn.linear_model import LogisticRegression\n",
    "from sklearn.metrics import classification_report\n",
    "\n",
    "from scipy.sparse import hstack\n",
    "\n",
    "dataset = pd.read_csv(\"review_train.csv\")\n",
    "\n",
    "\n",
    "\n",
    "dataset.head()\n",
    "\n",
    "#EDA 1: THE LENGTH OF THE SENTENCE\n",
    "\n",
    "dataset['length_title']=dataset['REVIEW_TITLE'].str.split(\" \").str.len()\n",
    "\n",
    "dataset['length_text']=dataset['REVIEW_TEXT'].str.split(\" \").str.len()\n",
    "\n",
    "length0_title = dataset[dataset['LABEL']==0]['length_title']\n",
    "length0_text = dataset[dataset['LABEL']==0]['length_text']\n",
    "length1_title = dataset[dataset['LABEL']==1]['length_title']\n",
    "length1_text = dataset[dataset['LABEL']==1]['length_text']\n",
    "\n",
    "#give 0 to missing data\n",
    "\n",
    "plt.hist([length0_title,length1_title], label=[0,1])\n",
    "plt.legend()\n",
    "plt.show()\n",
    "\n",
    "plt.hist([length0_text,length1_text], label=[0,1],range=(0,100))\n",
    "plt.legend()\n",
    "plt.show()\n"
   ]
  },
  {
   "cell_type": "code",
   "execution_count": 2,
   "metadata": {},
   "outputs": [
    {
     "data": {
      "text/html": [
       "<div>\n",
       "<style scoped>\n",
       "    .dataframe tbody tr th:only-of-type {\n",
       "        vertical-align: middle;\n",
       "    }\n",
       "\n",
       "    .dataframe tbody tr th {\n",
       "        vertical-align: top;\n",
       "    }\n",
       "\n",
       "    .dataframe thead th {\n",
       "        text-align: right;\n",
       "    }\n",
       "</style>\n",
       "<table border=\"1\" class=\"dataframe\">\n",
       "  <thead>\n",
       "    <tr style=\"text-align: right;\">\n",
       "      <th></th>\n",
       "      <th>REVIEW_ID</th>\n",
       "      <th>LABEL</th>\n",
       "      <th>RATING</th>\n",
       "      <th>VERIFIED_PURCHASE</th>\n",
       "      <th>PRODUCT_CATEGORY</th>\n",
       "      <th>PRODUCT_ID</th>\n",
       "      <th>PRODUCT_TITLE</th>\n",
       "      <th>REVIEW_TITLE</th>\n",
       "      <th>REVIEW_TEXT</th>\n",
       "      <th>length_title</th>\n",
       "      <th>length_text</th>\n",
       "      <th>Cap_title</th>\n",
       "      <th>Cap_text</th>\n",
       "    </tr>\n",
       "  </thead>\n",
       "  <tbody>\n",
       "    <tr>\n",
       "      <th>0</th>\n",
       "      <td>17023</td>\n",
       "      <td>0</td>\n",
       "      <td>5.0</td>\n",
       "      <td>Y</td>\n",
       "      <td>Baby</td>\n",
       "      <td>B00EZM7A34</td>\n",
       "      <td>Bumkins Nixi Ciclo Silicone Teething Necklace,...</td>\n",
       "      <td>Great idea for Mom's with teething babies</td>\n",
       "      <td>Great idea for Mom's with teething babies. The...</td>\n",
       "      <td>7.0</td>\n",
       "      <td>21.0</td>\n",
       "      <td>0.048780</td>\n",
       "      <td>0.046296</td>\n",
       "    </tr>\n",
       "    <tr>\n",
       "      <th>1</th>\n",
       "      <td>3260</td>\n",
       "      <td>1</td>\n",
       "      <td>4.0</td>\n",
       "      <td>N</td>\n",
       "      <td>Home Entertainment</td>\n",
       "      <td>B000MXB33S</td>\n",
       "      <td>Toshiba SD-V295 Tunerless DVD VCR Combo Player</td>\n",
       "      <td>Great purchase for the price</td>\n",
       "      <td>We needed a new VCR and found this one with th...</td>\n",
       "      <td>5.0</td>\n",
       "      <td>47.0</td>\n",
       "      <td>0.035714</td>\n",
       "      <td>0.042857</td>\n",
       "    </tr>\n",
       "    <tr>\n",
       "      <th>2</th>\n",
       "      <td>3834</td>\n",
       "      <td>1</td>\n",
       "      <td>4.0</td>\n",
       "      <td>N</td>\n",
       "      <td>Musical Instruments</td>\n",
       "      <td>B00BR1IX8W</td>\n",
       "      <td>pBone PBONE2B Jiggs Mini Plastic Trombone for ...</td>\n",
       "      <td>the best trombone</td>\n",
       "      <td>my so love trombone and so i purchased this on...</td>\n",
       "      <td>3.0</td>\n",
       "      <td>53.0</td>\n",
       "      <td>0.000000</td>\n",
       "      <td>0.000000</td>\n",
       "    </tr>\n",
       "    <tr>\n",
       "      <th>3</th>\n",
       "      <td>3284</td>\n",
       "      <td>1</td>\n",
       "      <td>4.0</td>\n",
       "      <td>N</td>\n",
       "      <td>Home Entertainment</td>\n",
       "      <td>B001DZFYPW</td>\n",
       "      <td>Toshiba SD-V296 Tunerless DVD VCR Combo Player...</td>\n",
       "      <td>Works well</td>\n",
       "      <td>I picked up one of these recently, does what i...</td>\n",
       "      <td>2.0</td>\n",
       "      <td>32.0</td>\n",
       "      <td>0.100000</td>\n",
       "      <td>0.069444</td>\n",
       "    </tr>\n",
       "    <tr>\n",
       "      <th>4</th>\n",
       "      <td>15519</td>\n",
       "      <td>0</td>\n",
       "      <td>5.0</td>\n",
       "      <td>Y</td>\n",
       "      <td>Watches</td>\n",
       "      <td>B0088BN3LG</td>\n",
       "      <td>Bulova Men's 98B169 CAMPTON Two-Tone Bracelet ...</td>\n",
       "      <td>Excellent article!</td>\n",
       "      <td>Very elegant and sophisticated watch, I love t...</td>\n",
       "      <td>2.0</td>\n",
       "      <td>21.0</td>\n",
       "      <td>0.055556</td>\n",
       "      <td>0.022727</td>\n",
       "    </tr>\n",
       "  </tbody>\n",
       "</table>\n",
       "</div>"
      ],
      "text/plain": [
       "   REVIEW_ID  LABEL  RATING VERIFIED_PURCHASE     PRODUCT_CATEGORY  \\\n",
       "0      17023      0     5.0                 Y                 Baby   \n",
       "1       3260      1     4.0                 N   Home Entertainment   \n",
       "2       3834      1     4.0                 N  Musical Instruments   \n",
       "3       3284      1     4.0                 N   Home Entertainment   \n",
       "4      15519      0     5.0                 Y              Watches   \n",
       "\n",
       "   PRODUCT_ID                                      PRODUCT_TITLE  \\\n",
       "0  B00EZM7A34  Bumkins Nixi Ciclo Silicone Teething Necklace,...   \n",
       "1  B000MXB33S     Toshiba SD-V295 Tunerless DVD VCR Combo Player   \n",
       "2  B00BR1IX8W  pBone PBONE2B Jiggs Mini Plastic Trombone for ...   \n",
       "3  B001DZFYPW  Toshiba SD-V296 Tunerless DVD VCR Combo Player...   \n",
       "4  B0088BN3LG  Bulova Men's 98B169 CAMPTON Two-Tone Bracelet ...   \n",
       "\n",
       "                                REVIEW_TITLE  \\\n",
       "0  Great idea for Mom's with teething babies   \n",
       "1               Great purchase for the price   \n",
       "2                          the best trombone   \n",
       "3                                 Works well   \n",
       "4                         Excellent article!   \n",
       "\n",
       "                                         REVIEW_TEXT  length_title  \\\n",
       "0  Great idea for Mom's with teething babies. The...           7.0   \n",
       "1  We needed a new VCR and found this one with th...           5.0   \n",
       "2  my so love trombone and so i purchased this on...           3.0   \n",
       "3  I picked up one of these recently, does what i...           2.0   \n",
       "4  Very elegant and sophisticated watch, I love t...           2.0   \n",
       "\n",
       "   length_text  Cap_title  Cap_text  \n",
       "0         21.0   0.048780  0.046296  \n",
       "1         47.0   0.035714  0.042857  \n",
       "2         53.0   0.000000  0.000000  \n",
       "3         32.0   0.100000  0.069444  \n",
       "4         21.0   0.055556  0.022727  "
      ]
     },
     "execution_count": 2,
     "metadata": {},
     "output_type": "execute_result"
    }
   ],
   "source": [
    "dataset['Cap_title'] = dataset['REVIEW_TITLE'].str.count(r'[A-Z]')/dataset['REVIEW_TITLE'].str.len()\n",
    "\n",
    "dataset['Cap_text'] = dataset['REVIEW_TEXT'].str.count(r'[A-Z]')/dataset['REVIEW_TEXT'].str.len()\n",
    "\n",
    "dataset.head()"
   ]
  },
  {
   "cell_type": "code",
   "execution_count": 3,
   "metadata": {},
   "outputs": [
    {
     "data": {
      "image/png": "[encoded data removed]",
      "text/plain": [
       "<Figure size 432x288 with 1 Axes>"
      ]
     },
     "metadata": {
      "needs_background": "light"
     },
     "output_type": "display_data"
    }
   ],
   "source": [
    "plt.hist([dataset[dataset['LABEL']==0]['Cap_title'],dataset[dataset['LABEL']==1]['Cap_title']],label=[0,1],range=(0,0.1))\n",
    "plt.legend()\n",
    "plt.show()"
   ]
  },
  {
   "cell_type": "code",
   "execution_count": 4,
   "metadata": {},
   "outputs": [
    {
     "data": {
      "image/png": "[encoded data removed]",
      "text/plain": [
       "<Figure size 432x288 with 1 Axes>"
      ]
     },
     "metadata": {
      "needs_background": "light"
     },
     "output_type": "display_data"
    }
   ],
   "source": [
    "plt.hist([dataset[dataset['LABEL']==0]['Cap_text'],dataset[dataset['LABEL']==1]['Cap_text']],label=[0,1],range=(0,0.1))\n",
    "plt.legend()\n",
    "plt.show()"
   ]
  },
  {
   "cell_type": "code",
   "execution_count": 5,
   "metadata": {},
   "outputs": [],
   "source": [
    "dataset_bench=dataset[[\"length_title\",\"length_text\",\"Cap_title\",\"Cap_text\"]]\n",
    "dataset_bench=dataset_bench.fillna(dataset_bench.mean())"
   ]
  },
  {
   "cell_type": "code",
   "execution_count": 6,
   "metadata": {},
   "outputs": [
    {
     "data": {
      "text/plain": [
       "length_title    0\n",
       "length_text     0\n",
       "Cap_title       0\n",
       "Cap_text        0\n",
       "dtype: int64"
      ]
     },
     "execution_count": 6,
     "metadata": {},
     "output_type": "execute_result"
    }
   ],
   "source": [
    "dataset_bench.isnull().sum()"
   ]
  },
  {
   "cell_type": "code",
   "execution_count": 7,
   "metadata": {},
   "outputs": [
    {
     "name": "stderr",
     "output_type": "stream",
     "text": [
      "/Users/apple/anaconda3/lib/python3.6/site-packages/ipykernel_launcher.py:1: FutureWarning: Method .as_matrix will be removed in a future version. Use .values instead.\n",
      "  \"\"\"Entry point for launching an IPython kernel.\n"
     ]
    }
   ],
   "source": [
    "bench_matrix=dataset_bench.as_matrix()"
   ]
  },
  {
   "cell_type": "code",
   "execution_count": 8,
   "metadata": {},
   "outputs": [
    {
     "name": "stderr",
     "output_type": "stream",
     "text": [
      "/Users/apple/anaconda3/lib/python3.6/site-packages/ipykernel_launcher.py:4: FutureWarning: Method .as_matrix will be removed in a future version. Use .values instead.\n",
      "  after removing the cwd from sys.path.\n"
     ]
    }
   ],
   "source": [
    "dataset_number = dataset[[\"RATING\",\"VERIFIED_PURCHASE\"]]\n",
    "dataset_number= dataset_number.replace({\"N\": 0, \"Y\": 1})\n",
    "dataset_number = dataset_number.fillna(0)\n",
    "number_matrix=dataset_number.as_matrix()"
   ]
  },
  {
   "cell_type": "code",
   "execution_count": 9,
   "metadata": {},
   "outputs": [
    {
     "data": {
      "text/html": [
       "<div>\n",
       "<style scoped>\n",
       "    .dataframe tbody tr th:only-of-type {\n",
       "        vertical-align: middle;\n",
       "    }\n",
       "\n",
       "    .dataframe tbody tr th {\n",
       "        vertical-align: top;\n",
       "    }\n",
       "\n",
       "    .dataframe thead th {\n",
       "        text-align: right;\n",
       "    }\n",
       "</style>\n",
       "<table border=\"1\" class=\"dataframe\">\n",
       "  <thead>\n",
       "    <tr style=\"text-align: right;\">\n",
       "      <th></th>\n",
       "      <th>PRODUCT_TITLE</th>\n",
       "      <th>REVIEW_TITLE</th>\n",
       "      <th>REVIEW_TEXT</th>\n",
       "    </tr>\n",
       "  </thead>\n",
       "  <tbody>\n",
       "    <tr>\n",
       "      <th>0</th>\n",
       "      <td>Bumkins Nixi Ciclo Silicone Teething Necklace,...</td>\n",
       "      <td>Great idea for Mom's with teething babies</td>\n",
       "      <td>Great idea for Mom's with teething babies. The...</td>\n",
       "    </tr>\n",
       "    <tr>\n",
       "      <th>1</th>\n",
       "      <td>Toshiba SD-V295 Tunerless DVD VCR Combo Player</td>\n",
       "      <td>Great purchase for the price</td>\n",
       "      <td>We needed a new VCR and found this one with th...</td>\n",
       "    </tr>\n",
       "    <tr>\n",
       "      <th>2</th>\n",
       "      <td>pBone PBONE2B Jiggs Mini Plastic Trombone for ...</td>\n",
       "      <td>the best trombone</td>\n",
       "      <td>my so love trombone and so i purchased this on...</td>\n",
       "    </tr>\n",
       "    <tr>\n",
       "      <th>3</th>\n",
       "      <td>Toshiba SD-V296 Tunerless DVD VCR Combo Player...</td>\n",
       "      <td>Works well</td>\n",
       "      <td>I picked up one of these recently, does what i...</td>\n",
       "    </tr>\n",
       "    <tr>\n",
       "      <th>4</th>\n",
       "      <td>Bulova Men's 98B169 CAMPTON Two-Tone Bracelet ...</td>\n",
       "      <td>Excellent article!</td>\n",
       "      <td>Very elegant and sophisticated watch, I love t...</td>\n",
       "    </tr>\n",
       "    <tr>\n",
       "      <th>5</th>\n",
       "      <td>DenadaDance Tailor’s Bunion Pads Set of 3 - So...</td>\n",
       "      <td>I was a little skeptical when I opened the pac...</td>\n",
       "      <td>I was a little skeptical when I opened the pac...</td>\n",
       "    </tr>\n",
       "    <tr>\n",
       "      <th>6</th>\n",
       "      <td>Bixle 1/2-Inch Extra Thick 15 mm 72-Inch Long ...</td>\n",
       "      <td>Hello sit-ups, it's been a while!</td>\n",
       "      <td>I am a somewhat overweight male. I got this be...</td>\n",
       "    </tr>\n",
       "    <tr>\n",
       "      <th>7</th>\n",
       "      <td>Master Airbrush Brand 1/4\" BSP Male to 1/8\" BS...</td>\n",
       "      <td>Works exactly as advertised</td>\n",
       "      <td>I purchased this for use on a TC compressor an...</td>\n",
       "    </tr>\n",
       "    <tr>\n",
       "      <th>8</th>\n",
       "      <td>PYRUS Magnet Wireless Headphones Bluetooth V4....</td>\n",
       "      <td>Nice set of headphones. Best buy. You won't re...</td>\n",
       "      <td>Took a little longer to arrive, but there's no...</td>\n",
       "    </tr>\n",
       "    <tr>\n",
       "      <th>9</th>\n",
       "      <td>**MOST HEALTHY** Car Air Purifier Ionizer with...</td>\n",
       "      <td>highly recommend!!</td>\n",
       "      <td>I have to say that this is the best car air pu...</td>\n",
       "    </tr>\n",
       "    <tr>\n",
       "      <th>10</th>\n",
       "      <td>Ray-Ban Sunglasses - RB2176 / Frame: Black Len...</td>\n",
       "      <td>Cute and stylish</td>\n",
       "      <td>I love 4 up Ray-bans, I have 3 pairs in differ...</td>\n",
       "    </tr>\n",
       "    <tr>\n",
       "      <th>11</th>\n",
       "      <td>Graco Comfy Cruiser Click Connect Travel Syste...</td>\n",
       "      <td>Good and priced well</td>\n",
       "      <td>Buying a travel system can be confusing. I wen...</td>\n",
       "    </tr>\n",
       "    <tr>\n",
       "      <th>12</th>\n",
       "      <td>Kellogg's Rice Krispies Treats Cereal, 11.6 Ounce</td>\n",
       "      <td>I loved them in the 90s and ate them constantly</td>\n",
       "      <td>nan</td>\n",
       "    </tr>\n",
       "    <tr>\n",
       "      <th>13</th>\n",
       "      <td>Capresso 485.05 MT600 Plus 10-Cup Programmable...</td>\n",
       "      <td>Well worth the extra money youpay for inferior...</td>\n",
       "      <td>Wouldn't you know it; we purchased this item t...</td>\n",
       "    </tr>\n",
       "    <tr>\n",
       "      <th>14</th>\n",
       "      <td>Lacos Super Slim Genuine Leather Credit Card H...</td>\n",
       "      <td>good</td>\n",
       "      <td>this card wallet is great. it holds cards snug...</td>\n",
       "    </tr>\n",
       "    <tr>\n",
       "      <th>15</th>\n",
       "      <td>Best Inflatable Bed By Fox Airbeds - Plush Hig...</td>\n",
       "      <td>Great bed for a good night sleep.</td>\n",
       "      <td>This inflatable is just awesome for whenever y...</td>\n",
       "    </tr>\n",
       "    <tr>\n",
       "      <th>16</th>\n",
       "      <td>Glacier Leather Conditioner with Unique Antiba...</td>\n",
       "      <td>Great product</td>\n",
       "      <td>I used it on our couches. I wasn’t sure if con...</td>\n",
       "    </tr>\n",
       "    <tr>\n",
       "      <th>17</th>\n",
       "      <td>Dean Markley Blue Steel Cryogenic Activated Ac...</td>\n",
       "      <td>Sound Like no Other</td>\n",
       "      <td>One set of these once lasted me 6+ years. Very...</td>\n",
       "    </tr>\n",
       "    <tr>\n",
       "      <th>18</th>\n",
       "      <td>Samsung UN40EH5300 40-Inch 1080p 60Hz LED HDTV...</td>\n",
       "      <td>Don't waste your money!!!! Read Here!</td>\n",
       "      <td>I purchased this TV last month as a bedroom TV...</td>\n",
       "    </tr>\n",
       "    <tr>\n",
       "      <th>19</th>\n",
       "      <td>Silicon Power 16GB Firma ZN F80 USB 2.0 Flash ...</td>\n",
       "      <td>this thig is really water proof. wear it aroun...</td>\n",
       "      <td>this  thig is really water proof. wear it arou...</td>\n",
       "    </tr>\n",
       "    <tr>\n",
       "      <th>20</th>\n",
       "      <td>One Pack of Shocking Gum, Funny Shock Gag (Ran...</td>\n",
       "      <td>Awesome for Pranks</td>\n",
       "      <td>nice product although my order is still on pro...</td>\n",
       "    </tr>\n",
       "    <tr>\n",
       "      <th>21</th>\n",
       "      <td>Premium Electric Mechanical Pencil Sharpener b...</td>\n",
       "      <td>great deal.</td>\n",
       "      <td>I love the sharpener it gives a sharp point an...</td>\n",
       "    </tr>\n",
       "    <tr>\n",
       "      <th>22</th>\n",
       "      <td>Nurturing Pregnancy Massage Techniques I - Lea...</td>\n",
       "      <td>Excellent Pregnancy Massage DVD</td>\n",
       "      <td>Meade is an amazing instructor. I recommend bu...</td>\n",
       "    </tr>\n",
       "    <tr>\n",
       "      <th>23</th>\n",
       "      <td>Posi-lock Connectors, 14-16 Gauge, Bulk Pack o...</td>\n",
       "      <td>great connectors...</td>\n",
       "      <td>These are waiting to be used on my next stereo...</td>\n",
       "    </tr>\n",
       "    <tr>\n",
       "      <th>24</th>\n",
       "      <td>18 Sizes 16'' (40cm) Circular Bamboo Knitting ...</td>\n",
       "      <td>short needles and cord</td>\n",
       "      <td>I suppose I should have known this. PLEASE REA...</td>\n",
       "    </tr>\n",
       "    <tr>\n",
       "      <th>25</th>\n",
       "      <td>U.S. Polo Assn. Men's Solid Polo With Small Po...</td>\n",
       "      <td>nice but not to size</td>\n",
       "      <td>i purchased this polo shirt and it was awesome...</td>\n",
       "    </tr>\n",
       "    <tr>\n",
       "      <th>26</th>\n",
       "      <td>Ray-Ban Glasses 5169 Black 2034 54mm</td>\n",
       "      <td>Well made!</td>\n",
       "      <td>I absolutely love these glasses! The color is ...</td>\n",
       "    </tr>\n",
       "    <tr>\n",
       "      <th>27</th>\n",
       "      <td>La Roche-Posay Cicaplast Pro-Recovery for Unis...</td>\n",
       "      <td>both great-great grandmothers fan of this prod...</td>\n",
       "      <td>I haven't used this myself but I placed the or...</td>\n",
       "    </tr>\n",
       "    <tr>\n",
       "      <th>28</th>\n",
       "      <td>BalanceFrom C400SV High Accuracy Premium Digit...</td>\n",
       "      <td>Not what I was looking for!</td>\n",
       "      <td>Moving forward with my recent healthy lifestyl...</td>\n",
       "    </tr>\n",
       "    <tr>\n",
       "      <th>29</th>\n",
       "      <td>C2G / Cables to Go Audio Unlimited Premium 900...</td>\n",
       "      <td>Crappy sound</td>\n",
       "      <td>Don't buy these speakers if you want decent so...</td>\n",
       "    </tr>\n",
       "    <tr>\n",
       "      <th>...</th>\n",
       "      <td>...</td>\n",
       "      <td>...</td>\n",
       "      <td>...</td>\n",
       "    </tr>\n",
       "    <tr>\n",
       "      <th>14670</th>\n",
       "      <td>London Fog Auto Open Close Umbrella, Black, On...</td>\n",
       "      <td>Nice umbrella!</td>\n",
       "      <td>Just got this umbrella and it appears very wel...</td>\n",
       "    </tr>\n",
       "    <tr>\n",
       "      <th>14671</th>\n",
       "      <td>Fratelli Orsini Everyday Women's Italian Cashm...</td>\n",
       "      <td>a nice pair</td>\n",
       "      <td>I was very excited to find these gloves becaus...</td>\n",
       "    </tr>\n",
       "    <tr>\n",
       "      <th>14672</th>\n",
       "      <td>Nutrigold Turmeric Curcumin Gold (Features C3 ...</td>\n",
       "      <td>Do I have to take more?</td>\n",
       "      <td>Should I be taking more? Because I do not feel...</td>\n",
       "    </tr>\n",
       "    <tr>\n",
       "      <th>14673</th>\n",
       "      <td>Samsonite Classic Two Gusset 17\" Toploader (Bl...</td>\n",
       "      <td>good</td>\n",
       "      <td>i had one comes with my laptop but the quality...</td>\n",
       "    </tr>\n",
       "    <tr>\n",
       "      <th>14674</th>\n",
       "      <td>Sterling Silver Marcasite and Red Glass Teardr...</td>\n",
       "      <td>delivered completely different center stone</td>\n",
       "      <td>I ordered these earrings for my sister because...</td>\n",
       "    </tr>\n",
       "    <tr>\n",
       "      <th>14675</th>\n",
       "      <td>Timex Women's T2H491 Easy Reader Two-Tone Stai...</td>\n",
       "      <td>Great watch</td>\n",
       "      <td>This a great watch, the dial is easy to read d...</td>\n",
       "    </tr>\n",
       "    <tr>\n",
       "      <th>14676</th>\n",
       "      <td>Gluten Free Palace Graham Style Pie Crust, 8.8...</td>\n",
       "      <td>This pie crust is PHENOMINAL!!! I tried ...</td>\n",
       "      <td>This pie crust is PHENOMINAL!!! I tried one wi...</td>\n",
       "    </tr>\n",
       "    <tr>\n",
       "      <th>14677</th>\n",
       "      <td>Discontinued</td>\n",
       "      <td>Love The Skin</td>\n",
       "      <td>I am an avid Playstation 4 player and my gamep...</td>\n",
       "    </tr>\n",
       "    <tr>\n",
       "      <th>14678</th>\n",
       "      <td>Moto X Case, SUPCASE [Heavy Duty] Belt Clip Ho...</td>\n",
       "      <td>but worth it due to this type of phone being e...</td>\n",
       "      <td>Quick shipment. Case is big and bulky, but wor...</td>\n",
       "    </tr>\n",
       "    <tr>\n",
       "      <th>14679</th>\n",
       "      <td>Hozan JIS-4 JIS Screwdriver Set (NEW 3rd. Gen)</td>\n",
       "      <td>Just what I needed.</td>\n",
       "      <td>I needed these to rebuild my carburetors. Didn...</td>\n",
       "    </tr>\n",
       "    <tr>\n",
       "      <th>14680</th>\n",
       "      <td>C. Booth Derma 24 Daily Moisturizer, Anti-Oxid...</td>\n",
       "      <td>Hands Down BEST Moisturizer I've Used</td>\n",
       "      <td>I wish I'd found this sooner! I have oily and ...</td>\n",
       "    </tr>\n",
       "    <tr>\n",
       "      <th>14681</th>\n",
       "      <td>The First 7th Night</td>\n",
       "      <td>A Totally Original Horror Mystery</td>\n",
       "      <td>In The First Seventh Night (original Cantonese...</td>\n",
       "    </tr>\n",
       "    <tr>\n",
       "      <th>14682</th>\n",
       "      <td>Motion Sensor Light, Danibos 2PCS Wireless 8-L...</td>\n",
       "      <td>Good Quality &amp; Price</td>\n",
       "      <td>Great, works as advertised,&lt;br /&gt;I have them m...</td>\n",
       "    </tr>\n",
       "    <tr>\n",
       "      <th>14683</th>\n",
       "      <td>XPAND X103-P2-G1 Active IR 3D Glasses for Pana...</td>\n",
       "      <td>great 3D</td>\n",
       "      <td>They fit perfect, my dad bought them for anyon...</td>\n",
       "    </tr>\n",
       "    <tr>\n",
       "      <th>14684</th>\n",
       "      <td>Nintendo Donkey Kong Country Returns (Nintendo...</td>\n",
       "      <td>Donkey Kong Country Returns</td>\n",
       "      <td>This game is a blast. it takes me back to the ...</td>\n",
       "    </tr>\n",
       "    <tr>\n",
       "      <th>14685</th>\n",
       "      <td>Bosch 09019 Premium Spark Plug Wire Set</td>\n",
       "      <td>Connected w/Platinum IR Fusion Plugs (@ 98 Spy...</td>\n",
       "      <td>Used them to wire my performance sparks plug o...</td>\n",
       "    </tr>\n",
       "    <tr>\n",
       "      <th>14686</th>\n",
       "      <td>Emerson LC320EM2 32\" LCD Television 720p 60 Hz</td>\n",
       "      <td>GREAT T.V.</td>\n",
       "      <td>I got this at Walmart on Black Friday and it h...</td>\n",
       "    </tr>\n",
       "    <tr>\n",
       "      <th>14687</th>\n",
       "      <td>Nautica Voyage By Nautica For Men. Eau De Toil...</td>\n",
       "      <td>Nice scent but doesn't seem to last.</td>\n",
       "      <td>Very clean wonderful fragrance but doesn't see...</td>\n",
       "    </tr>\n",
       "    <tr>\n",
       "      <th>14688</th>\n",
       "      <td>Chelsea DSW Molded Plastic Dining Side Chairs ...</td>\n",
       "      <td>Comfy, easy to assemble and great for any room.</td>\n",
       "      <td>Extra chairs are something I've been in need o...</td>\n",
       "    </tr>\n",
       "    <tr>\n",
       "      <th>14689</th>\n",
       "      <td>FSL Decimate Earmuffs 34dB NRR Protection - Pr...</td>\n",
       "      <td>Five stars</td>\n",
       "      <td>Very good quality and comfort for the price es...</td>\n",
       "    </tr>\n",
       "    <tr>\n",
       "      <th>14690</th>\n",
       "      <td>92-00 Honda Civic Sedan/Coupe 2/4 Dr Catback M...</td>\n",
       "      <td>Best Exhaust</td>\n",
       "      <td>I knew my Inline 4 130hp Civic was pretty fast...</td>\n",
       "    </tr>\n",
       "    <tr>\n",
       "      <th>14691</th>\n",
       "      <td>Weber 8835 Gourmet BBQ System Hinged Cooking G...</td>\n",
       "      <td>A Great Grate...</td>\n",
       "      <td>I bought this stainless steel grate to use  wi...</td>\n",
       "    </tr>\n",
       "    <tr>\n",
       "      <th>14692</th>\n",
       "      <td>Waterpik NML-603 Flexible Shower Head with Pow...</td>\n",
       "      <td>very tiny shower head.</td>\n",
       "      <td>This item would have been a nice item however ...</td>\n",
       "    </tr>\n",
       "    <tr>\n",
       "      <th>14693</th>\n",
       "      <td>Frostfire Mooncandles - 6 Indoor and Outdoor V...</td>\n",
       "      <td>Impressed</td>\n",
       "      <td>Candles arrived well before the estimated deli...</td>\n",
       "    </tr>\n",
       "    <tr>\n",
       "      <th>14694</th>\n",
       "      <td>Frostfire Large Deck, Path and Garden Solar Li...</td>\n",
       "      <td>super!!!</td>\n",
       "      <td>The deck lights are so nice, I have 10 in my g...</td>\n",
       "    </tr>\n",
       "    <tr>\n",
       "      <th>14695</th>\n",
       "      <td>Disney Little Boys' Perry Knit Peruvian, Turqu...</td>\n",
       "      <td>Kind of poor quality</td>\n",
       "      <td>This was a gift for my little brother. He love...</td>\n",
       "    </tr>\n",
       "    <tr>\n",
       "      <th>14696</th>\n",
       "      <td>PylePro Rack Mount Wireless Microphone System ...</td>\n",
       "      <td>Excellent!!</td>\n",
       "      <td>I prefer the handheld microphones as i tend to...</td>\n",
       "    </tr>\n",
       "    <tr>\n",
       "      <th>14697</th>\n",
       "      <td>CASIO PROTREK triple sensor Ver.3 PRW-6000Y-1AJF</td>\n",
       "      <td>Heavy</td>\n",
       "      <td>Great looking watch but you better have a real...</td>\n",
       "    </tr>\n",
       "    <tr>\n",
       "      <th>14698</th>\n",
       "      <td>Fresh Tees® Brand- Bitch Don't Kill My Vibe Fu...</td>\n",
       "      <td>Super happy with the shirt</td>\n",
       "      <td>Super happy with the shirt, love the material,...</td>\n",
       "    </tr>\n",
       "    <tr>\n",
       "      <th>14699</th>\n",
       "      <td>Valvoline SynPower Full Synthetic Motor Oil SA...</td>\n",
       "      <td>full synthetic oil</td>\n",
       "      <td>I bought this for the price considering what I...</td>\n",
       "    </tr>\n",
       "  </tbody>\n",
       "</table>\n",
       "<p>14700 rows × 3 columns</p>\n",
       "</div>"
      ],
      "text/plain": [
       "                                           PRODUCT_TITLE  \\\n",
       "0      Bumkins Nixi Ciclo Silicone Teething Necklace,...   \n",
       "1         Toshiba SD-V295 Tunerless DVD VCR Combo Player   \n",
       "2      pBone PBONE2B Jiggs Mini Plastic Trombone for ...   \n",
       "3      Toshiba SD-V296 Tunerless DVD VCR Combo Player...   \n",
       "4      Bulova Men's 98B169 CAMPTON Two-Tone Bracelet ...   \n",
       "5      DenadaDance Tailor’s Bunion Pads Set of 3 - So...   \n",
       "6      Bixle 1/2-Inch Extra Thick 15 mm 72-Inch Long ...   \n",
       "7      Master Airbrush Brand 1/4\" BSP Male to 1/8\" BS...   \n",
       "8      PYRUS Magnet Wireless Headphones Bluetooth V4....   \n",
       "9      **MOST HEALTHY** Car Air Purifier Ionizer with...   \n",
       "10     Ray-Ban Sunglasses - RB2176 / Frame: Black Len...   \n",
       "11     Graco Comfy Cruiser Click Connect Travel Syste...   \n",
       "12     Kellogg's Rice Krispies Treats Cereal, 11.6 Ounce   \n",
       "13     Capresso 485.05 MT600 Plus 10-Cup Programmable...   \n",
       "14     Lacos Super Slim Genuine Leather Credit Card H...   \n",
       "15     Best Inflatable Bed By Fox Airbeds - Plush Hig...   \n",
       "16     Glacier Leather Conditioner with Unique Antiba...   \n",
       "17     Dean Markley Blue Steel Cryogenic Activated Ac...   \n",
       "18     Samsung UN40EH5300 40-Inch 1080p 60Hz LED HDTV...   \n",
       "19     Silicon Power 16GB Firma ZN F80 USB 2.0 Flash ...   \n",
       "20     One Pack of Shocking Gum, Funny Shock Gag (Ran...   \n",
       "21     Premium Electric Mechanical Pencil Sharpener b...   \n",
       "22     Nurturing Pregnancy Massage Techniques I - Lea...   \n",
       "23     Posi-lock Connectors, 14-16 Gauge, Bulk Pack o...   \n",
       "24     18 Sizes 16'' (40cm) Circular Bamboo Knitting ...   \n",
       "25     U.S. Polo Assn. Men's Solid Polo With Small Po...   \n",
       "26                  Ray-Ban Glasses 5169 Black 2034 54mm   \n",
       "27     La Roche-Posay Cicaplast Pro-Recovery for Unis...   \n",
       "28     BalanceFrom C400SV High Accuracy Premium Digit...   \n",
       "29     C2G / Cables to Go Audio Unlimited Premium 900...   \n",
       "...                                                  ...   \n",
       "14670  London Fog Auto Open Close Umbrella, Black, On...   \n",
       "14671  Fratelli Orsini Everyday Women's Italian Cashm...   \n",
       "14672  Nutrigold Turmeric Curcumin Gold (Features C3 ...   \n",
       "14673  Samsonite Classic Two Gusset 17\" Toploader (Bl...   \n",
       "14674  Sterling Silver Marcasite and Red Glass Teardr...   \n",
       "14675  Timex Women's T2H491 Easy Reader Two-Tone Stai...   \n",
       "14676  Gluten Free Palace Graham Style Pie Crust, 8.8...   \n",
       "14677                                       Discontinued   \n",
       "14678  Moto X Case, SUPCASE [Heavy Duty] Belt Clip Ho...   \n",
       "14679     Hozan JIS-4 JIS Screwdriver Set (NEW 3rd. Gen)   \n",
       "14680  C. Booth Derma 24 Daily Moisturizer, Anti-Oxid...   \n",
       "14681                                The First 7th Night   \n",
       "14682  Motion Sensor Light, Danibos 2PCS Wireless 8-L...   \n",
       "14683  XPAND X103-P2-G1 Active IR 3D Glasses for Pana...   \n",
       "14684  Nintendo Donkey Kong Country Returns (Nintendo...   \n",
       "14685            Bosch 09019 Premium Spark Plug Wire Set   \n",
       "14686     Emerson LC320EM2 32\" LCD Television 720p 60 Hz   \n",
       "14687  Nautica Voyage By Nautica For Men. Eau De Toil...   \n",
       "14688  Chelsea DSW Molded Plastic Dining Side Chairs ...   \n",
       "14689  FSL Decimate Earmuffs 34dB NRR Protection - Pr...   \n",
       "14690  92-00 Honda Civic Sedan/Coupe 2/4 Dr Catback M...   \n",
       "14691  Weber 8835 Gourmet BBQ System Hinged Cooking G...   \n",
       "14692  Waterpik NML-603 Flexible Shower Head with Pow...   \n",
       "14693  Frostfire Mooncandles - 6 Indoor and Outdoor V...   \n",
       "14694  Frostfire Large Deck, Path and Garden Solar Li...   \n",
       "14695  Disney Little Boys' Perry Knit Peruvian, Turqu...   \n",
       "14696  PylePro Rack Mount Wireless Microphone System ...   \n",
       "14697   CASIO PROTREK triple sensor Ver.3 PRW-6000Y-1AJF   \n",
       "14698  Fresh Tees® Brand- Bitch Don't Kill My Vibe Fu...   \n",
       "14699  Valvoline SynPower Full Synthetic Motor Oil SA...   \n",
       "\n",
       "                                            REVIEW_TITLE  \\\n",
       "0              Great idea for Mom's with teething babies   \n",
       "1                           Great purchase for the price   \n",
       "2                                      the best trombone   \n",
       "3                                             Works well   \n",
       "4                                     Excellent article!   \n",
       "5      I was a little skeptical when I opened the pac...   \n",
       "6                      Hello sit-ups, it's been a while!   \n",
       "7                            Works exactly as advertised   \n",
       "8      Nice set of headphones. Best buy. You won't re...   \n",
       "9                                     highly recommend!!   \n",
       "10                                      Cute and stylish   \n",
       "11                                  Good and priced well   \n",
       "12       I loved them in the 90s and ate them constantly   \n",
       "13     Well worth the extra money youpay for inferior...   \n",
       "14                                                  good   \n",
       "15                     Great bed for a good night sleep.   \n",
       "16                                         Great product   \n",
       "17                                   Sound Like no Other   \n",
       "18                 Don't waste your money!!!! Read Here!   \n",
       "19     this thig is really water proof. wear it aroun...   \n",
       "20                                    Awesome for Pranks   \n",
       "21                                           great deal.   \n",
       "22                       Excellent Pregnancy Massage DVD   \n",
       "23                                   great connectors...   \n",
       "24                                short needles and cord   \n",
       "25                                  nice but not to size   \n",
       "26                                            Well made!   \n",
       "27     both great-great grandmothers fan of this prod...   \n",
       "28                           Not what I was looking for!   \n",
       "29                                          Crappy sound   \n",
       "...                                                  ...   \n",
       "14670                                     Nice umbrella!   \n",
       "14671                                        a nice pair   \n",
       "14672                            Do I have to take more?   \n",
       "14673                                               good   \n",
       "14674        delivered completely different center stone   \n",
       "14675                                        Great watch   \n",
       "14676        This pie crust is PHENOMINAL!!! I tried ...   \n",
       "14677                                      Love The Skin   \n",
       "14678  but worth it due to this type of phone being e...   \n",
       "14679                                Just what I needed.   \n",
       "14680              Hands Down BEST Moisturizer I've Used   \n",
       "14681                  A Totally Original Horror Mystery   \n",
       "14682                               Good Quality & Price   \n",
       "14683                                           great 3D   \n",
       "14684                        Donkey Kong Country Returns   \n",
       "14685  Connected w/Platinum IR Fusion Plugs (@ 98 Spy...   \n",
       "14686                                         GREAT T.V.   \n",
       "14687               Nice scent but doesn't seem to last.   \n",
       "14688    Comfy, easy to assemble and great for any room.   \n",
       "14689                                         Five stars   \n",
       "14690                                       Best Exhaust   \n",
       "14691                                   A Great Grate...   \n",
       "14692                             very tiny shower head.   \n",
       "14693                                          Impressed   \n",
       "14694                                           super!!!   \n",
       "14695                               Kind of poor quality   \n",
       "14696                                        Excellent!!   \n",
       "14697                                              Heavy   \n",
       "14698                         Super happy with the shirt   \n",
       "14699                                 full synthetic oil   \n",
       "\n",
       "                                             REVIEW_TEXT  \n",
       "0      Great idea for Mom's with teething babies. The...  \n",
       "1      We needed a new VCR and found this one with th...  \n",
       "2      my so love trombone and so i purchased this on...  \n",
       "3      I picked up one of these recently, does what i...  \n",
       "4      Very elegant and sophisticated watch, I love t...  \n",
       "5      I was a little skeptical when I opened the pac...  \n",
       "6      I am a somewhat overweight male. I got this be...  \n",
       "7      I purchased this for use on a TC compressor an...  \n",
       "8      Took a little longer to arrive, but there's no...  \n",
       "9      I have to say that this is the best car air pu...  \n",
       "10     I love 4 up Ray-bans, I have 3 pairs in differ...  \n",
       "11     Buying a travel system can be confusing. I wen...  \n",
       "12                                                   nan  \n",
       "13     Wouldn't you know it; we purchased this item t...  \n",
       "14     this card wallet is great. it holds cards snug...  \n",
       "15     This inflatable is just awesome for whenever y...  \n",
       "16     I used it on our couches. I wasn’t sure if con...  \n",
       "17     One set of these once lasted me 6+ years. Very...  \n",
       "18     I purchased this TV last month as a bedroom TV...  \n",
       "19     this  thig is really water proof. wear it arou...  \n",
       "20     nice product although my order is still on pro...  \n",
       "21     I love the sharpener it gives a sharp point an...  \n",
       "22     Meade is an amazing instructor. I recommend bu...  \n",
       "23     These are waiting to be used on my next stereo...  \n",
       "24     I suppose I should have known this. PLEASE REA...  \n",
       "25     i purchased this polo shirt and it was awesome...  \n",
       "26     I absolutely love these glasses! The color is ...  \n",
       "27     I haven't used this myself but I placed the or...  \n",
       "28     Moving forward with my recent healthy lifestyl...  \n",
       "29     Don't buy these speakers if you want decent so...  \n",
       "...                                                  ...  \n",
       "14670  Just got this umbrella and it appears very wel...  \n",
       "14671  I was very excited to find these gloves becaus...  \n",
       "14672  Should I be taking more? Because I do not feel...  \n",
       "14673  i had one comes with my laptop but the quality...  \n",
       "14674  I ordered these earrings for my sister because...  \n",
       "14675  This a great watch, the dial is easy to read d...  \n",
       "14676  This pie crust is PHENOMINAL!!! I tried one wi...  \n",
       "14677  I am an avid Playstation 4 player and my gamep...  \n",
       "14678  Quick shipment. Case is big and bulky, but wor...  \n",
       "14679  I needed these to rebuild my carburetors. Didn...  \n",
       "14680  I wish I'd found this sooner! I have oily and ...  \n",
       "14681  In The First Seventh Night (original Cantonese...  \n",
       "14682  Great, works as advertised,<br />I have them m...  \n",
       "14683  They fit perfect, my dad bought them for anyon...  \n",
       "14684  This game is a blast. it takes me back to the ...  \n",
       "14685  Used them to wire my performance sparks plug o...  \n",
       "14686  I got this at Walmart on Black Friday and it h...  \n",
       "14687  Very clean wonderful fragrance but doesn't see...  \n",
       "14688  Extra chairs are something I've been in need o...  \n",
       "14689  Very good quality and comfort for the price es...  \n",
       "14690  I knew my Inline 4 130hp Civic was pretty fast...  \n",
       "14691  I bought this stainless steel grate to use  wi...  \n",
       "14692  This item would have been a nice item however ...  \n",
       "14693  Candles arrived well before the estimated deli...  \n",
       "14694  The deck lights are so nice, I have 10 in my g...  \n",
       "14695  This was a gift for my little brother. He love...  \n",
       "14696  I prefer the handheld microphones as i tend to...  \n",
       "14697  Great looking watch but you better have a real...  \n",
       "14698  Super happy with the shirt, love the material,...  \n",
       "14699  I bought this for the price considering what I...  \n",
       "\n",
       "[14700 rows x 3 columns]"
      ]
     },
     "execution_count": 9,
     "metadata": {},
     "output_type": "execute_result"
    }
   ],
   "source": [
    "df = pd.read_csv(\"review_train.csv\")\n",
    "df_droped = df.drop(columns=['REVIEW_ID', 'PRODUCT_ID','PRODUCT_CATEGORY','VERIFIED_PURCHASE','RATING','LABEL'])\n",
    "df_droped = df_droped.applymap(str)\n",
    "#这里要把所有的都变为string，不然没有办法转为tfidf值\n",
    "df_droped"
   ]
  },
  {
   "cell_type": "code",
   "execution_count": 10,
   "metadata": {},
   "outputs": [
    {
     "data": {
      "text/plain": [
       "TfidfVectorizer(analyzer='word', binary=False, decode_error='strict',\n",
       "        dtype=<class 'numpy.float64'>, encoding='utf-8', input='content',\n",
       "        lowercase=True, max_df=0.97, max_features=2000, min_df=2,\n",
       "        ngram_range=(1, 1), norm='l2', preprocessor=None, smooth_idf=True,\n",
       "        stop_words='english', strip_accents=None, sublinear_tf=False,\n",
       "        token_pattern='(?u)\\\\b\\\\w\\\\w+\\\\b', tokenizer=None, use_idf=True,\n",
       "        vocabulary=None)"
      ]
     },
     "execution_count": 10,
     "metadata": {},
     "output_type": "execute_result"
    }
   ],
   "source": [
    "\n",
    "TfidfV = TfidfVectorizer(stop_words = 'english',max_features=2000,min_df=2,max_df=0.97)\n",
    "#初始化模型，可以在里面设置参数\n",
    "# df是document frequency，就是有多少个句子包含这个单词。\n",
    "TfidfV.fit(df_droped['REVIEW_TITLE'])\n",
    "TfidfV.fit(df_droped['REVIEW_TEXT'])\n",
    "TfidfV.fit(df_droped['PRODUCT_TITLE'])\n",
    "\n",
    "#训练模型\n"
   ]
  },
  {
   "cell_type": "code",
   "execution_count": 11,
   "metadata": {},
   "outputs": [
    {
     "data": {
      "text/plain": [
       "<14700x2000 sparse matrix of type '<class 'numpy.float64'>'\n",
       "\twith 100779 stored elements in Compressed Sparse Row format>"
      ]
     },
     "execution_count": 11,
     "metadata": {},
     "output_type": "execute_result"
    }
   ],
   "source": [
    "X_train_tfidf_TITLE = TfidfV.transform(df_droped['REVIEW_TITLE'])\n",
    "X_train_tfidf_TEXT = TfidfV.transform(df_droped['REVIEW_TEXT'])\n",
    "X_train_tfidf_PROTITLE = TfidfV.transform(df_droped['PRODUCT_TITLE'])\n",
    "X_train_tfidf_PROTITLE"
   ]
  },
  {
   "cell_type": "code",
   "execution_count": 12,
   "metadata": {},
   "outputs": [],
   "source": [
    "\n",
    "#PCA\n",
    "#X_train_array_TITLE = X_train_tfidf_TITLE.toarray()\n"
   ]
  },
  {
   "cell_type": "code",
   "execution_count": 13,
   "metadata": {},
   "outputs": [
    {
     "data": {
      "text/plain": [
       "<14700x6000 sparse matrix of type '<class 'numpy.float64'>'\n",
       "\twith 279264 stored elements in COOrdinate format>"
      ]
     },
     "execution_count": 13,
     "metadata": {},
     "output_type": "execute_result"
    }
   ],
   "source": [
    "combine = hstack((X_train_tfidf_TITLE,X_train_tfidf_TEXT,X_train_tfidf_PROTITLE))\n",
    "combine"
   ]
  },
  {
   "cell_type": "code",
   "execution_count": 14,
   "metadata": {},
   "outputs": [],
   "source": [
    "X_train, X_test, y_train, y_test = train_test_split(combine,dataset['LABEL'],test_size=0.2,random_state=0)\n",
    "\n",
    "\n",
    "X_train_array_new = X_train.toarray()\n",
    "\n"
   ]
  },
  {
   "cell_type": "code",
   "execution_count": 15,
   "metadata": {},
   "outputs": [],
   "source": [
    "\n",
    "\n",
    "\n",
    "\n",
    "\n",
    "#pca = PCA(n_components=3)\n",
    "#设定降维后的维度为3\n",
    "#after_pca = pca.fit_transform(X_train_array_new)\n",
    "#after_pca"
   ]
  },
  {
   "cell_type": "code",
   "execution_count": 16,
   "metadata": {},
   "outputs": [],
   "source": [
    "#plt.figure(figsize=(10,10))\n",
    "#plt.scatter(after_pca[:, 0], after_pca[:, 1], s=20, c=y_train,cmap='rainbow')\n",
    "#plt.show()"
   ]
  },
  {
   "cell_type": "code",
   "execution_count": 17,
   "metadata": {},
   "outputs": [
    {
     "name": "stderr",
     "output_type": "stream",
     "text": [
      "/Users/apple/anaconda3/lib/python3.6/site-packages/sklearn/linear_model/logistic.py:433: FutureWarning: Default solver will be changed to 'lbfgs' in 0.22. Specify a solver to silence this warning.\n",
      "  FutureWarning)\n"
     ]
    },
    {
     "data": {
      "text/plain": [
       "LogisticRegression(C=1.0, class_weight=None, dual=False, fit_intercept=True,\n",
       "          intercept_scaling=1, max_iter=100, multi_class='warn',\n",
       "          n_jobs=None, penalty='l2', random_state=None, solver='warn',\n",
       "          tol=0.0001, verbose=0, warm_start=False)"
      ]
     },
     "execution_count": 17,
     "metadata": {},
     "output_type": "execute_result"
    }
   ],
   "source": [
    "clf = LogisticRegression()\n",
    "#初始化逻辑回归模型\n",
    "clf.fit(X_train, y_train)\n",
    "#训练模型  这里用来训练的x可以是稀疏矩阵，array和dataframe"
   ]
  },
  {
   "cell_type": "code",
   "execution_count": 18,
   "metadata": {},
   "outputs": [],
   "source": [
    "#fig = plt.figure(figsize=(10,10))\n",
    "#ax = Axes3D(fig)\n",
    "#ax.scatter(after_pca[:, 0], after_pca[:, 1],after_pca[:, 2],s=25, c=y_train,cmap='rainbow')"
   ]
  },
  {
   "cell_type": "code",
   "execution_count": 19,
   "metadata": {},
   "outputs": [
    {
     "name": "stdout",
     "output_type": "stream",
     "text": [
      "              precision    recall  f1-score   support\n",
      "\n",
      "           0       0.65      0.66      0.66      1459\n",
      "           1       0.66      0.65      0.66      1481\n",
      "\n",
      "   micro avg       0.66      0.66      0.66      2940\n",
      "   macro avg       0.66      0.66      0.66      2940\n",
      "weighted avg       0.66      0.66      0.66      2940\n",
      "\n"
     ]
    }
   ],
   "source": [
    "y_pred = clf.predict(X_test)\n",
    "# 得到预测值\n",
    "print(classification_report(y_test,y_pred))\n"
   ]
  },
  {
   "cell_type": "code",
   "execution_count": 20,
   "metadata": {},
   "outputs": [
    {
     "name": "stdout",
     "output_type": "stream",
     "text": [
      "              precision    recall  f1-score   support\n",
      "\n",
      "           0       0.66      0.65      0.65      1459\n",
      "           1       0.66      0.67      0.66      1481\n",
      "\n",
      "   micro avg       0.66      0.66      0.66      2940\n",
      "   macro avg       0.66      0.66      0.66      2940\n",
      "weighted avg       0.66      0.66      0.66      2940\n",
      "\n"
     ]
    }
   ],
   "source": [
    "combine_new_1=hstack((combine,bench_matrix))\n",
    "\n",
    "X_train, X_test, y_train, y_test = train_test_split(combine_new_1,dataset['LABEL'],test_size=0.2,random_state=0)\n",
    "\n",
    "\n",
    "clf = LogisticRegression()\n",
    "#初始化逻辑回归模型\n",
    "clf.fit(X_train, y_train)\n",
    "#训练模型  这里用来训练的x可以是稀疏矩阵，array和dataframe\n",
    "\n",
    "y_pred = clf.predict(X_test)\n",
    "# 得到预测值\n",
    "print(classification_report(y_test,y_pred))"
   ]
  },
  {
   "cell_type": "code",
   "execution_count": 21,
   "metadata": {},
   "outputs": [
    {
     "name": "stdout",
     "output_type": "stream",
     "text": [
      "              precision    recall  f1-score   support\n",
      "\n",
      "           0       0.82      0.84      0.83      1459\n",
      "           1       0.84      0.81      0.83      1481\n",
      "\n",
      "   micro avg       0.83      0.83      0.83      2940\n",
      "   macro avg       0.83      0.83      0.83      2940\n",
      "weighted avg       0.83      0.83      0.83      2940\n",
      "\n"
     ]
    }
   ],
   "source": [
    "combine_new_2=hstack((combine_new_1,number_matrix))\n",
    "\n",
    "X_train, X_test, y_train, y_test = train_test_split(combine_new_2,dataset['LABEL'],test_size=0.2,random_state=0)\n",
    "\n",
    "\n",
    "clf = LogisticRegression()\n",
    "#初始化逻辑回归模型\n",
    "clf.fit(X_train, y_train)\n",
    "#训练模型  这里用来训练的x可以是稀疏矩阵，array和dataframe\n",
    "\n",
    "y_pred = clf.predict(X_test)\n",
    "# 得到预测值\n",
    "print(classification_report(y_test,y_pred))"
   ]
  },
  {
   "cell_type": "code",
   "execution_count": 22,
   "metadata": {},
   "outputs": [
    {
     "data": {
      "text/plain": [
       "<14700x6006 sparse matrix of type '<class 'numpy.float64'>'\n",
       "\twith 358143 stored elements in COOrdinate format>"
      ]
     },
     "execution_count": 22,
     "metadata": {},
     "output_type": "execute_result"
    }
   ],
   "source": [
    "combine_new_2\n"
   ]
  },
  {
   "cell_type": "code",
   "execution_count": 23,
   "metadata": {},
   "outputs": [],
   "source": [
    "parameter_space = {\n",
    "    \"penalty\":['l1', 'l2'],\n",
    "    \"fit_intercept\":[True,False]\n",
    "}"
   ]
  },
  {
   "cell_type": "code",
   "execution_count": 24,
   "metadata": {},
   "outputs": [
    {
     "name": "stderr",
     "output_type": "stream",
     "text": [
      "/Users/apple/anaconda3/lib/python3.6/site-packages/sklearn/linear_model/logistic.py:433: FutureWarning: Default solver will be changed to 'lbfgs' in 0.22. Specify a solver to silence this warning.\n",
      "  FutureWarning)\n"
     ]
    },
    {
     "data": {
      "text/plain": [
       "GridSearchCV(cv=5, error_score='raise-deprecating',\n",
       "       estimator=LogisticRegression(C=1.0, class_weight=None, dual=False, fit_intercept=True,\n",
       "          intercept_scaling=1, max_iter=100, multi_class='warn',\n",
       "          n_jobs=None, penalty='l2', random_state=None, solver='warn',\n",
       "          tol=0.0001, verbose=0, warm_start=False),\n",
       "       fit_params=None, iid='warn', n_jobs=None,\n",
       "       param_grid={'penalty': ['l1', 'l2'], 'fit_intercept': [True, False]},\n",
       "       pre_dispatch='2*n_jobs', refit=True, return_train_score='warn',\n",
       "       scoring=None, verbose=0)"
      ]
     },
     "execution_count": 24,
     "metadata": {},
     "output_type": "execute_result"
    }
   ],
   "source": [
    "clf = LogisticRegression()\n",
    "grid_lr = GridSearchCV(clf, parameter_space, cv=5)\n",
    "grid_lr.fit(X_train,y_train)"
   ]
  },
  {
   "cell_type": "code",
   "execution_count": 25,
   "metadata": {},
   "outputs": [
    {
     "name": "stdout",
     "output_type": "stream",
     "text": [
      "              precision    recall  f1-score   support\n",
      "\n",
      "           0       0.82      0.84      0.83      1459\n",
      "           1       0.84      0.81      0.83      1481\n",
      "\n",
      "   micro avg       0.83      0.83      0.83      2940\n",
      "   macro avg       0.83      0.83      0.83      2940\n",
      "weighted avg       0.83      0.83      0.83      2940\n",
      "\n"
     ]
    }
   ],
   "source": [
    "y_pred = grid_lr.predict(X_test)\n",
    "# 得到预测值\n",
    "print(classification_report(y_test,y_pred))"
   ]
  },
  {
   "cell_type": "code",
   "execution_count": 26,
   "metadata": {},
   "outputs": [
    {
     "name": "stderr",
     "output_type": "stream",
     "text": [
      "/Users/apple/anaconda3/lib/python3.6/site-packages/ipykernel_launcher.py:14: FutureWarning: Method .as_matrix will be removed in a future version. Use .values instead.\n",
      "  \n",
      "/Users/apple/anaconda3/lib/python3.6/site-packages/ipykernel_launcher.py:37: FutureWarning: Method .as_matrix will be removed in a future version. Use .values instead.\n",
      "/Users/apple/anaconda3/lib/python3.6/site-packages/ipykernel_launcher.py:43: SettingWithCopyWarning: \n",
      "A value is trying to be set on a copy of a slice from a DataFrame.\n",
      "Try using .loc[row_indexer,col_indexer] = value instead\n",
      "\n",
      "See the caveats in the documentation: http://pandas.pydata.org/pandas-docs/stable/indexing.html#indexing-view-versus-copy\n"
     ]
    }
   ],
   "source": [
    "#test\n",
    "dataset_test = pd.read_csv(\"review_test.csv\")\n",
    "\n",
    "#calculate the length and capital letter ratio\n",
    "dataset_test['length_title']=dataset_test['REVIEW_TITLE'].str.split(\" \").str.len()\n",
    "dataset_test['length_text']=dataset_test['REVIEW_TEXT'].str.split(\" \").str.len()\n",
    "dataset_test['Cap_title'] = dataset_test['REVIEW_TITLE'].str.count(r'[A-Z]')/dataset_test['REVIEW_TITLE'].str.len()\n",
    "dataset_test['Cap_text'] = dataset_test['REVIEW_TEXT'].str.count(r'[A-Z]')/dataset_test['REVIEW_TEXT'].str.len()\n",
    "\n",
    "# transfer verified purchase to 0,1\n",
    "dataset_test_number = dataset_test[[\"RATING\",\"VERIFIED_PURCHASE\"]]\n",
    "dataset_test_number= dataset_test_number.replace({\"N\": 0, \"Y\": 1})\n",
    "dataset_test_number = dataset_test_number.fillna(0)\n",
    "test_number_matrix=dataset_test_number.as_matrix()\n",
    "\n",
    "#fill the missing length and raito to mean\n",
    "dataset_test['Cap_title']=dataset_test['Cap_title'].fillna(dataset_test['Cap_title'].mean())\n",
    "dataset_test['Cap_text']=dataset_test['Cap_text'].fillna(dataset_test['Cap_text'].mean())\n",
    "dataset_test['length_title']=dataset_test['length_title'].fillna(dataset_test['length_title'].mean())\n",
    "dataset_test['length_text']=dataset_test['length_text'].fillna(dataset_test['length_text'].mean())\n",
    "\n",
    "\n",
    "#deal with the text data\n",
    "test_text_data = dataset_test.drop(columns=['REVIEW_ID', 'PRODUCT_ID','PRODUCT_CATEGORY','VERIFIED_PURCHASE','RATING'])\n",
    "test_text_data = test_text_data.applymap(str)\n",
    "\n",
    "TfidfV.fit(test_text_data['REVIEW_TITLE'])\n",
    "TfidfV.fit(test_text_data['REVIEW_TEXT'])\n",
    "TfidfV.fit(test_text_data['PRODUCT_TITLE'])\n",
    "\n",
    "X_test_tfidf_TITLE = TfidfV.transform(test_text_data['REVIEW_TITLE'])\n",
    "X_test_tfidf_TEXT = TfidfV.transform(test_text_data['REVIEW_TEXT'])\n",
    "X_test_tfidf_PROTITLE = TfidfV.transform(test_text_data['PRODUCT_TITLE'])\n",
    "\n",
    "\n",
    "test_numerical=dataset_test[[\"length_title\",\"length_text\",\"Cap_title\",\"Cap_text\"]]\n",
    "test_numerical_matrix=test_numerical.as_matrix()\n",
    "\n",
    "data_input=hstack((X_test_tfidf_TITLE,X_test_tfidf_TEXT,X_test_tfidf_PROTITLE,test_number_matrix,test_numerical_matrix))\n",
    "\n",
    "review_id = dataset_test[['REVIEW_ID']]\n",
    "pre_label = grid_lr.predict(data_input)\n",
    "review_id[\"pred_label\"] = pre_label\n",
    "\n",
    "review_id.to_csv('Group39_BUSS6002_Assignment2_Test_Results.csv',index=False)"
   ]
  },
  {
   "cell_type": "code",
   "execution_count": 27,
   "metadata": {},
   "outputs": [
    {
     "data": {
      "text/plain": [
       "array([1, 0, 0, ..., 1, 0, 1])"
      ]
     },
     "execution_count": 27,
     "metadata": {},
     "output_type": "execute_result"
    }
   ],
   "source": [
    "pre_label"
   ]
  },
  {
   "cell_type": "code",
   "execution_count": null,
   "metadata": {},
   "outputs": [],
   "source": []
  },
  {
   "cell_type": "code",
   "execution_count": null,
   "metadata": {},
   "outputs": [],
   "source": [
    "\n"
   ]
  },
  {
   "cell_type": "code",
   "execution_count": null,
   "metadata": {},
   "outputs": [],
   "source": []
  },
  {
   "cell_type": "code",
   "execution_count": null,
   "metadata": {},
   "outputs": [],
   "source": []
  },
  {
   "cell_type": "code",
   "execution_count": null,
   "metadata": {},
   "outputs": [],
   "source": []
  },
  {
   "cell_type": "code",
   "execution_count": null,
   "metadata": {},
   "outputs": [],
   "source": []
  },
  {
   "cell_type": "code",
   "execution_count": null,
   "metadata": {},
   "outputs": [],
   "source": []
  },
  {
   "cell_type": "code",
   "execution_count": null,
   "metadata": {},
   "outputs": [],
   "source": []
  },
  {
   "cell_type": "code",
   "execution_count": null,
   "metadata": {},
   "outputs": [],
   "source": []
  },
  {
   "cell_type": "code",
   "execution_count": null,
   "metadata": {},
   "outputs": [],
   "source": []
  },
  {
   "cell_type": "code",
   "execution_count": null,
   "metadata": {},
   "outputs": [],
   "source": []
  }
 ],
 "metadata": {
  "hide_input": false,
  "kernelspec": {
   "display_name": "Python 3",
   "language": "python",
   "name": "python3"
  },
  "language_info": {
   "codemirror_mode": {
    "name": "ipython",
    "version": 3
   },
   "file_extension": ".py",
   "mimetype": "text/x-python",
   "name": "python",
   "nbconvert_exporter": "python",
   "pygments_lexer": "ipython3",
   "version": "3.7.6"
  },
  "toc": {
   "base_numbering": 1,
   "nav_menu": {},
   "number_sections": true,
   "sideBar": true,
   "skip_h1_title": false,
   "title_cell": "Table of Contents",
   "title_sidebar": "Contents",
   "toc_cell": false,
   "toc_position": {},
   "toc_section_display": true,
   "toc_window_display": false
  },
  "varInspector": {
   "cols": {
    "lenName": 16,
    "lenType": 16,
    "lenVar": 40
   },
   "kernels_config": {
    "python": {
     "delete_cmd_postfix": "",
     "delete_cmd_prefix": "del ",
     "library": "var_list.py",
     "varRefreshCmd": "print(var_dic_list())"
    },
    "r": {
     "delete_cmd_postfix": ") ",
     "delete_cmd_prefix": "rm(",
     "library": "var_list.r",
     "varRefreshCmd": "cat(var_dic_list()) "
    }
   },
   "types_to_exclude": [
    "module",
    "function",
    "builtin_function_or_method",
    "instance",
    "_Feature"
   ],
   "window_display": true
  }
 },
 "nbformat": 4,
 "nbformat_minor": 4
}
