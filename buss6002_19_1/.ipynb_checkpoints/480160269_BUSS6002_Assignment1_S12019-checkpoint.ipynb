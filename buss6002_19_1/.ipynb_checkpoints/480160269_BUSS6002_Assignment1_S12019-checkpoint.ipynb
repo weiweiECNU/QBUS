{
 "cells": [
  {
   "cell_type": "code",
   "execution_count": 1,
   "metadata": {},
   "outputs": [],
   "source": [
    "import pandas as pd\n",
    "import numpy as np\n",
    "import sqlite3\n",
    "import matplotlib.pyplot as plt\n",
    "import pandas.io.sql as psql\n",
    "import math \n",
    "import statsmodels.formula.api as smf"
   ]
  },
  {
   "cell_type": "code",
   "execution_count": 2,
   "metadata": {},
   "outputs": [
    {
     "data": {
      "text/plain": [
       "[('houses',)]"
      ]
     },
     "execution_count": 2,
     "metadata": {},
     "output_type": "execute_result"
    }
   ],
   "source": [
    "connection = sqlite3.connect(\"housing.db\")\n",
    "c = connection.cursor()\n",
    "# where is same to query in dataframe, seceen out what you want\n",
    "# order by name DESC/ASC\n",
    "c.execute(\"SELECT name FROM sqlite_master WHERE type='table' ORDER BY name\")\n",
    "# show all of the \n",
    "c.fetchall()"
   ]
  },
  {
   "cell_type": "code",
   "execution_count": 3,
   "metadata": {},
   "outputs": [
    {
     "data": {
      "text/html": [
       "<div>\n",
       "<style scoped>\n",
       "    .dataframe tbody tr th:only-of-type {\n",
       "        vertical-align: middle;\n",
       "    }\n",
       "\n",
       "    .dataframe tbody tr th {\n",
       "        vertical-align: top;\n",
       "    }\n",
       "\n",
       "    .dataframe thead th {\n",
       "        text-align: right;\n",
       "    }\n",
       "</style>\n",
       "<table border=\"1\" class=\"dataframe\">\n",
       "  <thead>\n",
       "    <tr style=\"text-align: right;\">\n",
       "      <th></th>\n",
       "      <th>Order</th>\n",
       "      <th>PID</th>\n",
       "      <th>MS SubClass</th>\n",
       "      <th>MS Zoning</th>\n",
       "      <th>Lot Frontage</th>\n",
       "      <th>Lot Area</th>\n",
       "      <th>Street</th>\n",
       "      <th>Alley</th>\n",
       "      <th>Lot Shape</th>\n",
       "      <th>Land Contour</th>\n",
       "      <th>...</th>\n",
       "      <th>Pool Area</th>\n",
       "      <th>Pool QC</th>\n",
       "      <th>Fence</th>\n",
       "      <th>Misc Feature</th>\n",
       "      <th>Misc Val</th>\n",
       "      <th>Mo Sold</th>\n",
       "      <th>Yr Sold</th>\n",
       "      <th>Sale Type</th>\n",
       "      <th>Sale Condition</th>\n",
       "      <th>SalePrice</th>\n",
       "    </tr>\n",
       "  </thead>\n",
       "  <tbody>\n",
       "    <tr>\n",
       "      <th>0</th>\n",
       "      <td>2217</td>\n",
       "      <td>909279080</td>\n",
       "      <td>50</td>\n",
       "      <td>RL</td>\n",
       "      <td>NaN</td>\n",
       "      <td>11275</td>\n",
       "      <td>Pave</td>\n",
       "      <td>None</td>\n",
       "      <td>IR1</td>\n",
       "      <td>HLS</td>\n",
       "      <td>...</td>\n",
       "      <td>0</td>\n",
       "      <td>None</td>\n",
       "      <td>None</td>\n",
       "      <td>None</td>\n",
       "      <td>0</td>\n",
       "      <td>3</td>\n",
       "      <td>2007</td>\n",
       "      <td>WD</td>\n",
       "      <td>Normal</td>\n",
       "      <td>220000</td>\n",
       "    </tr>\n",
       "    <tr>\n",
       "      <th>1</th>\n",
       "      <td>837</td>\n",
       "      <td>907126050</td>\n",
       "      <td>20</td>\n",
       "      <td>RL</td>\n",
       "      <td>65.0</td>\n",
       "      <td>9757</td>\n",
       "      <td>Pave</td>\n",
       "      <td>None</td>\n",
       "      <td>Reg</td>\n",
       "      <td>Low</td>\n",
       "      <td>...</td>\n",
       "      <td>0</td>\n",
       "      <td>None</td>\n",
       "      <td>None</td>\n",
       "      <td>None</td>\n",
       "      <td>0</td>\n",
       "      <td>10</td>\n",
       "      <td>2009</td>\n",
       "      <td>WD</td>\n",
       "      <td>Normal</td>\n",
       "      <td>143000</td>\n",
       "    </tr>\n",
       "    <tr>\n",
       "      <th>2</th>\n",
       "      <td>2397</td>\n",
       "      <td>528144030</td>\n",
       "      <td>60</td>\n",
       "      <td>RL</td>\n",
       "      <td>86.0</td>\n",
       "      <td>11065</td>\n",
       "      <td>Pave</td>\n",
       "      <td>None</td>\n",
       "      <td>IR1</td>\n",
       "      <td>Lvl</td>\n",
       "      <td>...</td>\n",
       "      <td>0</td>\n",
       "      <td>None</td>\n",
       "      <td>None</td>\n",
       "      <td>None</td>\n",
       "      <td>0</td>\n",
       "      <td>10</td>\n",
       "      <td>2006</td>\n",
       "      <td>New</td>\n",
       "      <td>Partial</td>\n",
       "      <td>281000</td>\n",
       "    </tr>\n",
       "    <tr>\n",
       "      <th>3</th>\n",
       "      <td>1963</td>\n",
       "      <td>535452060</td>\n",
       "      <td>20</td>\n",
       "      <td>RL</td>\n",
       "      <td>70.0</td>\n",
       "      <td>7000</td>\n",
       "      <td>Pave</td>\n",
       "      <td>None</td>\n",
       "      <td>Reg</td>\n",
       "      <td>Lvl</td>\n",
       "      <td>...</td>\n",
       "      <td>0</td>\n",
       "      <td>None</td>\n",
       "      <td>MnWw</td>\n",
       "      <td>None</td>\n",
       "      <td>0</td>\n",
       "      <td>4</td>\n",
       "      <td>2007</td>\n",
       "      <td>WD</td>\n",
       "      <td>Family</td>\n",
       "      <td>135000</td>\n",
       "    </tr>\n",
       "    <tr>\n",
       "      <th>4</th>\n",
       "      <td>306</td>\n",
       "      <td>911202100</td>\n",
       "      <td>50</td>\n",
       "      <td>C (all)</td>\n",
       "      <td>66.0</td>\n",
       "      <td>8712</td>\n",
       "      <td>Pave</td>\n",
       "      <td>Pave</td>\n",
       "      <td>Reg</td>\n",
       "      <td>HLS</td>\n",
       "      <td>...</td>\n",
       "      <td>0</td>\n",
       "      <td>None</td>\n",
       "      <td>None</td>\n",
       "      <td>None</td>\n",
       "      <td>0</td>\n",
       "      <td>1</td>\n",
       "      <td>2010</td>\n",
       "      <td>WD</td>\n",
       "      <td>Abnorml</td>\n",
       "      <td>102776</td>\n",
       "    </tr>\n",
       "  </tbody>\n",
       "</table>\n",
       "<p>5 rows × 81 columns</p>\n",
       "</div>"
      ],
      "text/plain": [
       "   Order        PID  MS SubClass MS Zoning  Lot Frontage  Lot Area Street  \\\n",
       "0   2217  909279080           50        RL           NaN     11275   Pave   \n",
       "1    837  907126050           20        RL          65.0      9757   Pave   \n",
       "2   2397  528144030           60        RL          86.0     11065   Pave   \n",
       "3   1963  535452060           20        RL          70.0      7000   Pave   \n",
       "4    306  911202100           50   C (all)          66.0      8712   Pave   \n",
       "\n",
       "  Alley Lot Shape Land Contour  ... Pool Area Pool QC Fence Misc Feature  \\\n",
       "0  None       IR1          HLS  ...         0    None  None         None   \n",
       "1  None       Reg          Low  ...         0    None  None         None   \n",
       "2  None       IR1          Lvl  ...         0    None  None         None   \n",
       "3  None       Reg          Lvl  ...         0    None  MnWw         None   \n",
       "4  Pave       Reg          HLS  ...         0    None  None         None   \n",
       "\n",
       "  Misc Val Mo Sold Yr Sold Sale Type  Sale Condition  SalePrice  \n",
       "0        0       3    2007       WD           Normal     220000  \n",
       "1        0      10    2009       WD           Normal     143000  \n",
       "2        0      10    2006       New         Partial     281000  \n",
       "3        0       4    2007       WD           Family     135000  \n",
       "4        0       1    2010       WD          Abnorml     102776  \n",
       "\n",
       "[5 rows x 81 columns]"
      ]
     },
     "execution_count": 3,
     "metadata": {},
     "output_type": "execute_result"
    }
   ],
   "source": [
    "# select all data from dataset for understanding\n",
    "houses_df = pd.read_sql(\"SELECT * FROM houses\",connection)\n",
    "houses_df.head()"
   ]
  },
  {
   "cell_type": "code",
   "execution_count": 4,
   "metadata": {},
   "outputs": [
    {
     "data": {
      "text/plain": [
       "Order                0\n",
       "PID                  0\n",
       "MS SubClass          0\n",
       "MS Zoning            0\n",
       "Lot Frontage       388\n",
       "Lot Area             0\n",
       "Street               0\n",
       "Alley             2192\n",
       "Lot Shape            0\n",
       "Land Contour         0\n",
       "Utilities            0\n",
       "Lot Config           0\n",
       "Land Slope           0\n",
       "Neighborhood         0\n",
       "Condition 1          0\n",
       "Condition 2          0\n",
       "Bldg Type            0\n",
       "House Style          0\n",
       "Overall Cond         0\n",
       "Year Built           0\n",
       "Year Remod/Add       0\n",
       "Roof Style           0\n",
       "Roof Matl            0\n",
       "Exterior 1st         0\n",
       "Exterior 2nd         0\n",
       "Mas Vnr Type        21\n",
       "Mas Vnr Area        21\n",
       "Exter Qual           0\n",
       "Exter Cond           0\n",
       "Foundation           0\n",
       "                  ... \n",
       "Bedroom AbvGr        0\n",
       "Kitchen AbvGr        0\n",
       "Kitchen Qual         0\n",
       "TotRms AbvGrd        0\n",
       "Functional           0\n",
       "Fireplaces           0\n",
       "Fireplace Qu      1127\n",
       "Garage Type        124\n",
       "Garage Yr Blt      126\n",
       "Garage Finish      126\n",
       "Garage Cars          1\n",
       "Garage Area          1\n",
       "Garage Qual        126\n",
       "Garage Cond        126\n",
       "Paved Drive          0\n",
       "Wood Deck SF         0\n",
       "Open Porch SF        0\n",
       "Enclosed Porch       0\n",
       "3Ssn Porch           0\n",
       "Screen Porch         0\n",
       "Pool Area            0\n",
       "Pool QC           2335\n",
       "Fence             1881\n",
       "Misc Feature      2258\n",
       "Misc Val             0\n",
       "Mo Sold              0\n",
       "Yr Sold              0\n",
       "Sale Type            0\n",
       "Sale Condition       0\n",
       "SalePrice            0\n",
       "Length: 81, dtype: int64"
      ]
     },
     "execution_count": 4,
     "metadata": {},
     "output_type": "execute_result"
    }
   ],
   "source": [
    "# isnull()find out if the value is not a number(NaN) and return True is NaN fales otherwise\n",
    "houses_df.isnull().sum()"
   ]
  },
  {
   "cell_type": "code",
   "execution_count": 5,
   "metadata": {},
   "outputs": [
    {
     "data": {
      "text/html": [
       "<div>\n",
       "<style scoped>\n",
       "    .dataframe tbody tr th:only-of-type {\n",
       "        vertical-align: middle;\n",
       "    }\n",
       "\n",
       "    .dataframe tbody tr th {\n",
       "        vertical-align: top;\n",
       "    }\n",
       "\n",
       "    .dataframe thead th {\n",
       "        text-align: right;\n",
       "    }\n",
       "</style>\n",
       "<table border=\"1\" class=\"dataframe\">\n",
       "  <thead>\n",
       "    <tr style=\"text-align: right;\">\n",
       "      <th></th>\n",
       "      <th>Order</th>\n",
       "      <th>PID</th>\n",
       "      <th>MS SubClass</th>\n",
       "      <th>MS Zoning</th>\n",
       "      <th>Lot Frontage</th>\n",
       "      <th>Lot Area</th>\n",
       "      <th>Street</th>\n",
       "      <th>Alley</th>\n",
       "      <th>Lot Shape</th>\n",
       "      <th>Land Contour</th>\n",
       "      <th>...</th>\n",
       "      <th>Pool Area</th>\n",
       "      <th>Pool QC</th>\n",
       "      <th>Fence</th>\n",
       "      <th>Misc Feature</th>\n",
       "      <th>Misc Val</th>\n",
       "      <th>Mo Sold</th>\n",
       "      <th>Yr Sold</th>\n",
       "      <th>Sale Type</th>\n",
       "      <th>Sale Condition</th>\n",
       "      <th>SalePrice</th>\n",
       "    </tr>\n",
       "  </thead>\n",
       "  <tbody>\n",
       "    <tr>\n",
       "      <th>0</th>\n",
       "      <td>2217</td>\n",
       "      <td>909279080</td>\n",
       "      <td>50</td>\n",
       "      <td>RL</td>\n",
       "      <td>NaN</td>\n",
       "      <td>11275</td>\n",
       "      <td>Pave</td>\n",
       "      <td>None</td>\n",
       "      <td>IR1</td>\n",
       "      <td>HLS</td>\n",
       "      <td>...</td>\n",
       "      <td>0</td>\n",
       "      <td>None</td>\n",
       "      <td>None</td>\n",
       "      <td>None</td>\n",
       "      <td>0</td>\n",
       "      <td>3</td>\n",
       "      <td>2007</td>\n",
       "      <td>WD</td>\n",
       "      <td>Normal</td>\n",
       "      <td>220000</td>\n",
       "    </tr>\n",
       "    <tr>\n",
       "      <th>1</th>\n",
       "      <td>837</td>\n",
       "      <td>907126050</td>\n",
       "      <td>20</td>\n",
       "      <td>RL</td>\n",
       "      <td>65.0</td>\n",
       "      <td>9757</td>\n",
       "      <td>Pave</td>\n",
       "      <td>None</td>\n",
       "      <td>Reg</td>\n",
       "      <td>Low</td>\n",
       "      <td>...</td>\n",
       "      <td>0</td>\n",
       "      <td>None</td>\n",
       "      <td>None</td>\n",
       "      <td>None</td>\n",
       "      <td>0</td>\n",
       "      <td>10</td>\n",
       "      <td>2009</td>\n",
       "      <td>WD</td>\n",
       "      <td>Normal</td>\n",
       "      <td>143000</td>\n",
       "    </tr>\n",
       "    <tr>\n",
       "      <th>5</th>\n",
       "      <td>1140</td>\n",
       "      <td>531382090</td>\n",
       "      <td>60</td>\n",
       "      <td>RL</td>\n",
       "      <td>65.0</td>\n",
       "      <td>8453</td>\n",
       "      <td>Pave</td>\n",
       "      <td>None</td>\n",
       "      <td>IR1</td>\n",
       "      <td>Lvl</td>\n",
       "      <td>...</td>\n",
       "      <td>0</td>\n",
       "      <td>None</td>\n",
       "      <td>None</td>\n",
       "      <td>None</td>\n",
       "      <td>0</td>\n",
       "      <td>4</td>\n",
       "      <td>2008</td>\n",
       "      <td>WD</td>\n",
       "      <td>Normal</td>\n",
       "      <td>182000</td>\n",
       "    </tr>\n",
       "    <tr>\n",
       "      <th>7</th>\n",
       "      <td>1664</td>\n",
       "      <td>527402150</td>\n",
       "      <td>20</td>\n",
       "      <td>RL</td>\n",
       "      <td>NaN</td>\n",
       "      <td>10530</td>\n",
       "      <td>Pave</td>\n",
       "      <td>None</td>\n",
       "      <td>IR1</td>\n",
       "      <td>Lvl</td>\n",
       "      <td>...</td>\n",
       "      <td>0</td>\n",
       "      <td>None</td>\n",
       "      <td>None</td>\n",
       "      <td>None</td>\n",
       "      <td>0</td>\n",
       "      <td>3</td>\n",
       "      <td>2007</td>\n",
       "      <td>WD</td>\n",
       "      <td>Normal</td>\n",
       "      <td>143250</td>\n",
       "    </tr>\n",
       "    <tr>\n",
       "      <th>8</th>\n",
       "      <td>2818</td>\n",
       "      <td>908102320</td>\n",
       "      <td>20</td>\n",
       "      <td>RL</td>\n",
       "      <td>134.0</td>\n",
       "      <td>17755</td>\n",
       "      <td>Pave</td>\n",
       "      <td>None</td>\n",
       "      <td>Reg</td>\n",
       "      <td>Lvl</td>\n",
       "      <td>...</td>\n",
       "      <td>0</td>\n",
       "      <td>None</td>\n",
       "      <td>None</td>\n",
       "      <td>None</td>\n",
       "      <td>0</td>\n",
       "      <td>11</td>\n",
       "      <td>2006</td>\n",
       "      <td>WD</td>\n",
       "      <td>Normal</td>\n",
       "      <td>149900</td>\n",
       "    </tr>\n",
       "  </tbody>\n",
       "</table>\n",
       "<p>5 rows × 81 columns</p>\n",
       "</div>"
      ],
      "text/plain": [
       "   Order        PID  MS SubClass MS Zoning  Lot Frontage  Lot Area Street  \\\n",
       "0   2217  909279080           50        RL           NaN     11275   Pave   \n",
       "1    837  907126050           20        RL          65.0      9757   Pave   \n",
       "5   1140  531382090           60        RL          65.0      8453   Pave   \n",
       "7   1664  527402150           20        RL           NaN     10530   Pave   \n",
       "8   2818  908102320           20        RL         134.0     17755   Pave   \n",
       "\n",
       "  Alley Lot Shape Land Contour  ... Pool Area Pool QC Fence Misc Feature  \\\n",
       "0  None       IR1          HLS  ...         0    None  None         None   \n",
       "1  None       Reg          Low  ...         0    None  None         None   \n",
       "5  None       IR1          Lvl  ...         0    None  None         None   \n",
       "7  None       IR1          Lvl  ...         0    None  None         None   \n",
       "8  None       Reg          Lvl  ...         0    None  None         None   \n",
       "\n",
       "  Misc Val Mo Sold Yr Sold Sale Type  Sale Condition  SalePrice  \n",
       "0        0       3    2007       WD           Normal     220000  \n",
       "1        0      10    2009       WD           Normal     143000  \n",
       "5        0       4    2008       WD           Normal     182000  \n",
       "7        0       3    2007       WD           Normal     143250  \n",
       "8        0      11    2006       WD           Normal     149900  \n",
       "\n",
       "[5 rows x 81 columns]"
      ]
     },
     "execution_count": 5,
     "metadata": {},
     "output_type": "execute_result"
    }
   ],
   "source": [
    "#select sale price under the normal \n",
    "normal_condition = houses_df[houses_df['Sale Condition'] == 'Normal']\n",
    "normal_condition.dropna()\n",
    "normal_condition.head()"
   ]
  },
  {
   "cell_type": "code",
   "execution_count": 6,
   "metadata": {},
   "outputs": [
    {
     "data": {
      "text/html": [
       "<div>\n",
       "<style scoped>\n",
       "    .dataframe tbody tr th:only-of-type {\n",
       "        vertical-align: middle;\n",
       "    }\n",
       "\n",
       "    .dataframe tbody tr th {\n",
       "        vertical-align: top;\n",
       "    }\n",
       "\n",
       "    .dataframe thead th {\n",
       "        text-align: right;\n",
       "    }\n",
       "</style>\n",
       "<table border=\"1\" class=\"dataframe\">\n",
       "  <thead>\n",
       "    <tr style=\"text-align: right;\">\n",
       "      <th></th>\n",
       "      <th>Gr Liv Area</th>\n",
       "      <th>Total Bsmt SF</th>\n",
       "      <th>Year Built</th>\n",
       "      <th>SalePrice</th>\n",
       "    </tr>\n",
       "  </thead>\n",
       "  <tbody>\n",
       "    <tr>\n",
       "      <th>0</th>\n",
       "      <td>1991</td>\n",
       "      <td>854.0</td>\n",
       "      <td>1932</td>\n",
       "      <td>220000</td>\n",
       "    </tr>\n",
       "    <tr>\n",
       "      <th>1</th>\n",
       "      <td>990</td>\n",
       "      <td>990.0</td>\n",
       "      <td>1994</td>\n",
       "      <td>143000</td>\n",
       "    </tr>\n",
       "    <tr>\n",
       "      <th>5</th>\n",
       "      <td>1609</td>\n",
       "      <td>754.0</td>\n",
       "      <td>1995</td>\n",
       "      <td>182000</td>\n",
       "    </tr>\n",
       "    <tr>\n",
       "      <th>7</th>\n",
       "      <td>981</td>\n",
       "      <td>981.0</td>\n",
       "      <td>1971</td>\n",
       "      <td>143250</td>\n",
       "    </tr>\n",
       "    <tr>\n",
       "      <th>8</th>\n",
       "      <td>1466</td>\n",
       "      <td>1466.0</td>\n",
       "      <td>1959</td>\n",
       "      <td>149900</td>\n",
       "    </tr>\n",
       "  </tbody>\n",
       "</table>\n",
       "</div>"
      ],
      "text/plain": [
       "   Gr Liv Area  Total Bsmt SF  Year Built  SalePrice\n",
       "0         1991          854.0        1932     220000\n",
       "1          990          990.0        1994     143000\n",
       "5         1609          754.0        1995     182000\n",
       "7          981          981.0        1971     143250\n",
       "8         1466         1466.0        1959     149900"
      ]
     },
     "execution_count": 6,
     "metadata": {},
     "output_type": "execute_result"
    }
   ],
   "source": [
    "column_names = ['Gr Liv Area','Total Bsmt SF','Year Built','SalePrice']\n",
    "house_price = normal_condition[column_names]\n",
    "house_price.dropna()\n",
    "house_price.head()"
   ]
  },
  {
   "cell_type": "code",
   "execution_count": 7,
   "metadata": {},
   "outputs": [
    {
     "data": {
      "text/plain": [
       "Gr Liv Area      0\n",
       "Total Bsmt SF    0\n",
       "Year Built       0\n",
       "SalePrice        0\n",
       "dtype: int64"
      ]
     },
     "execution_count": 7,
     "metadata": {},
     "output_type": "execute_result"
    }
   ],
   "source": [
    "# check the bad rows have been removed\n",
    "house_price.isnull().sum()"
   ]
  },
  {
   "cell_type": "code",
   "execution_count": 8,
   "metadata": {},
   "outputs": [
    {
     "name": "stderr",
     "output_type": "stream",
     "text": [
      "/Users/apple/anaconda3/lib/python3.6/site-packages/pandas/core/frame.py:4025: SettingWithCopyWarning: \n",
      "A value is trying to be set on a copy of a slice from a DataFrame\n",
      "\n",
      "See the caveats in the documentation: http://pandas.pydata.org/pandas-docs/stable/indexing.html#indexing-view-versus-copy\n",
      "  return super(DataFrame, self).rename(**kwargs)\n"
     ]
    },
    {
     "data": {
      "text/html": [
       "<div>\n",
       "<style scoped>\n",
       "    .dataframe tbody tr th:only-of-type {\n",
       "        vertical-align: middle;\n",
       "    }\n",
       "\n",
       "    .dataframe tbody tr th {\n",
       "        vertical-align: top;\n",
       "    }\n",
       "\n",
       "    .dataframe thead th {\n",
       "        text-align: right;\n",
       "    }\n",
       "</style>\n",
       "<table border=\"1\" class=\"dataframe\">\n",
       "  <thead>\n",
       "    <tr style=\"text-align: right;\">\n",
       "      <th></th>\n",
       "      <th>Gr_Liv_Area</th>\n",
       "      <th>Total_Bsmt_SF</th>\n",
       "      <th>Building_age</th>\n",
       "      <th>SalePrice</th>\n",
       "    </tr>\n",
       "  </thead>\n",
       "  <tbody>\n",
       "    <tr>\n",
       "      <th>0</th>\n",
       "      <td>1991</td>\n",
       "      <td>854.0</td>\n",
       "      <td>1932</td>\n",
       "      <td>220000</td>\n",
       "    </tr>\n",
       "    <tr>\n",
       "      <th>1</th>\n",
       "      <td>990</td>\n",
       "      <td>990.0</td>\n",
       "      <td>1994</td>\n",
       "      <td>143000</td>\n",
       "    </tr>\n",
       "    <tr>\n",
       "      <th>5</th>\n",
       "      <td>1609</td>\n",
       "      <td>754.0</td>\n",
       "      <td>1995</td>\n",
       "      <td>182000</td>\n",
       "    </tr>\n",
       "    <tr>\n",
       "      <th>7</th>\n",
       "      <td>981</td>\n",
       "      <td>981.0</td>\n",
       "      <td>1971</td>\n",
       "      <td>143250</td>\n",
       "    </tr>\n",
       "    <tr>\n",
       "      <th>8</th>\n",
       "      <td>1466</td>\n",
       "      <td>1466.0</td>\n",
       "      <td>1959</td>\n",
       "      <td>149900</td>\n",
       "    </tr>\n",
       "  </tbody>\n",
       "</table>\n",
       "</div>"
      ],
      "text/plain": [
       "   Gr_Liv_Area  Total_Bsmt_SF  Building_age  SalePrice\n",
       "0         1991          854.0          1932     220000\n",
       "1          990          990.0          1994     143000\n",
       "5         1609          754.0          1995     182000\n",
       "7          981          981.0          1971     143250\n",
       "8         1466         1466.0          1959     149900"
      ]
     },
     "execution_count": 8,
     "metadata": {},
     "output_type": "execute_result"
    }
   ],
   "source": [
    "house_price.rename(index=str, columns={\"Gr Liv Area\": \"Gr_Liv_Area\", \"Total Bsmt SF\": \"Total_Bsmt_SF\", \"Year Built\":\"Building_age\" }, inplace=True)\n",
    "house_price.head()"
   ]
  },
  {
   "cell_type": "code",
   "execution_count": 9,
   "metadata": {},
   "outputs": [
    {
     "name": "stderr",
     "output_type": "stream",
     "text": [
      "/Users/apple/anaconda3/lib/python3.6/site-packages/ipykernel_launcher.py:4: SettingWithCopyWarning: \n",
      "A value is trying to be set on a copy of a slice from a DataFrame.\n",
      "Try using .loc[row_indexer,col_indexer] = value instead\n",
      "\n",
      "See the caveats in the documentation: http://pandas.pydata.org/pandas-docs/stable/indexing.html#indexing-view-versus-copy\n",
      "  after removing the cwd from sys.path.\n"
     ]
    },
    {
     "data": {
      "text/html": [
       "<div>\n",
       "<style scoped>\n",
       "    .dataframe tbody tr th:only-of-type {\n",
       "        vertical-align: middle;\n",
       "    }\n",
       "\n",
       "    .dataframe tbody tr th {\n",
       "        vertical-align: top;\n",
       "    }\n",
       "\n",
       "    .dataframe thead th {\n",
       "        text-align: right;\n",
       "    }\n",
       "</style>\n",
       "<table border=\"1\" class=\"dataframe\">\n",
       "  <thead>\n",
       "    <tr style=\"text-align: right;\">\n",
       "      <th></th>\n",
       "      <th>Gr_Liv_Area</th>\n",
       "      <th>Total_Bsmt_SF</th>\n",
       "      <th>Building_age</th>\n",
       "      <th>SalePrice</th>\n",
       "    </tr>\n",
       "  </thead>\n",
       "  <tbody>\n",
       "    <tr>\n",
       "      <th>0</th>\n",
       "      <td>1991</td>\n",
       "      <td>854.0</td>\n",
       "      <td>78</td>\n",
       "      <td>220000</td>\n",
       "    </tr>\n",
       "    <tr>\n",
       "      <th>1</th>\n",
       "      <td>990</td>\n",
       "      <td>990.0</td>\n",
       "      <td>16</td>\n",
       "      <td>143000</td>\n",
       "    </tr>\n",
       "    <tr>\n",
       "      <th>5</th>\n",
       "      <td>1609</td>\n",
       "      <td>754.0</td>\n",
       "      <td>15</td>\n",
       "      <td>182000</td>\n",
       "    </tr>\n",
       "    <tr>\n",
       "      <th>7</th>\n",
       "      <td>981</td>\n",
       "      <td>981.0</td>\n",
       "      <td>39</td>\n",
       "      <td>143250</td>\n",
       "    </tr>\n",
       "    <tr>\n",
       "      <th>8</th>\n",
       "      <td>1466</td>\n",
       "      <td>1466.0</td>\n",
       "      <td>51</td>\n",
       "      <td>149900</td>\n",
       "    </tr>\n",
       "  </tbody>\n",
       "</table>\n",
       "</div>"
      ],
      "text/plain": [
       "   Gr_Liv_Area  Total_Bsmt_SF  Building_age  SalePrice\n",
       "0         1991          854.0            78     220000\n",
       "1          990          990.0            16     143000\n",
       "5         1609          754.0            15     182000\n",
       "7          981          981.0            39     143250\n",
       "8         1466         1466.0            51     149900"
      ]
     },
     "execution_count": 9,
     "metadata": {},
     "output_type": "execute_result"
    }
   ],
   "source": [
    "\n",
    "# Suppose the year is 2010, then update the Year Built by calculating (2010-Year Built)\n",
    "#according to the hint we can use apply function to calculate the year\n",
    "house_price[\"Building_age\"] = house_price[\"Building_age\"].apply(lambda x : 2010-x)\n",
    "house_price.head()"
   ]
  },
  {
   "cell_type": "code",
   "execution_count": 10,
   "metadata": {},
   "outputs": [
    {
     "name": "stdout",
     "output_type": "stream",
     "text": [
      "Building_age     0.520716\n",
      "Total_Bsmt_SF    0.635165\n",
      "Gr_Liv_Area      0.740554\n",
      "SalePrice        1.000000\n",
      "Name: SalePrice, dtype: float64\n"
     ]
    }
   ],
   "source": [
    "# Find the linear correlation between variables\n",
    "house_price_correlation = house_price.corr()[\"SalePrice\"].abs().sort_values()\n",
    "print(house_price_correlation)"
   ]
  },
  {
   "cell_type": "code",
   "execution_count": 11,
   "metadata": {},
   "outputs": [
    {
     "data": {
      "image/png": "[encoded data removed]",
      "text/plain": [
       "<Figure size 432x288 with 1 Axes>"
      ]
     },
     "metadata": {
      "needs_background": "light"
     },
     "output_type": "display_data"
    }
   ],
   "source": [
    "%matplotlib inline\n",
    "y = house_price['SalePrice']\n",
    "x = house_price['Gr_Liv_Area']\n",
    "fig = plt.figure()\n",
    "plt.scatter(x,y,alpha = 0.25)\n",
    "plt.xlabel(\"The above ground living area\")\n",
    "plt.ylabel(\"Price\")\n",
    "plt.title(\"The relation above ground living area size and house sale price\")\n",
    "plt.show()"
   ]
  },
  {
   "cell_type": "code",
   "execution_count": 12,
   "metadata": {},
   "outputs": [
    {
     "data": {
      "image/png": "[encoded data removed]",
      "text/plain": [
       "<Figure size 432x288 with 1 Axes>"
      ]
     },
     "metadata": {
      "needs_background": "light"
     },
     "output_type": "display_data"
    }
   ],
   "source": [
    "%matplotlib inline\n",
    "y = house_price['SalePrice']\n",
    "x = house_price['Total_Bsmt_SF']\n",
    "fig = plt.figure()\n",
    "plt.scatter(x,y,alpha = 0.25)\n",
    "plt.xlabel(\"The basement size\")\n",
    "plt.ylabel(\"Price\")\n",
    "plt.title(\"The relation between basement size and house sale price\")\n",
    "plt.show()"
   ]
  },
  {
   "cell_type": "code",
   "execution_count": 13,
   "metadata": {},
   "outputs": [
    {
     "data": {
      "image/png": "[encoded data removed]",
      "text/plain": [
       "<Figure size 432x288 with 1 Axes>"
      ]
     },
     "metadata": {
      "needs_background": "light"
     },
     "output_type": "display_data"
    }
   ],
   "source": [
    "%matplotlib inline\n",
    "y = house_price['SalePrice']\n",
    "x = house_price['Building_age']\n",
    "fig = plt.figure()\n",
    "plt.scatter(x,y,alpha = 0.25)\n",
    "plt.xlabel(\"The building age\")\n",
    "plt.ylabel(\"Price\")\n",
    "plt.title(\"The relation between building age and house sale price\")\n",
    "plt.show()"
   ]
  },
  {
   "cell_type": "code",
   "execution_count": 14,
   "metadata": {},
   "outputs": [
    {
     "data": {
      "text/html": [
       "<div>\n",
       "<style scoped>\n",
       "    .dataframe tbody tr th:only-of-type {\n",
       "        vertical-align: middle;\n",
       "    }\n",
       "\n",
       "    .dataframe tbody tr th {\n",
       "        vertical-align: top;\n",
       "    }\n",
       "\n",
       "    .dataframe thead th {\n",
       "        text-align: right;\n",
       "    }\n",
       "</style>\n",
       "<table border=\"1\" class=\"dataframe\">\n",
       "  <thead>\n",
       "    <tr style=\"text-align: right;\">\n",
       "      <th></th>\n",
       "      <th>Gr Liv Area</th>\n",
       "      <th>Total Bsmt SF</th>\n",
       "      <th>SalePrice</th>\n",
       "    </tr>\n",
       "  </thead>\n",
       "  <tbody>\n",
       "    <tr>\n",
       "      <th>0</th>\n",
       "      <td>1991</td>\n",
       "      <td>854.0</td>\n",
       "      <td>220000</td>\n",
       "    </tr>\n",
       "    <tr>\n",
       "      <th>1</th>\n",
       "      <td>990</td>\n",
       "      <td>990.0</td>\n",
       "      <td>143000</td>\n",
       "    </tr>\n",
       "    <tr>\n",
       "      <th>5</th>\n",
       "      <td>1609</td>\n",
       "      <td>754.0</td>\n",
       "      <td>182000</td>\n",
       "    </tr>\n",
       "    <tr>\n",
       "      <th>7</th>\n",
       "      <td>981</td>\n",
       "      <td>981.0</td>\n",
       "      <td>143250</td>\n",
       "    </tr>\n",
       "    <tr>\n",
       "      <th>8</th>\n",
       "      <td>1466</td>\n",
       "      <td>1466.0</td>\n",
       "      <td>149900</td>\n",
       "    </tr>\n",
       "  </tbody>\n",
       "</table>\n",
       "</div>"
      ],
      "text/plain": [
       "   Gr Liv Area  Total Bsmt SF  SalePrice\n",
       "0         1991          854.0     220000\n",
       "1          990          990.0     143000\n",
       "5         1609          754.0     182000\n",
       "7          981          981.0     143250\n",
       "8         1466         1466.0     149900"
      ]
     },
     "execution_count": 14,
     "metadata": {},
     "output_type": "execute_result"
    }
   ],
   "source": [
    "# Q2\n",
    "column_names = ['Gr Liv Area','Total Bsmt SF','SalePrice']\n",
    "house_price2 = normal_condition[column_names]\n",
    "house_price2.dropna()\n",
    "house_price2.head()"
   ]
  },
  {
   "cell_type": "code",
   "execution_count": 15,
   "metadata": {},
   "outputs": [],
   "source": [
    "# 2 a\n",
    "from sklearn.model_selection import train_test_split\n",
    "X1 = house_price2[['Gr Liv Area','Total Bsmt SF']]\n",
    "Y1 = house_price2['SalePrice']\n",
    "X1_train, X1_test, Y1_train, Y1_test = train_test_split(X1, Y1, test_size=0.3, random_state=42)"
   ]
  },
  {
   "cell_type": "code",
   "execution_count": 16,
   "metadata": {},
   "outputs": [],
   "source": [
    "# intercept = false\n",
    "# Step 1: Initialize the model\n",
    "# This is also the place where you can specify some settings\n",
    "from sklearn.linear_model import LinearRegression\n",
    "MODEL1 = LinearRegression(fit_intercept = False)"
   ]
  },
  {
   "cell_type": "code",
   "execution_count": 17,
   "metadata": {},
   "outputs": [
    {
     "data": {
      "text/plain": [
       "LinearRegression(copy_X=True, fit_intercept=False, n_jobs=None,\n",
       "         normalize=False)"
      ]
     },
     "execution_count": 17,
     "metadata": {},
     "output_type": "execute_result"
    }
   ],
   "source": [
    "# Step 2: Fit the model\n",
    "MODEL1.fit(X1,Y1)"
   ]
  },
  {
   "cell_type": "code",
   "execution_count": 18,
   "metadata": {},
   "outputs": [
    {
     "name": "stdout",
     "output_type": "stream",
     "text": [
      "Intercept:  0.0\n",
      "Coefficients:  [76.00477469 63.96370839]\n"
     ]
    }
   ],
   "source": [
    "print('Intercept: ', MODEL1.intercept_)\n",
    "print('Coefficients: ', MODEL1.coef_)"
   ]
  },
  {
   "cell_type": "code",
   "execution_count": 19,
   "metadata": {},
   "outputs": [],
   "source": [
    "# 2 b\n",
    "X2 = house_price2[['Gr Liv Area','Total Bsmt SF']]\n",
    "Y2 = house_price2['SalePrice']\n",
    "X2_train, X2_test, Y2_train, Y2_test = train_test_split(X2, Y2, test_size=0.3, random_state=42)\n",
    "# Step 1: Initialize the model\n",
    "# This is also the place where you can specify some settings\n",
    "# intercept = True\n",
    "MODEL2 = LinearRegression(fit_intercept = True)"
   ]
  },
  {
   "cell_type": "code",
   "execution_count": 20,
   "metadata": {},
   "outputs": [
    {
     "data": {
      "text/plain": [
       "LinearRegression(copy_X=True, fit_intercept=True, n_jobs=None,\n",
       "         normalize=False)"
      ]
     },
     "execution_count": 20,
     "metadata": {},
     "output_type": "execute_result"
    }
   ],
   "source": [
    "# Step 2: Fit the model\n",
    "MODEL2.fit(X2,Y2)"
   ]
  },
  {
   "cell_type": "code",
   "execution_count": 21,
   "metadata": {},
   "outputs": [
    {
     "name": "stdout",
     "output_type": "stream",
     "text": [
      "Intercept:  -23483.645387017314\n",
      "Coefficients:  [85.65486632 71.11741445]\n"
     ]
    }
   ],
   "source": [
    "print('Intercept: ', MODEL2.intercept_)\n",
    "print('Coefficients: ', MODEL2.coef_)"
   ]
  },
  {
   "cell_type": "code",
   "execution_count": 22,
   "metadata": {},
   "outputs": [
    {
     "name": "stdout",
     "output_type": "stream",
     "text": [
      "Mean Squared Error for MODEL1: 1919623874.730\n",
      "R^2 for MODEL1: 0.656\n",
      "RMSE for MODEL1: 43813.512\n"
     ]
    }
   ],
   "source": [
    "# 2 c\n",
    "# SHOW performance of MODEL1\n",
    "# Step 3: Predict using the model\n",
    "Y1_pred = MODEL1.predict(X1_test)\n",
    "# Evaluate the model using metrics\n",
    "from sklearn.metrics import mean_squared_error\n",
    "MSE_Model1 = mean_squared_error(Y1_test,Y1_pred)# Compare the actual y_test to the prediction\n",
    "# RMSE\n",
    "RMSE_Model1 = math.sqrt(MSE_Model1)\n",
    "\n",
    "from sklearn.metrics import r2_score\n",
    "R_square1 = r2_score(Y1_test, Y1_pred)\n",
    "print(\"Mean Squared Error for MODEL1: {0:.3f}\".format(MSE_Model1))\n",
    "print(\"R^2 for MODEL1: {0:.3f}\".format(R_square1))\n",
    "print(\"RMSE for MODEL1: {0:.3f}\".format(RMSE_Model1))"
   ]
  },
  {
   "cell_type": "code",
   "execution_count": 23,
   "metadata": {},
   "outputs": [
    {
     "name": "stdout",
     "output_type": "stream",
     "text": [
      "Mean Squared Error for MODEL2: 1856417927.868\n",
      "R^2 for MODEL2: 0.668\n",
      "RMSE for MODEL2: 43086.169\n"
     ]
    }
   ],
   "source": [
    "# SHOW performance of MODEL2\n",
    "# Step 3: Predict using the model\n",
    "Y2_pred = MODEL2.predict(X2_test)\n",
    "# Evaluate the model using metrics\n",
    "# MSE\n",
    "MSE_Model2 = mean_squared_error(Y2_test, Y2_pred)# Compare the actual y_test to the prediction\n",
    "# RMSE\n",
    "RMSE_Model2 = math.sqrt(MSE_Model2)\n",
    "                        \n",
    "from sklearn.metrics import r2_score\n",
    "R_square2 = r2_score(Y2_test, Y2_pred)\n",
    "print(\"Mean Squared Error for MODEL2: {0:.3f}\".format(MSE_Model2))\n",
    "print(\"R^2 for MODEL2: {0:.3f}\".format(R_square2))\n",
    "print(\"RMSE for MODEL2: {0:.3f}\".format(RMSE_Model2))"
   ]
  },
  {
   "cell_type": "code",
   "execution_count": 24,
   "metadata": {},
   "outputs": [],
   "source": [
    "#the model2 has the smaller MSE than model1. It means that the error is smaller.\n",
    "#Also, the model2 has the larger R^2 then moedel1, which indicates the linear model with intercept fits the data better."
   ]
  },
  {
   "cell_type": "code",
   "execution_count": 25,
   "metadata": {},
   "outputs": [
    {
     "data": {
      "image/png": "[encoded data removed]",
      "text/plain": [
       "<Figure size 864x576 with 1 Axes>"
      ]
     },
     "metadata": {
      "needs_background": "light"
     },
     "output_type": "display_data"
    }
   ],
   "source": [
    "#2 d\n",
    "#choose MODEL2.residual diagnotics\n",
    "#MODLE2 has the smaller MSE and lager R^2\n",
    "\n",
    "import seaborn as sns\n",
    "residual = Y2_test - Y2_pred\n",
    "fig, ax= plt.subplots(figsize = (12, 8))\n",
    "sns.regplot(Y2_pred, residual, color = 'red', scatter_kws={'s' : 50}) \n",
    "ax.set_ylabel('Residuals')\n",
    "ax.set_xlabel('Fitted values')\n",
    "ax.set_title(\"Fitted values against residuals\")\n",
    "sns.despine()\n",
    "plt.show()"
   ]
  },
  {
   "cell_type": "code",
   "execution_count": 26,
   "metadata": {},
   "outputs": [
    {
     "data": {
      "image/png": "[encoded data removed]",
      "text/plain": [
       "<Figure size 864x576 with 1 Axes>"
      ]
     },
     "metadata": {
      "needs_background": "light"
     },
     "output_type": "display_data"
    }
   ],
   "source": [
    "fig, ax= plt.subplots(figsize = (12, 8))\n",
    "sns.regplot(Y2_pred, residual**2, color = 'red',scatter_kws={'s' : 50}) \n",
    "ax.set_ylabel('Squared Residuals')\n",
    "ax.set_xlabel('Fitted values')\n",
    "ax.set_title(\"Fitted values against squared residuals\")\n",
    "sns.despine()\n",
    "plt.show()"
   ]
  },
  {
   "cell_type": "code",
   "execution_count": 27,
   "metadata": {},
   "outputs": [
    {
     "ename": "ModuleNotFoundError",
     "evalue": "No module named 'statlearning'",
     "output_type": "error",
     "traceback": [
      "\u001b[0;31m---------------------------------------------------------------------------\u001b[0m",
      "\u001b[0;31mModuleNotFoundError\u001b[0m                       Traceback (most recent call last)",
      "\u001b[0;32m<ipython-input-27-6cf660be36c7>\u001b[0m in \u001b[0;36m<module>\u001b[0;34m\u001b[0m\n\u001b[1;32m      1\u001b[0m \u001b[0;31m#Q3\u001b[0m\u001b[0;34m\u001b[0m\u001b[0;34m\u001b[0m\u001b[0;34m\u001b[0m\u001b[0m\n\u001b[0;32m----> 2\u001b[0;31m \u001b[0;32mfrom\u001b[0m \u001b[0mstatlearning\u001b[0m \u001b[0;32mimport\u001b[0m \u001b[0mplot_histogram\u001b[0m\u001b[0;34m\u001b[0m\u001b[0;34m\u001b[0m\u001b[0m\n\u001b[0m\u001b[1;32m      3\u001b[0m \u001b[0mfix\u001b[0m\u001b[0;34m,\u001b[0m\u001b[0max\u001b[0m \u001b[0;34m=\u001b[0m \u001b[0mplot_histogram\u001b[0m\u001b[0;34m(\u001b[0m\u001b[0mhouse_price2\u001b[0m\u001b[0;34m[\u001b[0m\u001b[0;34m'SalePrice'\u001b[0m\u001b[0;34m]\u001b[0m\u001b[0;34m)\u001b[0m\u001b[0;34m\u001b[0m\u001b[0;34m\u001b[0m\u001b[0m\n\u001b[1;32m      4\u001b[0m \u001b[0;34m\u001b[0m\u001b[0m\n\u001b[1;32m      5\u001b[0m \u001b[0max\u001b[0m\u001b[0;34m.\u001b[0m\u001b[0mset_title\u001b[0m\u001b[0;34m(\u001b[0m\u001b[0;34m'Distribution plot for House Saleprice'\u001b[0m\u001b[0;34m)\u001b[0m\u001b[0;34m\u001b[0m\u001b[0;34m\u001b[0m\u001b[0m\n",
      "\u001b[0;31mModuleNotFoundError\u001b[0m: No module named 'statlearning'"
     ]
    }
   ],
   "source": [
    "#Q3\n",
    "from statlearning import plot_histogram\n",
    "import sta\n",
    "fix,ax = plot_histogram(house_price2['SalePrice'])\n",
    "\n",
    "ax.set_title('Distribution plot for House Saleprice')"
   ]
  },
  {
   "cell_type": "code",
   "execution_count": null,
   "metadata": {},
   "outputs": [],
   "source": [
    "house_price3 = normal_condition\n",
    "house_price3.corr()"
   ]
  },
  {
   "cell_type": "code",
   "execution_count": null,
   "metadata": {},
   "outputs": [],
   "source": [
    "column_names = ['Gr Liv Area','Year Built','Total Bsmt SF','Garage Area','SalePrice']\n",
    "house_price_new = house_price3[column_names]\n",
    "house_price_new.dropna()\n",
    "house_price_new.head()"
   ]
  },
  {
   "cell_type": "code",
   "execution_count": null,
   "metadata": {},
   "outputs": [],
   "source": [
    "house_price_new.rename(index=str, columns={\"Gr Liv Area\": \"Gr_Liv_Area\", \"Total Bsmt SF\": \"Total_Bsmt_SF\", \"Year Built\":\"Building_age\",\"Garage Area\":\"Garage_Area\"}, inplace=True)\n",
    "house_price_new\n"
   ]
  },
  {
   "cell_type": "code",
   "execution_count": null,
   "metadata": {},
   "outputs": [],
   "source": [
    "house_price_new[\"Building_age\"] = house_price_new[\"Building_age\"].apply(lambda x : 2010-x)\n",
    "house_price_new.head()"
   ]
  },
  {
   "cell_type": "code",
   "execution_count": null,
   "metadata": {},
   "outputs": [],
   "source": [
    "#test 1\n",
    "import statsmodels.formula.api as smf\n",
    "\n",
    "formula=\"SalePrice ~ Gr_Liv_Area + Total_Bsmt_SF\"\n",
    "ols1 = smf.ols(formula=formula, data=house_price_new).fit()\n",
    "print(ols1.summary())\n"
   ]
  },
  {
   "cell_type": "code",
   "execution_count": null,
   "metadata": {},
   "outputs": [],
   "source": [
    "#test2 \n",
    "import statsmodels.formula.api as smf\n",
    "\n",
    "formula=\"SalePrice ~ Gr_Liv_Area + Total_Bsmt_SF + Building_age\"\n",
    "ols2 = smf.ols(formula=formula, data=house_price_new).fit()\n",
    "print(ols2.summary())"
   ]
  },
  {
   "cell_type": "code",
   "execution_count": null,
   "metadata": {},
   "outputs": [],
   "source": [
    "#test3\n",
    "import statsmodels.formula.api as smf\n",
    "\n",
    "formula=\"SalePrice ~ Gr_Liv_Area + Total_Bsmt_SF + Building_age+ Garage_Area\"\n",
    "ols = smf.ols(formula=formula, data=house_price_new).fit()\n",
    "print(ols1.summary())"
   ]
  },
  {
   "cell_type": "code",
   "execution_count": null,
   "metadata": {},
   "outputs": [],
   "source": [
    "# test4\n",
    "import statsmodels.formula.api as smf\n",
    "\n",
    "formula=\"np.log(SalePrice) ~ np.log(Gr_Liv_Area) + Total_Bsmt_SF + Building_age\"\n",
    "ols4 = smf.ols(formula=formula, data=house_price_new).fit()\n",
    "print(ols4.summary())"
   ]
  },
  {
   "cell_type": "code",
   "execution_count": null,
   "metadata": {},
   "outputs": [],
   "source": [
    "column_names_log = ['Gr Liv Area','Year Built','Total Bsmt SF','Garage Area','SalePrice']\n",
    "house_price_log = house_price3[column_names_log]\n",
    "house_price_log.dropna()\n",
    "house_price_log.head()"
   ]
  },
  {
   "cell_type": "code",
   "execution_count": null,
   "metadata": {},
   "outputs": [],
   "source": [
    "house_price_log.rename(index=str, columns={\"Gr Liv Area\": \"log_Gr_Liv_Area\", \"Total Bsmt SF\": \"Total_Bsmt_SF\", \"Year Built\":\"Building_age\",\"Garage Area\":\"Garage_Area\",\"SalePrice\":\"log_SalePrice\"}, inplace=True)\n",
    "house_price_log.head()"
   ]
  },
  {
   "cell_type": "code",
   "execution_count": null,
   "metadata": {},
   "outputs": [],
   "source": [
    "house_price_log[\"Building_age\"] = house_price_log[\"Building_age\"].apply(lambda x : 2010-x)\n",
    "house_price_log[\"log_Gr_Liv_Area\"] = house_price_log[\"log_Gr_Liv_Area\"].apply(lambda x : np.log(x))\n",
    "house_price_log[\"log_SalePrice\"] = house_price_log[\"log_SalePrice\"].apply(lambda x : np.log(x))\n",
    "house_price_log"
   ]
  },
  {
   "cell_type": "code",
   "execution_count": null,
   "metadata": {},
   "outputs": [],
   "source": [
    "# performance of log model\n",
    "from sklearn.model_selection import train_test_split\n",
    "X_log = house_price_log[['log_Gr_Liv_Area','Total_Bsmt_SF','Building_age' ]]\n",
    "Y_log = house_price_log['log_SalePrice']\n",
    "X_log_train, X_log_test, Y_log_train, Y_log_test = train_test_split(X_log, Y_log, test_size=0.3, random_state=42)"
   ]
  },
  {
   "cell_type": "code",
   "execution_count": null,
   "metadata": {},
   "outputs": [],
   "source": [
    "# intercept = false\n",
    "# Step 1: Initialize the model\n",
    "# This is also the place where you can specify some settings\n",
    "\n",
    "log_model = LinearRegression(fit_intercept = True)"
   ]
  },
  {
   "cell_type": "code",
   "execution_count": null,
   "metadata": {},
   "outputs": [],
   "source": [
    "# Step 2: Fit the model\n",
    "log_model.fit(X_log,Y_log)"
   ]
  },
  {
   "cell_type": "code",
   "execution_count": null,
   "metadata": {},
   "outputs": [],
   "source": [
    "print('Intercept: ', log_model.intercept_)\n",
    "print('Coefficients: ', log_model.coef_)"
   ]
  },
  {
   "cell_type": "code",
   "execution_count": null,
   "metadata": {},
   "outputs": [],
   "source": [
    "# SHOW performance of new moddel\n",
    "# Step 3: Predict using the model\n",
    "Y_log_pred = log_model.predict(X_log_test)\n",
    "# Evaluate the model using metrics\n",
    "# MSE\n",
    "MSE_log_Model = mean_squared_error(Y_log_test, Y_log_pred)# Compare the actual y_test to the prediction\n",
    "# RMSE\n",
    "RMSE_log_Model = math.sqrt(MSE_log_Model)\n",
    "                        \n",
    "from sklearn.metrics import r2_score\n",
    "R_square_log = r2_score(Y_log_test, Y_log_pred)\n",
    "print(\"Mean Squared Error for MODEL2: {0:.3f}\".format(MSE_log_Model))\n",
    "print(\"R^2 for log_model: {0:.3f}\".format(R_square_log))\n",
    "print(\"RMSE for log_model: {0:.3f}\".format(RMSE_log_Model))"
   ]
  },
  {
   "cell_type": "code",
   "execution_count": null,
   "metadata": {},
   "outputs": [],
   "source": [
    "fig, ax= plt.subplots(figsize = (12, 8))\n",
    "sns.regplot(ols4.fittedvalues, ols4.resid, scatter_kws={'s' : 25}) \n",
    "ax.set_ylabel('Residuals')\n",
    "ax.set_xlabel('Fitted values')\n",
    "ax.set_ylabel('Squared Residuals')\n",
    "ax.set_xlabel('Fitted values')\n",
    "ax.set_title(\"Fitted values against residuals in new model\")\n",
    "sns.despine()\n",
    "plt.show()"
   ]
  },
  {
   "cell_type": "code",
   "execution_count": null,
   "metadata": {},
   "outputs": [],
   "source": [
    "fig, ax= plt.subplots(figsize = (12, 8))\n",
    "sns.regplot(ols4.fittedvalues, ols4.resid**2, scatter_kws={'s' : 25}) \n",
    "ax.set_ylabel('Residuals')\n",
    "ax.set_xlabel('Fitted values')\n",
    "ax.set_ylabel('Squared Residuals')\n",
    "ax.set_xlabel('Fitted values')\n",
    "ax.set_title(\"Fitted values against squared residuals in new model\")\n",
    "sns.despine()\n",
    "plt.show()"
   ]
  },
  {
   "cell_type": "code",
   "execution_count": null,
   "metadata": {},
   "outputs": [],
   "source": []
  }
 ],
 "metadata": {
  "kernelspec": {
   "display_name": "Python 3",
   "language": "python",
   "name": "python3"
  },
  "language_info": {
   "codemirror_mode": {
    "name": "ipython",
    "version": 3
   },
   "file_extension": ".py",
   "mimetype": "text/x-python",
   "name": "python",
   "nbconvert_exporter": "python",
   "pygments_lexer": "ipython3",
   "version": "3.6.8"
  }
 },
 "nbformat": 4,
 "nbformat_minor": 2
}
