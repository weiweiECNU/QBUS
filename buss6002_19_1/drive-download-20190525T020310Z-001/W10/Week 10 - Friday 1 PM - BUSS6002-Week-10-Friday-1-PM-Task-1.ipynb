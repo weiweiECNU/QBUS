{
 "cells": [
  {
   "cell_type": "markdown",
   "metadata": {},
   "source": [
    "# BUSS6002 Week 10: Task 1"
   ]
  },
  {
   "cell_type": "code",
   "execution_count": 1,
   "metadata": {},
   "outputs": [
    {
     "name": "stderr",
     "output_type": "stream",
     "text": [
      "C:\\Program Files\\Anaconda3-5.0.1x64\\lib\\site-packages\\IPython\\core\\interactiveshell.py:2698: DtypeWarning: Columns (10,22) have mixed types. Specify dtype option on import or set low_memory=False.\n",
      "  interactivity=interactivity, compiler=compiler, result=result)\n"
     ]
    },
    {
     "data": {
      "text/html": [
       "<div>\n",
       "<style>\n",
       "    .dataframe thead tr:only-child th {\n",
       "        text-align: right;\n",
       "    }\n",
       "\n",
       "    .dataframe thead th {\n",
       "        text-align: left;\n",
       "    }\n",
       "\n",
       "    .dataframe tbody tr th {\n",
       "        vertical-align: top;\n",
       "    }\n",
       "</style>\n",
       "<table border=\"1\" class=\"dataframe\">\n",
       "  <thead>\n",
       "    <tr style=\"text-align: right;\">\n",
       "      <th></th>\n",
       "      <th>Distance</th>\n",
       "      <th>Delayed</th>\n",
       "    </tr>\n",
       "  </thead>\n",
       "  <tbody>\n",
       "    <tr>\n",
       "      <th>0</th>\n",
       "      <td>308.0</td>\n",
       "      <td>0</td>\n",
       "    </tr>\n",
       "    <tr>\n",
       "      <th>1</th>\n",
       "      <td>296.0</td>\n",
       "      <td>0</td>\n",
       "    </tr>\n",
       "    <tr>\n",
       "      <th>2</th>\n",
       "      <td>480.0</td>\n",
       "      <td>1</td>\n",
       "    </tr>\n",
       "    <tr>\n",
       "      <th>3</th>\n",
       "      <td>296.0</td>\n",
       "      <td>0</td>\n",
       "    </tr>\n",
       "    <tr>\n",
       "      <th>4</th>\n",
       "      <td>373.0</td>\n",
       "      <td>0</td>\n",
       "    </tr>\n",
       "  </tbody>\n",
       "</table>\n",
       "</div>"
      ],
      "text/plain": [
       "   Distance  Delayed\n",
       "0     308.0        0\n",
       "1     296.0        0\n",
       "2     480.0        1\n",
       "3     296.0        0\n",
       "4     373.0        0"
      ]
     },
     "execution_count": 1,
     "metadata": {},
     "output_type": "execute_result"
    }
   ],
   "source": [
    "import pandas as pd\n",
    "\n",
    "# Load in data\n",
    "airline = pd.read_csv('airline_small.csv', encoding='ISO-8859-1')\n",
    "\n",
    "# Convert the minutes of delay into either a \"delay\" (1) or \"not delay\" (0)\n",
    "airline['Delayed'] = (airline['ArrDelay'] > 20).astype(int)\n",
    "\n",
    "# Just grab these two columns: Distance is the feature, and Delayed is the target\n",
    "sub_airline = airline[['Distance', 'Delayed']]\n",
    "# Drop any rows with missing data\n",
    "sub_airline = sub_airline.dropna()\n",
    "\n",
    "sub_airline.head()"
   ]
  },
  {
   "cell_type": "markdown",
   "metadata": {},
   "source": [
    "# Create our Mapper and Reduce functions"
   ]
  },
  {
   "cell_type": "code",
   "execution_count": 5,
   "metadata": {
    "collapsed": true
   },
   "outputs": [],
   "source": [
    "import pandas as pd\n",
    "import numpy as np\n",
    "from sklearn.linear_model import LogisticRegression\n",
    "\n",
    "# Again, every map function is applied just on a chunk of data\n",
    "# In this map function, we will try to calculate the X^T X and X^T y for that chunk\n",
    "def map_linear_fn(chunk):\n",
    "    # Get the dependant variable y\n",
    "    y = chunk['Delayed'].values\n",
    "\n",
    "    # Get the independant/feature variables\n",
    "    # which is everything except the price column\n",
    "    x = chunk['Distance'].values.reshape(-1, 1)\n",
    "\n",
    "    # Initialize our model\n",
    "    model = LogisticRegression()\n",
    "    \n",
    "    # Fit your model\n",
    "    model.fit(x, y)\n",
    "    \n",
    "    # Grab the actual parameters\n",
    "    parameters = np.append(np.array(model.intercept_), model.coef_)\n",
    "    \n",
    "    # Yield the result\n",
    "    yield(\"result\", parameters)\n",
    "\n",
    "# The reduce function should add up all the X^T X and all the X^T y separately,\n",
    "# and then, it should do the final (X^T X)^{-1} X^T y calculation for the linear regression weights\n",
    "def reduce_linear_fn(key, values):\n",
    "\n",
    "    # Store all the resulting parameters from each map worker into a list\n",
    "    parameter_list = []\n",
    "    for parameter in values:\n",
    "        parameter_list.append(np.array(parameter))\n",
    "        \n",
    "    # Average all the parameters (over axis 0 which is over the chunks)\n",
    "    average_parameter = np.mean(parameter_list, axis=0)\n",
    "\n",
    "    yield (key, average_parameter)"
   ]
  },
  {
   "cell_type": "code",
   "execution_count": 9,
   "metadata": {},
   "outputs": [
    {
     "name": "stdout",
     "output_type": "stream",
     "text": [
      "[('result', array([-1.80855714e+00,  1.39461583e-04]))]\n"
     ]
    }
   ],
   "source": [
    "from mockr import run_pandas_job\n",
    "\n",
    "results = run_pandas_job(sub_airline, map_linear_fn, reduce_linear_fn, n_chunks=2)\n",
    "\n",
    "print(results)"
   ]
  }
 ],
 "metadata": {
  "kernelspec": {
   "display_name": "Python 3",
   "language": "python",
   "name": "python3"
  },
  "language_info": {
   "codemirror_mode": {
    "name": "ipython",
    "version": 3
   },
   "file_extension": ".py",
   "mimetype": "text/x-python",
   "name": "python",
   "nbconvert_exporter": "python",
   "pygments_lexer": "ipython3",
   "version": "3.6.3"
  }
 },
 "nbformat": 4,
 "nbformat_minor": 2
}
