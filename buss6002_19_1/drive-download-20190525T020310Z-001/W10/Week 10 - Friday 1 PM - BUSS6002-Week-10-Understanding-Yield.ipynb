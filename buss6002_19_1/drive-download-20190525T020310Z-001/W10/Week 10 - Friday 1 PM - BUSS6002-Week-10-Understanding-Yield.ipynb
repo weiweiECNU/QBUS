{
 "cells": [
  {
   "cell_type": "markdown",
   "metadata": {},
   "source": [
    "# BUSS6002 Week 10: Understanding Yield"
   ]
  },
  {
   "cell_type": "markdown",
   "metadata": {},
   "source": [
    "Let's say the task is to take a number (for example, 1000), and add up every number up to that number (e.g. 0 + 1 + 2 + 3 + ... + 999).\n",
    "\n",
    "There are two ways you can do this: Using a list and do return, or using a generator and do yield."
   ]
  },
  {
   "cell_type": "code",
   "execution_count": 16,
   "metadata": {
    "collapsed": true
   },
   "outputs": [],
   "source": [
    "# Here is the traditional way with using a list and doing return\n",
    "def firstn(n):\n",
    "    \n",
    "    # Initialize your number to 0\n",
    "    num = 0\n",
    "    \n",
    "    # Initialize a list to store all your numbers\n",
    "    my_list = []\n",
    "    \n",
    "    # While your number is still less than n\n",
    "    while num < n:\n",
    "\n",
    "        # SAY HI\n",
    "        print(\"hi\")\n",
    "        \n",
    "        # Append the number to the list\n",
    "        my_list.append(num)\n",
    "        \n",
    "        # Increase the number by 1\n",
    "        num += 1\n",
    "        \n",
    "    # Return the list\n",
    "    return my_list"
   ]
  },
  {
   "cell_type": "code",
   "execution_count": 10,
   "metadata": {},
   "outputs": [
    {
     "data": {
      "text/plain": [
       "[0, 1, 2, 3, 4, 5, 6, 7, 8, 9]"
      ]
     },
     "execution_count": 10,
     "metadata": {},
     "output_type": "execute_result"
    }
   ],
   "source": [
    "firstn(10)"
   ]
  },
  {
   "cell_type": "code",
   "execution_count": 11,
   "metadata": {},
   "outputs": [
    {
     "data": {
      "text/plain": [
       "45"
      ]
     },
     "execution_count": 11,
     "metadata": {},
     "output_type": "execute_result"
    }
   ],
   "source": [
    "sum(firstn(10))"
   ]
  },
  {
   "cell_type": "code",
   "execution_count": 17,
   "metadata": {},
   "outputs": [
    {
     "name": "stdout",
     "output_type": "stream",
     "text": [
      "hi\n",
      "hi\n",
      "hi\n",
      "hi\n",
      "hi\n",
      "hi\n",
      "hi\n",
      "hi\n",
      "hi\n",
      "hi\n",
      "0\n",
      "1\n",
      "2\n",
      "3\n",
      "4\n",
      "5\n",
      "6\n",
      "7\n",
      "8\n",
      "9\n"
     ]
    }
   ],
   "source": [
    "for i in firstn(10):\n",
    "    print(i)"
   ]
  },
  {
   "cell_type": "markdown",
   "metadata": {},
   "source": [
    "The problem is if you have a lot of numbers, you will need to store them ALL at once in a list, and then add them together."
   ]
  },
  {
   "cell_type": "markdown",
   "metadata": {},
   "source": [
    "Instead, you can create them using a generator and yield them. The numbers will only be computed when it is required and used, and once it is used, it will be DESTROYED (save on memory and also avoids being used twice)."
   ]
  },
  {
   "cell_type": "code",
   "execution_count": 18,
   "metadata": {
    "collapsed": true
   },
   "outputs": [],
   "source": [
    "# This is the more memory efficent way where you use generators and yield\n",
    "def firstn(n):\n",
    "    \n",
    "    # Initialize the number\n",
    "    num = 0\n",
    "    \n",
    "    # Keep going as long as the number is below n\n",
    "    while num < n:\n",
    "        \n",
    "        # SAY HI\n",
    "        print('hi')\n",
    "        \n",
    "        # Yield the number: Return the number whenever it is needed and destroy it right after\n",
    "        yield num\n",
    "        \n",
    "        # Increase the number by 1\n",
    "        num += 1"
   ]
  },
  {
   "cell_type": "code",
   "execution_count": 14,
   "metadata": {},
   "outputs": [
    {
     "data": {
      "text/plain": [
       "<generator object firstn at 0x000001CBCA0C77D8>"
      ]
     },
     "execution_count": 14,
     "metadata": {},
     "output_type": "execute_result"
    }
   ],
   "source": [
    "# Note that when you look at the result from yield, it only says it is a generator object, and it does not show you all the numbers\n",
    "# This is because it does not pre-compute your numbers UNLESS you use them (apply a reduce)\n",
    "firstn(10)"
   ]
  },
  {
   "cell_type": "code",
   "execution_count": 15,
   "metadata": {},
   "outputs": [
    {
     "data": {
      "text/plain": [
       "45"
      ]
     },
     "execution_count": 15,
     "metadata": {},
     "output_type": "execute_result"
    }
   ],
   "source": [
    "sum(firstn(10))"
   ]
  },
  {
   "cell_type": "code",
   "execution_count": 19,
   "metadata": {},
   "outputs": [
    {
     "name": "stdout",
     "output_type": "stream",
     "text": [
      "hi\n",
      "0\n",
      "hi\n",
      "1\n",
      "hi\n",
      "2\n",
      "hi\n",
      "3\n",
      "hi\n",
      "4\n",
      "hi\n",
      "5\n",
      "hi\n",
      "6\n",
      "hi\n",
      "7\n",
      "hi\n",
      "8\n",
      "hi\n",
      "9\n"
     ]
    }
   ],
   "source": [
    "for i in firstn(10):\n",
    "    print(i)"
   ]
  }
 ],
 "metadata": {
  "kernelspec": {
   "display_name": "Python 3",
   "language": "python",
   "name": "python3"
  },
  "language_info": {
   "codemirror_mode": {
    "name": "ipython",
    "version": 3
   },
   "file_extension": ".py",
   "mimetype": "text/x-python",
   "name": "python",
   "nbconvert_exporter": "python",
   "pygments_lexer": "ipython3",
   "version": "3.6.3"
  }
 },
 "nbformat": 4,
 "nbformat_minor": 2
}
